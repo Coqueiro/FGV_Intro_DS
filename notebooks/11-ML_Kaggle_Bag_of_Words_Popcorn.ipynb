{
 "cells": [
  {
   "cell_type": "markdown",
   "metadata": {},
   "source": [
    "## Introduction to Data Science\n",
    "\n",
    "### Predictive Analysis - Textual data"
   ]
  },
  {
   "cell_type": "markdown",
   "metadata": {},
   "source": [
    "#### Text Vectorization Techniques\n",
    "#### Bag Of Words, Topic Modeling and Word2vec"
   ]
  },
  {
   "cell_type": "markdown",
   "metadata": {},
   "source": [
    "https://www.kaggle.com/c/word2vec-nlp-tutorial  \n",
    "https://github.com/wendykan/DeepLearningMovies  \n",
    "http://fastml.com/classifying-text-with-bag-of-words-a-tutorial/  \n",
    "\n",
    "\n",
    "In this tutorial competition, we dig a little \"deeper\" into sentiment analysis. Google's Word2Vec is a deep-learning inspired method that focuses on the meaning of words. Word2Vec attempts to understand meaning and semantic relationships among words. It works in a way that is similar to deep approaches, such as recurrent neural nets or deep neural nets, but is computationally more efficient. This tutorial focuses on Word2Vec for sentiment analysis.\n",
    "\n",
    "Sentiment analysis is a challenging subject in machine learning. People express their emotions in language that is often obscured by sarcasm, ambiguity, and plays on words, all of which could be very misleading for both humans and computers. There's another Kaggle competition for movie review sentiment analysis. In this tutorial we explore how Word2Vec can be applied to a similar problem.\n",
    "\n",
    "Deep learning has been in the news a lot over the past few years, even making it to the front page of the New York Times. These machine learning techniques, inspired by the architecture of the human brain and made possible by recent advances in computing power, have been making waves via breakthrough results in image recognition, speech processing, and natural language tasks. Recently, deep learning approaches won several Kaggle competitions, including a drug discovery task, and cat and dog image recognition."
   ]
  },
  {
   "cell_type": "markdown",
   "metadata": {},
   "source": [
    "#### Let's charge the batteries for our analysis..."
   ]
  },
  {
   "cell_type": "code",
   "execution_count": 1,
   "metadata": {},
   "outputs": [],
   "source": [
    "import os\n",
    "import sys\n",
    "import time\n",
    "import pickle\n",
    "from zipfile import ZipFile\n",
    "\n",
    "import string\n",
    "import re\n",
    "\n",
    "import logging\n",
    "import warnings\n",
    "\n",
    "import pandas as pd\n",
    "import numpy as np\n",
    "import pylab\n",
    "import matplotlib\n",
    "import matplotlib.pyplot as plt\n",
    "from matplotlib.font_manager import FontProperties\n",
    "\n",
    "import nltk\n",
    "import nltk.data\n",
    "from nltk.corpus import stopwords\n",
    "from nltk import word_tokenize\n",
    "from nltk.stem.porter import PorterStemmer\n",
    "\n",
    "from sklearn import model_selection\n",
    "from sklearn.feature_extraction.text import CountVectorizer\n",
    "from sklearn.feature_extraction.text import TfidfVectorizer \n",
    "from sklearn.cluster import KMeans\n",
    "from sklearn.metrics import roc_auc_score as AUC\n",
    "\n",
    "import gensim\n",
    "from gensim import corpora\n",
    "from gensim import models\n",
    "from gensim import similarities\n",
    "from gensim.models import Word2Vec\n",
    "\n",
    "from bs4 import BeautifulSoup\n",
    "\n",
    "%matplotlib inline"
   ]
  },
  {
   "cell_type": "code",
   "execution_count": 2,
   "metadata": {},
   "outputs": [],
   "source": [
    "warnings.filterwarnings('ignore')\n",
    "\n",
    "#logging.basicConfig(format='%(asctime)s : %(levelname)s : %(message)s', level=logging.INFO)"
   ]
  },
  {
   "cell_type": "markdown",
   "metadata": {},
   "source": [
    "Data Set  \n",
    "--\n",
    "\n",
    "The labeled data set consists of 50,000 IMDB movie reviews, specially selected for sentiment analysis. The sentiment of reviews is binary, meaning the IMDB rating < 5 results in a sentiment score of 0, and rating >=7 have a sentiment score of 1. No individual movie has more than 30 reviews. The 25,000 review labeled training set does not include any of the same movies as the 25,000 review test set. In addition, there are another 50,000 IMDB reviews provided without any rating labels.\n",
    "\n",
    "File descriptions\n",
    "\n",
    "labeledTrainData - The labeled training set. The file is tab-delimited and has a header row followed by 25,000 rows containing an id, sentiment, and text for each review.  \n",
    "\n",
    "testData - The test set. The tab-delimited file has a header row followed by 25,000 rows containing an id and text for each review. Your task is to predict the sentiment for each one. \n",
    "\n",
    "unlabeledTrainData - An extra training set with no labels. The tab-delimited file has a header row followed by 50,000 rows containing an id and text for each review. \n",
    "\n",
    "sampleSubmission - A comma-delimited sample submission file in the correct format.\n",
    "Data fields\n",
    "\n",
    "id - Unique ID of each review  \n",
    "sentiment - Sentiment of the review; 1 for positive reviews and 0 for negative reviews  \n",
    "review - Text of the review  "
   ]
  },
  {
   "cell_type": "markdown",
   "metadata": {},
   "source": [
    "Loading the dataset:  \n",
    "--"
   ]
  },
  {
   "cell_type": "code",
   "execution_count": 3,
   "metadata": {},
   "outputs": [],
   "source": [
    "datapath = \"../datasets/Kaggle/BOWPopcorn/\"\n",
    "outputs = \"../outputs/\""
   ]
  },
  {
   "cell_type": "code",
   "execution_count": 4,
   "metadata": {},
   "outputs": [],
   "source": [
    "train = pd.read_csv(os.path.join(datapath, 'BOW_labeledTrainData.tsv'), header=0, delimiter=\"\\t\", quoting=3)\n",
    "test = pd.read_csv(os.path.join(datapath, 'BOW_testData.tsv'), header=0, delimiter=\"\\t\", quoting=3)\n",
    "unlabeled_train = pd.read_csv(os.path.join(datapath, \"BOW_unlabeledTrainData.tsv\"), header=0, delimiter=\"\\t\", quoting=3)"
   ]
  },
  {
   "cell_type": "code",
   "execution_count": 5,
   "metadata": {},
   "outputs": [
    {
     "name": "stdout",
     "output_type": "stream",
     "text": [
      "Read 25000 labeled train reviews, 25000 labeled test reviews, and 50000 unlabeled reviews\n",
      "\n"
     ]
    }
   ],
   "source": [
    "print(\"Read {} labeled train reviews, \\\n",
    "{} labeled test reviews, and \\\n",
    "{} unlabeled reviews\\n\".format(train[\"review\"].size,\n",
    "                               test[\"review\"].size,\n",
    "                               unlabeled_train[\"review\"].size))"
   ]
  },
  {
   "cell_type": "code",
   "execution_count": 6,
   "metadata": {},
   "outputs": [
    {
     "data": {
      "text/html": [
       "<div>\n",
       "<style scoped>\n",
       "    .dataframe tbody tr th:only-of-type {\n",
       "        vertical-align: middle;\n",
       "    }\n",
       "\n",
       "    .dataframe tbody tr th {\n",
       "        vertical-align: top;\n",
       "    }\n",
       "\n",
       "    .dataframe thead th {\n",
       "        text-align: right;\n",
       "    }\n",
       "</style>\n",
       "<table border=\"1\" class=\"dataframe\">\n",
       "  <thead>\n",
       "    <tr style=\"text-align: right;\">\n",
       "      <th></th>\n",
       "      <th>id</th>\n",
       "      <th>sentiment</th>\n",
       "      <th>review</th>\n",
       "    </tr>\n",
       "  </thead>\n",
       "  <tbody>\n",
       "    <tr>\n",
       "      <th>0</th>\n",
       "      <td>\"5814_8\"</td>\n",
       "      <td>1</td>\n",
       "      <td>\"With all this stuff going down at the moment ...</td>\n",
       "    </tr>\n",
       "    <tr>\n",
       "      <th>1</th>\n",
       "      <td>\"2381_9\"</td>\n",
       "      <td>1</td>\n",
       "      <td>\"\\\"The Classic War of the Worlds\\\" by Timothy ...</td>\n",
       "    </tr>\n",
       "    <tr>\n",
       "      <th>2</th>\n",
       "      <td>\"7759_3\"</td>\n",
       "      <td>0</td>\n",
       "      <td>\"The film starts with a manager (Nicholas Bell...</td>\n",
       "    </tr>\n",
       "    <tr>\n",
       "      <th>3</th>\n",
       "      <td>\"3630_4\"</td>\n",
       "      <td>0</td>\n",
       "      <td>\"It must be assumed that those who praised thi...</td>\n",
       "    </tr>\n",
       "    <tr>\n",
       "      <th>4</th>\n",
       "      <td>\"9495_8\"</td>\n",
       "      <td>1</td>\n",
       "      <td>\"Superbly trashy and wondrously unpretentious ...</td>\n",
       "    </tr>\n",
       "  </tbody>\n",
       "</table>\n",
       "</div>"
      ],
      "text/plain": [
       "         id  sentiment                                             review\n",
       "0  \"5814_8\"          1  \"With all this stuff going down at the moment ...\n",
       "1  \"2381_9\"          1  \"\\\"The Classic War of the Worlds\\\" by Timothy ...\n",
       "2  \"7759_3\"          0  \"The film starts with a manager (Nicholas Bell...\n",
       "3  \"3630_4\"          0  \"It must be assumed that those who praised thi...\n",
       "4  \"9495_8\"          1  \"Superbly trashy and wondrously unpretentious ..."
      ]
     },
     "execution_count": 6,
     "metadata": {},
     "output_type": "execute_result"
    }
   ],
   "source": [
    "train.head()"
   ]
  },
  {
   "cell_type": "code",
   "execution_count": 7,
   "metadata": {},
   "outputs": [
    {
     "name": "stdout",
     "output_type": "stream",
     "text": [
      "<class 'pandas.core.frame.DataFrame'>\n",
      "RangeIndex: 25000 entries, 0 to 24999\n",
      "Data columns (total 3 columns):\n",
      "id           25000 non-null object\n",
      "sentiment    25000 non-null int64\n",
      "review       25000 non-null object\n",
      "dtypes: int64(1), object(2)\n",
      "memory usage: 586.0+ KB\n"
     ]
    }
   ],
   "source": [
    "train.info()"
   ]
  },
  {
   "cell_type": "code",
   "execution_count": 8,
   "metadata": {},
   "outputs": [
    {
     "data": {
      "text/html": [
       "<div>\n",
       "<style scoped>\n",
       "    .dataframe tbody tr th:only-of-type {\n",
       "        vertical-align: middle;\n",
       "    }\n",
       "\n",
       "    .dataframe tbody tr th {\n",
       "        vertical-align: top;\n",
       "    }\n",
       "\n",
       "    .dataframe thead th {\n",
       "        text-align: right;\n",
       "    }\n",
       "</style>\n",
       "<table border=\"1\" class=\"dataframe\">\n",
       "  <thead>\n",
       "    <tr style=\"text-align: right;\">\n",
       "      <th></th>\n",
       "      <th>sentiment</th>\n",
       "    </tr>\n",
       "  </thead>\n",
       "  <tbody>\n",
       "    <tr>\n",
       "      <th>count</th>\n",
       "      <td>25000.00000</td>\n",
       "    </tr>\n",
       "    <tr>\n",
       "      <th>mean</th>\n",
       "      <td>0.50000</td>\n",
       "    </tr>\n",
       "    <tr>\n",
       "      <th>std</th>\n",
       "      <td>0.50001</td>\n",
       "    </tr>\n",
       "    <tr>\n",
       "      <th>min</th>\n",
       "      <td>0.00000</td>\n",
       "    </tr>\n",
       "    <tr>\n",
       "      <th>25%</th>\n",
       "      <td>0.00000</td>\n",
       "    </tr>\n",
       "    <tr>\n",
       "      <th>50%</th>\n",
       "      <td>0.50000</td>\n",
       "    </tr>\n",
       "    <tr>\n",
       "      <th>75%</th>\n",
       "      <td>1.00000</td>\n",
       "    </tr>\n",
       "    <tr>\n",
       "      <th>max</th>\n",
       "      <td>1.00000</td>\n",
       "    </tr>\n",
       "  </tbody>\n",
       "</table>\n",
       "</div>"
      ],
      "text/plain": [
       "         sentiment\n",
       "count  25000.00000\n",
       "mean       0.50000\n",
       "std        0.50001\n",
       "min        0.00000\n",
       "25%        0.00000\n",
       "50%        0.50000\n",
       "75%        1.00000\n",
       "max        1.00000"
      ]
     },
     "execution_count": 8,
     "metadata": {},
     "output_type": "execute_result"
    }
   ],
   "source": [
    "train.describe()"
   ]
  },
  {
   "cell_type": "markdown",
   "metadata": {},
   "source": [
    "Part 1: For Beginners - Bag of Words\n",
    "--\n",
    "https://www.kaggle.com/c/word2vec-nlp-tutorial/details/part-1-for-beginners-bag-of-words  \n",
    "\n",
    "What is NLP?\n",
    "\n",
    "NLP (Natural Language Processing) is a set of techniques for approaching text problems. This page will help you get started with loading and cleaning the IMDB movie reviews, then applying a simple Bag of Words model to get surprisingly accurate predictions of whether a review is thumbs-up or thumbs-down."
   ]
  },
  {
   "cell_type": "code",
   "execution_count": 9,
   "metadata": {},
   "outputs": [],
   "source": [
    "class Text_Cleaning_Utilities(object):\n",
    "    \"\"\"Tools for processing text into segments for further learning\"\"\"\n",
    "\n",
    "    @staticmethod\n",
    "    def text_to_wordlist(text, \n",
    "                         remove_stopwords=False, \n",
    "                         remove_html=False, \n",
    "                         remove_non_letters=False, \n",
    "                         steeming=False):\n",
    "        '''Split a text into a list of words'''\n",
    "        #text = text.replace('-\\n','')\n",
    "        text = text.lower()\n",
    "        if remove_html:\n",
    "            text = BeautifulSoup(text, \"html5lib\").get_text()\n",
    "        if remove_non_letters:\n",
    "            text = re.sub(\"[^-A-Za-z0-9_]\", \" \", text)\n",
    "        list_words = word_tokenize(text)\n",
    "        list_words = [w.strip(string.punctuation) for w in list_words if w not in string.punctuation]\n",
    "        list_words = [w for w in list_words if len(w) > 1]\n",
    "        if remove_stopwords:\n",
    "            stops = set(stopwords.words(\"english\"))\n",
    "            list_words = [w for w in list_words if w not in stops]\n",
    "        if steeming:\n",
    "            stemmer = PorterStemmer()\n",
    "            list_words = [stemmer.stem(item) for item in list_words]\n",
    "        return list_words\n",
    "    \n",
    "    @staticmethod\n",
    "    def df_to_list_of_texts(dataframe, column, \n",
    "                            remove_stopwords=False, \n",
    "                            remove_html=False, \n",
    "                            remove_non_letters=False, \n",
    "                            steeming=False):\n",
    "        clean_texts = []\n",
    "        for txt_id in range(len(dataframe[column])):\n",
    "            clean_texts.append(' '.join(Text_Cleaning_Utilities.text_to_wordlist(dataframe[column][txt_id],\n",
    "                                                                                 remove_stopwords=remove_stopwords,\n",
    "                                                                                 remove_html=remove_html,\n",
    "                                                                                 remove_non_letters=remove_non_letters,\n",
    "                                                                                 steeming=steeming)))\n",
    "            \n",
    "        return clean_texts\n",
    "\n",
    "    @staticmethod\n",
    "    def df_to_list_of_tokens(dataframe, column, \n",
    "                             remove_stopwords=False, \n",
    "                             remove_html=False, \n",
    "                             remove_non_letters=False, \n",
    "                             steeming=False):\n",
    "        clean_texts = []\n",
    "        for txt_id in range(len(dataframe[column])):\n",
    "            clean_texts.append(Text_Cleaning_Utilities.text_to_wordlist(dataframe[column][txt_id],\n",
    "                                                                        remove_stopwords=remove_stopwords,\n",
    "                                                                        remove_html=remove_html,\n",
    "                                                                        remove_non_letters=remove_non_letters,\n",
    "                                                                        steeming=steeming))\n",
    "            \n",
    "        return clean_texts"
   ]
  },
  {
   "cell_type": "markdown",
   "metadata": {},
   "source": [
    "Cleaning all the datasets and getting word lists\n",
    "--\n",
    "first set is without stopwords"
   ]
  },
  {
   "cell_type": "code",
   "execution_count": 10,
   "metadata": {},
   "outputs": [],
   "source": [
    "clean_train_reviews = Text_Cleaning_Utilities.df_to_list_of_texts(train, \n",
    "                                                                  'review', \n",
    "                                                                  remove_stopwords=True,\n",
    "                                                                  remove_html=True,)\n",
    "clean_test_reviews = Text_Cleaning_Utilities.df_to_list_of_texts(test, \n",
    "                                                                 'review', \n",
    "                                                                 remove_stopwords=True,\n",
    "                                                                 remove_html=True,)"
   ]
  },
  {
   "cell_type": "code",
   "execution_count": 11,
   "metadata": {},
   "outputs": [
    {
     "data": {
      "text/plain": [
       "'stuff going moment mj started listening music watching odd documentary watched w'"
      ]
     },
     "execution_count": 11,
     "metadata": {},
     "output_type": "execute_result"
    }
   ],
   "source": [
    "clean_train_reviews[0][0:80]"
   ]
  },
  {
   "cell_type": "code",
   "execution_count": 12,
   "metadata": {},
   "outputs": [
    {
     "data": {
      "text/plain": [
       "'naturally film main themes mortality nostalgia loss innocence perhaps surprising'"
      ]
     },
     "execution_count": 12,
     "metadata": {},
     "output_type": "execute_result"
    }
   ],
   "source": [
    "clean_test_reviews[0][0:80]"
   ]
  },
  {
   "cell_type": "markdown",
   "metadata": {},
   "source": [
    "Second set mantains stopwords"
   ]
  },
  {
   "cell_type": "code",
   "execution_count": 13,
   "metadata": {},
   "outputs": [],
   "source": [
    "clean_train_reviews_sw = Text_Cleaning_Utilities.df_to_list_of_texts(train, \n",
    "                                                                     'review',\n",
    "                                                                     remove_html=True,)\n",
    "\n",
    "clean_test_reviews_sw = Text_Cleaning_Utilities.df_to_list_of_texts(test, \n",
    "                                                                    'review',\n",
    "                                                                    remove_html=True,)"
   ]
  },
  {
   "cell_type": "code",
   "execution_count": 14,
   "metadata": {},
   "outputs": [
    {
     "data": {
      "text/plain": [
       "'with all this stuff going down at the moment with mj ve started listening to his'"
      ]
     },
     "execution_count": 14,
     "metadata": {},
     "output_type": "execute_result"
    }
   ],
   "source": [
    "clean_train_reviews_sw[0][0:80]"
   ]
  },
  {
   "cell_type": "code",
   "execution_count": 15,
   "metadata": {},
   "outputs": [
    {
     "data": {
      "text/plain": [
       "'naturally in film who main themes are of mortality nostalgia and loss of innocen'"
      ]
     },
     "execution_count": 15,
     "metadata": {},
     "output_type": "execute_result"
    }
   ],
   "source": [
    "clean_test_reviews_sw[0][0:80]"
   ]
  },
  {
   "cell_type": "markdown",
   "metadata": {},
   "source": [
    "Saving Pickle"
   ]
  },
  {
   "cell_type": "code",
   "execution_count": 16,
   "metadata": {},
   "outputs": [],
   "source": [
    "with open(os.path.join(outputs, 'clean_reviews.pkl'),'wb') as f:\n",
    "    pickle.dump((clean_train_reviews, \n",
    "                 clean_test_reviews,\n",
    "                 clean_train_reviews_sw, \n",
    "                 clean_test_reviews_sw),f)"
   ]
  },
  {
   "cell_type": "markdown",
   "metadata": {},
   "source": [
    "Loading Pickle  "
   ]
  },
  {
   "cell_type": "code",
   "execution_count": 17,
   "metadata": {},
   "outputs": [],
   "source": [
    "with open(os.path.join(outputs, 'clean_reviews.pkl'),'rb') as f:\n",
    "    (clean_train_reviews, \n",
    "     clean_test_reviews,\n",
    "     clean_train_reviews_sw,\n",
    "     clean_test_reviews_sw) = pickle.load(f)"
   ]
  },
  {
   "cell_type": "markdown",
   "metadata": {},
   "source": [
    "Creating Features from a Bag of Words (Using scikit-learn)\n",
    "--\n",
    "\n",
    "Now that we have our training reviews tidied up, how do we convert them to some kind of numeric representation for machine learning? One common approach is called a Bag of Words. The Bag of Words model learns a vocabulary from all of the documents, then models each document by counting the number of times each word appears. For example, consider the following two sentences:\n",
    "\n",
    "Sentence 1: \"The cat sat on the hat\"  \n",
    "Sentence 2: \"The dog ate the cat and the hat\"  \n",
    "\n",
    "From these two sentences, our vocabulary is as follows:\n",
    "\n",
    "{ the, cat, sat, on, hat, dog, ate, and }\n",
    "\n",
    "To get our bags of words, we count the number of times each word occurs in each sentence. In Sentence 1, \"the\" appears twice, and \"cat\", \"sat\", \"on\", and \"hat\" each appear once, so the feature vector for Sentence 1 is:\n",
    "\n",
    "{ the, cat, sat, on, hat, dog, ate, and }\n",
    "\n",
    "Sentence 1: [ 2, 1, 1, 1, 1, 0, 0, 0 ]\n",
    "\n",
    "Similarly, the features for Sentence 2 are: [ 3, 1, 0, 0, 1, 1, 1, 1]\n",
    "\n",
    "In the IMDB data, we have a very large number of reviews, which will give us a large vocabulary. To limit the size of the feature vectors, we should choose some maximum vocabulary size. Below, we use the 5000 most frequent words (remembering that stop words have already been removed).\n",
    "\n",
    "We'll be using the feature_extraction module from scikit-learn to create bag-of-words features.  \n",
    "We will test two strategies: CountVectorizer (term frequecies - TF) and TFIDF Vectorizer:  \n",
    "First we'll start with plain word counts (TF):  "
   ]
  },
  {
   "cell_type": "code",
   "execution_count": 18,
   "metadata": {},
   "outputs": [],
   "source": [
    "# Initialize the \"CountVectorizer\" object, which is scikit-learn's bag of words tool.\n",
    "#http://scikit-learn.org/stable/modules/generated/sklearn.feature_extraction.text.CountVectorizer.html\n",
    "vectorizer_tf = CountVectorizer(input='content', \n",
    "                               encoding='utf-8', \n",
    "                               decode_error='strict', \n",
    "                               strip_accents=None, \n",
    "                               lowercase=True, \n",
    "                               preprocessor=None, \n",
    "                               tokenizer=None, \n",
    "                               stop_words=None, \n",
    "                               #token_pattern='(?u)\\b\\w\\w+\\b',\n",
    "                               ngram_range=(1, 2),\n",
    "                               analyzer='word', \n",
    "                               max_df=1.0, \n",
    "                               min_df=1, \n",
    "                               max_features=5000, \n",
    "                               vocabulary=None, \n",
    "                               binary=False, \n",
    "                               dtype=np.int64,\n",
    "                              )"
   ]
  },
  {
   "cell_type": "markdown",
   "metadata": {},
   "source": [
    "Fit_transform() does two functions: First, it fits the model and learns the vocabulary; \n",
    "second, it transforms our training data into feature vectors. \n",
    "The input to fit_transform should be a list of strings."
   ]
  },
  {
   "cell_type": "code",
   "execution_count": 19,
   "metadata": {},
   "outputs": [
    {
     "name": "stdout",
     "output_type": "stream",
     "text": [
      "(25000, 5000)\n"
     ]
    }
   ],
   "source": [
    "train_data_features_tf = vectorizer_tf.fit_transform(clean_train_reviews)\n",
    "train_data_features_tf = train_data_features_tf.toarray() # Numpy arrays are easy to work with\n",
    "print(train_data_features_tf.shape)"
   ]
  },
  {
   "cell_type": "code",
   "execution_count": 20,
   "metadata": {},
   "outputs": [
    {
     "name": "stdout",
     "output_type": "stream",
     "text": [
      "(25000, 5000)\n"
     ]
    }
   ],
   "source": [
    "test_data_features_tf = vectorizer_tf.fit_transform(clean_test_reviews)\n",
    "test_data_features_tf = test_data_features_tf.toarray() # Numpy arrays are easy to work with\n",
    "print(test_data_features_tf.shape)"
   ]
  },
  {
   "cell_type": "markdown",
   "metadata": {},
   "source": [
    "Now we are going to use TfIDf vectors and the train/test cleaned reviews with stopwords:"
   ]
  },
  {
   "cell_type": "code",
   "execution_count": 21,
   "metadata": {},
   "outputs": [],
   "source": [
    "#http://scikit-learn.org/stable/modules/generated/sklearn.feature_extraction.text.TfidfVectorizer.html\n",
    "#Another approach using TfIDf vectorizer and using the texts with stopwords in:\n",
    "#https://github.com/zygmuntz/classifying-text/blob/master/bow_predict.py \n",
    "vectorizer_tfidf = TfidfVectorizer(input='content',\n",
    "                                  #encoding='utf-8',\n",
    "                                  decode_error='strict',\n",
    "                                  strip_accents=None,\n",
    "                                  lowercase=True,\n",
    "                                  preprocessor=None,\n",
    "                                  tokenizer=None,\n",
    "                                  analyzer='word',\n",
    "                                  stop_words=None,\n",
    "                                  #token_pattern='(?u)\\b\\w\\w+\\b',\n",
    "                                  ngram_range=(1, 2),\n",
    "                                  max_df=1.0,\n",
    "                                  min_df=1,\n",
    "                                  max_features=5000,\n",
    "                                  vocabulary=None, \n",
    "                                  binary=False, \n",
    "                                  dtype=np.int64,\n",
    "                                  norm='l2',\n",
    "                                  use_idf=True,\n",
    "                                  smooth_idf=True,\n",
    "                                  sublinear_tf=True)"
   ]
  },
  {
   "cell_type": "code",
   "execution_count": 22,
   "metadata": {},
   "outputs": [
    {
     "name": "stdout",
     "output_type": "stream",
     "text": [
      "(25000, 5000)\n"
     ]
    }
   ],
   "source": [
    "train_data_features_tfidf = vectorizer_tfidf.fit_transform(clean_train_reviews_sw)\n",
    "train_data_features_tfidf = train_data_features_tfidf.toarray() # Numpy arrays are easy to work with\n",
    "print(train_data_features_tfidf.shape)"
   ]
  },
  {
   "cell_type": "code",
   "execution_count": 23,
   "metadata": {},
   "outputs": [
    {
     "name": "stdout",
     "output_type": "stream",
     "text": [
      "(25000, 5000)\n"
     ]
    }
   ],
   "source": [
    "test_data_features_tfidf = vectorizer_tfidf.fit_transform(clean_test_reviews_sw)\n",
    "test_data_features_tfidf = test_data_features_tfidf.toarray() # Numpy arrays are easy to work with\n",
    "print(test_data_features_tfidf.shape)"
   ]
  },
  {
   "cell_type": "markdown",
   "metadata": {},
   "source": [
    "Saving Pickle"
   ]
  },
  {
   "cell_type": "code",
   "execution_count": 24,
   "metadata": {},
   "outputs": [],
   "source": [
    "with open(os.path.join(outputs, 'train_test_data_features.pkl'),'wb') as f:\n",
    "    pickle.dump((train_data_features_tf, \n",
    "                 test_data_features_tf,\n",
    "                 train_data_features_tfidf,\n",
    "                 test_data_features_tfidf),f)"
   ]
  },
  {
   "cell_type": "markdown",
   "metadata": {},
   "source": [
    "Reading Pickle"
   ]
  },
  {
   "cell_type": "code",
   "execution_count": 25,
   "metadata": {},
   "outputs": [],
   "source": [
    "with open(os.path.join(outputs, 'train_test_data_features.pkl'),'rb') as f:\n",
    "    (train_data_features_tf, \n",
    "    test_data_features_tf,\n",
    "    train_data_features_tfidf,\n",
    "    test_data_features_tfidf) = pickle.load(f)"
   ]
  },
  {
   "cell_type": "markdown",
   "metadata": {},
   "source": [
    "Dividing Train set for Cross Validation  \n",
    "--"
   ]
  },
  {
   "cell_type": "markdown",
   "metadata": {},
   "source": [
    "https://github.com/zygmuntz/classifying-text/blob/master/bow_validate.py  \n",
    "Alternatively, we can use the indexes to divide the train samples  \n",
    "\n",
    "train_i, test_i = train_test_split(np.arange(len(train)), train_size = 0.8, random_state = 44)  \n",
    "\n",
    "After generating indexes, we can divide ou datasets:  \n",
    "traincv = train_data_features1[train_i]  \n",
    "testcv = train_data_features1[test_i]"
   ]
  },
  {
   "cell_type": "code",
   "execution_count": 26,
   "metadata": {},
   "outputs": [],
   "source": [
    "#Plain Word Counts\n",
    "X_traincv_tf, X_testcv_tf, y_traincv_tf, y_testcv_tf = model_selection.train_test_split(train_data_features_tf,\n",
    "                                                                                        train[\"sentiment\"],\n",
    "                                                                                        test_size=0.2,\n",
    "                                                                                        random_state=0)"
   ]
  },
  {
   "cell_type": "code",
   "execution_count": 27,
   "metadata": {},
   "outputs": [],
   "source": [
    "#TfIdf\n",
    "(X_traincv_tfidf, \n",
    " X_testcv_tfidf, \n",
    " y_traincv_tfidf, \n",
    " y_testcv_tfidf) = model_selection.train_test_split(train_data_features_tfidf,\n",
    "                                                    train[\"sentiment\"],\n",
    "                                                    test_size=0.2,\n",
    "                                                    random_state=0)"
   ]
  },
  {
   "cell_type": "markdown",
   "metadata": {},
   "source": [
    "Training some Classifiers  \n",
    "--"
   ]
  },
  {
   "cell_type": "markdown",
   "metadata": {},
   "source": [
    "At this point, we have numeric training features from the Bag of Words and the original sentiment labels for each feature vector, so let's do some supervised learning! Here, we'll use some classifiers implementations included in  the scikit-learn package."
   ]
  },
  {
   "cell_type": "markdown",
   "metadata": {},
   "source": [
    "#### Random Forest"
   ]
  },
  {
   "cell_type": "code",
   "execution_count": 28,
   "metadata": {},
   "outputs": [],
   "source": [
    "# Initialize a Random Forest classifier with 300 trees\n",
    "from sklearn.ensemble import RandomForestClassifier\n",
    "\n",
    "clf_RF_tf = RandomForestClassifier(n_estimators=300, \n",
    "                                   criterion='gini', \n",
    "                                   max_depth=None, \n",
    "                                   min_samples_split=2, \n",
    "                                   min_samples_leaf=1, \n",
    "                                   min_weight_fraction_leaf=0.0, \n",
    "                                   max_features='auto', \n",
    "                                   max_leaf_nodes=None, \n",
    "                                   bootstrap=False, \n",
    "                                   oob_score=False, \n",
    "                                   n_jobs=-1, \n",
    "                                   random_state=0, \n",
    "                                   verbose=0, \n",
    "                                   warm_start=False, \n",
    "                                   class_weight=None).fit(X_traincv_tf, y_traincv_tf)"
   ]
  },
  {
   "cell_type": "code",
   "execution_count": 29,
   "metadata": {},
   "outputs": [
    {
     "name": "stdout",
     "output_type": "stream",
     "text": [
      "0.8608\n"
     ]
    }
   ],
   "source": [
    "eval_RF_tf_tts = clf_RF_tf.score(X_testcv_tf, y_testcv_tf)\n",
    "print(eval_RF_tf_tts)"
   ]
  },
  {
   "cell_type": "code",
   "execution_count": 30,
   "metadata": {},
   "outputs": [
    {
     "data": {
      "text/plain": [
       "array([[0.45666667, 0.54333333],\n",
       "       [0.37333333, 0.62666667],\n",
       "       [0.35      , 0.65      ],\n",
       "       ...,\n",
       "       [0.32      , 0.68      ],\n",
       "       [0.81666667, 0.18333333],\n",
       "       [0.22666667, 0.77333333]])"
      ]
     },
     "execution_count": 30,
     "metadata": {},
     "output_type": "execute_result"
    }
   ],
   "source": [
    "clf_RF_tf.predict_proba(X_testcv_tf)"
   ]
  },
  {
   "cell_type": "markdown",
   "metadata": {},
   "source": [
    "Now we are going to train on the TfIdf samples:"
   ]
  },
  {
   "cell_type": "code",
   "execution_count": 31,
   "metadata": {},
   "outputs": [],
   "source": [
    "# Initialize a Random Forest classifier with 300 trees\n",
    "clf_RF_tfidf = RandomForestClassifier(n_estimators=300, \n",
    "                                      criterion='gini', \n",
    "                                      max_depth=None, \n",
    "                                      min_samples_split=2, \n",
    "                                      min_samples_leaf=1, \n",
    "                                      min_weight_fraction_leaf=0.0, \n",
    "                                      max_features='auto', \n",
    "                                      max_leaf_nodes=None, \n",
    "                                      bootstrap=False, \n",
    "                                      oob_score=False, \n",
    "                                      n_jobs=-1, \n",
    "                                      random_state=0, \n",
    "                                      verbose=0, \n",
    "                                      warm_start=False, \n",
    "                                      class_weight=None).fit(X_traincv_tfidf, y_traincv_tfidf)"
   ]
  },
  {
   "cell_type": "code",
   "execution_count": 32,
   "metadata": {},
   "outputs": [
    {
     "name": "stdout",
     "output_type": "stream",
     "text": [
      "0.8536\n"
     ]
    }
   ],
   "source": [
    "eval_RF_tfidf_tts = clf_RF_tfidf.score(X_testcv_tfidf, y_testcv_tfidf)\n",
    "print(eval_RF_tfidf_tts)"
   ]
  },
  {
   "cell_type": "code",
   "execution_count": 33,
   "metadata": {},
   "outputs": [
    {
     "data": {
      "text/plain": [
       "array([[0.42333333, 0.57666667],\n",
       "       [0.36666667, 0.63333333],\n",
       "       [0.33      , 0.67      ],\n",
       "       ...,\n",
       "       [0.25666667, 0.74333333],\n",
       "       [0.75333333, 0.24666667],\n",
       "       [0.33      , 0.67      ]])"
      ]
     },
     "execution_count": 33,
     "metadata": {},
     "output_type": "execute_result"
    }
   ],
   "source": [
    "clf_RF_tfidf.predict_proba(X_testcv_tfidf)"
   ]
  },
  {
   "cell_type": "markdown",
   "metadata": {},
   "source": [
    "#### Logistic Regression  "
   ]
  },
  {
   "cell_type": "code",
   "execution_count": 34,
   "metadata": {},
   "outputs": [],
   "source": [
    "#http://scikit-learn.org/stable/modules/generated/sklearn.linear_model.LogisticRegression.html\n",
    "from sklearn.linear_model import LogisticRegression as LR\n",
    "\n",
    "clf_LR_tf = LR(penalty='l2',\n",
    "               dual=False,\n",
    "               tol=0.0001,\n",
    "               C=1.0,\n",
    "               fit_intercept=True,\n",
    "               intercept_scaling=1,\n",
    "               class_weight=None,\n",
    "               random_state=0,\n",
    "               solver='liblinear',\n",
    "               max_iter=100,\n",
    "               multi_class='ovr',\n",
    "               verbose=0).fit(X_traincv_tf, y_traincv_tf)"
   ]
  },
  {
   "cell_type": "code",
   "execution_count": 35,
   "metadata": {},
   "outputs": [
    {
     "name": "stdout",
     "output_type": "stream",
     "text": [
      "0.8518\n"
     ]
    }
   ],
   "source": [
    "eval_LR_tf_tts = clf_LR_tf.score(X_testcv_tf, y_testcv_tf)\n",
    "print(eval_LR_tf_tts)"
   ]
  },
  {
   "cell_type": "code",
   "execution_count": 36,
   "metadata": {},
   "outputs": [],
   "source": [
    "clf_LR_tfidf = LR(penalty='l2',\n",
    "                  dual=False,\n",
    "                  tol=0.0001,\n",
    "                  C=1.0,\n",
    "                  fit_intercept=True,\n",
    "                  intercept_scaling=1,\n",
    "                  class_weight=None,\n",
    "                  random_state=0,\n",
    "                  solver='liblinear',\n",
    "                  max_iter=100,\n",
    "                  multi_class='ovr',\n",
    "                  verbose=0).fit(X_traincv_tfidf, y_traincv_tfidf)"
   ]
  },
  {
   "cell_type": "code",
   "execution_count": 37,
   "metadata": {},
   "outputs": [
    {
     "name": "stdout",
     "output_type": "stream",
     "text": [
      "0.8926\n"
     ]
    }
   ],
   "source": [
    "eval_LR_tfidf_tts = clf_LR_tfidf.score(X_testcv_tfidf, y_testcv_tfidf)\n",
    "print(eval_LR_tfidf_tts)"
   ]
  },
  {
   "cell_type": "markdown",
   "metadata": {},
   "source": [
    "#### Regularized Greedy Forests "
   ]
  },
  {
   "cell_type": "code",
   "execution_count": 38,
   "metadata": {},
   "outputs": [],
   "source": [
    "from rgf.sklearn import RGFClassifier, FastRGFClassifier\n",
    "\n",
    "clf_RGF_tf = RGFClassifier(max_leaf=240,\n",
    "                           algorithm=\"RGF_Sib\",\n",
    "                           test_interval=100,\n",
    "                           verbose=False,).fit(X_traincv_tf, y_traincv_tf)"
   ]
  },
  {
   "cell_type": "code",
   "execution_count": 39,
   "metadata": {},
   "outputs": [
    {
     "name": "stdout",
     "output_type": "stream",
     "text": [
      "0.814\n"
     ]
    }
   ],
   "source": [
    "eval_RGF_tf_tts = clf_RGF_tf.score(X_testcv_tf, y_testcv_tf)\n",
    "print(eval_RGF_tf_tts)"
   ]
  },
  {
   "cell_type": "code",
   "execution_count": 40,
   "metadata": {},
   "outputs": [],
   "source": [
    "clf_RGF_tfidf = RGFClassifier(max_leaf=240,\n",
    "                              algorithm=\"RGF_Sib\",\n",
    "                              test_interval=100,\n",
    "                              verbose=False,).fit(X_traincv_tfidf, y_traincv_tfidf)"
   ]
  },
  {
   "cell_type": "code",
   "execution_count": 41,
   "metadata": {},
   "outputs": [
    {
     "name": "stdout",
     "output_type": "stream",
     "text": [
      "0.8112\n"
     ]
    }
   ],
   "source": [
    "eval_RGF_tfidf_tts = clf_RGF_tfidf.score(X_testcv_tfidf, y_testcv_tfidf)\n",
    "print(eval_RGF_tfidf_tts)"
   ]
  },
  {
   "cell_type": "markdown",
   "metadata": {},
   "source": [
    "#### Let's do some voting"
   ]
  },
  {
   "cell_type": "code",
   "execution_count": 42,
   "metadata": {},
   "outputs": [],
   "source": [
    "# http://scikit-learn.org/stable/modules/generated/sklearn.ensemble.VotingClassifier.html\n",
    "from sklearn.ensemble import VotingClassifier\n",
    "\n",
    "clf_vot_tf = VotingClassifier(estimators=[('rf', clf_RF_tf),\n",
    "                                          ('lr', clf_LR_tf),\n",
    "                                          ('rgf', clf_RGF_tf)], voting='soft').fit(X_traincv_tf, y_traincv_tf)"
   ]
  },
  {
   "cell_type": "code",
   "execution_count": 43,
   "metadata": {},
   "outputs": [
    {
     "name": "stdout",
     "output_type": "stream",
     "text": [
      "0.8666\n"
     ]
    }
   ],
   "source": [
    "eval_vot_tf_tts = clf_vot_tf.score(X_testcv_tf, y_testcv_tf)\n",
    "print(eval_vot_tf_tts)"
   ]
  },
  {
   "cell_type": "code",
   "execution_count": 45,
   "metadata": {},
   "outputs": [],
   "source": [
    "clf_vot_tfidf = VotingClassifier(estimators=[('rf', clf_RF_tfidf),\n",
    "                                             ('lr', clf_LR_tfidf),\n",
    "                                             ('rgf', clf_RGF_tfidf)], voting='soft').fit(X_traincv_tfidf, y_traincv_tfidf)"
   ]
  },
  {
   "cell_type": "code",
   "execution_count": 46,
   "metadata": {},
   "outputs": [
    {
     "name": "stdout",
     "output_type": "stream",
     "text": [
      "0.8724\n"
     ]
    }
   ],
   "source": [
    "eval_vot_tfidf_tts = clf_vot_tfidf.score(X_testcv_tfidf, y_testcv_tfidf)\n",
    "print(eval_vot_tfidf_tts)"
   ]
  },
  {
   "cell_type": "markdown",
   "metadata": {},
   "source": [
    "Saving the trained classifiers"
   ]
  },
  {
   "cell_type": "code",
   "execution_count": 48,
   "metadata": {},
   "outputs": [],
   "source": [
    "with open(os.path.join(outputs, 'classifiers.pkl'),'wb') as f:\n",
    "    pickle.dump((clf_RF_tf, eval_RF_tf_tts,\n",
    "                 clf_RF_tfidf, eval_RF_tfidf_tts,\n",
    "                 clf_LR_tf, eval_LR_tf_tts,\n",
    "                 clf_LR_tfidf, eval_LR_tfidf_tts,                \n",
    "                 clf_RGF_tf, eval_RGF_tf_tts,\n",
    "                 clf_RGF_tfidf, eval_RGF_tfidf_tts,\n",
    "                 clf_vot_tf, eval_vot_tf_tts,\n",
    "                 clf_vot_tfidf, eval_vot_tfidf_tts),f)"
   ]
  },
  {
   "cell_type": "markdown",
   "metadata": {},
   "source": [
    "Loading the classifiers from Pickle"
   ]
  },
  {
   "cell_type": "code",
   "execution_count": 49,
   "metadata": {},
   "outputs": [],
   "source": [
    "with open(os.path.join(outputs, 'classifiers.pkl'),'rb') as f:\n",
    "    (clf_RF_tf, eval_RF_tf_tts,\n",
    "     clf_RF_tfidf, eval_RF_tfidf_tts,\n",
    "     clf_LR_tf, eval_LR_tf_tts,\n",
    "     clf_LR_tfidf, eval_LR_tfidf_tts,                \n",
    "     clf_RGF_tf, eval_RGF_tf_tts,\n",
    "     clf_RGF_tfidf, eval_RGF_tfidf_tts,\n",
    "     clf_vot_tf, eval_vot_tf_tts,\n",
    "     clf_vot_tfidf, eval_vot_tfidf_tts) = pickle.load(f)"
   ]
  },
  {
   "cell_type": "code",
   "execution_count": 51,
   "metadata": {},
   "outputs": [
    {
     "data": {
      "image/png": "[encoded data removed]",
      "text/plain": [
       "<Figure size 864x576 with 1 Axes>"
      ]
     },
     "metadata": {},
     "output_type": "display_data"
    }
   ],
   "source": [
    "dic_results = {'RandomForest_TF': eval_RF_tf_tts,\n",
    "               'RandomForest_TFIDF': eval_RF_tfidf_tts,\n",
    "               'LogiReg_TF': eval_LR_tf_tts,\n",
    "               'LogiReg_TFIDF': eval_LR_tfidf_tts,\n",
    "               'RGF_TF': eval_RGF_tf_tts,\n",
    "               'RGF_TFIDF': eval_RGF_tfidf_tts,\n",
    "               'Voting_TF': eval_vot_tf_tts,\n",
    "               'Voting_TFIDF': eval_vot_tfidf_tts,\n",
    "              }\n",
    "\n",
    "import operator\n",
    "tup_results = sorted(dic_results.items(), key=operator.itemgetter(1))\n",
    "\n",
    "N = len(dic_results)\n",
    "ind = np.arange(N)  # the x locations for the groups\n",
    "width = 0.40       # the width of the bars\n",
    "\n",
    "fig = plt.figure(figsize=(12,8))\n",
    "ax = fig.add_subplot(111)\n",
    "rects = ax.bar(ind, list(zip(*tup_results))[1], width,)\n",
    "for rect in rects:\n",
    "    height = rect.get_height()\n",
    "    ax.text(rect.get_x()+rect.get_width()/2., \n",
    "            1.005*height, \n",
    "            '{0:.4f}'.format(height), \n",
    "            ha='center', \n",
    "            va='bottom',)\n",
    "\n",
    "ax.set_ylabel('Scores')\n",
    "ax.set_ylim(ymin=0.78,ymax = 0.92)\n",
    "ax.set_title(\"Classificators' performance\")\n",
    "ax.set_xticks(ind + width/2.)\n",
    "ax.set_xticklabels(list(zip(*tup_results))[0], rotation=45)\n",
    "\n",
    "plt.show()"
   ]
  },
  {
   "cell_type": "markdown",
   "metadata": {},
   "source": [
    "Creating a Submission  \n",
    "--\n",
    "\n",
    "All that remains is to run the best classifier on our test set and create a submission file. If you haven't already done so, download testData.tsv from the Data page. This file contains another 25,000 reviews and ids; our task is to predict the sentiment label.\n",
    "\n",
    "Note that when we use the Bag of Words for the test set, we only call \"transform\", not \"fit_transform\" as we did for the training set. In machine learning, you shouldn't use the test set to fit your model, otherwise you run the risk of overfitting. For this reason, we keep the test set off-limits until we are ready to make predictions."
   ]
  },
  {
   "cell_type": "code",
   "execution_count": 52,
   "metadata": {},
   "outputs": [
    {
     "name": "stdout",
     "output_type": "stream",
     "text": [
      "<class 'pandas.core.frame.DataFrame'>\n",
      "RangeIndex: 25000 entries, 0 to 24999\n",
      "Data columns (total 2 columns):\n",
      "id        25000 non-null object\n",
      "review    25000 non-null object\n",
      "dtypes: object(2)\n",
      "memory usage: 390.7+ KB\n"
     ]
    }
   ],
   "source": [
    "test.info()"
   ]
  },
  {
   "cell_type": "code",
   "execution_count": 53,
   "metadata": {},
   "outputs": [
    {
     "data": {
      "text/html": [
       "<div>\n",
       "<style scoped>\n",
       "    .dataframe tbody tr th:only-of-type {\n",
       "        vertical-align: middle;\n",
       "    }\n",
       "\n",
       "    .dataframe tbody tr th {\n",
       "        vertical-align: top;\n",
       "    }\n",
       "\n",
       "    .dataframe thead th {\n",
       "        text-align: right;\n",
       "    }\n",
       "</style>\n",
       "<table border=\"1\" class=\"dataframe\">\n",
       "  <thead>\n",
       "    <tr style=\"text-align: right;\">\n",
       "      <th></th>\n",
       "      <th>id</th>\n",
       "      <th>review</th>\n",
       "    </tr>\n",
       "  </thead>\n",
       "  <tbody>\n",
       "    <tr>\n",
       "      <th>0</th>\n",
       "      <td>\"12311_10\"</td>\n",
       "      <td>\"Naturally in a film who's main themes are of ...</td>\n",
       "    </tr>\n",
       "    <tr>\n",
       "      <th>1</th>\n",
       "      <td>\"8348_2\"</td>\n",
       "      <td>\"This movie is a disaster within a disaster fi...</td>\n",
       "    </tr>\n",
       "    <tr>\n",
       "      <th>2</th>\n",
       "      <td>\"5828_4\"</td>\n",
       "      <td>\"All in all, this is a movie for kids. We saw ...</td>\n",
       "    </tr>\n",
       "    <tr>\n",
       "      <th>3</th>\n",
       "      <td>\"7186_2\"</td>\n",
       "      <td>\"Afraid of the Dark left me with the impressio...</td>\n",
       "    </tr>\n",
       "    <tr>\n",
       "      <th>4</th>\n",
       "      <td>\"12128_7\"</td>\n",
       "      <td>\"A very accurate depiction of small time mob l...</td>\n",
       "    </tr>\n",
       "  </tbody>\n",
       "</table>\n",
       "</div>"
      ],
      "text/plain": [
       "           id                                             review\n",
       "0  \"12311_10\"  \"Naturally in a film who's main themes are of ...\n",
       "1    \"8348_2\"  \"This movie is a disaster within a disaster fi...\n",
       "2    \"5828_4\"  \"All in all, this is a movie for kids. We saw ...\n",
       "3    \"7186_2\"  \"Afraid of the Dark left me with the impressio...\n",
       "4   \"12128_7\"  \"A very accurate depiction of small time mob l..."
      ]
     },
     "execution_count": 53,
     "metadata": {},
     "output_type": "execute_result"
    }
   ],
   "source": [
    "test.head()"
   ]
  },
  {
   "cell_type": "code",
   "execution_count": 54,
   "metadata": {},
   "outputs": [
    {
     "data": {
      "text/plain": [
       "(25000, 5000)"
      ]
     },
     "execution_count": 54,
     "metadata": {},
     "output_type": "execute_result"
    }
   ],
   "source": [
    "test_data_features_tfidf.shape"
   ]
  },
  {
   "cell_type": "code",
   "execution_count": 55,
   "metadata": {},
   "outputs": [],
   "source": [
    "# Use the logistic regression with tfidf vectors to make sentiment label predictions\n",
    "result = clf_LR_tfidf.predict(test_data_features_tfidf)\n",
    "result_prob = clf_LR_tfidf.predict_proba(test_data_features_tfidf)\n",
    "output = pd.DataFrame(data={\"id\":test[\"id\"], \"sentiment\":result,})# \"probs\":result_prob[:,1]})\n",
    "# Use pandas to write the comma-separated output file\n",
    "output.to_csv(os.path.join(outputs,'LR_tfidf_model.csv'), index=False, quoting=3)"
   ]
  },
  {
   "cell_type": "code",
   "execution_count": 56,
   "metadata": {},
   "outputs": [
    {
     "data": {
      "text/html": [
       "<div>\n",
       "<style scoped>\n",
       "    .dataframe tbody tr th:only-of-type {\n",
       "        vertical-align: middle;\n",
       "    }\n",
       "\n",
       "    .dataframe tbody tr th {\n",
       "        vertical-align: top;\n",
       "    }\n",
       "\n",
       "    .dataframe thead th {\n",
       "        text-align: right;\n",
       "    }\n",
       "</style>\n",
       "<table border=\"1\" class=\"dataframe\">\n",
       "  <thead>\n",
       "    <tr style=\"text-align: right;\">\n",
       "      <th></th>\n",
       "      <th>id</th>\n",
       "      <th>sentiment</th>\n",
       "    </tr>\n",
       "  </thead>\n",
       "  <tbody>\n",
       "    <tr>\n",
       "      <th>0</th>\n",
       "      <td>\"12311_10\"</td>\n",
       "      <td>0</td>\n",
       "    </tr>\n",
       "    <tr>\n",
       "      <th>1</th>\n",
       "      <td>\"8348_2\"</td>\n",
       "      <td>0</td>\n",
       "    </tr>\n",
       "    <tr>\n",
       "      <th>2</th>\n",
       "      <td>\"5828_4\"</td>\n",
       "      <td>0</td>\n",
       "    </tr>\n",
       "    <tr>\n",
       "      <th>3</th>\n",
       "      <td>\"7186_2\"</td>\n",
       "      <td>0</td>\n",
       "    </tr>\n",
       "    <tr>\n",
       "      <th>4</th>\n",
       "      <td>\"12128_7\"</td>\n",
       "      <td>0</td>\n",
       "    </tr>\n",
       "  </tbody>\n",
       "</table>\n",
       "</div>"
      ],
      "text/plain": [
       "           id  sentiment\n",
       "0  \"12311_10\"          0\n",
       "1    \"8348_2\"          0\n",
       "2    \"5828_4\"          0\n",
       "3    \"7186_2\"          0\n",
       "4   \"12128_7\"          0"
      ]
     },
     "execution_count": 56,
     "metadata": {},
     "output_type": "execute_result"
    }
   ],
   "source": [
    "output.head()"
   ]
  },
  {
   "cell_type": "markdown",
   "metadata": {},
   "source": [
    "Part 2: Alternative Vectors\n",
    "--\n",
    "\n",
    "In the subsequent sections, we are going to explore alternate ways to codify text into vectors. We are going to explore three techniques, namely Latent Semantic Indexing (LSI), Latent Dirichlet Allocation (LDA) and Word2vec."
   ]
  },
  {
   "cell_type": "markdown",
   "metadata": {},
   "source": [
    "### Topic Modeling and Topic Vectors"
   ]
  },
  {
   "cell_type": "markdown",
   "metadata": {},
   "source": [
    "To build the models, the more we have texts, the better. The size of the Corpus is essential for having good results. We don't need labels in order to create the models, so we will use the train examples and also some unlabeled reviews. The list of cleaned sentences will be used for all the subsequent models."
   ]
  },
  {
   "cell_type": "code",
   "execution_count": 57,
   "metadata": {},
   "outputs": [
    {
     "name": "stdout",
     "output_type": "stream",
     "text": [
      "Parsing sentences from training set\n",
      "Parsing sentences from unlabeled set\n",
      "Parsing sentences from test set\n",
      "Parsing sentences with stopwords from training set\n",
      "Parsing sentences with stopwords from unlabeled set\n",
      "Parsing sentences with stopwords from test set\n"
     ]
    }
   ],
   "source": [
    "print(\"Parsing sentences from training set\")\n",
    "labeled_sentences = Text_Cleaning_Utilities.df_to_list_of_tokens(train,\n",
    "                                                                 'review', \n",
    "                                                                 remove_html=True,\n",
    "                                                                 remove_stopwords=True,)\n",
    "print(\"Parsing sentences from unlabeled set\")\n",
    "all_sentences = labeled_sentences + Text_Cleaning_Utilities.df_to_list_of_tokens(unlabeled_train,\n",
    "                                                                                 'review', \n",
    "                                                                                 remove_html=True,\n",
    "                                                                                 remove_stopwords=True,)\n",
    "\n",
    "print(\"Parsing sentences from test set\")\n",
    "test_labeled_sentences = Text_Cleaning_Utilities.df_to_list_of_tokens(test,\n",
    "                                                                      'review', \n",
    "                                                                      remove_html=True,\n",
    "                                                                      remove_stopwords=True,)\n",
    "\n",
    "print(\"Parsing sentences with stopwords from training set\")\n",
    "labeled_sentences_sw = Text_Cleaning_Utilities.df_to_list_of_tokens(train,\n",
    "                                                                    'review', \n",
    "                                                                    remove_html=True,\n",
    "                                                                    remove_stopwords=False,)\n",
    "\n",
    "print(\"Parsing sentences with stopwords from unlabeled set\")\n",
    "all_sentences_sw = labeled_sentences_sw + Text_Cleaning_Utilities.df_to_list_of_tokens(unlabeled_train,\n",
    "                                                                                       'review', \n",
    "                                                                                       remove_html=True,\n",
    "                                                                                       remove_stopwords=False,)\n",
    "\n",
    "print(\"Parsing sentences with stopwords from test set\")\n",
    "test_labeled_sentences_sw = Text_Cleaning_Utilities.df_to_list_of_tokens(test,\n",
    "                                                                         'review', \n",
    "                                                                         remove_html=True,\n",
    "                                                                         remove_stopwords=False,)"
   ]
  },
  {
   "cell_type": "code",
   "execution_count": 58,
   "metadata": {},
   "outputs": [
    {
     "name": "stdout",
     "output_type": "stream",
     "text": [
      "25000\n",
      "75000\n",
      "25000\n",
      "25000\n",
      "75000\n",
      "25000\n"
     ]
    }
   ],
   "source": [
    "print(len(labeled_sentences))\n",
    "print(len(all_sentences))\n",
    "print(len(test_labeled_sentences))\n",
    "print(len(labeled_sentences_sw))\n",
    "print(len(all_sentences_sw))\n",
    "print(len(test_labeled_sentences_sw))"
   ]
  },
  {
   "cell_type": "markdown",
   "metadata": {},
   "source": [
    "Saving sentences to a Pickle"
   ]
  },
  {
   "cell_type": "code",
   "execution_count": 59,
   "metadata": {},
   "outputs": [],
   "source": [
    "with open(os.path.join(outputs, 'sentences.pkl'),'wb') as f:\n",
    "    pickle.dump((labeled_sentences,\n",
    "                 all_sentences,\n",
    "                 test_labeled_sentences,\n",
    "                 labeled_sentences_sw,\n",
    "                 all_sentences_sw,\n",
    "                 test_labeled_sentences_sw,), f)"
   ]
  },
  {
   "cell_type": "markdown",
   "metadata": {},
   "source": [
    "Loading sentences from a Pickle"
   ]
  },
  {
   "cell_type": "code",
   "execution_count": 60,
   "metadata": {},
   "outputs": [],
   "source": [
    "with open(os.path.join(outputs, 'sentences.pkl'),'rb') as f:\n",
    "    (labeled_sentences,\n",
    "     all_sentences,\n",
    "     test_labeled_sentences,\n",
    "     labeled_sentences_sw,\n",
    "     all_sentences_sw,\n",
    "     test_labeled_sentences_sw,) = pickle.load(f)"
   ]
  },
  {
   "cell_type": "code",
   "execution_count": 61,
   "metadata": {},
   "outputs": [],
   "source": [
    "def nltk_stopwords():\n",
    "    return set(nltk.corpus.stopwords.words('english'))\n",
    "\n",
    "def prep_corpus(docs, additional_stopwords=set(), no_below=4, no_above=0.7):\n",
    "    print('Building dictionary...')\n",
    "    dictionary = corpora.Dictionary(docs)\n",
    "    print('{} Tokens extracted from {} texts'.format(len(dictionary.keys()), dictionary.num_docs))\n",
    "    stopwords = nltk_stopwords().union(additional_stopwords)\n",
    "    #stopword_ids = [dictionary.token2id[sw] for sw in stopwords if sw in dictionary.token2id]\n",
    "    stopword_ids = map(dictionary.token2id.get, stopwords)\n",
    "    dictionary.filter_tokens(stopword_ids)\n",
    "    #low_freq_ids = [tokenid for tokenid, docfreq in dictionary.dfs.items() if docfreq < 4]\n",
    "    #dictionary.filter_tokens(low_freq_ids)\n",
    "    dictionary.filter_extremes(no_below=no_below, no_above=no_above, keep_n=None)\n",
    "    dictionary.compactify()\n",
    "    print('{} Tokens after cleaning'.format(len(dictionary.keys())))\n",
    "    #print('Building corpus...')\n",
    "    #corpus = [dictionary.doc2bow(doc) for doc in docs]\n",
    "    return dictionary #, corpus"
   ]
  },
  {
   "cell_type": "markdown",
   "metadata": {},
   "source": [
    "Compacting and saving the dictionary"
   ]
  },
  {
   "cell_type": "code",
   "execution_count": 62,
   "metadata": {},
   "outputs": [
    {
     "name": "stdout",
     "output_type": "stream",
     "text": [
      "Building dictionary...\n",
      "256506 Tokens extracted from 75000 texts\n",
      "56367 Tokens after cleaning\n",
      "dictionary done\n",
      "dictionary saved\n"
     ]
    }
   ],
   "source": [
    "additional_stopwords=set(['n\\'t', 'movie'])\n",
    "\n",
    "dictionary = prep_corpus(all_sentences, additional_stopwords)\n",
    "dictionary.compactify()\n",
    "print('dictionary done')\n",
    "\n",
    "dictionary.save(os.path.join(outputs, 'reviews.dict'))\n",
    "print('dictionary saved')"
   ]
  },
  {
   "cell_type": "code",
   "execution_count": 63,
   "metadata": {},
   "outputs": [
    {
     "name": "stdout",
     "output_type": "stream",
     "text": [
      "81\n"
     ]
    }
   ],
   "source": [
    "#print(dictionary.token2id['movie']) #verify if these words were in the stopwords list\n",
    "#print(dictionary.token2id['n\\'t'])\n",
    "print(dictionary.token2id['like'])"
   ]
  },
  {
   "cell_type": "markdown",
   "metadata": {},
   "source": [
    "Loading dictionary"
   ]
  },
  {
   "cell_type": "code",
   "execution_count": 64,
   "metadata": {},
   "outputs": [],
   "source": [
    "dictionary = corpora.dictionary.Dictionary.load(os.path.join(outputs, 'reviews.dict'))"
   ]
  },
  {
   "cell_type": "markdown",
   "metadata": {},
   "source": [
    "Generating the Corpora (tf and tfidf"
   ]
  },
  {
   "cell_type": "code",
   "execution_count": 65,
   "metadata": {},
   "outputs": [
    {
     "name": "stdout",
     "output_type": "stream",
     "text": [
      "corpus tf done\n",
      "corpus tfidf done\n"
     ]
    }
   ],
   "source": [
    "corpus_tf = [dictionary.doc2bow(sentence) for sentence in all_sentences]\n",
    "print('corpus tf done')\n",
    "tfidf = models.TfidfModel(corpus_tf)\n",
    "corpus_tfidf = tfidf[corpus_tf]\n",
    "print('corpus tfidf done')"
   ]
  },
  {
   "cell_type": "markdown",
   "metadata": {},
   "source": [
    "Saving the Corpora"
   ]
  },
  {
   "cell_type": "code",
   "execution_count": 66,
   "metadata": {},
   "outputs": [],
   "source": [
    "corpora.MmCorpus.serialize(os.path.join(outputs, 'corpus_tf.mm'), corpus_tf)\n",
    "corpora.MmCorpus.serialize(os.path.join(outputs, 'corpus_tfidf.mm'), corpus_tfidf)"
   ]
  },
  {
   "cell_type": "markdown",
   "metadata": {},
   "source": [
    "Loading the Corpora"
   ]
  },
  {
   "cell_type": "code",
   "execution_count": 67,
   "metadata": {},
   "outputs": [],
   "source": [
    "corpus_tf = corpora.MmCorpus(os.path.join(outputs, 'corpus_tf.mm'))\n",
    "corpus_tfidf = corpora.MmCorpus(os.path.join(outputs, 'corpus_tfidf.mm'))"
   ]
  },
  {
   "cell_type": "markdown",
   "metadata": {},
   "source": [
    "### Latent Semantic Indexing\n",
    "https://en.wikipedia.org/wiki/Latent_semantic_analysis  "
   ]
  },
  {
   "cell_type": "markdown",
   "metadata": {},
   "source": [
    "Generating the Models and the Corpora"
   ]
  },
  {
   "cell_type": "code",
   "execution_count": 68,
   "metadata": {},
   "outputs": [
    {
     "name": "stdout",
     "output_type": "stream",
     "text": [
      "corpus lsi - TF done\n",
      "corpus lsi - TFIDF done\n"
     ]
    }
   ],
   "source": [
    "lsi_tf = models.LsiModel(corpus_tf, id2word=dictionary, num_topics=10)\n",
    "corpus_lsi_tf = lsi_tf[corpus_tf]\n",
    "print('corpus lsi - TF done')\n",
    "lsi_tfidf = models.LsiModel(corpus_tfidf, id2word=dictionary, num_topics=10)\n",
    "corpus_lsi_tfidf = lsi_tfidf[corpus_tfidf]\n",
    "print('corpus lsi - TFIDF done')"
   ]
  },
  {
   "cell_type": "markdown",
   "metadata": {},
   "source": [
    "Saving the Models and the Corpora"
   ]
  },
  {
   "cell_type": "code",
   "execution_count": 69,
   "metadata": {},
   "outputs": [],
   "source": [
    "lsi_tf.save(os.path.join(outputs, 'model_tf.lsi'))\n",
    "corpora.MmCorpus.serialize(os.path.join(outputs, 'corpus_lsi_tf.mm'), corpus_lsi_tf)\n",
    "lsi_tfidf.save(os.path.join(outputs, 'model_tfidf.lsi'))\n",
    "corpora.MmCorpus.serialize(os.path.join(outputs, 'corpus_lsi_tfidf.mm'), corpus_lsi_tfidf)"
   ]
  },
  {
   "cell_type": "markdown",
   "metadata": {},
   "source": [
    "Loading the Models and the Corpora"
   ]
  },
  {
   "cell_type": "code",
   "execution_count": 70,
   "metadata": {},
   "outputs": [],
   "source": [
    "lsi_tf = models.LsiModel.load(os.path.join(outputs, 'model_tf.lsi'))\n",
    "corpus_lsi_tf = corpora.MmCorpus(os.path.join(outputs, 'corpus_lsi_tf.mm'))\n",
    "lsi_tfidf = models.LsiModel.load(os.path.join(outputs, 'model_tfidf.lsi'))\n",
    "corpus_lsi_tfidf = corpora.MmCorpus(os.path.join(outputs, 'corpus_lsi_tfidf.mm'))"
   ]
  },
  {
   "cell_type": "markdown",
   "metadata": {},
   "source": [
    "#### Visualizing the topics"
   ]
  },
  {
   "cell_type": "code",
   "execution_count": 71,
   "metadata": {},
   "outputs": [
    {
     "data": {
      "text/plain": [
       "[(0,\n",
       "  '0.508*\"film\" + 0.290*\"one\" + 0.218*\"like\" + 0.147*\"would\" + 0.145*\"good\" + 0.137*\"even\" + 0.125*\"time\" + 0.123*\"really\" + 0.119*\"story\" + 0.117*\"see\"'),\n",
       " (1,\n",
       "  '-0.833*\"film\" + 0.214*\"one\" + 0.195*\"like\" + 0.113*\"show\" + 0.105*\"movies\" + 0.105*\"good\" + 0.101*\"would\" + 0.093*\"even\" + 0.092*\"really\" + 0.085*\"get\"'),\n",
       " (2,\n",
       "  '-0.728*\"one\" + 0.456*\"like\" + 0.179*\"bad\" + 0.164*\"really\" + 0.152*\"good\" + 0.124*\"would\" + 0.095*\"people\" + 0.079*\"think\" + -0.076*\"two\" + 0.071*\"could\"'),\n",
       " (3,\n",
       "  '0.493*\"one\" + 0.424*\"like\" + -0.332*\"story\" + 0.243*\"bad\" + -0.139*\"show\" + -0.138*\"great\" + -0.137*\"also\" + -0.136*\"life\" + -0.128*\"love\" + -0.119*\"character\"'),\n",
       " (4,\n",
       "  '-0.623*\"good\" + 0.407*\"like\" + -0.310*\"bad\" + -0.249*\"really\" + 0.157*\"would\" + 0.145*\"people\" + 0.130*\"show\" + -0.128*\"acting\" + 0.117*\"life\" + -0.117*\"great\"'),\n",
       " (5,\n",
       "  '-0.524*\"like\" + 0.478*\"would\" + 0.235*\"bad\" + -0.225*\"story\" + 0.223*\"even\" + -0.196*\"good\" + 0.195*\"could\" + -0.184*\"great\" + -0.144*\"also\" + 0.100*\"get\"'),\n",
       " (6,\n",
       "  '-0.690*\"show\" + 0.390*\"story\" + -0.177*\"great\" + 0.170*\"even\" + -0.159*\"good\" + -0.148*\"series\" + 0.145*\"bad\" + -0.113*\"really\" + -0.103*\"episode\" + -0.090*\"shows\"'),\n",
       " (7,\n",
       "  '-0.678*\"would\" + -0.275*\"story\" + 0.225*\"bad\" + 0.200*\"get\" + -0.187*\"good\" + 0.168*\"time\" + -0.162*\"one\" + -0.157*\"like\" + 0.140*\"really\" + 0.138*\"people\"'),\n",
       " (8,\n",
       "  '-0.512*\"really\" + -0.339*\"people\" + -0.323*\"see\" + 0.266*\"even\" + -0.245*\"story\" + 0.198*\"good\" + -0.142*\"think\" + 0.136*\"time\" + 0.128*\"first\" + -0.121*\"love\"'),\n",
       " (9,\n",
       "  '-0.470*\"story\" + -0.387*\"show\" + 0.346*\"good\" + -0.250*\"even\" + -0.245*\"characters\" + 0.221*\"would\" + -0.189*\"bad\" + 0.172*\"see\" + 0.141*\"man\" + 0.116*\"get\"')]"
      ]
     },
     "execution_count": 71,
     "metadata": {},
     "output_type": "execute_result"
    }
   ],
   "source": [
    "lsi_tf.print_topics(10)"
   ]
  },
  {
   "cell_type": "code",
   "execution_count": 72,
   "metadata": {},
   "outputs": [
    {
     "data": {
      "text/plain": [
       "[('film', -0.8328171879912001),\n",
       " ('one', 0.21352022158311634),\n",
       " ('like', 0.19504186975785323),\n",
       " ('show', 0.11339984677185852),\n",
       " ('movies', 0.10546921821473505),\n",
       " ('good', 0.1052147106937665),\n",
       " ('would', 0.10067091606260432),\n",
       " ('even', 0.09282462109689811),\n",
       " ('really', 0.0915896677548897),\n",
       " ('get', 0.08476252198187124)]"
      ]
     },
     "execution_count": 72,
     "metadata": {},
     "output_type": "execute_result"
    }
   ],
   "source": [
    "lsi_tf.show_topic(1)"
   ]
  },
  {
   "cell_type": "code",
   "execution_count": 73,
   "metadata": {},
   "outputs": [
    {
     "data": {
      "text/plain": [
       "[(0,\n",
       "  '0.146*\"film\" + 0.103*\"bad\" + 0.101*\"good\" + 0.101*\"like\" + 0.101*\"really\" + 0.095*\"one\" + 0.094*\"would\" + 0.091*\"story\" + 0.089*\"see\" + 0.088*\"even\"'),\n",
       " (1,\n",
       "  '0.334*\"bad\" + 0.199*\"worst\" + 0.130*\"waste\" + 0.128*\"movies\" + 0.128*\"acting\" + 0.117*\"terrible\" + 0.113*\"ever\" + 0.108*\"horror\" + 0.107*\"horrible\" + 0.103*\"stupid\"'),\n",
       " (2,\n",
       "  '0.669*\"show\" + 0.216*\"episode\" + 0.212*\"series\" + -0.170*\"film\" + 0.153*\"episodes\" + 0.151*\"tv\" + 0.141*\"season\" + -0.136*\"horror\" + 0.126*\"funny\" + 0.117*\"shows\"'),\n",
       " (3,\n",
       "  '0.230*\"show\" + -0.225*\"book\" + -0.217*\"great\" + 0.177*\"horror\" + -0.114*\"movies\" + -0.113*\"seen\" + -0.111*\"read\" + -0.108*\"best\" + -0.105*\"love\" + 0.103*\"killer\"'),\n",
       " (4,\n",
       "  '-0.258*\"horror\" + -0.218*\"series\" + -0.160*\"action\" + 0.160*\"life\" + 0.146*\"people\" + -0.143*\"show\" + -0.135*\"original\" + -0.133*\"great\" + -0.131*\"effects\" + -0.116*\"good\"'),\n",
       " (5,\n",
       "  '0.375*\"book\" + -0.367*\"funny\" + -0.261*\"comedy\" + 0.193*\"series\" + 0.154*\"read\" + -0.126*\"jokes\" + -0.124*\"great\" + -0.123*\"laugh\" + -0.118*\"fun\" + 0.106*\"show\"'),\n",
       " (6,\n",
       "  '0.383*\"horror\" + -0.231*\"bad\" + -0.147*\"worst\" + -0.133*\"show\" + 0.128*\"scary\" + -0.116*\"script\" + 0.114*\"saw\" + 0.110*\"gore\" + -0.107*\"acting\" + 0.106*\"kids\"'),\n",
       " (7,\n",
       "  '-0.283*\"book\" + 0.267*\"ever\" + 0.231*\"worst\" + 0.214*\"seen\" + 0.158*\"horror\" + -0.156*\"characters\" + -0.139*\"really\" + -0.138*\"good\" + 0.127*\"films\" + 0.126*\"years\"'),\n",
       " (8,\n",
       "  '0.510*\"book\" + -0.171*\"film\" + 0.159*\"read\" + 0.128*\"version\" + -0.128*\"people\" + -0.127*\"show\" + 0.107*\"bad\" + -0.105*\"films\" + -0.101*\"characters\" + 0.095*\"original\"'),\n",
       " (9,\n",
       "  '-0.346*\"horror\" + 0.314*\"action\" + 0.267*\"game\" + -0.199*\"book\" + -0.186*\"funny\" + -0.186*\"show\" + -0.181*\"comedy\" + -0.140*\"film\" + 0.132*\"series\" + 0.123*\"war\"')]"
      ]
     },
     "execution_count": 73,
     "metadata": {},
     "output_type": "execute_result"
    }
   ],
   "source": [
    "lsi_tfidf.print_topics(10)"
   ]
  },
  {
   "cell_type": "code",
   "execution_count": 74,
   "metadata": {},
   "outputs": [
    {
     "data": {
      "text/plain": [
       "[('bad', 0.33427590014047076),\n",
       " ('worst', 0.19929520857832833),\n",
       " ('waste', 0.12990091836347162),\n",
       " ('movies', 0.12849092687886707),\n",
       " ('acting', 0.12847640464839188),\n",
       " ('terrible', 0.1169435444756332),\n",
       " ('ever', 0.11340224048552616),\n",
       " ('horror', 0.10840675269007632),\n",
       " ('horrible', 0.1066425378698195),\n",
       " ('stupid', 0.10337896608243163)]"
      ]
     },
     "execution_count": 74,
     "metadata": {},
     "output_type": "execute_result"
    }
   ],
   "source": [
    "lsi_tfidf.show_topic(1)"
   ]
  },
  {
   "cell_type": "markdown",
   "metadata": {},
   "source": [
    "### Latent Dirichlet Allocation\n",
    "\n",
    "https://en.wikipedia.org/wiki/Latent_Dirichlet_allocation  "
   ]
  },
  {
   "cell_type": "markdown",
   "metadata": {},
   "source": [
    "#### Using Gensim"
   ]
  },
  {
   "cell_type": "markdown",
   "metadata": {},
   "source": [
    "Generating the Models and the Corpora"
   ]
  },
  {
   "cell_type": "code",
   "execution_count": 75,
   "metadata": {},
   "outputs": [
    {
     "name": "stdout",
     "output_type": "stream",
     "text": [
      "corpus lda tf done\n",
      "corpus lda tfidf done\n"
     ]
    }
   ],
   "source": [
    "lda_tf = models.LdaModel(corpus_tf, id2word=dictionary, num_topics=10, passes=10)\n",
    "corpus_lda_tf = lda_tf[corpus_tf]\n",
    "print('corpus lda tf done')\n",
    "\n",
    "lda_tfidf = models.LdaModel(corpus_tfidf, id2word=dictionary, num_topics=10, passes=10)\n",
    "corpus_lda_tfidf = lda_tfidf[corpus_tfidf]\n",
    "print('corpus lda tfidf done')"
   ]
  },
  {
   "cell_type": "markdown",
   "metadata": {},
   "source": [
    "Saving the Models and the Corpora"
   ]
  },
  {
   "cell_type": "code",
   "execution_count": 76,
   "metadata": {},
   "outputs": [],
   "source": [
    "lda_tf.save(os.path.join(outputs, 'model_tf.lda'))\n",
    "corpora.MmCorpus.serialize(os.path.join(outputs, 'corpus_lda_tf.mm'), corpus_lda_tf)\n",
    "\n",
    "lda_tfidf.save(os.path.join(outputs, 'model_tfidf.lda'))\n",
    "corpora.MmCorpus.serialize(os.path.join(outputs, 'corpus_lda_tfidf.mm'), corpus_lda_tfidf)"
   ]
  },
  {
   "cell_type": "markdown",
   "metadata": {},
   "source": [
    "Loading the Models and the Corpora"
   ]
  },
  {
   "cell_type": "code",
   "execution_count": 77,
   "metadata": {},
   "outputs": [],
   "source": [
    "lda_tf = models.LdaModel.load(os.path.join(outputs, 'model_tf.lda'))\n",
    "corpus_lda_tf = corpora.MmCorpus(os.path.join(outputs, 'corpus_lda_tf.mm'))\n",
    "\n",
    "lda_tfidf = models.LdaModel.load(os.path.join(outputs, 'model_tfidf.lda'))\n",
    "corpus_lda_tfidf = corpora.MmCorpus(os.path.join(outputs, 'corpus_lda_tfidf.mm'))"
   ]
  },
  {
   "cell_type": "markdown",
   "metadata": {},
   "source": [
    "#### Visualizing the topics"
   ]
  },
  {
   "cell_type": "code",
   "execution_count": 78,
   "metadata": {},
   "outputs": [
    {
     "data": {
      "text/plain": [
       "[(0,\n",
       "  '0.019*\"film\" + 0.006*\"people\" + 0.006*\"life\" + 0.006*\"one\" + 0.005*\"us\" + 0.005*\"world\" + 0.004*\"story\"'),\n",
       " (1,\n",
       "  '0.026*\"film\" + 0.014*\"one\" + 0.013*\"great\" + 0.011*\"story\" + 0.010*\"good\" + 0.009*\"see\" + 0.009*\"well\"'),\n",
       " (2,\n",
       "  '0.014*\"horror\" + 0.008*\"one\" + 0.005*\"effects\" + 0.005*\"dead\" + 0.005*\"killer\" + 0.004*\"also\" + 0.004*\"blood\"'),\n",
       " (3,\n",
       "  '0.028*\"show\" + 0.023*\"funny\" + 0.019*\"comedy\" + 0.007*\"humor\" + 0.007*\"episode\" + 0.006*\"jokes\" + 0.006*\"hilarious\"'),\n",
       " (4,\n",
       "  '0.010*\"action\" + 0.009*\"one\" + 0.007*\"john\" + 0.005*\"good\" + 0.005*\"also\" + 0.005*\"great\" + 0.004*\"police\"'),\n",
       " (5,\n",
       "  '0.017*\"like\" + 0.013*\"one\" + 0.012*\"would\" + 0.010*\"bad\" + 0.010*\"really\" + 0.009*\"see\" + 0.009*\"get\"'),\n",
       " (6,\n",
       "  '0.042*\"film\" + 0.009*\"even\" + 0.009*\"plot\" + 0.008*\"one\" + 0.007*\"good\" + 0.007*\"films\" + 0.007*\"bad\"'),\n",
       " (7,\n",
       "  '0.020*\"war\" + 0.009*\"american\" + 0.007*\"french\" + 0.005*\"world\" + 0.005*\"german\" + 0.005*\"history\" + 0.005*\"british\"'),\n",
       " (8,\n",
       "  '0.007*\"young\" + 0.006*\"man\" + 0.006*\"love\" + 0.006*\"wife\" + 0.006*\"one\" + 0.005*\"woman\" + 0.005*\"father\"'),\n",
       " (9,\n",
       "  '0.012*\"indian\" + 0.008*\"holmes\" + 0.008*\"india\" + 0.007*\"cagney\" + 0.007*\"sandler\" + 0.007*\"khan\" + 0.006*\"jane\"')]"
      ]
     },
     "execution_count": 78,
     "metadata": {},
     "output_type": "execute_result"
    }
   ],
   "source": [
    "lda_tf.print_topics(num_topics=10, num_words=7)"
   ]
  },
  {
   "cell_type": "code",
   "execution_count": 79,
   "metadata": {},
   "outputs": [
    {
     "data": {
      "text/plain": [
       "[('like', 0.01731082),\n",
       " ('one', 0.013409059),\n",
       " ('would', 0.011633968),\n",
       " ('bad', 0.010114178),\n",
       " ('really', 0.010070619),\n",
       " ('see', 0.009287865),\n",
       " ('get', 0.008945702),\n",
       " ('good', 0.008633341),\n",
       " ('even', 0.008586549),\n",
       " ('people', 0.0083888965)]"
      ]
     },
     "execution_count": 79,
     "metadata": {},
     "output_type": "execute_result"
    }
   ],
   "source": [
    "lda_tf.show_topic(5)"
   ]
  },
  {
   "cell_type": "code",
   "execution_count": 80,
   "metadata": {},
   "outputs": [
    {
     "data": {
      "text/plain": [
       "[(0,\n",
       "  '0.003*\"film\" + 0.002*\"good\" + 0.002*\"like\" + 0.002*\"bad\" + 0.002*\"one\" + 0.002*\"really\" + 0.002*\"story\"'),\n",
       " (1,\n",
       "  '0.003*\"chaplin\" + 0.003*\"flynn\" + 0.002*\"korean\" + 0.002*\"cannibal\" + 0.002*\"choose\" + 0.002*\"errol\" + 0.002*\"baseball\"'),\n",
       " (2,\n",
       "  '0.004*\"holmes\" + 0.002*\"scorsese\" + 0.002*\"eastwood\" + 0.002*\"kirk\" + 0.002*\"niro\" + 0.002*\"anna\" + 0.002*\"sherlock\"'),\n",
       " (3,\n",
       "  '0.003*\"hellraiser\" + 0.002*\"griffith\" + 0.002*\"uma\" + 0.002*\"mins\" + 0.002*\"time.the\" + 0.002*\"o\\'toole\" + 0.002*\"symbolic\"'),\n",
       " (4,\n",
       "  '0.004*\"karloff\" + 0.003*\"woo\" + 0.002*\"spider\" + 0.002*\"asoka\" + 0.002*\"lisa\" + 0.002*\"boris\" + 0.002*\"underlying\"'),\n",
       " (5,\n",
       "  '0.005*\"dunne\" + 0.003*\"irene\" + 0.003*\"porky\" + 0.003*\"damme\" + 0.003*\"tripe\" + 0.002*\"frogs\" + 0.002*\"willis\"'),\n",
       " (6,\n",
       "  '0.004*\"sandler\" + 0.002*\"seagal\" + 0.002*\"movie.i\" + 0.002*\"highlander\" + 0.002*\"ringu\" + 0.002*\"carrey\" + 0.002*\"rats\"'),\n",
       " (7,\n",
       "  '0.004*\"godzilla\" + 0.003*\"candyman\" + 0.003*\"stanwyck\" + 0.002*\"quaid\" + 0.002*\"ripoff\" + 0.002*\"sharpe\" + 0.002*\"et\"'),\n",
       " (8,\n",
       "  '0.002*\"monster\" + 0.001*\"charlie\" + 0.001*\"eddie\" + 0.001*\"harry\" + 0.001*\"murphy\" + 0.001*\"dennis\" + 0.001*\"henry\"'),\n",
       " (9,\n",
       "  '0.002*\"alien\" + 0.002*\"cagney\" + 0.002*\"indian\" + 0.002*\"woody\" + 0.002*\"captain\" + 0.002*\"teenagers\" + 0.001*\"khan\"')]"
      ]
     },
     "execution_count": 80,
     "metadata": {},
     "output_type": "execute_result"
    }
   ],
   "source": [
    "lda_tfidf.print_topics(num_topics=10, num_words=7)\n",
    "#lda_tfidf.print_topics(10)"
   ]
  },
  {
   "cell_type": "code",
   "execution_count": 81,
   "metadata": {},
   "outputs": [
    {
     "data": {
      "text/plain": [
       "[(0,\n",
       "  [('film', 0.0030962217),\n",
       "   ('good', 0.0020880213),\n",
       "   ('like', 0.002052953),\n",
       "   ('bad', 0.0020214734),\n",
       "   ('one', 0.0020039885),\n",
       "   ('really', 0.0019684304),\n",
       "   ('story', 0.001912854),\n",
       "   ('would', 0.0019094408),\n",
       "   ('great', 0.0018712854),\n",
       "   ('see', 0.0018253359),\n",
       "   ('even', 0.0017860421),\n",
       "   ('time', 0.0017530791),\n",
       "   ('movies', 0.0017395193),\n",
       "   ('people', 0.0017272829),\n",
       "   ('could', 0.0016973324),\n",
       "   ('well', 0.0016607974),\n",
       "   ('watch', 0.0016088722),\n",
       "   ('much', 0.0015913444),\n",
       "   ('get', 0.0015749175),\n",
       "   ('show', 0.001570522)]),\n",
       " (1,\n",
       "  [('chaplin', 0.0027873297),\n",
       "   ('flynn', 0.0026655267),\n",
       "   ('korean', 0.0019442382),\n",
       "   ('cannibal', 0.0019334356),\n",
       "   ('choose', 0.0018444374),\n",
       "   ('errol', 0.0017808105),\n",
       "   ('baseball', 0.00157092),\n",
       "   ('crystal', 0.0015500811),\n",
       "   ('christie', 0.0014382681),\n",
       "   ('wilder', 0.0013873723),\n",
       "   ('lance', 0.0013807374),\n",
       "   ('linda', 0.0013772465),\n",
       "   ('neil', 0.0013654301),\n",
       "   ('argento', 0.0013627942),\n",
       "   ('tarzan', 0.0013541002),\n",
       "   ('apocalypse', 0.0012614792),\n",
       "   ('disagree', 0.0012497004),\n",
       "   ('baldwin', 0.0012467302),\n",
       "   ('scifi', 0.0012332312),\n",
       "   ('franco', 0.0012279856)])]"
      ]
     },
     "execution_count": 81,
     "metadata": {},
     "output_type": "execute_result"
    }
   ],
   "source": [
    "lda_tfidf.show_topics(formatted=False, num_words=20)[0:2]"
   ]
  },
  {
   "cell_type": "markdown",
   "metadata": {},
   "source": [
    "Visualizing using PyLDAvis  \n",
    "http://nbviewer.jupyter.org/github/bmabey/pyLDAvis/blob/master/notebooks/pyLDAvis_overview.ipynb  "
   ]
  },
  {
   "cell_type": "code",
   "execution_count": 82,
   "metadata": {},
   "outputs": [
    {
     "name": "stderr",
     "output_type": "stream",
     "text": [
      "/usr/local/lib/python3.6/dist-packages/pyLDAvis/_prepare.py:387: DeprecationWarning: \n",
      ".ix is deprecated. Please use\n",
      ".loc for label based indexing or\n",
      ".iloc for positional indexing\n",
      "\n",
      "See the documentation here:\n",
      "http://pandas.pydata.org/pandas-docs/stable/indexing.html#ix-indexer-is-deprecated\n",
      "  topic_term_dists = topic_term_dists.ix[topic_order]\n"
     ]
    },
    {
     "data": {
      "text/html": [
       "\n",
       "<link rel=\"stylesheet\" type=\"text/css\" href=\"https://cdn.rawgit.com/bmabey/pyLDAvis/files/ldavis.v1.0.0.css\">\n",
       "\n",
       "\n",
       "<div id=\"ldavis_el75471398265444029849882304983\"></div>\n",
       "<script type=\"text/javascript\">\n",
       "\n",
       "var ldavis_el75471398265444029849882304983_data = {\"mdsDat\": {\"Freq\": [21.860088348388672, 16.569753646850586, 14.740368843078613, 13.339442253112793, 9.781880378723145, 7.892786502838135, 6.202504634857178, 4.875899314880371, 3.4756228923797607, 1.2616575956344604], \"cluster\": [1, 1, 1, 1, 1, 1, 1, 1, 1, 1], \"topics\": [1, 2, 3, 4, 5, 6, 7, 8, 9, 10], \"x\": [0.15976793131215067, 0.13487234734257394, 0.1058393137488959, 0.13346212552384587, 0.007882517476281084, 0.044615359167571395, -0.018503582534354496, 0.010052105827110143, -0.13085497035158192, -0.4471331475124927], \"y\": [-0.08874862651012069, -0.09382750577245422, -0.03243626705212704, -0.13649521148676838, 0.02962208264256955, 0.08069797567593133, 0.11775135951201356, 0.016486027322315137, 0.2987373195105442, -0.1917871538419035]}, \"tinfo\": {\"Category\": [\"Default\", \"Default\", \"Default\", \"Default\", \"Default\", \"Default\", \"Default\", \"Default\", \"Default\", \"Default\", \"Default\", \"Default\", \"Default\", \"Default\", \"Default\", \"Default\", \"Default\", \"Default\", \"Default\", \"Default\", \"Default\", \"Default\", \"Default\", \"Default\", \"Default\", \"Default\", \"Default\", \"Default\", \"Default\", \"Default\", \"Topic1\", \"Topic1\", \"Topic1\", \"Topic1\", \"Topic1\", \"Topic1\", \"Topic1\", \"Topic1\", \"Topic1\", \"Topic1\", \"Topic1\", \"Topic1\", \"Topic1\", \"Topic1\", \"Topic1\", \"Topic1\", \"Topic1\", \"Topic1\", \"Topic1\", \"Topic1\", \"Topic1\", \"Topic1\", \"Topic1\", \"Topic1\", \"Topic1\", \"Topic1\", \"Topic1\", \"Topic1\", \"Topic1\", \"Topic1\", \"Topic1\", \"Topic1\", \"Topic1\", \"Topic1\", \"Topic1\", \"Topic1\", \"Topic1\", \"Topic1\", \"Topic1\", \"Topic1\", \"Topic1\", \"Topic1\", \"Topic1\", \"Topic1\", \"Topic1\", \"Topic1\", \"Topic1\", \"Topic1\", \"Topic1\", \"Topic1\", \"Topic1\", \"Topic1\", \"Topic1\", \"Topic1\", \"Topic1\", \"Topic1\", \"Topic1\", \"Topic1\", \"Topic1\", \"Topic1\", \"Topic1\", \"Topic1\", \"Topic1\", \"Topic1\", \"Topic1\", \"Topic1\", \"Topic1\", \"Topic1\", \"Topic1\", \"Topic1\", \"Topic1\", \"Topic1\", \"Topic1\", \"Topic1\", \"Topic1\", \"Topic1\", \"Topic1\", \"Topic1\", \"Topic1\", \"Topic1\", \"Topic1\", \"Topic1\", \"Topic1\", \"Topic1\", \"Topic1\", \"Topic1\", \"Topic1\", \"Topic2\", \"Topic2\", \"Topic2\", \"Topic2\", \"Topic2\", \"Topic2\", \"Topic2\", \"Topic2\", \"Topic2\", \"Topic2\", \"Topic2\", \"Topic2\", \"Topic2\", \"Topic2\", \"Topic2\", \"Topic2\", \"Topic2\", \"Topic2\", \"Topic2\", \"Topic2\", \"Topic2\", \"Topic2\", \"Topic2\", \"Topic2\", \"Topic2\", \"Topic2\", \"Topic2\", \"Topic2\", \"Topic2\", \"Topic2\", \"Topic2\", \"Topic2\", \"Topic2\", \"Topic2\", \"Topic2\", \"Topic2\", \"Topic2\", \"Topic2\", \"Topic2\", \"Topic2\", \"Topic2\", \"Topic2\", \"Topic2\", \"Topic2\", \"Topic2\", \"Topic2\", \"Topic2\", \"Topic2\", \"Topic2\", \"Topic2\", \"Topic2\", \"Topic2\", \"Topic2\", \"Topic2\", \"Topic2\", \"Topic2\", \"Topic2\", \"Topic2\", \"Topic2\", \"Topic2\", \"Topic2\", \"Topic2\", \"Topic2\", \"Topic2\", \"Topic2\", \"Topic2\", \"Topic2\", \"Topic2\", \"Topic2\", \"Topic2\", \"Topic2\", \"Topic2\", \"Topic2\", \"Topic2\", \"Topic2\", \"Topic2\", \"Topic2\", \"Topic2\", \"Topic2\", \"Topic2\", \"Topic2\", \"Topic2\", \"Topic2\", \"Topic3\", \"Topic3\", \"Topic3\", \"Topic3\", \"Topic3\", \"Topic3\", \"Topic3\", \"Topic3\", \"Topic3\", \"Topic3\", \"Topic3\", \"Topic3\", \"Topic3\", \"Topic3\", \"Topic3\", \"Topic3\", \"Topic3\", \"Topic3\", \"Topic3\", \"Topic3\", \"Topic3\", \"Topic3\", \"Topic3\", \"Topic3\", \"Topic3\", \"Topic3\", \"Topic3\", \"Topic3\", \"Topic3\", \"Topic3\", \"Topic3\", \"Topic3\", \"Topic3\", \"Topic3\", \"Topic3\", \"Topic3\", \"Topic3\", \"Topic3\", \"Topic3\", \"Topic3\", \"Topic3\", \"Topic3\", \"Topic3\", \"Topic3\", \"Topic3\", \"Topic3\", \"Topic3\", \"Topic3\", \"Topic3\", \"Topic3\", \"Topic3\", \"Topic3\", \"Topic3\", \"Topic3\", \"Topic3\", \"Topic3\", \"Topic3\", \"Topic3\", \"Topic3\", \"Topic3\", \"Topic3\", \"Topic3\", \"Topic3\", \"Topic3\", \"Topic3\", \"Topic3\", \"Topic3\", \"Topic3\", \"Topic3\", \"Topic3\", \"Topic3\", \"Topic3\", \"Topic3\", \"Topic3\", \"Topic3\", \"Topic3\", \"Topic3\", \"Topic3\", \"Topic3\", \"Topic3\", \"Topic3\", \"Topic3\", \"Topic3\", \"Topic3\", \"Topic3\", \"Topic3\", \"Topic3\", \"Topic3\", \"Topic3\", \"Topic3\", \"Topic3\", \"Topic3\", \"Topic3\", \"Topic3\", \"Topic3\", \"Topic3\", \"Topic3\", \"Topic4\", \"Topic4\", \"Topic4\", \"Topic4\", \"Topic4\", \"Topic4\", \"Topic4\", \"Topic4\", \"Topic4\", \"Topic4\", \"Topic4\", \"Topic4\", \"Topic4\", \"Topic4\", \"Topic4\", \"Topic4\", \"Topic4\", \"Topic4\", \"Topic4\", \"Topic4\", \"Topic4\", \"Topic4\", \"Topic4\", \"Topic4\", \"Topic4\", \"Topic4\", \"Topic4\", \"Topic4\", \"Topic4\", \"Topic4\", \"Topic4\", \"Topic4\", \"Topic4\", \"Topic4\", \"Topic4\", \"Topic4\", \"Topic4\", \"Topic4\", \"Topic4\", \"Topic4\", \"Topic4\", \"Topic4\", \"Topic4\", \"Topic4\", \"Topic4\", \"Topic4\", \"Topic4\", \"Topic4\", \"Topic4\", \"Topic4\", \"Topic4\", \"Topic4\", \"Topic4\", \"Topic4\", \"Topic4\", \"Topic4\", \"Topic4\", \"Topic4\", \"Topic4\", \"Topic4\", \"Topic4\", \"Topic4\", \"Topic4\", \"Topic4\", \"Topic4\", \"Topic4\", \"Topic4\", \"Topic4\", \"Topic4\", \"Topic4\", \"Topic4\", \"Topic4\", \"Topic4\", \"Topic4\", \"Topic4\", \"Topic4\", \"Topic4\", \"Topic4\", \"Topic4\", \"Topic4\", \"Topic4\", \"Topic4\", \"Topic4\", \"Topic4\", \"Topic4\", \"Topic4\", \"Topic4\", \"Topic4\", \"Topic4\", \"Topic4\", \"Topic4\", \"Topic4\", \"Topic4\", \"Topic5\", \"Topic5\", \"Topic5\", \"Topic5\", \"Topic5\", \"Topic5\", \"Topic5\", \"Topic5\", \"Topic5\", \"Topic5\", \"Topic5\", \"Topic5\", \"Topic5\", \"Topic5\", \"Topic5\", \"Topic5\", \"Topic5\", \"Topic5\", \"Topic5\", \"Topic5\", \"Topic5\", \"Topic5\", \"Topic5\", \"Topic5\", \"Topic5\", \"Topic5\", \"Topic5\", \"Topic5\", \"Topic5\", \"Topic5\", \"Topic5\", \"Topic5\", \"Topic5\", \"Topic5\", \"Topic5\", \"Topic5\", \"Topic5\", \"Topic5\", \"Topic5\", \"Topic5\", \"Topic5\", \"Topic5\", \"Topic5\", \"Topic5\", \"Topic5\", \"Topic5\", \"Topic5\", \"Topic5\", \"Topic5\", \"Topic5\", \"Topic5\", \"Topic5\", \"Topic5\", \"Topic5\", \"Topic5\", \"Topic5\", \"Topic5\", \"Topic5\", \"Topic5\", \"Topic5\", \"Topic5\", \"Topic5\", \"Topic5\", \"Topic5\", \"Topic5\", \"Topic5\", \"Topic5\", \"Topic5\", \"Topic5\", \"Topic5\", \"Topic5\", \"Topic5\", \"Topic5\", \"Topic5\", \"Topic5\", \"Topic5\", \"Topic5\", \"Topic5\", \"Topic6\", \"Topic6\", \"Topic6\", \"Topic6\", \"Topic6\", \"Topic6\", \"Topic6\", \"Topic6\", \"Topic6\", \"Topic6\", \"Topic6\", \"Topic6\", \"Topic6\", \"Topic6\", \"Topic6\", \"Topic6\", \"Topic6\", \"Topic6\", \"Topic6\", \"Topic6\", \"Topic6\", \"Topic6\", \"Topic6\", \"Topic6\", \"Topic6\", \"Topic6\", \"Topic6\", \"Topic6\", \"Topic6\", \"Topic6\", \"Topic6\", \"Topic6\", \"Topic6\", \"Topic6\", \"Topic6\", \"Topic6\", \"Topic6\", \"Topic6\", \"Topic6\", \"Topic6\", \"Topic6\", \"Topic6\", \"Topic6\", \"Topic6\", \"Topic6\", \"Topic6\", \"Topic6\", \"Topic6\", \"Topic6\", \"Topic6\", \"Topic6\", \"Topic6\", \"Topic6\", \"Topic6\", \"Topic6\", \"Topic6\", \"Topic6\", \"Topic6\", \"Topic6\", \"Topic6\", \"Topic6\", \"Topic6\", \"Topic6\", \"Topic6\", \"Topic6\", \"Topic6\", \"Topic6\", \"Topic6\", \"Topic6\", \"Topic6\", \"Topic7\", \"Topic7\", \"Topic7\", \"Topic7\", \"Topic7\", \"Topic7\", \"Topic7\", \"Topic7\", \"Topic7\", \"Topic7\", \"Topic7\", \"Topic7\", \"Topic7\", \"Topic7\", \"Topic7\", \"Topic7\", \"Topic7\", \"Topic7\", \"Topic7\", \"Topic7\", \"Topic7\", \"Topic7\", \"Topic7\", \"Topic7\", \"Topic7\", \"Topic7\", \"Topic7\", \"Topic7\", \"Topic7\", \"Topic7\", \"Topic7\", \"Topic7\", \"Topic7\", \"Topic7\", \"Topic7\", \"Topic7\", \"Topic7\", \"Topic7\", \"Topic7\", \"Topic7\", \"Topic7\", \"Topic7\", \"Topic7\", \"Topic7\", \"Topic7\", \"Topic7\", \"Topic7\", \"Topic7\", \"Topic7\", \"Topic7\", \"Topic7\", \"Topic7\", \"Topic7\", \"Topic7\", \"Topic7\", \"Topic7\", \"Topic7\", \"Topic7\", \"Topic7\", \"Topic7\", \"Topic7\", \"Topic7\", \"Topic7\", \"Topic7\", \"Topic7\", \"Topic7\", \"Topic7\", \"Topic7\", \"Topic7\", \"Topic7\", \"Topic7\", \"Topic7\", \"Topic7\", \"Topic7\", \"Topic7\", \"Topic7\", \"Topic8\", \"Topic8\", \"Topic8\", \"Topic8\", \"Topic8\", \"Topic8\", \"Topic8\", \"Topic8\", \"Topic8\", \"Topic8\", \"Topic8\", \"Topic8\", \"Topic8\", \"Topic8\", \"Topic8\", \"Topic8\", \"Topic8\", \"Topic8\", \"Topic8\", \"Topic8\", \"Topic8\", \"Topic8\", \"Topic8\", \"Topic8\", \"Topic8\", \"Topic8\", \"Topic8\", \"Topic8\", \"Topic8\", \"Topic8\", \"Topic8\", \"Topic8\", \"Topic8\", \"Topic8\", \"Topic8\", \"Topic8\", \"Topic8\", \"Topic8\", \"Topic8\", \"Topic8\", \"Topic8\", \"Topic8\", \"Topic8\", \"Topic8\", \"Topic8\", \"Topic8\", \"Topic8\", \"Topic8\", \"Topic8\", \"Topic8\", \"Topic8\", \"Topic8\", \"Topic8\", \"Topic8\", \"Topic8\", \"Topic8\", \"Topic8\", \"Topic8\", \"Topic8\", \"Topic8\", \"Topic8\", \"Topic8\", \"Topic8\", \"Topic8\", \"Topic8\", \"Topic8\", \"Topic8\", \"Topic8\", \"Topic9\", \"Topic9\", \"Topic9\", \"Topic9\", \"Topic9\", \"Topic9\", \"Topic9\", \"Topic9\", \"Topic9\", \"Topic9\", \"Topic9\", \"Topic9\", \"Topic9\", \"Topic9\", \"Topic9\", \"Topic9\", \"Topic9\", \"Topic9\", \"Topic9\", \"Topic9\", \"Topic9\", \"Topic9\", \"Topic9\", \"Topic9\", \"Topic9\", \"Topic9\", \"Topic9\", \"Topic9\", \"Topic9\", \"Topic9\", \"Topic9\", \"Topic9\", \"Topic9\", \"Topic9\", \"Topic9\", \"Topic9\", \"Topic9\", \"Topic9\", \"Topic9\", \"Topic9\", \"Topic9\", \"Topic9\", \"Topic9\", \"Topic9\", \"Topic9\", \"Topic9\", \"Topic9\", \"Topic9\", \"Topic9\", \"Topic9\", \"Topic9\", \"Topic9\", \"Topic9\", \"Topic9\", \"Topic9\", \"Topic9\", \"Topic9\", \"Topic9\", \"Topic9\", \"Topic9\", \"Topic9\", \"Topic9\", \"Topic9\", \"Topic9\", \"Topic9\", \"Topic9\", \"Topic9\", \"Topic9\", \"Topic9\", \"Topic9\", \"Topic9\", \"Topic9\", \"Topic10\", \"Topic10\", \"Topic10\", \"Topic10\", \"Topic10\", \"Topic10\", \"Topic10\", \"Topic10\", \"Topic10\", \"Topic10\", \"Topic10\", \"Topic10\", \"Topic10\", \"Topic10\", \"Topic10\", \"Topic10\", \"Topic10\", \"Topic10\", \"Topic10\", \"Topic10\", \"Topic10\", \"Topic10\", \"Topic10\", \"Topic10\", \"Topic10\", \"Topic10\", \"Topic10\", \"Topic10\", \"Topic10\", \"Topic10\", \"Topic10\", \"Topic10\", \"Topic10\", \"Topic10\", \"Topic10\", \"Topic10\", \"Topic10\", \"Topic10\", \"Topic10\", \"Topic10\", \"Topic10\", \"Topic10\", \"Topic10\", \"Topic10\", \"Topic10\"], \"Freq\": [118425.0, 16885.0, 12942.0, 26946.0, 9322.0, 10127.0, 27326.0, 6193.0, 34694.0, 27573.0, 43308.0, 10308.0, 33758.0, 21002.0, 58723.0, 18523.0, 39828.0, 17981.0, 9286.0, 19165.0, 19757.0, 22462.0, 11187.0, 19221.0, 6606.0, 21654.0, 34613.0, 28431.0, 20955.0, 17362.0, 1362.21728515625, 831.3548583984375, 821.1818237304688, 469.65069580078125, 455.5283508300781, 371.4980163574219, 251.8985595703125, 218.22166442871094, 209.32081604003906, 204.34002685546875, 186.47662353515625, 182.5135040283203, 179.2828826904297, 175.5750732421875, 170.5939178466797, 165.05992126464844, 159.79730224609375, 159.0586395263672, 152.86712646484375, 149.20835876464844, 149.02442932128906, 147.0012969970703, 145.44386291503906, 144.58761596679688, 142.89987182617188, 137.88320922851562, 133.4206085205078, 130.36825561523438, 124.9100341796875, 123.756591796875, 2657.687255859375, 556.7449340820312, 4653.94140625, 1091.8587646484375, 1286.06982421875, 579.8663330078125, 712.5465698242188, 3395.39990234375, 3210.178466796875, 1896.2265625, 302.2370300292969, 3913.8310546875, 507.61993408203125, 1906.5960693359375, 1095.56298828125, 18891.26171875, 12878.595703125, 5258.03125, 5167.54345703125, 2478.797607421875, 6700.21728515625, 7669.21826171875, 2936.109375, 2208.819091796875, 9098.0849609375, 8467.4111328125, 7391.08642578125, 5468.01025390625, 13420.2236328125, 16708.78125, 32333.150390625, 3132.701171875, 11994.7041015625, 4774.873046875, 21729.92578125, 15668.78125, 18809.90234375, 9475.236328125, 6503.78466796875, 15403.3310546875, 12639.423828125, 17347.875, 8814.091796875, 9049.9462890625, 8087.44580078125, 9848.0673828125, 16037.95703125, 11518.865234375, 25045.439453125, 16125.353515625, 14141.2109375, 9718.970703125, 6737.5087890625, 9397.9111328125, 9113.0537109375, 9114.029296875, 7950.5595703125, 1897.8048095703125, 1555.100341796875, 934.3143920898438, 419.6487731933594, 380.97283935546875, 318.82977294921875, 301.595458984375, 298.4805603027344, 264.3526611328125, 259.1174621582031, 238.95826721191406, 236.82518005371094, 214.04063415527344, 191.49876403808594, 181.69174194335938, 175.11093139648438, 173.63351440429688, 167.27963256835938, 163.33648681640625, 163.05880737304688, 156.6057586669922, 156.22608947753906, 155.25428771972656, 154.30958557128906, 153.9175567626953, 144.45155334472656, 141.2119140625, 140.0162353515625, 138.9374237060547, 136.5826873779297, 275.60601806640625, 1781.495361328125, 385.5690612792969, 2832.617431640625, 3567.91357421875, 18584.125, 1075.9971923828125, 4446.6787109375, 2878.529541015625, 2994.615234375, 6186.36083984375, 4080.6435546875, 1344.938232421875, 482.8950500488281, 2426.709716796875, 1657.5601806640625, 3496.2578125, 4258.169921875, 9975.052734375, 2907.450927734375, 3022.08447265625, 2286.321533203125, 9037.70703125, 2945.65771484375, 15041.712890625, 12780.732421875, 3440.82177734375, 36399.44921875, 12983.142578125, 4416.71533203125, 14759.8466796875, 4785.61865234375, 8014.255859375, 8195.9765625, 9707.9736328125, 7646.1064453125, 19552.189453125, 8998.7119140625, 10692.8662109375, 4590.5703125, 7785.44091796875, 7597.31494140625, 10072.4921875, 12262.3515625, 8233.6142578125, 6086.5830078125, 6652.58154296875, 6806.81298828125, 7029.55322265625, 8536.8037109375, 5226.77587890625, 5311.19482421875, 5067.80126953125, 1944.3304443359375, 516.815185546875, 505.9906921386719, 450.82965087890625, 427.2709655761719, 394.99407958984375, 346.9691467285156, 322.3229675292969, 313.121337890625, 284.252685546875, 282.99859619140625, 282.8987121582031, 277.6679382324219, 271.8175354003906, 269.5284118652344, 268.69952392578125, 266.765625, 258.508544921875, 256.5028381347656, 252.63302612304688, 238.4774627685547, 234.5306396484375, 221.46278381347656, 213.3075408935547, 208.28579711914062, 205.7594451904297, 202.28297424316406, 192.23092651367188, 190.90196228027344, 184.54441833496094, 1695.528564453125, 1649.431396484375, 340.5442810058594, 528.298583984375, 483.12188720703125, 1216.8265380859375, 392.7058410644531, 718.4008178710938, 787.6197509765625, 646.1863403320312, 1368.1986083984375, 835.7551879882812, 681.4000244140625, 2202.918212890625, 757.8474731445312, 1299.913818359375, 1452.1053466796875, 2995.171875, 767.115966796875, 492.9912109375, 6349.33203125, 1837.2633056640625, 850.1323852539062, 1887.8463134765625, 897.85888671875, 1591.673583984375, 5880.7978515625, 1463.796630859375, 2493.123046875, 2203.788330078125, 7324.59912109375, 1555.9859619140625, 24206.072265625, 8146.5673828125, 1244.8931884765625, 2689.47314453125, 1575.9305419921875, 1279.61474609375, 2686.849365234375, 1311.483154296875, 4678.10888671875, 3440.6416015625, 1766.6029052734375, 3229.939208984375, 2966.267578125, 2953.675048828125, 4626.47314453125, 3735.5849609375, 4835.88720703125, 5390.50244140625, 7124.80029296875, 2169.763916015625, 2202.3583984375, 2281.95068359375, 3504.65234375, 3456.72265625, 3513.621337890625, 3647.5341796875, 3831.975830078125, 2602.045654296875, 2517.2841796875, 2991.998291015625, 3041.660888671875, 2732.145751953125, 2506.315185546875, 2538.79296875, 2519.284423828125, 591.3260498046875, 454.16058349609375, 337.4707946777344, 241.49417114257812, 238.84092712402344, 233.4285125732422, 230.931640625, 212.93687438964844, 208.4915313720703, 205.80357360839844, 197.7626190185547, 197.022705078125, 186.53836059570312, 181.21080017089844, 176.91574096679688, 172.01480102539062, 170.993408203125, 161.01507568359375, 155.5980682373047, 154.583740234375, 148.25592041015625, 146.5897979736328, 143.05470275878906, 141.99964904785156, 141.7852783203125, 139.95486450195312, 137.49729919433594, 135.85015869140625, 135.81211853027344, 135.69020080566406, 470.34832763671875, 672.952880859375, 526.166259765625, 267.6468505859375, 2032.383544921875, 328.4468688964844, 6935.9873046875, 3632.200927734375, 1002.4279174804688, 639.3011474609375, 1647.651123046875, 485.5923156738281, 1743.5498046875, 314.79376220703125, 638.23193359375, 341.4417724609375, 1263.5604248046875, 3357.251220703125, 1165.3555908203125, 10098.662109375, 47547.76171875, 1919.0799560546875, 2845.34716796875, 3334.154296875, 804.4618530273438, 1496.147705078125, 695.8245239257812, 2577.8662109375, 5881.57763671875, 7075.77978515625, 1641.088623046875, 2075.57568359375, 7823.41845703125, 5929.83447265625, 2355.055419921875, 8433.0224609375, 2212.490234375, 2577.095703125, 7768.93408203125, 1943.259765625, 10594.7578125, 7972.08349609375, 6416.47119140625, 7926.87451171875, 4131.7451171875, 3712.662353515625, 4370.9560546875, 3314.075439453125, 8539.5029296875, 3947.321533203125, 4896.29541015625, 6254.7119140625, 3595.55615234375, 8745.525390625, 3844.210205078125, 5652.5595703125, 3636.119384765625, 6372.22119140625, 4672.14208984375, 4495.61474609375, 4628.3076171875, 4310.830078125, 3725.394287109375, 1512.478271484375, 949.8826904296875, 743.4863891601562, 703.6235961914062, 683.562255859375, 666.8404541015625, 654.9391479492188, 637.7537231445312, 605.9390258789062, 583.03857421875, 560.1746215820312, 551.2713623046875, 462.5968017578125, 434.4627685546875, 416.4847412109375, 388.4061584472656, 358.55950927734375, 340.5723571777344, 325.51324462890625, 313.366455078125, 312.8670959472656, 311.79681396484375, 311.36181640625, 305.9378967285156, 301.41766357421875, 281.8087158203125, 272.1217956542969, 264.21173095703125, 262.8033447265625, 256.53240966796875, 783.2569580078125, 2907.132080078125, 1266.6385498046875, 1672.4097900390625, 3242.320068359375, 992.20654296875, 674.1832885742188, 4549.0390625, 3305.6337890625, 1398.179931640625, 1002.7758178710938, 3985.134765625, 601.9584350585938, 4846.6474609375, 567.73974609375, 607.1752319335938, 6060.43994140625, 4587.4990234375, 1117.0994873046875, 1895.3955078125, 4133.7626953125, 3272.6533203125, 3728.4033203125, 3599.67626953125, 1435.51806640625, 2316.361572265625, 5300.86572265625, 1689.9207763671875, 3338.986328125, 3200.6796875, 5129.2529296875, 2359.7705078125, 2001.749755859375, 3046.1767578125, 3585.837890625, 1618.0115966796875, 1659.1451416015625, 2044.703125, 4686.80322265625, 1948.551025390625, 2737.447998046875, 3972.405029296875, 2728.468505859375, 2804.55078125, 2296.58056640625, 2208.658447265625, 2078.304443359375, 2042.989013671875, 2624.077880859375, 2080.64990234375, 1675.656005859375, 1372.3583984375, 1269.405029296875, 1215.863037109375, 1040.3221435546875, 959.5384521484375, 936.0480346679688, 925.4739990234375, 895.5553588867188, 810.0877075195312, 764.45849609375, 790.5433959960938, 578.95458984375, 561.8163452148438, 524.8331909179688, 505.3023376464844, 497.3370666503906, 494.6971130371094, 492.2947692871094, 491.917236328125, 487.1255187988281, 485.898193359375, 484.4258728027344, 462.920166015625, 452.9263610839844, 424.3805236816406, 416.96746826171875, 391.2359313964844, 508.1671142578125, 9334.5458984375, 951.054931640625, 2755.292236328125, 3170.458740234375, 1345.6883544921875, 706.8889770507812, 1149.9864501953125, 1447.995361328125, 2464.626953125, 3263.900390625, 1120.987060546875, 3531.049560546875, 1286.0, 1401.200927734375, 1354.9217529296875, 1675.7720947265625, 2083.6748046875, 2257.196044921875, 1755.0081787109375, 1967.8929443359375, 5426.36865234375, 2129.54541015625, 3009.088134765625, 1471.83984375, 1247.5125732421875, 1919.860107421875, 1417.594482421875, 1456.675537109375, 1390.31494140625, 1782.782470703125, 1915.70068359375, 1740.348876953125, 1733.16455078125, 1582.8345947265625, 1839.743408203125, 1459.5670166015625, 1428.8115234375, 1469.391845703125, 1435.2935791015625, 1006.7564086914062, 960.1653442382812, 731.1051025390625, 705.4161987304688, 692.6016845703125, 618.834228515625, 547.1622314453125, 533.0097045898438, 521.9127197265625, 510.8656311035156, 480.4219970703125, 469.8267517089844, 464.0950927734375, 462.8564758300781, 454.2880554199219, 439.5526428222656, 429.8555603027344, 425.20819091796875, 424.63470458984375, 421.64776611328125, 403.4287109375, 399.1629943847656, 387.4030456542969, 381.8784484863281, 363.5240173339844, 354.2175598144531, 348.1576843261719, 329.78851318359375, 320.05084228515625, 318.1159362792969, 504.2193298339844, 949.171875, 790.4885864257812, 880.16064453125, 1866.7271728515625, 1475.5311279296875, 1808.9010009765625, 1721.524169921875, 1256.0560302734375, 876.4946899414062, 971.115478515625, 707.81005859375, 2382.084228515625, 899.0239868164062, 5220.1044921875, 1862.04638671875, 1680.4600830078125, 817.501708984375, 3470.988525390625, 1227.2359619140625, 1089.86865234375, 1275.4320068359375, 850.89501953125, 862.395751953125, 1609.2662353515625, 1471.36376953125, 1405.859619140625, 1466.7164306640625, 1802.16064453125, 4744.48876953125, 2523.796630859375, 2470.265380859375, 1707.9127197265625, 2765.21240234375, 1655.5535888671875, 1982.2674560546875, 1569.9200439453125, 1786.9525146484375, 1550.209716796875, 1426.4930419921875, 1746.1883544921875, 1596.4495849609375, 1452.742431640625, 1401.6956787109375, 1348.11962890625, 1399.0169677734375, 1335.3944091796875, 1094.3719482421875, 838.9102172851562, 785.9008178710938, 732.2118530273438, 722.4197387695312, 607.58154296875, 439.3678283691406, 432.5531311035156, 350.12744140625, 337.5599060058594, 336.20733642578125, 327.82574462890625, 311.2905578613281, 305.4718017578125, 287.2513427734375, 264.4949951171875, 263.3081970214844, 244.00787353515625, 240.77182006835938, 228.91290283203125, 227.51458740234375, 222.41268920898438, 221.0084991455078, 215.67686462402344, 212.41641235351562, 211.5985565185547, 211.08949279785156, 210.30052185058594, 209.58160400390625, 1639.6549072265625, 1206.8575439453125, 2539.5419921875, 480.08203125, 7984.16943359375, 9419.8359375, 2483.1162109375, 11573.8798828125, 847.8414306640625, 635.9020385742188, 2880.11279296875, 796.617431640625, 2891.48876953125, 1426.7977294921875, 1460.7518310546875, 789.8739624023438, 532.5179443359375, 601.4583740234375, 928.375732421875, 977.2032470703125, 1970.4476318359375, 863.1529541015625, 1352.15966796875, 2269.716796875, 2115.066162109375, 2131.927978515625, 2073.4130859375, 1088.594482421875, 1050.751220703125, 1336.191650390625, 1515.5565185546875, 2104.16162109375, 1530.876220703125, 1422.95654296875, 1487.4078369140625, 1696.60986328125, 1355.1983642578125, 1127.885986328125, 1001.1323852539062, 1422.882568359375, 803.7694702148438, 464.5179748535156, 444.01287841796875, 362.5999450683594, 303.284912109375, 301.86956787109375, 301.1017150878906, 293.0418701171875, 289.94232177734375, 284.1520080566406, 279.0916748046875, 272.67291259765625, 267.37353515625, 254.71571350097656, 248.24581909179688, 231.09295654296875, 226.40484619140625, 221.54275512695312, 216.1749725341797, 214.70892333984375, 214.299560546875, 213.72161865234375, 211.27455139160156, 196.900634765625, 193.41201782226562, 185.05052185058594, 179.69357299804688, 177.45913696289062, 6026.51611328125, 1161.8668212890625, 687.1845092773438, 649.6041870117188, 404.13421630859375, 1119.224365234375, 388.9957275390625, 1083.4644775390625, 2171.588623046875, 591.6476440429688, 1035.9935302734375, 409.9260559082031, 564.9981689453125, 334.81256103515625, 720.164794921875, 572.348388671875, 1218.14794921875, 840.246826171875, 2586.96240234375, 1383.37744140625, 890.7742919921875, 449.0624694824219, 781.3467407226562, 572.7269287109375, 505.0959167480469, 1408.6981201171875, 644.5195922851562, 744.2464599609375, 835.147216796875, 956.2982788085938, 636.45947265625, 918.6774291992188, 916.1770629882812, 1498.7220458984375, 1080.7054443359375, 840.9432373046875, 790.6314086914062, 771.8612670898438, 1002.6517944335938, 1017.7872924804688, 745.9857177734375, 759.0171508789062, 1305.13671875, 858.0589599609375, 808.5075073242188, 779.542724609375, 768.930908203125, 717.471923828125, 574.0194702148438, 522.72021484375, 515.393310546875, 428.894287109375, 355.6798400878906, 341.161376953125, 324.4899597167969, 288.5788269042969, 283.37872314453125, 280.0790100097656, 252.0952606201172, 241.79835510253906, 231.6786346435547, 226.55813598632812, 219.92715454101562, 216.69322204589844, 206.9605255126953, 202.9470672607422, 202.14837646484375, 200.76956176757812, 194.81710815429688, 191.5767822265625, 190.66441345214844, 189.6386260986328, 354.5355529785156, 609.7736206054688, 443.2944641113281, 289.5068359375, 593.7689819335938, 283.03411865234375, 228.32894897460938, 385.7864990234375, 433.20556640625, 511.45489501953125, 359.3962097167969, 345.90960693359375, 322.4840087890625, 274.77685546875, 254.24636840820312], \"Term\": [\"film\", \"show\", \"funny\", \"bad\", \"comedy\", \"horror\", \"great\", \"war\", \"really\", \"people\", \"good\", \"action\", \"see\", \"think\", \"like\", \"love\", \"would\", \"acting\", \"role\", \"plot\", \"watch\", \"movies\", \"world\", \"seen\", \"american\", \"characters\", \"story\", \"could\", \"films\", \"life\", \"na\", \"gon\", \"sucks\", \"wan\", \"suck\", \"ya\", \"troll\", \"whats\", \"it`s\", \"nope\", \"frogs\", \"volcano\", \"clerks\", \"dont\", \"freaking\", \"sh*t\", \"jock\", \"rodman\", \"rangers\", \"dumbest\", \"previews\", \"leonardo\", \"ugh\", \"olds\", \"93\", \"yor\", \"wraith\", \"lumi\\u00e8re\", \"hes\", \"chucky\", \"crap\", \"blah\", \"stupid\", \"thats\", \"yeah\", \"sucked\", \"crappy\", \"oh\", \"horrible\", \"rent\", \"kidding\", \"mean\", \"figured\", \"sorry\", \"hey\", \"bad\", \"know\", \"maybe\", \"someone\", \"ok\", \"guy\", \"want\", \"guess\", \"please\", \"thing\", \"going\", \"got\", \"worst\", \"think\", \"get\", \"like\", \"guys\", \"watch\", \"money\", \"would\", \"people\", \"really\", \"say\", \"thought\", \"could\", \"movies\", \"see\", \"go\", \"something\", \"watching\", \"ever\", \"even\", \"make\", \"one\", \"good\", \"time\", \"seen\", \"ca\", \"way\", \"made\", \"first\", \"never\", \"animation\", \"disney\", \"anime\", \"candyman\", \"beatles\", \"ants\", \"asoka\", \"arkin\", \"reno\", \"musicians\", \"crowe\", \"ash\", \"midler\", \"poirot\", \"manga\", \"cinderella\", \"dern\", \"heartwarming\", \"pokemon\", \"norway\", \"maury\", \"aladdin\", \"norwegian\", \"cher\", \"shyamalan\", \"mexicans\", \"bertrand\", \"penguins\", \"amelie\", \"tucci\", \"violin\", \"fantastic\", \"pleasantly\", \"amazing\", \"wonderful\", \"great\", \"books\", \"excellent\", \"enjoyed\", \"loved\", \"music\", \"book\", \"superb\", \"10/10\", \"brilliant\", \"songs\", \"version\", \"dvd\", \"best\", \"perfect\", \"recommend\", \"favorite\", \"love\", \"definitely\", \"story\", \"well\", \"beautiful\", \"film\", \"see\", \"series\", \"good\", \"saw\", \"many\", \"films\", \"also\", \"seen\", \"one\", \"first\", \"really\", \"original\", \"movies\", \"characters\", \"time\", \"like\", \"much\", \"still\", \"watch\", \"think\", \"made\", \"would\", \"years\", \"ever\", \"even\", \"society\", \"cultural\", \"holocaust\", \"welles\", \"sexuality\", \"liberal\", \"bleak\", \"homosexuality\", \"morality\", \"bunuel\", \"jews\", \"kurosawa\", \"aids\", \"metaphor\", \"beliefs\", \"fellini\", \"communist\", \"conditions\", \"plight\", \"prostitution\", \"explores\", \"morally\", \"ambiguous\", \"rathbone\", \"laughton\", \"insightful\", \"ignorance\", \"blacks\", \"examination\", \"camps\", \"social\", \"political\", \"racism\", \"religion\", \"abuse\", \"issues\", \"depiction\", \"humanity\", \"media\", \"freedom\", \"nature\", \"issue\", \"religious\", \"documentary\", \"understanding\", \"culture\", \"subject\", \"human\", \"community\", \"poverty\", \"us\", \"events\", \"moral\", \"reality\", \"narrative\", \"message\", \"world\", \"sexual\", \"lives\", \"viewer\", \"life\", \"truth\", \"film\", \"people\", \"emotional\", \"men\", \"view\", \"personal\", \"audience\", \"powerful\", \"man\", \"may\", \"violence\", \"without\", \"yet\", \"point\", \"many\", \"real\", \"way\", \"story\", \"one\", \"perhaps\", \"women\", \"black\", \"character\", \"two\", \"characters\", \"also\", \"would\", \"work\", \"fact\", \"much\", \"even\", \"never\", \"director\", \"time\", \"make\", \"amateurish\", \"uninspired\", \"streep\", \"panther\", \"abbott\", \"stilted\", \"meryl\", \"sellers\", \"muddled\", \"jolie\", \"hawn\", \"archer\", \"plodding\", \"goldie\", \"hackneyed\", \"yuen\", \"kinski\", \"unappealing\", \"unimaginative\", \"penis\", \"overlong\", \"improvised\", \"cliched\", \"banderas\", \"underdeveloped\", \"locusts\", \"vapid\", \"infinitely\", \"unknowns\", \"henriksen\", \"unconvincing\", \"tedious\", \"uninteresting\", \"abysmal\", \"dull\", \"incoherent\", \"script\", \"dialogue\", \"lacks\", \"dreadful\", \"poorly\", \"clich\\u00e9d\", \"editing\", \"disjointed\", \"bland\", \"miserably\", \"fails\", \"production\", \"flat\", \"plot\", \"film\", \"lack\", \"budget\", \"poor\", \"mediocre\", \"effort\", \"contrived\", \"direction\", \"director\", \"scenes\", \"dialog\", \"decent\", \"acting\", \"actors\", \"low\", \"films\", \"unfortunately\", \"camera\", \"characters\", \"attempt\", \"even\", \"bad\", \"character\", \"much\", \"seems\", \"interesting\", \"nothing\", \"rather\", \"good\", \"cast\", \"better\", \"could\", \"however\", \"one\", \"work\", \"story\", \"quite\", \"like\", \"make\", \"made\", \"really\", \"would\", \"scene\", \"grant\", \"crawford\", \"marry\", \"susan\", \"cary\", \"helen\", \"dunne\", \"arthur\", \"anne\", \"emily\", \"bette\", \"ann\", \"irene\", \"louise\", \"pitt\", \"betty\", \"stanwyck\", \"judy\", \"diana\", \"melanie\", \"margaret\", \"divorce\", \"belle\", \"highlander\", \"loy\", \"dorothy\", \"jill\", \"doris\", \"stuart\", \"bernie\", \"julie\", \"husband\", \"joan\", \"married\", \"daughter\", \"mrs\", \"anna\", \"father\", \"son\", \"mary\", \"davis\", \"mother\", \"elizabeth\", \"wife\", \"aunt\", \"barbara\", \"young\", \"woman\", \"henry\", \"robert\", \"role\", \"plays\", \"girl\", \"family\", \"sister\", \"boy\", \"man\", \"finds\", \"performance\", \"played\", \"love\", \"home\", \"friend\", \"old\", \"life\", \"actress\", \"wants\", \"play\", \"one\", \"beautiful\", \"two\", \"film\", \"also\", \"story\", \"years\", \"character\", \"little\", \"best\", \"gore\", \"monster\", \"alien\", \"zombie\", \"vampire\", \"slasher\", \"zombies\", \"creature\", \"dracula\", \"scientist\", \"monsters\", \"gory\", \"shark\", \"massacre\", \"bambi\", \"vampires\", \"godzilla\", \"cannibal\", \"freddy\", \"karloff\", \"demon\", \"halloween\", \"lugosi\", \"predator\", \"chainsaw\", \"werewolf\", \"trek\", \"13th\", \"spooky\", \"virus\", \"scares\", \"horror\", \"aliens\", \"blood\", \"killer\", \"creepy\", \"metal\", \"giant\", \"sci-fi\", \"evil\", \"dead\", \"science\", \"effects\", \"island\", \"space\", \"dr\", \"scary\", \"house\", \"special\", \"game\", \"death\", \"one\", \"original\", \"also\", \"kill\", \"earth\", \"around\", \"group\", \"dark\", \"killed\", \"man\", \"first\", \"back\", \"little\", \"pretty\", \"like\", \"series\", \"night\", \"film\", \"two\", \"gangster\", \"martial\", \"flynn\", \"jackie\", \"warner\", \"bogart\", \"batman\", \"hong\", \"westerns\", \"fu\", \"mickey\", \"kung\", \"chan\", \"quaid\", \"connery\", \"clark\", \"mitchell\", \"eastwood\", \"errol\", \"superman\", \"hardy\", \"mafia\", \"heist\", \"robbery\", \"mitchum\", \"bronson\", \"pacino\", \"clint\", \"peterson\", \"porky\", \"woo\", \"arts\", \"wayne\", \"chuck\", \"cop\", \"gang\", \"lee\", \"western\", \"detective\", \"dennis\", \"tony\", \"ford\", \"police\", \"bond\", \"action\", \"james\", \"crime\", \"noir\", \"john\", \"harry\", \"bruce\", \"gun\", \"agent\", \"boss\", \"fight\", \"hero\", \"jack\", \"car\", \"plays\", \"one\", \"also\", \"great\", \"guy\", \"good\", \"role\", \"best\", \"gets\", \"man\", \"big\", \"played\", \"get\", \"two\", \"well\", \"scene\", \"cast\", \"like\", \"comedies\", \"funniest\", \"murphy\", \"woody\", \"gags\", \"slapstick\", \"funnier\", \"nikki\", \"comedian\", \"pammy\", \"ringu\", \"snoopy\", \"buscemi\", \"sitcom\", \"comedians\", \"carrey\", \"pryor\", \"troy\", \"simpsons\", \"sketch\", \"farrow\", \"fart\", \"joshua\", \"django\", \"stooges\", \"zohan\", \"gremlins\", \"maris\", \"reggie\", \"avery\", \"season\", \"allen\", \"jokes\", \"seasons\", \"comedy\", \"funny\", \"hilarious\", \"show\", \"jerry\", \"guest\", \"episode\", \"comedic\", \"humor\", \"laughs\", \"episodes\", \"eddie\", \"keaton\", \"unfunny\", \"charlie\", \"cartoon\", \"laugh\", \"steve\", \"jack\", \"fun\", \"shows\", \"tv\", \"series\", \"comic\", \"television\", \"kids\", \"new\", \"like\", \"great\", \"two\", \"get\", \"one\", \"best\", \"little\", \"russian\", \"german\", \"powell\", \"wwii\", \"germany\", \"norma\", \"che\", \"andre\", \"russia\", \"marx\", \"hitler\", \"soviet\", \"emmanuelle\", \"troops\", \"aircraft\", \"griffith\", \"emperor\", \"rome\", \"garbo\", \"madame\", \"russians\", \"brando\", \"o'toole\", \"shearer\", \"korea\", \"passengers\", \"marple\", \"bullock\", \"jagger\", \"warden\", \"war\", \"soldiers\", \"chaplin\", \"nazi\", \"revolution\", \"military\", \"von\", \"army\", \"french\", \"soldier\", \"ship\", \"oil\", \"france\", \"navy\", \"wars\", \"europe\", \"battle\", \"historical\", \"american\", \"british\", \"silent\", \"flight\", \"match\", \"north\", \"united\", \"history\", \"plane\", \"century\", \"japanese\", \"america\", \"hitchcock\", \"english\", \"country\", \"world\", \"star\", \"power\", \"general\", \"king\", \"years\", \"would\", \"later\", \"time\", \"indian\", \"holmes\", \"india\", \"cagney\", \"sandler\", \"khan\", \"bollywood\", \"ninja\", \"seagal\", \"hopkins\", \"sherlock\", \"ho\", \"holden\", \"ali\", \"damme\", \"sharpe\", \"ninjas\", \"liam\", \"kapoor\", \"bachchan\", \"akbar\", \"rani\", \"shah\", \"leopard\", \"dafoe\", \"guru\", \"scarlett\", \"hindi\", \"amitabh\", \"dolph\", \"watson\", \"jane\", \"adam\", \"indians\", \"novel\", \"brooks\", \"gibson\", \"van\", \"mr\", \"role\", \"songs\", \"joe\", \"song\", \"book\", \"director\"], \"Total\": [118425.0, 16885.0, 12942.0, 26946.0, 9322.0, 10127.0, 27326.0, 6193.0, 34694.0, 27573.0, 43308.0, 10308.0, 33758.0, 21002.0, 58723.0, 18523.0, 39828.0, 17981.0, 9286.0, 19165.0, 19757.0, 22462.0, 11187.0, 19221.0, 6606.0, 21654.0, 34613.0, 28431.0, 20955.0, 17362.0, 1363.1124267578125, 832.2498779296875, 822.0768432617188, 470.54571533203125, 456.4233703613281, 372.39306640625, 252.7935791015625, 219.11671447753906, 210.2158660888672, 205.2350616455078, 187.37173461914062, 183.40878295898438, 180.17807006835938, 176.47007751464844, 171.48895263671875, 165.95497131347656, 160.69284057617188, 159.95370483398438, 153.76220703125, 150.10340881347656, 149.91941833496094, 147.8972930908203, 146.3388671875, 145.48263549804688, 143.7950439453125, 138.7782745361328, 134.31590270996094, 131.27252197265625, 125.80508422851562, 124.6518325805664, 2725.568115234375, 565.8849487304688, 4915.3359375, 1128.378662109375, 1339.82421875, 601.9067993164062, 747.3887329101562, 3812.551025390625, 3711.03173828125, 2138.772705078125, 313.4532165527344, 4796.26416015625, 548.2317504882812, 2279.431396484375, 1257.70556640625, 26946.48046875, 18037.140625, 6884.54931640625, 6773.91015625, 3060.486572265625, 9137.318359375, 10647.611328125, 3793.52783203125, 2786.432861328125, 13223.3642578125, 12414.271484375, 10693.4091796875, 7649.0087890625, 21002.88671875, 27385.302734375, 58723.19140625, 4150.8447265625, 19757.82421875, 6772.9267578125, 39828.96484375, 27573.765625, 34694.35546875, 15346.802734375, 9844.6240234375, 28431.69921875, 22462.208984375, 33758.8359375, 14561.009765625, 15141.826171875, 13163.5869140625, 17460.384765625, 36856.81640625, 23703.44140625, 77565.7734375, 43308.71484375, 35236.97265625, 19221.080078125, 10706.95703125, 23396.841796875, 23232.52734375, 25786.50390625, 19238.50390625, 1898.7015380859375, 1555.9920654296875, 935.2061157226562, 420.54052734375, 381.8645324707031, 319.7217712402344, 302.4874572753906, 299.3726501464844, 265.24468994140625, 260.0092468261719, 239.85031127929688, 237.7170867919922, 214.93235778808594, 192.39056396484375, 182.58346557617188, 176.00262451171875, 174.52540588378906, 168.17144775390625, 164.22833251953125, 163.9506378173828, 157.4980926513672, 157.1177215576172, 156.14614868164062, 155.20140075683594, 154.80941772460938, 145.3441619873047, 142.1049346923828, 140.90823364257812, 139.82913208007812, 137.4746551513672, 283.3642883300781, 2022.779296875, 413.17242431640625, 3485.818359375, 4469.068359375, 27326.92578125, 1261.2347412109375, 5969.6728515625, 3745.126708984375, 3993.493408203125, 9023.576171875, 5863.1669921875, 1728.9581298828125, 547.9577026367188, 3409.1787109375, 2246.575927734375, 5380.80517578125, 6827.896484375, 18926.3203125, 4456.9287109375, 4750.56982421875, 3493.2119140625, 18523.2734375, 4830.49169921875, 34613.98828125, 28766.61328125, 5973.28125, 118425.0, 33758.8359375, 8513.4287109375, 43308.71484375, 9674.5263671875, 19936.412109375, 20955.794921875, 27104.404296875, 19221.080078125, 77565.7734375, 25786.50390625, 34694.35546875, 9290.828125, 22462.208984375, 21654.978515625, 35236.97265625, 58723.19140625, 28488.45703125, 15850.7529296875, 19757.82421875, 21002.88671875, 23232.52734375, 39828.96484375, 13131.4609375, 17460.384765625, 36856.81640625, 1945.359619140625, 517.7098388671875, 506.8854064941406, 451.7243347167969, 428.1656188964844, 395.888671875, 347.86383056640625, 323.2175598144531, 314.0159606933594, 285.1473388671875, 283.8931884765625, 283.7933349609375, 278.56256103515625, 272.712158203125, 270.4230651855469, 269.5940856933594, 267.66021728515625, 259.4032287597656, 257.3974304199219, 253.52774047851562, 239.3720703125, 235.42543029785156, 222.357421875, 214.20278930664062, 209.1807098388672, 206.6575927734375, 203.17767333984375, 193.12557983398438, 191.7967071533203, 185.4391632080078, 1707.302734375, 1682.80615234375, 352.19842529296875, 560.5659790039062, 510.4449157714844, 1364.28564453125, 409.64813232421875, 779.15185546875, 881.6660766601562, 709.4755249023438, 1662.5377197265625, 963.2804565429688, 769.449462890625, 2903.4052734375, 867.5748291015625, 1612.8536376953125, 1835.7618408203125, 4287.89404296875, 897.2145385742188, 540.9309692382812, 10812.2265625, 2527.158447265625, 1022.5496215820312, 2709.929443359375, 1108.3150634765625, 2246.95458984375, 11187.064453125, 2032.178466796875, 4171.91552734375, 3575.614990234375, 17362.96875, 2302.22509765625, 118425.0, 27573.765625, 1838.533203125, 5712.15283203125, 2607.53466796875, 1938.701904296875, 6173.8017578125, 2038.9556884765625, 16193.044921875, 9908.0390625, 3385.43896484375, 9628.3701171875, 8519.068359375, 8587.87109375, 19936.412109375, 14061.8671875, 23396.841796875, 34613.98828125, 77565.7734375, 4973.93310546875, 5328.93115234375, 6026.87841796875, 20480.51171875, 20105.6328125, 21654.978515625, 27104.404296875, 39828.96484375, 12133.5, 10551.9306640625, 28488.45703125, 36856.81640625, 19238.50390625, 12063.4912109375, 35236.97265625, 23703.44140625, 592.2196044921875, 455.0542297363281, 338.3644714355469, 242.38778686523438, 239.73472595214844, 234.3221435546875, 231.82533264160156, 213.83045959472656, 209.38526916503906, 206.697265625, 198.65625, 197.9170684814453, 187.43202209472656, 182.1044158935547, 177.80935668945312, 172.90875244140625, 171.88711547851562, 161.90875244140625, 156.49176025390625, 155.47756958007812, 149.1495361328125, 147.4835205078125, 143.94837951660156, 142.89328002929688, 142.67889404296875, 140.8486785888672, 138.39096069335938, 136.74383544921875, 136.7058563232422, 136.5838623046875, 474.64337158203125, 687.7250366210938, 545.8078002929688, 277.624755859375, 2362.42626953125, 347.4792175292969, 8951.798828125, 4546.791015625, 1161.81982421875, 721.4332885742188, 2031.8609619140625, 539.0836791992188, 2178.36865234375, 336.7196350097656, 739.1304321289062, 372.68841552734375, 1661.2576904296875, 5125.31982421875, 1538.1961669921875, 19165.603515625, 118425.0, 2812.59619140625, 4568.966796875, 5582.416015625, 1030.32177734375, 2204.063232421875, 878.291748046875, 4341.1240234375, 12063.4912109375, 15266.3291015625, 2522.154541015625, 3395.671142578125, 17981.509765625, 12817.529296875, 4064.46435546875, 20955.794921875, 3787.822265625, 4747.75390625, 21654.978515625, 3273.003662109375, 36856.81640625, 26946.48046875, 20480.51171875, 28488.45703125, 11005.3955078125, 9507.6123046875, 12625.4521484375, 8215.59375, 43308.71484375, 11237.181640625, 17203.298828125, 28431.69921875, 9816.3994140625, 77565.7734375, 12133.5, 34613.98828125, 11118.345703125, 58723.19140625, 23703.44140625, 23232.52734375, 34694.35546875, 39828.96484375, 16283.681640625, 1513.37255859375, 950.7769165039062, 744.3806762695312, 704.5179443359375, 684.4564208984375, 667.73486328125, 655.8333129882812, 638.64794921875, 606.8333740234375, 583.9329223632812, 561.06884765625, 552.1656494140625, 463.4909973144531, 435.35699462890625, 417.3790588378906, 389.3004455566406, 359.4537048339844, 341.4666442871094, 326.40753173828125, 314.2610168457031, 313.7613830566406, 312.6910095214844, 312.2560729980469, 306.8323669433594, 302.3119201660156, 282.70294189453125, 273.01611328125, 265.1059875488281, 263.6979064941406, 257.4267883300781, 789.1055297851562, 3108.405029296875, 1323.8193359375, 1776.1080322265625, 3645.365478515625, 1049.808837890625, 702.9778442382812, 5425.14794921875, 3909.266357421875, 1553.06494140625, 1091.980224609375, 4852.15283203125, 633.6796264648438, 6266.71484375, 600.0016479492188, 656.1769409179688, 10623.267578125, 7680.677734375, 1385.9246826171875, 3133.422607421875, 9286.5009765625, 6776.0400390625, 8226.974609375, 8017.595703125, 2161.385986328125, 4437.6923828125, 16193.044921875, 2825.62890625, 8236.35546875, 7825.087890625, 18523.2734375, 5394.21240234375, 4334.8271484375, 11655.4189453125, 17362.96875, 3225.72998046875, 3791.761962890625, 6491.21484375, 77565.7734375, 5973.28125, 20105.6328125, 118425.0, 27104.404296875, 34613.98828125, 13131.4609375, 20480.51171875, 19308.630859375, 18926.3203125, 2624.974365234375, 2081.54638671875, 1676.552490234375, 1373.2548828125, 1270.301513671875, 1216.759521484375, 1041.218505859375, 960.4348754882812, 936.9443969726562, 926.3705444335938, 896.4517822265625, 810.9840698242188, 765.35498046875, 791.4807739257812, 579.85107421875, 562.7127685546875, 525.7295532226562, 506.1987609863281, 498.2335205078125, 495.5935363769531, 493.1911926269531, 492.8174743652344, 488.02197265625, 486.794677734375, 485.3222961425781, 463.8165588378906, 453.8228454589844, 425.2769470214844, 417.8639831542969, 392.1323547363281, 509.3813171386719, 10127.490234375, 1020.3571166992188, 3260.780517578125, 4110.78955078125, 1581.9625244140625, 760.5194702148438, 1382.191650390625, 1842.152587890625, 3864.3759765625, 5594.39697265625, 1440.0020751953125, 6668.56103515625, 1824.7716064453125, 2109.345703125, 2098.961181640625, 2937.81103515625, 5100.7646484375, 6132.61083984375, 3949.988525390625, 5924.2802734375, 77565.7734375, 9290.828125, 27104.404296875, 3650.9375, 2238.875732421875, 10656.0986328125, 3548.383544921875, 3967.905029296875, 3704.004150390625, 16193.044921875, 25786.50390625, 14193.591796875, 19308.630859375, 10500.7099609375, 58723.19140625, 8513.4287109375, 6348.67041015625, 118425.0, 20105.6328125, 1007.6776733398438, 961.0626831054688, 732.0023803710938, 706.3135986328125, 693.4990844726562, 619.7315673828125, 548.0595092773438, 533.9070434570312, 522.8099975585938, 511.7630920410156, 481.3193359375, 470.7240905761719, 464.992431640625, 463.7538146972656, 455.1853942871094, 440.45001220703125, 430.7529296875, 426.1055908203125, 425.5320739746094, 422.5450744628906, 404.326171875, 400.06036376953125, 388.3003845214844, 382.7757873535156, 364.4213562011719, 355.1148681640625, 349.0550231933594, 330.6858215332031, 320.948486328125, 319.0133361816406, 507.98052978515625, 966.580078125, 834.74072265625, 940.2899780273438, 2138.807861328125, 1680.08837890625, 2141.658935546875, 2119.84375, 1485.2801513671875, 996.0740356445312, 1131.4078369140625, 779.96435546875, 3316.046630859375, 1039.30224609375, 10308.5029296875, 2753.03271484375, 2429.526611328125, 971.6783447265625, 6609.31005859375, 1761.98779296875, 1530.1158447265625, 1944.5262451171875, 1129.5467529296875, 1155.9127197265625, 3326.5380859375, 3078.69140625, 2877.20361328125, 3409.818359375, 6776.0400390625, 77565.7734375, 27104.404296875, 27326.92578125, 9137.318359375, 43308.71484375, 9286.5009765625, 18926.3203125, 9204.4052734375, 16193.044921875, 9920.6044921875, 7825.087890625, 27385.302734375, 20105.6328125, 28766.61328125, 16283.681640625, 11237.181640625, 58723.19140625, 1336.2884521484375, 1095.26611328125, 839.8043823242188, 786.794921875, 733.10595703125, 723.3138427734375, 608.4757080078125, 440.26239013671875, 433.4472351074219, 351.02178955078125, 338.4541931152344, 337.10137939453125, 328.719970703125, 312.1846618652344, 306.3658752441406, 288.1453857421875, 265.38909912109375, 264.2024230957031, 244.90194702148438, 241.66592407226562, 229.8070831298828, 228.40866088867188, 223.30691528320312, 221.9031219482422, 216.57089233398438, 213.3105010986328, 212.49267578125, 211.98367309570312, 211.1947021484375, 210.4757843017578, 1724.084228515625, 1281.2769775390625, 2793.573974609375, 495.09344482421875, 9322.830078125, 12942.0849609375, 3044.514404296875, 16885.05078125, 969.9486083984375, 721.2003784179688, 4145.1171875, 951.7009887695312, 4268.41015625, 1882.5269775390625, 2007.9013671875, 985.0480346679688, 607.7412719726562, 757.874267578125, 1386.664794921875, 1510.49072265625, 4061.494384765625, 1270.7203369140625, 2877.20361328125, 7771.56787109375, 7102.501953125, 7272.8359375, 8513.4287109375, 2309.882568359375, 2332.2490234375, 4935.4638671875, 12551.4140625, 58723.19140625, 27326.92578125, 20105.6328125, 27385.302734375, 77565.7734375, 18926.3203125, 19308.630859375, 1002.024169921875, 1424.4228515625, 804.6612548828125, 465.4096984863281, 444.90460205078125, 363.4916076660156, 304.1765441894531, 302.7613525390625, 301.9934387207031, 293.933837890625, 290.83447265625, 285.0436706542969, 279.9834899902344, 273.5646057128906, 268.2652282714844, 255.60745239257812, 249.13758850097656, 231.9846954345703, 227.2965545654297, 222.4346160888672, 217.06668090820312, 215.60064697265625, 215.19129943847656, 214.6133270263672, 212.17459106445312, 197.79232788085938, 194.30377197265625, 185.94241333007812, 180.58526611328125, 178.3511962890625, 6193.44384765625, 1237.92333984375, 721.4578857421875, 688.4996337890625, 425.03546142578125, 1278.052490234375, 413.5220642089844, 1281.3004150390625, 2865.88671875, 675.0692749023438, 1392.5469970703125, 461.96380615234375, 688.4032592773438, 364.1947326660156, 987.1392211914062, 733.2415161132812, 1981.6395263671875, 1268.351318359375, 6606.44677734375, 2779.248046875, 1513.5072021484375, 555.6729125976562, 1275.7303466796875, 831.13525390625, 693.8761596679688, 3921.233154296875, 1072.8316650390625, 1422.3739013671875, 1771.1011962890625, 2318.49658203125, 1072.6395263671875, 2592.209716796875, 2694.6572265625, 11187.064453125, 5412.31689453125, 2995.761962890625, 2474.41259765625, 2496.288818359375, 13131.4609375, 39828.96484375, 6319.021484375, 35236.97265625, 1306.031494140625, 858.9536743164062, 809.4022827148438, 780.4375610351562, 769.82568359375, 718.3666381835938, 574.9141845703125, 523.614990234375, 516.2880859375, 429.7890625, 356.5745849609375, 342.0561218261719, 325.3847961425781, 289.4736022949219, 284.2734680175781, 280.9737243652344, 252.9900665283203, 242.69314575195312, 232.57330322265625, 227.45281982421875, 220.82183837890625, 217.58790588378906, 207.85520935058594, 203.8418731689453, 203.0431365966797, 201.6643829345703, 195.7119598388672, 192.4714813232422, 191.55909729003906, 190.53335571289062, 401.8547668457031, 1141.108154296875, 1022.0296630859375, 471.43548583984375, 2680.314208984375, 467.33245849609375, 288.27886962890625, 1480.8350830078125, 3857.823486328125, 9286.5009765625, 2246.575927734375, 1884.69091796875, 2648.4677734375, 5863.1669921875, 12063.4912109375], \"loglift\": [30.0, 29.0, 28.0, 27.0, 26.0, 25.0, 24.0, 23.0, 22.0, 21.0, 20.0, 19.0, 18.0, 17.0, 16.0, 15.0, 14.0, 13.0, 12.0, 11.0, 10.0, 9.0, 8.0, 7.0, 6.0, 5.0, 4.0, 3.0, 2.0, 1.0, 1.5198999643325806, 1.5194000005722046, 1.5194000005722046, 1.5185999870300293, 1.5184999704360962, 1.5181000232696533, 1.5169999599456787, 1.5163999795913696, 1.5161999464035034, 1.5161000490188599, 1.5156999826431274, 1.5155999660491943, 1.5154999494552612, 1.5154000520706177, 1.5153000354766846, 1.5151000022888184, 1.5148999691009521, 1.5148999691009521, 1.5147000551223755, 1.5145000219345093, 1.5145000219345093, 1.5144000053405762, 1.5144000053405762, 1.514299988746643, 1.514299988746643, 1.5140000581741333, 1.513800024986267, 1.5135999917984009, 1.5133999586105347, 1.5132999420166016, 1.495300054550171, 1.5041999816894531, 1.46589994430542, 1.4875999689102173, 1.479599952697754, 1.483199954032898, 1.4728000164031982, 1.4046000242233276, 1.375499963760376, 1.4000999927520752, 1.4840999841690063, 1.317199945449829, 1.44350004196167, 1.3418999910354614, 1.3825000524520874, 1.1654000282287598, 1.1835999488830566, 1.2510000467300415, 1.2497999668121338, 1.3097000122070312, 1.2102999687194824, 1.1923999786376953, 1.264299988746643, 1.2882000207901, 1.1466000080108643, 1.1378999948501587, 1.1512000560760498, 1.1848000288009644, 1.07260000705719, 1.0263999700546265, 0.923799991607666, 1.2390999794006348, 1.021399974822998, 1.1708999872207642, 0.9146000146865845, 0.955299973487854, 0.90829998254776, 1.0383000373840332, 1.1059999465942383, 0.9075999855995178, 0.9455000162124634, 0.8547000288963318, 1.0184999704360962, 1.0058000087738037, 1.033400058746338, 0.9477999806404114, 0.6883999705314636, 0.7989000082015991, 0.39010000228881836, 0.5325000286102295, 0.6075000166893005, 0.8385999798774719, 1.0572999715805054, 0.6083999872207642, 0.5846999883651733, 0.4805000126361847, 0.6367999911308289, 1.7970999479293823, 1.7970000505447388, 1.7965999841690063, 1.7955000400543213, 1.795300006866455, 1.794800043106079, 1.794600009918213, 1.794600009918213, 1.7941999435424805, 1.7941999435424805, 1.7939000129699707, 1.7937999963760376, 1.7934000492095947, 1.7928999662399292, 1.7927000522613525, 1.7925000190734863, 1.7925000190734863, 1.7922999858856201, 1.792099952697754, 1.792099952697754, 1.7919000387191772, 1.7919000387191772, 1.7919000387191772, 1.7918000221252441, 1.7918000221252441, 1.7913999557495117, 1.7913000583648682, 1.791200041770935, 1.791200041770935, 1.791100025177002, 1.7697999477386475, 1.6706000566482544, 1.7283999919891357, 1.5901000499725342, 1.5723999738693237, 1.4119999408721924, 1.638700008392334, 1.503100037574768, 1.5343999862670898, 1.5096999406814575, 1.4200999736785889, 1.4351999759674072, 1.5463999509811401, 1.6712000370025635, 1.4577000141143799, 1.493499994277954, 1.3664000034332275, 1.3253999948501587, 1.157099962234497, 1.3703999519348145, 1.3452999591827393, 1.3737000226974487, 1.0800000429153442, 1.3029999732971191, 0.9642000198364258, 0.986299991607666, 1.246000051498413, 0.617900013923645, 0.8420000076293945, 1.1412999629974365, 0.7210999727249146, 1.0937000513076782, 0.8863000273704529, 0.8587999939918518, 0.770799994468689, 0.8758000135421753, 0.4196000099182129, 0.7447999715805054, 0.6205999851226807, 1.0925999879837036, 0.7379999756813049, 0.7501999735832214, 0.5453000068664551, 0.2312999963760376, 0.5562999844551086, 0.840499997138977, 0.7089999914169312, 0.6708999872207642, 0.6021999716758728, 0.2574000060558319, 0.8763999938964844, 0.6075000166893005, -0.18649999797344208, 1.9141000509262085, 1.9128999710083008, 1.9127999544143677, 1.912600040435791, 1.912500023841858, 1.9122999906539917, 1.9119999408721924, 1.9118000268936157, 1.9117000102996826, 1.9113999605178833, 1.9113999605178833, 1.9113999605178833, 1.9113999605178833, 1.9112999439239502, 1.9112999439239502, 1.9112999439239502, 1.9112000465393066, 1.9111000299453735, 1.9111000299453735, 1.9110000133514404, 1.9107999801635742, 1.9107999801635742, 1.9105000495910645, 1.9104000329971313, 1.9103000164031982, 1.9101999998092651, 1.9101999998092651, 1.9098999500274658, 1.9098999500274658, 1.9097000360488892, 1.9076999425888062, 1.8945000171661377, 1.8809000253677368, 1.855299949645996, 1.8595999479293823, 1.8001999855041504, 1.8723000288009644, 1.833400011062622, 1.801800012588501, 1.8210999965667725, 1.7196999788284302, 1.7726000547409058, 1.7930999994277954, 1.6384999752044678, 1.7793999910354614, 1.6988999843597412, 1.6800999641418457, 1.555799961090088, 1.7578999996185303, 1.8217999935150146, 1.3823000192642212, 1.5958000421524048, 1.7299000024795532, 1.5530999898910522, 1.7039999961853027, 1.5698000192642212, 1.2714999914169312, 1.5865000486373901, 1.3997000455856323, 1.4306000471115112, 1.0514999628067017, 1.5227999687194824, 0.32690000534057617, 0.6952999830245972, 1.5247000455856323, 1.1612999439239502, 1.4110000133514404, 1.4990999698638916, 1.0825999975204468, 1.4732999801635742, 0.6729000210762024, 0.8568999767303467, 1.26419997215271, 0.8223000168800354, 0.8596000075340271, 0.8472999930381775, 0.4537999927997589, 0.5889999866485596, 0.33799999952316284, 0.054999999701976776, -0.4729999899864197, 1.0850000381469727, 1.031000018119812, 0.9434000253677368, 0.14920000731945038, 0.15389999747276306, 0.09600000083446503, -0.09109999984502792, -0.42660000920295715, 0.3749000132083893, 0.4814999997615814, -0.33899998664855957, -0.5800999999046326, -0.03720000013709068, 0.3431999981403351, -0.7157999873161316, -0.32710000872612, 2.0129001140594482, 2.012500047683716, 2.0118000507354736, 2.0107998847961426, 2.010699987411499, 2.0106000900268555, 2.0106000900268555, 2.0102999210357666, 2.010200023651123, 2.0100998878479004, 2.0099000930786133, 2.0099000930786133, 2.009700059890747, 2.009500026702881, 2.009399890899658, 2.0092999935150146, 2.009200096130371, 2.0088999271392822, 2.008699893951416, 2.008699893951416, 2.0083999633789062, 2.0083999633789062, 2.00819993019104, 2.00819993019104, 2.00819993019104, 2.0081000328063965, 2.007999897003174, 2.0078999996185303, 2.0078999996185303, 2.0078999996185303, 2.0053999423980713, 1.9926999807357788, 1.9778000116348267, 1.9778000116348267, 1.8639999628067017, 1.9580999612808228, 1.7592999935150146, 1.7898999452590942, 1.8668999671936035, 1.8935999870300293, 1.804800033569336, 1.9098999500274658, 1.7918000221252441, 1.947100043296814, 1.8676999807357788, 1.926900029182434, 1.7408000230789185, 1.5914000272750854, 1.736899971961975, 1.3737000226974487, 1.1018999814987183, 1.632200002670288, 1.5407999753952026, 1.4989999532699585, 1.7669999599456787, 1.6269999742507935, 1.781599998474121, 1.493299961090088, 1.2961000204086304, 1.2454999685287476, 1.5846999883651733, 1.5221999883651733, 1.1821999549865723, 1.2436000108718872, 1.4687000513076782, 1.104200005531311, 1.4767999649047852, 1.40339994430542, 0.989300012588501, 1.4931000471115112, 0.767799973487854, 0.796500027179718, 0.8537999987602234, 0.7351999878883362, 1.0348000526428223, 1.0741000175476074, 0.9537000060081482, 1.106600046157837, 0.39079999923706055, 0.9682999849319458, 0.7577999830245972, 0.5002999901771545, 1.01010000705719, -0.1680999994277954, 0.8650000095367432, 0.20229999721050262, 0.8967999815940857, -0.20640000700950623, 0.3903999924659729, 0.3720000088214874, 9.999999747378752e-05, -0.20900000631809235, 0.5394999980926514, 2.3239998817443848, 2.323699951171875, 2.3234000205993652, 2.3234000205993652, 2.3232998847961426, 2.3232998847961426, 2.3232998847961426, 2.323199987411499, 2.323199987411499, 2.3231000900268555, 2.322999954223633, 2.322999954223633, 2.322700023651123, 2.3225998878479004, 2.322499990463257, 2.3222999572753906, 2.3220999240875244, 2.322000026702881, 2.321899890899658, 2.3217999935150146, 2.3217999935150146, 2.3217999935150146, 2.3217999935150146, 2.321700096130371, 2.321700096130371, 2.321500062942505, 2.3213999271392822, 2.3213000297546387, 2.321199893951416, 2.321199893951416, 2.317199945449829, 2.257699966430664, 2.2804999351501465, 2.2644999027252197, 2.2074999809265137, 2.268199920654297, 2.2827999591827393, 2.1484999656677246, 2.156899929046631, 2.219599962234497, 2.2393999099731445, 2.1277999877929688, 2.2732999324798584, 2.067699909210205, 2.269399881362915, 2.246999979019165, 1.7633999586105347, 1.8092999458312988, 2.1089999675750732, 1.8219000101089478, 1.5153000354766846, 1.5967999696731567, 1.5332000255584717, 1.523800015449524, 1.9154000282287598, 1.6744999885559082, 1.207900047302246, 1.8106000423431396, 1.4217000007629395, 1.4306999444961548, 1.0405999422073364, 1.4979000091552734, 1.5520000457763672, 0.9828000068664551, 0.7473000288009644, 1.6346999406814575, 1.4981000423431396, 1.1693999767303467, -0.48170000314712524, 1.2043999433517456, 0.33070001006126404, -1.0702999830245972, 0.028699999675154686, -0.188400000333786, 0.5809999704360962, 0.09759999811649323, 0.09560000151395798, 0.09849999845027924, 2.5388998985290527, 2.538800001144409, 2.5387001037597656, 2.538599967956543, 2.5385000705718994, 2.5385000705718994, 2.5383999347686768, 2.538300037384033, 2.538300037384033, 2.538300037384033, 2.5381999015808105, 2.538100004196167, 2.5380001068115234, 2.5380001068115234, 2.5376999378204346, 2.537600040435791, 2.5374999046325684, 2.537400007247925, 2.537400007247925, 2.537400007247925, 2.537400007247925, 2.537400007247925, 2.537400007247925, 2.537400007247925, 2.537400007247925, 2.5373001098632812, 2.5371999740600586, 2.537100076675415, 2.537100076675415, 2.536900043487549, 2.536799907684326, 2.45770001411438, 2.468899965286255, 2.370800018310547, 2.2795000076293945, 2.377500057220459, 2.466099977493286, 2.355299949645996, 2.2985000610351562, 2.0894999504089355, 2.0004000663757324, 2.288800001144409, 1.90339994430542, 2.189300060272217, 2.130199909210205, 2.1015000343322754, 1.9778000116348267, 1.6440000534057617, 1.5397000312805176, 1.7280000448226929, 1.4371000528335571, -0.12060000002384186, 1.066100001335144, 0.34119999408721924, 1.6308000087738037, 1.9543999433517456, 0.8252999782562256, 1.6217000484466553, 1.5370999574661255, 1.5592999458312988, 0.3328000009059906, -0.060499999672174454, 0.4404999911785126, 0.12860000133514404, 0.6470000147819519, -0.9240000247955322, 0.7756999731063843, 1.0477999448776245, -1.8502000570297241, -0.10040000081062317, 2.7792999744415283, 2.7792999744415283, 2.7790000438690186, 2.778899908065796, 2.778899908065796, 2.7788000106811523, 2.778599977493286, 2.7785000801086426, 2.7785000801086426, 2.7785000801086426, 2.77839994430542, 2.7783000469207764, 2.7783000469207764, 2.7783000469207764, 2.7781999111175537, 2.7781999111175537, 2.77810001373291, 2.77810001373291, 2.77810001373291, 2.77810001373291, 2.7780001163482666, 2.7780001163482666, 2.777899980545044, 2.777899980545044, 2.7778000831604004, 2.7776999473571777, 2.777600049972534, 2.7774999141693115, 2.777400016784668, 2.777400016784668, 2.7727999687194824, 2.76200008392334, 2.7256999015808105, 2.714099884033203, 2.644200086593628, 2.650399923324585, 2.6113998889923096, 2.5720999240875244, 2.612600088119507, 2.6522998809814453, 2.6273999214172363, 2.6830999851226807, 2.449399948120117, 2.635200023651123, 2.0998001098632812, 2.38919997215271, 2.411600112915039, 2.6073999404907227, 2.136199951171875, 2.4184999465942383, 2.4409000873565674, 2.3585000038146973, 2.4969000816345215, 2.487299919128418, 2.0541000366210938, 2.0418999195098877, 2.063999891281128, 1.9365999698638916, 1.4558000564575195, -0.013899999670684338, 0.40630000829696655, 0.3767000138759613, 1.1030999422073364, 0.028999999165534973, 1.055799961090088, 0.5238999724388123, 1.0116000175476074, 0.5760999917984009, 0.9240000247955322, 1.0780999660491943, 0.02759999968111515, 0.24699999392032623, -0.20550000667572021, 0.3276999890804291, 0.6596999764442444, -0.9567999839782715, 3.02020001411438, 3.0199999809265137, 3.0197999477386475, 3.019700050354004, 3.0195999145507812, 3.0195999145507812, 3.019399881362915, 3.0188000202178955, 3.0188000202178955, 3.0183000564575195, 3.018199920654297, 3.018199920654297, 3.0181000232696533, 3.0179998874664307, 3.017899990081787, 3.0178000926971436, 3.0174999237060547, 3.0174999237060547, 3.017199993133545, 3.017199993133545, 3.0169999599456787, 3.016900062561035, 3.016900062561035, 3.0167999267578125, 3.016700029373169, 3.016700029373169, 3.0165998935699463, 3.0165998935699463, 3.0165998935699463, 3.0165998935699463, 2.9707000255584717, 2.9609999656677246, 2.92549991607666, 2.9900999069213867, 2.8659000396728516, 2.703200101852417, 2.816999912261963, 2.643199920654297, 2.8863000869750977, 2.8949999809265137, 2.6568000316619873, 2.8429999351501465, 2.6314001083374023, 2.7437000274658203, 2.702699899673462, 2.799999952316284, 2.888700008392334, 2.7897000312805176, 2.6196000576019287, 2.585400104522705, 2.297600030899048, 2.6340999603271484, 2.2657999992370605, 1.7899999618530273, 1.809499979019165, 1.7936999797821045, 1.6083999872207642, 2.2685999870300293, 2.2235000133514404, 1.7142000198364258, 0.9067999720573425, -0.30809998512268066, 0.1387999951839447, 0.3725999891757965, 0.10790000110864639, -0.8015999794006348, 0.38429999351501465, 0.18070000410079956, 3.3585000038146973, 3.358299970626831, 3.358299970626831, 3.3575000762939453, 3.3573999404907227, 3.3568999767303467, 3.3564999103546143, 3.3564000129699707, 3.3564000129699707, 3.3564000129699707, 3.356300115585327, 3.356300115585327, 3.3561999797821045, 3.356100082397461, 3.356100082397461, 3.3559000492095947, 3.355799913406372, 3.3554999828338623, 3.3554999828338623, 3.3554000854492188, 3.355299949645996, 3.355299949645996, 3.3552000522613525, 3.3552000522613525, 3.35509991645813, 3.3548998832702637, 3.35479998588562, 3.354599952697754, 3.3543999195098877, 3.3543999195098877, 3.3320999145507812, 3.2960000038146973, 3.310699939727783, 3.3011999130249023, 3.309000015258789, 3.2267000675201416, 3.29830002784729, 3.191699981689453, 3.0820000171661377, 3.2274999618530273, 3.0636000633239746, 3.2399001121520996, 3.161799907684326, 3.2753000259399414, 3.044100046157837, 3.1117000579833984, 2.87280011177063, 2.9475998878479004, 2.421799898147583, 2.6617000102996826, 2.8292999267578125, 3.146399974822998, 2.8691000938415527, 2.986999988555908, 3.0418999195098877, 2.335700035095215, 2.8498001098632812, 2.711699962615967, 2.607599973678589, 2.47379994392395, 2.837399959564209, 2.3220999240875244, 2.280600070953369, 1.3493000268936157, 1.7482999563217163, 2.0889999866485596, 2.2184998989105225, 2.1856000423431396, 0.7870000004768372, -0.3075999915599823, 1.2228000164031982, -0.47839999198913574, 4.372099876403809, 4.371699810028076, 4.371600151062012, 4.371600151062012, 4.371600151062012, 4.371500015258789, 4.371200084686279, 4.370999813079834, 4.370999813079834, 4.370699882507324, 4.370200157165527, 4.370100021362305, 4.369999885559082, 4.36959981918335, 4.36959981918335, 4.36959981918335, 4.369200229644775, 4.36899995803833, 4.368899822235107, 4.368800163269043, 4.36870002746582, 4.368599891662598, 4.3684000968933105, 4.368299961090088, 4.368299961090088, 4.368299961090088, 4.368199825286865, 4.368100166320801, 4.368100166320801, 4.368000030517578, 4.247499942779541, 3.7460999488830566, 3.537400007247925, 3.8850998878479004, 2.865499973297119, 3.871299982070923, 4.139599800109863, 3.0276999473571777, 2.1861000061035156, 1.4737000465393066, 2.5399999618530273, 2.6774001121520996, 2.2671000957489014, 1.3122999668121338, 0.5131000280380249], \"logprob\": [30.0, 29.0, 28.0, 27.0, 26.0, 25.0, 24.0, 23.0, 22.0, 21.0, 20.0, 19.0, 18.0, 17.0, 16.0, 15.0, 14.0, 13.0, 12.0, 11.0, 10.0, 9.0, 8.0, 7.0, 6.0, 5.0, 4.0, 3.0, 2.0, 1.0, -7.223400115966797, -7.717199802398682, -7.729499816894531, -8.288299560546875, -8.31879997253418, -8.522700309753418, -8.911199569702148, -9.054800033569336, -9.096400260925293, -9.120499610900879, -9.211999893188477, -9.233400344848633, -9.251299858093262, -9.272199630737305, -9.300999641418457, -9.333999633789062, -9.366399765014648, -9.371000289916992, -9.410699844360352, -9.434900283813477, -9.436200141906738, -9.449799537658691, -9.46049976348877, -9.466400146484375, -9.478099822998047, -9.513899803161621, -9.546799659729004, -9.569899559020996, -9.612700462341309, -9.621999740600586, -6.555099964141846, -8.118200302124023, -5.994800090789795, -7.4446001052856445, -7.280900001525879, -8.077500343322754, -7.871399879455566, -6.310100078582764, -6.366199970245361, -6.8927001953125, -8.729100227355957, -6.168000221252441, -8.21049976348877, -6.887199878692627, -7.441199779510498, -4.593800067901611, -4.976900100708008, -5.872799873352051, -5.890100002288818, -6.62470006942749, -5.63040018081665, -5.495299816131592, -6.455399990081787, -6.740099906921387, -5.32450008392334, -5.396299839019775, -5.532199859619141, -5.833600044250488, -4.935800075531006, -4.716599941253662, -4.056399822235107, -6.390600204467773, -5.048099994659424, -5.969099998474121, -4.453800201416016, -4.780799865722656, -4.598100185394287, -5.28380012512207, -5.660099983215332, -4.797900199890137, -4.995699882507324, -4.678999900817871, -5.356200218200684, -5.329800128936768, -5.442200183868408, -5.245200157165527, -4.757599830627441, -5.088500022888184, -4.311800003051758, -4.752099990844727, -4.883399963378906, -5.258399963378906, -5.624800205230713, -5.291999816894531, -5.322800159454346, -5.322700023651123, -5.4593000411987305, -6.614699840545654, -6.813899993896484, -7.323400020599365, -8.123800277709961, -8.220499992370605, -8.398500442504883, -8.454099655151367, -8.464500427246094, -8.58590030670166, -8.605899810791016, -8.68690013885498, -8.695899963378906, -8.79699993133545, -8.908300399780273, -8.96090030670166, -8.99779987335205, -9.006199836730957, -9.043499946594238, -9.067399978637695, -9.069100379943848, -9.10949993133545, -9.111900329589844, -9.1181001663208, -9.124199867248535, -9.126799583435059, -9.190199851989746, -9.212900161743164, -9.221400260925293, -9.22920036315918, -9.246299743652344, -8.54419994354248, -6.677999973297119, -8.208499908447266, -6.214200019836426, -5.983500003814697, -4.333099842071533, -7.182199954986572, -5.763299942016602, -6.198200225830078, -6.158599853515625, -5.43310022354126, -5.8491997718811035, -6.959099769592285, -7.983399868011475, -6.368899822235107, -6.750100135803223, -6.003699779510498, -5.806600093841553, -4.9552998542785645, -6.188199996948242, -6.149499893188477, -6.428500175476074, -5.053999900817871, -6.175099849700928, -4.544600009918213, -4.707499980926514, -6.019700050354004, -3.660900115966797, -4.691800117492676, -5.769999980926514, -4.563499927520752, -5.689799785614014, -5.174200057983398, -5.151800155639648, -4.982500076293945, -5.221199989318848, -4.282299995422363, -5.0584001541137695, -4.885900020599365, -5.731400012969971, -5.203199863433838, -5.22760009765625, -4.9456000328063965, -4.748899936676025, -5.147200107574463, -5.4492998123168945, -5.360400199890137, -5.337500095367432, -5.305300235748291, -5.111000061035156, -5.601600170135498, -5.585599899291992, -5.632500171661377, -6.473499774932861, -7.798500061035156, -7.819699764251709, -7.935100078582764, -7.988800048828125, -8.067299842834473, -8.196999549865723, -8.270600318908691, -8.299599647521973, -8.396300315856934, -8.400799751281738, -8.401100158691406, -8.4197998046875, -8.441100120544434, -8.44950008392334, -8.45259952545166, -8.459799766540527, -8.491299629211426, -8.499099731445312, -8.514300346374512, -8.571900367736816, -8.588600158691406, -8.645899772644043, -8.683500289916992, -8.707300186157227, -8.719499588012695, -8.736499786376953, -8.787500381469727, -8.794400215148926, -8.828300476074219, -6.610400199890137, -6.638000011444092, -8.215700149536133, -7.776500225067139, -7.865900039672852, -6.942200183868408, -8.073100090026855, -7.469200134277344, -7.377200126647949, -7.575099945068359, -6.824900150299072, -7.31790018081665, -7.521999835968018, -6.348700046539307, -7.4156999588012695, -6.876100063323975, -6.765399932861328, -6.041399955749512, -7.403600215911865, -7.845699787139893, -5.29010009765625, -6.530200004577637, -7.30079984664917, -6.502999782562256, -7.246200084686279, -6.673699855804443, -5.366799831390381, -6.757400035858154, -6.224899768829346, -6.348299980163574, -5.147200107574463, -6.696300029754639, -3.9518001079559326, -5.040800094604492, -6.919400215148926, -6.149099826812744, -6.683599948883057, -6.891900062561035, -6.150100231170654, -6.867300033569336, -5.595600128173828, -5.9028000831604, -6.569399833679199, -5.966000080108643, -6.05109977722168, -6.0553998947143555, -5.606599807739258, -5.820499897003174, -5.562399864196777, -5.453800201416016, -5.174900054931641, -6.363800048828125, -6.348899841308594, -6.313399791717529, -5.884399890899658, -5.898099899291992, -5.881800174713135, -5.844399929046631, -5.795100212097168, -6.18209981918335, -6.2153000831604, -6.042500019073486, -6.026000022888184, -6.133399963378906, -6.219600200653076, -6.2067999839782715, -6.2144999504089355, -7.564000129699707, -7.827899932861328, -8.124899864196777, -8.459500312805176, -8.470499992370605, -8.493499755859375, -8.504199981689453, -8.58530044555664, -8.606399536132812, -8.619400024414062, -8.659299850463867, -8.663000106811523, -8.717700004577637, -8.746700286865234, -8.770700454711914, -8.798800468444824, -8.804699897766113, -8.864800453186035, -8.899100303649902, -8.905599594116211, -8.947400093078613, -8.958700180053711, -8.983099937438965, -8.990500450134277, -8.991999626159668, -9.005000114440918, -9.022700309753418, -9.034799575805664, -9.035099983215332, -9.03600025177002, -7.792900085449219, -7.434700012207031, -7.680699825286865, -8.35669994354248, -6.329400062561035, -8.152000427246094, -5.101900100708008, -5.748700141906738, -7.036200046539307, -7.486000061035156, -6.5391998291015625, -7.761000156402588, -6.482699871063232, -8.1943998336792, -7.487599849700928, -8.113200187683105, -6.804599761962891, -5.827499866485596, -6.8856000900268555, -4.726200103759766, -3.176800012588501, -6.38670015335083, -5.9928998947143555, -5.834400177001953, -7.256199836730957, -6.635700225830078, -7.401199817657471, -6.091599941253662, -5.2667999267578125, -5.081900119781494, -6.5432000160217285, -6.308300018310547, -4.981500148773193, -5.258600234985352, -6.182000160217285, -4.906400203704834, -6.244500160217285, -6.091899871826172, -4.988399982452393, -6.374199867248535, -4.678199768066406, -4.962600231170654, -5.179699897766113, -4.968299865722656, -5.619900226593018, -5.726799964904785, -5.563600063323975, -5.840400218963623, -4.893899917602539, -5.665500164031982, -5.450099945068359, -5.2052001953125, -5.758900165557861, -4.869999885559082, -5.691999912261963, -5.30649995803833, -5.747700214385986, -5.186600208282471, -5.497000217437744, -5.5355000495910645, -5.506400108337402, -5.577400207519531, -5.723400115966797, -6.314599990844727, -6.779799938201904, -7.024799823760986, -7.079899787902832, -7.108799934387207, -7.133600234985352, -7.151599884033203, -7.178199768066406, -7.229400157928467, -7.267899990081787, -7.3078999519348145, -7.32390022277832, -7.499300003051758, -7.561999797821045, -7.604300022125244, -7.674099922180176, -7.754000186920166, -7.805500030517578, -7.8506999015808105, -7.888800144195557, -7.890399932861328, -7.893799781799316, -7.895199775695801, -7.912799835205078, -7.927599906921387, -7.994900226593018, -8.029899597167969, -8.059399604797363, -8.06470012664795, -8.088899612426758, -6.972700119018555, -5.661200046539307, -6.492000102996826, -6.214099884033203, -5.55210018157959, -6.736199855804443, -7.122600078582764, -5.213500022888184, -5.532800197601318, -6.393199920654297, -6.725599765777588, -5.345799922943115, -7.236000061035156, -5.150100231170654, -7.29449987411499, -7.22730016708374, -4.926599979400635, -5.205100059509277, -6.617700099945068, -6.089000225067139, -5.309199810028076, -5.542799949645996, -5.412399768829346, -5.447500228881836, -6.3668999671936035, -5.888400077819824, -5.060500144958496, -6.203700065612793, -5.52269983291626, -5.565000057220459, -5.093400001525879, -5.869800090789795, -6.03439998626709, -5.614500045776367, -5.451399803161621, -6.247200012207031, -6.222099781036377, -6.0131001472473145, -5.183599948883057, -6.061299800872803, -5.721399784088135, -5.348999977111816, -5.724599838256836, -5.6971001625061035, -5.896999835968018, -5.935999870300293, -5.996799945831299, -6.013999938964844, -5.549099922180176, -5.781099796295166, -5.997600078582764, -6.197299957275391, -6.275300025939941, -6.318299770355225, -6.474299907684326, -6.555099964141846, -6.579899787902832, -6.591300010681152, -6.624100208282471, -6.724400043487549, -6.782400131225586, -6.748799800872803, -7.060299873352051, -7.090400218963623, -7.1585001945495605, -7.196400165557861, -7.212299823760986, -7.217599868774414, -7.222499847412109, -7.223199844360352, -7.232999801635742, -7.235599994659424, -7.23859977722168, -7.283999919891357, -7.305799961090088, -7.3709001541137695, -7.388599872589111, -7.452199935913086, -7.190700054168701, -4.280099868774414, -6.564000129699707, -5.50029993057251, -5.359899997711182, -6.216899871826172, -6.8607001304626465, -6.374100208282471, -6.143599987030029, -5.611800193786621, -5.330900192260742, -6.399600028991699, -5.252200126647949, -6.26230001449585, -6.176499843597412, -6.210100173950195, -5.997499942779541, -5.779699802398682, -5.699699878692627, -5.951300144195557, -5.8368000984191895, -4.822500228881836, -5.757900238037109, -5.412199974060059, -6.127299785614014, -6.292699813842773, -5.861599922180176, -6.16480016708374, -6.137599945068359, -6.184299945831299, -5.9355998039245605, -5.863699913024902, -5.959700107574463, -5.963900089263916, -6.054599761962891, -5.904200077056885, -6.135700225830078, -6.1570000648498535, -6.129000186920166, -6.152400016784668, -6.26609992980957, -6.313499927520752, -6.585999965667725, -6.621799945831299, -6.640100002288818, -6.752699851989746, -6.875800132751465, -6.9019999504089355, -6.923099994659424, -6.944499969482422, -7.005899906158447, -7.028200149536133, -7.040500164031982, -7.043099880218506, -7.061800003051758, -7.094799995422363, -7.117099761962891, -7.127999782562256, -7.129300117492676, -7.13640022277832, -7.180600166320801, -7.191199779510498, -7.221099853515625, -7.235499858856201, -7.2846999168396, -7.310699939727783, -7.327899932861328, -7.3821001052856445, -7.412099838256836, -7.418099880218506, -6.957600116729736, -6.324999809265137, -6.507900238037109, -6.4004998207092285, -5.648600101470947, -5.883800029754639, -5.680099964141846, -5.729599952697754, -6.0447998046875, -6.404600143432617, -6.30210018157959, -6.6184000968933105, -5.404799938201904, -6.379300117492676, -4.620299816131592, -5.651100158691406, -5.753699779510498, -6.474299907684326, -5.02839994430542, -6.067999839782715, -6.186800003051758, -6.0295000076293945, -6.434299945831299, -6.42080020904541, -5.796999931335449, -5.886600017547607, -5.932199954986572, -5.889800071716309, -5.683800220489502, -4.715799808502197, -5.3470001220703125, -5.368500232696533, -5.737500190734863, -5.25570011138916, -5.768700122833252, -5.588600158691406, -5.821800231933594, -5.692299842834473, -5.834400177001953, -5.917600154876709, -5.715400218963623, -5.804999828338623, -5.899400234222412, -5.935100078582764, -5.974100112915039, -5.936999797821045, -5.7428998947143555, -5.941999912261963, -6.207799911499023, -6.273099899291992, -6.343800067901611, -6.3572998046875, -6.530399799346924, -6.854599952697754, -6.870200157165527, -7.081600189208984, -7.118199825286865, -7.122200012207031, -7.14739990234375, -7.19920015335083, -7.218100070953369, -7.279600143432617, -7.362100124359131, -7.366600036621094, -7.442699909210205, -7.456099987030029, -7.5065999031066895, -7.512700080871582, -7.535399913787842, -7.5416998863220215, -7.566100120544434, -7.581399917602539, -7.58519983291626, -7.587600231170654, -7.591400146484375, -7.594799995422363, -5.537700176239014, -5.844099998474121, -5.100200176239014, -6.765999794006348, -3.954699993133545, -3.789299964904785, -5.122600078582764, -3.583400011062622, -6.197199821472168, -6.484899997711182, -4.974299907684326, -6.259500026702881, -4.970399856567383, -5.676700115203857, -5.653200149536133, -6.26800012588501, -6.662300109863281, -6.540599822998047, -6.106500148773193, -6.055200099945068, -5.353899955749512, -6.179299831390381, -5.730500221252441, -5.212500095367432, -5.283100128173828, -5.275100231170654, -5.302999973297119, -5.947299957275391, -5.982699871063232, -5.742300033569336, -5.616399765014648, -5.2881999015808105, -5.606299877166748, -5.6793999671936035, -5.6350998878479, -5.503499984741211, -5.7281999588012695, -5.911799907684326, -5.692500114440918, -5.34089994430542, -5.912099838256836, -6.460400104522705, -6.505499839782715, -6.708099842071533, -6.88670015335083, -6.89139986038208, -6.893899917602539, -6.92110013961792, -6.931700229644775, -6.951900005340576, -6.969799995422363, -6.993100166320801, -7.012700080871582, -7.061200141906738, -7.086999893188477, -7.158599853515625, -7.179100036621094, -7.200799942016602, -7.225299835205078, -7.232100009918213, -7.234000205993652, -7.236700057983398, -7.248199939727783, -7.318699836730957, -7.336599826812744, -7.380799770355225, -7.410099983215332, -7.422599792480469, -3.8975000381469727, -5.543600082397461, -6.06879997253418, -6.125, -6.599599838256836, -5.580999851226807, -6.637800216674805, -5.613500118255615, -4.9182000160217285, -6.218500137329102, -5.658299922943115, -6.585400104522705, -6.264599800109863, -6.787799835205078, -6.021900177001953, -6.2515997886657715, -5.496300220489502, -5.867700099945068, -4.743100166320801, -5.369100093841553, -5.809299945831299, -6.494200229644775, -5.940400123596191, -6.250999927520752, -6.3765997886657715, -5.35099983215332, -6.132900238037109, -5.988999843597412, -5.873799800872803, -5.73829984664917, -6.145500183105469, -5.77839994430542, -5.781199932098389, -5.289000034332275, -5.616000175476074, -5.8668999671936035, -5.928599834442139, -5.952600002288818, -5.690999984741211, -5.676000118255615, -5.986700057983398, -5.969399929046631, -4.414000034332275, -4.833399772644043, -4.8927998542785645, -4.929299831390381, -4.942999839782715, -5.01230001449585, -5.235400199890137, -5.328999996185303, -5.343100070953369, -5.526800155639648, -5.714000225067139, -5.75570011138916, -5.805799961090088, -5.923099994659424, -5.941299915313721, -5.953000068664551, -6.058199882507324, -6.099899768829346, -6.1427001953125, -6.164999961853027, -6.194699764251709, -6.20959997177124, -6.255499839782715, -6.275100231170654, -6.2789998054504395, -6.285900115966797, -6.315999984741211, -6.332699775695801, -6.337500095367432, -6.342899799346924, -5.717199802398682, -5.174900054931641, -5.493800163269043, -5.919899940490723, -5.201499938964844, -5.942500114440918, -6.157199859619141, -5.632800102233887, -5.5167999267578125, -5.350800037384033, -5.70359992980957, -5.7418999671936035, -5.811999797821045, -5.972099781036377, -6.049699783325195]}, \"token.table\": {\"Topic\": [1, 2, 6, 1, 4, 1, 3, 4, 6, 1, 2, 4, 5, 1, 2, 4, 6, 7, 9, 1, 2, 4, 5, 7, 1, 2, 4, 5, 5, 8, 10, 1, 3, 4, 5, 7, 8, 3, 9, 10, 2, 10, 6, 1, 6, 4, 5, 7, 8, 1, 2, 3, 4, 5, 6, 7, 8, 9, 10, 4, 1, 2, 3, 5, 6, 7, 9, 3, 2, 1, 2, 3, 7, 8, 9, 1, 2, 3, 4, 5, 6, 7, 8, 9, 10, 9, 2, 2, 5, 5, 8, 5, 2, 4, 2, 6, 7, 9, 1, 2, 3, 4, 5, 6, 7, 8, 9, 5, 4, 7, 2, 2, 1, 3, 4, 6, 8, 9, 1, 2, 3, 4, 8, 1, 5, 8, 10, 1, 2, 3, 5, 6, 7, 8, 9, 1, 4, 6, 7, 6, 4, 5, 7, 7, 2, 3, 6, 7, 9, 2, 2, 3, 4, 5, 6, 3, 5, 5, 2, 1, 2, 3, 4, 5, 6, 7, 8, 9, 10, 5, 1, 2, 4, 5, 6, 7, 8, 5, 1, 2, 4, 5, 6, 7, 8, 9, 1, 2, 3, 4, 5, 6, 7, 8, 3, 1, 4, 1, 4, 6, 8, 3, 1, 3, 6, 7, 10, 7, 10, 2, 3, 7, 10, 1, 2, 3, 5, 10, 1, 2, 3, 5, 10, 5, 7, 8, 1, 2, 3, 5, 6, 7, 8, 9, 1, 2, 3, 4, 5, 7, 8, 2, 3, 4, 5, 6, 8, 9, 10, 7, 5, 10, 2, 6, 7, 8, 1, 4, 6, 9, 3, 8, 1, 2, 3, 4, 5, 7, 8, 10, 1, 2, 3, 4, 6, 9, 3, 2, 6, 1, 3, 5, 6, 7, 8, 1, 2, 7, 8, 5, 2, 4, 5, 6, 7, 8, 2, 3, 5, 6, 9, 6, 7, 8, 9, 1, 2, 3, 4, 5, 7, 8, 10, 1, 2, 3, 4, 6, 8, 5, 7, 8, 9, 2, 7, 8, 1, 2, 7, 1, 4, 1, 4, 6, 7, 8, 8, 2, 4, 8, 8, 2, 4, 8, 2, 4, 7, 8, 10, 3, 1, 3, 4, 5, 3, 7, 1, 3, 4, 1, 6, 7, 1, 2, 3, 4, 5, 8, 9, 1, 2, 3, 5, 7, 9, 1, 4, 1, 4, 5, 6, 1, 5, 6, 3, 7, 2, 3, 2, 3, 8, 10, 10, 1, 2, 3, 4, 5, 6, 7, 1, 5, 6, 7, 5, 7, 1, 3, 5, 6, 7, 8, 1, 3, 5, 6, 7, 9, 1, 4, 6, 7, 1, 2, 4, 6, 8, 6, 4, 7, 8, 3, 9, 2, 3, 4, 5, 6, 7, 1, 2, 4, 1, 2, 3, 4, 5, 6, 7, 8, 5, 2, 3, 4, 5, 7, 10, 1, 2, 3, 4, 5, 6, 7, 9, 10, 3, 4, 2, 5, 8, 1, 2, 3, 9, 10, 1, 5, 5, 5, 6, 8, 6, 1, 4, 6, 1, 4, 6, 1, 5, 1, 2, 4, 6, 1, 2, 3, 6, 9, 7, 7, 8, 1, 2, 3, 4, 10, 1, 2, 4, 6, 1, 2, 3, 4, 6, 7, 9, 10, 4, 5, 5, 9, 2, 3, 5, 9, 1, 2, 3, 4, 5, 6, 9, 10, 1, 2, 4, 8, 1, 2, 6, 7, 8, 2, 6, 8, 7, 2, 3, 5, 9, 1, 2, 3, 4, 5, 6, 7, 8, 9, 1, 2, 3, 4, 6, 9, 1, 2, 3, 4, 5, 6, 7, 8, 9, 1, 2, 3, 5, 6, 7, 3, 2, 3, 5, 7, 3, 1, 2, 3, 4, 5, 6, 7, 9, 1, 3, 4, 6, 8, 10, 1, 2, 3, 5, 8, 2, 5, 6, 7, 10, 8, 8, 1, 2, 3, 5, 6, 7, 8, 1, 2, 5, 6, 7, 8, 3, 1, 2, 3, 4, 6, 7, 9, 10, 1, 2, 1, 2, 3, 4, 5, 6, 7, 9, 1, 2, 3, 4, 5, 6, 7, 9, 3, 5, 6, 7, 8, 1, 2, 3, 4, 5, 6, 7, 8, 9, 1, 4, 8, 9, 1, 6, 8, 9, 7, 5, 7, 3, 5, 9, 1, 6, 3, 9, 2, 3, 4, 5, 9, 1, 2, 3, 5, 7, 8, 1, 7, 1, 2, 4, 6, 7, 8, 8, 8, 1, 2, 4, 8, 8, 1, 2, 6, 7, 8, 9, 3, 6, 7, 8, 7, 9, 1, 2, 3, 4, 6, 7, 9, 6, 9, 9, 1, 2, 3, 4, 5, 6, 7, 8, 9, 1, 2, 3, 4, 5, 6, 7, 8, 10, 1, 4, 5, 6, 9, 3, 5, 10, 1, 2, 3, 5, 6, 8, 1, 2, 3, 4, 5, 6, 7, 8, 9, 6, 1, 2, 3, 4, 5, 6, 7, 8, 9, 4, 1, 1, 2, 4, 5, 6, 7, 8, 10, 6, 6, 1, 2, 4, 5, 6, 7, 8, 9, 5, 1, 2, 3, 4, 5, 6, 7, 8, 9, 8, 9, 1, 2, 3, 6, 7, 8, 9, 1, 2, 4, 6, 8, 2, 5, 6, 8, 9, 1, 6, 7, 10, 1, 4, 6, 7, 8, 1, 4, 7, 8, 4, 6, 7, 2, 5, 7, 8, 4, 2, 7, 5, 4, 5, 7, 1, 2, 3, 6, 7, 9, 10, 1, 1, 2, 4, 8, 5, 1, 2, 4, 6, 8, 10, 2, 3, 9, 10, 1, 2, 3, 4, 7, 9, 5, 9, 9, 10, 10, 10, 3, 1, 2, 3, 5, 6, 7, 8, 9, 3, 7, 10, 1, 4, 1, 6, 1, 5, 6, 8, 1, 2, 3, 4, 5, 6, 7, 8, 9, 1, 2, 3, 6, 1, 3, 6, 1, 2, 4, 7, 8, 1, 5, 3, 4, 4, 6, 10, 10, 3, 5, 6, 7, 10, 4, 3, 1, 2, 3, 4, 5, 6, 7, 5, 5, 6, 9, 1, 2, 3, 2, 3, 1, 5, 6, 7, 8, 7, 9, 2, 4, 5, 7, 9, 5, 10, 2, 3, 6, 9, 5, 7, 8, 9, 3, 5, 5, 10, 1, 5, 6, 7, 8, 10, 2, 4, 5, 6, 7, 8, 10, 1, 8, 4, 8, 5, 5, 8, 10, 6, 8, 9, 10, 1, 4, 1, 2, 8, 1, 3, 6, 7, 1, 3, 5, 6, 7, 1, 6, 7, 1, 2, 5, 6, 9, 4, 1, 2, 3, 4, 5, 6, 7, 8, 9, 9, 7, 3, 1, 2, 3, 4, 6, 2, 3, 4, 6, 1, 2, 3, 5, 6, 7, 8, 9, 1, 2, 8, 1, 4, 8, 3, 2, 4, 5, 6, 7, 8, 1, 10, 10, 3, 1, 2, 3, 5, 8, 1, 2, 3, 4, 5, 6, 7, 8, 9, 10, 1, 2, 3, 4, 5, 6, 7, 8, 1, 2, 3, 5, 6, 8, 4, 5, 1, 2, 3, 5, 8, 10, 1, 2, 5, 8, 1, 2, 4, 6, 5, 6, 1, 9, 1, 2, 3, 4, 5, 6, 7, 8, 9, 7, 1, 2, 3, 4, 5, 6, 7, 8, 9, 1, 2, 3, 4, 5, 6, 7, 8, 9, 2, 1, 2, 3, 4, 5, 6, 7, 8, 9, 5, 8, 9, 5, 8, 5, 7, 9, 5, 8, 6, 1, 2, 4, 7, 8, 9, 2, 1, 2, 3, 4, 5, 6, 7, 8, 1, 2, 3, 4, 1, 2, 3, 4, 6, 7, 8, 1, 2, 3, 8, 1, 4, 5, 1, 3, 5, 6, 7, 8, 9, 4, 1, 2, 3, 1, 2, 6, 3, 2, 7, 2, 6, 9, 1, 4, 7, 7, 1, 3, 4, 5, 7, 8, 6, 6, 1, 2, 3, 3, 3, 1, 2, 3, 5, 1, 2, 4, 6, 7, 8, 1, 2, 3, 4, 5, 7, 8, 10, 5, 8, 10, 1, 2, 3, 4, 5, 6, 7, 8, 9, 4, 8, 1, 2, 4, 5, 6, 10, 2, 1, 3, 4, 2, 3, 4, 6, 7, 9, 3, 9, 1, 2, 3, 4, 5, 6, 7, 8, 9, 1, 2, 3, 4, 5, 6, 7, 8, 9, 1, 2, 3, 5, 6, 7, 8, 9, 8, 10, 10, 3, 7, 1, 9, 2, 3, 5, 7, 9, 2, 2, 1, 2, 3, 4, 5, 6, 8, 2, 3, 4, 5, 10, 9, 1, 2, 4, 6, 8, 7, 9, 1, 2, 4, 6, 1, 2, 3, 4, 5, 6, 7, 8, 9, 1, 1, 2, 3, 4, 5, 6, 7, 8, 9, 1, 2, 4, 6, 8, 4, 7, 8, 4, 9, 2, 4, 1, 2, 3, 6, 8, 9, 1, 2, 3, 5, 7, 8, 2, 3, 4, 5, 7, 10, 1, 2, 3, 4, 5, 9, 1, 2, 3, 5, 7, 8, 9, 7, 5, 1, 6, 9, 1, 2, 3, 4, 5, 7, 8, 9, 10, 1, 2, 3, 4, 5, 6, 7, 8, 10, 1, 2, 4, 5, 6, 7, 8, 10, 2, 4, 8, 1, 2, 4, 3, 4, 1, 2, 3, 4, 6, 7, 1, 2, 3, 4, 5, 6, 7, 8, 9, 2, 2, 1, 3, 6, 7, 3, 9, 1, 3, 4, 5, 6, 9, 1, 4, 7, 3, 5, 9, 1, 2, 3, 5, 6, 7, 9, 2, 3, 5, 6, 6, 1, 2, 4, 5, 6, 7, 8, 1, 2, 3, 4, 5, 6, 9, 10, 3, 8, 7, 1, 2, 3, 4, 5, 6, 7, 8, 3, 8, 1, 10, 3, 1, 2, 3, 4, 5, 6, 7, 8, 9, 1, 2, 3, 4, 5, 6, 7, 8, 9, 1, 2, 3, 8, 1, 2, 3, 4, 5, 6, 7, 8, 1, 2, 4, 6, 8, 1, 3, 1, 3, 2, 1, 2, 4, 8, 3, 9, 8, 7, 2, 4, 5, 6, 7, 1, 2, 4, 5, 7, 8, 10, 9, 9, 9, 9, 10, 1, 2, 1, 2, 3, 4, 6, 8, 6, 10, 1, 6, 1, 2, 3, 4, 5, 6, 7, 8, 9, 10, 1, 2, 3, 4, 5, 6, 7, 9, 10, 1, 2, 4, 6, 1, 3, 6, 6, 1, 2, 4, 5, 7, 10, 10, 2, 7, 8, 2, 8, 1, 2, 3, 4, 5, 6, 7, 8, 9, 1, 2, 3, 4, 5, 6, 7, 8, 1, 2, 3, 4, 6, 4, 2, 6, 7, 8, 3, 4, 5, 8, 3, 1, 10, 6, 10, 9, 10, 6, 9, 1, 2, 3, 7, 8, 9, 1, 2, 3, 4, 5, 6, 7, 8, 9, 2, 2, 4, 5, 6, 8, 9, 8, 1, 2, 5, 6, 7, 8, 8, 8, 8, 6, 8, 3, 5, 8, 3, 6, 7, 9, 10, 6, 9, 1, 2, 3, 4, 5, 1, 2, 3, 4, 5, 6, 8, 1, 2, 3, 5, 6, 7, 2, 5, 8, 10, 2, 8, 10, 1, 2, 4, 9, 1, 2, 3, 4, 6, 8, 9, 1, 2, 4, 6, 6, 5, 1, 2, 4, 5, 6, 7, 8, 9, 6, 7, 8, 1, 2, 3, 4, 5, 6, 7, 8, 9, 4, 8, 1, 2, 3, 4, 5, 6, 7, 10, 4, 5, 1, 4, 8, 1, 2, 3, 4, 1, 1, 4, 1, 2, 3, 5, 7, 7, 5, 3, 4, 1, 2, 3, 4, 5, 6, 7, 8, 1, 2, 1, 2, 3, 4, 5, 6, 7, 8, 1, 2, 3, 4, 8, 1, 2, 3, 4, 8, 1, 2, 3, 4, 5, 6, 7, 8, 9, 7, 8, 6, 1, 9, 8, 1, 2, 3, 5, 2, 1, 2, 4, 6, 7, 8, 1, 2, 3, 4, 5, 6, 7, 8, 9, 1, 4, 4, 6, 4, 2, 3, 1, 2, 3, 4, 5, 6, 7, 8, 4, 8, 4, 4, 1, 4, 3, 7, 9, 4, 1, 2, 3, 4, 5, 6, 8, 9, 6, 6, 1, 2, 4, 5, 6, 7, 8, 10, 4, 2, 4, 5, 6, 7, 9, 10, 1, 2, 3, 4, 2, 3, 4, 6, 1, 2, 3, 4, 6, 7, 2, 7, 6, 1, 5, 9, 1, 1, 2, 3, 4, 5, 8, 1, 3, 5, 6, 7, 8, 3, 9, 9, 7, 2, 6, 9, 1, 2, 4, 7, 8, 1, 2, 4, 8, 5, 10, 1, 2, 3, 4, 5, 6, 7, 8, 9, 7, 8, 1, 2, 3, 4, 5, 6, 7, 8, 9, 10, 3, 6, 3, 7, 7, 1, 1, 3, 5, 7, 1, 2, 3, 4, 5, 6, 7, 8, 1, 3, 4, 5, 6, 1, 3, 4, 5, 6, 8, 2, 5, 8, 4, 7, 8, 1, 2, 3, 4, 5, 6, 7, 8, 9, 1, 2, 3, 5, 6, 7, 8, 9, 1, 4, 1, 2, 3, 4, 5, 6, 7, 8, 9, 1, 9, 1, 1, 6, 1, 2, 3, 5, 6, 7, 8, 9, 1, 2, 3, 4, 5, 6, 7, 8, 9, 1, 1, 2, 3, 4, 5, 6, 7, 8, 4, 8, 6, 6], \"Freq\": [0.11679733544588089, 0.8814548850059509, 0.9969973564147949, 0.99447101354599, 0.996935248374939, 0.05289503186941147, 0.946233332157135, 0.9653317928314209, 0.03241785988211632, 0.34179556369781494, 0.21972571313381195, 0.43505802750587463, 0.00339237367734313, 0.062375690788030624, 0.13571320474147797, 0.26376283168792725, 0.031139342114329338, 0.5063781142234802, 0.000679051096085459, 0.1746826469898224, 0.3446061909198761, 0.4626476764678955, 0.016773903742432594, 0.0011702723568305373, 0.02945069782435894, 0.21793515980243683, 0.2507959306240082, 0.5015918612480164, 0.0518575944006443, 0.5136837363243103, 0.43345120549201965, 0.12659944593906403, 0.01327966246753931, 0.007082486990839243, 0.0911870151758194, 0.7533995509147644, 0.007082486990839243, 0.9979804754257202, 0.9952836632728577, 0.9962782859802246, 0.9928860664367676, 0.9983639121055603, 0.9996704459190369, 0.06762338429689407, 0.9320266246795654, 0.022633669897913933, 0.010926599614322186, 0.024194613099098206, 0.9420289397239685, 0.10393144935369492, 0.3581705689430237, 0.13459067046642303, 0.06519235670566559, 0.10064785182476044, 0.11101517081260681, 0.09312139451503754, 0.030290279537439346, 0.00265639484860003, 0.0003689437289722264, 0.9979405999183655, 0.15692155063152313, 0.8127216100692749, 0.0008606300689280033, 0.010040683671832085, 0.00028687668964266777, 0.018933860585093498, 0.00028687668964266777, 0.9938952922821045, 0.9940704107284546, 0.05434556305408478, 0.009488907642662525, 0.4067291021347046, 0.012939419597387314, 0.10351535677909851, 0.41233617067337036, 0.04102053865790367, 0.12427255511283875, 0.2913820445537567, 0.07447271049022675, 0.005751957185566425, 0.004692386370152235, 0.013320322148501873, 0.0534326545894146, 0.39158719778060913, 0.9970813393592834, 0.9974852800369263, 0.9996305108070374, 0.9987103343009949, 0.9978889226913452, 0.958778440952301, 0.03983055800199509, 0.998626708984375, 0.9977424740791321, 0.9953663945198059, 0.9954149127006531, 0.1506282240152359, 0.0031218284275382757, 0.8452350497245789, 0.37762412428855896, 0.05912107601761818, 0.15990842878818512, 0.04016479477286339, 0.09769053757190704, 0.18017850816249847, 0.03659876063466072, 0.04551384225487709, 0.003190661082044244, 0.9989854097366333, 0.017587782815098763, 0.981812059879303, 0.9969834685325623, 0.9983885288238525, 0.10968518257141113, 0.21295423805713654, 0.5936443209648132, 0.0436907559633255, 0.019553903490304947, 0.020164962857961655, 0.06802939623594284, 0.12650227546691895, 0.4352261424064636, 0.29787155985832214, 0.07224074006080627, 0.05166652426123619, 0.9466640949249268, 0.9977394938468933, 0.9980091452598572, 0.4396350085735321, 0.13499049842357635, 0.018811305984854698, 0.11956100165843964, 0.12259053438901901, 0.07799294590950012, 0.04410441219806671, 0.042272597551345825, 0.7010563015937805, 0.2958456873893738, 3.7110596167622134e-05, 0.0030059583950787783, 0.998532235622406, 0.9937486052513123, 0.9250553846359253, 0.07315099984407425, 0.998066782951355, 0.07619953155517578, 0.0005046326550655067, 0.2210291028022766, 0.08730144798755646, 0.6146425604820251, 0.9977360367774963, 0.5760653018951416, 0.0666300430893898, 0.028627481311559677, 0.32628631591796875, 0.0023437703493982553, 0.9984355568885803, 0.9959774017333984, 0.9983420968055725, 0.9922245144844055, 0.10361231863498688, 0.5270438194274902, 0.0015850941417738795, 0.07481644302606583, 0.10794491320848465, 0.0045967730693519115, 0.10472188889980316, 0.07159341871738434, 0.0034343707375228405, 0.0006340376567095518, 0.9980949759483337, 0.4120140075683594, 0.26704180240631104, 0.28459659218788147, 0.005929095204919577, 0.0009881826117634773, 0.02575087547302246, 0.003662088420242071, 0.996659517288208, 0.3762875497341156, 0.22841350734233856, 0.08729306608438492, 0.03578411042690277, 0.013104040175676346, 0.15624047815799713, 0.07670903205871582, 0.026006480678915977, 0.13821417093276978, 0.037996452301740646, 0.3786371350288391, 0.016094567254185677, 0.01858341693878174, 0.1767084002494812, 0.1430259495973587, 0.09109193086624146, 0.9941717982292175, 0.9842990040779114, 0.0141371488571167, 0.05276470631361008, 0.8631764650344849, 0.03382353112101555, 0.04870588332414627, 0.9975167512893677, 0.09629596024751663, 0.012267001904547215, 0.844889760017395, 0.04569458216428757, 0.0003066750359721482, 0.9988195300102234, 0.9984098672866821, 0.03078988753259182, 0.08467219024896622, 0.8650034070014954, 0.018281497061252594, 0.16083458065986633, 0.6960402131080627, 0.03240569308400154, 0.0637880489230156, 0.04690298065543175, 0.03726506978273392, 0.8531322479248047, 0.10624509304761887, 0.0007928737904876471, 0.0015857475809752941, 0.1911909133195877, 0.7457310557365417, 0.06228844076395035, 0.32990118861198425, 0.07368694990873337, 0.0027041081339120865, 0.5218928456306458, 0.03650546073913574, 0.00022534234449267387, 0.03470272198319435, 0.9972140789031982, 0.0017599547281861305, 0.7119016647338867, 0.1460762321949005, 0.005866515450179577, 0.0475187748670578, 0.022292759269475937, 0.06453166902065277, 0.13780705630779266, 0.024467049166560173, 0.11909696459770203, 0.17054973542690277, 0.0014392381999641657, 0.0485742911696434, 0.49761661887168884, 0.0003598095499910414, 0.9968605637550354, 0.3937239944934845, 0.6055645942687988, 0.20913448929786682, 0.0006535453139804304, 0.7123643755912781, 0.07777188718318939, 0.14861127734184265, 0.6226790547370911, 0.22849805653095245, 0.994931697845459, 0.9959763288497925, 0.9978097677230835, 0.6293104290962219, 0.15550637245178223, 0.00438966928049922, 0.12963533401489258, 0.02960691787302494, 0.0031755054369568825, 0.04837976023554802, 0.9994393587112427, 0.17797890305519104, 0.0410720519721508, 0.21799781918525696, 0.5427829623222351, 0.0018956331769004464, 0.01811382919549942, 0.9976317882537842, 0.9987146854400635, 0.997631847858429, 0.4921083152294159, 0.004985603038221598, 0.038418468087911606, 0.034605950117111206, 0.43022820353507996, 0.9960249662399292, 0.018537022173404694, 0.25355997681617737, 0.08076845109462738, 0.6468096375465393, 0.9993331432342529, 0.2939349114894867, 0.35124465823173523, 0.1683696210384369, 0.004093552939593792, 0.11995890736579895, 0.06238219141960144, 0.1511557549238205, 0.13920390605926514, 0.1279551088809967, 0.05835315212607384, 0.5230692028999329, 0.9972754120826721, 0.9978656768798828, 0.04574071615934372, 0.9522385597229004, 0.10561259835958481, 0.20766082406044006, 0.17113830149173737, 0.31327342987060547, 0.10785863548517227, 0.06347497552633286, 0.029735585674643517, 0.0012206726241856813, 0.09831457585096359, 0.35082003474235535, 0.1622721552848816, 0.3587627708911896, 0.0001847150269895792, 0.02964676171541214, 0.175240620970726, 0.1543271243572235, 0.669231653213501, 0.9961320161819458, 0.9922590851783752, 0.935881495475769, 0.06274659931659698, 0.9947707653045654, 0.9943033456802368, 0.998978316783905, 0.9934616088867188, 0.993411660194397, 0.09089498221874237, 0.9015297889709473, 0.007419998291879892, 0.9979260563850403, 0.9989681839942932, 0.9955416917800903, 0.08090776205062866, 0.08090776205062866, 0.8374478816986084, 0.9990357756614685, 0.04623059555888176, 0.09728805720806122, 0.8563923239707947, 0.21862582862377167, 0.1636446863412857, 0.13334010541439056, 0.471452534198761, 0.01255475077778101, 0.99753338098526, 0.10142501443624496, 0.8548679947853088, 0.0011145606404170394, 0.04123874381184578, 0.9984455704689026, 0.9973958134651184, 0.038711510598659515, 0.16850893199443817, 0.7924473881721497, 0.12109549343585968, 0.006078152451664209, 0.8729161620140076, 0.5417544841766357, 0.16520293056964874, 0.061937909573316574, 0.22000092267990112, 0.008370938710868359, 0.00014068803284317255, 0.0026379006449133158, 0.11058920621871948, 0.02857506275177002, 0.3900310695171356, 0.08572518825531006, 0.04490366950631142, 0.3399319052696228, 0.9752095341682434, 0.0245820302516222, 0.9539881348609924, 0.045491721481084824, 0.9991828799247742, 0.9995471835136414, 0.1036687046289444, 0.04488096386194229, 0.8508418798446655, 0.30787891149520874, 0.6914927363395691, 0.9964548349380493, 0.9986289143562317, 0.11718360334634781, 0.8060247898101807, 0.07626234740018845, 0.9948624968528748, 0.995520293712616, 0.019909750670194626, 0.2656313478946686, 0.2570626139640808, 0.05897318571805954, 0.021925928071141243, 0.36719629168510437, 0.009324819780886173, 0.07626121491193771, 0.8893483877182007, 0.02990097925066948, 0.004114813636988401, 0.9185147881507874, 0.08058754354715347, 0.2416703701019287, 0.018232528120279312, 0.12137144058942795, 0.583440899848938, 0.030745048075914383, 0.004111256450414658, 0.13098637759685516, 0.2634919285774231, 0.11444427818059921, 0.33219224214553833, 0.12642885744571686, 0.032409001141786575, 0.26769375801086426, 0.6113666296005249, 0.09040922671556473, 0.030332736670970917, 0.21177968382835388, 0.6098757982254028, 0.07473359256982803, 0.07473359256982803, 0.028775539249181747, 0.9975847005844116, 0.014055180363357067, 0.8794527053833008, 0.10541385412216187, 0.9593599438667297, 0.039057910442352295, 0.9969894886016846, 0.02895076759159565, 0.012118926271796227, 0.05722825974225998, 0.05588171258568764, 0.8456317186355591, 0.20458698272705078, 0.14471754431724548, 0.6506341695785522, 0.03936842456459999, 0.1066686362028122, 0.022873274981975555, 0.7988051176071167, 0.007697736844420433, 0.0002199353330070153, 0.008577478118240833, 0.015835344791412354, 0.9987514615058899, 0.2287425994873047, 0.05044776573777199, 0.5938554406166077, 0.09513664990663528, 0.014973080717027187, 0.017046276479959488, 0.04600658267736435, 0.1309736967086792, 0.20773422718048096, 0.4875868856906891, 0.07700921595096588, 0.01873421110212803, 0.00911842193454504, 0.0017407896229997277, 0.02105526439845562, 0.06236642599105835, 0.9354963898658752, 0.9993624091148376, 0.9977900981903076, 0.9959301352500916, 0.022731928154826164, 0.1191704124212265, 0.7587642073631287, 0.09919387102127075, 0.9972007274627686, 0.997336208820343, 0.9958281517028809, 0.997513473033905, 0.2939549386501312, 0.6455574631690979, 0.06002969667315483, 0.9989920258522034, 0.08178164064884186, 0.8857367634773254, 0.030494850128889084, 0.052488408982753754, 0.86013263463974, 0.08677519857883453, 0.9926490187644958, 0.998729407787323, 0.2554227411746979, 0.6236181259155273, 0.06722421944141388, 0.05360362306237221, 0.250125527381897, 0.03171234577894211, 0.06297803670167923, 0.5574226379394531, 0.09737029671669006, 0.9974053502082825, 0.1969447135925293, 0.80199134349823, 0.023412015289068222, 0.12807749211788177, 0.04177438095211983, 0.8005990982055664, 0.0064268275164067745, 0.10182106494903564, 0.13841067254543304, 0.23003463447093964, 0.5294995307922363, 0.0412873812019825, 0.0789451003074646, 0.12295473366975784, 0.6787464022636414, 0.015879761427640915, 0.011796394363045692, 0.04627816379070282, 0.00408336753025651, 0.04892062023282051, 0.9500068426132202, 0.9984023571014404, 0.9964873194694519, 0.32090798020362854, 0.6771702766418457, 0.0016317355912178755, 0.9954338669776917, 0.049764491617679596, 0.29820117354393005, 0.012344679795205593, 0.19211408495903015, 0.06828150898218155, 0.0003857712436001748, 0.35452377796173096, 0.024303589016199112, 0.194118931889534, 0.7687323093414307, 0.016020819544792175, 0.020827066153287888, 0.02026480622589588, 0.15222729742527008, 0.11700513958930969, 0.015439853072166443, 0.6947934031486511, 0.2714276611804962, 0.0009960648603737354, 0.7276253700256348, 0.9987496137619019, 0.009546649642288685, 0.20593488216400146, 0.004091421142220497, 0.7800976634025574, 0.435143381357193, 0.13750509917736053, 0.08253561705350876, 0.2874637842178345, 0.008383795619010925, 0.02859715186059475, 0.0041511994786560535, 0.009740396402776241, 0.006511685438454151, 0.01938936673104763, 0.10525655746459961, 0.7269033789634705, 0.05302397906780243, 0.07676605880260468, 0.01820226199924946, 0.5640196204185486, 0.3041742742061615, 0.0026918076910078526, 0.09925325214862823, 0.0004009075346402824, 0.0007445425726473331, 0.016093574464321136, 0.009679053910076618, 0.0029208979103714228, 0.11489564925432205, 0.04347402974963188, 0.10506223887205124, 0.012421151623129845, 0.637877881526947, 0.08643051236867905, 0.9958460927009583, 0.7449319362640381, 0.04656871780753136, 0.14540159702301025, 0.06298502534627914, 0.9942680597305298, 0.3195623755455017, 0.15248394012451172, 0.23853453993797302, 0.2308582216501236, 0.011940943077206612, 0.02710404433310032, 0.005496624391525984, 0.014120638370513916, 0.02046642079949379, 0.1510903537273407, 0.7608693242073059, 0.014446885325014591, 0.01805860735476017, 0.03551525995135307, 0.11374980956315994, 0.15191586315631866, 0.16900327801704407, 0.44901242852211, 0.11636905372142792, 0.8804717659950256, 0.05981868505477905, 0.039055176079273224, 0.01433670986443758, 0.005438062362372875, 0.9964879751205444, 0.9982108473777771, 0.057509951293468475, 0.030045263469219208, 0.06027485430240631, 0.8385024666786194, 0.0038708620704710484, 0.008110377937555313, 0.0014746141387149692, 0.0767202228307724, 0.654412031173706, 0.014599744230508804, 0.006297928746789694, 0.07070856541395187, 0.1772008091211319, 0.997796356678009, 0.28949013352394104, 0.01292635127902031, 0.009018384851515293, 0.0036073538940399885, 0.10611632466316223, 0.48368602991104126, 0.07425136864185333, 0.020441671833395958, 0.9266154170036316, 0.07296184450387955, 0.03994088992476463, 0.30735909938812256, 0.20439940690994263, 0.4015030562877655, 0.03354021534323692, 0.01240447536110878, 0.0004897614708170295, 0.00036309901042841375, 0.007444241549819708, 0.39110898971557617, 0.0859428122639656, 0.4024185240268707, 0.0020042189862579107, 0.06695045530796051, 0.03316504880785942, 0.010975484736263752, 0.06830337643623352, 0.5980969667434692, 0.18226030468940735, 0.13483723998069763, 0.016633465886116028, 0.35344070196151733, 0.34898099303245544, 0.037112437188625336, 0.05599828436970711, 0.047427911311388016, 0.07430243492126465, 0.026447944343090057, 0.030830081552267075, 0.02547844499349594, 0.12352130562067032, 0.7573806643486023, 0.09751681983470917, 0.02080358751118183, 0.09897909313440323, 0.03059353679418564, 0.06118707358837128, 0.808029294013977, 0.9986306428909302, 0.09102980047464371, 0.9077337980270386, 0.04648438096046448, 0.13218995928764343, 0.8207398653030396, 0.9971487522125244, 0.9975242018699646, 0.910531759262085, 0.08738850057125092, 0.10677323490381241, 0.07397361844778061, 0.03733573853969574, 0.024076318368315697, 0.7578806281089783, 0.4073980152606964, 0.03460345417261124, 0.015225520357489586, 0.46184077858924866, 0.028605524450540543, 0.05213587358593941, 0.9926790595054626, 0.998508870601654, 0.18503345549106598, 0.2600504755973816, 0.017371011897921562, 0.18168792128562927, 0.06382238864898682, 0.29209035634994507, 0.999218225479126, 0.9988440275192261, 0.23396539688110352, 0.02843436785042286, 0.009735680185258389, 0.7278580069541931, 0.9984914064407349, 0.2058233767747879, 0.20177273452281952, 0.44430509209632874, 0.12987379729747772, 0.0007594958879053593, 0.01746840588748455, 0.01607058383524418, 0.04225968196988106, 0.8785251975059509, 0.06309191882610321, 0.9993274807929993, 0.9942957758903503, 0.061428721994161606, 0.15033870935440063, 0.2348031997680664, 0.14589321613311768, 0.06668249517679214, 0.02141922526061535, 0.3196718394756317, 0.0007020386983640492, 0.9990010857582092, 0.9979667663574219, 0.6101447939872742, 0.12291264533996582, 0.038195669651031494, 0.03348511457443237, 0.0346171073615551, 0.04133604094386101, 0.06375682353973389, 0.05429919809103012, 0.0012415418168529868, 0.37069207429885864, 0.012385373935103416, 0.007170479744672775, 0.015644682571291924, 0.21750454604625702, 0.13526131212711334, 0.1705704927444458, 0.06866277754306793, 0.002172872656956315, 0.03255699202418327, 0.04847374185919762, 0.05136769637465477, 0.8320119976997375, 0.03545094653964043, 0.1560988426208496, 0.048564087599515915, 0.7909008264541626, 0.4364909529685974, 0.014221509918570518, 0.0063206711784005165, 0.45314347743988037, 0.07694201171398163, 0.012884444557130337, 0.6053151488304138, 0.13488075137138367, 0.06730302423238754, 0.002128973137587309, 0.08083230257034302, 0.03578048571944237, 0.027470622211694717, 0.04470843821763992, 0.0014422077219933271, 0.9986122846603394, 0.6820375919342041, 0.08772161602973938, 0.05123135820031166, 0.059206053614616394, 0.05429235100746155, 0.03842351958155632, 0.018365958705544472, 0.008619111962616444, 8.055245416471735e-05, 0.9939352869987488, 0.9984982013702393, 0.37232691049575806, 0.34080901741981506, 0.19718894362449646, 0.013530763797461987, 0.009559276513755322, 0.06384396553039551, 0.0024937244597822428, 0.0002539904380682856, 0.9996287822723389, 0.9987865686416626, 0.6911733746528625, 0.19441881775856018, 0.019544748589396477, 0.0027119508013129234, 0.0016832798719406128, 0.0530233159661293, 0.031608253717422485, 0.005891479551792145, 0.9990930557250977, 0.09832792729139328, 0.6800618767738342, 0.00021956366254016757, 0.012771287001669407, 0.04899929091334343, 0.012332159094512463, 0.09038703888654709, 0.05602532997727394, 0.0009148485842160881, 0.9976814389228821, 0.9976235032081604, 0.14823651313781738, 0.009300009347498417, 0.2567366063594818, 0.39961859583854675, 0.07411825656890869, 0.08849100023508072, 0.023390932008624077, 0.7739497423171997, 0.08409059047698975, 0.13786639273166656, 0.00369049608707428, 0.0002636068675201386, 0.006932885851711035, 0.08874093741178513, 0.002773154294118285, 0.8818631172180176, 0.019412081688642502, 0.27718833088874817, 0.06634006649255753, 0.6556866765022278, 0.9967054724693298, 0.7332566976547241, 0.0008755304152145982, 0.024952616542577744, 0.1869257390499115, 0.0538451187312603, 0.7547861337661743, 0.003854637034237385, 0.228387251496315, 0.012768485583364964, 0.9954481720924377, 0.9983412027359009, 0.996720016002655, 0.13166947662830353, 0.09307669848203659, 0.6963725686073303, 0.07832062989473343, 0.9966965317726135, 0.9930341839790344, 0.9966511130332947, 0.9988994598388672, 0.9957252740859985, 0.8059601187705994, 0.1933726966381073, 0.10199138522148132, 0.022736933082342148, 0.17539919912815094, 0.1770232617855072, 0.4778003990650177, 0.03053245320916176, 0.013966972939670086, 0.9936005473136902, 0.8714281320571899, 0.04770591855049133, 0.02941865101456642, 0.051681410521268845, 0.9972872138023376, 0.07685954868793488, 0.041714370250701904, 0.04499896615743637, 0.020364494994282722, 0.8155652284622192, 0.997550368309021, 0.12772487103939056, 0.20183682441711426, 0.662277102470398, 0.007884250953793526, 0.041058510541915894, 0.1961117833852768, 0.3539702892303467, 0.04615894705057144, 0.0033152836840599775, 0.35932573676109314, 0.40554165840148926, 0.5929298400878906, 0.9971307516098022, 0.99691241979599, 0.9957441091537476, 0.9988897442817688, 0.9982532262802124, 0.2988387942314148, 0.023358367383480072, 0.11011802405118942, 0.43750596046447754, 0.048755958676338196, 0.0009269193978980184, 0.05802515149116516, 0.022616833448410034, 0.9962329864501953, 0.9983011484146118, 0.9981640577316284, 0.8649885654449463, 0.1347334235906601, 0.078202985227108, 0.9217485785484314, 0.24682573974132538, 0.2966221868991852, 0.4085662066936493, 0.048032015562057495, 0.059288542717695236, 0.21667823195457458, 0.20608371496200562, 0.3663257658481598, 0.07069802284240723, 0.05103704333305359, 0.02017032913863659, 0.008047757670283318, 0.001731795840896666, 0.010261447168886662, 0.06623297929763794, 0.698478102684021, 0.22481898963451385, 0.024385489523410797, 0.9215148687362671, 0.05262131989002228, 0.0051541440188884735, 0.2204567939043045, 0.09558594226837158, 0.0011713963467627764, 0.6773013472557068, 0.06434167921543121, 0.9352062940597534, 0.9942037463188171, 0.9967215061187744, 0.9439413547515869, 0.0518016591668129, 0.9995030164718628, 0.9992101788520813, 0.0933319628238678, 0.050908345729112625, 0.05515070632100105, 0.18454274535179138, 0.6151424646377563, 0.9945603609085083, 0.996817946434021, 0.12042981386184692, 0.26315754652023315, 0.19047895073890686, 0.39052918553352356, 0.010412708856165409, 0.01903737708926201, 0.0059951962903141975, 0.998940646648407, 0.17920051515102386, 0.7047457098960876, 0.11563090980052948, 0.11315499991178513, 0.018686147406697273, 0.8678677082061768, 0.10774869471788406, 0.8920419216156006, 0.9942160844802856, 0.029890133067965508, 0.011469469405710697, 0.48866891860961914, 0.4699006974697113, 0.9981402158737183, 0.9967590570449829, 0.06029713898897171, 0.04249858856201172, 0.21321940422058105, 0.6763450503349304, 0.007627951446920633, 0.4653371274471283, 0.5345680713653564, 0.31279975175857544, 0.036700330674648285, 0.1784200668334961, 0.4714581072330475, 0.0659828782081604, 0.026805544272065163, 0.8742731213569641, 0.03196045756340027, 0.996853768825531, 0.9962781667709351, 0.9570792317390442, 0.04230184480547905, 0.9956884384155273, 0.2323988527059555, 0.023346003144979477, 0.33639466762542725, 0.223909392952919, 0.18358448147773743, 0.10001043975353241, 0.03404288738965988, 0.2160588651895523, 0.04070016369223595, 0.5251682996749878, 0.062487613409757614, 0.021484844386577606, 0.09056498855352402, 0.909229576587677, 0.996626615524292, 0.9941474199295044, 0.9986333847045898, 0.9922627210617065, 0.006336288060992956, 0.9975349307060242, 0.9988023638725281, 0.8770179152488708, 0.12176234275102615, 0.9980975985527039, 0.96346116065979, 0.03190268576145172, 0.5657016634941101, 0.16330784559249878, 0.27069389820098877, 0.40181460976600647, 0.001369511242955923, 0.40318411588668823, 0.19337499141693115, 0.33396291732788086, 0.01970840059220791, 0.06803447753190994, 0.3752695620059967, 0.20275355875492096, 0.07565456628799438, 0.7711414098739624, 0.1530119627714157, 0.008813083171844482, 0.24756750464439392, 0.2018997073173523, 0.23234491050243378, 0.3092590868473053, 0.9948389530181885, 0.714026689529419, 0.18328846991062164, 0.07401394844055176, 0.003659116569906473, 0.012197054922580719, 0.0006652939482592046, 0.001552352448925376, 0.004546175245195627, 0.006043086294084787, 0.9944640398025513, 0.9984617233276367, 0.9972045421600342, 0.02666575461626053, 0.043376293033361435, 0.23110321164131165, 0.6822877526283264, 0.0163549967110157, 0.03701090067625046, 0.06971821188926697, 0.8624401092529297, 0.030125152319669724, 0.09700869023799896, 0.1381542980670929, 0.04620968550443649, 0.29450762271881104, 0.16806399822235107, 0.09669218957424164, 0.041303861886262894, 0.11805625259876251, 0.49932360649108887, 0.015511532314121723, 0.48504313826560974, 0.044620875269174576, 0.19707553088665009, 0.7580236792564392, 0.9943555593490601, 0.05229590833187103, 0.008871627040207386, 0.023813314735889435, 0.05603133141994476, 0.8446723222732544, 0.01400783285498619, 0.9939330220222473, 0.9958699941635132, 0.9971439242362976, 0.997755229473114, 0.19558867812156677, 0.17589157819747925, 0.42187485098838806, 0.20653149485588074, 0.00011518767132656649, 0.5506001710891724, 0.20881018042564392, 0.038758110255002975, 0.10850908607244492, 0.0016858757007867098, 0.03133344650268555, 0.023823637515306473, 0.03582911565899849, 0.0005789875867776573, 6.811619095969945e-05, 0.2342475801706314, 0.23284924030303955, 0.06266627460718155, 0.1848396211862564, 0.10762026906013489, 0.08975260704755783, 0.029572267085313797, 0.058419469743967056, 0.08149733394384384, 0.07550488412380219, 0.5975672006607056, 0.23442469537258148, 0.0009587921667844057, 0.009827620349824429, 0.993974506855011, 0.9968830347061157, 0.17297159135341644, 0.487926721572876, 0.014036395587027073, 0.2768948972225189, 0.043890729546546936, 0.004210918676108122, 0.22110967338085175, 0.7499699592590332, 0.0017528512980788946, 0.027043990790843964, 0.2792495787143707, 0.004428627900779247, 0.5794121623039246, 0.13679538667201996, 0.9956603646278381, 0.9979059100151062, 0.9903062582015991, 0.9980461001396179, 0.39225175976753235, 0.3025929927825928, 0.037533584982156754, 0.19352178275585175, 0.007790801115334034, 0.008522533811628819, 0.028623661026358604, 0.00021521550661418587, 0.028968006372451782, 0.9973495006561279, 0.48596319556236267, 0.14972509443759918, 0.10627149045467377, 0.19710217416286469, 0.024848712608218193, 0.0056953756138682365, 0.008648533374071121, 0.02151586301624775, 0.00021093983377795666, 0.14271558821201324, 0.006299000699073076, 0.28888946771621704, 0.00030877452809363604, 0.3273627758026123, 0.11010900139808655, 0.11035601794719696, 0.012968530878424644, 0.00104983348865062, 0.996804416179657, 0.18930186331272125, 0.4019780457019806, 0.2320377379655838, 0.12705396115779877, 0.0023073358461260796, 0.010834447108209133, 0.006520731840282679, 0.021267618983983994, 0.00867758970707655, 0.9975733757019043, 0.9953596591949463, 0.9932900071144104, 0.9413841962814331, 0.05799196660518646, 0.9981452226638794, 0.9988942742347717, 0.9968229532241821, 0.9001555442810059, 0.09915876388549805, 0.999392569065094, 0.014109564945101738, 0.12776994705200195, 0.0634930431842804, 0.14501497149467468, 0.03605777770280838, 0.6121983528137207, 0.9968374967575073, 0.14452910423278809, 0.2749282717704773, 0.3472937345504761, 0.14614395797252655, 0.03159051015973091, 0.04521580785512924, 0.0036334132310003042, 0.006762185599654913, 0.7637391686439514, 0.17270556092262268, 0.015687301754951477, 0.047788169234991074, 0.8160517811775208, 0.07901983708143234, 0.026895932853221893, 0.032316818833351135, 0.006463363766670227, 0.034401774406433105, 0.005003894679248333, 0.014744811691343784, 0.039697568863630295, 0.8937624096870422, 0.05217394977807999, 0.21837837994098663, 0.7803387641906738, 0.9959873557090759, 0.11134155839681625, 0.47075071930885315, 0.16106010973453522, 0.01593094691634178, 0.12237067520618439, 0.02941097691655159, 0.08893319219350815, 0.9964398741722107, 0.17045293748378754, 0.12105273455381393, 0.7085145115852356, 0.06179986521601677, 0.007889344356954098, 0.9296277165412903, 0.9973886013031006, 0.9907518625259399, 0.9972589015960693, 0.9956620931625366, 0.12362559884786606, 0.8755508661270142, 0.08049619942903519, 0.9149734377861023, 0.9982520341873169, 0.998843789100647, 0.7050127983093262, 0.032334618270397186, 0.10143325477838516, 0.09316504001617432, 0.06717923283576965, 0.0008858799701556563, 0.9997375011444092, 0.9994960427284241, 0.1007286086678505, 0.06650044023990631, 0.8312554955482483, 0.996764600276947, 0.9981929063796997, 0.11809191107749939, 0.02246425487101078, 0.03812740743160248, 0.8212849497795105, 0.5626783967018127, 0.3465821146965027, 0.06664527207612991, 0.015581727027893066, 0.008458651602268219, 4.4519219954963773e-05, 0.0479544997215271, 0.10290776938199997, 0.029809555038809776, 0.03499382361769676, 0.34423553943634033, 0.20374181866645813, 0.12390406429767609, 0.11223945021629333, 0.9449339509010315, 0.053343046456575394, 0.0009525544010102749, 0.2673012316226959, 0.2890293300151825, 0.10502499341964722, 0.27825304865837097, 0.01695423573255539, 0.025448903441429138, 0.009968949481844902, 0.007195896934717894, 0.0008775484166108072, 0.9933841228485107, 0.9990421533584595, 0.10151185840368271, 0.6855375170707703, 0.1826326847076416, 0.0014406704576686025, 0.019836924970149994, 0.008976485580205917, 0.996118426322937, 0.9991838932037354, 0.8102388978004456, 0.18947680294513702, 0.08120116591453552, 0.8228384852409363, 0.043908778578042984, 0.05112665891647339, 0.07962772995233536, 0.9198375940322876, 0.055192478001117706, 0.9440818428993225, 0.4132857620716095, 0.24144288897514343, 0.14200688898563385, 0.09527768194675446, 0.07568155974149704, 0.0042103067971765995, 0.022454967722296715, 0.005301867611706257, 0.0003638536436483264, 0.1081949770450592, 0.25128641724586487, 0.1453222781419754, 0.008046901784837246, 0.15432524681091309, 0.08851592242717743, 0.07951295375823975, 0.12078320235013962, 0.043979108333587646, 0.32290226221084595, 0.12207280099391937, 0.0003150265838485211, 0.21847094595432281, 0.2250864952802658, 0.00756063824519515, 0.09876083582639694, 0.00472539896145463, 0.9971326589584351, 0.9988254904747009, 0.9960865378379822, 0.15745951235294342, 0.8418423533439636, 0.993982195854187, 0.9986475110054016, 0.11791101098060608, 0.1443808376789093, 0.021657124161720276, 0.026469819247722626, 0.6894184947013855, 0.99420166015625, 0.9926597476005554, 0.5288523435592651, 0.03825605660676956, 0.07175980508327484, 0.3462054133415222, 0.005385945551097393, 0.008712559007108212, 0.0007920508505776525, 0.33802005648612976, 0.028727974742650986, 0.014177442528307438, 0.39734145998954773, 0.22161580622196198, 0.9944639801979065, 0.8904798626899719, 0.02229478396475315, 0.04537644237279892, 0.020721035078167915, 0.020721035078167915, 0.11039826273918152, 0.8875154256820679, 0.8100019097328186, 0.06861653923988342, 0.12089581042528152, 0.0003267454158049077, 0.3141886293888092, 0.18935398757457733, 0.0036892711650580168, 0.001201158040203154, 0.26133766770362854, 0.10647407919168472, 0.05756978690624237, 0.06589210033416748, 0.00017159400158561766, 0.9966825246810913, 0.32288727164268494, 0.25206995010375977, 0.09185752272605896, 0.1127559170126915, 0.06042613461613655, 0.06995353102684021, 0.06116099655628204, 0.021878207102417946, 0.007000510580837727, 0.05629207566380501, 0.4941432476043701, 0.214835524559021, 0.22925835847854614, 0.005489284638315439, 0.9922927021980286, 0.9969775080680847, 0.9970890879631042, 0.9942744970321655, 0.9959941506385803, 0.993554413318634, 0.9969283938407898, 0.5682575106620789, 0.13356898725032806, 0.2954620122909546, 0.0024661121424287558, 0.00014506542356684804, 7.253271178342402e-05, 0.06574033945798874, 0.65224289894104, 0.024007564410567284, 0.1429235339164734, 0.05115630477666855, 0.06372100859880447, 0.33121445775032043, 0.00036423877463676035, 0.17859840393066406, 0.4053977429866791, 0.06046363711357117, 0.02391834557056427, 0.007036685012280941, 0.1805412322282791, 0.4362744688987732, 0.36751601099967957, 0.0072377328760921955, 0.0012062888126820326, 0.04900186136364937, 0.23881959915161133, 0.660235583782196, 0.011863607913255692, 0.017021698877215385, 0.02217978984117508, 0.001547427149489522, 0.9970447421073914, 0.9966959357261658, 0.25539886951446533, 0.14354535937309265, 0.6012126803398132, 0.16268141567707062, 0.2960924804210663, 0.01155407726764679, 0.09982722997665405, 0.315041184425354, 0.06038931384682655, 0.05145416036248207, 0.0026189242489635944, 0.00046216309419833124, 0.0865166038274765, 0.21865569055080414, 0.00038338228478096426, 0.04843395948410034, 0.40906888246536255, 0.008434410206973553, 0.18223437666893005, 0.03629352152347565, 0.009967938996851444, 0.0016233670758083463, 0.06508225947618484, 0.09297465533018112, 0.4830254912376404, 0.0150530394166708, 0.26593703031539917, 0.06906688958406448, 0.007378940936177969, 0.9342346787452698, 0.014521782286465168, 0.04840594157576561, 0.7927698493003845, 0.20492149889469147, 0.00215329066850245, 0.9984559416770935, 0.9976950287818909, 0.26255369186401367, 0.12590263783931732, 0.0033914924133569, 0.5269335508346558, 0.05238551273941994, 0.028853774070739746, 0.4009142518043518, 0.03807695582509041, 0.3439734876155853, 0.20086468756198883, 0.0006986597436480224, 0.005123504903167486, 0.006520824506878853, 0.0033768555149435997, 0.00046577316243201494, 0.9927721619606018, 0.9925205707550049, 0.08051756769418716, 0.14686162769794464, 0.053979940712451935, 0.7183252573013306, 0.9799108505249023, 0.019610101357102394, 0.29539182782173157, 0.03940945863723755, 0.597232460975647, 0.0472913533449173, 0.004478347487747669, 0.01612205244600773, 0.1884971559047699, 0.8110791444778442, 0.9968235492706299, 0.9113917350769043, 0.08688724040985107, 0.9991782307624817, 0.10381332039833069, 0.07477229833602905, 0.42059415578842163, 0.008011317811906338, 0.10781898349523544, 0.004339463543146849, 0.28072991967201233, 0.27023637294769287, 0.6429762244224548, 0.07601930946111679, 0.01029939018189907, 0.9983675479888916, 0.4053059220314026, 0.09256517142057419, 0.2674104869365692, 0.01085640862584114, 0.15075170993804932, 0.05113939940929413, 0.021998513489961624, 0.9938672780990601, 0.20798702538013458, 0.00019510978017933667, 0.6549835205078125, 0.028290918096899986, 0.012096806429326534, 0.08643363416194916, 0.009755488485097885, 0.997918426990509, 0.9947658181190491, 0.9983745217323303, 0.040203820914030075, 0.35230061411857605, 0.06916496902704239, 0.3270270824432373, 0.0818467065691948, 0.10424212366342545, 0.022935066372156143, 0.0022485358640551567, 0.9682042002677917, 0.03123239427804947, 0.9950429201126099, 0.9972980618476868, 0.9943848252296448, 0.05282637104392052, 0.12111114710569382, 0.29066675901412964, 0.4033792316913605, 0.025317708030343056, 0.09189841151237488, 0.003895031986758113, 0.009859299287199974, 0.0009737579966895282, 0.30173802375793457, 0.25224247574806213, 0.26568305492401123, 0.08128365874290466, 0.05546916276216507, 0.0016356291016563773, 0.03840172663331032, 0.0032712582033127546, 0.0003555715666152537, 0.15055742859840393, 0.05313791334629059, 0.6966971158981323, 0.09926457703113556, 0.5421631336212158, 0.3082057535648346, 5.764626621385105e-05, 0.13339345157146454, 0.0005764626548625529, 0.012970409356057644, 0.0007782245520502329, 0.0018446805188432336, 0.30501604080200195, 0.6361342072486877, 0.05599328130483627, 0.0027365137357264757, 0.994343101978302, 0.055301252752542496, 0.9419052004814148, 0.1130678579211235, 0.8850483894348145, 0.9953073859214783, 0.8864896893501282, 0.10005738586187363, 0.0046755787916481495, 0.008416041731834412, 0.047054897993803024, 0.9505089521408081, 0.9986580610275269, 0.9979732632637024, 0.05042409524321556, 0.03638194128870964, 0.6047700047492981, 0.06287054717540741, 0.24541853368282318, 0.9940376281738281, 0.19835242629051208, 0.12200504541397095, 0.445162296295166, 0.17832335829734802, 0.0010768318315967917, 0.0550261065363884, 0.9957553148269653, 0.9967104196548462, 0.9989778995513916, 0.9950859546661377, 0.9989274144172668, 0.5052443742752075, 0.49470120668411255, 0.6173924207687378, 0.25399428606033325, 0.02450021728873253, 0.10321368277072906, 0.0008470820030197501, 6.516015127999708e-05, 0.9972882270812988, 0.9963622093200684, 0.4292311370372772, 0.5704928040504456, 0.3171272873878479, 0.08689680695533752, 0.08149262517690659, 0.2287566214799881, 0.10249524563550949, 0.07166683673858643, 0.08609846234321594, 0.018300529569387436, 0.0005527005414478481, 0.006570995785295963, 0.12733906507492065, 0.2099391371011734, 0.03890915587544441, 0.4635036885738373, 0.007270903326570988, 0.07735978811979294, 0.06550363451242447, 6.550363468704745e-05, 0.010153062641620636, 0.023885101079940796, 0.12268256396055222, 0.06676971167325974, 0.7860369682312012, 0.11527761071920395, 0.1062498465180397, 0.7784711122512817, 0.9985204935073853, 0.09718716889619827, 0.07506871223449707, 0.7748163342475891, 0.05071606487035751, 0.0016756408149376512, 0.0005585469771176577, 0.9975051283836365, 0.04814149811863899, 0.0005800180369988084, 0.9512296319007874, 0.02827749028801918, 0.9695139527320862, 0.5138802528381348, 0.3845807909965515, 0.06297610700130463, 0.01190799381583929, 0.013329843059182167, 0.0021031531505286694, 0.002962187398225069, 0.00568739976733923, 0.0025771029759198427, 0.13802321255207062, 0.060606636106967926, 0.22116424143314362, 0.3754521906375885, 0.12194018810987473, 0.0647864043712616, 0.00854126550257206, 0.009449910372495651, 0.5056427717208862, 0.39779242873191833, 0.007595826871693134, 0.08599933236837387, 0.0029654940590262413, 0.9961162805557251, 0.5188273787498474, 0.1714937686920166, 0.06613081693649292, 0.24349766969680786, 0.7204091548919678, 0.09989280253648758, 0.05511327087879181, 0.12400485575199127, 0.9972776174545288, 0.9942455887794495, 0.9958855509757996, 0.9982296228408813, 0.9965344667434692, 0.9971421957015991, 0.9983885884284973, 0.255646675825119, 0.7439604997634888, 0.1766059249639511, 0.13639283180236816, 0.0013029277324676514, 0.00023689593945164233, 0.6854584217071533, 5.9223984862910584e-05, 0.12502636015415192, 0.2497711330652237, 0.25286865234375, 0.00014079545508138835, 0.026610340923070908, 0.0016895454609766603, 0.04054909199476242, 0.29778239130973816, 0.005491022951900959, 0.9947715401649475, 0.1645185500383377, 0.062107402831315994, 0.06012525036931038, 0.062107402831315994, 0.06144668534398079, 0.5886988639831543, 0.9963170886039734, 0.21745306253433228, 0.04071461409330368, 0.6643884778022766, 0.07541457563638687, 0.001387998228892684, 0.00046266609570011497, 0.9962052702903748, 0.9972444176673889, 0.9981836080551147, 0.9993757605552673, 0.996732771396637, 0.9933797717094421, 0.001171438372693956, 0.005271472968161106, 0.9993010759353638, 0.04295855388045311, 0.05925317853689194, 0.8769470453262329, 0.020738612860441208, 0.06058533489704132, 0.9386687874794006, 0.7629271745681763, 0.06200259551405907, 0.10776641219854355, 0.05565470829606056, 0.011662392877042294, 0.5976821780204773, 0.14634959399700165, 0.13644325733184814, 0.10870551317930222, 0.0011227179784327745, 0.007000476587563753, 0.002707731444388628, 0.11869234591722488, 0.0007674074149690568, 0.002813827246427536, 0.8456829786300659, 0.019952593371272087, 0.01176691334694624, 0.5795803666114807, 0.07929112762212753, 0.21899454295635223, 0.12157972902059555, 0.7380120158195496, 0.10193289816379547, 0.1597987413406372, 0.8366121649742126, 0.0723864734172821, 0.09081212431192398, 0.9963385462760925, 0.1720912754535675, 0.058786001056432724, 0.013274258002638817, 0.016118742525577545, 0.6641870141029358, 0.0018963225884363055, 0.07395658642053604, 0.1498546153306961, 0.307047039270401, 0.17512932419776917, 0.3680324852466583, 0.9979323744773865, 0.9987378120422363, 0.08609990775585175, 0.13672517240047455, 0.14965863525867462, 0.13672517240047455, 0.06466731429100037, 0.17164553701877594, 0.05487483739852905, 0.19972962141036987, 0.023608656600117683, 0.29589515924453735, 0.6791423559188843, 0.2811853885650635, 0.3840196132659912, 0.05217417702078819, 0.05267888680100441, 0.0438464991748333, 0.0779142826795578, 0.04750562831759453, 0.04245854914188385, 0.018169483169913292, 0.9943575859069824, 0.9973639249801636, 0.1593286544084549, 0.4345642030239105, 0.15574628114700317, 0.16331547498703003, 0.08103660494089127, 0.005344660021364689, 0.0005489110480993986, 0.00017334031872451305, 0.995967447757721, 0.9973533749580383, 0.946832537651062, 0.034789077937603, 0.018106594681739807, 0.031049778684973717, 0.0855230763554573, 0.7909522652626038, 0.09205987304449081, 0.9990724325180054, 0.9636043310165405, 0.03488912060856819, 0.9986900687217712, 0.7779251337051392, 0.08039523661136627, 0.11220630258321762, 0.029497534036636353, 0.998710036277771, 0.9992648363113403, 0.020356973633170128, 0.9785887598991394, 0.06517314165830612, 0.3635975420475006, 0.060456667095422745, 0.011148037388920784, 0.0030013946816325188, 0.013720661401748657, 0.03258657082915306, 0.4506379961967468, 0.9677602648735046, 0.0319041833281517, 0.6880245804786682, 0.1269722282886505, 0.0068817585706710815, 0.152684286236763, 0.0013612270122393966, 0.01799844577908516, 0.0011343557853251696, 0.004839918110519648, 0.6389597654342651, 0.3240983188152313, 0.029138851910829544, 0.005856337957084179, 0.001952112652361393, 0.6606651544570923, 0.32698050141334534, 0.0007110479637049139, 0.011376767419278622, 0.0002031565672950819, 0.4013114273548126, 0.2858361303806305, 0.07205499708652496, 0.0974828377366066, 0.04503792151808739, 0.021710151806473732, 0.03819851577281952, 0.0168005358427763, 0.021539876237511635, 0.8582227826118469, 0.14053288102149963, 0.9981868863105774, 0.9968607425689697, 0.9979361295700073, 0.9954488277435303, 0.11597476154565811, 0.022152481600642204, 0.6758678555488586, 0.1854727417230606, 0.9965473413467407, 0.2983705401420593, 0.36478203535079956, 0.017599737271666527, 0.0037124445661902428, 0.022412165999412537, 0.29314562678337097, 0.17253871262073517, 0.12996357679367065, 0.1719418615102768, 0.14020946621894836, 0.13613100349903107, 0.07137303054332733, 0.07938073575496674, 0.07077618688344955, 0.027604203671216965, 0.9908509254455566, 0.9943872690200806, 0.9902171492576599, 0.006320534739643335, 0.9952418208122253, 0.12563757598400116, 0.8736998438835144, 0.08316124230623245, 0.06045690178871155, 0.08976133912801743, 0.583976686000824, 0.07656114548444748, 0.08342524617910385, 0.0010560157243162394, 0.02138431929051876, 0.2058388888835907, 0.7930075526237488, 0.9968575835227966, 0.9976832866668701, 0.03481078892946243, 0.9637091755867004, 0.20176510512828827, 0.06917660683393478, 0.7277956008911133, 0.994836688041687, 0.21808643639087677, 0.15389984846115112, 0.5872055888175964, 0.0010173667687922716, 0.0004624394350685179, 0.0013873183634132147, 0.0001849757827585563, 0.03773505985736847, 0.9989754557609558, 0.9987333416938782, 0.10467066615819931, 0.0013505893293768167, 0.0648282840847969, 0.15261659026145935, 0.03916708752512932, 0.36668500304222107, 0.009454124607145786, 0.2606637179851532, 0.9899490475654602, 0.6497169137001038, 0.09032105654478073, 0.0739666223526001, 0.1194988414645195, 0.0007433831924572587, 0.020071346312761307, 0.04571806639432907, 0.1372944414615631, 0.2534961402416229, 0.6044023036956787, 0.004602048080414534, 0.09341050684452057, 0.6163974404335022, 0.28974035382270813, 0.0005593443638645113, 0.06321188807487488, 0.024221379309892654, 0.5219411849975586, 0.06439342349767685, 0.20499557256698608, 0.12110689282417297, 0.974011242389679, 0.02470318414270878, 0.9971123337745667, 0.9977712035179138, 0.05803801491856575, 0.9406995177268982, 0.9988402724266052, 0.720255434513092, 0.18332749605178833, 0.05569324269890785, 0.010237038135528564, 0.014087666757404804, 0.016341693699359894, 0.2779710292816162, 0.11234882473945618, 0.43752747774124146, 0.016878696158528328, 0.0780639722943306, 0.07700905203819275, 0.026802536100149155, 0.9731258153915405, 0.992423951625824, 0.9992803335189819, 0.1266285479068756, 0.14283698797225952, 0.7293804287910461, 0.6071012616157532, 0.3367273509502411, 0.04474176838994026, 0.00035429003764875233, 0.011084216646850109, 0.6143462061882019, 0.2922455668449402, 0.09161636978387833, 0.0017472441541031003, 0.11695767939090729, 0.8834037184715271, 0.4016781449317932, 0.18758942186832428, 0.206694558262825, 0.10185135155916214, 0.04398029297590256, 0.02402033656835556, 0.017737437039613724, 0.016369730234146118, 0.00012822244025301188, 0.9464016556739807, 0.05151300132274628, 0.22272346913814545, 0.4442997872829437, 0.0671611875295639, 0.10988432914018631, 0.05412524566054344, 0.04887610301375389, 0.050509944558143616, 0.001425263355486095, 0.0006952504045329988, 0.0003823877195827663, 0.9983965158462524, 0.9982394576072693, 0.1877496838569641, 0.812324047088623, 0.9984506964683533, 0.994903564453125, 0.135477676987648, 0.04882941022515297, 0.7734515070915222, 0.0421273373067379, 0.2396044135093689, 0.19452929496765137, 0.3354669511318207, 0.19224438071250916, 0.021291246637701988, 0.007685620803385973, 0.004258249420672655, 0.0048814075998961926, 0.16144408285617828, 0.1600119173526764, 0.0001301968441111967, 0.5972129106521606, 0.08111263066530228, 0.2054821103811264, 0.41321608424186707, 0.04803965240716934, 0.2888008654117584, 0.0195161085575819, 0.024770446121692657, 0.7983766794204712, 0.2013842612504959, 0.0002237602893728763, 0.005905738100409508, 0.9921640157699585, 0.9989896416664124, 0.10516338795423508, 0.22186508774757385, 0.21444760262966156, 0.3168088495731354, 0.09766349196434021, 0.000494498701300472, 0.017719537019729614, 0.02521943300962448, 0.0006593316211365163, 0.1253233104944229, 0.16930268704891205, 0.5256964564323425, 0.0039331139996647835, 0.03629191592335701, 0.00044694478856399655, 0.005005781538784504, 0.13399404287338257, 0.7148638963699341, 0.28500425815582275, 0.5455828309059143, 0.21434149146080017, 0.09621138870716095, 0.10823781043291092, 0.006603234447538853, 5.021471224608831e-05, 0.0027115943375974894, 0.0007281133439391851, 0.025559287518262863, 0.9902029037475586, 0.9991196990013123, 0.9962591528892517, 0.9598274230957031, 0.039557427167892456, 0.20888765156269073, 0.3980516791343689, 0.053459398448467255, 0.17492341995239258, 0.05071789026260376, 0.016677504405379295, 0.020942071452736855, 0.07638144493103027, 0.15318576991558075, 0.2530793249607086, 0.34816014766693115, 0.11503605544567108, 0.04167122393846512, 0.04636657238006592, 0.0066908723674714565, 0.0355672687292099, 0.00011738372995750979, 0.9943919777870178, 0.03162868693470955, 0.14440001547336578, 0.17932336032390594, 0.0005647979560308158, 0.5704459547996521, 0.06466937065124512, 0.007342373486608267, 0.0016002609627321362, 0.9947443008422852, 0.9938563704490662, 0.9990862011909485, 0.99882972240448], \"Term\": [\"10/10\", \"10/10\", \"13th\", \"93\", \"abbott\", \"abuse\", \"abuse\", \"abysmal\", \"abysmal\", \"acting\", \"acting\", \"acting\", \"acting\", \"action\", \"action\", \"action\", \"action\", \"action\", \"action\", \"actors\", \"actors\", \"actors\", \"actors\", \"actors\", \"actress\", \"actress\", \"actress\", \"actress\", \"adam\", \"adam\", \"adam\", \"agent\", \"agent\", \"agent\", \"agent\", \"agent\", \"agent\", \"aids\", \"aircraft\", \"akbar\", \"aladdin\", \"ali\", \"alien\", \"aliens\", \"aliens\", \"allen\", \"allen\", \"allen\", \"allen\", \"also\", \"also\", \"also\", \"also\", \"also\", \"also\", \"also\", \"also\", \"also\", \"also\", \"amateurish\", \"amazing\", \"amazing\", \"amazing\", \"amazing\", \"amazing\", \"amazing\", \"amazing\", \"ambiguous\", \"amelie\", \"america\", \"america\", \"america\", \"america\", \"america\", \"america\", \"american\", \"american\", \"american\", \"american\", \"american\", \"american\", \"american\", \"american\", \"american\", \"amitabh\", \"andre\", \"animation\", \"anime\", \"ann\", \"anna\", \"anna\", \"anne\", \"ants\", \"archer\", \"arkin\", \"army\", \"army\", \"army\", \"around\", \"around\", \"around\", \"around\", \"around\", \"around\", \"around\", \"around\", \"around\", \"arthur\", \"arts\", \"arts\", \"ash\", \"asoka\", \"attempt\", \"attempt\", \"attempt\", \"attempt\", \"attempt\", \"attempt\", \"audience\", \"audience\", \"audience\", \"audience\", \"audience\", \"aunt\", \"aunt\", \"avery\", \"bachchan\", \"back\", \"back\", \"back\", \"back\", \"back\", \"back\", \"back\", \"back\", \"bad\", \"bad\", \"bad\", \"bad\", \"bambi\", \"banderas\", \"barbara\", \"barbara\", \"batman\", \"battle\", \"battle\", \"battle\", \"battle\", \"battle\", \"beatles\", \"beautiful\", \"beautiful\", \"beautiful\", \"beautiful\", \"beautiful\", \"beliefs\", \"belle\", \"bernie\", \"bertrand\", \"best\", \"best\", \"best\", \"best\", \"best\", \"best\", \"best\", \"best\", \"best\", \"best\", \"bette\", \"better\", \"better\", \"better\", \"better\", \"better\", \"better\", \"better\", \"betty\", \"big\", \"big\", \"big\", \"big\", \"big\", \"big\", \"big\", \"big\", \"black\", \"black\", \"black\", \"black\", \"black\", \"black\", \"black\", \"black\", \"blacks\", \"blah\", \"blah\", \"bland\", \"bland\", \"bland\", \"bland\", \"bleak\", \"blood\", \"blood\", \"blood\", \"blood\", \"blood\", \"bogart\", \"bollywood\", \"bond\", \"bond\", \"bond\", \"bond\", \"book\", \"book\", \"book\", \"book\", \"book\", \"books\", \"books\", \"books\", \"books\", \"books\", \"boss\", \"boss\", \"boss\", \"boy\", \"boy\", \"boy\", \"boy\", \"boy\", \"boy\", \"boy\", \"brando\", \"brilliant\", \"brilliant\", \"brilliant\", \"brilliant\", \"brilliant\", \"brilliant\", \"brilliant\", \"british\", \"british\", \"british\", \"british\", \"british\", \"british\", \"british\", \"british\", \"bronson\", \"brooks\", \"brooks\", \"bruce\", \"bruce\", \"bruce\", \"bruce\", \"budget\", \"budget\", \"budget\", \"bullock\", \"bunuel\", \"buscemi\", \"ca\", \"ca\", \"ca\", \"ca\", \"ca\", \"ca\", \"ca\", \"cagney\", \"camera\", \"camera\", \"camera\", \"camera\", \"camera\", \"camera\", \"camps\", \"candyman\", \"cannibal\", \"car\", \"car\", \"car\", \"car\", \"car\", \"carrey\", \"cartoon\", \"cartoon\", \"cartoon\", \"cartoon\", \"cary\", \"cast\", \"cast\", \"cast\", \"cast\", \"cast\", \"cast\", \"century\", \"century\", \"century\", \"century\", \"century\", \"chainsaw\", \"chan\", \"chaplin\", \"chaplin\", \"character\", \"character\", \"character\", \"character\", \"character\", \"character\", \"character\", \"character\", \"characters\", \"characters\", \"characters\", \"characters\", \"characters\", \"characters\", \"charlie\", \"charlie\", \"charlie\", \"che\", \"cher\", \"chuck\", \"chuck\", \"chucky\", \"cinderella\", \"clark\", \"clerks\", \"cliched\", \"clich\\u00e9d\", \"clich\\u00e9d\", \"clich\\u00e9d\", \"clint\", \"comedian\", \"comedians\", \"comedic\", \"comedic\", \"comedic\", \"comedies\", \"comedy\", \"comedy\", \"comedy\", \"comic\", \"comic\", \"comic\", \"comic\", \"comic\", \"communist\", \"community\", \"community\", \"community\", \"community\", \"conditions\", \"connery\", \"contrived\", \"contrived\", \"contrived\", \"cop\", \"cop\", \"cop\", \"could\", \"could\", \"could\", \"could\", \"could\", \"could\", \"could\", \"country\", \"country\", \"country\", \"country\", \"country\", \"country\", \"crap\", \"crap\", \"crappy\", \"crappy\", \"crawford\", \"creature\", \"creepy\", \"creepy\", \"creepy\", \"crime\", \"crime\", \"crowe\", \"cultural\", \"culture\", \"culture\", \"culture\", \"dafoe\", \"damme\", \"dark\", \"dark\", \"dark\", \"dark\", \"dark\", \"dark\", \"dark\", \"daughter\", \"daughter\", \"daughter\", \"daughter\", \"davis\", \"davis\", \"dead\", \"dead\", \"dead\", \"dead\", \"dead\", \"dead\", \"death\", \"death\", \"death\", \"death\", \"death\", \"death\", \"decent\", \"decent\", \"decent\", \"decent\", \"definitely\", \"definitely\", \"definitely\", \"definitely\", \"definitely\", \"demon\", \"dennis\", \"dennis\", \"dennis\", \"depiction\", \"depiction\", \"dern\", \"detective\", \"detective\", \"detective\", \"detective\", \"detective\", \"dialog\", \"dialog\", \"dialog\", \"dialogue\", \"dialogue\", \"dialogue\", \"dialogue\", \"dialogue\", \"dialogue\", \"dialogue\", \"dialogue\", \"diana\", \"direction\", \"direction\", \"direction\", \"direction\", \"direction\", \"direction\", \"director\", \"director\", \"director\", \"director\", \"director\", \"director\", \"director\", \"director\", \"director\", \"disjointed\", \"disjointed\", \"disney\", \"divorce\", \"django\", \"documentary\", \"documentary\", \"documentary\", \"documentary\", \"dolph\", \"dont\", \"doris\", \"dorothy\", \"dr\", \"dr\", \"dr\", \"dracula\", \"dreadful\", \"dreadful\", \"dreadful\", \"dull\", \"dull\", \"dull\", \"dumbest\", \"dunne\", \"dvd\", \"dvd\", \"dvd\", \"dvd\", \"earth\", \"earth\", \"earth\", \"earth\", \"earth\", \"eastwood\", \"eddie\", \"eddie\", \"editing\", \"editing\", \"editing\", \"editing\", \"editing\", \"effects\", \"effects\", \"effects\", \"effects\", \"effort\", \"effort\", \"effort\", \"effort\", \"effort\", \"effort\", \"effort\", \"effort\", \"elizabeth\", \"elizabeth\", \"emily\", \"emmanuelle\", \"emotional\", \"emotional\", \"emotional\", \"emperor\", \"english\", \"english\", \"english\", \"english\", \"english\", \"english\", \"english\", \"english\", \"enjoyed\", \"enjoyed\", \"enjoyed\", \"enjoyed\", \"episode\", \"episode\", \"episode\", \"episode\", \"episode\", \"episodes\", \"episodes\", \"episodes\", \"errol\", \"europe\", \"europe\", \"europe\", \"europe\", \"even\", \"even\", \"even\", \"even\", \"even\", \"even\", \"even\", \"even\", \"even\", \"events\", \"events\", \"events\", \"events\", \"events\", \"events\", \"ever\", \"ever\", \"ever\", \"ever\", \"ever\", \"ever\", \"ever\", \"ever\", \"ever\", \"evil\", \"evil\", \"evil\", \"evil\", \"evil\", \"evil\", \"examination\", \"excellent\", \"excellent\", \"excellent\", \"excellent\", \"explores\", \"fact\", \"fact\", \"fact\", \"fact\", \"fact\", \"fact\", \"fact\", \"fact\", \"fails\", \"fails\", \"fails\", \"fails\", \"fails\", \"fails\", \"family\", \"family\", \"family\", \"family\", \"family\", \"fantastic\", \"fantastic\", \"fantastic\", \"fantastic\", \"fantastic\", \"farrow\", \"fart\", \"father\", \"father\", \"father\", \"father\", \"father\", \"father\", \"father\", \"favorite\", \"favorite\", \"favorite\", \"favorite\", \"favorite\", \"favorite\", \"fellini\", \"fight\", \"fight\", \"fight\", \"fight\", \"fight\", \"fight\", \"fight\", \"fight\", \"figured\", \"figured\", \"film\", \"film\", \"film\", \"film\", \"film\", \"film\", \"film\", \"film\", \"films\", \"films\", \"films\", \"films\", \"films\", \"films\", \"films\", \"films\", \"finds\", \"finds\", \"finds\", \"finds\", \"finds\", \"first\", \"first\", \"first\", \"first\", \"first\", \"first\", \"first\", \"first\", \"first\", \"flat\", \"flat\", \"flat\", \"flat\", \"flight\", \"flight\", \"flight\", \"flight\", \"flynn\", \"ford\", \"ford\", \"france\", \"france\", \"france\", \"freaking\", \"freddy\", \"freedom\", \"freedom\", \"french\", \"french\", \"french\", \"french\", \"french\", \"friend\", \"friend\", \"friend\", \"friend\", \"friend\", \"friend\", \"frogs\", \"fu\", \"fun\", \"fun\", \"fun\", \"fun\", \"fun\", \"fun\", \"funnier\", \"funniest\", \"funny\", \"funny\", \"funny\", \"funny\", \"gags\", \"game\", \"game\", \"game\", \"game\", \"game\", \"game\", \"gang\", \"gang\", \"gang\", \"gang\", \"gangster\", \"garbo\", \"general\", \"general\", \"general\", \"general\", \"general\", \"general\", \"general\", \"german\", \"german\", \"germany\", \"get\", \"get\", \"get\", \"get\", \"get\", \"get\", \"get\", \"get\", \"get\", \"gets\", \"gets\", \"gets\", \"gets\", \"gets\", \"gets\", \"gets\", \"gets\", \"gets\", \"giant\", \"giant\", \"giant\", \"giant\", \"giant\", \"gibson\", \"gibson\", \"gibson\", \"girl\", \"girl\", \"girl\", \"girl\", \"girl\", \"girl\", \"go\", \"go\", \"go\", \"go\", \"go\", \"go\", \"go\", \"go\", \"go\", \"godzilla\", \"going\", \"going\", \"going\", \"going\", \"going\", \"going\", \"going\", \"going\", \"going\", \"goldie\", \"gon\", \"good\", \"good\", \"good\", \"good\", \"good\", \"good\", \"good\", \"good\", \"gore\", \"gory\", \"got\", \"got\", \"got\", \"got\", \"got\", \"got\", \"got\", \"got\", \"grant\", \"great\", \"great\", \"great\", \"great\", \"great\", \"great\", \"great\", \"great\", \"great\", \"gremlins\", \"griffith\", \"group\", \"group\", \"group\", \"group\", \"group\", \"group\", \"group\", \"guess\", \"guess\", \"guess\", \"guess\", \"guess\", \"guest\", \"guest\", \"guest\", \"guest\", \"guest\", \"gun\", \"gun\", \"gun\", \"guru\", \"guy\", \"guy\", \"guy\", \"guy\", \"guy\", \"guys\", \"guys\", \"guys\", \"guys\", \"hackneyed\", \"halloween\", \"hardy\", \"harry\", \"harry\", \"harry\", \"harry\", \"hawn\", \"heartwarming\", \"heist\", \"helen\", \"henriksen\", \"henry\", \"henry\", \"hero\", \"hero\", \"hero\", \"hero\", \"hero\", \"hero\", \"hero\", \"hes\", \"hey\", \"hey\", \"hey\", \"hey\", \"highlander\", \"hilarious\", \"hilarious\", \"hilarious\", \"hilarious\", \"hilarious\", \"hindi\", \"historical\", \"historical\", \"historical\", \"historical\", \"history\", \"history\", \"history\", \"history\", \"history\", \"history\", \"hitchcock\", \"hitchcock\", \"hitler\", \"ho\", \"holden\", \"holmes\", \"holocaust\", \"home\", \"home\", \"home\", \"home\", \"home\", \"home\", \"home\", \"home\", \"homosexuality\", \"hong\", \"hopkins\", \"horrible\", \"horrible\", \"horror\", \"horror\", \"house\", \"house\", \"house\", \"house\", \"however\", \"however\", \"however\", \"however\", \"however\", \"however\", \"however\", \"however\", \"however\", \"human\", \"human\", \"human\", \"human\", \"humanity\", \"humanity\", \"humanity\", \"humor\", \"humor\", \"humor\", \"humor\", \"humor\", \"husband\", \"husband\", \"ignorance\", \"improvised\", \"incoherent\", \"incoherent\", \"india\", \"indian\", \"indians\", \"indians\", \"indians\", \"indians\", \"indians\", \"infinitely\", \"insightful\", \"interesting\", \"interesting\", \"interesting\", \"interesting\", \"interesting\", \"interesting\", \"interesting\", \"irene\", \"island\", \"island\", \"island\", \"issue\", \"issue\", \"issue\", \"issues\", \"issues\", \"it`s\", \"jack\", \"jack\", \"jack\", \"jack\", \"jackie\", \"jagger\", \"james\", \"james\", \"james\", \"james\", \"james\", \"jane\", \"jane\", \"japanese\", \"japanese\", \"japanese\", \"japanese\", \"jerry\", \"jerry\", \"jerry\", \"jerry\", \"jews\", \"jill\", \"joan\", \"joan\", \"jock\", \"joe\", \"joe\", \"joe\", \"joe\", \"joe\", \"john\", \"john\", \"john\", \"john\", \"john\", \"john\", \"john\", \"jokes\", \"jokes\", \"jolie\", \"joshua\", \"judy\", \"julie\", \"julie\", \"kapoor\", \"karloff\", \"keaton\", \"keaton\", \"khan\", \"kidding\", \"kidding\", \"kids\", \"kids\", \"kids\", \"kill\", \"kill\", \"kill\", \"kill\", \"killed\", \"killed\", \"killed\", \"killed\", \"killed\", \"killer\", \"killer\", \"killer\", \"king\", \"king\", \"king\", \"king\", \"king\", \"kinski\", \"know\", \"know\", \"know\", \"know\", \"know\", \"know\", \"know\", \"know\", \"know\", \"korea\", \"kung\", \"kurosawa\", \"lack\", \"lack\", \"lack\", \"lack\", \"lack\", \"lacks\", \"lacks\", \"lacks\", \"lacks\", \"later\", \"later\", \"later\", \"later\", \"later\", \"later\", \"later\", \"later\", \"laugh\", \"laugh\", \"laugh\", \"laughs\", \"laughs\", \"laughs\", \"laughton\", \"lee\", \"lee\", \"lee\", \"lee\", \"lee\", \"lee\", \"leonardo\", \"leopard\", \"liam\", \"liberal\", \"life\", \"life\", \"life\", \"life\", \"life\", \"like\", \"like\", \"like\", \"like\", \"like\", \"like\", \"like\", \"like\", \"like\", \"like\", \"little\", \"little\", \"little\", \"little\", \"little\", \"little\", \"little\", \"little\", \"lives\", \"lives\", \"lives\", \"lives\", \"lives\", \"lives\", \"locusts\", \"louise\", \"love\", \"love\", \"love\", \"love\", \"love\", \"love\", \"loved\", \"loved\", \"loved\", \"loved\", \"low\", \"low\", \"low\", \"low\", \"loy\", \"lugosi\", \"lumi\\u00e8re\", \"madame\", \"made\", \"made\", \"made\", \"made\", \"made\", \"made\", \"made\", \"made\", \"made\", \"mafia\", \"make\", \"make\", \"make\", \"make\", \"make\", \"make\", \"make\", \"make\", \"make\", \"man\", \"man\", \"man\", \"man\", \"man\", \"man\", \"man\", \"man\", \"man\", \"manga\", \"many\", \"many\", \"many\", \"many\", \"many\", \"many\", \"many\", \"many\", \"many\", \"margaret\", \"maris\", \"marple\", \"married\", \"married\", \"marry\", \"martial\", \"marx\", \"mary\", \"mary\", \"massacre\", \"match\", \"match\", \"match\", \"match\", \"match\", \"match\", \"maury\", \"may\", \"may\", \"may\", \"may\", \"may\", \"may\", \"may\", \"may\", \"maybe\", \"maybe\", \"maybe\", \"maybe\", \"mean\", \"mean\", \"mean\", \"mean\", \"mean\", \"mean\", \"mean\", \"media\", \"media\", \"media\", \"media\", \"mediocre\", \"mediocre\", \"melanie\", \"men\", \"men\", \"men\", \"men\", \"men\", \"men\", \"men\", \"meryl\", \"message\", \"message\", \"message\", \"metal\", \"metal\", \"metal\", \"metaphor\", \"mexicans\", \"mickey\", \"midler\", \"military\", \"military\", \"miserably\", \"miserably\", \"mitchell\", \"mitchum\", \"money\", \"money\", \"money\", \"money\", \"money\", \"money\", \"monster\", \"monsters\", \"moral\", \"moral\", \"moral\", \"morality\", \"morally\", \"mother\", \"mother\", \"mother\", \"mother\", \"movies\", \"movies\", \"movies\", \"movies\", \"movies\", \"movies\", \"mr\", \"mr\", \"mr\", \"mr\", \"mr\", \"mr\", \"mr\", \"mr\", \"mrs\", \"mrs\", \"mrs\", \"much\", \"much\", \"much\", \"much\", \"much\", \"much\", \"much\", \"much\", \"much\", \"muddled\", \"murphy\", \"music\", \"music\", \"music\", \"music\", \"music\", \"music\", \"musicians\", \"na\", \"narrative\", \"narrative\", \"nature\", \"nature\", \"nature\", \"nature\", \"navy\", \"navy\", \"nazi\", \"nazi\", \"never\", \"never\", \"never\", \"never\", \"never\", \"never\", \"never\", \"never\", \"never\", \"new\", \"new\", \"new\", \"new\", \"new\", \"new\", \"new\", \"new\", \"new\", \"night\", \"night\", \"night\", \"night\", \"night\", \"night\", \"night\", \"night\", \"nikki\", \"ninja\", \"ninjas\", \"noir\", \"noir\", \"nope\", \"norma\", \"north\", \"north\", \"north\", \"north\", \"north\", \"norway\", \"norwegian\", \"nothing\", \"nothing\", \"nothing\", \"nothing\", \"nothing\", \"nothing\", \"nothing\", \"novel\", \"novel\", \"novel\", \"novel\", \"novel\", \"o'toole\", \"oh\", \"oh\", \"oh\", \"oh\", \"oh\", \"oil\", \"oil\", \"ok\", \"ok\", \"ok\", \"ok\", \"old\", \"old\", \"old\", \"old\", \"old\", \"old\", \"old\", \"old\", \"old\", \"olds\", \"one\", \"one\", \"one\", \"one\", \"one\", \"one\", \"one\", \"one\", \"one\", \"original\", \"original\", \"original\", \"original\", \"original\", \"overlong\", \"pacino\", \"pammy\", \"panther\", \"passengers\", \"penguins\", \"penis\", \"people\", \"people\", \"people\", \"people\", \"people\", \"people\", \"perfect\", \"perfect\", \"perfect\", \"perfect\", \"perfect\", \"perfect\", \"performance\", \"performance\", \"performance\", \"performance\", \"performance\", \"performance\", \"perhaps\", \"perhaps\", \"perhaps\", \"perhaps\", \"perhaps\", \"perhaps\", \"personal\", \"personal\", \"personal\", \"personal\", \"personal\", \"personal\", \"personal\", \"peterson\", \"pitt\", \"plane\", \"plane\", \"plane\", \"play\", \"play\", \"play\", \"play\", \"play\", \"play\", \"play\", \"play\", \"play\", \"played\", \"played\", \"played\", \"played\", \"played\", \"played\", \"played\", \"played\", \"played\", \"plays\", \"plays\", \"plays\", \"plays\", \"plays\", \"plays\", \"plays\", \"plays\", \"pleasantly\", \"pleasantly\", \"pleasantly\", \"please\", \"please\", \"please\", \"plight\", \"plodding\", \"plot\", \"plot\", \"plot\", \"plot\", \"plot\", \"plot\", \"point\", \"point\", \"point\", \"point\", \"point\", \"point\", \"point\", \"point\", \"point\", \"poirot\", \"pokemon\", \"police\", \"police\", \"police\", \"police\", \"political\", \"political\", \"poor\", \"poor\", \"poor\", \"poor\", \"poor\", \"poor\", \"poorly\", \"poorly\", \"porky\", \"poverty\", \"poverty\", \"powell\", \"power\", \"power\", \"power\", \"power\", \"power\", \"power\", \"power\", \"powerful\", \"powerful\", \"powerful\", \"powerful\", \"predator\", \"pretty\", \"pretty\", \"pretty\", \"pretty\", \"pretty\", \"pretty\", \"pretty\", \"previews\", \"production\", \"production\", \"production\", \"production\", \"production\", \"production\", \"production\", \"prostitution\", \"pryor\", \"quaid\", \"quite\", \"quite\", \"quite\", \"quite\", \"quite\", \"quite\", \"quite\", \"quite\", \"racism\", \"racism\", \"rangers\", \"rani\", \"rathbone\", \"rather\", \"rather\", \"rather\", \"rather\", \"rather\", \"rather\", \"rather\", \"rather\", \"rather\", \"real\", \"real\", \"real\", \"real\", \"real\", \"real\", \"real\", \"real\", \"real\", \"reality\", \"reality\", \"reality\", \"reality\", \"really\", \"really\", \"really\", \"really\", \"really\", \"really\", \"really\", \"really\", \"recommend\", \"recommend\", \"recommend\", \"recommend\", \"reggie\", \"religion\", \"religion\", \"religious\", \"religious\", \"reno\", \"rent\", \"rent\", \"rent\", \"rent\", \"revolution\", \"revolution\", \"ringu\", \"robbery\", \"robert\", \"robert\", \"robert\", \"robert\", \"robert\", \"rodman\", \"role\", \"role\", \"role\", \"role\", \"role\", \"role\", \"rome\", \"russia\", \"russian\", \"russians\", \"sandler\", \"saw\", \"saw\", \"say\", \"say\", \"say\", \"say\", \"say\", \"say\", \"scares\", \"scarlett\", \"scary\", \"scary\", \"scene\", \"scene\", \"scene\", \"scene\", \"scene\", \"scene\", \"scene\", \"scene\", \"scene\", \"scene\", \"scenes\", \"scenes\", \"scenes\", \"scenes\", \"scenes\", \"scenes\", \"scenes\", \"scenes\", \"scenes\", \"sci-fi\", \"sci-fi\", \"sci-fi\", \"sci-fi\", \"science\", \"science\", \"science\", \"scientist\", \"script\", \"script\", \"script\", \"script\", \"script\", \"script\", \"seagal\", \"season\", \"season\", \"season\", \"seasons\", \"seasons\", \"see\", \"see\", \"see\", \"see\", \"see\", \"see\", \"see\", \"see\", \"see\", \"seems\", \"seems\", \"seems\", \"seems\", \"seems\", \"seems\", \"seems\", \"seems\", \"seen\", \"seen\", \"seen\", \"seen\", \"seen\", \"sellers\", \"series\", \"series\", \"series\", \"series\", \"sexual\", \"sexual\", \"sexual\", \"sexual\", \"sexuality\", \"sh*t\", \"shah\", \"shark\", \"sharpe\", \"shearer\", \"sherlock\", \"ship\", \"ship\", \"show\", \"show\", \"show\", \"show\", \"show\", \"show\", \"shows\", \"shows\", \"shows\", \"shows\", \"shows\", \"shows\", \"shows\", \"shows\", \"shows\", \"shyamalan\", \"silent\", \"silent\", \"silent\", \"silent\", \"silent\", \"silent\", \"simpsons\", \"sister\", \"sister\", \"sister\", \"sister\", \"sister\", \"sister\", \"sitcom\", \"sketch\", \"slapstick\", \"slasher\", \"snoopy\", \"social\", \"social\", \"social\", \"society\", \"soldier\", \"soldier\", \"soldier\", \"soldier\", \"soldiers\", \"soldiers\", \"someone\", \"someone\", \"someone\", \"someone\", \"someone\", \"something\", \"something\", \"something\", \"something\", \"something\", \"something\", \"something\", \"son\", \"son\", \"son\", \"son\", \"son\", \"son\", \"song\", \"song\", \"song\", \"song\", \"songs\", \"songs\", \"songs\", \"sorry\", \"sorry\", \"sorry\", \"soviet\", \"space\", \"space\", \"space\", \"space\", \"space\", \"space\", \"space\", \"special\", \"special\", \"special\", \"special\", \"spooky\", \"stanwyck\", \"star\", \"star\", \"star\", \"star\", \"star\", \"star\", \"star\", \"star\", \"steve\", \"steve\", \"steve\", \"still\", \"still\", \"still\", \"still\", \"still\", \"still\", \"still\", \"still\", \"still\", \"stilted\", \"stooges\", \"story\", \"story\", \"story\", \"story\", \"story\", \"story\", \"story\", \"story\", \"streep\", \"stuart\", \"stupid\", \"stupid\", \"stupid\", \"subject\", \"subject\", \"subject\", \"subject\", \"suck\", \"sucked\", \"sucked\", \"sucks\", \"superb\", \"superb\", \"superb\", \"superb\", \"superman\", \"susan\", \"tedious\", \"tedious\", \"television\", \"television\", \"television\", \"television\", \"television\", \"television\", \"television\", \"television\", \"thats\", \"thats\", \"thing\", \"thing\", \"thing\", \"thing\", \"thing\", \"thing\", \"thing\", \"thing\", \"think\", \"think\", \"think\", \"think\", \"think\", \"thought\", \"thought\", \"thought\", \"thought\", \"thought\", \"time\", \"time\", \"time\", \"time\", \"time\", \"time\", \"time\", \"time\", \"time\", \"tony\", \"tony\", \"trek\", \"troll\", \"troops\", \"troy\", \"truth\", \"truth\", \"truth\", \"truth\", \"tucci\", \"tv\", \"tv\", \"tv\", \"tv\", \"tv\", \"tv\", \"two\", \"two\", \"two\", \"two\", \"two\", \"two\", \"two\", \"two\", \"two\", \"ugh\", \"unappealing\", \"unconvincing\", \"unconvincing\", \"underdeveloped\", \"understanding\", \"understanding\", \"unfortunately\", \"unfortunately\", \"unfortunately\", \"unfortunately\", \"unfortunately\", \"unfortunately\", \"unfortunately\", \"unfortunately\", \"unfunny\", \"unfunny\", \"unimaginative\", \"uninspired\", \"uninteresting\", \"uninteresting\", \"united\", \"united\", \"united\", \"unknowns\", \"us\", \"us\", \"us\", \"us\", \"us\", \"us\", \"us\", \"us\", \"vampire\", \"vampires\", \"van\", \"van\", \"van\", \"van\", \"van\", \"van\", \"van\", \"van\", \"vapid\", \"version\", \"version\", \"version\", \"version\", \"version\", \"version\", \"version\", \"view\", \"view\", \"view\", \"view\", \"viewer\", \"viewer\", \"viewer\", \"viewer\", \"violence\", \"violence\", \"violence\", \"violence\", \"violence\", \"violence\", \"violin\", \"violin\", \"virus\", \"volcano\", \"von\", \"von\", \"wan\", \"want\", \"want\", \"want\", \"want\", \"want\", \"want\", \"wants\", \"wants\", \"wants\", \"wants\", \"wants\", \"wants\", \"war\", \"war\", \"warden\", \"warner\", \"wars\", \"wars\", \"wars\", \"watch\", \"watch\", \"watch\", \"watch\", \"watch\", \"watching\", \"watching\", \"watching\", \"watching\", \"watson\", \"watson\", \"way\", \"way\", \"way\", \"way\", \"way\", \"way\", \"way\", \"way\", \"way\", \"wayne\", \"wayne\", \"well\", \"well\", \"well\", \"well\", \"well\", \"well\", \"well\", \"well\", \"well\", \"well\", \"welles\", \"werewolf\", \"western\", \"western\", \"westerns\", \"whats\", \"wife\", \"wife\", \"wife\", \"wife\", \"without\", \"without\", \"without\", \"without\", \"without\", \"without\", \"without\", \"without\", \"woman\", \"woman\", \"woman\", \"woman\", \"woman\", \"women\", \"women\", \"women\", \"women\", \"women\", \"women\", \"wonderful\", \"wonderful\", \"wonderful\", \"woo\", \"woo\", \"woody\", \"work\", \"work\", \"work\", \"work\", \"work\", \"work\", \"work\", \"work\", \"work\", \"world\", \"world\", \"world\", \"world\", \"world\", \"world\", \"world\", \"world\", \"worst\", \"worst\", \"would\", \"would\", \"would\", \"would\", \"would\", \"would\", \"would\", \"would\", \"would\", \"wraith\", \"wwii\", \"ya\", \"yeah\", \"yeah\", \"years\", \"years\", \"years\", \"years\", \"years\", \"years\", \"years\", \"years\", \"yet\", \"yet\", \"yet\", \"yet\", \"yet\", \"yet\", \"yet\", \"yet\", \"yet\", \"yor\", \"young\", \"young\", \"young\", \"young\", \"young\", \"young\", \"young\", \"young\", \"yuen\", \"zohan\", \"zombie\", \"zombies\"]}, \"R\": 30, \"lambda.step\": 0.01, \"plot.opts\": {\"xlab\": \"PC1\", \"ylab\": \"PC2\"}, \"topic.order\": [6, 2, 1, 7, 9, 3, 5, 4, 8, 10]};\n",
       "\n",
       "function LDAvis_load_lib(url, callback){\n",
       "  var s = document.createElement('script');\n",
       "  s.src = url;\n",
       "  s.async = true;\n",
       "  s.onreadystatechange = s.onload = callback;\n",
       "  s.onerror = function(){console.warn(\"failed to load library \" + url);};\n",
       "  document.getElementsByTagName(\"head\")[0].appendChild(s);\n",
       "}\n",
       "\n",
       "if(typeof(LDAvis) !== \"undefined\"){\n",
       "   // already loaded: just create the visualization\n",
       "   !function(LDAvis){\n",
       "       new LDAvis(\"#\" + \"ldavis_el75471398265444029849882304983\", ldavis_el75471398265444029849882304983_data);\n",
       "   }(LDAvis);\n",
       "}else if(typeof define === \"function\" && define.amd){\n",
       "   // require.js is available: use it to load d3/LDAvis\n",
       "   require.config({paths: {d3: \"https://cdnjs.cloudflare.com/ajax/libs/d3/3.5.5/d3.min\"}});\n",
       "   require([\"d3\"], function(d3){\n",
       "      window.d3 = d3;\n",
       "      LDAvis_load_lib(\"https://cdn.rawgit.com/bmabey/pyLDAvis/files/ldavis.v1.0.0.js\", function(){\n",
       "        new LDAvis(\"#\" + \"ldavis_el75471398265444029849882304983\", ldavis_el75471398265444029849882304983_data);\n",
       "      });\n",
       "    });\n",
       "}else{\n",
       "    // require.js not available: dynamically load d3 & LDAvis\n",
       "    LDAvis_load_lib(\"https://cdnjs.cloudflare.com/ajax/libs/d3/3.5.5/d3.min.js\", function(){\n",
       "         LDAvis_load_lib(\"https://cdn.rawgit.com/bmabey/pyLDAvis/files/ldavis.v1.0.0.js\", function(){\n",
       "                 new LDAvis(\"#\" + \"ldavis_el75471398265444029849882304983\", ldavis_el75471398265444029849882304983_data);\n",
       "            })\n",
       "         });\n",
       "}\n",
       "</script>"
      ],
      "text/plain": [
       "PreparedData(topic_coordinates=            Freq  cluster  topics         x         y\n",
       "topic                                                \n",
       "5      21.860088        1       1  0.159768 -0.088749\n",
       "1      16.569754        1       2  0.134872 -0.093828\n",
       "0      14.740369        1       3  0.105839 -0.032436\n",
       "6      13.339442        1       4  0.133462 -0.136495\n",
       "8       9.781880        1       5  0.007883  0.029622\n",
       "2       7.892787        1       6  0.044615  0.080698\n",
       "4       6.202505        1       7 -0.018504  0.117751\n",
       "3       4.875899        1       8  0.010052  0.016486\n",
       "7       3.475623        1       9 -0.130855  0.298737\n",
       "9       1.261658        1      10 -0.447133 -0.191787, topic_info=      Category           Freq        Term          Total  loglift  logprob\n",
       "term                                                                      \n",
       "51     Default  118425.000000        film  118425.000000  30.0000  30.0000\n",
       "2148   Default   16885.000000        show   16885.000000  29.0000  29.0000\n",
       "816    Default   12942.000000       funny   12942.000000  28.0000  28.0000\n",
       "8      Default   26946.000000         bad   26946.000000  27.0000  27.0000\n",
       "2035   Default    9322.000000      comedy    9322.000000  26.0000  26.0000\n",
       "1135   Default   10127.000000      horror   10127.000000  25.0000  25.0000\n",
       "186    Default   27326.000000       great   27326.000000  24.0000  24.0000\n",
       "214    Default    6193.000000         war    6193.000000  23.0000  23.0000\n",
       "118    Default   34694.000000      really   34694.000000  22.0000  22.0000\n",
       "109    Default   27573.000000      people   27573.000000  21.0000  21.0000\n",
       "450    Default   43308.000000        good   43308.000000  20.0000  20.0000\n",
       "704    Default   10308.000000      action   10308.000000  19.0000  19.0000\n",
       "125    Default   33758.000000         see   33758.000000  18.0000  18.0000\n",
       "140    Default   21002.000000       think   21002.000000  17.0000  17.0000\n",
       "81     Default   58723.000000        like   58723.000000  16.0000  16.0000\n",
       "985    Default   18523.000000        love   18523.000000  15.0000  15.0000\n",
       "160    Default   39828.000000       would   39828.000000  14.0000  14.0000\n",
       "722    Default   17981.000000      acting   17981.000000  13.0000  13.0000\n",
       "1021   Default    9286.000000        role    9286.000000  12.0000  12.0000\n",
       "637    Default   19165.000000        plot   19165.000000  11.0000  11.0000\n",
       "696    Default   19757.000000       watch   19757.000000  10.0000  10.0000\n",
       "917    Default   22462.000000      movies   22462.000000   9.0000   9.0000\n",
       "2439   Default   11187.000000       world   11187.000000   8.0000   8.0000\n",
       "500    Default   19221.000000        seen   19221.000000   7.0000   7.0000\n",
       "752    Default    6606.000000    american    6606.000000   6.0000   6.0000\n",
       "1891   Default   21654.000000  characters   21654.000000   5.0000   5.0000\n",
       "380    Default   34613.000000       story   34613.000000   4.0000   4.0000\n",
       "429    Default   28431.000000       could   28431.000000   3.0000   3.0000\n",
       "283    Default   20955.000000       films   20955.000000   2.0000   2.0000\n",
       "604    Default   17362.000000        life   17362.000000   1.0000   1.0000\n",
       "...        ...            ...         ...            ...      ...      ...\n",
       "9493   Topic10     280.079010      sharpe     280.973724   4.3696  -5.9530\n",
       "17292  Topic10     252.095261      ninjas     252.990067   4.3692  -6.0582\n",
       "11214  Topic10     241.798355        liam     242.693146   4.3690  -6.0999\n",
       "12549  Topic10     231.678635      kapoor     232.573303   4.3689  -6.1427\n",
       "5879   Topic10     226.558136    bachchan     227.452820   4.3688  -6.1650\n",
       "47666  Topic10     219.927155       akbar     220.821838   4.3687  -6.1947\n",
       "18285  Topic10     216.693222        rani     217.587906   4.3686  -6.2096\n",
       "24870  Topic10     206.960526        shah     207.855209   4.3684  -6.2555\n",
       "23676  Topic10     202.947067     leopard     203.841873   4.3683  -6.2751\n",
       "3611   Topic10     202.148376       dafoe     203.043137   4.3683  -6.2790\n",
       "8764   Topic10     200.769562        guru     201.664383   4.3683  -6.2859\n",
       "13558  Topic10     194.817108    scarlett     195.711960   4.3682  -6.3160\n",
       "9419   Topic10     191.576782       hindi     192.471481   4.3681  -6.3327\n",
       "5878   Topic10     190.664413     amitabh     191.559097   4.3681  -6.3375\n",
       "11815  Topic10     189.638626       dolph     190.533356   4.3680  -6.3429\n",
       "13499  Topic10     354.535553      watson     401.854767   4.2475  -5.7172\n",
       "5127   Topic10     609.773621        jane    1141.108154   3.7461  -5.1749\n",
       "797    Topic10     443.294464        adam    1022.029663   3.5374  -5.4938\n",
       "1667   Topic10     289.506836     indians     471.435486   3.8851  -5.9199\n",
       "196    Topic10     593.768982       novel    2680.314209   2.8655  -5.2015\n",
       "9168   Topic10     283.034119      brooks     467.332458   3.8713  -5.9425\n",
       "13667  Topic10     228.328949      gibson     288.278870   4.1396  -6.1572\n",
       "4704   Topic10     385.786499         van    1480.835083   3.0277  -5.6328\n",
       "194    Topic10     433.205566          mr    3857.823486   2.1861  -5.5168\n",
       "1021   Topic10     511.454895        role    9286.500977   1.4737  -5.3508\n",
       "1427   Topic10     359.396210       songs    2246.575928   2.5400  -5.7036\n",
       "73     Topic10     345.909607         joe    1884.690918   2.6774  -5.7419\n",
       "669    Topic10     322.484009        song    2648.467773   2.2671  -5.8120\n",
       "165    Topic10     274.776855        book    5863.166992   1.3123  -5.9721\n",
       "33     Topic10     254.246368    director   12063.491211   0.5131  -6.0497\n",
       "\n",
       "[799 rows x 6 columns], token_table=       Topic      Freq     Term\n",
       "term                           \n",
       "5509       1  0.116797    10/10\n",
       "5509       2  0.881455    10/10\n",
       "5801       6  0.996997     13th\n",
       "1872       1  0.994471       93\n",
       "11827      4  0.996935   abbott\n",
       "6982       1  0.052895    abuse\n",
       "6982       3  0.946233    abuse\n",
       "5350       4  0.965332  abysmal\n",
       "5350       6  0.032418  abysmal\n",
       "722        1  0.341796   acting\n",
       "722        2  0.219726   acting\n",
       "722        4  0.435058   acting\n",
       "722        5  0.003392   acting\n",
       "704        1  0.062376   action\n",
       "704        2  0.135713   action\n",
       "704        4  0.263763   action\n",
       "704        6  0.031139   action\n",
       "704        7  0.506378   action\n",
       "704        9  0.000679   action\n",
       "406        1  0.174683   actors\n",
       "406        2  0.344606   actors\n",
       "406        4  0.462648   actors\n",
       "406        5  0.016774   actors\n",
       "406        7  0.001170   actors\n",
       "1172       1  0.029451  actress\n",
       "1172       2  0.217935  actress\n",
       "1172       4  0.250796  actress\n",
       "1172       5  0.501592  actress\n",
       "797        5  0.051858     adam\n",
       "797        8  0.513684     adam\n",
       "...      ...       ...      ...\n",
       "702        1  0.208888    years\n",
       "702        2  0.398052    years\n",
       "702        3  0.053459    years\n",
       "702        5  0.174923    years\n",
       "702        6  0.050718    years\n",
       "702        7  0.016678    years\n",
       "702        8  0.020942    years\n",
       "702        9  0.076381    years\n",
       "2255       1  0.153186      yet\n",
       "2255       2  0.253079      yet\n",
       "2255       3  0.348160      yet\n",
       "2255       4  0.115036      yet\n",
       "2255       5  0.041671      yet\n",
       "2255       6  0.046367      yet\n",
       "2255       7  0.006691      yet\n",
       "2255       8  0.035567      yet\n",
       "2255       9  0.000117      yet\n",
       "40452      1  0.994392      yor\n",
       "854        1  0.031629    young\n",
       "854        2  0.144400    young\n",
       "854        3  0.179323    young\n",
       "854        4  0.000565    young\n",
       "854        5  0.570446    young\n",
       "854        6  0.064669    young\n",
       "854        7  0.007342    young\n",
       "854        8  0.001600    young\n",
       "33858      4  0.994744     yuen\n",
       "51577      8  0.993856    zohan\n",
       "4336       6  0.999086   zombie\n",
       "4445       6  0.998830  zombies\n",
       "\n",
       "[2127 rows x 3 columns], R=30, lambda_step=0.01, plot_opts={'xlab': 'PC1', 'ylab': 'PC2'}, topic_order=[6, 2, 1, 7, 9, 3, 5, 4, 8, 10])"
      ]
     },
     "execution_count": 82,
     "metadata": {},
     "output_type": "execute_result"
    }
   ],
   "source": [
    "import pyLDAvis\n",
    "import pyLDAvis.gensim\n",
    "pyLDAvis.enable_notebook()\n",
    "pyLDAvis.gensim.prepare(lda_tf, corpus_tf, dictionary)"
   ]
  },
  {
   "cell_type": "markdown",
   "metadata": {},
   "source": [
    "Making predictions with LDA vectors (we'll have to use only the labeled sentences):"
   ]
  },
  {
   "cell_type": "code",
   "execution_count": 83,
   "metadata": {},
   "outputs": [
    {
     "name": "stdout",
     "output_type": "stream",
     "text": [
      "Creating Corpora for predictions\n",
      "corpus tf done\n",
      "corpus lda tf done\n",
      "Creating lda vectors\n",
      "lda vectors done\n"
     ]
    }
   ],
   "source": [
    "#For predictions we need only the labeled set:\n",
    "print(\"Creating Corpora for predictions\")\n",
    "corpus_tf2 = [dictionary.doc2bow(sentence) for sentence in labeled_sentences]\n",
    "print('corpus tf done')\n",
    "\n",
    "lda_tf2 = models.LdaModel(corpus_tf2, id2word=dictionary, num_topics=10, passes=10)\n",
    "corpus_lda_tf2 = lda_tf2[corpus_tf2]\n",
    "print('corpus lda tf done')\n",
    "\n",
    "print('Creating lda vectors')\n",
    "X = gensim.matutils.corpus2csc(corpus_lda_tf2)\n",
    "X = X.T\n",
    "print('lda vectors done')"
   ]
  },
  {
   "cell_type": "code",
   "execution_count": 84,
   "metadata": {},
   "outputs": [
    {
     "data": {
      "text/plain": [
       "matrix([[0.22183625, 0.04436459, 0.        , 0.23087992, 0.        ,\n",
       "         0.        , 0.05482317, 0.01970585, 0.        , 0.42650294]])"
      ]
     },
     "execution_count": 84,
     "metadata": {},
     "output_type": "execute_result"
    }
   ],
   "source": [
    "X[0].todense()"
   ]
  },
  {
   "cell_type": "markdown",
   "metadata": {},
   "source": [
    "Saving the Sentences, Model and the Corpus"
   ]
  },
  {
   "cell_type": "code",
   "execution_count": 85,
   "metadata": {},
   "outputs": [],
   "source": [
    "lda_tf2.save(os.path.join(outputs, 'model_tf2.lda'))\n",
    "corpora.MmCorpus.serialize(os.path.join(outputs, 'corpus_lda_tf2.mm'), corpus_lda_tf2)"
   ]
  },
  {
   "cell_type": "markdown",
   "metadata": {},
   "source": [
    "Loading the Sentences, Model and the Corpus"
   ]
  },
  {
   "cell_type": "code",
   "execution_count": 86,
   "metadata": {},
   "outputs": [],
   "source": [
    "lda_tf2 = models.LdaModel.load(os.path.join(outputs, 'model_tf2.lda'))\n",
    "corpus_lda_tf2 = corpora.MmCorpus(os.path.join(outputs, 'corpus_lda_tf2.mm'))"
   ]
  },
  {
   "cell_type": "code",
   "execution_count": 87,
   "metadata": {},
   "outputs": [],
   "source": [
    "X_traincv_tf, X_testcv_tf, y_traincv_tf, y_testcv_tf = model_selection.train_test_split(X,\n",
    "                                                                                        train[\"sentiment\"],\n",
    "                                                                                        test_size=0.2,\n",
    "                                                                                        random_state=0)"
   ]
  },
  {
   "cell_type": "code",
   "execution_count": 88,
   "metadata": {},
   "outputs": [],
   "source": [
    "from sklearn.linear_model import LogisticRegression as LR\n",
    "\n",
    "clf_LR_tf_lda = LR(penalty='l2',\n",
    "                   dual=False,\n",
    "                   tol=0.0001,\n",
    "                   C=1.0,\n",
    "                   fit_intercept=True,\n",
    "                   intercept_scaling=1,\n",
    "                   class_weight=None,\n",
    "                   random_state=0,\n",
    "                   solver='liblinear',\n",
    "                   max_iter=100,\n",
    "                   multi_class='ovr',\n",
    "                   verbose=0).fit(X_traincv_tf, y_traincv_tf)"
   ]
  },
  {
   "cell_type": "code",
   "execution_count": 89,
   "metadata": {},
   "outputs": [
    {
     "name": "stdout",
     "output_type": "stream",
     "text": [
      "0.7318\n"
     ]
    }
   ],
   "source": [
    "eval_LR_tf_lda = clf_LR_tf_lda.score(X_testcv_tf, y_testcv_tf)\n",
    "print(eval_LR_tf_lda)"
   ]
  },
  {
   "cell_type": "markdown",
   "metadata": {},
   "source": [
    "### Distributed Word Vectors\n",
    "\n",
    "https://www.kaggle.com/c/word2vec-nlp-tutorial/details/part-2-word-vectors  \n",
    "\n",
    "Introducing Distributed Word Vectors: This part of the tutorial will focus on using distributed word vectors created by the Word2Vec algorithm, using the Gensim implementation.  \n",
    "\n",
    "https://radimrehurek.com/gensim/models/word2vec.html  \n",
    "\n",
    "Word2vec, published by Google in 2013, is a neural network implementation that learns distributed representations for words. Other deep or recurrent neural network architectures had been proposed for learning word representations prior to this, but the major problem with these was the long time required to train the models. Word2vec learns quickly relative to other models.\n",
    "\n",
    "Word2Vec does not need labels in order to create meaningful representations. This is useful, since most data in the real world is unlabeled. If the network is given enough training data (tens of billions of words), it produces word vectors with intriguing characteristics. Words with similar meanings appear in clusters, and clusters are spaced such that some word relationships, such as analogies, can be reproduced using vector math. The famous example is that, with highly trained word vectors, \"king - man + woman = queen.\"\n",
    "\n",
    "Distributed word vectors are powerful and can be used for many applications, particularly word prediction and translation. Here, we will try to apply them to sentiment analysis.\n",
    "\n",
    "Using word2vec in Python: In Python, we will use the excellent implementation of word2vec from the gensim package. If you don't already have gensim installed, you'll need to install it. There is an excellent tutorial that accompanies the Python Word2Vec implementation, here.\n",
    "\n",
    "Although Word2Vec does not require graphics processing units (GPUs) like many deep learning algorithms, it is compute intensive. Both Google's version and the Python version rely on multi-threading (running multiple processes in parallel on your computer to save time). ln order to train your model in a reasonable amount of time, you will need to install cython (instructions here). Word2Vec will run without cython installed, but it will take days to run instead of minutes. "
   ]
  },
  {
   "cell_type": "markdown",
   "metadata": {},
   "source": [
    "#### Preparing to Train a Model\n",
    "\n",
    "We are going to use the whole set of sentences for training, the labeled and the unlabeled, which contains 50,000 additional reviews with no labels. When we built the Bag of Words model in Part 1, extra unlabeled training reviews were not useful. However, since Word2Vec can learn from unlabeled data, these extra 50,000 reviews can now be used.  \n",
    "\n",
    "To train Word2Vec it is better not to remove stop words because the algorithm relies on the broader context of the sentence in order to produce high-quality word vectors."
   ]
  },
  {
   "cell_type": "markdown",
   "metadata": {},
   "source": [
    "#### Training and Saving Your Model  \n",
    "\n",
    "With the list of nicely parsed sentences, we're ready to train the model. There are a number of parameter choices that affect the run time and the quality of the final model that is produced. For details on the algorithms below, see the word2vec API documentation as well as the Google documentation. \n",
    "\n",
    "Architecture: Architecture options are skip-gram (default) or continuous bag of words. We found that skip-gram was very slightly slower but produced better results.\n",
    "\n",
    "Training algorithm: Hierarchical softmax (default) or negative sampling. For us, the default worked well.\n",
    "\n",
    "Downsampling of frequent words: The Google documentation recommends values between .00001 and .001. For us, values closer 0.001 seemed to improve the accuracy of the final model.\n",
    "\n",
    "Word vector dimensionality: More features result in longer runtimes, and often, but not always, result in better models. Reasonable values can be in the tens to hundreds; we used 300.\n",
    "\n",
    "Context / window size: How many words of context should the training algorithm take into account? 10 seems to work well for hierarchical softmax (more is better, up to a point).\n",
    "\n",
    "Worker threads: Number of parallel processes to run. This is computer-specific, but between 4 and 6 should work on most systems.\n",
    "\n",
    "Minimum word count: This helps limit the size of the vocabulary to meaningful words. Any word that does not occur at least this many times across all documents is ignored. Reasonable values could be between 10 and 100. In this case, since each movie occurs 30 times, we set the minimum word count to 40, to avoid attaching too much importance to individual movie titles. This resulted in an overall vocabulary size of around 15,000 words. Higher values also help limit run time.\n",
    "\n",
    "Choosing parameters is not easy, but once we have chosen our parameters, creating a Word2Vec model is straightforward:"
   ]
  },
  {
   "cell_type": "code",
   "execution_count": 90,
   "metadata": {},
   "outputs": [],
   "source": [
    "# Import the built-in logging module and configure it so that Word2Vec creates nice output messages\n",
    "logging.basicConfig(format='%(asctime)s : %(levelname)s : %(message)s', level=logging.INFO)"
   ]
  },
  {
   "cell_type": "code",
   "execution_count": 91,
   "metadata": {},
   "outputs": [],
   "source": [
    "num_features = 300    # Word vector dimensionality\n",
    "min_word_count = 5   # Minimum word count\n",
    "num_workers = -1       # Number of threads to run in parallel\n",
    "context = 10          # Context window size\n",
    "downsampling = 1e-5   # Downsample setting for frequent words"
   ]
  },
  {
   "cell_type": "code",
   "execution_count": 92,
   "metadata": {
    "scrolled": true
   },
   "outputs": [
    {
     "name": "stderr",
     "output_type": "stream",
     "text": [
      "2018-04-25 10:39:19,926 : INFO : collecting all words and their counts\n",
      "2018-04-25 10:39:19,928 : INFO : PROGRESS: at sentence #0, processed 0 words, keeping 0 word types\n",
      "2018-04-25 10:39:20,599 : INFO : PROGRESS: at sentence #10000, processed 2228586 words, keeping 74969 word types\n",
      "2018-04-25 10:39:21,261 : INFO : PROGRESS: at sentence #20000, processed 4434587 words, keeping 110864 word types\n",
      "2018-04-25 10:39:21,868 : INFO : PROGRESS: at sentence #30000, processed 6632633 words, keeping 142823 word types\n",
      "2018-04-25 10:39:22,446 : INFO : PROGRESS: at sentence #40000, processed 8843751 words, keeping 171836 word types\n",
      "2018-04-25 10:39:23,047 : INFO : PROGRESS: at sentence #50000, processed 11083869 words, keeping 198432 word types\n",
      "2018-04-25 10:39:23,641 : INFO : PROGRESS: at sentence #60000, processed 13311069 words, keeping 222847 word types\n",
      "2018-04-25 10:39:24,236 : INFO : PROGRESS: at sentence #70000, processed 15517410 words, keeping 245574 word types\n",
      "2018-04-25 10:39:24,538 : INFO : collected 256645 word types from a corpus of 16627625 raw words and 75000 sentences\n",
      "2018-04-25 10:39:24,540 : INFO : Loading a fresh vocabulary\n",
      "2018-04-25 10:39:24,782 : INFO : min_count=5 retains 52830 unique words (20% of original 256645, drops 203815)\n",
      "2018-04-25 10:39:24,784 : INFO : min_count=5 leaves 16352274 word corpus (98% of original 16627625, drops 275351)\n",
      "2018-04-25 10:39:25,101 : INFO : deleting the raw counts dictionary of 256645 items\n",
      "2018-04-25 10:39:25,109 : INFO : sample=1e-05 downsamples 3075 most-common words\n",
      "2018-04-25 10:39:25,111 : INFO : downsampling leaves estimated 4510471 word corpus (27.6% of prior 16352274)\n",
      "2018-04-25 10:39:25,338 : INFO : estimated required memory for 52830 words and 300 dimensions: 153207000 bytes\n",
      "2018-04-25 10:39:25,339 : INFO : resetting layer weights\n",
      "2018-04-25 10:39:26,651 : INFO : training model with -1 workers on 52830 vocabulary and 300 features, using sg=0 hs=0 sample=1e-05 negative=5 window=10\n",
      "2018-04-25 10:39:26,657 : INFO : EPOCH - 1 : training on 0 raw words (0 effective words) took 0.0s, 0 effective words/s\n",
      "2018-04-25 10:39:26,705 : WARNING : EPOCH - 1 : supplied example count (0) did not equal expected count (75000)\n",
      "2018-04-25 10:39:26,783 : INFO : EPOCH - 2 : training on 0 raw words (0 effective words) took 0.0s, 0 effective words/s\n",
      "2018-04-25 10:39:26,805 : WARNING : EPOCH - 2 : supplied example count (0) did not equal expected count (75000)\n",
      "2018-04-25 10:39:26,848 : INFO : EPOCH - 3 : training on 0 raw words (0 effective words) took 0.0s, 0 effective words/s\n",
      "2018-04-25 10:39:27,051 : WARNING : EPOCH - 3 : supplied example count (0) did not equal expected count (75000)\n",
      "2018-04-25 10:39:27,130 : INFO : EPOCH - 4 : training on 0 raw words (0 effective words) took 0.0s, 0 effective words/s\n",
      "2018-04-25 10:39:27,200 : WARNING : EPOCH - 4 : supplied example count (0) did not equal expected count (75000)\n",
      "2018-04-25 10:39:27,305 : INFO : EPOCH - 5 : training on 0 raw words (0 effective words) took 0.0s, 0 effective words/s\n",
      "2018-04-25 10:39:27,338 : WARNING : EPOCH - 5 : supplied example count (0) did not equal expected count (75000)\n",
      "2018-04-25 10:39:27,395 : INFO : training on a 0 raw words (0 effective words) took 0.7s, 0 effective words/s\n"
     ]
    }
   ],
   "source": [
    "# Initialize and train the model (this will take some time)\n",
    "model = Word2Vec(all_sentences_sw,\n",
    "                 workers = num_workers,\n",
    "                 size = num_features,\n",
    "                 min_count = min_word_count, \n",
    "                 window = context,\n",
    "                 sample = downsampling,\n",
    "                 seed=1,)"
   ]
  },
  {
   "cell_type": "code",
   "execution_count": 93,
   "metadata": {
    "scrolled": true
   },
   "outputs": [
    {
     "name": "stderr",
     "output_type": "stream",
     "text": [
      "2018-04-25 10:39:27,530 : INFO : collecting all words and their counts\n",
      "2018-04-25 10:39:27,539 : INFO : PROGRESS: at sentence #0, processed 0 words and 0 word types\n",
      "2018-04-25 10:39:32,996 : INFO : PROGRESS: at sentence #10000, processed 2228586 words and 835332 word types\n",
      "2018-04-25 10:39:37,924 : INFO : PROGRESS: at sentence #20000, processed 4434587 words and 1392007 word types\n",
      "2018-04-25 10:39:42,918 : INFO : PROGRESS: at sentence #30000, processed 6632633 words and 1884563 word types\n",
      "2018-04-25 10:39:47,981 : INFO : PROGRESS: at sentence #40000, processed 8843751 words and 2341023 word types\n",
      "2018-04-25 10:39:53,037 : INFO : PROGRESS: at sentence #50000, processed 11083869 words and 2770663 word types\n",
      "2018-04-25 10:39:58,194 : INFO : PROGRESS: at sentence #60000, processed 13311069 words and 3169526 word types\n",
      "2018-04-25 10:40:03,095 : INFO : PROGRESS: at sentence #70000, processed 15517410 words and 3541604 word types\n",
      "2018-04-25 10:40:05,607 : INFO : collected 3722419 word types from a corpus of 16627625 words (unigram + bigrams) and 75000 sentences\n",
      "2018-04-25 10:40:05,608 : INFO : using 3722419 counts as vocab in Phrases<0 vocab, min_count=5, threshold=10.0, max_vocab_size=40000000>\n",
      "2018-04-25 10:40:05,609 : INFO : collecting all words and their counts\n",
      "2018-04-25 10:40:05,613 : INFO : PROGRESS: at sentence #0, processed 0 words, keeping 0 word types\n",
      "2018-04-25 10:40:20,223 : INFO : PROGRESS: at sentence #10000, processed 2088197 words, keeping 92630 word types\n",
      "2018-04-25 10:40:34,513 : INFO : PROGRESS: at sentence #20000, processed 4155139 words, keeping 132085 word types\n",
      "2018-04-25 10:40:48,808 : INFO : PROGRESS: at sentence #30000, processed 6214916 words, keeping 166343 word types\n",
      "2018-04-25 10:41:03,273 : INFO : PROGRESS: at sentence #40000, processed 8285847 words, keeping 196659 word types\n",
      "2018-04-25 10:41:17,833 : INFO : PROGRESS: at sentence #50000, processed 10384784 words, keeping 223833 word types\n",
      "2018-04-25 10:41:32,975 : INFO : PROGRESS: at sentence #60000, processed 12471603 words, keeping 248535 word types\n",
      "2018-04-25 10:41:47,626 : INFO : PROGRESS: at sentence #70000, processed 14538558 words, keeping 271408 word types\n",
      "2018-04-25 10:41:55,128 : INFO : collected 282543 word types from a corpus of 15578244 raw words and 75000 sentences\n",
      "2018-04-25 10:41:55,129 : INFO : Loading a fresh vocabulary\n",
      "2018-04-25 10:41:57,355 : INFO : min_count=5 retains 76350 unique words (27% of original 282543, drops 206193)\n",
      "2018-04-25 10:41:57,356 : INFO : min_count=5 leaves 15297357 word corpus (98% of original 15578244, drops 280887)\n",
      "2018-04-25 10:41:57,817 : INFO : deleting the raw counts dictionary of 282543 items\n",
      "2018-04-25 10:41:57,826 : INFO : sample=1e-05 downsamples 2930 most-common words\n",
      "2018-04-25 10:41:57,828 : INFO : downsampling leaves estimated 4600288 word corpus (30.1% of prior 15297357)\n",
      "2018-04-25 10:41:58,144 : INFO : estimated required memory for 76350 words and 300 dimensions: 221415000 bytes\n",
      "2018-04-25 10:41:58,145 : INFO : resetting layer weights\n",
      "2018-04-25 10:42:00,036 : INFO : training model with -1 workers on 76350 vocabulary and 300 features, using sg=0 hs=0 sample=1e-05 negative=5 window=10\n",
      "2018-04-25 10:42:00,043 : INFO : EPOCH - 1 : training on 0 raw words (0 effective words) took 0.0s, 0 effective words/s\n",
      "2018-04-25 10:42:00,080 : WARNING : EPOCH - 1 : supplied example count (0) did not equal expected count (75000)\n",
      "2018-04-25 10:42:00,153 : INFO : EPOCH - 2 : training on 0 raw words (0 effective words) took 0.0s, 0 effective words/s\n",
      "2018-04-25 10:42:00,242 : WARNING : EPOCH - 2 : supplied example count (0) did not equal expected count (75000)\n",
      "2018-04-25 10:42:00,346 : INFO : EPOCH - 3 : training on 0 raw words (0 effective words) took 0.0s, 0 effective words/s\n",
      "2018-04-25 10:42:00,608 : WARNING : EPOCH - 3 : supplied example count (0) did not equal expected count (75000)\n",
      "2018-04-25 10:42:00,712 : INFO : EPOCH - 4 : training on 0 raw words (0 effective words) took 0.0s, 0 effective words/s\n",
      "2018-04-25 10:42:00,744 : WARNING : EPOCH - 4 : supplied example count (0) did not equal expected count (75000)\n",
      "2018-04-25 10:42:00,875 : INFO : EPOCH - 5 : training on 0 raw words (0 effective words) took 0.0s, 0 effective words/s\n",
      "2018-04-25 10:42:01,124 : WARNING : EPOCH - 5 : supplied example count (0) did not equal expected count (75000)\n",
      "2018-04-25 10:42:01,136 : INFO : training on a 0 raw words (0 effective words) took 1.1s, 0 effective words/s\n"
     ]
    }
   ],
   "source": [
    "##Optionally converting the model for Bigrams (to capture more context):\n",
    "bigram_transformer = gensim.models.Phrases(all_sentences_sw)\n",
    "model = Word2Vec(bigram_transformer[all_sentences_sw],\n",
    "                 workers = num_workers,\n",
    "                 size = num_features,\n",
    "                 min_count = min_word_count, \n",
    "                 window = context,\n",
    "                 sample = downsampling,\n",
    "                 seed=1,)"
   ]
  },
  {
   "cell_type": "code",
   "execution_count": 94,
   "metadata": {},
   "outputs": [],
   "source": [
    "logging.getLogger('').setLevel(logging.ERROR)"
   ]
  },
  {
   "cell_type": "code",
   "execution_count": 95,
   "metadata": {},
   "outputs": [],
   "source": [
    "# If you don't plan to train the model any further, calling init_sims will make the model much more memory-efficient.\n",
    "model.init_sims(replace=True)"
   ]
  },
  {
   "cell_type": "markdown",
   "metadata": {},
   "source": [
    "Saving the Model"
   ]
  },
  {
   "cell_type": "code",
   "execution_count": 96,
   "metadata": {},
   "outputs": [
    {
     "name": "stderr",
     "output_type": "stream",
     "text": [
      "/usr/local/lib/python3.6/dist-packages/gensim/utils.py:598: DeprecationWarning: Call to deprecated `cum_table` (Attribute will be removed in 4.0.0, use self.vocabulary.cum_table instead).\n",
      "  if hasattr(self, attrib):\n",
      "/usr/local/lib/python3.6/dist-packages/gensim/utils.py:599: DeprecationWarning: Call to deprecated `cum_table` (Attribute will be removed in 4.0.0, use self.vocabulary.cum_table instead).\n",
      "  asides[attrib] = getattr(self, attrib)\n",
      "/usr/local/lib/python3.6/dist-packages/gensim/utils.py:600: DeprecationWarning: Call to deprecated `cum_table` (Attribute will be removed in 4.0.0, use self.vocabulary.cum_table instead).\n",
      "  delattr(self, attrib)\n",
      "/usr/local/lib/python3.6/dist-packages/gensim/utils.py:555: DeprecationWarning: Call to deprecated `cum_table` (Attribute will be removed in 4.0.0, use self.vocabulary.cum_table instead).\n",
      "  setattr(obj, attrib, val)\n",
      "/usr/local/lib/python3.6/dist-packages/gensim/utils.py:491: DeprecationWarning: Call to deprecated `cum_table` (Attribute will be removed in 4.0.0, use self.vocabulary.cum_table instead).\n",
      "  setattr(self, attrib, None)\n"
     ]
    }
   ],
   "source": [
    "model_name = \"{}features_{}minwords_{}context\".format(num_features, min_word_count, context)\n",
    "model.save(os.path.join(outputs,model_name))\n",
    "model = Word2Vec.load(os.path.join(outputs,model_name))"
   ]
  },
  {
   "cell_type": "markdown",
   "metadata": {},
   "source": [
    "Exploring the Model Results\n",
    "\n",
    "Congratulations on making it successfully through everything so far! Let's take a look at the model we created out of our 75,000 training reviews.\n",
    "\n",
    "The \"doesnt_match\" function will try to deduce which word in a set is most dissimilar from the others:"
   ]
  },
  {
   "cell_type": "code",
   "execution_count": 97,
   "metadata": {},
   "outputs": [
    {
     "name": "stdout",
     "output_type": "stream",
     "text": [
      "starship\n",
      "daughter\n",
      "england\n",
      "[('unstated', 0.2525094747543335), ('its_faults', 0.24261927604675293), ('kibbutz', 0.23223136365413666), ('self-involved', 0.22925564646720886), ('theseus', 0.2257918417453766), ('painfully_boring', 0.22340458631515503), ('french_kiss', 0.21865148842334747), ('alex_garland', 0.21824023127555847), ('remarks', 0.2158961296081543), ('squalid', 0.2157031148672104)]\n",
      "[('flik', 0.2637555003166199), ('ambassador', 0.25001153349876404), ('this.one', 0.24707438051700592), ('pang', 0.22967326641082764), ('emerges', 0.22394482791423798), ('complimented_by', 0.22150392830371857), ('brutally_raped', 0.2211511731147766), ('earliest_films', 0.21993957459926605), ('split_up', 0.21495288610458374), ('physical_prowess', 0.21293246746063232)]\n",
      "[('starlet', 0.2503204941749573), ('rockefeller', 0.2398776113986969), ('snickered', 0.2313074767589569), ('snider', 0.2292235791683197), ('mushed', 0.22576221823692322), ('omelette', 0.22422832250595093), ('somewhat', 0.22399377822875977), ('high_stakes', 0.22176799178123474), ('thomas_haden', 0.22165662050247192), ('clair', 0.21801476180553436)]\n"
     ]
    }
   ],
   "source": [
    "print(model.wv.doesnt_match(\"captain onion starship alien\".split()))\n",
    "print(model.wv.doesnt_match(\"father mother son daughter film\".split()))\n",
    "print(model.wv.doesnt_match(\"france england germany berlin\".split()))\n",
    "print(model.wv.most_similar(\"man\"))\n",
    "print(model.wv.most_similar(\"queen\"))\n",
    "print(model.wv.most_similar(\"awful\"))"
   ]
  },
  {
   "cell_type": "markdown",
   "metadata": {},
   "source": [
    "So it seems we have a reasonably good model for semantic meaning - at least as good as Bag of Words. But how can we use these fancy distributed word vectors for supervised learning? The next section takes a stab at that."
   ]
  },
  {
   "cell_type": "markdown",
   "metadata": {},
   "source": [
    "Part 3: More Fun With Word Vectors\n",
    "--\n",
    "\n",
    "https://www.kaggle.com/c/word2vec-nlp-tutorial/details/part-3-more-fun-with-word-vectors  \n",
    "\n",
    "Numeric Representations of Words\n",
    "\n",
    "Now that we have a trained model with some semantic understanding of words, how should we use it? If you look beneath the hood, the Word2Vec model trained in Part 2 consists of a feature vector for each word in the vocabulary, stored in a numpy array called \"syn0\":"
   ]
  },
  {
   "cell_type": "code",
   "execution_count": 98,
   "metadata": {},
   "outputs": [
    {
     "name": "stderr",
     "output_type": "stream",
     "text": [
      "/usr/local/lib/python3.6/dist-packages/gensim/utils.py:491: DeprecationWarning: Call to deprecated `cum_table` (Attribute will be removed in 4.0.0, use self.vocabulary.cum_table instead).\n",
      "  setattr(self, attrib, None)\n"
     ]
    }
   ],
   "source": [
    "model = Word2Vec.load(os.path.join(outputs,model_name))"
   ]
  },
  {
   "cell_type": "code",
   "execution_count": 99,
   "metadata": {},
   "outputs": [
    {
     "data": {
      "text/plain": [
       "(76350, 300)"
      ]
     },
     "execution_count": 99,
     "metadata": {},
     "output_type": "execute_result"
    }
   ],
   "source": [
    "model.wv.vectors.shape"
   ]
  },
  {
   "cell_type": "markdown",
   "metadata": {},
   "source": [
    "The number of rows in syn0 is the number of words in the model's vocabulary, and the number of columns corresponds to the size of the feature vector, which we set in Part 2.  Setting the minimum word count to 40 gave us a total vocabulary of 16,492 words with 300 features apiece. Individual word vectors can be accessed in the following way:"
   ]
  },
  {
   "cell_type": "code",
   "execution_count": 100,
   "metadata": {},
   "outputs": [
    {
     "data": {
      "text/plain": [
       "array([-0.07255277, -0.06244437, -0.04875043,  0.07368357, -0.01160758,\n",
       "       -0.01525409,  0.07074483,  0.09797433,  0.02024012, -0.01306842],\n",
       "      dtype=float32)"
      ]
     },
     "execution_count": 100,
     "metadata": {},
     "output_type": "execute_result"
    }
   ],
   "source": [
    "model.wv[\"flower\"][0:10]"
   ]
  },
  {
   "cell_type": "code",
   "execution_count": 101,
   "metadata": {},
   "outputs": [
    {
     "data": {
      "text/plain": [
       "['the', 'and', 'of', 'to', 'is', 'it', 'in', 'this', 'that', 'was']"
      ]
     },
     "execution_count": 101,
     "metadata": {},
     "output_type": "execute_result"
    }
   ],
   "source": [
    "model.wv.index2word[0:10]"
   ]
  },
  {
   "cell_type": "markdown",
   "metadata": {},
   "source": [
    "From Words To Paragraphs, \n",
    "--\n",
    "Attempt 1:  Vector Averaging  \n",
    "--\n",
    "\n",
    "One challenge with the IMDB dataset is the variable-length reviews. We need to find a way to take individual word vectors and transform them into a feature set that is the same length for every review.\n",
    "\n",
    "Since each word is a vector in 300-dimensional space, we can use vector operations to combine the words in each review. One method we tried was to simply average the word vectors in a given review (for this purpose, we removed stop words, which would just add noise).\n",
    "\n",
    "The following code averages the feature vectors, building on our code from Part 2. "
   ]
  },
  {
   "cell_type": "code",
   "execution_count": 121,
   "metadata": {},
   "outputs": [],
   "source": [
    "def makeFeatureVec(words, model, num_features):\n",
    "    # Function to average all of the word vectors in a given paragraph\n",
    "    # Pre-initialize an empty numpy array (for speed)\n",
    "    featureVec = np.zeros((num_features,),dtype=\"float32\")\n",
    "    nwords = 0.\n",
    "    # Index2word is a list that contains the names of the words in the model's vocabulary. \n",
    "    #Convert it to a set, for speed\n",
    "    index2word_set = set(model.wv.index2word)\n",
    "    # Loop over each word in the review and, if it is in the model's\n",
    "    # vocabulary, add its feature vector to the total\n",
    "    for word in words:\n",
    "        if word in index2word_set:\n",
    "            nwords = nwords + 1.\n",
    "            featureVec = np.add(featureVec,model.wv[word])\n",
    "    # Divide the result by the number of words to get the average\n",
    "    featureVec = np.divide(featureVec,nwords)\n",
    "    return featureVec"
   ]
  },
  {
   "cell_type": "code",
   "execution_count": 122,
   "metadata": {},
   "outputs": [],
   "source": [
    "def getAvgFeatureVecs(reviews, model, num_features):\n",
    "    # Given a set of reviews (each one a list of words), calculate\n",
    "    # the average feature vector for each one and return a 2D numpy array\n",
    "    # Initialize a counter\n",
    "    counter = 0.\n",
    "    # Preallocate a 2D numpy array, for speed\n",
    "    reviewFeatureVecs = np.zeros((len(reviews),num_features),dtype=\"float32\")\n",
    "    # Loop through the reviews\n",
    "    for review in reviews:\n",
    "        # Print a status message every 2000th review\n",
    "        if counter%2000. == 0.:\n",
    "            print(\"Review {} of {}\".format(counter, len(reviews)))\n",
    "        #Call the function (defined above) that makes average feature vectors\n",
    "        reviewFeatureVecs[int(counter)] = makeFeatureVec(review, model, num_features)\n",
    "        counter = counter + 1.\n",
    "    return reviewFeatureVecs"
   ]
  },
  {
   "cell_type": "markdown",
   "metadata": {},
   "source": [
    "Now, we can call these functions to create average vectors for each paragraph. The following operations will take a few minutes:  "
   ]
  },
  {
   "cell_type": "code",
   "execution_count": 123,
   "metadata": {},
   "outputs": [
    {
     "name": "stdout",
     "output_type": "stream",
     "text": [
      "Review 0.0 of 25000\n",
      "Review 2000.0 of 25000\n",
      "Review 4000.0 of 25000\n",
      "Review 6000.0 of 25000\n",
      "Review 8000.0 of 25000\n",
      "Review 10000.0 of 25000\n",
      "Review 12000.0 of 25000\n",
      "Review 14000.0 of 25000\n",
      "Review 16000.0 of 25000\n",
      "Review 18000.0 of 25000\n",
      "Review 20000.0 of 25000\n",
      "Review 22000.0 of 25000\n",
      "Review 24000.0 of 25000\n"
     ]
    }
   ],
   "source": [
    "# Calculate average feature vectors for training and testing sets, using the functions \n",
    "# we defined above. Notice that we now use stop word removal.\n",
    "trainDataVecs = getAvgFeatureVecs(labeled_sentences_sw, model, num_features)"
   ]
  },
  {
   "cell_type": "code",
   "execution_count": 124,
   "metadata": {},
   "outputs": [
    {
     "data": {
      "text/plain": [
       "array([ 0.00961453, -0.00603819,  0.00400655, -0.0041724 , -0.00481454,\n",
       "        0.00212053,  0.00396258, -0.00399791,  0.0040727 , -0.00245948],\n",
       "      dtype=float32)"
      ]
     },
     "execution_count": 124,
     "metadata": {},
     "output_type": "execute_result"
    }
   ],
   "source": [
    "trainDataVecs[100][0:10]"
   ]
  },
  {
   "cell_type": "markdown",
   "metadata": {},
   "source": [
    "Check for Nan values:  "
   ]
  },
  {
   "cell_type": "code",
   "execution_count": 125,
   "metadata": {},
   "outputs": [
    {
     "name": "stdout",
     "output_type": "stream",
     "text": [
      "False\n",
      "True\n"
     ]
    }
   ],
   "source": [
    "print(np.isnan(trainDataVecs).any()) #testando se não há valores que inviabilizam o treinamento\n",
    "print(np.isfinite(trainDataVecs).all())"
   ]
  },
  {
   "cell_type": "code",
   "execution_count": 126,
   "metadata": {},
   "outputs": [],
   "source": [
    "# If there are Nan values we can use inputer  \n",
    "from sklearn.preprocessing import Imputer\n",
    "trainDataVecs = Imputer().fit_transform(trainDataVecs)"
   ]
  },
  {
   "cell_type": "code",
   "execution_count": 127,
   "metadata": {},
   "outputs": [
    {
     "name": "stdout",
     "output_type": "stream",
     "text": [
      "False\n",
      "True\n"
     ]
    }
   ],
   "source": [
    "print(np.isnan(trainDataVecs).any()) #testando se não há valores que inviabilizam o treinamento\n",
    "print(np.isfinite(trainDataVecs).all())"
   ]
  },
  {
   "cell_type": "markdown",
   "metadata": {},
   "source": [
    "Next, use the average paragraph vectors with the classifiers from Part 1.  \n",
    "Note that, as in Part 1, we can only use the labeled training reviews to train the model. "
   ]
  },
  {
   "cell_type": "code",
   "execution_count": 128,
   "metadata": {},
   "outputs": [],
   "source": [
    "X_traincvWV, X_testcvWV, y_traincvWV, y_testcvWV = model_selection.train_test_split(trainDataVecs,\n",
    "                                                                                    train[\"sentiment\"],\n",
    "                                                                                    test_size=0.2,\n",
    "                                                                                    random_state=0)"
   ]
  },
  {
   "cell_type": "code",
   "execution_count": 129,
   "metadata": {},
   "outputs": [
    {
     "name": "stdout",
     "output_type": "stream",
     "text": [
      "0.709\n"
     ]
    }
   ],
   "source": [
    "# Initialize a Random Forest classifier with 300 trees\n",
    "from sklearn.ensemble import RandomForestClassifier\n",
    "\n",
    "clf_RF_WV = RandomForestClassifier(n_estimators=300, \n",
    "                                   criterion='gini', \n",
    "                                   max_depth=None, \n",
    "                                   min_samples_split=3, \n",
    "                                   min_samples_leaf=1, \n",
    "                                   min_weight_fraction_leaf=0.0, \n",
    "                                   max_features='auto', \n",
    "                                   max_leaf_nodes=None, \n",
    "                                   bootstrap=False, \n",
    "                                   oob_score=False, \n",
    "                                   n_jobs=-1, \n",
    "                                   random_state=None, \n",
    "                                   verbose=0, \n",
    "                                   warm_start=False, \n",
    "                                   class_weight=None).fit(X_traincvWV, y_traincvWV)\n",
    "\n",
    "eval_RF_WV_tts = clf_RF_WV.score(X_testcvWV, y_testcvWV)\n",
    "print(eval_RF_WV_tts)"
   ]
  },
  {
   "cell_type": "code",
   "execution_count": 130,
   "metadata": {},
   "outputs": [
    {
     "name": "stdout",
     "output_type": "stream",
     "text": [
      "0.7074\n"
     ]
    }
   ],
   "source": [
    "from sklearn.linear_model import LogisticRegression as LR\n",
    "\n",
    "clf_LR_WV = LR(penalty='l2',\n",
    "               dual=False,\n",
    "               tol=0.0001,\n",
    "               C=1.0,\n",
    "               fit_intercept=True,\n",
    "               intercept_scaling=1,\n",
    "               class_weight=None,\n",
    "               random_state=None,\n",
    "               solver='liblinear',\n",
    "               max_iter=100,\n",
    "               multi_class='ovr',\n",
    "               verbose=0).fit(X_traincvWV, y_traincvWV)\n",
    "\n",
    "eval_LR_WV_tts = clf_LR_WV.score(X_testcvWV, y_testcvWV)\n",
    "print(eval_LR_WV_tts)"
   ]
  },
  {
   "cell_type": "markdown",
   "metadata": {},
   "source": [
    "Creating a Submission  \n",
    "--"
   ]
  },
  {
   "cell_type": "code",
   "execution_count": 131,
   "metadata": {},
   "outputs": [
    {
     "name": "stdout",
     "output_type": "stream",
     "text": [
      "Review 0.0 of 25000\n",
      "Review 2000.0 of 25000\n",
      "Review 4000.0 of 25000\n",
      "Review 6000.0 of 25000\n",
      "Review 8000.0 of 25000\n",
      "Review 10000.0 of 25000\n",
      "Review 12000.0 of 25000\n",
      "Review 14000.0 of 25000\n",
      "Review 16000.0 of 25000\n",
      "Review 18000.0 of 25000\n",
      "Review 20000.0 of 25000\n",
      "Review 22000.0 of 25000\n",
      "Review 24000.0 of 25000\n"
     ]
    }
   ],
   "source": [
    "testDataVecs = getAvgFeatureVecs(test_labeled_sentences, model, num_features)"
   ]
  },
  {
   "cell_type": "code",
   "execution_count": 132,
   "metadata": {},
   "outputs": [
    {
     "name": "stdout",
     "output_type": "stream",
     "text": [
      "False\n",
      "True\n"
     ]
    }
   ],
   "source": [
    "print(np.isnan(testDataVecs).any()) #testando se não há valores que inviabilizam o treinamento\n",
    "print(np.isfinite(testDataVecs).all())"
   ]
  },
  {
   "cell_type": "code",
   "execution_count": 133,
   "metadata": {},
   "outputs": [
    {
     "name": "stdout",
     "output_type": "stream",
     "text": [
      "False\n",
      "True\n"
     ]
    }
   ],
   "source": [
    "from sklearn.preprocessing import Imputer\n",
    "testDataVecs = Imputer().fit_transform(testDataVecs)\n",
    "\n",
    "print(np.isnan(testDataVecs).any()) #testando se não há valores que inviabilizam o treinamento\n",
    "print(np.isfinite(testDataVecs).all())"
   ]
  },
  {
   "cell_type": "code",
   "execution_count": 134,
   "metadata": {},
   "outputs": [
    {
     "data": {
      "text/plain": [
       "array([ 0.00193894,  0.00023273,  0.00186479,  0.0063863 , -0.00759378,\n",
       "        0.01226516,  0.00888328,  0.00612978,  0.00078439, -0.00640281],\n",
       "      dtype=float32)"
      ]
     },
     "execution_count": 134,
     "metadata": {},
     "output_type": "execute_result"
    }
   ],
   "source": [
    "testDataVecs[0][0:10]"
   ]
  },
  {
   "cell_type": "code",
   "execution_count": 135,
   "metadata": {},
   "outputs": [
    {
     "name": "stdout",
     "output_type": "stream",
     "text": [
      "[0 0 0 0 0 1 0 0 0 0]\n",
      "[[0.53166667 0.46833333]\n",
      " [0.515      0.485     ]\n",
      " [0.5        0.5       ]\n",
      " [0.545      0.455     ]\n",
      " [0.50833333 0.49166667]\n",
      " [0.485      0.515     ]\n",
      " [0.58833333 0.41166667]\n",
      " [0.53       0.47      ]\n",
      " [0.54833333 0.45166667]\n",
      " [0.51       0.49      ]]\n"
     ]
    }
   ],
   "source": [
    "# Use the random forest to make sentiment label predictions\n",
    "result = clf_RF_WV.predict(testDataVecs)\n",
    "result_prob = clf_RF_WV.predict_proba(testDataVecs)\n",
    "print(result[0:10])\n",
    "print(result_prob[0:10])"
   ]
  },
  {
   "cell_type": "code",
   "execution_count": 136,
   "metadata": {},
   "outputs": [],
   "source": [
    "output = pd.DataFrame(data={\"id\":test[\"id\"], \"sentiment\":result,})# \"probs\":result_prob[:,1]})\n",
    "# Use pandas to write the comma-separated output file\n",
    "output.to_csv(os.path.join(outputs,'Word2Vec_AverageVectors.csv'), index=False, quoting=3)"
   ]
  },
  {
   "cell_type": "code",
   "execution_count": 137,
   "metadata": {},
   "outputs": [
    {
     "data": {
      "text/html": [
       "<div>\n",
       "<style scoped>\n",
       "    .dataframe tbody tr th:only-of-type {\n",
       "        vertical-align: middle;\n",
       "    }\n",
       "\n",
       "    .dataframe tbody tr th {\n",
       "        vertical-align: top;\n",
       "    }\n",
       "\n",
       "    .dataframe thead th {\n",
       "        text-align: right;\n",
       "    }\n",
       "</style>\n",
       "<table border=\"1\" class=\"dataframe\">\n",
       "  <thead>\n",
       "    <tr style=\"text-align: right;\">\n",
       "      <th></th>\n",
       "      <th>id</th>\n",
       "      <th>sentiment</th>\n",
       "    </tr>\n",
       "  </thead>\n",
       "  <tbody>\n",
       "    <tr>\n",
       "      <th>0</th>\n",
       "      <td>\"12311_10\"</td>\n",
       "      <td>0</td>\n",
       "    </tr>\n",
       "    <tr>\n",
       "      <th>1</th>\n",
       "      <td>\"8348_2\"</td>\n",
       "      <td>0</td>\n",
       "    </tr>\n",
       "    <tr>\n",
       "      <th>2</th>\n",
       "      <td>\"5828_4\"</td>\n",
       "      <td>0</td>\n",
       "    </tr>\n",
       "    <tr>\n",
       "      <th>3</th>\n",
       "      <td>\"7186_2\"</td>\n",
       "      <td>0</td>\n",
       "    </tr>\n",
       "    <tr>\n",
       "      <th>4</th>\n",
       "      <td>\"12128_7\"</td>\n",
       "      <td>0</td>\n",
       "    </tr>\n",
       "  </tbody>\n",
       "</table>\n",
       "</div>"
      ],
      "text/plain": [
       "           id  sentiment\n",
       "0  \"12311_10\"          0\n",
       "1    \"8348_2\"          0\n",
       "2    \"5828_4\"          0\n",
       "3    \"7186_2\"          0\n",
       "4   \"12128_7\"          0"
      ]
     },
     "execution_count": 137,
     "metadata": {},
     "output_type": "execute_result"
    }
   ],
   "source": [
    "output.head()"
   ]
  },
  {
   "cell_type": "markdown",
   "metadata": {},
   "source": [
    "We found that this produced results much better than chance, but underperformed Bag of Words by a few percentage points.\n",
    "\n",
    "Since the element-wise average of the vectors didn't produce spectacular results, perhaps we could do it in a more intelligent way? A standard way of weighting word vectors is to apply \"tf-idf\" weights, which measure how important a given word is within a given set of documents. One way to extract tf-idf weights in Python is by using scikit-learn's TfidfVectorizer, which has an interface similar to the CountVectorizer that we used in Part 1. However, when we tried weighting our word vectors in this way, we found no substantial improvement in performance."
   ]
  },
  {
   "cell_type": "markdown",
   "metadata": {},
   "source": [
    "From Words to Paragraphs, Attempt 2: Clustering \n",
    "--\n",
    "\n",
    "Word2Vec creates clusters of semantically related words, so another possible approach is to exploit the similarity of words within a cluster. Grouping vectors in this way is known as \"vector quantization.\" To accomplish this, we first need to find the centers of the word clusters, which we can do by using a clustering algorithm such as K-Means.\n",
    "\n",
    "In K-Means, the one parameter we need to set is \"K,\" or the number of clusters. How should we decide how many clusters to create? Trial and error suggested that small clusters, with an average of only 5 words or so per cluster, gave better results than large clusters with many words. Clustering code is given below. We use scikit-learn to perform our K-Means.\n",
    "\n",
    "K-Means clustering with large K can be very slow; the following code took more than 40 minutes on my computer. Below, we set a timer around the K-Means function to see how long it takes."
   ]
  },
  {
   "cell_type": "code",
   "execution_count": 138,
   "metadata": {},
   "outputs": [
    {
     "name": "stdout",
     "output_type": "stream",
     "text": [
      "(76350, 300)\n",
      "Initialization complete\n",
      "Initialization complete\n",
      "Initialization complete\n",
      "Initialization complete\n",
      "Initialization complete\n",
      "start iteration\n",
      "start iteration\n",
      "start iteration\n",
      "done sorting\n",
      "start iteration\n",
      "start iteration\n",
      "end inner loop\n",
      "done sorting\n",
      "end inner loop\n",
      "done sorting\n",
      "end inner loop\n",
      "done sorting\n",
      "end inner loop\n",
      "done sorting\n",
      "end inner loop\n",
      "Iteration 0, inertia 53453.668\n",
      "start iteration\n",
      "Iteration 0, inertia 53472.37\n",
      "start iteration\n",
      "done sorting\n",
      "Iteration 0, inertia 53467.46\n",
      "start iteration\n",
      "Iteration 0, inertia 53473.258\n",
      "done sorting\n",
      "start iteration\n",
      "Iteration 0, inertia 53456.664\n",
      "start iteration\n",
      "done sorting\n",
      "done sorting\n",
      "done sorting\n",
      "end inner loop\n",
      "Iteration 1, inertia 53453.668\n",
      "center shift 0.000000e+00 within tolerance 3.333267e-07\n",
      "end inner loop\n",
      "end inner loop\n",
      "end inner loop\n",
      "end inner loop\n",
      "Iteration 1, inertia 53472.37\n",
      "Iteration 1, inertia 53473.258\n",
      "center shift 0.000000e+00 within tolerance 3.333267e-07\n",
      "center shift 0.000000e+00 within tolerance 3.333267e-07\n",
      "Iteration 1, inertia 53467.46\n",
      "center shift 0.000000e+00 within tolerance 3.333267e-07\n",
      "Iteration 1, inertia 53456.664\n",
      "center shift 0.000000e+00 within tolerance 3.333267e-07\n",
      "CPU times: user 8.69 s, sys: 5.97 s, total: 14.7 s\n",
      "Wall time: 55min 38s\n"
     ]
    }
   ],
   "source": [
    "start = time.time()\n",
    "\n",
    "# Set \"k\" (num_clusters) to be 1/5th of the vocabulary size, or an average of 5 words per cluster\n",
    "word_vectors = model.wv.syn0\n",
    "print(word_vectors.shape)\n",
    "\n",
    "num_clusters = int(word_vectors.shape[0] / 5)\n",
    "\n",
    "# Initalize a k-means object and use it to extract centroids\n",
    "kmeans_clustering = KMeans(n_clusters = num_clusters,\n",
    "                           n_init=5,\n",
    "                           verbose=2,\n",
    "                           n_jobs=-2,\n",
    "                           random_state=0)\n",
    "\n",
    "idx = kmeans_clustering.fit_predict(word_vectors) # trimmed last line because of an error\n",
    "\n",
    "elapsed = time.time() - start\n",
    "print(\"Time taken for K Means clustering: \", elapsed, \"seconds.\")"
   ]
  },
  {
   "cell_type": "markdown",
   "metadata": {},
   "source": [
    "The cluster assignment for each word is now stored in idx, and the vocabulary from our original Word2Vec model is still stored in model.index2word. For convenience, we zip these into one dictionary as follows:  "
   ]
  },
  {
   "cell_type": "code",
   "execution_count": 139,
   "metadata": {},
   "outputs": [],
   "source": [
    "# Create a Word / Index dictionary, mapping each vocabulary word to a cluster number\n",
    "word_centroid_map = dict(zip(model.wv.index2word, idx))"
   ]
  },
  {
   "cell_type": "markdown",
   "metadata": {},
   "source": [
    "This is a little abstract, so let's take a closer look at what our clusters contain. Your clusters may differ, as Word2Vec relies on a random number seed. Here is a loop that prints out the words for clusters 0 through 9:\n",
    "\n",
    "Run k-means on the word vectors and print a few clusters  "
   ]
  },
  {
   "cell_type": "code",
   "execution_count": 140,
   "metadata": {},
   "outputs": [
    {
     "name": "stdout",
     "output_type": "stream",
     "text": [
      "\n",
      "Cluster 0\n",
      "['yell_at', 'wipes', 'indecision', 'cockiness']\n",
      "\n",
      "Cluster 1\n",
      "['exemplified', 'proficiency', 'poldi', 'family.this', 'reputedly']\n",
      "\n",
      "Cluster 2\n",
      "['small', 'finds_out', 'opposing', 'runner', 'in_cahoots', 'growled']\n",
      "\n",
      "Cluster 3\n",
      "['1968', 'reviewers_seem', 'braving']\n",
      "\n",
      "Cluster 4\n",
      "['no', 'using', 'retard', 'do.the', 'indecipherable', 'ranting_about']\n",
      "\n",
      "Cluster 5\n",
      "['valid', 'wanna-be', 'showings', 'no_exaggeration', 'sorel', 'psychological_profile', 'chides', 'openly_gator', 'happen.it']\n",
      "\n",
      "Cluster 6\n",
      "['hellgate', 'banished']\n",
      "\n",
      "Cluster 7\n",
      "['smouldering', 'rom', 'rudely_interrupted', 'gobbler']\n",
      "\n",
      "Cluster 8\n",
      "['talbot', 'baseball_game', 'hogs', 'vocalists']\n",
      "\n",
      "Cluster 9\n",
      "['ninja', 'incredibly_stupid', 'jonah', 'visually_beautiful', 'kasturba']\n"
     ]
    }
   ],
   "source": [
    "# Print the first ten clusters\n",
    "for cluster in range(0,10):\n",
    "    # Print the cluster number\n",
    "    print(\"\\nCluster {}\".format(cluster))\n",
    "    # Find all of the words for that cluster number, and print them out\n",
    "    words = []\n",
    "    for i in range(0,len(word_centroid_map.values())):\n",
    "        #print(len(word_centroid_map.values()))\n",
    "        #print(cluster)\n",
    "        #print(word_centroid_map.keys())\n",
    "        if(list(word_centroid_map.values())[i] == cluster):\n",
    "            words.append(list(word_centroid_map.keys())[i])\n",
    "    print(words)"
   ]
  },
  {
   "cell_type": "markdown",
   "metadata": {},
   "source": [
    "We can see that the clusters are of varying quality. Some make sense, some cointain mostly names, and some contain related adjectives. On the other hand, some are a little mystifying. Perhaps our algorithm works best on adjectives.\n",
    "\n",
    "At any rate, now we have a cluster (or \"centroid\") assignment for each word, and we can define a function to convert reviews into bags-of-centroids. This works just like Bag of Words but uses semantically related clusters instead of individual words:"
   ]
  },
  {
   "cell_type": "code",
   "execution_count": 141,
   "metadata": {},
   "outputs": [],
   "source": [
    "def create_bag_of_centroids(wordlist, word_centroid_map):\n",
    "    # The number of clusters is equal to the highest cluster index in the word / centroid map\n",
    "    num_centroids = max(word_centroid_map.values()) + 1\n",
    "    # Pre-allocate the bag of centroids vector (for speed)\n",
    "    bag_of_centroids = np.zeros(num_centroids, dtype=\"float32\")\n",
    "    # Loop over the words in the review. If the word is in the vocabulary,\n",
    "    # find which cluster it belongs to, and increment that cluster count by one\n",
    "    for word in wordlist:\n",
    "        if word in word_centroid_map:\n",
    "            index = word_centroid_map[word]\n",
    "            bag_of_centroids[index] += 1\n",
    "    return bag_of_centroids"
   ]
  },
  {
   "cell_type": "markdown",
   "metadata": {},
   "source": [
    "The function above will give us a numpy array for each review, each with a number of features equal to the number of clusters. Finally, we create bags of centroids for our training and test set, then train a random forest and extract results:"
   ]
  },
  {
   "cell_type": "code",
   "execution_count": 142,
   "metadata": {},
   "outputs": [],
   "source": [
    "# ****** Create bags of centroids\n",
    "\n",
    "# Pre-allocate an array for the training set bags of centroids (for speed)\n",
    "train_centroids = np.zeros((train[\"review\"].size, num_clusters), dtype=\"float32\")\n",
    "\n",
    "# Transform the training set reviews into bags of centroids\n",
    "counter = 0\n",
    "for review in clean_train_reviews:\n",
    "    train_centroids[counter] = create_bag_of_centroids(review, word_centroid_map)\n",
    "    counter += 1"
   ]
  },
  {
   "cell_type": "code",
   "execution_count": 144,
   "metadata": {},
   "outputs": [],
   "source": [
    "X_traincvCT, X_testcvCT, y_traincvCT, y_testcvCT = model_selection.train_test_split(train_centroids,\n",
    "                                                                                    train[\"sentiment\"],\n",
    "                                                                                    test_size=0.2,\n",
    "                                                                                    random_state=0)"
   ]
  },
  {
   "cell_type": "code",
   "execution_count": 145,
   "metadata": {},
   "outputs": [],
   "source": [
    "# Initialize a Random Forest classifier with 100 trees\n",
    "clf_RF_CT = RandomForestClassifier(n_estimators=100, \n",
    "                                   criterion='gini', \n",
    "                                   max_depth=None, \n",
    "                                   min_samples_split=2, \n",
    "                                   min_samples_leaf=1, \n",
    "                                   min_weight_fraction_leaf=0.0, \n",
    "                                   max_features='auto', \n",
    "                                   max_leaf_nodes=None, \n",
    "                                   bootstrap=True, \n",
    "                                   oob_score=False, \n",
    "                                   n_jobs=1, \n",
    "                                   random_state=None, \n",
    "                                   verbose=0, \n",
    "                                   warm_start=False, \n",
    "                                   class_weight=None).fit(X_traincvCT, y_traincvCT)"
   ]
  },
  {
   "cell_type": "code",
   "execution_count": 146,
   "metadata": {},
   "outputs": [
    {
     "name": "stdout",
     "output_type": "stream",
     "text": [
      "0.4904\n"
     ]
    }
   ],
   "source": [
    "eval_RF_CT_tts = clf_RF_CT.score(X_testcvCT, y_testcvCT)\n",
    "print(eval_RF_CT_tts)"
   ]
  },
  {
   "cell_type": "code",
   "execution_count": 147,
   "metadata": {},
   "outputs": [],
   "source": [
    "# Repeat for test reviews\n",
    "test_centroids = np.zeros((test[\"review\"].size, num_clusters), dtype=\"float32\")\n",
    "\n",
    "counter = 0\n",
    "for review in clean_test_reviews:\n",
    "    test_centroids[counter] = create_bag_of_centroids(review, word_centroid_map)\n",
    "    counter += 1"
   ]
  },
  {
   "cell_type": "code",
   "execution_count": 148,
   "metadata": {},
   "outputs": [
    {
     "name": "stdout",
     "output_type": "stream",
     "text": [
      "Wrote BagOfCentroids.csv\n"
     ]
    }
   ],
   "source": [
    "result = clf_RF_CT.predict(test_centroids)\n",
    "\n",
    "# Write the test results\n",
    "output = pd.DataFrame(data={\"id\":test[\"id\"], \"sentiment\":result})\n",
    "output.to_csv(os.path.join(outputs,\"BagOfCentroids.csv\"), index=False, quoting=3)\n",
    "print(\"Wrote BagOfCentroids.csv\")"
   ]
  },
  {
   "cell_type": "markdown",
   "metadata": {},
   "source": [
    "We found that the code above gives about the same (or slightly worse) results compared to the Bag of Words in Part 1."
   ]
  },
  {
   "cell_type": "markdown",
   "metadata": {},
   "source": [
    "Part 4: Comparing deep and non-deep learning methods\n",
    "--\n",
    "\n",
    "You may ask: Why is Bag of Words better?\n",
    "\n",
    "The biggest reason is, in our tutorial, averaging the vectors and using the centroids lose the order of words, making it very similar to the concept of Bag of Words. The fact that the performance is similar (within range of standard error) makes all three methods practically equivalent.  \n",
    "\n",
    "A few things to try:\n",
    "\n",
    "First, training Word2Vec on a lot more text should greatly improve performance. Google's results are based on word vectors that were learned out of more than a billion-word corpus; our labeled and unlabeled training sets together are only a measly 18 million words or so. Conveniently, Word2Vec provides functions to load any pre-trained model that is output by Google's original C tool, so it's also possible to train a model in C and then import it into Python.\n",
    "\n",
    "Second, in published literature, distributed word vector techniques have been shown to outperform Bag of Words models. In this paper, an algorithm called Paragraph Vector is used on the IMDB dataset to produce some of the most state-of-the-art results to date. In part, it does better than the approaches we try here because vector averaging and clustering lose the word order, whereas Paragraph Vectors preserves word order information."
   ]
  },
  {
   "cell_type": "markdown",
   "metadata": {},
   "source": [
    "What is Deep Learning?\n",
    "\n",
    "The term \"deep learning\" was coined in 2006, and refers to machine learning algorithms that have multiple non-linear layers and can learn feature hierarchies [1].\n",
    "\n",
    "Most modern machine learning relies on feature engineering or some level of domain knowledge to obtain good results. In deep learning systems, this is not the case -- instead, algorithms can automatically learn feature hierarchies, which represent objects in increasing levels of abstraction. Although the basic ingredients of many deep learning algorithms have been around for many years, they are currently increasing in popularity for many reasons, including advances in compute power, the falling cost of computing hardware, and advances in machine learning research.\n",
    "\n",
    "Deep learning algorithms can be categorized by their architecture (feed-forward, feed-back, or bi-directional) and training protocols (purely supervised, hybrid, or unsupervised) [2]. \n",
    "\n",
    "Some good background materials include:\n",
    "\n",
    "[1] \"Deep Learning for Signal and Information Processing\", by Li Deng and Dong Yu (out of Microsoft)\n",
    "\n",
    "[2] \"Deep Learning Tutorial\" (2013 Presentation by Yann LeCun and Marc'Aurelio Ranzato)\n",
    "\n",
    "Where Does Word2Vec Fit In?\n",
    "\n",
    "Word2Vec works in a way that is similar to deep approaches such as recurrent neural nets or deep neural nets, but it implements certain algorithms, such as hierarchical softmax, that make it computationally more efficient.  \n",
    "\n",
    "See Part 2 of this tutorial for more on Word2Vec, as well as this paper: Efficient Estimation of Word Representations in Vector Space\n",
    "\n",
    "In this tutorial, we use a hybrid approach to training -- consisting of an unsupervised piece (Word2Vec) followed by supervised learning (the Random Forest). \n",
    "\n",
    "Libraries and Packages \n",
    "\n",
    "The lists below should in no way be considered exhaustive.\n",
    "\n",
    "In Python:\n",
    "\n",
    "Theano offers very low-level, nuts and bolts functionality for building deep learning systems. You can also find some good tutorials on their site.  \n",
    "Caffe is a deep learning framework out of the Berkeley Vision and Learning Center.  \n",
    "Pylearn2 wraps Theano and seems slightly more user friendly.  \n",
    "OverFeat was used to win the Kaggle Cats and Dogs competition.  \n",
    "\n",
    "\n",
    "More Tutorials  \n",
    "The O'Reilly Blog has a series of deep learning articles and tutorials:  \n",
    "\n",
    "http://radar.oreilly.com/2014/07/what-is-deep-learning-and-why-should-you-care.html  \n",
    "http://radar.oreilly.com/2014/07/how-to-build-and-run-your-first-deep-learning-network.html  \n",
    "Webcast: How to Get Started with Deep Learning in Computer Vision  \n",
    "There are several tutorials using Theano as well.  \n",
    "\n",
    "If you want to dive into the weeds of creating a neural network from scratch, check out Geoffrey Hinton's Coursera course.\n",
    "\n",
    "For NLP, check out this recent lecture at Stanford: http://techtalks.tv/talks/deep-learning-for-nlp-without-magic-part-1/58414/  \n",
    "\n",
    "This free, online book also introduces neural nets for deep learning: http://neuralnetworksanddeeplearning.com/  "
   ]
  }
 ],
 "metadata": {
  "kernelspec": {
   "display_name": "Python 3",
   "language": "python",
   "name": "python3"
  },
  "language_info": {
   "codemirror_mode": {
    "name": "ipython",
    "version": 3
   },
   "file_extension": ".py",
   "mimetype": "text/x-python",
   "name": "python",
   "nbconvert_exporter": "python",
   "pygments_lexer": "ipython3",
   "version": "3.6.3"
  }
 },
 "nbformat": 4,
 "nbformat_minor": 2
}
