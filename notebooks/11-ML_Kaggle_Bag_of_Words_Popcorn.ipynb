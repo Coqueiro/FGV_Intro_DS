{
 "cells": [
  {
   "cell_type": "markdown",
   "metadata": {},
   "source": [
    "## Introduction to Data Science\n",
    "\n",
    "### Predictive Analysis - Textual data"
   ]
  },
  {
   "cell_type": "markdown",
   "metadata": {},
   "source": [
    "#### Text Vectorization Techniques\n",
    "#### Bag Of Words, Topic Modeling and Word2vec"
   ]
  },
  {
   "cell_type": "markdown",
   "metadata": {},
   "source": [
    "https://www.kaggle.com/c/word2vec-nlp-tutorial  \n",
    "https://github.com/wendykan/DeepLearningMovies  \n",
    "http://fastml.com/classifying-text-with-bag-of-words-a-tutorial/  \n",
    "\n",
    "\n",
    "In this tutorial competition, we dig a little \"deeper\" into sentiment analysis. Google's Word2Vec is a deep-learning inspired method that focuses on the meaning of words. Word2Vec attempts to understand meaning and semantic relationships among words. It works in a way that is similar to deep approaches, such as recurrent neural nets or deep neural nets, but is computationally more efficient. This tutorial focuses on Word2Vec for sentiment analysis.\n",
    "\n",
    "Sentiment analysis is a challenging subject in machine learning. People express their emotions in language that is often obscured by sarcasm, ambiguity, and plays on words, all of which could be very misleading for both humans and computers. There's another Kaggle competition for movie review sentiment analysis. In this tutorial we explore how Word2Vec can be applied to a similar problem.\n",
    "\n",
    "Deep learning has been in the news a lot over the past few years, even making it to the front page of the New York Times. These machine learning techniques, inspired by the architecture of the human brain and made possible by recent advances in computing power, have been making waves via breakthrough results in image recognition, speech processing, and natural language tasks. Recently, deep learning approaches won several Kaggle competitions, including a drug discovery task, and cat and dog image recognition."
   ]
  },
  {
   "cell_type": "markdown",
   "metadata": {},
   "source": [
    "#### Let's charge the batteries for our analysis..."
   ]
  },
  {
   "cell_type": "code",
   "execution_count": 1,
   "metadata": {},
   "outputs": [],
   "source": [
    "import os\n",
    "import sys\n",
    "import time\n",
    "import pickle\n",
    "from zipfile import ZipFile\n",
    "\n",
    "import string\n",
    "import re\n",
    "\n",
    "import logging\n",
    "import warnings\n",
    "\n",
    "import pandas as pd\n",
    "import numpy as np\n",
    "import pylab\n",
    "import matplotlib\n",
    "import matplotlib.pyplot as plt\n",
    "from matplotlib.font_manager import FontProperties\n",
    "\n",
    "import nltk\n",
    "import nltk.data\n",
    "from nltk.corpus import stopwords\n",
    "from nltk import word_tokenize\n",
    "from nltk.stem.porter import PorterStemmer\n",
    "\n",
    "from sklearn import model_selection\n",
    "from sklearn.feature_extraction.text import CountVectorizer\n",
    "from sklearn.feature_extraction.text import TfidfVectorizer \n",
    "from sklearn.cluster import KMeans\n",
    "from sklearn.metrics import roc_auc_score as AUC\n",
    "\n",
    "import gensim\n",
    "from gensim import corpora\n",
    "from gensim import models\n",
    "from gensim import similarities\n",
    "from gensim.models import Word2Vec\n",
    "\n",
    "from bs4 import BeautifulSoup\n",
    "\n",
    "%matplotlib inline"
   ]
  },
  {
   "cell_type": "code",
   "execution_count": 2,
   "metadata": {},
   "outputs": [],
   "source": [
    "warnings.filterwarnings('ignore')\n",
    "\n",
    "#logging.basicConfig(format='%(asctime)s : %(levelname)s : %(message)s', level=logging.INFO)"
   ]
  },
  {
   "cell_type": "markdown",
   "metadata": {},
   "source": [
    "Data Set  \n",
    "--\n",
    "\n",
    "The labeled data set consists of 50,000 IMDB movie reviews, specially selected for sentiment analysis. The sentiment of reviews is binary, meaning the IMDB rating < 5 results in a sentiment score of 0, and rating >=7 have a sentiment score of 1. No individual movie has more than 30 reviews. The 25,000 review labeled training set does not include any of the same movies as the 25,000 review test set. In addition, there are another 50,000 IMDB reviews provided without any rating labels.\n",
    "\n",
    "File descriptions\n",
    "\n",
    "labeledTrainData - The labeled training set. The file is tab-delimited and has a header row followed by 25,000 rows containing an id, sentiment, and text for each review.  \n",
    "\n",
    "testData - The test set. The tab-delimited file has a header row followed by 25,000 rows containing an id and text for each review. Your task is to predict the sentiment for each one. \n",
    "\n",
    "unlabeledTrainData - An extra training set with no labels. The tab-delimited file has a header row followed by 50,000 rows containing an id and text for each review. \n",
    "\n",
    "sampleSubmission - A comma-delimited sample submission file in the correct format.\n",
    "Data fields\n",
    "\n",
    "id - Unique ID of each review  \n",
    "sentiment - Sentiment of the review; 1 for positive reviews and 0 for negative reviews  \n",
    "review - Text of the review  "
   ]
  },
  {
   "cell_type": "markdown",
   "metadata": {},
   "source": [
    "Loading the dataset:  \n",
    "--"
   ]
  },
  {
   "cell_type": "code",
   "execution_count": 3,
   "metadata": {},
   "outputs": [],
   "source": [
    "datapath = \"../datasets/Kaggle/BOWPopcorn/\"\n",
    "outputs = \"../outputs/\""
   ]
  },
  {
   "cell_type": "code",
   "execution_count": 4,
   "metadata": {},
   "outputs": [],
   "source": [
    "train = pd.read_csv(os.path.join(datapath, 'BOW_labeledTrainData.tsv'), header=0, delimiter=\"\\t\", quoting=3)\n",
    "test = pd.read_csv(os.path.join(datapath, 'BOW_testData.tsv'), header=0, delimiter=\"\\t\", quoting=3)\n",
    "unlabeled_train = pd.read_csv(os.path.join(datapath, \"BOW_unlabeledTrainData.tsv\"), header=0, delimiter=\"\\t\", quoting=3)"
   ]
  },
  {
   "cell_type": "code",
   "execution_count": 5,
   "metadata": {},
   "outputs": [
    {
     "name": "stdout",
     "output_type": "stream",
     "text": [
      "Read 25000 labeled train reviews, 25000 labeled test reviews, and 50000 unlabeled reviews\n",
      "\n"
     ]
    }
   ],
   "source": [
    "print(\"Read {} labeled train reviews, \\\n",
    "{} labeled test reviews, and \\\n",
    "{} unlabeled reviews\\n\".format(train[\"review\"].size,\n",
    "                               test[\"review\"].size,\n",
    "                               unlabeled_train[\"review\"].size))"
   ]
  },
  {
   "cell_type": "code",
   "execution_count": 6,
   "metadata": {},
   "outputs": [
    {
     "data": {
      "text/html": [
       "<div>\n",
       "<style scoped>\n",
       "    .dataframe tbody tr th:only-of-type {\n",
       "        vertical-align: middle;\n",
       "    }\n",
       "\n",
       "    .dataframe tbody tr th {\n",
       "        vertical-align: top;\n",
       "    }\n",
       "\n",
       "    .dataframe thead th {\n",
       "        text-align: right;\n",
       "    }\n",
       "</style>\n",
       "<table border=\"1\" class=\"dataframe\">\n",
       "  <thead>\n",
       "    <tr style=\"text-align: right;\">\n",
       "      <th></th>\n",
       "      <th>id</th>\n",
       "      <th>sentiment</th>\n",
       "      <th>review</th>\n",
       "    </tr>\n",
       "  </thead>\n",
       "  <tbody>\n",
       "    <tr>\n",
       "      <th>0</th>\n",
       "      <td>\"5814_8\"</td>\n",
       "      <td>1</td>\n",
       "      <td>\"With all this stuff going down at the moment ...</td>\n",
       "    </tr>\n",
       "    <tr>\n",
       "      <th>1</th>\n",
       "      <td>\"2381_9\"</td>\n",
       "      <td>1</td>\n",
       "      <td>\"\\\"The Classic War of the Worlds\\\" by Timothy ...</td>\n",
       "    </tr>\n",
       "    <tr>\n",
       "      <th>2</th>\n",
       "      <td>\"7759_3\"</td>\n",
       "      <td>0</td>\n",
       "      <td>\"The film starts with a manager (Nicholas Bell...</td>\n",
       "    </tr>\n",
       "    <tr>\n",
       "      <th>3</th>\n",
       "      <td>\"3630_4\"</td>\n",
       "      <td>0</td>\n",
       "      <td>\"It must be assumed that those who praised thi...</td>\n",
       "    </tr>\n",
       "    <tr>\n",
       "      <th>4</th>\n",
       "      <td>\"9495_8\"</td>\n",
       "      <td>1</td>\n",
       "      <td>\"Superbly trashy and wondrously unpretentious ...</td>\n",
       "    </tr>\n",
       "  </tbody>\n",
       "</table>\n",
       "</div>"
      ],
      "text/plain": [
       "         id  sentiment                                             review\n",
       "0  \"5814_8\"          1  \"With all this stuff going down at the moment ...\n",
       "1  \"2381_9\"          1  \"\\\"The Classic War of the Worlds\\\" by Timothy ...\n",
       "2  \"7759_3\"          0  \"The film starts with a manager (Nicholas Bell...\n",
       "3  \"3630_4\"          0  \"It must be assumed that those who praised thi...\n",
       "4  \"9495_8\"          1  \"Superbly trashy and wondrously unpretentious ..."
      ]
     },
     "execution_count": 6,
     "metadata": {},
     "output_type": "execute_result"
    }
   ],
   "source": [
    "train.head()"
   ]
  },
  {
   "cell_type": "code",
   "execution_count": 7,
   "metadata": {},
   "outputs": [
    {
     "name": "stdout",
     "output_type": "stream",
     "text": [
      "<class 'pandas.core.frame.DataFrame'>\n",
      "RangeIndex: 25000 entries, 0 to 24999\n",
      "Data columns (total 3 columns):\n",
      "id           25000 non-null object\n",
      "sentiment    25000 non-null int64\n",
      "review       25000 non-null object\n",
      "dtypes: int64(1), object(2)\n",
      "memory usage: 586.0+ KB\n"
     ]
    }
   ],
   "source": [
    "train.info()"
   ]
  },
  {
   "cell_type": "code",
   "execution_count": 8,
   "metadata": {},
   "outputs": [
    {
     "data": {
      "text/html": [
       "<div>\n",
       "<style scoped>\n",
       "    .dataframe tbody tr th:only-of-type {\n",
       "        vertical-align: middle;\n",
       "    }\n",
       "\n",
       "    .dataframe tbody tr th {\n",
       "        vertical-align: top;\n",
       "    }\n",
       "\n",
       "    .dataframe thead th {\n",
       "        text-align: right;\n",
       "    }\n",
       "</style>\n",
       "<table border=\"1\" class=\"dataframe\">\n",
       "  <thead>\n",
       "    <tr style=\"text-align: right;\">\n",
       "      <th></th>\n",
       "      <th>sentiment</th>\n",
       "    </tr>\n",
       "  </thead>\n",
       "  <tbody>\n",
       "    <tr>\n",
       "      <th>count</th>\n",
       "      <td>25000.00000</td>\n",
       "    </tr>\n",
       "    <tr>\n",
       "      <th>mean</th>\n",
       "      <td>0.50000</td>\n",
       "    </tr>\n",
       "    <tr>\n",
       "      <th>std</th>\n",
       "      <td>0.50001</td>\n",
       "    </tr>\n",
       "    <tr>\n",
       "      <th>min</th>\n",
       "      <td>0.00000</td>\n",
       "    </tr>\n",
       "    <tr>\n",
       "      <th>25%</th>\n",
       "      <td>0.00000</td>\n",
       "    </tr>\n",
       "    <tr>\n",
       "      <th>50%</th>\n",
       "      <td>0.50000</td>\n",
       "    </tr>\n",
       "    <tr>\n",
       "      <th>75%</th>\n",
       "      <td>1.00000</td>\n",
       "    </tr>\n",
       "    <tr>\n",
       "      <th>max</th>\n",
       "      <td>1.00000</td>\n",
       "    </tr>\n",
       "  </tbody>\n",
       "</table>\n",
       "</div>"
      ],
      "text/plain": [
       "         sentiment\n",
       "count  25000.00000\n",
       "mean       0.50000\n",
       "std        0.50001\n",
       "min        0.00000\n",
       "25%        0.00000\n",
       "50%        0.50000\n",
       "75%        1.00000\n",
       "max        1.00000"
      ]
     },
     "execution_count": 8,
     "metadata": {},
     "output_type": "execute_result"
    }
   ],
   "source": [
    "train.describe()"
   ]
  },
  {
   "cell_type": "markdown",
   "metadata": {},
   "source": [
    "Part 1: For Beginners - Bag of Words\n",
    "--\n",
    "https://www.kaggle.com/c/word2vec-nlp-tutorial/details/part-1-for-beginners-bag-of-words  \n",
    "\n",
    "What is NLP?\n",
    "\n",
    "NLP (Natural Language Processing) is a set of techniques for approaching text problems. This page will help you get started with loading and cleaning the IMDB movie reviews, then applying a simple Bag of Words model to get surprisingly accurate predictions of whether a review is thumbs-up or thumbs-down."
   ]
  },
  {
   "cell_type": "code",
   "execution_count": 9,
   "metadata": {},
   "outputs": [],
   "source": [
    "class Text_Cleaning_Utilities(object):\n",
    "    \"\"\"Tools for processing text into segments for further learning\"\"\"\n",
    "\n",
    "    @staticmethod\n",
    "    def text_to_wordlist(text, \n",
    "                         remove_stopwords=False, \n",
    "                         remove_html=False, \n",
    "                         remove_non_letters=False, \n",
    "                         steeming=False):\n",
    "        '''Split a text into a list of words'''\n",
    "        #text = text.replace('-\\n','')\n",
    "        text = text.lower()\n",
    "        if remove_html:\n",
    "            text = BeautifulSoup(text, \"html5lib\").get_text()\n",
    "        if remove_non_letters:\n",
    "            text = re.sub(\"[^-A-Za-z0-9_]\", \" \", text)\n",
    "        list_words = word_tokenize(text)\n",
    "        list_words = [w.strip(string.punctuation) for w in list_words if w not in string.punctuation]\n",
    "        list_words = [w for w in list_words if len(w) > 1]\n",
    "        if remove_stopwords:\n",
    "            stops = set(stopwords.words(\"english\"))\n",
    "            list_words = [w for w in list_words if w not in stops]\n",
    "        if steeming:\n",
    "            stemmer = PorterStemmer()\n",
    "            list_words = [stemmer.stem(item) for item in list_words]\n",
    "        return list_words\n",
    "    \n",
    "    @staticmethod\n",
    "    def df_to_list_of_texts(dataframe, column, \n",
    "                            remove_stopwords=False, \n",
    "                            remove_html=False, \n",
    "                            remove_non_letters=False, \n",
    "                            steeming=False):\n",
    "        clean_texts = []\n",
    "        for txt_id in range(len(dataframe[column])):\n",
    "            clean_texts.append(' '.join(Text_Cleaning_Utilities.text_to_wordlist(dataframe[column][txt_id],\n",
    "                                                                                 remove_stopwords=remove_stopwords,\n",
    "                                                                                 remove_html=remove_html,\n",
    "                                                                                 remove_non_letters=remove_non_letters,\n",
    "                                                                                 steeming=steeming)))\n",
    "            \n",
    "        return clean_texts\n",
    "\n",
    "    @staticmethod\n",
    "    def df_to_list_of_tokens(dataframe, column, \n",
    "                             remove_stopwords=False, \n",
    "                             remove_html=False, \n",
    "                             remove_non_letters=False, \n",
    "                             steeming=False):\n",
    "        clean_texts = []\n",
    "        for txt_id in range(len(dataframe[column])):\n",
    "            clean_texts.append(Text_Cleaning_Utilities.text_to_wordlist(dataframe[column][txt_id],\n",
    "                                                                        remove_stopwords=remove_stopwords,\n",
    "                                                                        remove_html=remove_html,\n",
    "                                                                        remove_non_letters=remove_non_letters,\n",
    "                                                                        steeming=steeming))\n",
    "            \n",
    "        return clean_texts"
   ]
  },
  {
   "cell_type": "markdown",
   "metadata": {},
   "source": [
    "Cleaning all the datasets and getting word lists\n",
    "--\n",
    "first set is without stopwords"
   ]
  },
  {
   "cell_type": "code",
   "execution_count": 10,
   "metadata": {},
   "outputs": [],
   "source": [
    "clean_train_reviews = Text_Cleaning_Utilities.df_to_list_of_texts(train, \n",
    "                                                                  'review', \n",
    "                                                                  remove_stopwords=True,\n",
    "                                                                  remove_html=True,)\n",
    "clean_test_reviews = Text_Cleaning_Utilities.df_to_list_of_texts(test, \n",
    "                                                                 'review', \n",
    "                                                                 remove_stopwords=True,\n",
    "                                                                 remove_html=True,)"
   ]
  },
  {
   "cell_type": "code",
   "execution_count": 11,
   "metadata": {},
   "outputs": [
    {
     "data": {
      "text/plain": [
       "'stuff going moment mj started listening music watching odd documentary watched w'"
      ]
     },
     "execution_count": 11,
     "metadata": {},
     "output_type": "execute_result"
    }
   ],
   "source": [
    "clean_train_reviews[0][0:80]"
   ]
  },
  {
   "cell_type": "code",
   "execution_count": 12,
   "metadata": {},
   "outputs": [
    {
     "data": {
      "text/plain": [
       "'naturally film main themes mortality nostalgia loss innocence perhaps surprising'"
      ]
     },
     "execution_count": 12,
     "metadata": {},
     "output_type": "execute_result"
    }
   ],
   "source": [
    "clean_test_reviews[0][0:80]"
   ]
  },
  {
   "cell_type": "markdown",
   "metadata": {},
   "source": [
    "Second set mantains stopwords"
   ]
  },
  {
   "cell_type": "code",
   "execution_count": 13,
   "metadata": {},
   "outputs": [],
   "source": [
    "clean_train_reviews_sw = Text_Cleaning_Utilities.df_to_list_of_texts(train, \n",
    "                                                                     'review',\n",
    "                                                                     remove_html=True,)\n",
    "\n",
    "clean_test_reviews_sw = Text_Cleaning_Utilities.df_to_list_of_texts(test, \n",
    "                                                                    'review',\n",
    "                                                                    remove_html=True,)"
   ]
  },
  {
   "cell_type": "code",
   "execution_count": 14,
   "metadata": {},
   "outputs": [
    {
     "data": {
      "text/plain": [
       "'with all this stuff going down at the moment with mj ve started listening to his'"
      ]
     },
     "execution_count": 14,
     "metadata": {},
     "output_type": "execute_result"
    }
   ],
   "source": [
    "clean_train_reviews_sw[0][0:80]"
   ]
  },
  {
   "cell_type": "code",
   "execution_count": 15,
   "metadata": {},
   "outputs": [
    {
     "data": {
      "text/plain": [
       "'naturally in film who main themes are of mortality nostalgia and loss of innocen'"
      ]
     },
     "execution_count": 15,
     "metadata": {},
     "output_type": "execute_result"
    }
   ],
   "source": [
    "clean_test_reviews_sw[0][0:80]"
   ]
  },
  {
   "cell_type": "markdown",
   "metadata": {},
   "source": [
    "Saving Pickle"
   ]
  },
  {
   "cell_type": "code",
   "execution_count": 16,
   "metadata": {},
   "outputs": [],
   "source": [
    "with open(os.path.join(outputs, 'clean_reviews.pkl'),'wb') as f:\n",
    "    pickle.dump((clean_train_reviews, \n",
    "                 clean_test_reviews,\n",
    "                 clean_train_reviews_sw, \n",
    "                 clean_test_reviews_sw),f)"
   ]
  },
  {
   "cell_type": "markdown",
   "metadata": {},
   "source": [
    "Loading Pickle  "
   ]
  },
  {
   "cell_type": "code",
   "execution_count": 17,
   "metadata": {},
   "outputs": [],
   "source": [
    "with open(os.path.join(outputs, 'clean_reviews.pkl'),'rb') as f:\n",
    "    (clean_train_reviews, \n",
    "     clean_test_reviews,\n",
    "     clean_train_reviews_sw,\n",
    "     clean_test_reviews_sw) = pickle.load(f)"
   ]
  },
  {
   "cell_type": "markdown",
   "metadata": {},
   "source": [
    "Creating Features from a Bag of Words (Using scikit-learn)\n",
    "--\n",
    "\n",
    "Now that we have our training reviews tidied up, how do we convert them to some kind of numeric representation for machine learning? One common approach is called a Bag of Words. The Bag of Words model learns a vocabulary from all of the documents, then models each document by counting the number of times each word appears. For example, consider the following two sentences:\n",
    "\n",
    "Sentence 1: \"The cat sat on the hat\"  \n",
    "Sentence 2: \"The dog ate the cat and the hat\"  \n",
    "\n",
    "From these two sentences, our vocabulary is as follows:\n",
    "\n",
    "{ the, cat, sat, on, hat, dog, ate, and }\n",
    "\n",
    "To get our bags of words, we count the number of times each word occurs in each sentence. In Sentence 1, \"the\" appears twice, and \"cat\", \"sat\", \"on\", and \"hat\" each appear once, so the feature vector for Sentence 1 is:\n",
    "\n",
    "{ the, cat, sat, on, hat, dog, ate, and }\n",
    "\n",
    "Sentence 1: [ 2, 1, 1, 1, 1, 0, 0, 0 ]\n",
    "\n",
    "Similarly, the features for Sentence 2 are: [ 3, 1, 0, 0, 1, 1, 1, 1]\n",
    "\n",
    "In the IMDB data, we have a very large number of reviews, which will give us a large vocabulary. To limit the size of the feature vectors, we should choose some maximum vocabulary size. Below, we use the 5000 most frequent words (remembering that stop words have already been removed).\n",
    "\n",
    "We'll be using the feature_extraction module from scikit-learn to create bag-of-words features.  \n",
    "We will test two strategies: CountVectorizer (term frequecies - TF) and TFIDF Vectorizer:  \n",
    "First we'll start with plain word counts (TF):  "
   ]
  },
  {
   "cell_type": "code",
   "execution_count": 18,
   "metadata": {},
   "outputs": [],
   "source": [
    "# Initialize the \"CountVectorizer\" object, which is scikit-learn's bag of words tool.\n",
    "#http://scikit-learn.org/stable/modules/generated/sklearn.feature_extraction.text.CountVectorizer.html\n",
    "vectorizer_tf = CountVectorizer(input='content', \n",
    "                               encoding='utf-8', \n",
    "                               decode_error='strict', \n",
    "                               strip_accents=None, \n",
    "                               lowercase=True, \n",
    "                               preprocessor=None, \n",
    "                               tokenizer=None, \n",
    "                               stop_words=None, \n",
    "                               #token_pattern='(?u)\\b\\w\\w+\\b',\n",
    "                               ngram_range=(1, 2),\n",
    "                               analyzer='word', \n",
    "                               max_df=1.0, \n",
    "                               min_df=1, \n",
    "                               max_features=5000, \n",
    "                               vocabulary=None, \n",
    "                               binary=False, \n",
    "                               dtype=np.int64,\n",
    "                              )"
   ]
  },
  {
   "cell_type": "markdown",
   "metadata": {},
   "source": [
    "Fit_transform() does two functions: First, it fits the model and learns the vocabulary; \n",
    "second, it transforms our training data into feature vectors. \n",
    "The input to fit_transform should be a list of strings."
   ]
  },
  {
   "cell_type": "code",
   "execution_count": 19,
   "metadata": {},
   "outputs": [
    {
     "name": "stdout",
     "output_type": "stream",
     "text": [
      "(25000, 5000)\n"
     ]
    }
   ],
   "source": [
    "train_data_features_tf = vectorizer_tf.fit_transform(clean_train_reviews)\n",
    "train_data_features_tf = train_data_features_tf.toarray() # Numpy arrays are easy to work with\n",
    "print(train_data_features_tf.shape)"
   ]
  },
  {
   "cell_type": "code",
   "execution_count": 20,
   "metadata": {},
   "outputs": [
    {
     "name": "stdout",
     "output_type": "stream",
     "text": [
      "(25000, 5000)\n"
     ]
    }
   ],
   "source": [
    "test_data_features_tf = vectorizer_tf.fit_transform(clean_test_reviews)\n",
    "test_data_features_tf = test_data_features_tf.toarray() # Numpy arrays are easy to work with\n",
    "print(test_data_features_tf.shape)"
   ]
  },
  {
   "cell_type": "markdown",
   "metadata": {},
   "source": [
    "Now we are going to use TfIDf vectors and the train/test cleaned reviews with stopwords:"
   ]
  },
  {
   "cell_type": "code",
   "execution_count": 21,
   "metadata": {},
   "outputs": [],
   "source": [
    "#http://scikit-learn.org/stable/modules/generated/sklearn.feature_extraction.text.TfidfVectorizer.html\n",
    "#Another approach using TfIDf vectorizer and using the texts with stopwords in:\n",
    "#https://github.com/zygmuntz/classifying-text/blob/master/bow_predict.py \n",
    "vectorizer_tfidf = TfidfVectorizer(input='content',\n",
    "                                  #encoding='utf-8',\n",
    "                                  decode_error='strict',\n",
    "                                  strip_accents=None,\n",
    "                                  lowercase=True,\n",
    "                                  preprocessor=None,\n",
    "                                  tokenizer=None,\n",
    "                                  analyzer='word',\n",
    "                                  stop_words=None,\n",
    "                                  #token_pattern='(?u)\\b\\w\\w+\\b',\n",
    "                                  ngram_range=(1, 2),\n",
    "                                  max_df=1.0,\n",
    "                                  min_df=1,\n",
    "                                  max_features=5000,\n",
    "                                  vocabulary=None, \n",
    "                                  binary=False, \n",
    "                                  dtype=np.int64,\n",
    "                                  norm='l2',\n",
    "                                  use_idf=True,\n",
    "                                  smooth_idf=True,\n",
    "                                  sublinear_tf=True)"
   ]
  },
  {
   "cell_type": "code",
   "execution_count": 22,
   "metadata": {},
   "outputs": [
    {
     "name": "stdout",
     "output_type": "stream",
     "text": [
      "(25000, 5000)\n"
     ]
    }
   ],
   "source": [
    "train_data_features_tfidf = vectorizer_tfidf.fit_transform(clean_train_reviews_sw)\n",
    "train_data_features_tfidf = train_data_features_tfidf.toarray() # Numpy arrays are easy to work with\n",
    "print(train_data_features_tfidf.shape)"
   ]
  },
  {
   "cell_type": "code",
   "execution_count": 23,
   "metadata": {},
   "outputs": [
    {
     "name": "stdout",
     "output_type": "stream",
     "text": [
      "(25000, 5000)\n"
     ]
    }
   ],
   "source": [
    "test_data_features_tfidf = vectorizer_tfidf.fit_transform(clean_test_reviews_sw)\n",
    "test_data_features_tfidf = test_data_features_tfidf.toarray() # Numpy arrays are easy to work with\n",
    "print(test_data_features_tfidf.shape)"
   ]
  },
  {
   "cell_type": "markdown",
   "metadata": {},
   "source": [
    "Saving Pickle"
   ]
  },
  {
   "cell_type": "code",
   "execution_count": 24,
   "metadata": {},
   "outputs": [],
   "source": [
    "with open(os.path.join(outputs, 'train_test_data_features.pkl'),'wb') as f:\n",
    "    pickle.dump((train_data_features_tf, \n",
    "                 test_data_features_tf,\n",
    "                 train_data_features_tfidf,\n",
    "                 test_data_features_tfidf),f)"
   ]
  },
  {
   "cell_type": "markdown",
   "metadata": {},
   "source": [
    "Reading Pickle"
   ]
  },
  {
   "cell_type": "code",
   "execution_count": 25,
   "metadata": {},
   "outputs": [],
   "source": [
    "with open(os.path.join(outputs, 'train_test_data_features.pkl'),'rb') as f:\n",
    "    (train_data_features_tf, \n",
    "    test_data_features_tf,\n",
    "    train_data_features_tfidf,\n",
    "    test_data_features_tfidf) = pickle.load(f)"
   ]
  },
  {
   "cell_type": "markdown",
   "metadata": {},
   "source": [
    "Dividing Train set for Cross Validation  \n",
    "--"
   ]
  },
  {
   "cell_type": "markdown",
   "metadata": {},
   "source": [
    "https://github.com/zygmuntz/classifying-text/blob/master/bow_validate.py  \n",
    "Alternatively, we can use the indexes to divide the train samples  \n",
    "\n",
    "train_i, test_i = train_test_split(np.arange(len(train)), train_size = 0.8, random_state = 44)  \n",
    "\n",
    "After generating indexes, we can divide ou datasets:  \n",
    "traincv = train_data_features1[train_i]  \n",
    "testcv = train_data_features1[test_i]"
   ]
  },
  {
   "cell_type": "code",
   "execution_count": 26,
   "metadata": {},
   "outputs": [],
   "source": [
    "#Plain Word Counts\n",
    "X_traincv_tf, X_testcv_tf, y_traincv_tf, y_testcv_tf = model_selection.train_test_split(train_data_features_tf,\n",
    "                                                                                        train[\"sentiment\"],\n",
    "                                                                                        test_size=0.2,\n",
    "                                                                                        random_state=0)"
   ]
  },
  {
   "cell_type": "code",
   "execution_count": 27,
   "metadata": {},
   "outputs": [],
   "source": [
    "#TfIdf\n",
    "(X_traincv_tfidf, \n",
    " X_testcv_tfidf, \n",
    " y_traincv_tfidf, \n",
    " y_testcv_tfidf) = model_selection.train_test_split(train_data_features_tfidf,\n",
    "                                                    train[\"sentiment\"],\n",
    "                                                    test_size=0.2,\n",
    "                                                    random_state=0)"
   ]
  },
  {
   "cell_type": "markdown",
   "metadata": {},
   "source": [
    "Training some Classifiers  \n",
    "--"
   ]
  },
  {
   "cell_type": "markdown",
   "metadata": {},
   "source": [
    "At this point, we have numeric training features from the Bag of Words and the original sentiment labels for each feature vector, so let's do some supervised learning! Here, we'll use some classifiers implementations included in  the scikit-learn package."
   ]
  },
  {
   "cell_type": "markdown",
   "metadata": {},
   "source": [
    "#### Random Forest"
   ]
  },
  {
   "cell_type": "code",
   "execution_count": 28,
   "metadata": {},
   "outputs": [],
   "source": [
    "# Initialize a Random Forest classifier with 300 trees\n",
    "from sklearn.ensemble import RandomForestClassifier\n",
    "\n",
    "clf_RF_tf = RandomForestClassifier(n_estimators=300, \n",
    "                                   criterion='gini', \n",
    "                                   max_depth=None, \n",
    "                                   min_samples_split=2, \n",
    "                                   min_samples_leaf=1, \n",
    "                                   min_weight_fraction_leaf=0.0, \n",
    "                                   max_features='auto', \n",
    "                                   max_leaf_nodes=None, \n",
    "                                   bootstrap=False, \n",
    "                                   oob_score=False, \n",
    "                                   n_jobs=-1, \n",
    "                                   random_state=0, \n",
    "                                   verbose=0, \n",
    "                                   warm_start=False, \n",
    "                                   class_weight=None).fit(X_traincv_tf, y_traincv_tf)"
   ]
  },
  {
   "cell_type": "code",
   "execution_count": 29,
   "metadata": {},
   "outputs": [
    {
     "name": "stdout",
     "output_type": "stream",
     "text": [
      "0.8608\n"
     ]
    }
   ],
   "source": [
    "eval_RF_tf_tts = clf_RF_tf.score(X_testcv_tf, y_testcv_tf)\n",
    "print(eval_RF_tf_tts)"
   ]
  },
  {
   "cell_type": "code",
   "execution_count": 30,
   "metadata": {},
   "outputs": [
    {
     "data": {
      "text/plain": [
       "array([[0.45666667, 0.54333333],\n",
       "       [0.37333333, 0.62666667],\n",
       "       [0.35      , 0.65      ],\n",
       "       ...,\n",
       "       [0.32      , 0.68      ],\n",
       "       [0.81666667, 0.18333333],\n",
       "       [0.22666667, 0.77333333]])"
      ]
     },
     "execution_count": 30,
     "metadata": {},
     "output_type": "execute_result"
    }
   ],
   "source": [
    "clf_RF_tf.predict_proba(X_testcv_tf)"
   ]
  },
  {
   "cell_type": "markdown",
   "metadata": {},
   "source": [
    "Now we are going to train on the TfIdf samples:"
   ]
  },
  {
   "cell_type": "code",
   "execution_count": 31,
   "metadata": {},
   "outputs": [],
   "source": [
    "# Initialize a Random Forest classifier with 300 trees\n",
    "clf_RF_tfidf = RandomForestClassifier(n_estimators=300, \n",
    "                                      criterion='gini', \n",
    "                                      max_depth=None, \n",
    "                                      min_samples_split=2, \n",
    "                                      min_samples_leaf=1, \n",
    "                                      min_weight_fraction_leaf=0.0, \n",
    "                                      max_features='auto', \n",
    "                                      max_leaf_nodes=None, \n",
    "                                      bootstrap=False, \n",
    "                                      oob_score=False, \n",
    "                                      n_jobs=-1, \n",
    "                                      random_state=0, \n",
    "                                      verbose=0, \n",
    "                                      warm_start=False, \n",
    "                                      class_weight=None).fit(X_traincv_tfidf, y_traincv_tfidf)"
   ]
  },
  {
   "cell_type": "code",
   "execution_count": 32,
   "metadata": {},
   "outputs": [
    {
     "name": "stdout",
     "output_type": "stream",
     "text": [
      "0.8536\n"
     ]
    }
   ],
   "source": [
    "eval_RF_tfidf_tts = clf_RF_tfidf.score(X_testcv_tfidf, y_testcv_tfidf)\n",
    "print(eval_RF_tfidf_tts)"
   ]
  },
  {
   "cell_type": "code",
   "execution_count": 33,
   "metadata": {},
   "outputs": [
    {
     "data": {
      "text/plain": [
       "array([[0.42333333, 0.57666667],\n",
       "       [0.36666667, 0.63333333],\n",
       "       [0.33      , 0.67      ],\n",
       "       ...,\n",
       "       [0.25666667, 0.74333333],\n",
       "       [0.75333333, 0.24666667],\n",
       "       [0.33      , 0.67      ]])"
      ]
     },
     "execution_count": 33,
     "metadata": {},
     "output_type": "execute_result"
    }
   ],
   "source": [
    "clf_RF_tfidf.predict_proba(X_testcv_tfidf)"
   ]
  },
  {
   "cell_type": "markdown",
   "metadata": {},
   "source": [
    "#### Logistic Regression  "
   ]
  },
  {
   "cell_type": "code",
   "execution_count": 34,
   "metadata": {},
   "outputs": [],
   "source": [
    "#http://scikit-learn.org/stable/modules/generated/sklearn.linear_model.LogisticRegression.html\n",
    "from sklearn.linear_model import LogisticRegression as LR\n",
    "\n",
    "clf_LR_tf = LR(penalty='l2',\n",
    "               dual=False,\n",
    "               tol=0.0001,\n",
    "               C=1.0,\n",
    "               fit_intercept=True,\n",
    "               intercept_scaling=1,\n",
    "               class_weight=None,\n",
    "               random_state=0,\n",
    "               solver='liblinear',\n",
    "               max_iter=100,\n",
    "               multi_class='ovr',\n",
    "               verbose=0).fit(X_traincv_tf, y_traincv_tf)"
   ]
  },
  {
   "cell_type": "code",
   "execution_count": 35,
   "metadata": {},
   "outputs": [
    {
     "name": "stdout",
     "output_type": "stream",
     "text": [
      "0.8518\n"
     ]
    }
   ],
   "source": [
    "eval_LR_tf_tts = clf_LR_tf.score(X_testcv_tf, y_testcv_tf)\n",
    "print(eval_LR_tf_tts)"
   ]
  },
  {
   "cell_type": "code",
   "execution_count": 36,
   "metadata": {},
   "outputs": [],
   "source": [
    "clf_LR_tfidf = LR(penalty='l2',\n",
    "                  dual=False,\n",
    "                  tol=0.0001,\n",
    "                  C=1.0,\n",
    "                  fit_intercept=True,\n",
    "                  intercept_scaling=1,\n",
    "                  class_weight=None,\n",
    "                  random_state=0,\n",
    "                  solver='liblinear',\n",
    "                  max_iter=100,\n",
    "                  multi_class='ovr',\n",
    "                  verbose=0).fit(X_traincv_tfidf, y_traincv_tfidf)"
   ]
  },
  {
   "cell_type": "code",
   "execution_count": 37,
   "metadata": {},
   "outputs": [
    {
     "name": "stdout",
     "output_type": "stream",
     "text": [
      "0.8926\n"
     ]
    }
   ],
   "source": [
    "eval_LR_tfidf_tts = clf_LR_tfidf.score(X_testcv_tfidf, y_testcv_tfidf)\n",
    "print(eval_LR_tfidf_tts)"
   ]
  },
  {
   "cell_type": "markdown",
   "metadata": {},
   "source": [
    "#### Gradient Boost Classifier  "
   ]
  },
  {
   "cell_type": "code",
   "execution_count": 39,
   "metadata": {},
   "outputs": [],
   "source": [
    "#http://scikit-learn.org/stable/modules/generated/sklearn.ensemble.GradientBoostingClassifier.html\n",
    "from sklearn.ensemble import GradientBoostingClassifier\n",
    "\n",
    "clf_GBC_tf = GradientBoostingClassifier(loss='deviance',\n",
    "                                        learning_rate=0.1,\n",
    "                                        n_estimators=300,\n",
    "                                        subsample=1.0,\n",
    "                                        min_samples_split=2,\n",
    "                                        min_samples_leaf=1,\n",
    "                                        min_weight_fraction_leaf=0.0,\n",
    "                                        max_depth=3,\n",
    "                                        init=None,\n",
    "                                        random_state=0,\n",
    "                                        max_features=None,\n",
    "                                        verbose=0,\n",
    "                                        max_leaf_nodes=None,\n",
    "                                        warm_start=False,\n",
    "                                        presort='auto').fit(X_traincv_tf, y_traincv_tf)\n",
    "\n"
   ]
  },
  {
   "cell_type": "code",
   "execution_count": 40,
   "metadata": {},
   "outputs": [
    {
     "name": "stdout",
     "output_type": "stream",
     "text": [
      "0.8518\n"
     ]
    }
   ],
   "source": [
    "eval_GBC_tf_tts = clf_GBC_tf.score(X_testcv_tf, y_testcv_tf)\n",
    "print(eval_GBC_tf_tts)"
   ]
  },
  {
   "cell_type": "code",
   "execution_count": 41,
   "metadata": {},
   "outputs": [],
   "source": [
    "clf_GBC_tfidf = GradientBoostingClassifier(loss='deviance',\n",
    "                                           learning_rate=0.1,\n",
    "                                           n_estimators=100,\n",
    "                                           subsample=1.0,\n",
    "                                           min_samples_split=2,\n",
    "                                           min_samples_leaf=1,\n",
    "                                           min_weight_fraction_leaf=0.0,\n",
    "                                           max_depth=3,\n",
    "                                           init=None,\n",
    "                                           random_state=0,\n",
    "                                           max_features=None,\n",
    "                                           verbose=0,\n",
    "                                           max_leaf_nodes=None,\n",
    "                                           warm_start=False,\n",
    "                                           presort='auto').fit(X_traincv_tfidf, y_traincv_tfidf)"
   ]
  },
  {
   "cell_type": "code",
   "execution_count": 42,
   "metadata": {},
   "outputs": [
    {
     "name": "stdout",
     "output_type": "stream",
     "text": [
      "0.8128\n"
     ]
    }
   ],
   "source": [
    "eval_GBC_tfidf_tts = clf_GBC_tfidf.score(X_testcv_tfidf, y_testcv_tfidf)\n",
    "print(eval_GBC_tfidf_tts)"
   ]
  },
  {
   "cell_type": "code",
   "execution_count": 43,
   "metadata": {},
   "outputs": [],
   "source": [
    "from rgf.sklearn import RGFClassifier, FastRGFClassifier\n",
    "\n",
    "clf_RGF_tf = RGFClassifier(max_leaf=240,\n",
    "                           algorithm=\"RGF_Sib\",\n",
    "                           test_interval=100,\n",
    "                           verbose=False,).fit(X_traincv_tf, y_traincv_tf)"
   ]
  },
  {
   "cell_type": "code",
   "execution_count": 44,
   "metadata": {},
   "outputs": [
    {
     "name": "stdout",
     "output_type": "stream",
     "text": [
      "0.814\n"
     ]
    }
   ],
   "source": [
    "eval_RGF_tf_tts = clf_RGF_tf.score(X_testcv_tf, y_testcv_tf)\n",
    "print(eval_RGF_tf_tts)"
   ]
  },
  {
   "cell_type": "code",
   "execution_count": 45,
   "metadata": {},
   "outputs": [],
   "source": [
    "clf_RGF_tfidf = RGFClassifier(max_leaf=240,\n",
    "                              algorithm=\"RGF_Sib\",\n",
    "                              test_interval=100,\n",
    "                              verbose=False,).fit(X_traincv_tfidf, y_traincv_tfidf)"
   ]
  },
  {
   "cell_type": "code",
   "execution_count": 46,
   "metadata": {},
   "outputs": [
    {
     "name": "stdout",
     "output_type": "stream",
     "text": [
      "0.8112\n"
     ]
    }
   ],
   "source": [
    "eval_RGF_tfidf_tts = clf_RGF_tfidf.score(X_testcv_tfidf, y_testcv_tfidf)\n",
    "print(eval_RGF_tfidf_tts)"
   ]
  },
  {
   "cell_type": "markdown",
   "metadata": {},
   "source": [
    "#### Let's do some voting"
   ]
  },
  {
   "cell_type": "code",
   "execution_count": 48,
   "metadata": {},
   "outputs": [],
   "source": [
    "# http://scikit-learn.org/stable/modules/generated/sklearn.ensemble.VotingClassifier.html\n",
    "from sklearn.ensemble import VotingClassifier\n",
    "\n",
    "clf_vot_tf = VotingClassifier(estimators=[('rf', clf_RF_tf),\n",
    "                                          ('lr', clf_LR_tf),\n",
    "                                          ('gbc', clf_GBC_tf),\n",
    "                                          ('rgf', clf_RGF_tf)], voting='soft').fit(X_traincv_tf, y_traincv_tf)"
   ]
  },
  {
   "cell_type": "code",
   "execution_count": 49,
   "metadata": {},
   "outputs": [
    {
     "name": "stdout",
     "output_type": "stream",
     "text": [
      "0.87\n"
     ]
    }
   ],
   "source": [
    "eval_vot_tf_tts = clf_vot_tf.score(X_testcv_tf, y_testcv_tf)\n",
    "print(eval_vot_tf_tts)"
   ]
  },
  {
   "cell_type": "code",
   "execution_count": 50,
   "metadata": {},
   "outputs": [],
   "source": [
    "clf_vot_tfidf = VotingClassifier(estimators=[('rf', clf_RF_tfidf),\n",
    "                                             ('lr', clf_LR_tfidf),\n",
    "                                             ('gbc', clf_GBC_tfidf),\n",
    "                                             ('rgf', clf_GBC_tfidf)], voting='soft').fit(X_traincv_tfidf, y_traincv_tfidf)"
   ]
  },
  {
   "cell_type": "code",
   "execution_count": 51,
   "metadata": {},
   "outputs": [
    {
     "name": "stdout",
     "output_type": "stream",
     "text": [
      "0.8678\n"
     ]
    }
   ],
   "source": [
    "eval_vot_tfidf_tts = clf_vot_tfidf.score(X_testcv_tfidf, y_testcv_tfidf)\n",
    "print(eval_vot_tfidf_tts)"
   ]
  },
  {
   "cell_type": "markdown",
   "metadata": {},
   "source": [
    "Saving the trained classifiers"
   ]
  },
  {
   "cell_type": "code",
   "execution_count": 54,
   "metadata": {},
   "outputs": [],
   "source": [
    "with open(os.path.join(outputs, 'classifiers.pkl'),'wb') as f:\n",
    "    pickle.dump((clf_RF_tf, eval_RF_tf_tts,\n",
    "                 clf_RF_tfidf, eval_RF_tfidf_tts,\n",
    "                 clf_LR_tf, eval_LR_tf_tts,\n",
    "                 clf_LR_tfidf, eval_LR_tfidf_tts,                \n",
    "                 clf_GBC_tf, eval_GBC_tf_tts,\n",
    "                 clf_GBC_tfidf, eval_GBC_tfidf_tts,\n",
    "                 clf_RGF_tf, eval_RGF_tf_tts,\n",
    "                 clf_RGF_tfidf, eval_RGF_tfidf_tts,\n",
    "                 clf_vot_tf, eval_vot_tf_tts,\n",
    "                 clf_vot_tfidf, eval_vot_tfidf_tts),f)"
   ]
  },
  {
   "cell_type": "markdown",
   "metadata": {},
   "source": [
    "Loading the classifiers from Pickle"
   ]
  },
  {
   "cell_type": "code",
   "execution_count": 55,
   "metadata": {},
   "outputs": [],
   "source": [
    "with open(os.path.join(outputs, 'classifiers.pkl'),'rb') as f:\n",
    "    (clf_RF_tf, eval_RF_tf_tts,\n",
    "     clf_RF_tfidf, eval_RF_tfidf_tts,\n",
    "     clf_LR_tf, eval_LR_tf_tts,\n",
    "     clf_LR_tfidf, eval_LR_tfidf_tts,                \n",
    "     clf_GBC_tf, eval_GBC_tf_tts,\n",
    "     clf_GBC_tfidf, eval_GBC_tfidf_tts,\n",
    "     clf_RGF_tf, eval_RGF_tf_tts,\n",
    "     clf_RGF_tfidf, eval_RGF_tfidf_tts,\n",
    "     clf_vot_tf, eval_vot_tf_tts,\n",
    "     clf_vot_tfidf, eval_vot_tfidf_tts) = pickle.load(f)"
   ]
  },
  {
   "cell_type": "code",
   "execution_count": 56,
   "metadata": {},
   "outputs": [
    {
     "data": {
      "image/png": "[encoded data removed]",
      "text/plain": [
       "<Figure size 864x576 with 1 Axes>"
      ]
     },
     "metadata": {},
     "output_type": "display_data"
    }
   ],
   "source": [
    "dic_results = {'RandomForest_TF': eval_RF_tf_tts,\n",
    "               'RandomForest_TFIDF': eval_RF_tfidf_tts,\n",
    "               'LogiReg_TF': eval_LR_tf_tts,\n",
    "               'LogiReg_TFIDF': eval_LR_tfidf_tts,\n",
    "               'GradBoost_TF': eval_GBC_tf_tts,\n",
    "               'GradBoost_TFIDF': eval_GBC_tfidf_tts,\n",
    "               'RGF_TF': eval_GBC_tf_tts,\n",
    "               'RGF_TFIDF': eval_GBC_tfidf_tts,\n",
    "               'Voting_TF': eval_vot_tf_tts,\n",
    "               'Voting_TFIDF': eval_vot_tfidf_tts,\n",
    "              }\n",
    "\n",
    "import operator\n",
    "tup_results = sorted(dic_results.items(), key=operator.itemgetter(1))\n",
    "\n",
    "N = len(dic_results)\n",
    "ind = np.arange(N)  # the x locations for the groups\n",
    "width = 0.40       # the width of the bars\n",
    "\n",
    "fig = plt.figure(figsize=(12,8))\n",
    "ax = fig.add_subplot(111)\n",
    "rects = ax.bar(ind, list(zip(*tup_results))[1], width,)\n",
    "for rect in rects:\n",
    "    height = rect.get_height()\n",
    "    ax.text(rect.get_x()+rect.get_width()/2., \n",
    "            1.005*height, \n",
    "            '{0:.4f}'.format(height), \n",
    "            ha='center', \n",
    "            va='bottom',)\n",
    "\n",
    "ax.set_ylabel('Scores')\n",
    "ax.set_ylim(ymin=0.78,ymax = 0.92)\n",
    "ax.set_title(\"Classificators' performance\")\n",
    "ax.set_xticks(ind + width/2.)\n",
    "ax.set_xticklabels(list(zip(*tup_results))[0], rotation=45)\n",
    "\n",
    "plt.show()"
   ]
  },
  {
   "cell_type": "markdown",
   "metadata": {},
   "source": [
    "Creating a Submission  \n",
    "--\n",
    "\n",
    "All that remains is to run the best classifier on our test set and create a submission file. If you haven't already done so, download testData.tsv from the Data page. This file contains another 25,000 reviews and ids; our task is to predict the sentiment label.\n",
    "\n",
    "Note that when we use the Bag of Words for the test set, we only call \"transform\", not \"fit_transform\" as we did for the training set. In machine learning, you shouldn't use the test set to fit your model, otherwise you run the risk of overfitting. For this reason, we keep the test set off-limits until we are ready to make predictions."
   ]
  },
  {
   "cell_type": "code",
   "execution_count": 57,
   "metadata": {},
   "outputs": [
    {
     "name": "stdout",
     "output_type": "stream",
     "text": [
      "<class 'pandas.core.frame.DataFrame'>\n",
      "RangeIndex: 25000 entries, 0 to 24999\n",
      "Data columns (total 2 columns):\n",
      "id        25000 non-null object\n",
      "review    25000 non-null object\n",
      "dtypes: object(2)\n",
      "memory usage: 390.7+ KB\n"
     ]
    }
   ],
   "source": [
    "test.info()"
   ]
  },
  {
   "cell_type": "code",
   "execution_count": 58,
   "metadata": {},
   "outputs": [
    {
     "data": {
      "text/html": [
       "<div>\n",
       "<style scoped>\n",
       "    .dataframe tbody tr th:only-of-type {\n",
       "        vertical-align: middle;\n",
       "    }\n",
       "\n",
       "    .dataframe tbody tr th {\n",
       "        vertical-align: top;\n",
       "    }\n",
       "\n",
       "    .dataframe thead th {\n",
       "        text-align: right;\n",
       "    }\n",
       "</style>\n",
       "<table border=\"1\" class=\"dataframe\">\n",
       "  <thead>\n",
       "    <tr style=\"text-align: right;\">\n",
       "      <th></th>\n",
       "      <th>id</th>\n",
       "      <th>review</th>\n",
       "    </tr>\n",
       "  </thead>\n",
       "  <tbody>\n",
       "    <tr>\n",
       "      <th>0</th>\n",
       "      <td>\"12311_10\"</td>\n",
       "      <td>\"Naturally in a film who's main themes are of ...</td>\n",
       "    </tr>\n",
       "    <tr>\n",
       "      <th>1</th>\n",
       "      <td>\"8348_2\"</td>\n",
       "      <td>\"This movie is a disaster within a disaster fi...</td>\n",
       "    </tr>\n",
       "    <tr>\n",
       "      <th>2</th>\n",
       "      <td>\"5828_4\"</td>\n",
       "      <td>\"All in all, this is a movie for kids. We saw ...</td>\n",
       "    </tr>\n",
       "    <tr>\n",
       "      <th>3</th>\n",
       "      <td>\"7186_2\"</td>\n",
       "      <td>\"Afraid of the Dark left me with the impressio...</td>\n",
       "    </tr>\n",
       "    <tr>\n",
       "      <th>4</th>\n",
       "      <td>\"12128_7\"</td>\n",
       "      <td>\"A very accurate depiction of small time mob l...</td>\n",
       "    </tr>\n",
       "  </tbody>\n",
       "</table>\n",
       "</div>"
      ],
      "text/plain": [
       "           id                                             review\n",
       "0  \"12311_10\"  \"Naturally in a film who's main themes are of ...\n",
       "1    \"8348_2\"  \"This movie is a disaster within a disaster fi...\n",
       "2    \"5828_4\"  \"All in all, this is a movie for kids. We saw ...\n",
       "3    \"7186_2\"  \"Afraid of the Dark left me with the impressio...\n",
       "4   \"12128_7\"  \"A very accurate depiction of small time mob l..."
      ]
     },
     "execution_count": 58,
     "metadata": {},
     "output_type": "execute_result"
    }
   ],
   "source": [
    "test.head()"
   ]
  },
  {
   "cell_type": "code",
   "execution_count": 59,
   "metadata": {},
   "outputs": [
    {
     "data": {
      "text/plain": [
       "(25000, 5000)"
      ]
     },
     "execution_count": 59,
     "metadata": {},
     "output_type": "execute_result"
    }
   ],
   "source": [
    "test_data_features_tfidf.shape"
   ]
  },
  {
   "cell_type": "code",
   "execution_count": 60,
   "metadata": {},
   "outputs": [],
   "source": [
    "# Use the logistic regression with tfidf vectors to make sentiment label predictions\n",
    "result = clf_LR_tfidf.predict(test_data_features_tfidf)\n",
    "result_prob = clf_LR_tfidf.predict_proba(test_data_features_tfidf)\n",
    "output = pd.DataFrame(data={\"id\":test[\"id\"], \"sentiment\":result,})# \"probs\":result_prob[:,1]})\n",
    "# Use pandas to write the comma-separated output file\n",
    "output.to_csv(os.path.join(outputs,'LR_tfidf_model.csv'), index=False, quoting=3)"
   ]
  },
  {
   "cell_type": "code",
   "execution_count": 61,
   "metadata": {},
   "outputs": [
    {
     "data": {
      "text/html": [
       "<div>\n",
       "<style scoped>\n",
       "    .dataframe tbody tr th:only-of-type {\n",
       "        vertical-align: middle;\n",
       "    }\n",
       "\n",
       "    .dataframe tbody tr th {\n",
       "        vertical-align: top;\n",
       "    }\n",
       "\n",
       "    .dataframe thead th {\n",
       "        text-align: right;\n",
       "    }\n",
       "</style>\n",
       "<table border=\"1\" class=\"dataframe\">\n",
       "  <thead>\n",
       "    <tr style=\"text-align: right;\">\n",
       "      <th></th>\n",
       "      <th>id</th>\n",
       "      <th>sentiment</th>\n",
       "    </tr>\n",
       "  </thead>\n",
       "  <tbody>\n",
       "    <tr>\n",
       "      <th>0</th>\n",
       "      <td>\"12311_10\"</td>\n",
       "      <td>0</td>\n",
       "    </tr>\n",
       "    <tr>\n",
       "      <th>1</th>\n",
       "      <td>\"8348_2\"</td>\n",
       "      <td>0</td>\n",
       "    </tr>\n",
       "    <tr>\n",
       "      <th>2</th>\n",
       "      <td>\"5828_4\"</td>\n",
       "      <td>0</td>\n",
       "    </tr>\n",
       "    <tr>\n",
       "      <th>3</th>\n",
       "      <td>\"7186_2\"</td>\n",
       "      <td>0</td>\n",
       "    </tr>\n",
       "    <tr>\n",
       "      <th>4</th>\n",
       "      <td>\"12128_7\"</td>\n",
       "      <td>0</td>\n",
       "    </tr>\n",
       "  </tbody>\n",
       "</table>\n",
       "</div>"
      ],
      "text/plain": [
       "           id  sentiment\n",
       "0  \"12311_10\"          0\n",
       "1    \"8348_2\"          0\n",
       "2    \"5828_4\"          0\n",
       "3    \"7186_2\"          0\n",
       "4   \"12128_7\"          0"
      ]
     },
     "execution_count": 61,
     "metadata": {},
     "output_type": "execute_result"
    }
   ],
   "source": [
    "output.head()"
   ]
  },
  {
   "cell_type": "markdown",
   "metadata": {},
   "source": [
    "Part 2: Alternative Vectors\n",
    "--\n",
    "\n",
    "In the subsequent sections, we are going to explore alternate ways to codify text into vectors. We are going to explore three techniques, namely Latent Semantic Indexing (LSI), Latent Dirichlet Allocation (LDA) and Word2vec."
   ]
  },
  {
   "cell_type": "markdown",
   "metadata": {},
   "source": [
    "### Topic Modeling and Topic Vectors"
   ]
  },
  {
   "cell_type": "markdown",
   "metadata": {},
   "source": [
    "To build the models, the more we have texts, the better. The size of the Corpus is essential for having good results. We don't need labels in order to create the models, so we will use the train examples and also some unlabeled reviews. The list of cleaned sentences will be used for all the subsequent models."
   ]
  },
  {
   "cell_type": "code",
   "execution_count": 62,
   "metadata": {},
   "outputs": [
    {
     "name": "stdout",
     "output_type": "stream",
     "text": [
      "Parsing sentences from training set\n",
      "Parsing sentences from unlabeled set\n",
      "Parsing sentences from test set\n",
      "Parsing sentences with stopwords from training set\n",
      "Parsing sentences with stopwords from unlabeled set\n",
      "Parsing sentences with stopwords from test set\n"
     ]
    }
   ],
   "source": [
    "print(\"Parsing sentences from training set\")\n",
    "labeled_sentences = Text_Cleaning_Utilities.df_to_list_of_tokens(train,\n",
    "                                                                 'review', \n",
    "                                                                 remove_html=True,\n",
    "                                                                 remove_stopwords=True,)\n",
    "print(\"Parsing sentences from unlabeled set\")\n",
    "all_sentences = labeled_sentences + Text_Cleaning_Utilities.df_to_list_of_tokens(unlabeled_train,\n",
    "                                                                                 'review', \n",
    "                                                                                 remove_html=True,\n",
    "                                                                                 remove_stopwords=True,)\n",
    "\n",
    "print(\"Parsing sentences from test set\")\n",
    "test_labeled_sentences = Text_Cleaning_Utilities.df_to_list_of_tokens(test,\n",
    "                                                                      'review', \n",
    "                                                                      remove_html=True,\n",
    "                                                                      remove_stopwords=True,)\n",
    "\n",
    "print(\"Parsing sentences with stopwords from training set\")\n",
    "labeled_sentences_sw = Text_Cleaning_Utilities.df_to_list_of_tokens(train,\n",
    "                                                                    'review', \n",
    "                                                                    remove_html=True,\n",
    "                                                                    remove_stopwords=False,)\n",
    "\n",
    "print(\"Parsing sentences with stopwords from unlabeled set\")\n",
    "all_sentences_sw = labeled_sentences_sw + Text_Cleaning_Utilities.df_to_list_of_tokens(unlabeled_train,\n",
    "                                                                                       'review', \n",
    "                                                                                       remove_html=True,\n",
    "                                                                                       remove_stopwords=False,)\n",
    "\n",
    "print(\"Parsing sentences with stopwords from test set\")\n",
    "test_labeled_sentences_sw = Text_Cleaning_Utilities.df_to_list_of_tokens(test,\n",
    "                                                                         'review', \n",
    "                                                                         remove_html=True,\n",
    "                                                                         remove_stopwords=False,)"
   ]
  },
  {
   "cell_type": "code",
   "execution_count": 63,
   "metadata": {},
   "outputs": [
    {
     "name": "stdout",
     "output_type": "stream",
     "text": [
      "25000\n",
      "75000\n",
      "25000\n",
      "25000\n",
      "75000\n",
      "25000\n"
     ]
    }
   ],
   "source": [
    "print(len(labeled_sentences))\n",
    "print(len(all_sentences))\n",
    "print(len(test_labeled_sentences))\n",
    "print(len(labeled_sentences_sw))\n",
    "print(len(all_sentences_sw))\n",
    "print(len(test_labeled_sentences_sw))"
   ]
  },
  {
   "cell_type": "markdown",
   "metadata": {},
   "source": [
    "Saving sentences to a Pickle"
   ]
  },
  {
   "cell_type": "code",
   "execution_count": 64,
   "metadata": {},
   "outputs": [],
   "source": [
    "with open(os.path.join(outputs, 'sentences.pkl'),'wb') as f:\n",
    "    pickle.dump((labeled_sentences,\n",
    "                 all_sentences,\n",
    "                 test_labeled_sentences,\n",
    "                 labeled_sentences_sw,\n",
    "                 all_sentences_sw,\n",
    "                 test_labeled_sentences_sw,), f)"
   ]
  },
  {
   "cell_type": "markdown",
   "metadata": {},
   "source": [
    "Loading sentences from a Pickle"
   ]
  },
  {
   "cell_type": "code",
   "execution_count": 65,
   "metadata": {},
   "outputs": [],
   "source": [
    "with open(os.path.join(outputs, 'sentences.pkl'),'rb') as f:\n",
    "    (labeled_sentences,\n",
    "     all_sentences,\n",
    "     test_labeled_sentences,\n",
    "     labeled_sentences_sw,\n",
    "     all_sentences_sw,\n",
    "     test_labeled_sentences_sw,) = pickle.load(f)"
   ]
  },
  {
   "cell_type": "code",
   "execution_count": 66,
   "metadata": {},
   "outputs": [],
   "source": [
    "def nltk_stopwords():\n",
    "    return set(nltk.corpus.stopwords.words('english'))\n",
    "\n",
    "def prep_corpus(docs, additional_stopwords=set(), no_below=4, no_above=0.7):\n",
    "    print('Building dictionary...')\n",
    "    dictionary = corpora.Dictionary(docs)\n",
    "    print('{} Tokens extracted from {} texts'.format(len(dictionary.keys()), dictionary.num_docs))\n",
    "    stopwords = nltk_stopwords().union(additional_stopwords)\n",
    "    #stopword_ids = [dictionary.token2id[sw] for sw in stopwords if sw in dictionary.token2id]\n",
    "    stopword_ids = map(dictionary.token2id.get, stopwords)\n",
    "    dictionary.filter_tokens(stopword_ids)\n",
    "    #low_freq_ids = [tokenid for tokenid, docfreq in dictionary.dfs.items() if docfreq < 4]\n",
    "    #dictionary.filter_tokens(low_freq_ids)\n",
    "    dictionary.filter_extremes(no_below=no_below, no_above=no_above, keep_n=None)\n",
    "    dictionary.compactify()\n",
    "    print('{} Tokens after cleaning'.format(len(dictionary.keys())))\n",
    "    #print('Building corpus...')\n",
    "    #corpus = [dictionary.doc2bow(doc) for doc in docs]\n",
    "    return dictionary #, corpus"
   ]
  },
  {
   "cell_type": "markdown",
   "metadata": {},
   "source": [
    "Compacting and saving the dictionary"
   ]
  },
  {
   "cell_type": "code",
   "execution_count": 67,
   "metadata": {},
   "outputs": [
    {
     "name": "stdout",
     "output_type": "stream",
     "text": [
      "Building dictionary...\n",
      "256506 Tokens extracted from 75000 texts\n",
      "56367 Tokens after cleaning\n",
      "dictionary done\n",
      "dictionary saved\n"
     ]
    }
   ],
   "source": [
    "additional_stopwords=set(['n\\'t', 'movie'])\n",
    "\n",
    "dictionary = prep_corpus(all_sentences, additional_stopwords)\n",
    "dictionary.compactify()\n",
    "print('dictionary done')\n",
    "\n",
    "dictionary.save(os.path.join(outputs, 'reviews.dict'))\n",
    "print('dictionary saved')"
   ]
  },
  {
   "cell_type": "code",
   "execution_count": 68,
   "metadata": {},
   "outputs": [
    {
     "name": "stdout",
     "output_type": "stream",
     "text": [
      "81\n"
     ]
    }
   ],
   "source": [
    "#print(dictionary.token2id['movie']) #verify if these words were in the stopwords list\n",
    "#print(dictionary.token2id['n\\'t'])\n",
    "print(dictionary.token2id['like'])"
   ]
  },
  {
   "cell_type": "markdown",
   "metadata": {},
   "source": [
    "Loading dictionary"
   ]
  },
  {
   "cell_type": "code",
   "execution_count": 69,
   "metadata": {},
   "outputs": [],
   "source": [
    "dictionary = corpora.dictionary.Dictionary.load(os.path.join(outputs, 'reviews.dict'))"
   ]
  },
  {
   "cell_type": "markdown",
   "metadata": {},
   "source": [
    "Generating the Corpora (tf and tfidf"
   ]
  },
  {
   "cell_type": "code",
   "execution_count": 70,
   "metadata": {},
   "outputs": [
    {
     "name": "stdout",
     "output_type": "stream",
     "text": [
      "corpus tf done\n",
      "corpus tfidf done\n"
     ]
    }
   ],
   "source": [
    "corpus_tf = [dictionary.doc2bow(sentence) for sentence in all_sentences]\n",
    "print('corpus tf done')\n",
    "tfidf = models.TfidfModel(corpus_tf)\n",
    "corpus_tfidf = tfidf[corpus_tf]\n",
    "print('corpus tfidf done')"
   ]
  },
  {
   "cell_type": "markdown",
   "metadata": {},
   "source": [
    "Saving the Corpora"
   ]
  },
  {
   "cell_type": "code",
   "execution_count": 71,
   "metadata": {},
   "outputs": [],
   "source": [
    "corpora.MmCorpus.serialize(os.path.join(outputs, 'corpus_tf.mm'), corpus_tf)\n",
    "corpora.MmCorpus.serialize(os.path.join(outputs, 'corpus_tfidf.mm'), corpus_tfidf)"
   ]
  },
  {
   "cell_type": "markdown",
   "metadata": {},
   "source": [
    "Loading the Corpora"
   ]
  },
  {
   "cell_type": "code",
   "execution_count": 72,
   "metadata": {},
   "outputs": [],
   "source": [
    "corpus_tf = corpora.MmCorpus(os.path.join(outputs, 'corpus_tf.mm'))\n",
    "corpus_tfidf = corpora.MmCorpus(os.path.join(outputs, 'corpus_tfidf.mm'))"
   ]
  },
  {
   "cell_type": "markdown",
   "metadata": {},
   "source": [
    "### Latent Semantic Indexing\n",
    "https://en.wikipedia.org/wiki/Latent_semantic_analysis  "
   ]
  },
  {
   "cell_type": "markdown",
   "metadata": {},
   "source": [
    "Generating the Models and the Corpora"
   ]
  },
  {
   "cell_type": "code",
   "execution_count": 73,
   "metadata": {},
   "outputs": [
    {
     "name": "stdout",
     "output_type": "stream",
     "text": [
      "corpus lsi - TF done\n",
      "corpus lsi - TFIDF done\n"
     ]
    }
   ],
   "source": [
    "lsi_tf = models.LsiModel(corpus_tf, id2word=dictionary, num_topics=10)\n",
    "corpus_lsi_tf = lsi_tf[corpus_tf]\n",
    "print('corpus lsi - TF done')\n",
    "lsi_tfidf = models.LsiModel(corpus_tfidf, id2word=dictionary, num_topics=10)\n",
    "corpus_lsi_tfidf = lsi_tfidf[corpus_tfidf]\n",
    "print('corpus lsi - TFIDF done')"
   ]
  },
  {
   "cell_type": "markdown",
   "metadata": {},
   "source": [
    "Saving the Models and the Corpora"
   ]
  },
  {
   "cell_type": "code",
   "execution_count": 74,
   "metadata": {},
   "outputs": [],
   "source": [
    "lsi_tf.save(os.path.join(outputs, 'model_tf.lsi'))\n",
    "corpora.MmCorpus.serialize(os.path.join(outputs, 'corpus_lsi_tf.mm'), corpus_lsi_tf)\n",
    "lsi_tfidf.save(os.path.join(outputs, 'model_tfidf.lsi'))\n",
    "corpora.MmCorpus.serialize(os.path.join(outputs, 'corpus_lsi_tfidf.mm'), corpus_lsi_tfidf)"
   ]
  },
  {
   "cell_type": "markdown",
   "metadata": {},
   "source": [
    "Loading the Models and the Corpora"
   ]
  },
  {
   "cell_type": "code",
   "execution_count": 75,
   "metadata": {},
   "outputs": [],
   "source": [
    "lsi_tf = models.LsiModel.load(os.path.join(outputs, 'model_tf.lsi'))\n",
    "corpus_lsi_tf = corpora.MmCorpus(os.path.join(outputs, 'corpus_lsi_tf.mm'))\n",
    "lsi_tfidf = models.LsiModel.load(os.path.join(outputs, 'model_tfidf.lsi'))\n",
    "corpus_lsi_tfidf = corpora.MmCorpus(os.path.join(outputs, 'corpus_lsi_tfidf.mm'))"
   ]
  },
  {
   "cell_type": "markdown",
   "metadata": {},
   "source": [
    "#### Visualizing the topics"
   ]
  },
  {
   "cell_type": "code",
   "execution_count": 76,
   "metadata": {},
   "outputs": [
    {
     "data": {
      "text/plain": [
       "[(0,\n",
       "  '0.508*\"film\" + 0.290*\"one\" + 0.218*\"like\" + 0.147*\"would\" + 0.145*\"good\" + 0.137*\"even\" + 0.125*\"time\" + 0.123*\"really\" + 0.119*\"story\" + 0.117*\"see\"'),\n",
       " (1,\n",
       "  '-0.833*\"film\" + 0.214*\"one\" + 0.195*\"like\" + 0.113*\"show\" + 0.105*\"movies\" + 0.105*\"good\" + 0.101*\"would\" + 0.093*\"even\" + 0.092*\"really\" + 0.085*\"get\"'),\n",
       " (2,\n",
       "  '-0.728*\"one\" + 0.456*\"like\" + 0.179*\"bad\" + 0.164*\"really\" + 0.152*\"good\" + 0.124*\"would\" + 0.095*\"people\" + 0.079*\"think\" + -0.076*\"two\" + 0.071*\"could\"'),\n",
       " (3,\n",
       "  '-0.493*\"one\" + -0.423*\"like\" + 0.332*\"story\" + -0.244*\"bad\" + 0.139*\"show\" + 0.138*\"great\" + 0.137*\"also\" + 0.137*\"life\" + 0.129*\"love\" + 0.119*\"character\"'),\n",
       " (4,\n",
       "  '-0.623*\"good\" + 0.408*\"like\" + -0.309*\"bad\" + -0.249*\"really\" + 0.157*\"would\" + 0.144*\"people\" + 0.130*\"show\" + -0.127*\"acting\" + 0.117*\"life\" + -0.116*\"great\"'),\n",
       " (5,\n",
       "  '-0.524*\"like\" + 0.479*\"would\" + 0.234*\"bad\" + -0.226*\"story\" + 0.222*\"even\" + -0.196*\"good\" + 0.195*\"could\" + -0.183*\"great\" + -0.143*\"also\" + 0.100*\"get\"'),\n",
       " (6,\n",
       "  '-0.690*\"show\" + 0.390*\"story\" + -0.179*\"great\" + 0.172*\"even\" + -0.158*\"good\" + 0.146*\"bad\" + -0.146*\"series\" + -0.115*\"really\" + -0.104*\"episode\" + -0.091*\"shows\"'),\n",
       " (7,\n",
       "  '-0.677*\"would\" + -0.276*\"story\" + 0.225*\"bad\" + 0.200*\"get\" + -0.185*\"good\" + 0.169*\"time\" + -0.162*\"one\" + -0.157*\"like\" + 0.138*\"people\" + 0.136*\"really\"'),\n",
       " (8,\n",
       "  '-0.509*\"really\" + -0.339*\"people\" + -0.325*\"see\" + 0.270*\"even\" + -0.239*\"story\" + 0.195*\"good\" + -0.143*\"think\" + 0.136*\"time\" + 0.129*\"first\" + 0.122*\"show\"'),\n",
       " (9,\n",
       "  '-0.472*\"story\" + -0.385*\"show\" + 0.351*\"good\" + -0.245*\"even\" + -0.244*\"characters\" + 0.224*\"would\" + -0.189*\"bad\" + 0.167*\"see\" + 0.144*\"man\" + -0.115*\"character\"')]"
      ]
     },
     "execution_count": 76,
     "metadata": {},
     "output_type": "execute_result"
    }
   ],
   "source": [
    "lsi_tf.print_topics(10)"
   ]
  },
  {
   "cell_type": "code",
   "execution_count": 77,
   "metadata": {},
   "outputs": [
    {
     "data": {
      "text/plain": [
       "[('film', -0.8328147002984333),\n",
       " ('one', 0.2135218964035485),\n",
       " ('like', 0.1950333243602891),\n",
       " ('show', 0.1134057331710427),\n",
       " ('movies', 0.1054705437664767),\n",
       " ('good', 0.10522179974400887),\n",
       " ('would', 0.10067059201939377),\n",
       " ('even', 0.09280679072583643),\n",
       " ('really', 0.09159001396507903),\n",
       " ('get', 0.08474418036999613)]"
      ]
     },
     "execution_count": 77,
     "metadata": {},
     "output_type": "execute_result"
    }
   ],
   "source": [
    "lsi_tf.show_topic(1)"
   ]
  },
  {
   "cell_type": "code",
   "execution_count": 78,
   "metadata": {},
   "outputs": [
    {
     "data": {
      "text/plain": [
       "[(0,\n",
       "  '0.146*\"film\" + 0.103*\"bad\" + 0.101*\"good\" + 0.101*\"like\" + 0.101*\"really\" + 0.095*\"one\" + 0.094*\"would\" + 0.091*\"story\" + 0.089*\"see\" + 0.088*\"even\"'),\n",
       " (1,\n",
       "  '0.332*\"bad\" + 0.197*\"worst\" + 0.132*\"waste\" + 0.131*\"movies\" + 0.129*\"acting\" + 0.115*\"terrible\" + 0.114*\"ever\" + 0.106*\"horrible\" + 0.102*\"horror\" + 0.101*\"stupid\"'),\n",
       " (2,\n",
       "  '0.672*\"show\" + 0.212*\"episode\" + 0.209*\"series\" + -0.173*\"film\" + 0.151*\"episodes\" + 0.150*\"tv\" + 0.146*\"season\" + -0.140*\"horror\" + 0.125*\"funny\" + 0.117*\"shows\"'),\n",
       " (3,\n",
       "  '0.237*\"book\" + -0.232*\"show\" + 0.214*\"great\" + -0.185*\"horror\" + 0.115*\"movies\" + 0.113*\"read\" + 0.112*\"love\" + 0.111*\"seen\" + 0.104*\"saw\" + -0.102*\"episode\"'),\n",
       " (4,\n",
       "  '-0.263*\"horror\" + -0.219*\"series\" + -0.162*\"action\" + 0.153*\"life\" + 0.147*\"people\" + -0.146*\"great\" + -0.138*\"effects\" + -0.136*\"show\" + -0.130*\"original\" + -0.120*\"good\"'),\n",
       " (5,\n",
       "  '0.393*\"book\" + -0.359*\"funny\" + -0.262*\"comedy\" + 0.179*\"series\" + 0.165*\"read\" + -0.122*\"laugh\" + -0.120*\"fun\" + -0.117*\"jokes\" + -0.115*\"great\" + 0.104*\"show\"'),\n",
       " (6,\n",
       "  '0.385*\"horror\" + -0.245*\"bad\" + -0.152*\"worst\" + 0.129*\"scary\" + -0.129*\"show\" + -0.118*\"script\" + -0.109*\"acting\" + 0.108*\"really\" + 0.106*\"saw\" + -0.106*\"comedy\"'),\n",
       " (7,\n",
       "  '-0.283*\"book\" + 0.257*\"ever\" + 0.226*\"worst\" + 0.198*\"seen\" + 0.169*\"horror\" + -0.155*\"characters\" + -0.144*\"really\" + 0.141*\"films\" + -0.131*\"good\" + 0.125*\"years\"'),\n",
       " (8,\n",
       "  '0.495*\"book\" + -0.178*\"film\" + 0.162*\"read\" + -0.142*\"show\" + -0.135*\"people\" + 0.135*\"version\" + 0.121*\"bad\" + 0.106*\"series\" + -0.105*\"films\" + 0.101*\"original\"'),\n",
       " (9,\n",
       "  '-0.339*\"horror\" + 0.311*\"action\" + 0.289*\"game\" + -0.219*\"book\" + -0.200*\"funny\" + -0.196*\"show\" + -0.172*\"comedy\" + -0.155*\"film\" + 0.144*\"series\" + 0.111*\"war\"')]"
      ]
     },
     "execution_count": 78,
     "metadata": {},
     "output_type": "execute_result"
    }
   ],
   "source": [
    "lsi_tfidf.print_topics(10)"
   ]
  },
  {
   "cell_type": "code",
   "execution_count": 79,
   "metadata": {},
   "outputs": [
    {
     "data": {
      "text/plain": [
       "[('bad', 0.33172071622932175),\n",
       " ('worst', 0.19652171633792506),\n",
       " ('waste', 0.13176361980311485),\n",
       " ('movies', 0.13115477466922748),\n",
       " ('acting', 0.1292255995852),\n",
       " ('terrible', 0.11454179032123647),\n",
       " ('ever', 0.11382237472030363),\n",
       " ('horrible', 0.10595373247624235),\n",
       " ('horror', 0.10245714077435118),\n",
       " ('stupid', 0.10050185394826683)]"
      ]
     },
     "execution_count": 79,
     "metadata": {},
     "output_type": "execute_result"
    }
   ],
   "source": [
    "lsi_tfidf.show_topic(1)"
   ]
  },
  {
   "cell_type": "markdown",
   "metadata": {},
   "source": [
    "### Latent Dirichlet Allocation\n",
    "\n",
    "https://en.wikipedia.org/wiki/Latent_Dirichlet_allocation  "
   ]
  },
  {
   "cell_type": "markdown",
   "metadata": {},
   "source": [
    "#### Using Gensim"
   ]
  },
  {
   "cell_type": "markdown",
   "metadata": {},
   "source": [
    "Generating the Models and the Corpora"
   ]
  },
  {
   "cell_type": "code",
   "execution_count": 80,
   "metadata": {},
   "outputs": [
    {
     "name": "stdout",
     "output_type": "stream",
     "text": [
      "corpus lda tf done\n",
      "corpus lda tfidf done\n"
     ]
    }
   ],
   "source": [
    "lda_tf = models.LdaModel(corpus_tf, id2word=dictionary, num_topics=10, passes=10)\n",
    "corpus_lda_tf = lda_tf[corpus_tf]\n",
    "print('corpus lda tf done')\n",
    "\n",
    "lda_tfidf = models.LdaModel(corpus_tfidf, id2word=dictionary, num_topics=10, passes=10)\n",
    "corpus_lda_tfidf = lda_tfidf[corpus_tfidf]\n",
    "print('corpus lda tfidf done')"
   ]
  },
  {
   "cell_type": "markdown",
   "metadata": {},
   "source": [
    "Saving the Models and the Corpora"
   ]
  },
  {
   "cell_type": "code",
   "execution_count": 81,
   "metadata": {},
   "outputs": [],
   "source": [
    "lda_tf.save(os.path.join(outputs, 'model_tf.lda'))\n",
    "corpora.MmCorpus.serialize(os.path.join(outputs, 'corpus_lda_tf.mm'), corpus_lda_tf)\n",
    "\n",
    "lda_tfidf.save(os.path.join(outputs, 'model_tfidf.lda'))\n",
    "corpora.MmCorpus.serialize(os.path.join(outputs, 'corpus_lda_tfidf.mm'), corpus_lda_tfidf)"
   ]
  },
  {
   "cell_type": "markdown",
   "metadata": {},
   "source": [
    "Loading the Models and the Corpora"
   ]
  },
  {
   "cell_type": "code",
   "execution_count": 82,
   "metadata": {},
   "outputs": [],
   "source": [
    "lda_tf = models.LdaModel.load(os.path.join(outputs, 'model_tf.lda'))\n",
    "corpus_lda_tf = corpora.MmCorpus(os.path.join(outputs, 'corpus_lda_tf.mm'))\n",
    "\n",
    "lda_tfidf = models.LdaModel.load(os.path.join(outputs, 'model_tfidf.lda'))\n",
    "corpus_lda_tfidf = corpora.MmCorpus(os.path.join(outputs, 'corpus_lda_tfidf.mm'))"
   ]
  },
  {
   "cell_type": "markdown",
   "metadata": {},
   "source": [
    "#### Visualizing the topics"
   ]
  },
  {
   "cell_type": "code",
   "execution_count": 83,
   "metadata": {},
   "outputs": [
    {
     "data": {
      "text/plain": [
       "[(0,\n",
       "  '0.014*\"war\" + 0.006*\"american\" + 0.005*\"john\" + 0.005*\"western\" + 0.004*\"role\" + 0.004*\"british\" + 0.003*\"history\"'),\n",
       " (1,\n",
       "  '0.015*\"like\" + 0.013*\"bad\" + 0.012*\"one\" + 0.011*\"would\" + 0.010*\"even\" + 0.009*\"could\" + 0.009*\"film\"'),\n",
       " (2,\n",
       "  '0.010*\"one\" + 0.009*\"show\" + 0.007*\"best\" + 0.007*\"great\" + 0.006*\"role\" + 0.005*\"cast\" + 0.005*\"performance\"'),\n",
       " (3,\n",
       "  '0.023*\"action\" + 0.011*\"series\" + 0.010*\"game\" + 0.008*\"one\" + 0.007*\"fight\" + 0.006*\"like\" + 0.006*\"animation\"'),\n",
       " (4,\n",
       "  '0.023*\"film\" + 0.017*\"good\" + 0.014*\"one\" + 0.013*\"really\" + 0.012*\"like\" + 0.012*\"story\" + 0.012*\"great\"'),\n",
       " (5,\n",
       "  '0.031*\"film\" + 0.006*\"one\" + 0.005*\"story\" + 0.005*\"life\" + 0.005*\"characters\" + 0.004*\"people\" + 0.004*\"us\"'),\n",
       " (6,\n",
       "  '0.007*\"earth\" + 0.007*\"alien\" + 0.007*\"space\" + 0.006*\"ship\" + 0.005*\"island\" + 0.005*\"science\" + 0.005*\"crew\"'),\n",
       " (7,\n",
       "  '0.008*\"man\" + 0.008*\"one\" + 0.006*\"young\" + 0.006*\"woman\" + 0.006*\"get\" + 0.005*\"family\" + 0.005*\"father\"'),\n",
       " (8,\n",
       "  '0.023*\"film\" + 0.014*\"horror\" + 0.009*\"one\" + 0.007*\"films\" + 0.005*\"scenes\" + 0.005*\"plot\" + 0.004*\"also\"'),\n",
       " (9,\n",
       "  '0.026*\"funny\" + 0.020*\"comedy\" + 0.008*\"humor\" + 0.007*\"like\" + 0.007*\"jokes\" + 0.007*\"hilarious\" + 0.006*\"fun\"')]"
      ]
     },
     "execution_count": 83,
     "metadata": {},
     "output_type": "execute_result"
    }
   ],
   "source": [
    "lda_tf.print_topics(num_topics=10, num_words=7)"
   ]
  },
  {
   "cell_type": "code",
   "execution_count": 84,
   "metadata": {},
   "outputs": [
    {
     "data": {
      "text/plain": [
       "[('film', 0.030684367),\n",
       " ('one', 0.0064720535),\n",
       " ('story', 0.005342986),\n",
       " ('life', 0.0050429073),\n",
       " ('characters', 0.004513613),\n",
       " ('people', 0.004243512),\n",
       " ('us', 0.0041615427),\n",
       " ('many', 0.0041285297),\n",
       " ('world', 0.0040527126),\n",
       " ('character', 0.003958251)]"
      ]
     },
     "execution_count": 84,
     "metadata": {},
     "output_type": "execute_result"
    }
   ],
   "source": [
    "lda_tf.show_topic(5)"
   ]
  },
  {
   "cell_type": "code",
   "execution_count": 85,
   "metadata": {},
   "outputs": [
    {
     "data": {
      "text/plain": [
       "[(0,\n",
       "  '0.002*\"suspense\" + 0.002*\"joan\" + 0.001*\"ship\" + 0.001*\"crawford\" + 0.001*\"hitchcock\" + 0.001*\"lewis\" + 0.001*\"pathetic\"'),\n",
       " (1,\n",
       "  '0.003*\"angus\" + 0.003*\"berry\" + 0.003*\"slater\" + 0.002*\"malkovich\" + 0.002*\"bunny\" + 0.002*\"sarandon\" + 0.002*\"intro\"'),\n",
       " (2,\n",
       "  '0.003*\"daffy\" + 0.003*\"holden\" + 0.003*\"waters\" + 0.002*\"kurosawa\" + 0.002*\"unsatisfying\" + 0.002*\"levy\" + 0.002*\"brooke\"'),\n",
       " (3,\n",
       "  '0.002*\"louise\" + 0.002*\"reno\" + 0.002*\"jenny\" + 0.002*\"frogs\" + 0.002*\"stores\" + 0.002*\"uma\" + 0.002*\"thurman\"'),\n",
       " (4,\n",
       "  '0.003*\"holmes\" + 0.003*\"dracula\" + 0.002*\"hbo\" + 0.002*\"lugosi\" + 0.002*\"karloff\" + 0.001*\"march\" + 0.001*\"scorsese\"'),\n",
       " (5,\n",
       "  '0.001*\"grand\" + 0.001*\"powell\" + 0.001*\"dennis\" + 0.001*\"suspense\" + 0.001*\"russian\" + 0.001*\"anna\" + 0.001*\"murphy\"'),\n",
       " (6,\n",
       "  '0.003*\"film\" + 0.002*\"good\" + 0.002*\"like\" + 0.002*\"bad\" + 0.002*\"one\" + 0.002*\"really\" + 0.002*\"story\"'),\n",
       " (7,\n",
       "  '0.004*\"flynn\" + 0.003*\"bugs\" + 0.003*\"wilder\" + 0.003*\"chaney\" + 0.002*\"mickey\" + 0.002*\"highlander\" + 0.002*\"slapstick\"'),\n",
       " (8,\n",
       "  '0.006*\"sandler\" + 0.002*\"spider\" + 0.002*\"melanie\" + 0.002*\"holly\" + 0.002*\"perry\" + 0.002*\"cringe\" + 0.002*\"violin\"'),\n",
       " (9,\n",
       "  '0.002*\"shark\" + 0.002*\"godzilla\" + 0.002*\"kung\" + 0.002*\"chan\" + 0.002*\"fu\" + 0.002*\"jackie\" + 0.002*\"walked\"')]"
      ]
     },
     "execution_count": 85,
     "metadata": {},
     "output_type": "execute_result"
    }
   ],
   "source": [
    "lda_tfidf.print_topics(num_topics=10, num_words=7)\n",
    "#lda_tfidf.print_topics(10)"
   ]
  },
  {
   "cell_type": "code",
   "execution_count": 86,
   "metadata": {},
   "outputs": [
    {
     "data": {
      "text/plain": [
       "[(0,\n",
       "  [('suspense', 0.001571954),\n",
       "   ('joan', 0.0015553718),\n",
       "   ('ship', 0.0014502708),\n",
       "   ('crawford', 0.0013279422),\n",
       "   ('hitchcock', 0.0012832455),\n",
       "   ('lewis', 0.0012326624),\n",
       "   ('pathetic', 0.0012065187),\n",
       "   ('mainly', 0.0012012842),\n",
       "   ('friday', 0.0011459893),\n",
       "   ('cagney', 0.0011360849),\n",
       "   ('studio', 0.0011075062),\n",
       "   ('dean', 0.0010749657),\n",
       "   ('wayne', 0.0010742763),\n",
       "   ('basic', 0.0010629859),\n",
       "   ('chaplin', 0.0010598577),\n",
       "   ('vampire', 0.0010073731),\n",
       "   ('skip', 0.0009842332),\n",
       "   ('attack', 0.0009800926),\n",
       "   ('vincent', 0.0009786959),\n",
       "   ('julia', 0.0009753857)]),\n",
       " (1,\n",
       "  [('angus', 0.0031735692),\n",
       "   ('berry', 0.0029401204),\n",
       "   ('slater', 0.0025377718),\n",
       "   ('malkovich', 0.0023494442),\n",
       "   ('bunny', 0.0022040168),\n",
       "   ('sarandon', 0.002012669),\n",
       "   ('intro', 0.0020079263),\n",
       "   ('sh*t', 0.0019983689),\n",
       "   ('frozen', 0.001972175),\n",
       "   ('spock', 0.0018821858),\n",
       "   ('insulted', 0.0018696625),\n",
       "   ('counter', 0.0018224694),\n",
       "   ('corey', 0.0018183639),\n",
       "   ('norway', 0.0017123198),\n",
       "   ('tierney', 0.0017009442),\n",
       "   ('melvin', 0.0016509852),\n",
       "   ('tucci', 0.0015876807),\n",
       "   ('melody', 0.0015593877),\n",
       "   ('lied', 0.0015572651),\n",
       "   ('mulder', 0.0015503342)])]"
      ]
     },
     "execution_count": 86,
     "metadata": {},
     "output_type": "execute_result"
    }
   ],
   "source": [
    "lda_tfidf.show_topics(formatted=False, num_words=20)[0:2]"
   ]
  },
  {
   "cell_type": "markdown",
   "metadata": {},
   "source": [
    "Visualizing using PyLDAvis  \n",
    "http://nbviewer.jupyter.org/github/bmabey/pyLDAvis/blob/master/notebooks/pyLDAvis_overview.ipynb  "
   ]
  },
  {
   "cell_type": "code",
   "execution_count": 87,
   "metadata": {},
   "outputs": [
    {
     "name": "stderr",
     "output_type": "stream",
     "text": [
      "/usr/local/lib/python3.6/dist-packages/pyLDAvis/_prepare.py:387: DeprecationWarning: \n",
      ".ix is deprecated. Please use\n",
      ".loc for label based indexing or\n",
      ".iloc for positional indexing\n",
      "\n",
      "See the documentation here:\n",
      "http://pandas.pydata.org/pandas-docs/stable/indexing.html#ix-indexer-is-deprecated\n",
      "  topic_term_dists = topic_term_dists.ix[topic_order]\n"
     ]
    },
    {
     "data": {
      "text/html": [
       "\n",
       "<link rel=\"stylesheet\" type=\"text/css\" href=\"https://cdn.rawgit.com/bmabey/pyLDAvis/files/ldavis.v1.0.0.css\">\n",
       "\n",
       "\n",
       "<div id=\"ldavis_el1230611399978168243605800058284\"></div>\n",
       "<script type=\"text/javascript\">\n",
       "\n",
       "var ldavis_el1230611399978168243605800058284_data = {\"mdsDat\": {\"Freq\": [22.07476043701172, 17.857009887695312, 17.171173095703125, 10.59067440032959, 8.688093185424805, 7.750798225402832, 4.919076919555664, 4.424429893493652, 3.7132606506347656, 2.810729742050171], \"cluster\": [1, 1, 1, 1, 1, 1, 1, 1, 1, 1], \"topics\": [1, 2, 3, 4, 5, 6, 7, 8, 9, 10], \"x\": [-0.15408993758772768, -0.11461818484031952, -0.19729586899106838, -0.002062440358588336, -0.07240548765713803, -0.030078779854315195, 0.15097401660110923, 0.005356500428287106, 0.04148880503469845, 0.372731377225062], \"y\": [-0.09660047413513405, 0.04116276759552488, -0.015669114172818462, -0.0753933136344488, -0.02998228418158431, 0.1130002978258626, 0.29057258866251906, -0.13204326856888254, 0.06013907934216416, -0.1551862787332028]}, \"tinfo\": {\"Category\": [\"Default\", \"Default\", \"Default\", \"Default\", \"Default\", \"Default\", \"Default\", \"Default\", \"Default\", \"Default\", \"Default\", \"Default\", \"Default\", \"Default\", \"Default\", \"Default\", \"Default\", \"Default\", \"Default\", \"Default\", \"Default\", \"Default\", \"Default\", \"Default\", \"Default\", \"Default\", \"Default\", \"Default\", \"Default\", \"Default\", \"Topic1\", \"Topic1\", \"Topic1\", \"Topic1\", \"Topic1\", \"Topic1\", \"Topic1\", \"Topic1\", \"Topic1\", \"Topic1\", \"Topic1\", \"Topic1\", \"Topic1\", \"Topic1\", \"Topic1\", \"Topic1\", \"Topic1\", \"Topic1\", \"Topic1\", \"Topic1\", \"Topic1\", \"Topic1\", \"Topic1\", \"Topic1\", \"Topic1\", \"Topic1\", \"Topic1\", \"Topic1\", \"Topic1\", \"Topic1\", \"Topic1\", \"Topic1\", \"Topic1\", \"Topic1\", \"Topic1\", \"Topic1\", \"Topic1\", \"Topic1\", \"Topic1\", \"Topic1\", \"Topic1\", \"Topic1\", \"Topic1\", \"Topic1\", \"Topic1\", \"Topic1\", \"Topic1\", \"Topic1\", \"Topic1\", \"Topic1\", \"Topic1\", \"Topic1\", \"Topic1\", \"Topic1\", \"Topic1\", \"Topic1\", \"Topic1\", \"Topic1\", \"Topic1\", \"Topic1\", \"Topic1\", \"Topic1\", \"Topic1\", \"Topic1\", \"Topic1\", \"Topic1\", \"Topic1\", \"Topic1\", \"Topic1\", \"Topic1\", \"Topic1\", \"Topic1\", \"Topic1\", \"Topic1\", \"Topic1\", \"Topic1\", \"Topic1\", \"Topic1\", \"Topic1\", \"Topic1\", \"Topic1\", \"Topic1\", \"Topic1\", \"Topic1\", \"Topic1\", \"Topic1\", \"Topic1\", \"Topic1\", \"Topic1\", \"Topic1\", \"Topic1\", \"Topic2\", \"Topic2\", \"Topic2\", \"Topic2\", \"Topic2\", \"Topic2\", \"Topic2\", \"Topic2\", \"Topic2\", \"Topic2\", \"Topic2\", \"Topic2\", \"Topic2\", \"Topic2\", \"Topic2\", \"Topic2\", \"Topic2\", \"Topic2\", \"Topic2\", \"Topic2\", \"Topic2\", \"Topic2\", \"Topic2\", \"Topic2\", \"Topic2\", \"Topic2\", \"Topic2\", \"Topic2\", \"Topic2\", \"Topic2\", \"Topic2\", \"Topic2\", \"Topic2\", \"Topic2\", \"Topic2\", \"Topic2\", \"Topic2\", \"Topic2\", \"Topic2\", \"Topic2\", \"Topic2\", \"Topic2\", \"Topic2\", \"Topic2\", \"Topic2\", \"Topic2\", \"Topic2\", \"Topic2\", \"Topic2\", \"Topic2\", \"Topic2\", \"Topic2\", \"Topic2\", \"Topic2\", \"Topic2\", \"Topic2\", \"Topic2\", \"Topic2\", \"Topic2\", \"Topic2\", \"Topic2\", \"Topic2\", \"Topic2\", \"Topic2\", \"Topic2\", \"Topic2\", \"Topic2\", \"Topic2\", \"Topic2\", \"Topic2\", \"Topic2\", \"Topic2\", \"Topic2\", \"Topic2\", \"Topic2\", \"Topic2\", \"Topic2\", \"Topic2\", \"Topic2\", \"Topic2\", \"Topic2\", \"Topic2\", \"Topic2\", \"Topic2\", \"Topic2\", \"Topic2\", \"Topic2\", \"Topic2\", \"Topic2\", \"Topic2\", \"Topic2\", \"Topic2\", \"Topic3\", \"Topic3\", \"Topic3\", \"Topic3\", \"Topic3\", \"Topic3\", \"Topic3\", \"Topic3\", \"Topic3\", \"Topic3\", \"Topic3\", \"Topic3\", \"Topic3\", \"Topic3\", \"Topic3\", \"Topic3\", \"Topic3\", \"Topic3\", \"Topic3\", \"Topic3\", \"Topic3\", \"Topic3\", \"Topic3\", \"Topic3\", \"Topic3\", \"Topic3\", \"Topic3\", \"Topic3\", \"Topic3\", \"Topic3\", \"Topic3\", \"Topic3\", \"Topic3\", \"Topic3\", \"Topic3\", \"Topic3\", \"Topic3\", \"Topic3\", \"Topic3\", \"Topic3\", \"Topic3\", \"Topic3\", \"Topic3\", \"Topic3\", \"Topic3\", \"Topic3\", \"Topic3\", \"Topic3\", \"Topic3\", \"Topic3\", \"Topic3\", \"Topic3\", \"Topic3\", \"Topic3\", \"Topic3\", \"Topic3\", \"Topic3\", \"Topic3\", \"Topic3\", \"Topic3\", \"Topic3\", \"Topic3\", \"Topic3\", \"Topic3\", \"Topic3\", \"Topic3\", \"Topic3\", \"Topic3\", \"Topic3\", \"Topic3\", \"Topic3\", \"Topic3\", \"Topic3\", \"Topic3\", \"Topic3\", \"Topic3\", \"Topic3\", \"Topic3\", \"Topic3\", \"Topic3\", \"Topic3\", \"Topic3\", \"Topic3\", \"Topic3\", \"Topic4\", \"Topic4\", \"Topic4\", \"Topic4\", \"Topic4\", \"Topic4\", \"Topic4\", \"Topic4\", \"Topic4\", \"Topic4\", \"Topic4\", \"Topic4\", \"Topic4\", \"Topic4\", \"Topic4\", \"Topic4\", \"Topic4\", \"Topic4\", \"Topic4\", \"Topic4\", \"Topic4\", \"Topic4\", \"Topic4\", \"Topic4\", \"Topic4\", \"Topic4\", \"Topic4\", \"Topic4\", \"Topic4\", \"Topic4\", \"Topic4\", \"Topic4\", \"Topic4\", \"Topic4\", \"Topic4\", \"Topic4\", \"Topic4\", \"Topic4\", \"Topic4\", \"Topic4\", \"Topic4\", \"Topic4\", \"Topic4\", \"Topic4\", \"Topic4\", \"Topic4\", \"Topic4\", \"Topic4\", \"Topic4\", \"Topic4\", \"Topic4\", \"Topic4\", \"Topic4\", \"Topic4\", \"Topic4\", \"Topic4\", \"Topic4\", \"Topic4\", \"Topic4\", \"Topic4\", \"Topic4\", \"Topic4\", \"Topic4\", \"Topic4\", \"Topic4\", \"Topic4\", \"Topic4\", \"Topic4\", \"Topic4\", \"Topic4\", \"Topic4\", \"Topic4\", \"Topic4\", \"Topic4\", \"Topic4\", \"Topic4\", \"Topic4\", \"Topic4\", \"Topic4\", \"Topic4\", \"Topic4\", \"Topic4\", \"Topic4\", \"Topic4\", \"Topic4\", \"Topic4\", \"Topic4\", \"Topic4\", \"Topic4\", \"Topic4\", \"Topic5\", \"Topic5\", \"Topic5\", \"Topic5\", \"Topic5\", \"Topic5\", \"Topic5\", \"Topic5\", \"Topic5\", \"Topic5\", \"Topic5\", \"Topic5\", \"Topic5\", \"Topic5\", \"Topic5\", \"Topic5\", \"Topic5\", \"Topic5\", \"Topic5\", \"Topic5\", \"Topic5\", \"Topic5\", \"Topic5\", \"Topic5\", \"Topic5\", \"Topic5\", \"Topic5\", \"Topic5\", \"Topic5\", \"Topic5\", \"Topic5\", \"Topic5\", \"Topic5\", \"Topic5\", \"Topic5\", \"Topic5\", \"Topic5\", \"Topic5\", \"Topic5\", \"Topic5\", \"Topic5\", \"Topic5\", \"Topic5\", \"Topic5\", \"Topic5\", \"Topic5\", \"Topic5\", \"Topic5\", \"Topic5\", \"Topic5\", \"Topic5\", \"Topic5\", \"Topic5\", \"Topic5\", \"Topic5\", \"Topic5\", \"Topic5\", \"Topic5\", \"Topic5\", \"Topic5\", \"Topic5\", \"Topic5\", \"Topic5\", \"Topic5\", \"Topic5\", \"Topic5\", \"Topic5\", \"Topic5\", \"Topic5\", \"Topic5\", \"Topic6\", \"Topic6\", \"Topic6\", \"Topic6\", \"Topic6\", \"Topic6\", \"Topic6\", \"Topic6\", \"Topic6\", \"Topic6\", \"Topic6\", \"Topic6\", \"Topic6\", \"Topic6\", \"Topic6\", \"Topic6\", \"Topic6\", \"Topic6\", \"Topic6\", \"Topic6\", \"Topic6\", \"Topic6\", \"Topic6\", \"Topic6\", \"Topic6\", \"Topic6\", \"Topic6\", \"Topic6\", \"Topic6\", \"Topic6\", \"Topic6\", \"Topic6\", \"Topic6\", \"Topic6\", \"Topic6\", \"Topic6\", \"Topic6\", \"Topic6\", \"Topic6\", \"Topic6\", \"Topic6\", \"Topic6\", \"Topic6\", \"Topic6\", \"Topic6\", \"Topic6\", \"Topic6\", \"Topic6\", \"Topic6\", \"Topic6\", \"Topic6\", \"Topic6\", \"Topic6\", \"Topic6\", \"Topic6\", \"Topic6\", \"Topic6\", \"Topic6\", \"Topic6\", \"Topic6\", \"Topic6\", \"Topic6\", \"Topic6\", \"Topic6\", \"Topic6\", \"Topic6\", \"Topic6\", \"Topic6\", \"Topic6\", \"Topic6\", \"Topic6\", \"Topic6\", \"Topic6\", \"Topic6\", \"Topic6\", \"Topic6\", \"Topic6\", \"Topic6\", \"Topic6\", \"Topic6\", \"Topic6\", \"Topic6\", \"Topic7\", \"Topic7\", \"Topic7\", \"Topic7\", \"Topic7\", \"Topic7\", \"Topic7\", \"Topic7\", \"Topic7\", \"Topic7\", \"Topic7\", \"Topic7\", \"Topic7\", \"Topic7\", \"Topic7\", \"Topic7\", \"Topic7\", \"Topic7\", \"Topic7\", \"Topic7\", \"Topic7\", \"Topic7\", \"Topic7\", \"Topic7\", \"Topic7\", \"Topic7\", \"Topic7\", \"Topic7\", \"Topic7\", \"Topic7\", \"Topic7\", \"Topic7\", \"Topic7\", \"Topic7\", \"Topic7\", \"Topic7\", \"Topic7\", \"Topic7\", \"Topic7\", \"Topic7\", \"Topic7\", \"Topic7\", \"Topic7\", \"Topic7\", \"Topic7\", \"Topic7\", \"Topic7\", \"Topic7\", \"Topic7\", \"Topic7\", \"Topic7\", \"Topic7\", \"Topic7\", \"Topic7\", \"Topic7\", \"Topic7\", \"Topic7\", \"Topic7\", \"Topic7\", \"Topic7\", \"Topic7\", \"Topic7\", \"Topic7\", \"Topic7\", \"Topic7\", \"Topic7\", \"Topic7\", \"Topic7\", \"Topic7\", \"Topic7\", \"Topic7\", \"Topic7\", \"Topic7\", \"Topic7\", \"Topic8\", \"Topic8\", \"Topic8\", \"Topic8\", \"Topic8\", \"Topic8\", \"Topic8\", \"Topic8\", \"Topic8\", \"Topic8\", \"Topic8\", \"Topic8\", \"Topic8\", \"Topic8\", \"Topic8\", \"Topic8\", \"Topic8\", \"Topic8\", \"Topic8\", \"Topic8\", \"Topic8\", \"Topic8\", \"Topic8\", \"Topic8\", \"Topic8\", \"Topic8\", \"Topic8\", \"Topic8\", \"Topic8\", \"Topic8\", \"Topic8\", \"Topic8\", \"Topic8\", \"Topic8\", \"Topic8\", \"Topic8\", \"Topic8\", \"Topic8\", \"Topic8\", \"Topic8\", \"Topic8\", \"Topic8\", \"Topic8\", \"Topic8\", \"Topic8\", \"Topic8\", \"Topic8\", \"Topic8\", \"Topic8\", \"Topic8\", \"Topic8\", \"Topic8\", \"Topic8\", \"Topic8\", \"Topic8\", \"Topic8\", \"Topic8\", \"Topic8\", \"Topic8\", \"Topic8\", \"Topic8\", \"Topic8\", \"Topic8\", \"Topic8\", \"Topic8\", \"Topic8\", \"Topic8\", \"Topic8\", \"Topic8\", \"Topic9\", \"Topic9\", \"Topic9\", \"Topic9\", \"Topic9\", \"Topic9\", \"Topic9\", \"Topic9\", \"Topic9\", \"Topic9\", \"Topic9\", \"Topic9\", \"Topic9\", \"Topic9\", \"Topic9\", \"Topic9\", \"Topic9\", \"Topic9\", \"Topic9\", \"Topic9\", \"Topic9\", \"Topic9\", \"Topic9\", \"Topic9\", \"Topic9\", \"Topic9\", \"Topic9\", \"Topic9\", \"Topic9\", \"Topic9\", \"Topic9\", \"Topic9\", \"Topic9\", \"Topic9\", \"Topic9\", \"Topic9\", \"Topic9\", \"Topic9\", \"Topic9\", \"Topic9\", \"Topic9\", \"Topic9\", \"Topic9\", \"Topic9\", \"Topic9\", \"Topic9\", \"Topic9\", \"Topic9\", \"Topic9\", \"Topic9\", \"Topic9\", \"Topic9\", \"Topic9\", \"Topic9\", \"Topic9\", \"Topic9\", \"Topic9\", \"Topic9\", \"Topic9\", \"Topic9\", \"Topic9\", \"Topic9\", \"Topic9\", \"Topic9\", \"Topic9\", \"Topic9\", \"Topic9\", \"Topic9\", \"Topic9\", \"Topic9\", \"Topic10\", \"Topic10\", \"Topic10\", \"Topic10\", \"Topic10\", \"Topic10\", \"Topic10\", \"Topic10\", \"Topic10\", \"Topic10\", \"Topic10\", \"Topic10\", \"Topic10\", \"Topic10\", \"Topic10\", \"Topic10\", \"Topic10\", \"Topic10\", \"Topic10\", \"Topic10\", \"Topic10\", \"Topic10\", \"Topic10\", \"Topic10\", \"Topic10\", \"Topic10\", \"Topic10\", \"Topic10\", \"Topic10\", \"Topic10\", \"Topic10\", \"Topic10\", \"Topic10\", \"Topic10\", \"Topic10\", \"Topic10\", \"Topic10\", \"Topic10\", \"Topic10\", \"Topic10\", \"Topic10\", \"Topic10\", \"Topic10\", \"Topic10\", \"Topic10\", \"Topic10\", \"Topic10\", \"Topic10\", \"Topic10\", \"Topic10\", \"Topic10\", \"Topic10\", \"Topic10\", \"Topic10\", \"Topic10\", \"Topic10\", \"Topic10\", \"Topic10\", \"Topic10\", \"Topic10\", \"Topic10\", \"Topic10\", \"Topic10\", \"Topic10\", \"Topic10\"], \"Freq\": [117955.0, 12776.0, 10460.0, 27019.0, 10234.0, 9191.0, 27135.0, 34575.0, 58742.0, 43163.0, 16952.0, 5932.0, 34357.0, 20975.0, 22401.0, 8524.0, 19713.0, 39827.0, 28466.0, 18886.0, 20829.0, 33640.0, 21548.0, 9236.0, 19108.0, 7670.0, 27691.0, 4010.0, 27403.0, 7745.0, 7669.6171875, 4323.4755859375, 2742.238037109375, 1185.4359130859375, 826.7571411132812, 654.0335083007812, 608.2592163085938, 458.6211853027344, 440.0635681152344, 367.3303527832031, 316.4086608886719, 314.53643798828125, 284.6727294921875, 262.07489013671875, 253.6088409423828, 748.7847290039062, 205.72738647460938, 234.59439086914062, 193.3983917236328, 163.51844787597656, 161.0822296142578, 160.13861083984375, 153.67977905273438, 152.5736541748047, 150.8600616455078, 150.22145080566406, 149.95420837402344, 149.7156524658203, 149.11294555664062, 149.06504821777344, 3597.245849609375, 4655.72509765625, 285.44232177734375, 370.8111877441406, 553.4014282226562, 875.8676147460938, 23820.970703125, 4428.26220703125, 4189.2548828125, 3772.240478515625, 1268.2998046875, 1392.3524169921875, 373.6827087402344, 3380.96484375, 723.012939453125, 863.5540161132812, 563.6438598632812, 1529.6893310546875, 1893.7255859375, 769.5901489257812, 6360.61669921875, 2230.19873046875, 3398.21435546875, 5083.3349609375, 1704.39892578125, 8790.7265625, 8365.4248046875, 1326.1419677734375, 16629.65234375, 3510.1298828125, 19772.580078125, 20698.421875, 10230.919921875, 27989.427734375, 3875.890380859375, 4627.06591796875, 10151.546875, 13717.560546875, 13594.2587890625, 12046.2529296875, 6466.9775390625, 6302.01171875, 5078.45947265625, 8053.3203125, 8104.97412109375, 9691.5478515625, 7154.7421875, 9689.0478515625, 22549.587890625, 8725.4375, 13209.1220703125, 13000.8017578125, 9853.068359375, 12384.6591796875, 9946.0302734375, 8566.4130859375, 11508.265625, 16289.2412109375, 7986.80029296875, 7685.7197265625, 7172.73291015625, 526.4092407226562, 525.395263671875, 484.5501403808594, 474.9512939453125, 434.36431884765625, 377.95660400390625, 353.3562927246094, 341.4744873046875, 339.7322998046875, 327.6719055175781, 299.5762939453125, 298.1783447265625, 288.9716796875, 280.4019470214844, 274.0028991699219, 273.1603698730469, 262.6987609863281, 261.43011474609375, 244.6083221435547, 243.1123809814453, 242.76963806152344, 242.4365234375, 240.1758270263672, 236.19540405273438, 232.47923278808594, 231.28707885742188, 226.990478515625, 219.5220947265625, 214.36375427246094, 210.63955688476562, 1612.4017333984375, 1822.248046875, 1050.8707275390625, 2620.658935546875, 1445.9447021484375, 1629.0657958984375, 820.399658203125, 1179.756591796875, 333.7747802734375, 779.599609375, 1522.77880859375, 1393.321044921875, 707.5050659179688, 626.682861328125, 870.7552490234375, 2609.256591796875, 878.4317626953125, 568.0326538085938, 2170.431640625, 1290.11572265625, 933.4727172851562, 6349.38037109375, 46815.98828125, 2869.7470703125, 1989.4776611328125, 6183.33544921875, 3798.61328125, 3095.998291015625, 2523.776123046875, 7694.10302734375, 1827.885498046875, 1578.0997314453125, 1720.63330078125, 5313.12744140625, 1955.314697265625, 1700.48876953125, 2427.599365234375, 1413.5972900390625, 4119.064453125, 6886.5439453125, 4633.03173828125, 6299.01171875, 3650.445556640625, 6039.21240234375, 8151.94140625, 5948.53076171875, 3742.481201171875, 3348.17578125, 6474.443359375, 9874.5908203125, 3954.475830078125, 5147.30419921875, 4535.884765625, 4163.03515625, 4353.42578125, 4548.48876953125, 3143.603515625, 4015.302001953125, 3861.4814453125, 3285.426025390625, 3356.22509765625, 3264.26513671875, 594.1770629882812, 360.3053283691406, 292.0722961425781, 282.5934753417969, 272.2701416015625, 235.1680145263672, 187.38739013671875, 186.6026153564453, 170.6041717529297, 164.43052673339844, 161.15936279296875, 160.66737365722656, 156.12380981445312, 152.3159942626953, 141.60357666015625, 140.28721618652344, 137.3072967529297, 134.981201171875, 133.6503448486328, 133.52976989746094, 132.81271362304688, 129.18165588378906, 126.2235107421875, 124.9773941040039, 124.80859375, 120.24726104736328, 117.49542236328125, 115.32172393798828, 114.56251525878906, 108.00078582763672, 145.94395446777344, 3374.84912109375, 387.15484619140625, 3826.630859375, 3374.8193359375, 4826.9609375, 176.08645629882812, 3622.888916015625, 17244.62109375, 1759.6533203125, 24230.88671875, 3336.221923828125, 6163.28076171875, 18550.017578125, 1842.7667236328125, 2408.09326171875, 17424.75, 14232.2412109375, 3166.697509765625, 1416.45654296875, 15565.1240234375, 10408.701171875, 1768.523193359375, 3672.533447265625, 6479.79345703125, 5332.68798828125, 9475.15234375, 8752.6357421875, 10240.7744140625, 2969.138916015625, 3339.03515625, 3361.006103515625, 8383.744140625, 11300.5673828125, 33998.82421875, 10308.228515625, 8774.7548828125, 7394.236328125, 18141.783203125, 20344.66796875, 5827.05126953125, 12233.9267578125, 7498.53466796875, 9118.3115234375, 10577.236328125, 7126.61474609375, 7242.78515625, 7130.01171875, 7309.126953125, 7843.25439453125, 6249.63623046875, 6464.76416015625, 6781.24169921875, 6487.84228515625, 1080.7938232421875, 342.4626159667969, 295.9750671386719, 288.854736328125, 272.2935791015625, 206.468505859375, 206.19407653808594, 202.77777099609375, 198.9790802001953, 193.4359893798828, 187.247802734375, 184.093994140625, 182.941650390625, 177.79354858398438, 177.3789825439453, 175.822509765625, 172.17442321777344, 170.9666290283203, 170.43521118164062, 168.41482543945312, 168.3183135986328, 166.9224090576172, 164.61892700195312, 162.84097290039062, 153.9602508544922, 152.13125610351562, 150.5584259033203, 149.2864227294922, 147.07437133789062, 145.39170837402344, 257.2373046875, 4959.7568359375, 3352.86279296875, 3522.515869140625, 4314.8203125, 2775.193603515625, 2507.2197265625, 2922.022705078125, 551.45751953125, 252.34701538085938, 1375.5133056640625, 486.835205078125, 1521.32568359375, 703.1152954101562, 524.8433227539062, 370.12713623046875, 4800.45458984375, 951.7523193359375, 804.6354370117188, 1695.1689453125, 522.0739135742188, 5276.46728515625, 2781.799560546875, 2134.276123046875, 2299.055419921875, 562.8271484375, 4972.5, 1379.1787109375, 4920.44189453125, 3421.498291015625, 1795.5732421875, 875.6505737304688, 2495.350830078125, 1824.2188720703125, 2803.60107421875, 1654.3641357421875, 1297.789794921875, 5351.865234375, 7502.89111328125, 1683.9100341796875, 2910.5498046875, 2521.152099609375, 3792.23486328125, 3264.224609375, 4755.09423828125, 4216.8525390625, 2823.15380859375, 2604.570556640625, 4991.8212890625, 2461.9384765625, 6796.171875, 3517.368896484375, 3908.714599609375, 3229.225341796875, 3089.7236328125, 3041.428955078125, 3121.434814453125, 3480.823974609375, 3325.970947265625, 2851.116455078125, 10233.96484375, 2654.95166015625, 1388.505126953125, 1284.34033203125, 1230.168701171875, 1052.5623779296875, 947.0613403320312, 853.5081176757812, 819.618896484375, 568.426513671875, 531.0081787109375, 514.462890625, 511.2474365234375, 500.51751708984375, 497.708740234375, 492.85687255859375, 490.12548828125, 482.3923034667969, 479.1560974121094, 484.70281982421875, 471.62615966796875, 468.3666687011719, 429.3736877441406, 421.87335205078125, 362.6163330078125, 353.7934265136719, 350.023193359375, 349.058837890625, 345.17950439453125, 280.9094543457031, 778.5741577148438, 3259.685546875, 2632.140380859375, 1357.622314453125, 1430.007568359375, 501.22259521484375, 1609.0511474609375, 1126.7117919921875, 2930.7470703125, 2087.794677734375, 1751.8779296875, 2860.949462890625, 1204.6383056640625, 17434.54296875, 2086.95654296875, 858.1664428710938, 5189.734375, 1222.9317626953125, 674.0679931640625, 3726.38671875, 1572.0377197265625, 2880.967041015625, 3553.83154296875, 6578.34228515625, 2532.451904296875, 1582.461181640625, 3262.494140625, 2264.7255859375, 2614.8076171875, 2926.829345703125, 2010.7227783203125, 2370.671142578125, 2877.81787109375, 2368.349853515625, 2479.7646484375, 1980.920166015625, 2494.922119140625, 1825.4783935546875, 1768.87841796875, 2014.9208984375, 1551.97998046875, 1357.80078125, 1122.4962158203125, 974.691162109375, 804.3970947265625, 701.9046630859375, 701.4149780273438, 672.0443725585938, 574.8048706054688, 513.5003051757812, 508.8333435058594, 506.028564453125, 505.30133056640625, 490.2291259765625, 474.6785888671875, 453.0037841796875, 421.1675109863281, 408.134521484375, 400.30462646484375, 381.25616455078125, 380.1293029785156, 362.8434143066406, 349.46722412109375, 347.3738708496094, 334.83575439453125, 334.0146484375, 318.3980712890625, 316.63653564453125, 315.1953430175781, 309.2899169921875, 790.583984375, 705.435302734375, 661.2492065429688, 472.34381103515625, 840.8189697265625, 1526.0545654296875, 1873.3988037109375, 493.6944580078125, 1091.9464111328125, 1175.3861083984375, 1328.093994140625, 922.6268310546875, 887.6580810546875, 1856.3680419921875, 658.51123046875, 1005.6459350585938, 1392.4178466796875, 774.7942504882812, 5792.09326171875, 1770.9609375, 2594.310546875, 1395.2806396484375, 3676.939453125, 879.7518920898438, 1116.4232177734375, 1457.7916259765625, 2670.526123046875, 2982.485595703125, 3528.2275390625, 4673.1708984375, 1391.4501953125, 2396.7861328125, 4571.27587890625, 2395.66845703125, 2212.8017578125, 1758.223388671875, 6458.65185546875, 1694.024169921875, 2549.8232421875, 2135.5078125, 1891.17626953125, 1944.4129638671875, 2268.603759765625, 2526.290283203125, 2005.073974609375, 2717.008056640625, 2650.44677734375, 1819.66015625, 2759.954833984375, 1883.3111572265625, 1726.3994140625, 1739.635009765625, 740.5760498046875, 5924.2080078125, 659.1273193359375, 596.3013916015625, 528.6737670898438, 460.2398681640625, 444.5606384277344, 444.0533752441406, 430.13555908203125, 423.27032470703125, 368.23321533203125, 358.8060607910156, 346.2912292480469, 334.19366455078125, 277.48583984375, 271.94384765625, 265.9856262207031, 261.5126953125, 260.95794677734375, 258.2626953125, 243.17636108398438, 232.6239471435547, 227.88246154785156, 226.46429443359375, 223.58724975585938, 221.52796936035156, 217.04327392578125, 215.79299926757812, 213.2165985107422, 212.02447509765625, 780.0188598632812, 1147.1298828125, 529.63330078125, 373.0133361816406, 393.3331298828125, 965.4542236328125, 1920.0074462890625, 449.99371337890625, 371.94683837890625, 741.2061767578125, 590.5410766601562, 607.0032958984375, 726.0714111328125, 1013.27978515625, 1096.8607177734375, 797.2022094726562, 970.0558471679688, 993.6775512695312, 1022.3887329101562, 1599.2010498046875, 931.901123046875, 676.8194580078125, 2356.453369140625, 2226.08154296875, 1188.0081787109375, 1035.873779296875, 1117.21826171875, 1172.377685546875, 1021.8312377929688, 1205.8128662109375, 1037.295166015625, 1635.7877197265625, 1097.6446533203125, 957.9888305664062, 1009.1290283203125, 841.5032348632812, 1108.89208984375, 859.5399780273438, 984.2139282226562, 1027.4066162109375, 1058.781494140625, 1031.171630859375, 972.56103515625, 951.3680419921875, 2742.429443359375, 823.119873046875, 771.1080322265625, 759.8071899414062, 718.4298095703125, 708.8219604492188, 596.1453247070312, 499.8690185546875, 372.40032958984375, 371.1665954589844, 309.100830078125, 308.28131103515625, 299.7220458984375, 281.84454345703125, 281.6272277832031, 1071.1605224609375, 261.7567138671875, 252.07220458984375, 236.2398681640625, 223.232177734375, 217.08529663085938, 215.40003967285156, 214.55148315429688, 211.1532745361328, 208.41822814941406, 207.61573791503906, 207.29483032226562, 190.71072387695312, 187.79881286621094, 183.8155059814453, 735.7742309570312, 921.3803100585938, 7402.169921875, 2537.910888671875, 9724.09375, 1566.975341796875, 1084.351806640625, 399.79425048828125, 2888.94091796875, 994.9130249023438, 778.198974609375, 715.331298828125, 2140.41845703125, 425.7492370605469, 857.1209716796875, 758.7996215820312, 562.9617919921875, 880.8295288085938, 1148.95654296875, 2343.559814453125, 822.635986328125, 1049.38818359375, 963.73046875, 1395.1961669921875, 819.4539794921875, 1603.185302734375, 2805.67626953125, 1814.9910888671875, 1228.669921875, 1602.0816650390625, 1622.109130859375, 1056.4429931640625, 1062.0313720703125, 1008.5926513671875, 929.7623901367188, 1514.4403076171875, 1248.6544189453125, 1071.215576171875, 990.0169067382812, 1861.4156494140625, 1205.047119140625, 1001.7965087890625, 996.7050170898438, 916.3970947265625, 760.5308227539062, 636.5088500976562, 567.98486328125, 553.2938232421875, 530.30712890625, 528.6492309570312, 526.270263671875, 521.2391357421875, 487.70648193359375, 481.7565612792969, 454.9878845214844, 411.6011657714844, 338.9854431152344, 315.9542541503906, 313.19293212890625, 312.7158203125, 307.679443359375, 295.81201171875, 289.1037902832031, 275.576904296875, 254.9547576904297, 252.41583251953125, 250.9039764404297, 232.2837371826172, 220.14382934570312, 554.7816162109375, 1632.5579833984375, 3138.17919921875, 7150.40576171875, 551.5320434570312, 1217.0521240234375, 850.9436645507812, 2250.20263671875, 751.8133544921875, 693.5767822265625, 3342.349609375, 1050.0830078125, 764.526123046875, 863.584716796875, 1035.810546875, 1201.15869140625, 819.3616333007812, 1739.380126953125, 1151.1722412109375, 870.4954223632812, 792.1660766601562, 848.9485473632812, 1826.6185302734375, 2465.29150390625, 891.4599609375, 1670.27197265625, 1533.0050048828125, 1621.429443359375, 1965.6195068359375, 1098.3836669921875, 1298.916015625, 1524.3037109375, 1216.352294921875, 1212.298095703125, 1133.0374755859375, 1089.9024658203125, 923.9625244140625, 955.2673950195312, 956.0350952148438, 960.1337280273438, 1700.7540283203125, 1363.503173828125, 1033.7008056640625, 775.9155883789062, 459.71453857421875, 420.3085632324219, 364.6776123046875, 333.1271057128906, 332.0434265136719, 330.641357421875, 327.8025817871094, 325.82086181640625, 310.6452941894531, 296.8745422363281, 295.14483642578125, 287.6397399902344, 287.33880615234375, 270.8545837402344, 265.1809387207031, 254.5848846435547, 252.60733032226562, 251.3264923095703, 231.05252075195312, 227.35064697265625, 206.6864471435547, 205.24644470214844, 204.07217407226562, 194.8489532470703, 193.68385314941406, 191.11769104003906, 981.89404296875, 996.1797485351562, 1685.729736328125, 1200.4815673828125, 566.6179809570312, 1704.5272216796875, 1312.1160888671875, 430.198486328125, 680.3230590820312, 661.8975830078125, 730.6524047851562, 557.638916015625, 604.108642578125, 1085.605224609375, 505.5528564453125, 907.8533325195312, 1068.4718017578125, 1164.8143310546875, 822.592041015625, 630.3027954101562, 442.10015869140625, 564.5078125, 578.5668334960938, 659.0159912109375, 703.34619140625, 549.8530883789062, 542.5425415039062, 721.3997192382812, 802.4445190429688, 607.431640625, 593.0972290039062, 815.9710693359375, 627.8027954101562, 655.3385009765625, 612.5169677734375], \"Term\": [\"film\", \"funny\", \"action\", \"bad\", \"horror\", \"comedy\", \"great\", \"really\", \"like\", \"good\", \"show\", \"war\", \"story\", \"think\", \"movies\", \"series\", \"watch\", \"would\", \"could\", \"best\", \"films\", \"see\", \"characters\", \"original\", \"plot\", \"worst\", \"people\", \"game\", \"get\", \"fun\", \"worst\", \"waste\", \"crap\", \"garbage\", \"sucks\", \"insult\", \"costs\", \"suck\", \"wasting\", \"1/10\", \"bin\", \"kidding\", \"damme\", \"2/10\", \"troll\", \"crappy\", \"nope\", \"lowest\", \"cells\", \"abomination\", \"osama\", \"rodman\", \"steaming\", \"maury\", \"percent\", \"dumbest\", \"shyamalan\", \"turd\", \"morons\", \"boll\", \"horrible\", \"stupid\", \"pitiful\", \"horrid\", \"blah\", \"redeeming\", \"bad\", \"awful\", \"terrible\", \"worse\", \"yeah\", \"pathetic\", \"drivel\", \"oh\", \"rubbish\", \"seconds\", \"idiot\", \"wasted\", \"avoid\", \"gon\", \"minutes\", \"ridiculous\", \"supposed\", \"money\", \"poorly\", \"thing\", \"nothing\", \"pointless\", \"could\", \"mean\", \"even\", \"would\", \"ever\", \"like\", \"boring\", \"someone\", \"know\", \"people\", \"get\", \"make\", \"ca\", \"want\", \"anything\", \"something\", \"say\", \"watch\", \"watching\", \"think\", \"one\", \"acting\", \"time\", \"really\", \"movies\", \"see\", \"made\", \"seen\", \"good\", \"film\", \"plot\", \"way\", \"never\", \"insight\", \"cultural\", \"scorsese\", \"connery\", \"sexuality\", \"symbolism\", \"demonstrates\", \"spiritual\", \"streep\", \"homosexuality\", \"che\", \"andre\", \"bunuel\", \"thoughtful\", \"beliefs\", \"fellini\", \"poetry\", \"lancaster\", \"cultures\", \"panther\", \"intimate\", \"explores\", \"keane\", \"exploration\", \"meryl\", \"arizona\", \"loneliness\", \"nero\", \"sellers\", \"depicting\", \"social\", \"society\", \"narrative\", \"documentary\", \"culture\", \"subject\", \"media\", \"issues\", \"subtlety\", \"understanding\", \"emotional\", \"nature\", \"humanity\", \"contrast\", \"themes\", \"viewer\", \"relationships\", \"individual\", \"art\", \"ultimately\", \"fascinating\", \"us\", \"film\", \"human\", \"french\", \"world\", \"audience\", \"perhaps\", \"cinema\", \"life\", \"reality\", \"message\", \"events\", \"director\", \"experience\", \"view\", \"often\", \"powerful\", \"may\", \"characters\", \"work\", \"many\", \"yet\", \"character\", \"story\", \"films\", \"without\", \"rather\", \"people\", \"one\", \"real\", \"much\", \"way\", \"two\", \"also\", \"even\", \"seems\", \"would\", \"time\", \"man\", \"well\", \"make\", \"bambi\", \"cried\", \"arkin\", \"sharpe\", \"beowulf\", \"roswell\", \"poirot\", \"enid\", \"saif\", \"rochester\", \"birch\", \"nikita\", \"sanjay\", \"bale\", \"banderas\", \"maine\", \"affleck\", \"angelina\", \"tucci\", \"firth\", \"boulevard\", \"desi\", \"mantle\", \"dil\", \"kareena\", \"vinny\", \"aamir\", \"omega\", \"karan\", \"hayek\", \"grodin\", \"enjoyed\", \"pleasantly\", \"liked\", \"loved\", \"book\", \"rukh\", \"recommend\", \"great\", \"surprised\", \"good\", \"definitely\", \"saw\", \"really\", \"disappointed\", \"overall\", \"story\", \"well\", \"enjoy\", \"fantastic\", \"see\", \"think\", \"opinion\", \"watched\", \"lot\", \"thought\", \"watch\", \"love\", \"movies\", \"read\", \"excellent\", \"seeing\", \"seen\", \"much\", \"film\", \"first\", \"characters\", \"better\", \"like\", \"one\", \"actors\", \"would\", \"best\", \"also\", \"time\", \"acting\", \"many\", \"character\", \"made\", \"could\", \"say\", \"little\", \"even\", \"way\", \"apartment\", \"pammy\", \"columbo\", \"sopranos\", \"mothers\", \"maris\", \"natives\", \"reilly\", \"deceased\", \"otto\", \"accepts\", \"frogs\", \"wilbur\", \"billie\", \"mcqueen\", \"pimp\", \"mobster\", \"notices\", \"architect\", \"conway\", \"hayward\", \"tierney\", \"o'neill\", \"patients\", \"emergency\", \"harper\", \"jody\", \"confronts\", \"cushing\", \"nanny\", \"policeman\", \"father\", \"daughter\", \"son\", \"mother\", \"husband\", \"finds\", \"police\", \"realizes\", \"dealer\", \"decides\", \"pregnant\", \"prison\", \"discovers\", \"arrives\", \"neighborhood\", \"wife\", \"hospital\", \"asks\", \"sister\", \"learns\", \"woman\", \"town\", \"brother\", \"murder\", \"jail\", \"family\", \"meets\", \"girl\", \"home\", \"parents\", \"mom\", \"wants\", \"tells\", \"boy\", \"begins\", \"married\", \"young\", \"man\", \"crime\", \"house\", \"friend\", \"gets\", \"goes\", \"life\", \"back\", \"takes\", \"death\", \"get\", \"help\", \"one\", \"go\", \"two\", \"old\", \"new\", \"find\", \"end\", \"story\", \"also\", \"love\", \"horror\", \"gore\", \"zombie\", \"vampire\", \"slasher\", \"zombies\", \"dracula\", \"holmes\", \"gory\", \"vampires\", \"godzilla\", \"scares\", \"cannibal\", \"karloff\", \"halloween\", \"lugosi\", \"chainsaw\", \"chaney\", \"frankenstein\", \"satan\", \"hammer\", \"werewolf\", \"13th\", \"spooky\", \"argento\", \"sherlock\", \"giallo\", \"romero\", \"mummy\", \"phantasm\", \"massacre\", \"killer\", \"blood\", \"creepy\", \"nudity\", \"atmospheric\", \"monster\", \"cult\", \"dead\", \"genre\", \"scary\", \"effects\", \"atmosphere\", \"film\", \"budget\", \"serial\", \"films\", \"suspense\", \"low-budget\", \"scenes\", \"flick\", \"pretty\", \"plot\", \"one\", \"quite\", \"fans\", \"also\", \"director\", \"little\", \"much\", \"original\", \"scene\", \"even\", \"well\", \"good\", \"though\", \"like\", \"bit\", \"rather\", \"really\", \"grant\", \"joan\", \"davis\", \"crawford\", \"cagney\", \"kelly\", \"cary\", \"dunne\", \"bette\", \"mgm\", \"mickey\", \"seasons\", \"wilder\", \"quaid\", \"irene\", \"broadway\", \"rogers\", \"nominated\", \"barrymore\", \"beatles\", \"costello\", \"norma\", \"judy\", \"berry\", \"holden\", \"diana\", \"sings\", \"travolta\", \"caine\", \"loy\", \"powell\", \"chaplin\", \"lloyd\", \"brooks\", \"singer\", \"season\", \"musical\", \"turner\", \"singing\", \"robin\", \"dance\", \"williams\", \"dennis\", \"song\", \"russell\", \"match\", \"stage\", \"douglas\", \"show\", \"career\", \"star\", \"songs\", \"role\", \"dancing\", \"oscar\", \"supporting\", \"john\", \"performance\", \"cast\", \"best\", \"george\", \"play\", \"great\", \"played\", \"plays\", \"stars\", \"one\", \"episode\", \"years\", \"music\", \"actor\", \"tv\", \"new\", \"love\", \"series\", \"also\", \"time\", \"screen\", \"film\", \"two\", \"big\", \"first\", \"flynn\", \"war\", \"nazi\", \"fonda\", \"westerns\", \"sir\", \"wwii\", \"welles\", \"errol\", \"hopkins\", \"mitchum\", \"bronson\", \"nazis\", \"francisco\", \"hitler\", \"soviet\", \"germans\", \"virginia\", \"troops\", \"orson\", \"1947\", \"dakota\", \"dodge\", \"kidman\", \"bachchan\", \"victoria\", \"akbar\", \"hackman\", \"colonel\", \"madame\", \"ford\", \"soldiers\", \"vietnam\", \"union\", \"civil\", \"president\", \"western\", \"indians\", \"iraq\", \"india\", \"soldier\", \"united\", \"wayne\", \"army\", \"henry\", \"russian\", \"military\", \"indian\", \"german\", \"british\", \"government\", \"anthony\", \"american\", \"john\", \"king\", \"battle\", \"america\", \"country\", \"richard\", \"history\", \"james\", \"role\", \"men\", \"white\", \"black\", \"novel\", \"made\", \"robert\", \"years\", \"great\", \"good\", \"time\", \"man\", \"also\", \"jokes\", \"murphy\", \"woody\", \"sandler\", \"gags\", \"slapstick\", \"funnier\", \"freddy\", \"lenny\", \"myers\", \"bunny\", \"stan\", \"comedians\", \"carrey\", \"daffy\", \"funniest\", \"seth\", \"bernie\", \"sketch\", \"fart\", \"deniro\", \"nerd\", \"dante\", \"looney\", \"zohan\", \"gremlins\", \"it`s\", \"turtles\", \"skits\", \"levy\", \"unfunny\", \"adam\", \"comedy\", \"hilarious\", \"funny\", \"laughs\", \"comedies\", \"gag\", \"humor\", \"allen\", \"eddie\", \"comedic\", \"laugh\", \"spoof\", \"steve\", \"kevin\", \"parody\", \"cartoon\", \"comic\", \"fun\", \"humour\", \"gay\", \"tom\", \"kids\", \"laughing\", \"guy\", \"like\", \"show\", \"black\", \"little\", \"character\", \"moments\", \"sex\", \"school\", \"jack\", \"one\", \"get\", \"two\", \"gets\", \"animation\", \"animated\", \"arts\", \"martial\", \"anime\", \"kong\", \"dragon\", \"batman\", \"hong\", \"fu\", \"ninja\", \"woo\", \"seagal\", \"kung\", \"chan\", \"miike\", \"candyman\", \"ringu\", \"li\", \"sadako\", \"ants\", \"highlander\", \"asoka\", \"samurai\", \"voiced\", \"ninjas\", \"norris\", \"dragons\", \"ash\", \"tucker\", \"japan\", \"japanese\", \"game\", \"action\", \"sword\", \"disney\", \"games\", \"fight\", \"wars\", \"fights\", \"series\", \"fighting\", \"chinese\", \"bruce\", \"sequences\", \"hero\", \"fantasy\", \"original\", \"evil\", \"battle\", \"villain\", \"lee\", \"great\", \"one\", \"sequel\", \"first\", \"best\", \"also\", \"like\", \"effects\", \"scenes\", \"story\", \"new\", \"movies\", \"films\", \"characters\", \"fans\", \"world\", \"plot\", \"good\", \"alien\", \"ship\", \"aliens\", \"shark\", \"trek\", \"scientists\", \"angus\", \"snoopy\", \"karen\", \"vegas\", \"peterson\", \"porky\", \"commander\", \"sharks\", \"shields\", \"tarzan\", \"species\", \"sinbad\", \"ships\", \"enterprise\", \"snipes\", \"wesley\", \"landing\", \"tribe\", \"aboard\", \"tina\", \"ape\", \"bo\", \"spock\", \"bounty\", \"plane\", \"planet\", \"space\", \"science\", \"nuclear\", \"earth\", \"island\", \"predator\", \"pilot\", \"hunter\", \"sea\", \"robot\", \"humans\", \"water\", \"jungle\", \"giant\", \"sci-fi\", \"crew\", \"race\", \"scientist\", \"flight\", \"boat\", \"fly\", \"captain\", \"charlie\", \"crash\", \"brown\", \"future\", \"human\", \"fiction\", \"attack\", \"back\", \"team\", \"star\", \"special\"], \"Total\": [117955.0, 12776.0, 10460.0, 27019.0, 10234.0, 9191.0, 27135.0, 34575.0, 58742.0, 43163.0, 16952.0, 5932.0, 34357.0, 20975.0, 22401.0, 8524.0, 19713.0, 39827.0, 28466.0, 18886.0, 20829.0, 33640.0, 21548.0, 9236.0, 19108.0, 7670.0, 27691.0, 4010.0, 27403.0, 7745.0, 7670.54296875, 4324.3681640625, 2743.130615234375, 1186.3287353515625, 827.6500854492188, 654.9700927734375, 609.152099609375, 459.5139465332031, 440.9564514160156, 368.22308349609375, 317.3016052246094, 315.42926025390625, 285.5655212402344, 262.9676513671875, 254.50160217285156, 751.9591064453125, 206.6202392578125, 235.6265869140625, 194.29139709472656, 164.41123962402344, 161.97549438476562, 161.03138732910156, 154.57273864746094, 153.466796875, 151.7533721923828, 151.11424255371094, 150.8472900390625, 150.6084747314453, 150.0057830810547, 149.9578094482422, 3728.785888671875, 4940.759765625, 289.11041259765625, 377.91766357421875, 569.3534545898438, 911.8330078125, 27019.34375, 4787.3544921875, 4529.45849609375, 4103.265625, 1349.584228515625, 1508.2874755859375, 383.7334289550781, 3836.067138671875, 766.6696166992188, 932.6741943359375, 594.8231811523438, 1751.778076171875, 2229.2001953125, 838.188232421875, 8557.0498046875, 2711.682373046875, 4315.46240234375, 6787.3291015625, 2020.1192626953125, 13245.5673828125, 12640.4296875, 1547.0777587890625, 28466.78515625, 4817.6572265625, 36871.44921875, 39827.6953125, 17457.833984375, 58742.453125, 5463.81884765625, 6790.12158203125, 18041.734375, 27691.6015625, 27403.91796875, 23712.244140625, 10710.6376953125, 10649.5693359375, 8087.58056640625, 15165.197265625, 15338.3779296875, 19713.919921875, 13141.1044921875, 20975.421875, 77601.2265625, 17898.859375, 35191.1171875, 34575.1875, 22401.384765625, 33640.5, 23163.302734375, 19138.373046875, 43163.53515625, 117955.9296875, 19108.9140625, 23394.2265625, 19248.37109375, 527.3006591796875, 526.2867431640625, 485.44158935546875, 475.8429260253906, 435.2557373046875, 378.84796142578125, 354.2477722167969, 342.3658752441406, 340.6237487792969, 328.5653381347656, 300.4675598144531, 299.0697326660156, 289.8631286621094, 281.2934265136719, 274.8943176269531, 274.0517272949219, 263.5902404785156, 262.3216857910156, 245.49974060058594, 244.0038604736328, 243.66104125976562, 243.32786560058594, 241.0672149658203, 237.0867919921875, 233.37063598632812, 232.17921447753906, 227.88186645507812, 220.41366577148438, 215.25515747070312, 211.53103637695312, 1731.548583984375, 1972.5469970703125, 1122.9134521484375, 2929.315673828125, 1629.3687744140625, 1857.4923095703125, 893.9810180664062, 1379.17724609375, 345.1722717285156, 877.6155395507812, 1848.9312744140625, 1681.1092529296875, 791.976318359375, 695.0159912109375, 1026.2117919921875, 3598.86376953125, 1038.72998046875, 633.0158081054688, 3002.15625, 1645.293701171875, 1133.4996337890625, 10866.26171875, 117955.9296875, 4341.60693359375, 2820.064208984375, 11200.99609375, 6196.87646484375, 4989.5615234375, 4000.529052734375, 17354.73046875, 2734.625244140625, 2268.736572265625, 2543.9130859375, 12054.9091796875, 3159.263427734375, 2621.884765625, 4332.22998046875, 2043.216552734375, 9918.455078125, 21548.10546875, 12125.99609375, 19889.4453125, 8528.1240234375, 20466.787109375, 34357.15234375, 20829.5546875, 9637.154296875, 8220.537109375, 27691.6015625, 77601.2265625, 14067.978515625, 28395.123046875, 23394.2265625, 20117.4921875, 27062.71875, 36871.44921875, 10993.60546875, 39827.6953125, 35191.1171875, 16194.3603515625, 28625.76171875, 23712.244140625, 595.0694580078125, 361.1978759765625, 292.9650573730469, 283.4859924316406, 273.1626892089844, 236.0633544921875, 188.2797088623047, 187.49497985839844, 171.49655151367188, 165.32286071777344, 162.0520782470703, 161.55984497070312, 157.0162353515625, 153.20860290527344, 142.49591064453125, 141.1800994873047, 138.1998748779297, 135.87353515625, 134.5428924560547, 134.42218017578125, 133.7055206298828, 130.07418823242188, 127.11630249023438, 125.8697280883789, 125.70120239257812, 121.1397476196289, 118.3877182006836, 116.21460723876953, 115.45500946044922, 108.8931884765625, 147.99789428710938, 3693.26318359375, 404.6764831542969, 4367.43017578125, 3941.419189453125, 5779.912109375, 180.29452514648438, 4697.2509765625, 27135.28125, 2291.803955078125, 43163.53515625, 4776.1201171875, 9618.630859375, 34575.1875, 2578.93017578125, 3526.22265625, 34357.15234375, 28625.76171875, 5052.53515625, 1995.418701171875, 33640.5, 20975.421875, 2644.7236328125, 6305.517578125, 12324.966796875, 9829.62890625, 19713.919921875, 18386.759765625, 22401.384765625, 5034.2109375, 5908.87841796875, 6003.54248046875, 19138.373046875, 28395.123046875, 117955.9296875, 25713.29296875, 21548.10546875, 17166.634765625, 58742.453125, 77601.2265625, 12746.6103515625, 39827.6953125, 18886.759765625, 27062.71875, 35191.1171875, 17898.859375, 19889.4453125, 20466.787109375, 23163.302734375, 28466.78515625, 15338.3779296875, 19227.7734375, 36871.44921875, 23394.2265625, 1081.7664794921875, 343.3577880859375, 296.8697814941406, 289.7496337890625, 273.1883544921875, 207.36334228515625, 207.0890655517578, 203.67298889160156, 199.87384033203125, 194.33087158203125, 188.1427001953125, 184.98899841308594, 183.83636474609375, 178.6883087158203, 178.27374267578125, 176.71728515625, 173.06922912597656, 171.86141967773438, 171.32994079589844, 169.30970764160156, 169.21336364746094, 167.81710815429688, 165.51417541503906, 163.73568725585938, 154.85528564453125, 153.02618408203125, 151.45314025878906, 150.18115234375, 147.96926879882812, 146.2864532470703, 259.42181396484375, 5328.33837890625, 3585.3798828125, 3843.690185546875, 4767.41162109375, 3059.218017578125, 2798.482666015625, 3336.398193359375, 587.0875854492188, 258.2961730957031, 1546.1845703125, 518.2415161132812, 1746.314208984375, 775.8402709960938, 571.311279296875, 392.47113037109375, 6204.95263671875, 1106.39404296875, 931.5725708007812, 2135.017822265625, 580.6891479492188, 7614.81494140625, 3813.823974609375, 2876.96826171875, 3166.60009765625, 644.9280395507812, 7905.609375, 1815.8775634765625, 8161.66552734375, 5341.98291015625, 2505.85986328125, 1076.9710693359375, 3758.80224609375, 2582.073974609375, 4388.22509765625, 2371.0654296875, 1760.5855712890625, 10549.3935546875, 16194.3603515625, 2447.7294921875, 5077.8798828125, 4300.20166015625, 9215.990234375, 7290.44482421875, 17354.73046875, 14186.3857421875, 6872.36669921875, 5935.43994140625, 27403.91796875, 5419.00927734375, 77601.2265625, 14535.4755859375, 20117.4921875, 11630.8251953125, 12554.8359375, 12516.783203125, 15564.0888671875, 34357.15234375, 27062.71875, 18386.759765625, 10234.8583984375, 2655.84521484375, 1389.39892578125, 1285.234130859375, 1231.0625, 1053.4561767578125, 947.9550170898438, 854.40185546875, 820.5126953125, 569.3203125, 531.9020385742188, 515.3566284179688, 512.14111328125, 501.4111633300781, 498.60247802734375, 493.7505187988281, 491.0191650390625, 483.2860107421875, 480.0498962402344, 485.6114196777344, 472.52001953125, 469.26031494140625, 430.26739501953125, 422.76708984375, 363.5099792480469, 354.68719482421875, 350.9168395996094, 349.95257568359375, 346.0732421875, 281.8031921386719, 800.8439331054688, 4151.5859375, 3299.671142578125, 1597.5264892578125, 1720.506103515625, 526.2783203125, 2108.06591796875, 1455.7606201171875, 5617.8740234375, 3717.5341796875, 2967.165283203125, 6696.185546875, 1900.8240966796875, 117955.9296875, 4557.962890625, 1181.4432373046875, 20829.5546875, 2115.821044921875, 817.3631591796875, 15231.8125, 3496.65380859375, 10514.404296875, 19108.9140625, 77601.2265625, 11059.546875, 4226.1689453125, 27062.71875, 12054.9091796875, 19227.7734375, 28395.123046875, 9236.6015625, 16294.2392578125, 36871.44921875, 28625.76171875, 43163.53515625, 12993.3505859375, 58742.453125, 9064.2998046875, 8220.537109375, 34575.1875, 1552.8701171875, 1358.69091796875, 1123.38818359375, 975.5811767578125, 805.287109375, 702.7948608398438, 702.3050537109375, 672.9343872070312, 575.6948852539062, 514.3903198242188, 509.7234802246094, 506.91864013671875, 506.1913757324219, 491.1192932128906, 475.5686340332031, 453.89373779296875, 422.0575866699219, 409.0245666503906, 401.194580078125, 382.146240234375, 381.0193786621094, 363.7333984375, 350.3572998046875, 348.2639465332031, 335.72576904296875, 334.9048156738281, 319.2881774902344, 317.5267639160156, 316.08551025390625, 310.1799011230469, 804.6006469726562, 722.5276489257812, 678.6508178710938, 481.03973388671875, 891.5858764648438, 1758.2623291015625, 2214.636474609375, 516.1596069335938, 1263.3150634765625, 1380.163818359375, 1627.77685546875, 1074.2864990234375, 1046.461669921875, 2660.0283203125, 744.2872314453125, 1284.4925537109375, 2032.8548583984375, 948.1416625976562, 16952.22265625, 3112.92724609375, 5463.55078125, 2245.7060546875, 9356.9677734375, 1140.44775390625, 1641.1092529296875, 2524.9658203125, 6719.96484375, 8275.74609375, 11233.583984375, 18886.759765625, 2372.737548828125, 6523.63427734375, 27135.28125, 7845.7958984375, 6813.4541015625, 4365.8505859375, 77601.2265625, 4178.5556640625, 13053.1611328125, 8947.6416015625, 6400.65478515625, 7279.01806640625, 12554.8359375, 18386.759765625, 8524.255859375, 27062.71875, 35191.1171875, 6857.47705078125, 117955.9296875, 20117.4921875, 9960.1572265625, 25713.29296875, 741.470458984375, 5932.22705078125, 660.0218505859375, 597.1959838867188, 529.568359375, 461.1343688964844, 445.45513916015625, 444.9478759765625, 431.030029296875, 424.1648864746094, 369.1277160644531, 359.7006530761719, 347.18572998046875, 335.0882568359375, 278.38031005859375, 272.8382568359375, 266.88006591796875, 262.4073181152344, 261.8524169921875, 259.1572265625, 244.07107543945312, 233.5186309814453, 228.77713012695312, 227.35919189453125, 224.48175048828125, 222.42259216308594, 217.93771362304688, 216.68751525878906, 214.11105346679688, 212.91920471191406, 787.9805297851562, 1188.6710205078125, 542.5488891601562, 380.6965026855469, 404.0382080078125, 1033.8486328125, 2141.5029296875, 467.95013427734375, 384.4379577636719, 800.6212158203125, 650.7726440429688, 672.7029418945312, 844.256591796875, 1240.043212890625, 1380.935791015625, 962.5255126953125, 1233.5626220703125, 1295.384033203125, 1372.2501220703125, 2709.016845703125, 1357.5467529296875, 919.26806640625, 6511.78173828125, 6719.96484375, 2461.317626953125, 1948.221435546875, 2285.15478515625, 2659.292236328125, 2168.057373046875, 3877.202392578125, 2816.23583984375, 9356.9677734375, 5686.248046875, 3778.69091796875, 6038.72119140625, 2658.257080078125, 23163.302734375, 3165.6083984375, 13053.1611328125, 27135.28125, 43163.53515625, 35191.1171875, 16194.3603515625, 27062.71875, 2743.32373046875, 824.0142822265625, 772.0023803710938, 760.7014770507812, 719.3240966796875, 709.71630859375, 597.0397338867188, 500.7634582519531, 373.294677734375, 372.0610046386719, 309.99517822265625, 309.1757507324219, 300.61639404296875, 282.73883056640625, 282.5216064453125, 1074.7833251953125, 262.651123046875, 252.9665985107422, 237.13429260253906, 224.1265411376953, 217.9797821044922, 216.29446411132812, 215.44583129882812, 212.047607421875, 209.3125457763672, 208.51011657714844, 208.189208984375, 191.60513305664062, 188.6931610107422, 184.70986938476562, 743.0197143554688, 1005.70751953125, 9191.0810546875, 2998.208251953125, 12776.11328125, 1852.57763671875, 1321.1551513671875, 436.48284912109375, 4193.9599609375, 1269.708740234375, 981.5289916992188, 940.78662109375, 4034.93603515625, 498.40509033203125, 1269.6328125, 1092.915771484375, 756.7108154296875, 1491.5859375, 2297.341552734375, 7745.90478515625, 1450.009033203125, 2525.72607421875, 2331.121826171875, 4905.4873046875, 1701.3651123046875, 9190.2939453125, 58742.453125, 16952.22265625, 6038.72119140625, 19227.7734375, 20466.787109375, 4830.17041015625, 5197.529296875, 4427.8720703125, 2909.046630859375, 77601.2265625, 27403.91796875, 20117.4921875, 9215.990234375, 1862.3077392578125, 1205.939208984375, 1002.6885986328125, 997.5970458984375, 917.2890625, 761.4229125976562, 637.4009399414062, 568.8768920898438, 554.185791015625, 531.1990966796875, 529.5411987304688, 527.1624145507812, 522.1311645507812, 488.5985107421875, 482.6485900878906, 455.87994384765625, 412.49322509765625, 339.8774719238281, 316.84625244140625, 314.0849609375, 313.6079406738281, 308.57147216796875, 296.7040710449219, 289.995849609375, 276.468994140625, 255.84678649902344, 253.30789184570312, 251.7960662841797, 233.17584228515625, 221.03619384765625, 570.7739868164062, 1751.1619873046875, 4010.11669921875, 10460.7236328125, 609.4364624023438, 1525.449951171875, 1019.7239990234375, 3386.127685546875, 971.7354125976562, 892.8821411132812, 8524.255859375, 1743.301025390625, 1109.7342529296875, 1558.0548095703125, 2196.8984375, 3121.3740234375, 1596.2218017578125, 9236.6015625, 3905.728271484375, 1948.221435546875, 1596.9984130859375, 2198.027587890625, 27135.28125, 77601.2265625, 2694.1123046875, 25713.29296875, 18886.759765625, 27062.71875, 58742.453125, 6696.185546875, 15231.8125, 34357.15234375, 12554.8359375, 22401.384765625, 20829.5546875, 21548.10546875, 4226.1689453125, 11200.99609375, 19108.9140625, 43163.53515625, 1701.662353515625, 1364.3966064453125, 1034.6126708984375, 776.8089599609375, 460.6079406738281, 421.22998046875, 365.5710754394531, 334.0204772949219, 332.93695068359375, 331.5348815917969, 328.6964416503906, 326.7144470214844, 311.5387268066406, 297.76788330078125, 296.0384216308594, 288.53314208984375, 288.23388671875, 271.7480163574219, 266.0743713378906, 255.4783172607422, 253.5008087158203, 252.2199249267578, 231.94606018066406, 228.2440185546875, 207.57986450195312, 206.13998413085938, 204.9656219482422, 195.7425079345703, 194.5771942138672, 192.0111846923828, 1054.8082275390625, 1123.6820068359375, 2123.900390625, 1457.8292236328125, 635.1199340820312, 2252.633544921875, 1830.733154296875, 494.87603759765625, 866.494873046875, 849.9036254882812, 963.4381103515625, 685.4334716796875, 762.8246459960938, 1637.1865234375, 622.5326538085938, 1398.28515625, 1860.84033203125, 2163.88525390625, 1336.0968017578125, 939.2568359375, 540.6271362304688, 826.1202392578125, 872.9315795898438, 1190.38330078125, 1397.672607421875, 917.0418701171875, 899.1600952148438, 2568.340576171875, 4341.60693359375, 1476.4056396484375, 1327.15185546875, 14186.3857421875, 2149.57568359375, 5463.55078125, 6130.14111328125], \"loglift\": [30.0, 29.0, 28.0, 27.0, 26.0, 25.0, 24.0, 23.0, 22.0, 21.0, 20.0, 19.0, 18.0, 17.0, 16.0, 15.0, 14.0, 13.0, 12.0, 11.0, 10.0, 9.0, 8.0, 7.0, 6.0, 5.0, 4.0, 3.0, 2.0, 1.0, 1.510599970817566, 1.5104999542236328, 1.5104000568389893, 1.5099999904632568, 1.5096999406814575, 1.5092999935150146, 1.5092999935150146, 1.5088000297546387, 1.5087000131607056, 1.5082999467849731, 1.5078999996185303, 1.5078999996185303, 1.507599949836731, 1.5073000192642212, 1.507200002670288, 1.506500005722046, 1.5063999891281128, 1.5062999725341797, 1.506100058555603, 1.5053000450134277, 1.5052000284194946, 1.5052000284194946, 1.5048999786376953, 1.5048999786376953, 1.5047999620437622, 1.5047999620437622, 1.5047999620437622, 1.5047999620437622, 1.5047999620437622, 1.5047999620437622, 1.4747999906539917, 1.451300024986267, 1.4980000257492065, 1.4917999505996704, 1.482300043106079, 1.4704999923706055, 1.3846999406814575, 1.432800054550171, 1.4327000379562378, 1.4265999794006348, 1.4486000537872314, 1.430799961090088, 1.4842000007629395, 1.3844000101089478, 1.4521000385284424, 1.4336999654769897, 1.4569000005722046, 1.3752000331878662, 1.347599983215332, 1.4254000186920166, 1.2141000032424927, 1.3152999877929688, 1.2718000411987305, 1.22160005569458, 1.3408000469207764, 1.1008000373840332, 1.0979000329971313, 1.356600046157837, 0.9732000231742859, 1.194100022315979, 0.8876000046730042, 0.8561999797821045, 0.9764000177383423, 0.7694000005722046, 1.1674000024795532, 1.1272000074386597, 0.935699999332428, 0.8083000183105469, 0.8097000122070312, 0.8335000276565552, 1.0061999559402466, 0.9861000180244446, 1.0454000234603882, 0.8777999877929688, 0.8729000091552734, 0.8007000088691711, 0.9028000235557556, 0.7383999824523926, 0.27489998936653137, 0.7922000288963318, 0.5307999849319458, 0.5325999855995178, 0.6894000172615051, 0.5115000009536743, 0.6653000116348267, 0.7069000005722046, 0.18880000710487366, -0.4690999984741211, 0.6384000182151794, 0.397599995136261, 0.5235999822616577, 1.7210999727249146, 1.7210999727249146, 1.720900058746338, 1.720900058746338, 1.7207000255584717, 1.7203999757766724, 1.7202999591827393, 1.7201999425888062, 1.7201999425888062, 1.7201000452041626, 1.7197999954223633, 1.7197999954223633, 1.7196999788284302, 1.719599962234497, 1.719499945640564, 1.719499945640564, 1.7194000482559204, 1.7194000482559204, 1.719099998474121, 1.719099998474121, 1.719099998474121, 1.719099998474121, 1.719099998474121, 1.718999981880188, 1.7188999652862549, 1.7188999652862549, 1.7188999652862549, 1.7187000513076782, 1.7186000347137451, 1.7186000347137451, 1.6514999866485596, 1.6434999704360962, 1.656499981880188, 1.6114000082015991, 1.6032999753952026, 1.591599941253662, 1.6368999481201172, 1.56659996509552, 1.6892000436782837, 1.6043000221252441, 1.5286999940872192, 1.534999966621399, 1.6100000143051147, 1.6193000078201294, 1.558500051498413, 1.4012000560760498, 1.5551999807357788, 1.6145000457763672, 1.3983999490737915, 1.479599952697754, 1.5285999774932861, 1.1855000257492065, 0.7986999750137329, 1.3087999820709229, 1.373900055885315, 1.128600001335144, 1.2333999872207642, 1.2454999685287476, 1.2620999813079834, 0.9093999862670898, 1.3199000358581543, 1.3597999811172485, 1.3317999839782715, 0.9035000205039978, 1.2430000305175781, 1.2898000478744507, 1.1435999870300293, 1.3544000387191772, 0.843999981880188, 0.582099974155426, 0.7605999708175659, 0.5730000138282776, 0.8743000030517578, 0.5022000074386597, 0.2842000126838684, 0.46950000524520874, 0.7768999934196472, 0.8245999813079834, 0.2694999873638153, -0.33880001306533813, 0.4537000060081482, 0.014999999664723873, 0.08229999989271164, 0.14740000665187836, -0.10440000146627426, -0.3698999881744385, 0.4708000123500824, -0.5716999769210815, -0.4869999885559082, 0.12759999930858612, -0.4207000136375427, -0.26019999384880066, 1.7604000568389893, 1.7595000267028809, 1.7589000463485718, 1.7588000297546387, 1.7587000131607056, 1.7581000328063965, 1.757200002670288, 1.757200002670288, 1.756700038909912, 1.756500005722046, 1.7563999891281128, 1.7563999891281128, 1.7561999559402466, 1.756100058555603, 1.7556999921798706, 1.7555999755859375, 1.7554999589920044, 1.7553000450134277, 1.7553000450134277, 1.7553000450134277, 1.7552000284194946, 1.7551000118255615, 1.7548999786376953, 1.7547999620437622, 1.7547999620437622, 1.7545000314712524, 1.7544000148773193, 1.7541999816894531, 1.7541999816894531, 1.7537000179290771, 1.7480000257492065, 1.6718000173568726, 1.7177000045776367, 1.629699945449829, 1.6066999435424805, 1.5817999839782715, 1.7382999658584595, 1.5022000074386597, 1.3085999488830566, 1.4976999759674072, 1.1845999956130981, 1.4031000137329102, 1.3167999982833862, 1.139299988746643, 1.4257999658584595, 1.3804999589920044, 1.0829999446868896, 1.063099980354309, 1.294700026512146, 1.4191999435424805, 0.9911999702453613, 1.0612000226974487, 1.3595000505447388, 1.2214000225067139, 1.11899995803833, 1.1504000425338745, 1.0292999744415283, 1.019700050354004, 0.979200005531311, 1.2339999675750732, 1.1912000179290771, 1.1818000078201294, 0.9365000128746033, 0.8406000137329102, 0.5180000066757202, 0.8478999733924866, 0.8634999990463257, 0.919700026512146, 0.5870000123977661, 0.42320001125335693, 0.979200005531311, 0.58160001039505, 0.8381999731063843, 0.6740999817848206, 0.5598000288009644, 0.8410000205039978, 0.751800000667572, 0.7074000239372253, 0.6085000038146973, 0.47290000319480896, 0.8640999794006348, 0.6718999743461609, 0.06870000064373016, 0.47940000891685486, 2.24429988861084, 2.2425999641418457, 2.2421998977661133, 2.2421000003814697, 2.2418999671936035, 2.2409000396728516, 2.2409000396728516, 2.240799903869629, 2.2407000064849854, 2.240600109100342, 2.2404000759124756, 2.240299940109253, 2.240299940109253, 2.2402000427246094, 2.2402000427246094, 2.2400999069213867, 2.240000009536743, 2.240000009536743, 2.240000009536743, 2.2399001121520996, 2.2399001121520996, 2.2399001121520996, 2.239799976348877, 2.2397000789642334, 2.2393999099731445, 2.239300012588501, 2.239300012588501, 2.2392001152038574, 2.2390999794006348, 2.2390999794006348, 2.2367000579833984, 2.1735000610351562, 2.178100109100342, 2.157900094985962, 2.145400047302246, 2.1477999687194824, 2.1352999210357666, 2.112600088119507, 2.1826000213623047, 2.22189998626709, 2.128200054168701, 2.1826999187469482, 2.107300043106079, 2.1468000411987305, 2.160399913787842, 2.1865999698638916, 1.9886000156402588, 2.094599962234497, 2.0987000465393066, 2.0144999027252197, 2.1387999057769775, 1.8783999681472778, 1.9297000169754028, 1.9465999603271484, 1.9249999523162842, 2.1089999675750732, 1.781499981880188, 1.9701000452041626, 1.7390999794006348, 1.7997000217437744, 1.9119000434875488, 2.038300037384033, 1.8355000019073486, 1.8977999687194824, 1.7971999645233154, 1.8853000402450562, 1.9401999711990356, 1.56659996509552, 1.4758000373840332, 1.8711999654769897, 1.688599944114685, 1.711300015449524, 1.357200026512146, 1.4416999816894531, 0.9505000114440918, 1.031999945640564, 1.3554999828338623, 1.4214999675750732, 0.5422999858856201, 1.4562000036239624, -0.1899999976158142, 0.8263000249862671, 0.6068000197410583, 0.9638000130653381, 0.8432000279426575, 0.8305000066757202, 0.6384999752044678, -0.04430000111460686, 0.14880000054836273, 0.3813000023365021, 2.4430999755859375, 2.4428999423980713, 2.4426000118255615, 2.442500114440918, 2.442500114440918, 2.4423999786376953, 2.4423000812530518, 2.442199945449829, 2.4421000480651855, 2.4416000843048096, 2.441499948501587, 2.441499948501587, 2.441499948501587, 2.4414000511169434, 2.4414000511169434, 2.4414000511169434, 2.4414000511169434, 2.4414000511169434, 2.4414000511169434, 2.4412999153137207, 2.4412999153137207, 2.4412999153137207, 2.4410998821258545, 2.4410998821258545, 2.4407999515533447, 2.440700054168701, 2.440700054168701, 2.440700054168701, 2.4405999183654785, 2.440000057220459, 2.4149999618530273, 2.2014000415802, 2.2172000408172607, 2.2804999351501465, 2.2583000659942627, 2.394399881362915, 2.173099994659424, 2.187000036239624, 1.7925000190734863, 1.8662999868392944, 1.9163000583648682, 1.5928000211715698, 1.9871000051498413, 0.5314000248908997, 1.6619999408721924, 2.123500108718872, 1.0535000562667847, 1.8949999809265137, 2.250499963760376, 1.0353000164031982, 1.6438000202178955, 1.1485999822616577, 0.7610999941825867, -0.02459999918937683, 0.9690999984741211, 1.4608999490737915, 0.32760000228881836, 0.7712000012397766, 0.4481000006198883, 0.17090000212192535, 0.9185000061988831, 0.5156000256538391, -0.10719999670982361, -0.048900000751018524, -0.41359999775886536, 0.5623000264167786, -0.7156999707221985, 0.8406999707221985, 0.9068999886512756, -0.3993000090122223, 2.55679988861084, 2.5566999912261963, 2.5566000938415527, 2.55649995803833, 2.556299924850464, 2.5560998916625977, 2.5560998916625977, 2.5560998916625977, 2.555799961090088, 2.5555999279022217, 2.5555999279022217, 2.5555999279022217, 2.5555999279022217, 2.5555999279022217, 2.555500030517578, 2.5553998947143555, 2.555299997329712, 2.5552000999450684, 2.5552000999450684, 2.555000066757202, 2.555000066757202, 2.5548999309539795, 2.554800033569336, 2.554800033569336, 2.5546998977661133, 2.5546998977661133, 2.5546000003814697, 2.5546000003814697, 2.5546000003814697, 2.554500102996826, 2.539799928665161, 2.533400058746338, 2.531399965286255, 2.539099931716919, 2.498699903488159, 2.4156999588012695, 2.390000104904175, 2.5129001140594482, 2.411600112915039, 2.3968000411987305, 2.3538999557495117, 2.4052000045776367, 2.3928000926971436, 2.197700023651123, 2.4349000453948975, 2.3125998973846436, 2.178999900817871, 2.3554999828338623, 1.4835000038146973, 1.993299961090088, 1.812600016593933, 2.0815000534057617, 1.6232999563217163, 2.297800064086914, 2.172100067138672, 2.0081000328063965, 1.634600043296814, 1.5368000268936157, 1.3992999792099, 1.1607999801635742, 2.023699998855591, 1.5561000108718872, 0.7763000130653381, 1.3710999488830566, 1.4327000379562378, 1.6478999853134155, 0.07119999825954437, 1.6545000076293945, 0.9243999719619751, 1.1246999502182007, 1.3381999731063843, 1.2373000383377075, 0.8464000225067139, 0.5724999904632568, 1.1101000308990479, 0.25870001316070557, -0.028699999675154686, 1.2307000160217285, -1.197700023651123, 0.18880000710487366, 0.8047999739646912, -0.13600000739097595, 3.0107998847961426, 3.010699987411499, 3.010699987411499, 3.0106000900268555, 3.0104000568389893, 3.0100998878479004, 3.009999990463257, 3.009999990463257, 3.009999990463257, 3.0099000930786133, 3.0095999240875244, 3.0095999240875244, 3.009500026702881, 3.009399890899658, 3.0088000297546387, 3.0088000297546387, 3.008699893951416, 3.0085999965667725, 3.0085999965667725, 3.0085999965667725, 3.0083999633789062, 3.00819993019104, 3.0081000328063965, 3.0081000328063965, 3.0081000328063965, 3.007999897003174, 3.0078999996185303, 3.0078999996185303, 3.0078999996185303, 3.0078001022338867, 3.0018999576568604, 2.9765000343322754, 2.98799991607666, 2.9916999340057373, 2.9851999282836914, 2.9435999393463135, 2.902899980545044, 2.972899913787842, 2.9790000915527344, 2.9349000453948975, 2.914900064468384, 2.9093000888824463, 2.8612000942230225, 2.8101000785827637, 2.7816998958587646, 2.8236000537872314, 2.771699905395508, 2.7469000816345215, 2.7177000045776367, 2.484999895095825, 2.6357998847961426, 2.705899953842163, 1.9955999851226807, 1.9071999788284302, 2.283600091934204, 2.3803999423980713, 2.2964999675750732, 2.193000078201294, 2.2597999572753906, 1.844099998474121, 2.0132999420166016, 1.2681000232696533, 1.3672000169754028, 1.639799952507019, 1.2229000329971313, 1.861799955368042, -0.0272000003606081, 1.708299994468689, 0.4271000027656555, -0.26170000433921814, -0.6958000063896179, -0.5180000066757202, 0.1995999962091446, -0.335999995470047, 3.1177000999450684, 3.1168999671936035, 3.1168999671936035, 3.1168999671936035, 3.11680006980896, 3.11680006980896, 3.116499900817871, 3.1161999702453613, 3.115600109100342, 3.115600109100342, 3.1150999069213867, 3.1150999069213867, 3.115000009536743, 3.1149001121520996, 3.1149001121520996, 3.1147000789642334, 3.1145999431610107, 3.114500045776367, 3.1142001152038574, 3.114000082015991, 3.1138999462127686, 3.1138999462127686, 3.1138999462127686, 3.113800048828125, 3.1136999130249023, 3.1136999130249023, 3.1136999130249023, 3.113300085067749, 3.113300085067749, 3.1131999492645264, 3.1082000732421875, 3.0304999351501465, 2.901599884033203, 2.9514000415802, 2.845099925994873, 2.9505999088287354, 2.9205000400543213, 3.0302000045776367, 2.745300054550171, 2.8740999698638916, 2.8859000205993652, 2.844099998474121, 2.4839999675750732, 2.9605000019073486, 2.725100040435791, 2.753200054168701, 2.8222999572753906, 2.5913000106811523, 2.425100088119507, 1.9225000143051147, 2.5511999130249023, 2.2397000789642334, 2.2346999645233154, 1.860700011253357, 2.387500047683716, 1.371899962425232, 0.07649999856948853, 0.8837000131607056, 1.5257999897003174, 0.6330000162124634, 0.5830000042915344, 1.598099946975708, 1.5299999713897705, 1.638700008392334, 1.9773999452590942, -0.8184999823570251, 0.029400000348687172, 0.18520000576972961, 0.8870999813079834, 3.292799949645996, 3.2925000190734863, 3.2923998832702637, 3.2923998832702637, 3.29229998588562, 3.292099952697754, 3.2918999195098877, 3.2916998863220215, 3.291599988937378, 3.291599988937378, 3.291599988937378, 3.291599988937378, 3.291599988937378, 3.2913999557495117, 3.2913999557495117, 3.291300058364868, 3.291100025177002, 3.290600061416626, 3.2904000282287598, 3.2904000282287598, 3.2904000282287598, 3.2904000282287598, 3.2901999950408936, 3.2901999950408936, 3.2899999618530273, 3.289799928665161, 3.2897000312805176, 3.2897000312805176, 3.289400100708008, 3.2892000675201416, 3.2648000717163086, 3.223099946975708, 3.048099994659424, 2.9128000736236572, 3.1933999061584473, 3.0673999786376953, 3.112299919128418, 2.8845999240875244, 3.0367000102996826, 3.0406999588012695, 2.3570001125335693, 2.78629994392395, 2.920599937438965, 2.703200101852417, 2.5413999557495117, 2.3382999897003174, 2.6263999938964844, 1.6236000061035156, 2.0715999603271484, 2.4876999855041504, 2.592099905014038, 2.341900110244751, 0.5949000120162964, -0.15600000321865082, 2.187299966812134, 0.5591999888420105, 0.7820000052452087, 0.47839999198913574, -0.10409999638795853, 1.4855999946594238, 0.8313999772071838, 0.17800000309944153, 0.9589999914169312, 0.3767000138759613, 0.38179999589920044, 0.3091000020503998, 1.7728999853134155, 0.8314999938011169, 0.29809999465942383, -0.5123999714851379, 3.571199893951416, 3.5710999965667725, 3.5708000659942627, 3.5706000328063965, 3.5697999000549316, 3.569499969482422, 3.5692999362945557, 3.569000005722046, 3.569000005722046, 3.569000005722046, 3.569000005722046, 3.569000005722046, 3.5689001083374023, 3.568700075149536, 3.568700075149536, 3.5685999393463135, 3.5685999393463135, 3.5683999061584473, 3.5683999061584473, 3.56820011138916, 3.56820011138916, 3.56820011138916, 3.5678999423980713, 3.5678000450134277, 3.5673999786376953, 3.5673999786376953, 3.5673999786376953, 3.567199945449829, 3.5671000480651855, 3.5671000480651855, 3.5000998973846436, 3.4512999057769775, 3.3406999111175537, 3.377500057220459, 3.4576001167297363, 3.2929000854492188, 3.2386999130249023, 3.4316999912261963, 3.3297998905181885, 3.321700096130371, 3.2952001094818115, 3.3654000759124756, 3.3385000228881836, 3.160900115966797, 3.363600015640259, 3.1398000717163086, 3.016900062561035, 2.952399969100952, 3.086699962615967, 3.172800064086914, 3.370500087738037, 3.1909000873565674, 3.160399913787842, 2.9804000854492188, 2.884999990463257, 3.0601999759674072, 3.066499948501587, 2.3018999099731445, 1.8833999633789062, 2.6835999488830566, 2.7662999629974365, 0.7160999774932861, 2.34089994430542, 1.4509999752044678, 1.2683000564575195], \"logprob\": [30.0, 29.0, 28.0, 27.0, 26.0, 25.0, 24.0, 23.0, 22.0, 21.0, 20.0, 19.0, 18.0, 17.0, 16.0, 15.0, 14.0, 13.0, 12.0, 11.0, 10.0, 9.0, 8.0, 7.0, 6.0, 5.0, 4.0, 3.0, 2.0, 1.0, -5.505000114440918, -6.078199863433838, -6.5335001945495605, -7.372200012207031, -7.732500076293945, -7.966899871826172, -8.039400100708008, -8.321800231933594, -8.363100051879883, -8.543800354003906, -8.692999839782715, -8.69890022277832, -8.798700332641602, -8.881400108337402, -8.914199829101562, -7.831600189208984, -9.123499870300293, -8.992199897766113, -9.18529987335205, -9.353099822998047, -9.3681001663208, -9.37399959564209, -9.415200233459473, -9.42240047454834, -9.433699607849121, -9.437899589538574, -9.43970012664795, -9.441300392150879, -9.445300102233887, -9.445599555969238, -6.2621002197265625, -6.004199981689453, -8.795999526977539, -8.534299850463867, -8.133899688720703, -7.674799919128418, -4.371699810028076, -6.054299831390381, -6.1097002029418945, -6.214600086212158, -7.304599761962891, -7.211299896240234, -8.526599884033203, -6.324100017547607, -7.866600036621094, -7.689000129699707, -8.115599632263184, -7.117199897766113, -6.90369987487793, -7.804200172424316, -5.6921000480651855, -6.740200042724609, -6.318999767303467, -5.916299819946289, -7.009099960327148, -5.368599891662598, -5.4182000160217285, -7.260000228881836, -4.731100082397461, -6.286600112915039, -4.558000087738037, -4.512199878692627, -5.216899871826172, -4.210400104522705, -6.1875, -6.010300159454346, -5.224599838256836, -4.923600196838379, -4.932600021362305, -5.053500175476074, -5.675600051879883, -5.701399803161621, -5.917300224304199, -5.456200122833252, -5.44980001449585, -5.270999908447266, -5.57450008392334, -5.271299839019775, -4.426499843597412, -5.375999927520752, -4.961400032043457, -4.97730016708374, -5.254499912261963, -5.0258002281188965, -5.245100021362305, -5.394400119781494, -5.0991997718811035, -4.751800060272217, -5.4644999504089355, -5.502900123596191, -5.572000026702881, -7.97189998626709, -7.973800182342529, -8.054800033569336, -8.074799537658691, -8.16409969329834, -8.303199768066406, -8.370499610900879, -8.40470027923584, -8.409799575805664, -8.446000099182129, -8.535599708557129, -8.540300369262695, -8.571700096130371, -8.601799964904785, -8.624799728393555, -8.627900123596191, -8.666999816894531, -8.671799659729004, -8.738300323486328, -8.744500160217285, -8.74590015411377, -8.747200012207031, -8.756600379943848, -8.773300170898438, -8.789199829101562, -8.794300079345703, -8.81309986114502, -8.846500396728516, -8.87030029296875, -8.887800216674805, -6.852499961853027, -6.730199813842773, -7.280600070953369, -6.366799831390381, -6.96150016784668, -6.842199802398682, -7.528200149536133, -7.164899826049805, -8.427499771118164, -7.57919979095459, -6.9096999168396, -6.998499870300293, -7.676199913024902, -7.797500133514404, -7.468599796295166, -6.371200084686279, -7.459799766540527, -7.8958001136779785, -6.555300235748291, -7.075500011444092, -7.399099826812744, -5.481900215148926, -3.4839999675750732, -6.276000022888184, -6.642399787902832, -5.508399963378906, -5.99560022354126, -6.200099945068359, -6.4045000076293945, -5.28980016708374, -6.727099895477295, -6.874000072479248, -6.787499904632568, -5.659999847412109, -6.6596999168396, -6.799300193786621, -6.443299770355225, -6.984099864959717, -5.914599895477295, -5.400700092315674, -5.796999931335449, -5.489799976348877, -6.035399913787842, -5.5320000648498535, -5.23199987411499, -5.547100067138672, -6.010499954223633, -6.121799945831299, -5.462399959564209, -5.040299892425537, -5.955399990081787, -5.691800117492676, -5.81820011138916, -5.9039998054504395, -5.859300136566162, -5.815400123596191, -6.184899806976318, -5.940100193023682, -5.9791998863220215, -6.140699863433838, -6.1194000244140625, -6.147200107574463, -7.811600208282471, -8.31190013885498, -8.52180004119873, -8.554800033569336, -8.592000007629395, -8.738499641418457, -8.96560001373291, -8.969799995422363, -9.059499740600586, -9.09630012512207, -9.116399765014648, -9.119500160217285, -9.148200035095215, -9.172900199890137, -9.245800018310547, -9.25510025024414, -9.276599884033203, -9.293700218200684, -9.303600311279297, -9.304499626159668, -9.309900283813477, -9.337599754333496, -9.360799789428711, -9.370699882507324, -9.371999740600586, -9.409299850463867, -9.43239974975586, -9.45110034942627, -9.4576997756958, -9.51669979095459, -9.21560001373291, -6.074699878692627, -8.239999771118164, -5.949100017547607, -6.074699878692627, -5.716800212860107, -9.027799606323242, -6.003799915313721, -4.443600177764893, -6.725900173187256, -4.103400230407715, -6.08620023727417, -5.472499847412109, -4.37060022354126, -6.679800033569336, -6.412199974060059, -4.433199882507324, -4.6356000900268555, -6.138400077819824, -6.94290018081665, -4.546000003814697, -4.948400020599365, -6.720900058746338, -5.990200042724609, -5.422399997711182, -5.617199897766113, -5.042399883270264, -5.121699810028076, -4.964700222015381, -6.2027997970581055, -6.085400104522705, -6.078800201416016, -5.16480016708374, -4.866199970245361, -3.764699935913086, -4.958099842071533, -5.119200229644775, -5.29040002822876, -4.3927998542785645, -4.278200149536133, -5.528600215911865, -4.786799907684326, -5.276400089263916, -5.0808000564575195, -4.932400226593018, -5.327199935913086, -5.311100006103516, -5.326700210571289, -5.3018999099731445, -5.231400012969971, -5.458499908447266, -5.424699783325195, -5.3769001960754395, -5.42110013961792, -6.730100154876709, -7.87939977645874, -8.025300025939941, -8.049599647521973, -8.108699798583984, -8.38539981842041, -8.386699676513672, -8.403400421142578, -8.42240047454834, -8.450599670410156, -8.483099937438965, -8.500100135803223, -8.506400108337402, -8.534899711608887, -8.537300109863281, -8.546099662780762, -8.567099571228027, -8.57409954071045, -8.577199935913086, -8.589099884033203, -8.589699745178223, -8.597999572753906, -8.611900329589844, -8.62279987335205, -8.678899765014648, -8.690799713134766, -8.701199531555176, -8.709699630737305, -8.724599838256836, -8.736100196838379, -8.165599822998047, -5.206399917602539, -5.5980000495910645, -5.548600196838379, -5.345699787139893, -5.787099838256836, -5.888599872589111, -5.735499858856201, -7.4029998779296875, -8.184800148010254, -6.488999843597412, -7.527599811553955, -6.388199806213379, -7.159999847412109, -7.452499866485596, -7.801700115203857, -5.239099979400635, -6.8572998046875, -7.025199890136719, -6.28000020980835, -7.457799911499023, -5.144499778747559, -5.7846999168396, -6.049699783325195, -5.975299835205078, -7.382599830627441, -5.20389986038208, -6.486299991607666, -5.214399814605713, -5.577700138092041, -6.222499847412109, -6.9405999183654785, -5.893400192260742, -6.206699848175049, -5.776899814605713, -6.3043999671936035, -6.547100067138672, -5.13040018081665, -4.792500019073486, -6.2866997718811035, -5.739500045776367, -5.8831000328063965, -5.474800109863281, -5.624800205230713, -5.248600006103516, -5.36870002746582, -5.769999980926514, -5.850500106811523, -5.199999809265137, -5.906899929046631, -4.89139986038208, -5.550099849700928, -5.4446001052856445, -5.6356000900268555, -5.679699897766113, -5.695499897003174, -5.66949987411499, -5.560500144958496, -5.605999946594238, -5.7600998878479, -4.28410005569458, -5.633399963378906, -6.281599998474121, -6.359499931335449, -6.402599811553955, -6.558599948883057, -6.6641998291015625, -6.768199920654297, -6.808700084686279, -7.174699783325195, -7.242800235748291, -7.274400234222412, -7.280700206756592, -7.3018999099731445, -7.307499885559082, -7.317299842834473, -7.32289981842041, -7.338799953460693, -7.3454999923706055, -7.334000110626221, -7.361400127410889, -7.368299961090088, -7.4552001953125, -7.472799777984619, -7.624199867248535, -7.648799896240234, -7.6595001220703125, -7.662300109863281, -7.673500061035156, -7.879499912261963, -6.860099792480469, -5.428199768066406, -5.642000198364258, -6.303999900817871, -6.252099990844727, -7.30049991607666, -6.134099960327148, -6.490499973297119, -5.5345001220703125, -5.873700141906738, -6.049099922180176, -5.558599948883057, -6.423600196838379, -3.751300096511841, -5.874100208282471, -6.762700080871582, -4.963099956512451, -6.4085001945495605, -7.004199981689453, -5.294300079345703, -6.157400131225586, -5.551700115203857, -5.341800212860107, -4.72599983215332, -5.680600166320801, -6.1508002281188965, -5.427299976348877, -5.792300224304199, -5.648600101470947, -5.535900115966797, -5.911300182342529, -5.746600151062012, -5.552800178527832, -5.747600078582764, -5.701600074768066, -5.926199913024902, -5.695499897003174, -6.007900238037109, -6.039400100708008, -5.909200191497803, -6.056099891662598, -6.189799785614014, -6.380099773406982, -6.521299839019775, -6.7133002281188965, -6.849599838256836, -6.850299835205078, -6.893099784851074, -7.0493998527526855, -7.162099838256836, -7.171299934387207, -7.176799774169922, -7.178199768066406, -7.208499908447266, -7.240699768066406, -7.287499904632568, -7.360400199890137, -7.3917999267578125, -7.411200046539307, -7.45989990234375, -7.462900161743164, -7.509399890899658, -7.546999931335449, -7.552999973297119, -7.589700222015381, -7.592199802398682, -7.640100002288818, -7.645599842071533, -7.650199890136719, -7.669099807739258, -6.730599880218506, -6.844600200653076, -6.909299850463867, -7.245699882507324, -6.669000148773193, -6.07289981842041, -5.8678998947143555, -7.201499938964844, -6.407700061798096, -6.334000110626221, -6.211900234222412, -6.576200008392334, -6.614799976348877, -5.876999855041504, -6.913400173187256, -6.489999771118164, -6.164599895477295, -6.750800132751465, -4.739099979400635, -5.924099922180176, -5.542300224304199, -6.162499904632568, -5.19350004196167, -6.623700141906738, -6.385499954223633, -6.11870002746582, -5.513400077819824, -5.402900218963623, -5.234799861907959, -4.953800201416016, -6.165299892425537, -5.621500015258789, -4.975800037384033, -5.622000217437744, -5.701399803161621, -5.931300163269043, -4.630199909210205, -5.968500137329102, -5.559599876403809, -5.7368998527526855, -5.858399868011475, -5.830699920654297, -5.676499843597412, -5.568900108337402, -5.799900054931641, -5.496099948883057, -5.520899772644043, -5.896999835968018, -5.480400085449219, -5.862599849700928, -5.9496002197265625, -5.941999912261963, -6.341300010681152, -4.261899948120117, -6.457799911499023, -6.558000087738037, -6.678299903869629, -6.816999912261963, -6.851600170135498, -6.852799892425537, -6.8846001625061035, -6.900700092315674, -7.039999961853027, -7.065899848937988, -7.101399898529053, -7.13700008392334, -7.32289981842041, -7.343100070953369, -7.365300178527832, -7.382199764251709, -7.384300231933594, -7.394700050354004, -7.454899787902832, -7.499300003051758, -7.519899845123291, -7.526100158691406, -7.538899898529053, -7.5482001304626465, -7.568600177764893, -7.574399948120117, -7.586400032043457, -7.5920000076293945, -6.289400100708008, -5.90369987487793, -6.676499843597412, -7.027100086212158, -6.973999977111816, -6.076099872589111, -5.388599872589111, -6.8394999504089355, -7.03000020980835, -6.340400218963623, -6.567699909210205, -6.540200233459473, -6.361100196838379, -6.0278000831604, -5.948500156402588, -6.267600059509277, -6.071400165557861, -6.047299861907959, -6.018799781799316, -5.571400165557861, -6.111499786376953, -6.431300163269043, -5.183800220489502, -5.240699768066406, -5.86870002746582, -6.00570011138916, -5.930099964141846, -5.881899833679199, -6.019400119781494, -5.853799819946289, -6.004300117492676, -5.548799991607666, -5.947800159454346, -6.083899974822998, -6.031899929046631, -6.213500022888184, -5.937600135803223, -6.192299842834473, -6.0569000244140625, -6.013899803161621, -5.983799934387207, -6.010300159454346, -6.06879997253418, -6.090799808502197, -4.92609977722168, -6.1296000480651855, -6.194900035858154, -6.209700107574463, -6.265699863433838, -6.279099941253662, -6.452199935913086, -6.628399848937988, -6.922800064086914, -6.92609977722168, -7.109099864959717, -7.111700057983398, -7.139900207519531, -7.201399803161621, -7.202099800109863, -5.866199970245361, -7.275300025939941, -7.313000202178955, -7.377900123596191, -7.434500217437744, -7.462399959564209, -7.470200061798096, -7.4741997718811035, -7.490099906921387, -7.503200054168701, -7.506999969482422, -7.508600234985352, -7.5920000076293945, -7.607399940490723, -7.628799915313721, -6.241799831390381, -6.016900062561035, -3.933199882507324, -5.003600120544434, -3.660399913787842, -5.485799789428711, -5.854000091552734, -6.851799964904785, -4.874100208282471, -5.940100193023682, -6.185699939727783, -6.269999980926514, -5.173999786376953, -6.788899898529053, -6.089099884033203, -6.210999965667725, -6.509500026702881, -6.0619001388549805, -5.79610013961792, -5.0833001136779785, -6.130199909210205, -5.8867998123168945, -5.97189998626709, -5.601900100708008, -6.134099960327148, -5.4629998207092285, -4.903299808502197, -5.338900089263916, -5.729000091552734, -5.463699817657471, -5.451200008392334, -5.880099773406982, -5.874800205230713, -5.926400184631348, -6.007800102233887, -5.519899845123291, -5.712900161743164, -5.866199970245361, -5.945000171661377, -5.138400077819824, -5.573200225830078, -5.757900238037109, -5.763000011444092, -5.8470001220703125, -6.0335001945495605, -6.21150016784668, -6.325399875640869, -6.351600170135498, -6.394000053405762, -6.397200107574463, -6.401700019836426, -6.411300182342529, -6.477799892425537, -6.490099906921387, -6.5472002029418945, -6.64739990234375, -6.8414998054504395, -6.911900043487549, -6.9207000732421875, -6.9222002029418945, -6.938399791717529, -6.977799892425537, -7.000699996948242, -7.048600196838379, -7.126399993896484, -7.13640022277832, -7.142399787902832, -7.2195000648498535, -7.273200035095215, -6.348899841308594, -5.269599914550781, -4.616099834442139, -3.79259991645813, -6.354800224304199, -5.563300132751465, -5.921199798583984, -4.948699951171875, -6.045000076293945, -6.1255998611450195, -4.553100109100342, -5.710899829864502, -6.028200149536133, -5.906400203704834, -5.724599838256836, -5.576499938964844, -5.959000110626221, -5.206200122833252, -5.61899995803833, -5.898399829864502, -5.992700099945068, -5.923500061035156, -5.157299995422363, -4.857399940490723, -5.874599933624268, -5.246799945831299, -5.332499980926514, -5.276400089263916, -5.083899974822998, -5.665900230407715, -5.498199939727783, -5.338200092315674, -5.563899993896484, -5.567200183868408, -5.634799957275391, -5.673699855804443, -5.838799953460693, -5.805500030517578, -5.804699897766113, -5.8003997802734375, -4.950200080871582, -5.171199798583984, -5.4481000900268555, -5.735000133514404, -6.258399963378906, -6.3480000495910645, -6.489999771118164, -6.58050012588501, -6.583799839019775, -6.5879998207092285, -6.59660005569458, -6.602700233459473, -6.650400161743164, -6.695700168609619, -6.701600074768066, -6.72730016708374, -6.728400230407715, -6.787399768829346, -6.808599948883057, -6.849400043487549, -6.8572001457214355, -6.862299919128418, -6.946400165557861, -6.962500095367432, -7.057799816131592, -7.064799785614014, -7.0706000328063965, -7.116799831390381, -7.122799873352051, -7.136099815368652, -5.499499797821045, -5.485099792480469, -4.959099769592285, -5.298600196838379, -6.049300193786621, -4.947999954223633, -5.20959997177124, -6.32480001449585, -5.866499900817871, -5.893899917602539, -5.795100212097168, -6.065299987792969, -5.985300064086914, -5.399099826812744, -6.163400173187256, -5.577899932861328, -5.414999961853027, -5.328700065612793, -5.676599979400635, -5.942800045013428, -6.297500133514404, -6.053100109100342, -6.028500080108643, -5.8983001708984375, -5.833199977874756, -6.079400062561035, -6.092800140380859, -5.807799816131592, -5.701399803161621, -5.979800224304199, -6.003699779510498, -5.684700012207031, -5.946800231933594, -5.903900146484375, -5.971499919891357]}, \"token.table\": {\"Topic\": [1, 5, 7, 1, 3, 10, 1, 4, 1, 2, 3, 5, 6, 1, 2, 3, 5, 7, 9, 1, 2, 3, 5, 6, 7, 8, 1, 2, 3, 5, 6, 7, 8, 4, 8, 3, 7, 10, 10, 6, 8, 1, 2, 3, 4, 5, 6, 7, 8, 9, 10, 1, 2, 4, 6, 7, 8, 1, 2, 3, 5, 6, 7, 8, 9, 2, 3, 10, 9, 9, 9, 2, 3, 6, 7, 8, 9, 1, 2, 3, 4, 5, 6, 8, 9, 4, 10, 4, 5, 2, 3, 1, 5, 7, 9, 4, 7, 10, 1, 2, 3, 5, 6, 9, 9, 9, 1, 2, 4, 9, 2, 3, 5, 9, 2, 5, 9, 1, 4, 5, 7, 9, 10, 1, 2, 3, 5, 6, 8, 1, 2, 3, 4, 5, 7, 1, 3, 5, 6, 7, 1, 2, 3, 4, 5, 6, 7, 8, 9, 10, 1, 3, 5, 8, 9, 3, 3, 3, 6, 9, 7, 9, 10, 6, 2, 4, 5, 7, 9, 10, 2, 3, 8, 6, 1, 2, 3, 4, 5, 6, 7, 8, 9, 6, 1, 2, 3, 5, 6, 7, 8, 9, 1, 2, 3, 4, 5, 6, 7, 8, 9, 10, 4, 1, 3, 1, 2, 3, 4, 5, 6, 7, 8, 9, 10, 1, 2, 3, 4, 5, 7, 8, 9, 10, 1, 8, 1, 4, 5, 9, 10, 1, 4, 6, 7, 10, 1, 2, 3, 4, 7, 10, 1, 3, 5, 3, 10, 1, 3, 4, 6, 8, 9, 10, 1, 2, 3, 5, 6, 7, 8, 6, 7, 2, 6, 1, 3, 4, 6, 7, 8, 9, 4, 5, 6, 7, 10, 6, 8, 9, 1, 3, 5, 8, 2, 1, 2, 3, 4, 5, 6, 8, 6, 6, 9, 5, 7, 9, 10, 1, 2, 4, 5, 6, 7, 8, 8, 8, 9, 6, 1, 2, 3, 5, 6, 7, 8, 1, 5, 9, 5, 2, 6, 1, 2, 3, 4, 5, 6, 7, 8, 9, 1, 2, 3, 4, 5, 8, 9, 6, 8, 10, 2, 2, 7, 9, 1, 2, 3, 5, 9, 2, 7, 7, 4, 8, 2, 6, 8, 6, 8, 3, 6, 8, 2, 3, 6, 7, 8, 9, 10, 4, 2, 2, 3, 6, 7, 4, 6, 1, 1, 2, 3, 4, 5, 6, 7, 8, 1, 2, 4, 6, 7, 1, 1, 5, 1, 2, 4, 10, 6, 3, 4, 5, 1, 2, 3, 5, 7, 9, 10, 3, 2, 3, 4, 7, 1, 5, 6, 8, 9, 2, 2, 8, 9, 2, 4, 8, 7, 1, 1, 2, 5, 6, 1, 3, 5, 6, 8, 8, 3, 4, 6, 6, 1, 4, 5, 8, 1, 4, 1, 2, 3, 4, 5, 7, 9, 4, 1, 4, 5, 8, 1, 2, 3, 5, 6, 8, 9, 2, 8, 1, 6, 2, 3, 6, 3, 1, 2, 3, 5, 6, 7, 1, 3, 5, 9, 4, 5, 10, 3, 9, 1, 2, 7, 6, 7, 5, 9, 9, 1, 8, 1, 6, 1, 2, 9, 10, 6, 8, 1, 3, 5, 9, 10, 4, 2, 3, 4, 1, 2, 3, 4, 5, 6, 7, 8, 9, 10, 3, 1, 2, 3, 5, 6, 8, 9, 1, 2, 3, 6, 8, 9, 10, 1, 3, 4, 6, 9, 10, 7, 1, 2, 3, 4, 5, 6, 7, 8, 9, 10, 1, 2, 3, 4, 5, 7, 9, 1, 2, 3, 5, 6, 7, 8, 9, 1, 4, 5, 7, 9, 10, 2, 3, 4, 6, 7, 9, 1, 2, 3, 9, 2, 2, 2, 3, 4, 6, 8, 1, 3, 5, 6, 8, 9, 2, 3, 6, 9, 1, 2, 3, 6, 9, 10, 8, 2, 3, 6, 7, 2, 3, 4, 6, 7, 9, 2, 1, 2, 3, 9, 10, 1, 4, 7, 9, 10, 1, 4, 7, 9, 1, 4, 7, 9, 1, 2, 3, 4, 5, 6, 7, 8, 9, 1, 2, 3, 5, 6, 7, 9, 1, 2, 3, 4, 5, 6, 8, 9, 10, 2, 4, 6, 8, 10, 1, 2, 3, 4, 5, 6, 7, 8, 9, 10, 3, 1, 3, 5, 8, 9, 1, 7, 10, 1, 2, 5, 9, 10, 7, 7, 6, 7, 10, 7, 5, 8, 2, 3, 4, 7, 1, 3, 4, 6, 7, 8, 4, 9, 1, 3, 5, 6, 8, 9, 10, 8, 6, 8, 1, 3, 6, 8, 1, 2, 3, 4, 6, 7, 9, 10, 1, 8, 8, 1, 4, 6, 8, 9, 1, 2, 4, 9, 1, 1, 2, 8, 2, 3, 5, 7, 8, 9, 4, 5, 6, 7, 1, 2, 5, 7, 7, 1, 2, 3, 4, 5, 6, 8, 9, 10, 1, 3, 4, 5, 6, 7, 8, 9, 10, 5, 1, 5, 8, 9, 10, 1, 3, 4, 5, 6, 8, 1, 2, 3, 4, 5, 6, 8, 9, 10, 5, 1, 2, 3, 4, 5, 6, 7, 8, 9, 10, 1, 3, 1, 2, 3, 4, 5, 6, 7, 8, 9, 5, 5, 1, 2, 4, 7, 6, 1, 2, 3, 4, 5, 6, 7, 8, 9, 10, 8, 3, 10, 1, 3, 4, 5, 6, 7, 8, 9, 7, 5, 5, 4, 3, 4, 1, 2, 3, 4, 5, 6, 7, 8, 9, 10, 6, 7, 1, 2, 4, 5, 7, 8, 9, 10, 9, 1, 5, 6, 8, 9, 1, 2, 3, 5, 6, 7, 9, 7, 6, 5, 1, 2, 3, 4, 6, 7, 8, 10, 2, 9, 7, 1, 3, 5, 1, 5, 5, 3, 4, 5, 1, 4, 5, 8, 1, 2, 4, 5, 9, 10, 1, 2, 9, 1, 2, 9, 10, 2, 3, 5, 6, 8, 9, 2, 3, 8, 9, 5, 6, 7, 10, 4, 6, 1, 8, 2, 7, 3, 7, 10, 7, 10, 2, 3, 4, 2, 1, 2, 1, 7, 6, 4, 5, 7, 10, 1, 2, 3, 4, 8, 4, 6, 7, 8, 1, 4, 7, 8, 3, 4, 5, 6, 7, 8, 9, 10, 4, 7, 9, 7, 9, 6, 4, 2, 3, 4, 5, 6, 7, 8, 9, 8, 6, 5, 7, 10, 3, 3, 10, 5, 2, 6, 3, 6, 7, 8, 9, 1, 7, 1, 3, 4, 8, 9, 10, 4, 5, 3, 5, 6, 7, 8, 9, 1, 2, 3, 4, 6, 8, 10, 9, 9, 2, 10, 1, 3, 8, 1, 3, 8, 1, 3, 6, 8, 2, 4, 9, 3, 4, 5, 6, 7, 8, 9, 8, 8, 9, 1, 2, 3, 4, 6, 1, 2, 3, 4, 5, 6, 7, 8, 9, 10, 1, 3, 4, 6, 8, 9, 1, 2, 3, 4, 5, 6, 7, 8, 9, 10, 5, 6, 2, 8, 1, 2, 3, 4, 5, 6, 8, 9, 1, 2, 3, 4, 6, 8, 9, 1, 2, 3, 4, 6, 9, 1, 3, 4, 5, 1, 6, 5, 7, 1, 2, 3, 4, 5, 6, 7, 8, 9, 3, 1, 2, 3, 4, 5, 6, 7, 8, 9, 10, 1, 2, 3, 4, 5, 6, 7, 8, 9, 10, 3, 1, 2, 3, 4, 5, 6, 7, 8, 9, 4, 4, 6, 7, 9, 1, 4, 5, 1, 2, 3, 4, 6, 7, 9, 1, 1, 2, 3, 4, 5, 6, 7, 8, 9, 4, 1, 2, 3, 4, 5, 8, 9, 1, 2, 7, 4, 6, 8, 9, 1, 2, 4, 7, 8, 10, 2, 1, 2, 3, 4, 6, 6, 9, 1, 7, 10, 1, 2, 3, 4, 5, 6, 8, 7, 4, 1, 4, 8, 2, 3, 5, 6, 8, 9, 1, 3, 4, 6, 7, 8, 1, 5, 10, 1, 2, 3, 4, 6, 4, 1, 2, 3, 5, 6, 8, 9, 1, 2, 3, 4, 5, 6, 7, 8, 9, 10, 5, 4, 5, 7, 8, 1, 2, 3, 5, 6, 9, 2, 5, 6, 9, 8, 4, 2, 5, 4, 2, 3, 4, 5, 10, 7, 7, 1, 4, 8, 2, 1, 2, 3, 4, 5, 6, 7, 8, 9, 1, 2, 3, 4, 5, 6, 7, 8, 9, 10, 3, 9, 9, 6, 1, 6, 9, 1, 2, 3, 4, 5, 6, 8, 9, 4, 2, 3, 7, 1, 7, 10, 1, 3, 5, 8, 4, 1, 2, 3, 5, 6, 8, 9, 1, 3, 5, 6, 8, 9, 10, 1, 2, 3, 4, 5, 6, 7, 8, 9, 10, 3, 1, 2, 3, 4, 5, 6, 7, 8, 9, 10, 1, 2, 3, 6, 9, 1, 3, 5, 6, 8, 9, 10, 7, 1, 1, 2, 3, 6, 7, 4, 1, 2, 3, 5, 6, 8, 9, 4, 2, 1, 2, 3, 4, 6, 8, 1, 2, 5, 8, 1, 2, 8, 4, 1, 2, 3, 4, 5, 8, 1, 2, 3, 5, 6, 7, 8, 1, 2, 3, 5, 6, 7, 8, 9, 10, 5, 1, 6, 7, 10, 4, 1, 6, 1, 10, 1, 9, 10, 1, 2, 3, 4, 6, 7, 8, 9, 1, 2, 3, 4, 5, 6, 7, 8, 9, 2, 3, 4, 5, 6, 7, 8, 9, 3, 5, 1, 2, 3, 4, 5, 6, 7, 8, 9, 10, 2, 1, 3, 5, 3, 1, 4, 5, 7, 8, 9, 4, 7, 1, 3, 5, 10, 6, 7, 2, 3, 4, 7, 9, 5, 9, 10, 1, 4, 1, 7, 1, 3, 4, 5, 6, 8, 9, 10, 4, 5, 7, 6, 1, 2, 3, 4, 5, 6, 7, 8, 9, 10, 1, 2, 4, 6, 7, 8, 9, 10, 1, 2, 3, 4, 5, 6, 7, 8, 9, 10, 1, 2, 3, 1, 2, 3, 4, 5, 6, 7, 8, 9, 1, 2, 3, 4, 6, 2, 4, 6, 8, 1, 2, 3, 4, 5, 6, 8, 9, 1, 2, 3, 5, 8, 9, 1, 5, 4, 2, 3, 3, 4, 5, 6, 7, 8, 10, 1, 3, 5, 8, 10, 9, 2, 3, 4, 5, 6, 7, 8, 10, 6, 9, 9, 10, 3, 1, 6, 2, 3, 4, 5, 6, 7, 8, 5, 3, 1, 5, 3, 5, 2, 6, 7, 1, 7, 9, 9, 3, 9, 8, 3, 5, 1, 2, 3, 4, 6, 1, 2, 3, 5, 6, 8, 9, 5, 1, 3, 5, 8, 1, 2, 3, 4, 5, 6, 7, 8, 9, 10, 1, 2, 3, 4, 5, 6, 7, 8, 9, 1, 2, 3, 4, 6, 8, 1, 3, 5, 9, 10, 1, 5, 9, 10, 5, 10, 10, 2, 1, 2, 3, 5, 6, 7, 9, 2, 4, 6, 7, 8, 9, 10, 9, 1, 6, 6, 1, 2, 5, 9, 1, 2, 3, 4, 5, 6, 8, 9, 1, 2, 3, 4, 5, 6, 8, 9, 1, 2, 3, 4, 5, 6, 7, 8, 9, 10, 1, 2, 3, 5, 6, 8, 9, 2, 1, 3, 5, 8, 9, 2, 3, 5, 6, 7, 9, 4, 5, 7, 1, 3, 4, 5, 6, 7, 8, 9, 10, 8, 1, 2, 3, 4, 5, 8, 2, 10, 10, 3, 5, 10, 10, 10, 1, 3, 6, 8, 9, 1, 10, 6, 8, 1, 3, 6, 6, 7, 1, 3, 4, 5, 6, 8, 8, 8, 5, 10, 10, 2, 4, 2, 4, 1, 4, 7, 1, 5, 7, 1, 2, 3, 4, 1, 2, 3, 4, 5, 8, 9, 3, 4, 6, 7, 1, 3, 5, 6, 7, 9, 3, 6, 9, 4, 7, 1, 2, 5, 10, 1, 3, 5, 6, 9, 10, 10, 2, 10, 1, 5, 8, 5, 1, 2, 5, 6, 7, 8, 1, 3, 5, 6, 7, 8, 9, 10, 1, 3, 4, 5, 6, 7, 8, 9, 10, 1, 4, 5, 6, 7, 8, 1, 2, 3, 4, 5, 6, 7, 9, 2, 1, 8, 1, 2, 3, 2, 8, 1, 1, 2, 3, 6, 7, 8, 1, 2, 3, 4, 5, 8, 1, 2, 3, 4, 5, 6, 8, 3, 4, 5, 5, 7, 9, 2, 1, 2, 3, 4, 5, 6, 7, 8, 9, 10, 10, 1, 4, 6, 7, 8, 9, 10, 1, 2, 3, 4, 9, 10, 1, 3, 5, 2, 3, 5, 9, 1, 2, 3, 4, 5, 6, 8, 9, 10, 1, 2, 3, 4, 6, 8, 9, 1, 2, 3, 4, 5, 6, 7, 8, 9, 10, 1, 2, 3, 4, 6, 8, 2, 4, 1, 2, 3, 4, 5, 6, 7, 8, 9, 10, 10, 2, 3, 4, 6, 7, 8, 10, 4, 5, 6, 7, 8, 10, 6, 10, 10, 1, 7, 3, 9, 1, 6, 7, 8, 1, 3, 6, 8, 9, 10, 1, 2, 3, 4, 5, 6, 7, 8, 9, 10, 2, 4, 5, 7, 1, 2, 3, 4, 1, 8, 2, 7, 2, 7, 1, 2, 3, 4, 6, 7, 9, 5, 5, 10, 7, 5, 7, 1, 2, 3, 4, 6, 1, 2, 3, 4, 5, 1, 3, 4, 5, 7, 8, 9, 10, 3, 7, 9, 1, 2, 3, 4, 6, 8, 9, 1, 2, 3, 4, 6, 8, 9, 2, 7, 9, 1, 2, 6, 7, 9, 1, 1, 3, 5, 6, 7, 1, 1, 2, 3, 6, 8, 9, 1, 3, 6, 1, 2, 3, 6, 8, 9, 1, 2, 4, 9, 10, 1, 2, 3, 4, 5, 6, 7, 8, 9, 10, 7, 8, 1, 2, 3, 4, 5, 6, 7, 8, 9, 10, 7, 5, 10, 7, 9, 7, 1, 2, 4, 5, 6, 7, 8, 9, 10, 1, 2, 3, 4, 6, 7, 4, 6, 3, 4, 6, 7, 1, 2, 3, 4, 5, 6, 8, 9, 10, 1, 2, 3, 4, 5, 6, 8, 9, 8, 1, 2, 3, 4, 5, 6, 7, 8, 9, 1, 2, 3, 4, 6, 7, 8, 9, 10, 1, 3, 4, 5, 1, 1, 2, 3, 4, 5, 6, 7, 8, 9, 10, 7, 1, 3, 5, 8, 1, 2, 3, 4, 5, 6, 7, 9, 10, 1, 2, 3, 4, 5, 6, 8, 9, 10, 2, 3, 4, 5, 6, 7, 8, 8, 5, 5], \"Freq\": [0.9966784119606018, 0.997054398059845, 0.9956116080284119, 0.9963202476501465, 0.9882782101631165, 0.9972065687179565, 0.9974986910820007, 0.9939264059066772, 0.48746123909950256, 0.02542061358690262, 0.3981817960739136, 0.07089836895465851, 0.017989972606301308, 0.07628535479307175, 0.0009559568134136498, 0.11892102658748627, 0.038238272070884705, 0.08211669325828552, 0.683509111404419, 0.18060652911663055, 0.05374450236558914, 0.35683849453926086, 0.0006249360740184784, 0.2954385280609131, 0.09702132642269135, 0.01562340185046196, 0.3491908609867096, 0.12324845045804977, 0.45714113116264343, 0.0010983311804011464, 0.06825344264507294, 0.000862974498886615, 7.845222717151046e-05, 0.08352328836917877, 0.9157732129096985, 0.9913178086280823, 0.9956973195075989, 0.9996107816696167, 0.9994078278541565, 0.2157975286245346, 0.7836442589759827, 0.032664861530065536, 0.16084858775138855, 0.3369210660457611, 0.12289969623088837, 0.12053482234477997, 0.10039641708135605, 0.035140592604875565, 0.02523767203092575, 0.05989789962768555, 0.00535792438313365, 0.1500992476940155, 0.31463950872421265, 0.0004376071156002581, 0.0017504284624010324, 0.48880714178085327, 0.04419831931591034, 0.11026167869567871, 0.3614985942840576, 0.045763205736875534, 0.020578084513545036, 0.015203212387859821, 0.3618057370185852, 0.05958430841565132, 0.02518511936068535, 0.9964231252670288, 0.9935709834098816, 0.9984378814697266, 0.9992212057113647, 0.9992977976799011, 0.9985947012901306, 0.02175643853843212, 0.07070843130350113, 0.09790397435426712, 0.736455500125885, 0.07288407534360886, 0.99806147813797, 0.6278762817382812, 0.10163731873035431, 0.22070877254009247, 0.014219332486391068, 0.03078794665634632, 0.000989170977845788, 0.003338451962918043, 0.000494585488922894, 0.9992914795875549, 0.9952888488769531, 0.9922375679016113, 0.9985970854759216, 0.994921088218689, 0.9967058897018433, 0.046772561967372894, 0.02903124690055847, 0.8169069886207581, 0.10644790530204773, 0.9189386367797852, 0.03675754368305206, 0.042008623480796814, 0.13790088891983032, 0.7228137850761414, 0.040304362773895264, 0.01965254172682762, 0.006328784395009279, 0.07261447608470917, 0.999313235282898, 0.9949572682380676, 0.08158247917890549, 0.053672682493925095, 0.8641301989555359, 0.9976270198822021, 0.1678219437599182, 0.19780893623828888, 0.6339355707168579, 0.0005260875914245844, 0.03040216490626335, 0.9519677758216858, 0.015201082453131676, 0.12734036147594452, 0.10473556816577911, 0.09192617982625961, 0.18611283600330353, 0.042949117720127106, 0.44682151079177856, 0.20542606711387634, 0.6130507588386536, 0.10150274634361267, 0.013393844477832317, 0.0009682297240942717, 0.0655168816447258, 0.8496320843696594, 0.07132603228092194, 0.001345774158835411, 0.01794365607202053, 0.056522514671087265, 0.002691548317670822, 0.9249367117881775, 0.0004177672672085464, 0.04282114654779434, 0.03175031393766403, 0.9978539347648621, 0.3344051241874695, 0.00042294070590287447, 0.15557168424129486, 0.29725682735443115, 0.014379983767867088, 0.0811341255903244, 0.016353707760572433, 0.010714497417211533, 0.032213982194662094, 0.05751993507146835, 0.88162761926651, 0.08079396933317184, 0.03475287929177284, 0.0027017679531127214, 0.00014804209058638662, 0.9921113848686218, 0.9982028007507324, 0.9965198040008545, 0.9970224499702454, 0.9984585642814636, 0.5317670702934265, 0.44656115770339966, 0.021044835448265076, 0.997000515460968, 0.10796833783388138, 0.6975767016410828, 0.153517484664917, 0.0008435026393271983, 0.033318355679512024, 0.0063262698240578175, 0.9967466592788696, 0.9957435727119446, 0.996178925037384, 0.9963707327842712, 0.06327183544635773, 0.09636380523443222, 0.3970506489276886, 0.010377639904618263, 0.025626417249441147, 0.2474220097064972, 0.03192712739109993, 0.04685822129249573, 0.08116797357797623, 0.9987929463386536, 0.4049716293811798, 0.013456335291266441, 0.430719256401062, 0.05003892630338669, 0.0626797303557396, 0.003611657302826643, 0.009262152947485447, 0.025223348289728165, 0.32007527351379395, 0.004216800909489393, 0.28413206338882446, 0.04989881068468094, 0.012449602596461773, 0.1732904314994812, 0.01255000289529562, 0.05522001162171364, 0.047589611262083054, 0.040461208671331406, 0.9961479902267456, 0.9958978891372681, 0.9935078024864197, 0.08527961373329163, 0.07281312346458435, 0.5074854493141174, 0.027139438316226006, 0.20133931934833527, 0.03817173093557358, 0.0016548437997698784, 0.051520802080631256, 0.00706066656857729, 0.007612281478941441, 0.1094602644443512, 0.22604124248027802, 0.0008279898902401328, 0.10532031208276749, 0.16791634261608124, 0.1670883595943451, 0.20351991057395935, 0.018381375819444656, 0.0018215776653960347, 0.9712771773338318, 0.026345673948526382, 0.1045558750629425, 0.04697437956929207, 0.7976552248001099, 0.05061110481619835, 0.9962067008018494, 0.09199628978967667, 0.16341446340084076, 0.04236671328544617, 0.01815716363489628, 0.6839197874069214, 0.9936128258705139, 0.055191151797771454, 0.8351337909698486, 0.008650650270283222, 0.1010395959019661, 0.00017301301704719663, 0.7093939185142517, 0.18558448553085327, 0.10505472868680954, 0.9947233200073242, 0.9947336912155151, 0.11280187219381332, 0.12784211337566376, 0.6389827132225037, 0.0380563884973526, 0.04762745648622513, 0.02392766997218132, 0.010710480622947216, 0.0066444771364331245, 0.16131313145160675, 0.0970831885933876, 0.05167926475405693, 0.04540392756462097, 0.5902510285377502, 0.04724961519241333, 0.998030960559845, 0.9980521202087402, 0.016630642116069794, 0.9812079071998596, 0.07751215249300003, 0.04588163271546364, 0.7417530417442322, 0.0312829315662384, 0.021550463512539864, 0.04866233840584755, 0.03336846083402634, 0.08341117203235626, 0.02335512824356556, 0.27692508697509766, 0.012233639135956764, 0.6038969159126282, 0.12387240678071976, 0.3215548098087311, 0.5545375943183899, 0.4074188470840454, 0.13448990881443024, 0.4578799903392792, 0.9967896938323975, 0.997022271156311, 0.6037922501564026, 0.012230831198394299, 0.25563371181488037, 0.054338499903678894, 0.001120381522923708, 0.04770957678556442, 0.02511521801352501, 0.9984017014503479, 0.9965657591819763, 0.9988042712211609, 0.9977718591690063, 0.41919270157814026, 0.026882097125053406, 0.5536031723022461, 0.09315990656614304, 0.12592649459838867, 0.023129355162382126, 0.04561622813344002, 0.5689178705215454, 0.09894224256277084, 0.044652506709098816, 0.9973868727684021, 0.590646505355835, 0.4089606702327728, 0.9981417655944824, 0.037654947489500046, 0.03142363205552101, 0.32794520258903503, 0.14883941411972046, 0.3140582740306854, 0.07922671735286713, 0.060710810124874115, 0.9933533072471619, 0.9979243874549866, 0.9986562132835388, 0.9973390102386475, 0.022144481539726257, 0.9757412075996399, 0.11809376627206802, 0.29506340622901917, 0.3483692705631256, 0.07998324185609818, 0.007133508566766977, 0.04680754244327545, 0.0022475437726825476, 0.07925035059452057, 0.02301289327442646, 0.1598748415708542, 0.31961047649383545, 0.40722838044166565, 0.0004176701186224818, 0.029329724609851837, 0.0329495333135128, 0.050584495067596436, 0.38492563366889954, 0.11161412298679352, 0.502979040145874, 0.9984439015388489, 0.25411489605903625, 0.05586923286318779, 0.6893542408943176, 0.12448353320360184, 0.6309165358543396, 0.13298241794109344, 0.08148922026157379, 0.029996031895279884, 0.024750133976340294, 0.9726802706718445, 0.9948108792304993, 0.9970701336860657, 0.9979495406150818, 0.036139968782663345, 0.2030216008424759, 0.7600023150444031, 0.17863155901432037, 0.8204941153526306, 0.09063134342432022, 0.1039050817489624, 0.8053459525108337, 0.016105571761727333, 0.07922200113534927, 0.18978458642959595, 0.015670286491513252, 0.50014328956604, 0.19936086237430573, 0.9982707500457764, 0.9921351671218872, 0.9982285499572754, 0.9021375179290771, 0.007194078993052244, 0.08345131576061249, 0.007194078993052244, 0.992264449596405, 0.9973245859146118, 0.9981086850166321, 0.5841895937919617, 0.10622906684875488, 0.27551406621932983, 0.004777497611939907, 0.0006323158740997314, 0.027927285060286522, 0.0006323158740997314, 7.025731611065567e-05, 0.11619633436203003, 0.29443925619125366, 0.14815972745418549, 0.00037603991222567856, 0.44071877002716064, 0.9995878338813782, 0.9960647821426392, 0.00265971920453012, 0.18537867069244385, 0.029442494735121727, 0.18537867069244385, 0.5997545123100281, 0.99940425157547, 0.08763547986745834, 0.06197080388665199, 0.8500641584396362, 0.2694227993488312, 0.021720189601182938, 0.0804109200835228, 0.06793335825204849, 0.006007712334394455, 0.01617461070418358, 0.538383424282074, 0.9966835975646973, 0.09559880197048187, 0.06618378311395645, 0.6879845261573792, 0.14993487298488617, 0.1257074773311615, 0.7741657495498657, 0.017860079184174538, 0.07624880224466324, 0.005495409015566111, 0.9975550770759583, 0.8874602317810059, 0.07426188886165619, 0.037437811493873596, 0.9979643821716309, 0.9934495091438293, 0.9981537461280823, 0.9977790713310242, 0.9980196356773376, 0.10320825129747391, 0.0688055008649826, 0.011672361753880978, 0.8158366680145264, 0.2016751766204834, 0.0026305457577109337, 0.01841381937265396, 0.7716267704963684, 0.005261091515421867, 0.997930645942688, 0.012829882092773914, 0.9351868033409119, 0.051877349615097046, 0.9987642765045166, 0.18494540452957153, 0.29317140579223633, 0.5217276215553284, 0.00017800327623263001, 0.019357623532414436, 0.9756242036819458, 0.1022670641541481, 0.09856051206588745, 0.00016847951337695122, 0.43888911604881287, 0.22896365821361542, 0.04734273999929428, 0.08373431861400604, 0.9956280589103699, 0.010348052717745304, 0.8899325728416443, 0.05756104364991188, 0.042038965970277786, 0.06260311603546143, 0.029103120788931847, 0.6984748840332031, 0.1308593600988388, 0.007956248708069324, 0.03580312058329582, 0.03496561944484711, 0.9964776635169983, 0.995505154132843, 0.150984987616539, 0.8485738635063171, 0.9974895715713501, 0.9917417168617249, 0.9972983002662659, 0.9930902719497681, 0.1945265531539917, 0.44073331356048584, 0.12501130998134613, 0.18789026141166687, 0.01824982650578022, 0.03351331874728203, 0.2311035841703415, 0.7146373987197876, 0.03916352614760399, 0.014734792523086071, 0.9061143398284912, 0.018044952303171158, 0.0747576579451561, 0.20190763473510742, 0.7977973818778992, 0.10514400899410248, 0.8947482109069824, 0.9966031312942505, 0.8173884153366089, 0.1824621856212616, 0.9989925622940063, 0.9993709921836853, 0.9968384504318237, 0.9746349453926086, 0.023453781381249428, 0.9926264882087708, 0.9986114501953125, 0.19976617395877838, 0.04172893613576889, 0.0017756994348019361, 0.7568918466567993, 0.20682017505168915, 0.7926408648490906, 0.2325204312801361, 0.13082075119018555, 0.427258163690567, 0.16397395730018616, 0.04524964094161987, 0.994476854801178, 0.8237190842628479, 0.17523637413978577, 0.0005408530123531818, 0.33994922041893005, 0.10935429483652115, 0.30210569500923157, 0.20052571594715118, 0.032317984849214554, 0.0037907776422798634, 0.001156508456915617, 0.001220758887939155, 0.007388803642243147, 0.002120265504345298, 0.9973600506782532, 0.1654614955186844, 0.00732305645942688, 0.626814067363739, 0.0401778519153595, 0.04275081679224968, 0.08193906396627426, 0.03582359850406647, 0.025180984288454056, 0.020036481320858, 0.913826048374176, 0.023827167227864265, 0.006769081577658653, 0.010289004072546959, 0.9981277585029602, 0.25798389315605164, 0.09955593198537827, 0.015555614605545998, 0.4054032266139984, 0.08208578079938889, 0.13928258419036865, 0.997610330581665, 0.5362685918807983, 0.12334746867418289, 0.18390923738479614, 0.011879109777510166, 0.07805497199296951, 0.0359627865254879, 0.00371561199426651, 0.012285929173231125, 0.014536992646753788, 5.424251139629632e-05, 0.006289523094892502, 0.6765168309211731, 0.11203213036060333, 0.11242522299289703, 0.06328832358121872, 0.028302853927016258, 0.0007861903868615627, 0.5860406160354614, 0.056879907846450806, 0.23576807975769043, 0.0032077289652079344, 0.08173980563879013, 5.728087489842437e-05, 0.001890268875285983, 0.03442580625414848, 0.11188694089651108, 0.11342314630746841, 0.38097888231277466, 0.09242834150791168, 0.29469534754753113, 0.006656889338046312, 0.18311427533626556, 0.5650818347930908, 0.0003384737065061927, 0.13149704039096832, 0.0864800363779068, 0.03333966061472893, 0.15573249757289886, 0.6188151240348816, 0.21397392451763153, 0.011078531853854656, 0.9954160451889038, 0.9945428967475891, 0.07703390717506409, 0.22958381474018097, 0.6289204955101013, 0.018847376108169556, 0.04541079327464104, 0.006625385954976082, 0.1904798448085785, 0.37433430552482605, 0.2016010284423828, 0.008281731978058815, 0.21863773465156555, 0.0651492327451706, 0.7096254825592041, 0.1257881373167038, 0.09872614592313766, 0.0012529586674645543, 0.3119867146015167, 0.13030770421028137, 0.02004733867943287, 0.5130866169929504, 0.022553255781531334, 0.9949736595153809, 0.8231145143508911, 0.1349801868200302, 0.03970005735754967, 0.0017644469626247883, 0.003190488088876009, 0.025899255648255348, 0.9308717846870422, 0.03396931290626526, 0.00131373037584126, 0.004879570100456476, 0.9961622953414917, 0.05757225304841995, 0.3942005932331085, 0.10904861986637115, 0.02777014672756195, 0.41113361716270447, 0.13378113508224487, 0.09716112911701202, 0.09775177389383316, 0.6644758582115173, 0.006497097201645374, 0.13193361461162567, 0.030975718051195145, 0.234612375497818, 0.6023055911064148, 0.08399765193462372, 0.10751698911190033, 0.031359121203422546, 0.7772582173347473, 0.1380939483642578, 0.39689400792121887, 0.28823477029800415, 0.0001356438733637333, 0.1478094458580017, 0.023398568853735924, 0.0042473492212593555, 0.0001356438733637333, 0.001051240018568933, 0.06697214394807816, 0.285603791475296, 0.28910842537879944, 0.24916519224643707, 0.05333767458796501, 0.0014402612578123808, 0.054393865168094635, 0.26236772537231445, 0.09467288851737976, 0.3153366148471832, 0.24295379221439362, 0.0248466394841671, 0.0026364601217210293, 0.022130286321043968, 0.01621822454035282, 0.01869489997625351, 0.030373603105545044, 0.8958426117897034, 0.01750948838889599, 0.020725516602396965, 0.03501897677779198, 0.24699287116527557, 0.06370245665311813, 0.40088215470314026, 0.07564181089401245, 0.05604105070233345, 0.06766927987337112, 0.017306223511695862, 0.004550175741314888, 0.06494694948196411, 0.0022556425537914038, 0.9968593120574951, 0.3088667094707489, 0.1372741013765335, 0.44957268238067627, 0.0820784717798233, 0.022021053358912468, 0.06288992613554001, 0.11838103830814362, 0.8175690174102783, 0.11799321323633194, 0.05956938862800598, 0.10310086607933044, 0.05613269284367561, 0.6632822155952454, 0.999365508556366, 0.9979973435401917, 0.0038072005845606327, 0.9898721575737, 0.005076267756521702, 0.9967523217201233, 0.9978129267692566, 0.9984754323959351, 0.7053030729293823, 0.09396949410438538, 0.002482213079929352, 0.19786784052848816, 0.17789863049983978, 0.16301560401916504, 0.5862515568733215, 0.04302123934030533, 0.0009301889222115278, 0.028835857287049294, 0.9946537613868713, 0.9977426528930664, 0.07061795890331268, 0.30080410838127136, 0.1542750746011734, 0.05770791321992874, 0.3026115298271179, 0.11360841989517212, 0.00038730143569409847, 0.9982585310935974, 0.0027912603691220284, 0.9964799284934998, 0.11411921679973602, 0.11701524257659912, 0.0077488357201218605, 0.761107861995697, 0.06813737750053406, 0.24334779381752014, 0.2125886231660843, 0.05723540112376213, 0.02608688361942768, 0.03114851750433445, 0.08059678971767426, 0.28072601556777954, 0.08247746527194977, 0.9164162874221802, 0.9981592297554016, 0.10697942972183228, 0.023440714925527573, 0.0538637675344944, 0.03291674703359604, 0.7825208902359009, 0.07649128884077072, 0.030400382354855537, 0.057858794927597046, 0.834539532661438, 0.9988799691200256, 0.042364057153463364, 0.5420223474502563, 0.4153261184692383, 0.13826368749141693, 0.2151964008808136, 0.5616626143455505, 0.0034969416446983814, 0.006724887527525425, 0.07451175898313522, 0.0008429082226939499, 0.18248963356018066, 0.58624267578125, 0.2301139533519745, 0.03133539482951164, 0.18145379424095154, 0.04153761640191078, 0.7447621822357178, 0.9967023730278015, 0.49606046080589294, 0.00204350333660841, 0.2138015478849411, 0.18216373026371002, 0.01985117606818676, 0.026492562144994736, 0.04557742550969124, 0.011786635965108871, 0.002225958975031972, 0.2133248746395111, 0.08691415190696716, 0.4114587604999542, 0.08322491496801376, 0.059461869299411774, 0.00032552119228057563, 0.10742198675870895, 0.027994820848107338, 0.009874142706394196, 0.9973872900009155, 0.06937068700790405, 0.14088685810565948, 0.022885175421833992, 0.11728651821613312, 0.6493668556213379, 0.1380845606327057, 0.12056362628936768, 0.6028181314468384, 0.05819890648126602, 0.03516438975930214, 0.045088835060596466, 0.4431915581226349, 0.007292503025382757, 0.24471163749694824, 0.24195975065231323, 0.0013071467401459813, 0.011145146563649178, 0.03350423648953438, 0.004196628928184509, 0.012589887715876102, 0.9983041286468506, 0.2478586733341217, 0.031410977244377136, 0.09437009692192078, 0.4477092921733856, 0.09601608663797379, 0.02112353965640068, 0.0005486633745022118, 0.04389306902885437, 0.01083610113710165, 0.006309628486633301, 0.9186480641365051, 0.0811273604631424, 0.2666139304637909, 0.0003938509617000818, 0.5613766312599182, 0.014433479867875576, 0.05745590478181839, 0.039524104446172714, 0.024534597992897034, 0.013414100743830204, 0.02224099636077881, 0.9996817708015442, 0.9993751645088196, 0.17973598837852478, 0.11049342900514603, 0.02283530868589878, 0.6865324974060059, 0.9994396567344666, 0.0015478003770112991, 0.04835033789277077, 0.6355195045471191, 0.003021896118298173, 0.017652295529842377, 0.16845227777957916, 0.037847407162189484, 0.02012140490114689, 0.06732931733131409, 0.000184261953108944, 0.9975535273551941, 0.9865005016326904, 0.006756852846592665, 0.5997632145881653, 0.07551445066928864, 0.1401478499174118, 0.003917176276445389, 0.0007616731454618275, 0.0014145357999950647, 0.17442314326763153, 0.004025986418128014, 0.9968271851539612, 0.9987916946411133, 0.9988994598388672, 0.9932940602302551, 0.9917975664138794, 0.9928293824195862, 0.21221591532230377, 0.054807066917419434, 0.1238233745098114, 0.4543265998363495, 0.026757659390568733, 0.05296171084046364, 0.01568552479147911, 0.026388587430119514, 0.005351531784981489, 0.02768033556640148, 0.20493349432945251, 0.7943888306617737, 0.08585962653160095, 0.03940572217106819, 0.12878943979740143, 0.037483491003513336, 0.23547321557998657, 0.001601858646608889, 0.38476645946502686, 0.08617999404668808, 0.9981480240821838, 0.06270411610603333, 0.030017927289009094, 0.05236460641026497, 0.8465055823326111, 0.008338313549757004, 0.10961511731147766, 0.48075902462005615, 0.051583584398031235, 0.005674194544553757, 0.03275557607412338, 0.3110490143299103, 0.008511291816830635, 0.9950416684150696, 0.9978381991386414, 0.9995296597480774, 0.1660432070493698, 0.032759372144937515, 0.08685912936925888, 0.6403989195823669, 0.03912404924631119, 0.016847675666213036, 0.016473283991217613, 0.0014975712401792407, 0.9982793927192688, 0.997860312461853, 0.9972537159919739, 0.964657187461853, 0.015554660931229591, 0.01957741752266884, 0.981695294380188, 0.015876473858952522, 0.999916136264801, 0.025307439267635345, 0.8604529500007629, 0.11297964304685593, 0.10673745721578598, 0.5732707381248474, 0.2946111559867859, 0.02520737051963806, 0.040537986904382706, 0.6610455513000488, 0.007831201888620853, 0.06403159350156784, 0.04168963432312012, 0.18472422659397125, 0.06944651901721954, 0.8939661383628845, 0.036617256700992584, 0.010487338528037071, 0.0747222825884819, 0.121915303170681, 0.7917940020561218, 0.04649543762207031, 0.22794686257839203, 0.00834533479064703, 0.004530324600636959, 0.6888477802276611, 0.023605376482009888, 0.09241321682929993, 0.28758442401885986, 0.5675826668739319, 0.05172381550073624, 0.10001134127378464, 0.03765132650732994, 0.08236227929592133, 0.778911828994751, 0.9070945382118225, 0.09250730276107788, 0.9481809139251709, 0.050435155630111694, 0.07369277626276016, 0.9255313277244568, 0.2238718420267105, 0.7673400044441223, 0.008491690270602703, 0.9616409540176392, 0.03632865846157074, 0.8972919583320618, 0.09952358156442642, 0.003159478772431612, 0.99753338098526, 0.9985188841819763, 0.9972870349884033, 0.03121439926326275, 0.9676463603973389, 0.9988043308258057, 0.11853174865245819, 0.15130549669265747, 0.013109502382576466, 0.7166527509689331, 0.035528428852558136, 0.8555825352668762, 0.06670643389225006, 0.042054057121276855, 0.9942878484725952, 0.19456546008586884, 0.3320675492286682, 0.15365858376026154, 0.31969237327575684, 0.05426961928606033, 0.8729656338691711, 0.06822466850280762, 0.0031011211685836315, 0.06782102584838867, 0.0209499504417181, 0.03728380799293518, 0.41864392161369324, 0.3682219982147217, 0.004971174523234367, 0.05539308860898018, 0.02698637545108795, 0.0035040138754993677, 0.02277608960866928, 0.9723638892173767, 0.06738382577896118, 0.9325236678123474, 0.9994914531707764, 0.9970080256462097, 0.000446430902229622, 0.05193479731678963, 0.04523833096027374, 0.09032785147428513, 0.3974723219871521, 0.33125174045562744, 0.043154988437891006, 0.04017878323793411, 0.9995175004005432, 0.9961259365081787, 0.1140502393245697, 0.07228536158800125, 0.8128087520599365, 0.996059000492096, 0.994421660900116, 0.9971858263015747, 0.9991799592971802, 0.9955729842185974, 0.998869001865387, 0.1345025897026062, 0.11254297941923141, 0.02653452381491661, 0.6944725513458252, 0.031109442934393883, 0.9986391067504883, 0.9940218329429626, 0.33065012097358704, 0.2450317144393921, 0.08745308220386505, 0.2843754291534424, 0.05075948312878609, 0.0016308267368003726, 0.2146167755126953, 0.7852420806884766, 0.02600233256816864, 0.06094296649098396, 0.09588360041379929, 0.48266831040382385, 0.011782307177782059, 0.3225914537906647, 0.562695324420929, 0.026549553498625755, 0.31820666790008545, 0.08663246780633926, 0.0031593414023518562, 0.002715925220400095, 0.000110854089143686, 0.9994446039199829, 0.998775064945221, 0.9949615597724915, 0.9959211945533752, 0.3663007318973541, 0.103099524974823, 0.5303677916526794, 0.4678595960140228, 0.04995988309383392, 0.4813781678676605, 0.1036393791437149, 0.017273230478167534, 0.0334668830037117, 0.8458485007286072, 0.0585511215031147, 0.8989319205284119, 0.03960810974240303, 0.013193647377192974, 0.018198134377598763, 0.10827889293432236, 0.1674228310585022, 0.19199031591415405, 0.1146482452750206, 0.3862553834915161, 0.9965317249298096, 0.9961568117141724, 0.9973291158676147, 0.12019777297973633, 0.4433373510837555, 0.14157523214817047, 0.2739886939525604, 0.02085886523127556, 0.4764697253704071, 0.05054266378283501, 0.30883967876434326, 0.014418873935937881, 0.04247353971004486, 0.022351806983351707, 0.001157595543190837, 0.04776783660054207, 0.03346812725067139, 0.0025024490896612406, 0.11242309212684631, 0.8762590289115906, 0.001373805571347475, 0.000228967604925856, 0.005724189803004265, 0.0038924491964280605, 0.13860158622264862, 0.10011559724807739, 0.33623236417770386, 0.12752386927604675, 0.13600118458271027, 0.04581913724541664, 0.0010401620529592037, 0.08331698179244995, 0.013730138540267944, 0.01768275536596775, 0.02504970133304596, 0.973991334438324, 0.9961301684379578, 0.9950595498085022, 0.2504672110080719, 0.00843815691769123, 0.5257620811462402, 0.026856055483222008, 0.09874265640974045, 0.013387460261583328, 0.048600535839796066, 0.027829689905047417, 0.03709190711379051, 0.15701515972614288, 0.4760490655899048, 0.15505722165107727, 0.13738146424293518, 0.028335606679320335, 0.009028235450387001, 0.024610424414277077, 0.00685032457113266, 0.8562905192375183, 0.02892359159886837, 0.054548878222703934, 0.02892359159886837, 0.13213220238685608, 0.00978757068514824, 0.03303305059671402, 0.8246028423309326, 0.997340738773346, 0.9961960911750793, 0.998479962348938, 0.9956828355789185, 0.42938607931137085, 0.08819985389709473, 0.31554222106933594, 4.317173807066865e-05, 0.04364662617444992, 0.06670033186674118, 0.04787745699286461, 0.0001726869522826746, 0.008461660705506802, 0.9916411638259888, 0.5080075860023499, 0.13765040040016174, 0.2245253473520279, 0.042298823595047, 0.02745417132973671, 0.020411396399140358, 0.004006369039416313, 0.03070143796503544, 0.0044702645391225815, 0.0005060676485300064, 0.09274833649396896, 0.2028483897447586, 0.011238479986786842, 0.4633094370365143, 0.04835016652941704, 0.05761265009641647, 0.06008264422416687, 0.03383893892168999, 0.016857720911502838, 0.013090977445244789, 0.9912182688713074, 0.18361496925354004, 0.31670063734054565, 0.36416298151016235, 0.007089186925441027, 0.03418898582458496, 0.05304320901632309, 0.007038909010589123, 0.004625569097697735, 0.02956341952085495, 0.9934253692626953, 0.7372546792030334, 0.2624126970767975, 0.0005679928581230342, 0.9994015097618103, 0.01748155802488327, 0.008740779012441635, 0.9727238416671753, 0.0856369286775589, 0.06461695581674576, 0.0038925877306610346, 0.010899245738983154, 0.7831886410713196, 0.0007785175694152713, 0.0513821579515934, 0.996958315372467, 0.14972089231014252, 0.41528645157814026, 0.23360492289066315, 0.039118994027376175, 0.09628515690565109, 0.041942015290260315, 0.00020164430316071957, 0.0017139766132459044, 0.022180873900651932, 0.9928551316261292, 0.7285698652267456, 0.00415139552205801, 0.20507892966270447, 0.018681278452277184, 0.005811953451484442, 0.03694741800427437, 0.0008302790811285377, 0.07494566589593887, 0.9172454476356506, 0.006711551919579506, 0.759412407875061, 0.08480747789144516, 0.08260469138622284, 0.07324282079935074, 0.057683028280735016, 0.2775116264820099, 0.340470552444458, 0.19309745728969574, 0.09127283841371536, 0.039745014160871506, 0.9941267967224121, 0.17851345241069794, 0.6955413222312927, 0.1084303930401802, 0.01719018444418907, 0.9992411732673645, 0.9985806345939636, 0.9980697631835938, 0.012159901671111584, 0.7863402962684631, 0.20023304224014282, 0.7433636784553528, 0.026644697412848473, 0.11697956919670105, 0.0014023524709045887, 0.10844859480857849, 0.0023372541181743145, 0.0008180389413610101, 0.9969449043273926, 0.9938219785690308, 0.07335387170314789, 0.8133923411369324, 0.11235213279724121, 0.23787981271743774, 0.332907497882843, 0.1722506582736969, 0.034988414496183395, 0.21862582862377167, 0.003312512533739209, 0.7488954663276672, 0.003388667246326804, 0.22704070806503296, 0.019153336063027382, 0.0008840001537464559, 0.00044200007687322795, 0.032731425017118454, 0.7632588744163513, 0.2035040706396103, 0.9932950139045715, 0.0037756336387246847, 0.07949806749820709, 0.905103325843811, 0.011746415868401527, 0.995650053024292, 0.43983888626098633, 0.0002678405726328492, 0.45715925097465515, 0.028971422463655472, 0.012186747044324875, 0.007454896345734596, 0.0541037991642952, 0.24109773337841034, 0.1812635213136673, 0.397990882396698, 0.0066208550706505775, 0.10308108478784561, 0.020883867517113686, 0.005775639787316322, 0.022468646988272667, 0.01887648180127144, 0.001972169615328312, 0.9968988299369812, 0.7260152697563171, 0.20210951566696167, 0.07168571650981903, 0.9987691044807434, 0.14908955991268158, 0.14540144801139832, 0.3476893901824951, 0.07074490189552307, 0.23872211575508118, 0.0483926385641098, 0.12372233718633652, 0.019867820665240288, 0.8457369804382324, 0.010385451838374138, 0.9971482753753662, 0.9912059307098389, 0.9359581470489502, 0.06322838366031647, 0.9947410821914673, 0.8286195397377014, 0.02498350478708744, 0.015465978533029556, 0.03807010129094124, 0.09220102429389954, 0.9984517693519592, 0.9965847134590149, 0.05605508014559746, 0.9427444934844971, 0.9940152764320374, 0.9981232285499573, 0.37265491485595703, 0.16214358806610107, 0.2782573103904724, 0.08624106645584106, 0.011013918556272984, 0.07875990867614746, 0.007481152657419443, 0.0025456699077039957, 0.0009351440821774304, 0.07574770599603653, 0.16662901639938354, 0.175470232963562, 0.24612030386924744, 0.026523644104599953, 0.18072716891765594, 0.0025488187093287706, 0.022700415924191475, 0.09685511142015457, 0.006690648850053549, 0.9965347647666931, 0.9989779591560364, 0.9966902732849121, 0.9974951148033142, 0.9969981908798218, 0.9979836940765381, 0.9948367476463318, 0.661765456199646, 0.08417435735464096, 0.15221001207828522, 0.020727142691612244, 0.07697523385286331, 0.002294225851073861, 0.0017404471291229129, 7.91112324804999e-05, 0.9949877262115479, 0.27612078189849854, 0.40703362226486206, 0.31674888730049133, 0.04880967736244202, 0.058256711810827255, 0.892744779586792, 0.11101384460926056, 0.033711012452840805, 0.8311507701873779, 0.02324897237122059, 0.9968934655189514, 0.008078980259597301, 0.5604503750801086, 0.17912253737449646, 0.1569630354642868, 0.055860377848148346, 0.019158724695444107, 0.020082036033272743, 0.8813714385032654, 0.08785039186477661, 0.0023461529053747654, 0.016162386164069176, 0.010688030160963535, 0.00130341830663383, 0.00026068364968523383, 0.20411276817321777, 0.0011177194537594914, 0.20170538127422333, 0.27762433886528015, 0.07101817429065704, 0.13515807688236237, 0.020978735759854317, 0.06448381394147873, 0.022096455097198486, 0.0018055468099191785, 0.9895485639572144, 0.2905882000923157, 0.12725314497947693, 0.26217368245124817, 0.08757593482732773, 0.0847667008638382, 0.08323322236537933, 0.011791050434112549, 0.019510000944137573, 0.031764961779117584, 0.0013530714204534888, 0.20077712833881378, 0.11192096024751663, 0.668878972530365, 0.0026467794086784124, 0.01550256460905075, 0.05748867616057396, 0.4538465738296509, 0.21772077679634094, 0.07708463072776794, 0.0018405037699267268, 0.18827271461486816, 0.0036810075398534536, 0.9955346584320068, 0.9939775466918945, 0.04326342046260834, 0.14989861845970154, 0.12430616468191147, 0.6800278425216675, 0.0018280318472534418, 0.9931515455245972, 0.004537433385848999, 0.0592702217400074, 0.6828836798667908, 0.1778106689453125, 0.00028358958661556244, 0.02325434610247612, 0.05189689248800278, 0.9960455298423767, 0.9958859086036682, 0.04429617151618004, 0.003591581480577588, 0.11014183610677719, 0.7167200446128845, 0.0011971938656643033, 0.12410909682512283, 0.2339070588350296, 0.017179613932967186, 0.003964526578783989, 0.7440094351768494, 0.9229009747505188, 0.05105127766728401, 0.025857139378786087, 0.9955068826675415, 0.4953848421573639, 0.23378929495811462, 0.21360266208648682, 0.056948672980070114, 3.611203283071518e-05, 0.00021667219698429108, 0.9950355291366577, 0.25846612453460693, 0.29471662640571594, 0.014500203542411327, 0.3603300452232361, 0.0699634775519371, 0.001812525442801416, 0.13508200645446777, 0.6204953789710999, 0.14851003885269165, 0.06613807380199432, 0.027256904169917107, 0.0008016736246645451, 0.00040083681233227253, 0.0012025104369968176, 0.9978811740875244, 0.9971498250961304, 0.04385484755039215, 0.16849493980407715, 0.0011540749110281467, 0.7847709655761719, 0.9959410429000854, 0.9857825636863708, 0.010376658290624619, 0.0682588517665863, 0.9309749007225037, 0.08632335066795349, 0.026697944849729538, 0.8863717913627625, 0.14071911573410034, 0.13060204684734344, 0.1919175684452057, 0.02253345213830471, 0.36743322014808655, 0.04062153026461601, 0.04751952365040779, 0.058556318283081055, 0.0036962470039725304, 0.01210839580744505, 0.2565705180168152, 0.21412742137908936, 0.009176889434456825, 0.305386483669281, 0.10094577819108963, 0.053022027015686035, 0.044992249459028244, 0.016878370195627213, 0.11051663011312485, 0.27797940373420715, 0.05445108935236931, 0.3247985541820526, 0.09275764971971512, 0.10831510275602341, 0.014383306726813316, 0.9563194513320923, 0.042008865624666214, 0.41797247529029846, 0.043906211853027344, 0.28928905725479126, 0.006907770875841379, 0.1859865039587021, 0.0023025902919471264, 0.0008896371582522988, 0.0026689113583415747, 0.050029005855321884, 0.00010466319508850574, 0.9977607727050781, 0.8570997714996338, 0.0038782795891165733, 0.1383253037929535, 0.9932031631469727, 0.050053976476192474, 0.8757947683334351, 0.0005994488601572812, 0.05155260115861893, 0.002697519725188613, 0.019182363525032997, 0.990664541721344, 0.0038547259755432606, 0.8435145616531372, 0.019305791705846786, 0.13662560284137726, 0.9978132247924805, 0.9830964207649231, 0.016157083213329315, 0.6920461058616638, 0.08711753785610199, 0.10718394070863724, 0.05383668094873428, 0.05970977619290352, 0.006062124390155077, 0.12326319515705109, 0.8689044713973999, 0.05981767177581787, 0.9397162795066833, 0.06577365100383759, 0.9334055185317993, 0.2818038761615753, 0.3401048481464386, 0.013600390404462814, 0.27400505542755127, 0.016453618183732033, 0.058491189032793045, 0.013505282811820507, 0.0019021524349227548, 0.8709772825241089, 0.04695603996515274, 0.08188675343990326, 0.9977209568023682, 0.0334552600979805, 0.17604699730873108, 0.4523693323135376, 0.016185112297534943, 0.22894246876239777, 0.04801281541585922, 0.017722245305776596, 0.006148533895611763, 0.020253993570804596, 0.0009041961748152971, 0.016465872526168823, 0.06810883432626724, 0.11151886731386185, 0.05538520961999893, 0.026944154873490334, 0.022453462705016136, 0.08232936263084412, 0.6159733533859253, 0.11483434587717056, 0.40727266669273376, 0.19597259163856506, 0.01496252603828907, 0.2151927500963211, 0.0029195172246545553, 0.01496252603828907, 0.026883888989686966, 0.00669056037440896, 0.0003649396530818194, 0.3227913975715637, 0.08720333874225616, 0.5897647142410278, 0.261018306016922, 0.28106382489204407, 0.29279258847236633, 0.09866378456354141, 0.012439598329365253, 0.03319595754146576, 0.016135936602950096, 0.003340920666232705, 0.0012795014772564173, 0.23586413264274597, 0.6684645414352417, 0.00658225454390049, 0.08118113875389099, 0.007679297123104334, 0.013626586645841599, 0.9385311603546143, 0.02554985135793686, 0.020439879968762398, 0.3760210871696472, 0.0010412090923637152, 0.5365118980407715, 0.014027400873601437, 0.05827878788113594, 0.003962378948926926, 0.008589975535869598, 0.0015618136385455728, 0.15775184333324432, 0.02490818500518799, 0.7713022232055664, 0.03193357214331627, 0.0010644523426890373, 0.0129863191395998, 0.9607022404670715, 0.038384221494197845, 0.9966957569122314, 0.8452630043029785, 0.15403425693511963, 0.02998075634241104, 0.027674544602632523, 0.04843045398592949, 0.3067261874675751, 0.4713897407054901, 0.08717481791973114, 0.0285970289260149, 0.8223677277565002, 0.010325693525373936, 0.10989487916231155, 0.05236601456999779, 0.0047940718941390514, 0.9974182844161987, 0.06981280446052551, 0.003474845550954342, 0.05085910111665726, 0.13646665215492249, 0.40434566140174866, 0.27166974544525146, 0.06096774339675903, 0.0025271603371948004, 0.8513482213020325, 0.14780853688716888, 0.18528421223163605, 0.8140833973884583, 0.9919983148574829, 0.9935951232910156, 0.9974942207336426, 0.07256624102592468, 0.28246331214904785, 0.039649598300457, 0.012397178448736668, 0.39296919107437134, 0.174842968583107, 0.02511497400701046, 0.9972779750823975, 0.9954954981803894, 0.9430398344993591, 0.056086741387844086, 0.9761804938316345, 0.01663944125175476, 0.05911696329712868, 0.8854108452796936, 0.05508625879883766, 0.07376427948474884, 0.828029990196228, 0.09765975177288055, 0.996545672416687, 0.9971045851707458, 0.9965659976005554, 0.9990778565406799, 0.9935278296470642, 0.9987409114837646, 0.32270705699920654, 0.007485473062843084, 0.6407356858253479, 0.002703087404370308, 0.026407085359096527, 0.5284131169319153, 0.05235234275460243, 0.4074746370315552, 0.0080191008746624, 0.0005867634899914265, 0.0001303918834310025, 0.002999013289809227, 0.9973676204681396, 0.26388823986053467, 0.1415492445230484, 0.5904625654220581, 0.00404426408931613, 0.31802651286125183, 0.11390528827905655, 0.14999166131019592, 0.1544717699289322, 0.14551155269145966, 0.05032453313469887, 0.007610051427036524, 0.05265664681792259, 0.005032453220337629, 0.0025162266101688147, 0.2006983757019043, 0.1553327888250351, 0.2870308458805084, 0.00026260828599333763, 0.24461960792541504, 0.015296932309865952, 0.008272160775959492, 0.003216951387003064, 0.08528203517198563, 0.33266544342041016, 0.003839316079393029, 0.08310990035533905, 0.3193407654762268, 0.032972950488328934, 0.22787469625473022, 0.054813943803310394, 0.09350614249706268, 0.11392702162265778, 0.16336704790592194, 0.5739342570304871, 0.1275869607925415, 0.022636396810412407, 0.02606615237891674, 0.8231416940689087, 0.3279188275337219, 0.6707430481910706, 0.9970800280570984, 0.999090313911438, 0.17586642503738403, 0.2535918056964874, 0.1940947026014328, 0.07860033959150314, 0.26540371775627136, 0.021290628239512444, 0.011082793585956097, 0.018683088943362236, 0.05189746990799904, 0.03632823005318642, 0.09133954346179962, 0.03010053187608719, 0.013493342325091362, 0.758741021156311, 0.9978335499763489, 0.13137970864772797, 0.8679023385047913, 0.998187780380249, 0.9263685345649719, 0.015010600909590721, 0.01822715811431408, 0.040743060410022736, 0.36815741658210754, 0.08317355811595917, 0.46268635988235474, 0.04999925568699837, 0.001070138649083674, 0.02669401466846466, 0.005677680019289255, 0.0025564422830939293, 0.3013221025466919, 0.05063676834106445, 0.5598361492156982, 0.04164208099246025, 0.01282576099038124, 0.030815139412879944, 0.002331956522539258, 0.00033313664607703686, 0.19602304697036743, 0.28598442673683167, 0.16245807707309723, 0.1524522602558136, 0.1582738310098648, 0.01882912777364254, 0.001819239347241819, 0.02301337756216526, 0.00036384788108989596, 0.0009096196736209095, 0.4475824534893036, 0.06667233258485794, 0.4380727708339691, 0.02142292819917202, 0.012906008400022984, 5.225104541750625e-05, 0.013271765783429146, 0.9941689968109131, 0.0872272476553917, 0.2449786514043808, 0.3069656789302826, 0.02969438210129738, 0.3307211697101593, 0.13473540544509888, 0.031863100826740265, 0.3067961633205414, 0.03277347609400749, 0.022304171696305275, 0.47157391905784607, 0.2683158814907074, 0.7262303829193115, 0.005078534130007029, 0.0011731229024007916, 0.3011406660079956, 0.00011731229460565373, 0.045751795172691345, 0.23521114885807037, 0.009150358848273754, 0.0015250598080456257, 0.3920576870441437, 0.013725537806749344, 0.9975209832191467, 0.13795016705989838, 0.26704996824264526, 0.014814731664955616, 0.11255347728729248, 0.26339438557624817, 0.20432785153388977, 0.9971149563789368, 0.9989585876464844, 0.9974212050437927, 0.9982856512069702, 0.9980625510215759, 0.9964922666549683, 0.9997093081474304, 0.9959621429443359, 0.40655437111854553, 0.11414432525634766, 0.3416661024093628, 0.1070656031370163, 0.030556464567780495, 0.9943831562995911, 0.9972473978996277, 0.943263053894043, 0.05607984587550163, 0.09657131880521774, 0.038786839693784714, 0.8643924593925476, 0.9959654808044434, 0.9975400567054749, 0.02248224802315235, 0.09601793438196182, 0.7939043641090393, 0.021545488387346268, 0.06604160368442535, 0.9952166676521301, 0.9963265061378479, 0.9989907145500183, 0.9991369247436523, 0.9980244040489197, 0.9969448447227478, 0.9309585690498352, 0.06814709305763245, 0.9236788749694824, 0.07604381442070007, 0.06146539747714996, 0.029196064919233322, 0.9081512689590454, 0.005047653801739216, 0.029444647952914238, 0.9649431705474854, 0.6814311146736145, 0.03696546331048012, 0.1656818687915802, 0.11575639247894287, 0.5310184955596924, 0.12409993261098862, 0.26613566279411316, 0.054730575531721115, 0.019254611805081367, 0.004286129493266344, 0.00039564273902215064, 0.07518815994262695, 0.9165670871734619, 0.00442283321171999, 0.0036423332057893276, 0.06992406398057938, 0.1706748753786087, 0.0037593585439026356, 0.697736918926239, 0.012029946781694889, 0.04586417227983475, 0.36068835854530334, 0.6211854815483093, 0.017811769619584084, 0.9974128007888794, 0.9969276189804077, 0.19492439925670624, 0.009887469001114368, 0.0009416637476533651, 0.7938225269317627, 0.24028810858726501, 0.25872161984443665, 0.2300110161304474, 0.01957540586590767, 0.15154626965522766, 0.09999769926071167, 0.9957191348075867, 0.9960104823112488, 0.9970335960388184, 0.12239040434360504, 0.022070400416851044, 0.8547264337539673, 0.9981855750083923, 0.07772320508956909, 0.21152518689632416, 0.020660599693655968, 0.6847512722015381, 0.004919190425425768, 0.9961971640586853, 0.16125044226646423, 0.03752138465642929, 0.015008554793894291, 0.4747828245162964, 0.025258298963308334, 0.016655834391713142, 0.14935341477394104, 0.1198854073882103, 0.1779721975326538, 0.15323475003242493, 0.01786593347787857, 0.07581569254398346, 0.402670681476593, 0.03664807230234146, 0.10834085941314697, 0.026798902079463005, 0.0009162017377093434, 0.9962946772575378, 0.021265991032123566, 0.002362887840718031, 0.18430525064468384, 0.1165691390633583, 0.6749982833862305, 0.08103116601705551, 0.23727227747440338, 0.5071724057197571, 0.10131806135177612, 0.019501034170389175, 0.0003201662329956889, 0.0090519730001688, 0.044357575476169586, 0.9981688261032104, 0.9423651695251465, 0.05748103931546211, 0.07644715160131454, 0.8769888281822205, 0.046298980712890625, 0.9676327705383301, 0.03186814486980438, 0.9988815188407898, 0.9992145299911499, 0.050693754106760025, 0.1980224847793579, 0.5774335861206055, 0.13307110965251923, 0.04079263284802437, 0.7874011397361755, 0.004866222385317087, 0.08272577822208405, 0.056077420711517334, 0.03753942996263504, 0.031051132827997208, 0.18893413245677948, 0.0008726749802008271, 0.7679539918899536, 0.00785407517105341, 0.011781112290918827, 0.009163087233901024, 0.013962799683213234, 0.35778072476387024, 0.06380502134561539, 0.5780261754989624, 0.08204300701618195, 0.011486020870506763, 0.905754804611206, 0.9977617263793945, 0.07304616272449493, 0.17854110896587372, 0.06911738216876984, 0.4107755124568939, 0.11422556638717651, 0.011931843124330044, 0.015860620886087418, 0.036232057958841324, 0.05412982404232025, 0.036232057958841324, 0.9981522560119629, 0.07257246226072311, 0.0167474914342165, 0.25307321548461914, 0.02046915516257286, 0.18747885525226593, 0.15770554542541504, 0.29215067625045776, 0.013942280784249306, 0.2188163548707962, 0.05112169682979584, 0.7064088582992554, 0.009294853545725346, 0.00038728557410649955, 0.9248346090316772, 0.01920759491622448, 0.05563579127192497, 0.8487526774406433, 0.08672674000263214, 0.01948915421962738, 0.044825054705142975, 0.6636937260627747, 0.005511277820914984, 0.2489134520292282, 0.01479740347713232, 0.03691801056265831, 0.01932721957564354, 0.0064927381463348866, 0.00422782963141799, 0.00015099390293471515, 0.4619215726852417, 0.037329405546188354, 0.49624747037887573, 0.0010011717677116394, 0.001525595085695386, 0.0019069937989115715, 4.767484642798081e-05, 0.1491532176733017, 0.14484331011772156, 0.40951716899871826, 0.04409947991371155, 0.15246260166168213, 0.047101013362407684, 0.018855798989534378, 0.013853239826858044, 0.01847098581492901, 0.0016931737773120403, 0.44284480810165405, 0.01098718959838152, 0.542543351650238, 0.0007121326634660363, 0.0007121326634660363, 0.002136398106813431, 0.9954018592834473, 0.9951309561729431, 0.3753504157066345, 0.10971518605947495, 0.30055880546569824, 0.06501640379428864, 0.013526140712201595, 0.0753030925989151, 0.02929716557264328, 0.007814471609890461, 0.018413737416267395, 0.004944429732859135, 0.9944698810577393, 0.011153427883982658, 0.08365070819854736, 0.15314514935016632, 0.2530970275402069, 0.06649158895015717, 0.4135347902774811, 0.018875032663345337, 0.729451596736908, 0.09858871251344681, 0.059782516211271286, 0.09596667438745499, 0.004195264540612698, 0.012061385437846184, 0.9983410239219666, 0.9986801147460938, 0.9945496320724487, 0.9980290532112122, 0.996744692325592, 0.9959648847579956, 0.9953120946884155, 0.9959598779678345, 0.9570683240890503, 0.04262247681617737, 0.9968417882919312, 0.40417540073394775, 0.3069095313549042, 0.2670689821243286, 0.004808340687304735, 0.005357865709811449, 0.011540018022060394, 0.17089605331420898, 0.2069343477487564, 0.14087243378162384, 0.19430851936340332, 0.08206788450479507, 0.09360013902187347, 0.015409475192427635, 0.053237251937389374, 0.03703244775533676, 0.0056170024909079075, 0.7840545177459717, 0.06321059912443161, 0.13857708871364594, 0.013979267328977585, 0.04215969145298004, 0.8887718915939331, 0.06266981363296509, 0.005697255488485098, 0.00807515624910593, 0.9905524253845215, 0.01838735118508339, 0.9797831177711487, 0.09662511944770813, 0.9023299217224121, 0.23697201907634735, 0.58428555727005, 0.08715048432350159, 0.044357482343912125, 0.00266881100833416, 0.04260895028710365, 0.0019325873581692576, 0.9990397691726685, 0.9976809024810791, 0.9983866214752197, 0.9981000423431396, 0.022117823362350464, 0.9768704771995544, 0.12777067720890045, 0.6483885049819946, 0.20061904191970825, 0.019451655447483063, 0.0030512402299791574, 0.07863593101501465, 0.7249510288238525, 0.10197663307189941, 0.019450582563877106, 0.07502368092536926, 0.025673162192106247, 0.030056385323405266, 0.0031308734323829412, 0.14276783168315887, 0.2849094867706299, 0.01690671779215336, 0.49593037366867065, 0.0006261746748350561, 0.9905914664268494, 0.9984477758407593, 0.9983036518096924, 0.5917609930038452, 0.014742380008101463, 0.3008572459220886, 0.07305459678173065, 0.005727930925786495, 0.01361557375639677, 9.390051127411425e-05, 0.11014147102832794, 0.036447782069444656, 0.046557385474443436, 0.6637752652168274, 0.02420984022319317, 0.0904543474316597, 0.027934430167078972, 0.0006742830155417323, 0.998613178730011, 0.0006742830155417323, 0.07512333244085312, 0.029843514785170555, 0.0010290867649018764, 0.12040314823389053, 0.7738732099533081, 0.9996836185455322, 0.8733983039855957, 0.022833943367004395, 0.016554608941078186, 0.07649371027946472, 0.010275274515151978, 0.9978309869766235, 0.4916323125362396, 0.0025362789165228605, 0.48062485456466675, 0.021000389009714127, 0.002231925493106246, 0.0019275719532743096, 0.41646066308021545, 0.5825057029724121, 0.0009515475830994546, 0.5444747805595398, 0.012936507351696491, 0.4323076605796814, 0.009359943680465221, 0.0005326797254383564, 0.0003043884062208235, 0.1624738574028015, 0.03970225527882576, 0.11483114212751389, 0.019545726478099823, 0.6633331179618835, 0.3285425901412964, 0.19389399886131287, 0.2773333787918091, 0.11951667070388794, 0.037573374807834625, 0.014661736786365509, 0.0003419647109694779, 0.021543776616454124, 0.005642417818307877, 0.0010258941911160946, 0.8599281311035156, 0.1385834664106369, 0.13404010236263275, 0.11723705381155014, 0.49717453122138977, 0.045273903757333755, 0.08272268623113632, 0.05648757889866829, 0.03255808725953102, 0.004401629790663719, 0.02913459576666355, 0.000978139927610755, 0.9978696703910828, 0.9973142743110657, 0.9951632618904114, 0.89656662940979, 0.10319855064153671, 0.9989267587661743, 0.14449448883533478, 0.22256384789943695, 0.08733183145523071, 0.038373079150915146, 0.00132320960983634, 0.2535269558429718, 0.15111052989959717, 0.03519737347960472, 0.06616047769784927, 0.006446463521569967, 0.008219241164624691, 0.05286100134253502, 0.7735756039619446, 0.1423056721687317, 0.016599643975496292, 0.995450496673584, 0.9976463913917542, 0.09401588886976242, 0.04281911626458168, 0.859174907207489, 0.0027925511822104454, 0.2914760708808899, 0.3882888853549957, 0.19341808557510376, 0.08581371605396271, 0.015149700455367565, 0.0030091870576143265, 0.0017640062142163515, 0.02044171839952469, 0.0007263554725795984, 0.04570038989186287, 0.10492704063653946, 0.030072957277297974, 0.6928598880767822, 0.06868190318346024, 0.05738813057541847, 0.00039396886131726205, 0.9977949857711792, 0.9987015724182129, 0.19858162105083466, 0.38207170367240906, 0.2065809667110443, 0.058799292892217636, 0.051954492926597595, 0.06448955088853836, 0.0009896093979477882, 0.030100619420409203, 0.0064324610866606236, 0.1349879950284958, 0.5520044565200806, 0.03178288787603378, 0.052584607154130936, 0.019016165286302567, 0.07856444269418716, 0.001071333303116262, 0.08526027202606201, 0.04463888704776764, 0.9192678332328796, 0.02900128997862339, 0.009992041625082493, 0.04167412221431732, 0.9999291896820068, 0.519688606262207, 0.100809246301651, 0.3071731925010681, 0.01521554309874773, 0.000301297870464623, 0.03306744247674942, 0.02272288128733635, 0.0001506489352323115, 0.00017575710080564022, 0.0006779202376492321, 0.9989782571792603, 0.9395486116409302, 0.04075329005718231, 0.00666872039437294, 0.012596472166478634, 0.15329620242118835, 0.09262124449014664, 0.3003869950771332, 0.14977215230464935, 0.012334177270531654, 0.19535498321056366, 0.07538403570652008, 0.011338249780237675, 0.00942300446331501, 0.16885307431221008, 0.4279956519603729, 0.1859728991985321, 0.06003665179014206, 0.06601686030626297, 0.032011728733778, 0.031073657795786858, 0.026969589293003082, 0.0009380726842209697, 0.1620946228504181, 0.11431936919689178, 0.5073277354240417, 0.04986068606376648, 0.13090799748897552, 0.035262688994407654, 0.00018958435975946486, 0.9937292337417603, 0.9997128844261169, 0.9995669722557068], \"Term\": [\"1/10\", \"13th\", \"1947\", \"2/10\", \"aamir\", \"aboard\", \"abomination\", \"accepts\", \"acting\", \"acting\", \"acting\", \"acting\", \"acting\", \"action\", \"action\", \"action\", \"action\", \"action\", \"action\", \"actor\", \"actor\", \"actor\", \"actor\", \"actor\", \"actor\", \"actor\", \"actors\", \"actors\", \"actors\", \"actors\", \"actors\", \"actors\", \"actors\", \"adam\", \"adam\", \"affleck\", \"akbar\", \"alien\", \"aliens\", \"allen\", \"allen\", \"also\", \"also\", \"also\", \"also\", \"also\", \"also\", \"also\", \"also\", \"also\", \"also\", \"america\", \"america\", \"america\", \"america\", \"america\", \"america\", \"american\", \"american\", \"american\", \"american\", \"american\", \"american\", \"american\", \"american\", \"andre\", \"angelina\", \"angus\", \"animated\", \"animation\", \"anime\", \"anthony\", \"anthony\", \"anthony\", \"anthony\", \"anthony\", \"ants\", \"anything\", \"anything\", \"anything\", \"anything\", \"anything\", \"anything\", \"anything\", \"anything\", \"apartment\", \"ape\", \"architect\", \"argento\", \"arizona\", \"arkin\", \"army\", \"army\", \"army\", \"army\", \"arrives\", \"arrives\", \"arrives\", \"art\", \"art\", \"art\", \"art\", \"art\", \"art\", \"arts\", \"ash\", \"asks\", \"asks\", \"asks\", \"asoka\", \"atmosphere\", \"atmosphere\", \"atmosphere\", \"atmosphere\", \"atmospheric\", \"atmospheric\", \"atmospheric\", \"attack\", \"attack\", \"attack\", \"attack\", \"attack\", \"attack\", \"audience\", \"audience\", \"audience\", \"audience\", \"audience\", \"audience\", \"avoid\", \"avoid\", \"avoid\", \"avoid\", \"avoid\", \"avoid\", \"awful\", \"awful\", \"awful\", \"awful\", \"bachchan\", \"back\", \"back\", \"back\", \"back\", \"back\", \"back\", \"back\", \"back\", \"back\", \"back\", \"bad\", \"bad\", \"bad\", \"bad\", \"bad\", \"bale\", \"bambi\", \"banderas\", \"barrymore\", \"batman\", \"battle\", \"battle\", \"battle\", \"beatles\", \"begins\", \"begins\", \"begins\", \"begins\", \"begins\", \"begins\", \"beliefs\", \"beowulf\", \"bernie\", \"berry\", \"best\", \"best\", \"best\", \"best\", \"best\", \"best\", \"best\", \"best\", \"best\", \"bette\", \"better\", \"better\", \"better\", \"better\", \"better\", \"better\", \"better\", \"better\", \"big\", \"big\", \"big\", \"big\", \"big\", \"big\", \"big\", \"big\", \"big\", \"big\", \"billie\", \"bin\", \"birch\", \"bit\", \"bit\", \"bit\", \"bit\", \"bit\", \"bit\", \"bit\", \"bit\", \"bit\", \"bit\", \"black\", \"black\", \"black\", \"black\", \"black\", \"black\", \"black\", \"black\", \"black\", \"blah\", \"blah\", \"blood\", \"blood\", \"blood\", \"blood\", \"bo\", \"boat\", \"boat\", \"boat\", \"boat\", \"boat\", \"boll\", \"book\", \"book\", \"book\", \"book\", \"book\", \"boring\", \"boring\", \"boring\", \"boulevard\", \"bounty\", \"boy\", \"boy\", \"boy\", \"boy\", \"boy\", \"boy\", \"boy\", \"british\", \"british\", \"british\", \"british\", \"british\", \"british\", \"british\", \"broadway\", \"bronson\", \"brooks\", \"brooks\", \"brother\", \"brother\", \"brother\", \"brother\", \"brother\", \"brother\", \"brother\", \"brown\", \"brown\", \"brown\", \"brown\", \"brown\", \"bruce\", \"bruce\", \"bruce\", \"budget\", \"budget\", \"budget\", \"bunny\", \"bunuel\", \"ca\", \"ca\", \"ca\", \"ca\", \"ca\", \"ca\", \"ca\", \"cagney\", \"caine\", \"candyman\", \"cannibal\", \"captain\", \"captain\", \"captain\", \"career\", \"career\", \"career\", \"career\", \"career\", \"career\", \"career\", \"carrey\", \"cartoon\", \"cartoon\", \"cary\", \"cast\", \"cast\", \"cast\", \"cast\", \"cast\", \"cast\", \"cast\", \"cells\", \"chainsaw\", \"chan\", \"chaney\", \"chaplin\", \"chaplin\", \"character\", \"character\", \"character\", \"character\", \"character\", \"character\", \"character\", \"character\", \"character\", \"characters\", \"characters\", \"characters\", \"characters\", \"characters\", \"characters\", \"characters\", \"charlie\", \"charlie\", \"charlie\", \"che\", \"chinese\", \"chinese\", \"chinese\", \"cinema\", \"cinema\", \"cinema\", \"cinema\", \"cinema\", \"civil\", \"civil\", \"colonel\", \"columbo\", \"comedians\", \"comedic\", \"comedic\", \"comedic\", \"comedies\", \"comedies\", \"comedy\", \"comedy\", \"comedy\", \"comic\", \"comic\", \"comic\", \"comic\", \"comic\", \"comic\", \"commander\", \"confronts\", \"connery\", \"contrast\", \"contrast\", \"contrast\", \"contrast\", \"conway\", \"costello\", \"costs\", \"could\", \"could\", \"could\", \"could\", \"could\", \"could\", \"could\", \"could\", \"country\", \"country\", \"country\", \"country\", \"country\", \"crap\", \"crappy\", \"crappy\", \"crash\", \"crash\", \"crash\", \"crash\", \"crawford\", \"creepy\", \"creepy\", \"creepy\", \"crew\", \"crew\", \"crew\", \"crew\", \"crew\", \"crew\", \"crew\", \"cried\", \"crime\", \"crime\", \"crime\", \"crime\", \"cult\", \"cult\", \"cult\", \"cult\", \"cult\", \"cultural\", \"culture\", \"culture\", \"culture\", \"cultures\", \"cushing\", \"daffy\", \"dakota\", \"damme\", \"dance\", \"dance\", \"dance\", \"dance\", \"dancing\", \"dancing\", \"dancing\", \"dancing\", \"dancing\", \"dante\", \"daughter\", \"daughter\", \"daughter\", \"davis\", \"dead\", \"dead\", \"dead\", \"dead\", \"dealer\", \"dealer\", \"death\", \"death\", \"death\", \"death\", \"death\", \"death\", \"death\", \"deceased\", \"decides\", \"decides\", \"decides\", \"decides\", \"definitely\", \"definitely\", \"definitely\", \"definitely\", \"definitely\", \"definitely\", \"definitely\", \"demonstrates\", \"deniro\", \"dennis\", \"dennis\", \"depicting\", \"desi\", \"diana\", \"dil\", \"director\", \"director\", \"director\", \"director\", \"director\", \"director\", \"disappointed\", \"disappointed\", \"disappointed\", \"disappointed\", \"discovers\", \"discovers\", \"discovers\", \"disney\", \"disney\", \"documentary\", \"documentary\", \"dodge\", \"douglas\", \"douglas\", \"dracula\", \"dragon\", \"dragons\", \"drivel\", \"drivel\", \"dumbest\", \"dunne\", \"earth\", \"earth\", \"earth\", \"earth\", \"eddie\", \"eddie\", \"effects\", \"effects\", \"effects\", \"effects\", \"effects\", \"emergency\", \"emotional\", \"emotional\", \"emotional\", \"end\", \"end\", \"end\", \"end\", \"end\", \"end\", \"end\", \"end\", \"end\", \"end\", \"enid\", \"enjoy\", \"enjoy\", \"enjoy\", \"enjoy\", \"enjoy\", \"enjoy\", \"enjoy\", \"enjoyed\", \"enjoyed\", \"enjoyed\", \"enjoyed\", \"enjoyed\", \"enjoyed\", \"enterprise\", \"episode\", \"episode\", \"episode\", \"episode\", \"episode\", \"episode\", \"errol\", \"even\", \"even\", \"even\", \"even\", \"even\", \"even\", \"even\", \"even\", \"even\", \"even\", \"events\", \"events\", \"events\", \"events\", \"events\", \"events\", \"events\", \"ever\", \"ever\", \"ever\", \"ever\", \"ever\", \"ever\", \"ever\", \"ever\", \"evil\", \"evil\", \"evil\", \"evil\", \"evil\", \"evil\", \"excellent\", \"excellent\", \"excellent\", \"excellent\", \"excellent\", \"excellent\", \"experience\", \"experience\", \"experience\", \"experience\", \"exploration\", \"explores\", \"family\", \"family\", \"family\", \"family\", \"family\", \"fans\", \"fans\", \"fans\", \"fans\", \"fans\", \"fans\", \"fantastic\", \"fantastic\", \"fantastic\", \"fantastic\", \"fantasy\", \"fantasy\", \"fantasy\", \"fantasy\", \"fantasy\", \"fantasy\", \"fart\", \"fascinating\", \"fascinating\", \"fascinating\", \"fascinating\", \"father\", \"father\", \"father\", \"father\", \"father\", \"father\", \"fellini\", \"fiction\", \"fiction\", \"fiction\", \"fiction\", \"fiction\", \"fight\", \"fight\", \"fight\", \"fight\", \"fight\", \"fighting\", \"fighting\", \"fighting\", \"fighting\", \"fights\", \"fights\", \"fights\", \"fights\", \"film\", \"film\", \"film\", \"film\", \"film\", \"film\", \"film\", \"film\", \"film\", \"films\", \"films\", \"films\", \"films\", \"films\", \"films\", \"films\", \"find\", \"find\", \"find\", \"find\", \"find\", \"find\", \"find\", \"find\", \"find\", \"finds\", \"finds\", \"finds\", \"finds\", \"finds\", \"first\", \"first\", \"first\", \"first\", \"first\", \"first\", \"first\", \"first\", \"first\", \"first\", \"firth\", \"flick\", \"flick\", \"flick\", \"flick\", \"flick\", \"flight\", \"flight\", \"flight\", \"fly\", \"fly\", \"fly\", \"fly\", \"fly\", \"flynn\", \"fonda\", \"ford\", \"ford\", \"ford\", \"francisco\", \"frankenstein\", \"freddy\", \"french\", \"french\", \"french\", \"french\", \"friend\", \"friend\", \"friend\", \"friend\", \"friend\", \"friend\", \"frogs\", \"fu\", \"fun\", \"fun\", \"fun\", \"fun\", \"fun\", \"fun\", \"fun\", \"funnier\", \"funniest\", \"funniest\", \"funny\", \"funny\", \"funny\", \"funny\", \"future\", \"future\", \"future\", \"future\", \"future\", \"future\", \"future\", \"future\", \"gag\", \"gag\", \"gags\", \"game\", \"game\", \"game\", \"game\", \"game\", \"games\", \"games\", \"games\", \"games\", \"garbage\", \"gay\", \"gay\", \"gay\", \"genre\", \"genre\", \"genre\", \"genre\", \"genre\", \"genre\", \"george\", \"george\", \"george\", \"george\", \"german\", \"german\", \"german\", \"german\", \"germans\", \"get\", \"get\", \"get\", \"get\", \"get\", \"get\", \"get\", \"get\", \"get\", \"gets\", \"gets\", \"gets\", \"gets\", \"gets\", \"gets\", \"gets\", \"gets\", \"gets\", \"giallo\", \"giant\", \"giant\", \"giant\", \"giant\", \"giant\", \"girl\", \"girl\", \"girl\", \"girl\", \"girl\", \"girl\", \"go\", \"go\", \"go\", \"go\", \"go\", \"go\", \"go\", \"go\", \"go\", \"godzilla\", \"goes\", \"goes\", \"goes\", \"goes\", \"goes\", \"goes\", \"goes\", \"goes\", \"goes\", \"goes\", \"gon\", \"gon\", \"good\", \"good\", \"good\", \"good\", \"good\", \"good\", \"good\", \"good\", \"good\", \"gore\", \"gory\", \"government\", \"government\", \"government\", \"government\", \"grant\", \"great\", \"great\", \"great\", \"great\", \"great\", \"great\", \"great\", \"great\", \"great\", \"great\", \"gremlins\", \"grodin\", \"grodin\", \"guy\", \"guy\", \"guy\", \"guy\", \"guy\", \"guy\", \"guy\", \"guy\", \"hackman\", \"halloween\", \"hammer\", \"harper\", \"hayek\", \"hayward\", \"help\", \"help\", \"help\", \"help\", \"help\", \"help\", \"help\", \"help\", \"help\", \"help\", \"henry\", \"henry\", \"hero\", \"hero\", \"hero\", \"hero\", \"hero\", \"hero\", \"hero\", \"hero\", \"highlander\", \"hilarious\", \"hilarious\", \"hilarious\", \"hilarious\", \"hilarious\", \"history\", \"history\", \"history\", \"history\", \"history\", \"history\", \"history\", \"hitler\", \"holden\", \"holmes\", \"home\", \"home\", \"home\", \"home\", \"home\", \"home\", \"home\", \"home\", \"homosexuality\", \"hong\", \"hopkins\", \"horrible\", \"horrible\", \"horrible\", \"horrid\", \"horrid\", \"horror\", \"hospital\", \"hospital\", \"hospital\", \"house\", \"house\", \"house\", \"house\", \"human\", \"human\", \"human\", \"human\", \"human\", \"human\", \"humanity\", \"humanity\", \"humanity\", \"humans\", \"humans\", \"humans\", \"humans\", \"humor\", \"humor\", \"humor\", \"humor\", \"humor\", \"humor\", \"humour\", \"humour\", \"humour\", \"humour\", \"hunter\", \"hunter\", \"hunter\", \"hunter\", \"husband\", \"husband\", \"idiot\", \"idiot\", \"india\", \"india\", \"indian\", \"indian\", \"indian\", \"indians\", \"indians\", \"individual\", \"individual\", \"individual\", \"insight\", \"insult\", \"intimate\", \"iraq\", \"iraq\", \"irene\", \"island\", \"island\", \"island\", \"island\", \"issues\", \"issues\", \"issues\", \"issues\", \"it`s\", \"jack\", \"jack\", \"jack\", \"jack\", \"jail\", \"jail\", \"jail\", \"jail\", \"james\", \"james\", \"james\", \"james\", \"james\", \"james\", \"james\", \"james\", \"japan\", \"japan\", \"japan\", \"japanese\", \"japanese\", \"joan\", \"jody\", \"john\", \"john\", \"john\", \"john\", \"john\", \"john\", \"john\", \"john\", \"jokes\", \"judy\", \"jungle\", \"jungle\", \"jungle\", \"karan\", \"kareena\", \"karen\", \"karloff\", \"keane\", \"kelly\", \"kevin\", \"kevin\", \"kevin\", \"kevin\", \"kevin\", \"kidding\", \"kidman\", \"kids\", \"kids\", \"kids\", \"kids\", \"kids\", \"kids\", \"killer\", \"killer\", \"king\", \"king\", \"king\", \"king\", \"king\", \"king\", \"know\", \"know\", \"know\", \"know\", \"know\", \"know\", \"know\", \"kong\", \"kung\", \"lancaster\", \"landing\", \"laugh\", \"laugh\", \"laugh\", \"laughing\", \"laughing\", \"laughing\", \"laughs\", \"laughs\", \"laughs\", \"laughs\", \"learns\", \"learns\", \"learns\", \"lee\", \"lee\", \"lee\", \"lee\", \"lee\", \"lee\", \"lee\", \"lenny\", \"levy\", \"li\", \"life\", \"life\", \"life\", \"life\", \"life\", \"like\", \"like\", \"like\", \"like\", \"like\", \"like\", \"like\", \"like\", \"like\", \"like\", \"liked\", \"liked\", \"liked\", \"liked\", \"liked\", \"liked\", \"little\", \"little\", \"little\", \"little\", \"little\", \"little\", \"little\", \"little\", \"little\", \"little\", \"lloyd\", \"lloyd\", \"loneliness\", \"looney\", \"lot\", \"lot\", \"lot\", \"lot\", \"lot\", \"lot\", \"lot\", \"lot\", \"love\", \"love\", \"love\", \"love\", \"love\", \"love\", \"love\", \"loved\", \"loved\", \"loved\", \"loved\", \"loved\", \"loved\", \"low-budget\", \"low-budget\", \"low-budget\", \"low-budget\", \"lowest\", \"loy\", \"lugosi\", \"madame\", \"made\", \"made\", \"made\", \"made\", \"made\", \"made\", \"made\", \"made\", \"made\", \"maine\", \"make\", \"make\", \"make\", \"make\", \"make\", \"make\", \"make\", \"make\", \"make\", \"make\", \"man\", \"man\", \"man\", \"man\", \"man\", \"man\", \"man\", \"man\", \"man\", \"man\", \"mantle\", \"many\", \"many\", \"many\", \"many\", \"many\", \"many\", \"many\", \"many\", \"many\", \"maris\", \"married\", \"married\", \"married\", \"martial\", \"massacre\", \"massacre\", \"massacre\", \"match\", \"match\", \"match\", \"match\", \"match\", \"match\", \"match\", \"maury\", \"may\", \"may\", \"may\", \"may\", \"may\", \"may\", \"may\", \"may\", \"may\", \"mcqueen\", \"mean\", \"mean\", \"mean\", \"mean\", \"mean\", \"mean\", \"mean\", \"media\", \"media\", \"media\", \"meets\", \"meets\", \"meets\", \"meets\", \"men\", \"men\", \"men\", \"men\", \"men\", \"men\", \"meryl\", \"message\", \"message\", \"message\", \"message\", \"mgm\", \"mickey\", \"miike\", \"military\", \"military\", \"military\", \"minutes\", \"minutes\", \"minutes\", \"minutes\", \"minutes\", \"minutes\", \"minutes\", \"mitchum\", \"mobster\", \"mom\", \"mom\", \"mom\", \"moments\", \"moments\", \"moments\", \"moments\", \"moments\", \"moments\", \"money\", \"money\", \"money\", \"money\", \"money\", \"money\", \"monster\", \"monster\", \"monster\", \"morons\", \"mother\", \"mother\", \"mother\", \"mother\", \"mothers\", \"movies\", \"movies\", \"movies\", \"movies\", \"movies\", \"movies\", \"movies\", \"much\", \"much\", \"much\", \"much\", \"much\", \"much\", \"much\", \"much\", \"much\", \"much\", \"mummy\", \"murder\", \"murder\", \"murder\", \"murphy\", \"music\", \"music\", \"music\", \"music\", \"music\", \"music\", \"musical\", \"musical\", \"musical\", \"musical\", \"myers\", \"nanny\", \"narrative\", \"narrative\", \"natives\", \"nature\", \"nature\", \"nature\", \"nature\", \"nature\", \"nazi\", \"nazis\", \"neighborhood\", \"neighborhood\", \"nerd\", \"nero\", \"never\", \"never\", \"never\", \"never\", \"never\", \"never\", \"never\", \"never\", \"never\", \"new\", \"new\", \"new\", \"new\", \"new\", \"new\", \"new\", \"new\", \"new\", \"new\", \"nikita\", \"ninja\", \"ninjas\", \"nominated\", \"nope\", \"norma\", \"norris\", \"nothing\", \"nothing\", \"nothing\", \"nothing\", \"nothing\", \"nothing\", \"nothing\", \"nothing\", \"notices\", \"novel\", \"novel\", \"novel\", \"nuclear\", \"nuclear\", \"nuclear\", \"nudity\", \"nudity\", \"nudity\", \"nudity\", \"o'neill\", \"often\", \"often\", \"often\", \"often\", \"often\", \"often\", \"often\", \"oh\", \"oh\", \"oh\", \"oh\", \"oh\", \"oh\", \"oh\", \"old\", \"old\", \"old\", \"old\", \"old\", \"old\", \"old\", \"old\", \"old\", \"old\", \"omega\", \"one\", \"one\", \"one\", \"one\", \"one\", \"one\", \"one\", \"one\", \"one\", \"one\", \"opinion\", \"opinion\", \"opinion\", \"opinion\", \"opinion\", \"original\", \"original\", \"original\", \"original\", \"original\", \"original\", \"original\", \"orson\", \"osama\", \"oscar\", \"oscar\", \"oscar\", \"oscar\", \"oscar\", \"otto\", \"overall\", \"overall\", \"overall\", \"overall\", \"overall\", \"overall\", \"overall\", \"pammy\", \"panther\", \"parents\", \"parents\", \"parents\", \"parents\", \"parents\", \"parents\", \"parody\", \"parody\", \"parody\", \"parody\", \"pathetic\", \"pathetic\", \"pathetic\", \"patients\", \"people\", \"people\", \"people\", \"people\", \"people\", \"people\", \"percent\", \"performance\", \"performance\", \"performance\", \"performance\", \"performance\", \"performance\", \"perhaps\", \"perhaps\", \"perhaps\", \"perhaps\", \"perhaps\", \"perhaps\", \"perhaps\", \"perhaps\", \"peterson\", \"phantasm\", \"pilot\", \"pilot\", \"pilot\", \"pilot\", \"pimp\", \"pitiful\", \"pitiful\", \"plane\", \"plane\", \"planet\", \"planet\", \"planet\", \"play\", \"play\", \"play\", \"play\", \"play\", \"play\", \"play\", \"play\", \"played\", \"played\", \"played\", \"played\", \"played\", \"played\", \"played\", \"played\", \"played\", \"plays\", \"plays\", \"plays\", \"plays\", \"plays\", \"plays\", \"plays\", \"plays\", \"pleasantly\", \"pleasantly\", \"plot\", \"plot\", \"plot\", \"plot\", \"plot\", \"plot\", \"plot\", \"plot\", \"plot\", \"plot\", \"poetry\", \"pointless\", \"pointless\", \"pointless\", \"poirot\", \"police\", \"police\", \"police\", \"police\", \"police\", \"police\", \"policeman\", \"policeman\", \"poorly\", \"poorly\", \"poorly\", \"porky\", \"powell\", \"powell\", \"powerful\", \"powerful\", \"powerful\", \"powerful\", \"powerful\", \"predator\", \"predator\", \"predator\", \"pregnant\", \"pregnant\", \"president\", \"president\", \"pretty\", \"pretty\", \"pretty\", \"pretty\", \"pretty\", \"pretty\", \"pretty\", \"pretty\", \"prison\", \"prison\", \"prison\", \"quaid\", \"quite\", \"quite\", \"quite\", \"quite\", \"quite\", \"quite\", \"quite\", \"quite\", \"quite\", \"quite\", \"race\", \"race\", \"race\", \"race\", \"race\", \"race\", \"race\", \"race\", \"rather\", \"rather\", \"rather\", \"rather\", \"rather\", \"rather\", \"rather\", \"rather\", \"rather\", \"rather\", \"read\", \"read\", \"read\", \"real\", \"real\", \"real\", \"real\", \"real\", \"real\", \"real\", \"real\", \"real\", \"reality\", \"reality\", \"reality\", \"reality\", \"reality\", \"realizes\", \"realizes\", \"realizes\", \"realizes\", \"really\", \"really\", \"really\", \"really\", \"really\", \"really\", \"really\", \"really\", \"recommend\", \"recommend\", \"recommend\", \"recommend\", \"recommend\", \"recommend\", \"redeeming\", \"redeeming\", \"reilly\", \"relationships\", \"relationships\", \"richard\", \"richard\", \"richard\", \"richard\", \"richard\", \"richard\", \"richard\", \"ridiculous\", \"ridiculous\", \"ridiculous\", \"ridiculous\", \"ridiculous\", \"ringu\", \"robert\", \"robert\", \"robert\", \"robert\", \"robert\", \"robert\", \"robert\", \"robert\", \"robin\", \"robin\", \"robot\", \"robot\", \"rochester\", \"rodman\", \"rogers\", \"role\", \"role\", \"role\", \"role\", \"role\", \"role\", \"role\", \"romero\", \"roswell\", \"rubbish\", \"rubbish\", \"rukh\", \"rukh\", \"russell\", \"russell\", \"russell\", \"russian\", \"russian\", \"russian\", \"sadako\", \"saif\", \"samurai\", \"sandler\", \"sanjay\", \"satan\", \"saw\", \"saw\", \"saw\", \"saw\", \"saw\", \"say\", \"say\", \"say\", \"say\", \"say\", \"say\", \"say\", \"scares\", \"scary\", \"scary\", \"scary\", \"scary\", \"scene\", \"scene\", \"scene\", \"scene\", \"scene\", \"scene\", \"scene\", \"scene\", \"scene\", \"scene\", \"scenes\", \"scenes\", \"scenes\", \"scenes\", \"scenes\", \"scenes\", \"scenes\", \"scenes\", \"scenes\", \"school\", \"school\", \"school\", \"school\", \"school\", \"school\", \"sci-fi\", \"sci-fi\", \"sci-fi\", \"sci-fi\", \"sci-fi\", \"science\", \"science\", \"science\", \"science\", \"scientist\", \"scientist\", \"scientists\", \"scorsese\", \"screen\", \"screen\", \"screen\", \"screen\", \"screen\", \"screen\", \"screen\", \"sea\", \"sea\", \"sea\", \"sea\", \"sea\", \"sea\", \"sea\", \"seagal\", \"season\", \"season\", \"seasons\", \"seconds\", \"seconds\", \"seconds\", \"seconds\", \"see\", \"see\", \"see\", \"see\", \"see\", \"see\", \"see\", \"see\", \"seeing\", \"seeing\", \"seeing\", \"seeing\", \"seeing\", \"seeing\", \"seeing\", \"seeing\", \"seems\", \"seems\", \"seems\", \"seems\", \"seems\", \"seems\", \"seems\", \"seems\", \"seems\", \"seems\", \"seen\", \"seen\", \"seen\", \"seen\", \"seen\", \"seen\", \"seen\", \"sellers\", \"sequel\", \"sequel\", \"sequel\", \"sequel\", \"sequel\", \"sequences\", \"sequences\", \"sequences\", \"sequences\", \"sequences\", \"sequences\", \"serial\", \"serial\", \"serial\", \"series\", \"series\", \"series\", \"series\", \"series\", \"series\", \"series\", \"series\", \"series\", \"seth\", \"sex\", \"sex\", \"sex\", \"sex\", \"sex\", \"sex\", \"sexuality\", \"shark\", \"sharks\", \"sharpe\", \"sherlock\", \"shields\", \"ship\", \"ships\", \"show\", \"show\", \"show\", \"show\", \"show\", \"shyamalan\", \"sinbad\", \"singer\", \"singer\", \"singing\", \"singing\", \"singing\", \"sings\", \"sir\", \"sister\", \"sister\", \"sister\", \"sister\", \"sister\", \"sketch\", \"skits\", \"slapstick\", \"slasher\", \"snipes\", \"snoopy\", \"social\", \"social\", \"society\", \"society\", \"soldier\", \"soldier\", \"soldier\", \"soldiers\", \"soldiers\", \"soldiers\", \"someone\", \"someone\", \"someone\", \"someone\", \"something\", \"something\", \"something\", \"something\", \"something\", \"something\", \"something\", \"son\", \"son\", \"son\", \"son\", \"song\", \"song\", \"song\", \"song\", \"song\", \"song\", \"songs\", \"songs\", \"songs\", \"sopranos\", \"soviet\", \"space\", \"space\", \"space\", \"space\", \"special\", \"special\", \"special\", \"special\", \"special\", \"special\", \"species\", \"spiritual\", \"spock\", \"spoof\", \"spoof\", \"spoof\", \"spooky\", \"stage\", \"stage\", \"stage\", \"stage\", \"stage\", \"stan\", \"star\", \"star\", \"star\", \"star\", \"star\", \"star\", \"star\", \"star\", \"stars\", \"stars\", \"stars\", \"stars\", \"stars\", \"stars\", \"stars\", \"stars\", \"stars\", \"steaming\", \"steve\", \"steve\", \"steve\", \"steve\", \"steve\", \"story\", \"story\", \"story\", \"story\", \"story\", \"story\", \"story\", \"story\", \"streep\", \"stupid\", \"stupid\", \"subject\", \"subject\", \"subject\", \"subtlety\", \"subtlety\", \"suck\", \"sucks\", \"supporting\", \"supporting\", \"supporting\", \"supporting\", \"supporting\", \"supposed\", \"supposed\", \"supposed\", \"supposed\", \"supposed\", \"supposed\", \"surprised\", \"surprised\", \"surprised\", \"surprised\", \"surprised\", \"surprised\", \"surprised\", \"suspense\", \"suspense\", \"suspense\", \"sword\", \"sword\", \"sword\", \"symbolism\", \"takes\", \"takes\", \"takes\", \"takes\", \"takes\", \"takes\", \"takes\", \"takes\", \"takes\", \"takes\", \"tarzan\", \"team\", \"team\", \"team\", \"team\", \"team\", \"team\", \"team\", \"tells\", \"tells\", \"tells\", \"tells\", \"tells\", \"tells\", \"terrible\", \"terrible\", \"terrible\", \"themes\", \"themes\", \"themes\", \"themes\", \"thing\", \"thing\", \"thing\", \"thing\", \"thing\", \"thing\", \"thing\", \"thing\", \"thing\", \"think\", \"think\", \"think\", \"think\", \"think\", \"think\", \"think\", \"though\", \"though\", \"though\", \"though\", \"though\", \"though\", \"though\", \"though\", \"though\", \"though\", \"thought\", \"thought\", \"thought\", \"thought\", \"thought\", \"thought\", \"thoughtful\", \"tierney\", \"time\", \"time\", \"time\", \"time\", \"time\", \"time\", \"time\", \"time\", \"time\", \"time\", \"tina\", \"tom\", \"tom\", \"tom\", \"tom\", \"tom\", \"tom\", \"tom\", \"town\", \"town\", \"town\", \"town\", \"town\", \"town\", \"travolta\", \"trek\", \"tribe\", \"troll\", \"troops\", \"tucci\", \"tucker\", \"turd\", \"turner\", \"turner\", \"turtles\", \"tv\", \"tv\", \"tv\", \"tv\", \"tv\", \"tv\", \"two\", \"two\", \"two\", \"two\", \"two\", \"two\", \"two\", \"two\", \"two\", \"two\", \"ultimately\", \"ultimately\", \"ultimately\", \"ultimately\", \"understanding\", \"understanding\", \"understanding\", \"understanding\", \"unfunny\", \"unfunny\", \"union\", \"union\", \"united\", \"united\", \"us\", \"us\", \"us\", \"us\", \"us\", \"us\", \"us\", \"vampire\", \"vampires\", \"vegas\", \"victoria\", \"vietnam\", \"vietnam\", \"view\", \"view\", \"view\", \"view\", \"view\", \"viewer\", \"viewer\", \"viewer\", \"viewer\", \"viewer\", \"villain\", \"villain\", \"villain\", \"villain\", \"villain\", \"villain\", \"villain\", \"villain\", \"vinny\", \"virginia\", \"voiced\", \"want\", \"want\", \"want\", \"want\", \"want\", \"want\", \"want\", \"wants\", \"wants\", \"wants\", \"wants\", \"wants\", \"wants\", \"wants\", \"war\", \"war\", \"war\", \"wars\", \"wars\", \"wars\", \"wars\", \"wars\", \"waste\", \"wasted\", \"wasted\", \"wasted\", \"wasted\", \"wasted\", \"wasting\", \"watch\", \"watch\", \"watch\", \"watch\", \"watch\", \"watch\", \"watched\", \"watched\", \"watched\", \"watching\", \"watching\", \"watching\", \"watching\", \"watching\", \"watching\", \"water\", \"water\", \"water\", \"water\", \"water\", \"way\", \"way\", \"way\", \"way\", \"way\", \"way\", \"way\", \"way\", \"way\", \"way\", \"wayne\", \"wayne\", \"well\", \"well\", \"well\", \"well\", \"well\", \"well\", \"well\", \"well\", \"well\", \"well\", \"welles\", \"werewolf\", \"wesley\", \"western\", \"western\", \"westerns\", \"white\", \"white\", \"white\", \"white\", \"white\", \"white\", \"white\", \"white\", \"white\", \"wife\", \"wife\", \"wife\", \"wife\", \"wife\", \"wife\", \"wilbur\", \"wilder\", \"williams\", \"williams\", \"williams\", \"williams\", \"without\", \"without\", \"without\", \"without\", \"without\", \"without\", \"without\", \"without\", \"without\", \"woman\", \"woman\", \"woman\", \"woman\", \"woman\", \"woman\", \"woman\", \"woo\", \"woody\", \"work\", \"work\", \"work\", \"work\", \"work\", \"work\", \"work\", \"work\", \"work\", \"world\", \"world\", \"world\", \"world\", \"world\", \"world\", \"world\", \"world\", \"world\", \"worse\", \"worse\", \"worse\", \"worse\", \"worst\", \"would\", \"would\", \"would\", \"would\", \"would\", \"would\", \"would\", \"would\", \"would\", \"would\", \"wwii\", \"yeah\", \"yeah\", \"yeah\", \"yeah\", \"years\", \"years\", \"years\", \"years\", \"years\", \"years\", \"years\", \"years\", \"years\", \"yet\", \"yet\", \"yet\", \"yet\", \"yet\", \"yet\", \"yet\", \"yet\", \"yet\", \"young\", \"young\", \"young\", \"young\", \"young\", \"young\", \"young\", \"zohan\", \"zombie\", \"zombies\"]}, \"R\": 30, \"lambda.step\": 0.01, \"plot.opts\": {\"xlab\": \"PC1\", \"ylab\": \"PC2\"}, \"topic.order\": [2, 6, 5, 8, 9, 3, 1, 10, 4, 7]};\n",
       "\n",
       "function LDAvis_load_lib(url, callback){\n",
       "  var s = document.createElement('script');\n",
       "  s.src = url;\n",
       "  s.async = true;\n",
       "  s.onreadystatechange = s.onload = callback;\n",
       "  s.onerror = function(){console.warn(\"failed to load library \" + url);};\n",
       "  document.getElementsByTagName(\"head\")[0].appendChild(s);\n",
       "}\n",
       "\n",
       "if(typeof(LDAvis) !== \"undefined\"){\n",
       "   // already loaded: just create the visualization\n",
       "   !function(LDAvis){\n",
       "       new LDAvis(\"#\" + \"ldavis_el1230611399978168243605800058284\", ldavis_el1230611399978168243605800058284_data);\n",
       "   }(LDAvis);\n",
       "}else if(typeof define === \"function\" && define.amd){\n",
       "   // require.js is available: use it to load d3/LDAvis\n",
       "   require.config({paths: {d3: \"https://cdnjs.cloudflare.com/ajax/libs/d3/3.5.5/d3.min\"}});\n",
       "   require([\"d3\"], function(d3){\n",
       "      window.d3 = d3;\n",
       "      LDAvis_load_lib(\"https://cdn.rawgit.com/bmabey/pyLDAvis/files/ldavis.v1.0.0.js\", function(){\n",
       "        new LDAvis(\"#\" + \"ldavis_el1230611399978168243605800058284\", ldavis_el1230611399978168243605800058284_data);\n",
       "      });\n",
       "    });\n",
       "}else{\n",
       "    // require.js not available: dynamically load d3 & LDAvis\n",
       "    LDAvis_load_lib(\"https://cdnjs.cloudflare.com/ajax/libs/d3/3.5.5/d3.min.js\", function(){\n",
       "         LDAvis_load_lib(\"https://cdn.rawgit.com/bmabey/pyLDAvis/files/ldavis.v1.0.0.js\", function(){\n",
       "                 new LDAvis(\"#\" + \"ldavis_el1230611399978168243605800058284\", ldavis_el1230611399978168243605800058284_data);\n",
       "            })\n",
       "         });\n",
       "}\n",
       "</script>"
      ],
      "text/plain": [
       "PreparedData(topic_coordinates=            Freq  cluster  topics         x         y\n",
       "topic                                                \n",
       "1      22.074760        1       1 -0.154090 -0.096600\n",
       "5      17.857010        1       2 -0.114618  0.041163\n",
       "4      17.171173        1       3 -0.197296 -0.015669\n",
       "7      10.590674        1       4 -0.002062 -0.075393\n",
       "8       8.688093        1       5 -0.072405 -0.029982\n",
       "2       7.750798        1       6 -0.030079  0.113000\n",
       "0       4.919077        1       7  0.150974  0.290573\n",
       "9       4.424430        1       8  0.005357 -0.132043\n",
       "3       3.713261        1       9  0.041489  0.060139\n",
       "6       2.810730        1      10  0.372731 -0.155186, topic_info=      Category           Freq        Term          Total  loglift  logprob\n",
       "term                                                                      \n",
       "51     Default  117955.000000        film  117955.000000  30.0000  30.0000\n",
       "816    Default   12776.000000       funny   12776.000000  29.0000  29.0000\n",
       "704    Default   10460.000000      action   10460.000000  28.0000  28.0000\n",
       "8      Default   27019.000000         bad   27019.000000  27.0000  27.0000\n",
       "1135   Default   10234.000000      horror   10234.000000  26.0000  26.0000\n",
       "2035   Default    9191.000000      comedy    9191.000000  25.0000  25.0000\n",
       "186    Default   27135.000000       great   27135.000000  24.0000  24.0000\n",
       "118    Default   34575.000000      really   34575.000000  23.0000  23.0000\n",
       "81     Default   58742.000000        like   58742.000000  22.0000  22.0000\n",
       "450    Default   43163.000000        good   43163.000000  21.0000  21.0000\n",
       "2148   Default   16952.000000        show   16952.000000  20.0000  20.0000\n",
       "214    Default    5932.000000         war    5932.000000  19.0000  19.0000\n",
       "380    Default   34357.000000       story   34357.000000  18.0000  18.0000\n",
       "140    Default   20975.000000       think   20975.000000  17.0000  17.0000\n",
       "917    Default   22401.000000      movies   22401.000000  16.0000  16.0000\n",
       "1256   Default    8524.000000      series    8524.000000  15.0000  15.0000\n",
       "696    Default   19713.000000       watch   19713.000000  14.0000  14.0000\n",
       "160    Default   39827.000000       would   39827.000000  13.0000  13.0000\n",
       "429    Default   28466.000000       could   28466.000000  12.0000  12.0000\n",
       "940    Default   18886.000000        best   18886.000000  11.0000  11.0000\n",
       "283    Default   20829.000000       films   20829.000000  10.0000  10.0000\n",
       "125    Default   33640.000000         see   33640.000000   9.0000   9.0000\n",
       "1891   Default   21548.000000  characters   21548.000000   8.0000   8.0000\n",
       "630    Default    9236.000000    original    9236.000000   7.0000   7.0000\n",
       "637    Default   19108.000000        plot   19108.000000   6.0000   6.0000\n",
       "853    Default    7670.000000       worst    7670.000000   5.0000   5.0000\n",
       "109    Default   27691.000000      people   27691.000000   4.0000   4.0000\n",
       "2228   Default    4010.000000        game    4010.000000   3.0000   3.0000\n",
       "56     Default   27403.000000         get   27403.000000   2.0000   2.0000\n",
       "586    Default    7745.000000         fun    7745.000000   1.0000   1.0000\n",
       "...        ...            ...         ...            ...      ...      ...\n",
       "271    Topic10    1704.527222       earth    2252.633545   3.2929  -4.9480\n",
       "1781   Topic10    1312.116089      island    1830.733154   3.2387  -5.2096\n",
       "21230  Topic10     430.198486    predator     494.876038   3.4317  -6.3248\n",
       "5230   Topic10     680.323059       pilot     866.494873   3.3298  -5.8665\n",
       "6355   Topic10     661.897583      hunter     849.903625   3.3217  -5.8939\n",
       "835    Topic10     730.652405         sea     963.438110   3.2952  -5.7951\n",
       "122    Topic10     557.638916       robot     685.433472   3.3654  -6.0653\n",
       "3786   Topic10     604.108643      humans     762.824646   3.3385  -5.9853\n",
       "1713   Topic10    1085.605225       water    1637.186523   3.1609  -5.3991\n",
       "15850  Topic10     505.552856      jungle     622.532654   3.3636  -6.1634\n",
       "290    Topic10     907.853333       giant    1398.285156   3.1398  -5.5779\n",
       "4122   Topic10    1068.471802      sci-fi    1860.840332   3.0169  -5.4150\n",
       "763    Topic10    1164.814331        crew    2163.885254   2.9524  -5.3287\n",
       "2963   Topic10     822.592041        race    1336.096802   3.0867  -5.6766\n",
       "4405   Topic10     630.302795   scientist     939.256836   3.1728  -5.9428\n",
       "767    Topic10     442.100159      flight     540.627136   3.3705  -6.2975\n",
       "4782   Topic10     564.507812        boat     826.120239   3.1909  -6.0531\n",
       "2554   Topic10     578.566833         fly     872.931580   3.1604  -6.0285\n",
       "2223   Topic10     659.015991     captain    1190.383301   2.9804  -5.8983\n",
       "3762   Topic10     703.346191     charlie    1397.672607   2.8850  -5.8332\n",
       "3994   Topic10     549.853088       crash     917.041870   3.0602  -6.0794\n",
       "5208   Topic10     542.542542       brown     899.160095   3.0665  -6.0928\n",
       "857    Topic10     721.399719      future    2568.340576   2.3019  -5.8078\n",
       "301    Topic10     802.444519       human    4341.606934   1.8834  -5.7014\n",
       "1492   Topic10     607.431641     fiction    1476.405640   2.6836  -5.9798\n",
       "231    Topic10     593.097229      attack    1327.151855   2.7663  -6.0037\n",
       "1114   Topic10     815.971069        back   14186.385742   0.7161  -5.6847\n",
       "4531   Topic10     627.802795        team    2149.575684   2.3409  -5.9468\n",
       "376    Topic10     655.338501        star    5463.550781   1.4510  -5.9039\n",
       "372    Topic10     612.516968     special    6130.141113   1.2683  -5.9715\n",
       "\n",
       "[817 rows x 6 columns], token_table=       Topic      Freq         Term\n",
       "term                               \n",
       "8745       1  0.996678         1/10\n",
       "5801       5  0.997054         13th\n",
       "18194      7  0.995612         1947\n",
       "6676       1  0.996320         2/10\n",
       "24865      3  0.988278        aamir\n",
       "20620     10  0.997207       aboard\n",
       "6287       1  0.997499  abomination\n",
       "19566      4  0.993926      accepts\n",
       "722        1  0.487461       acting\n",
       "722        2  0.025421       acting\n",
       "722        3  0.398182       acting\n",
       "722        5  0.070898       acting\n",
       "722        6  0.017990       acting\n",
       "704        1  0.076285       action\n",
       "704        2  0.000956       action\n",
       "704        3  0.118921       action\n",
       "704        5  0.038238       action\n",
       "704        7  0.082117       action\n",
       "704        9  0.683509       action\n",
       "1876       1  0.180607        actor\n",
       "1876       2  0.053745        actor\n",
       "1876       3  0.356838        actor\n",
       "1876       5  0.000625        actor\n",
       "1876       6  0.295439        actor\n",
       "1876       7  0.097021        actor\n",
       "1876       8  0.015623        actor\n",
       "406        1  0.349191       actors\n",
       "406        2  0.123248       actors\n",
       "406        3  0.457141       actors\n",
       "406        5  0.001098       actors\n",
       "...      ...       ...          ...\n",
       "1359       5  0.006669         yeah\n",
       "1359       8  0.012596         yeah\n",
       "702        1  0.153296        years\n",
       "702        2  0.092621        years\n",
       "702        3  0.300387        years\n",
       "702        4  0.149772        years\n",
       "702        5  0.012334        years\n",
       "702        6  0.195355        years\n",
       "702        7  0.075384        years\n",
       "702        9  0.011338        years\n",
       "702       10  0.009423        years\n",
       "2255       1  0.168853          yet\n",
       "2255       2  0.427996          yet\n",
       "2255       3  0.185973          yet\n",
       "2255       4  0.060037          yet\n",
       "2255       5  0.066017          yet\n",
       "2255       6  0.032012          yet\n",
       "2255       8  0.031074          yet\n",
       "2255       9  0.026970          yet\n",
       "2255      10  0.000938          yet\n",
       "854        2  0.162095        young\n",
       "854        3  0.114319        young\n",
       "854        4  0.507328        young\n",
       "854        5  0.049861        young\n",
       "854        6  0.130908        young\n",
       "854        7  0.035263        young\n",
       "854        8  0.000190        young\n",
       "51577      8  0.993729        zohan\n",
       "4336       5  0.999713       zombie\n",
       "4445       5  0.999567      zombies\n",
       "\n",
       "[2327 rows x 3 columns], R=30, lambda_step=0.01, plot_opts={'xlab': 'PC1', 'ylab': 'PC2'}, topic_order=[2, 6, 5, 8, 9, 3, 1, 10, 4, 7])"
      ]
     },
     "execution_count": 87,
     "metadata": {},
     "output_type": "execute_result"
    }
   ],
   "source": [
    "import pyLDAvis\n",
    "import pyLDAvis.gensim\n",
    "pyLDAvis.enable_notebook()\n",
    "pyLDAvis.gensim.prepare(lda_tf, corpus_tf, dictionary)"
   ]
  },
  {
   "cell_type": "markdown",
   "metadata": {},
   "source": [
    "Making predictions with LDA vectors (we'll have to use only the labeled sentences):"
   ]
  },
  {
   "cell_type": "code",
   "execution_count": 88,
   "metadata": {},
   "outputs": [
    {
     "name": "stdout",
     "output_type": "stream",
     "text": [
      "Creating Corpora for predictions\n",
      "corpus tf done\n",
      "corpus lda tf done\n",
      "Creating lda vectors\n",
      "lda vectors done\n"
     ]
    }
   ],
   "source": [
    "#For predictions we need only the labeled set:\n",
    "print(\"Creating Corpora for predictions\")\n",
    "corpus_tf2 = [dictionary.doc2bow(sentence) for sentence in labeled_sentences]\n",
    "print('corpus tf done')\n",
    "\n",
    "lda_tf2 = models.LdaModel(corpus_tf2, id2word=dictionary, num_topics=10, passes=10)\n",
    "corpus_lda_tf2 = lda_tf2[corpus_tf2]\n",
    "print('corpus lda tf done')\n",
    "\n",
    "print('Creating lda vectors')\n",
    "X = gensim.matutils.corpus2csc(corpus_lda_tf2)\n",
    "X = X.T\n",
    "print('lda vectors done')"
   ]
  },
  {
   "cell_type": "code",
   "execution_count": 89,
   "metadata": {},
   "outputs": [
    {
     "data": {
      "text/plain": [
       "matrix([[0.10605632, 0.0101914 , 0.100196  , 0.18768634, 0.        ,\n",
       "         0.        , 0.52780521, 0.        , 0.06544218, 0.        ]])"
      ]
     },
     "execution_count": 89,
     "metadata": {},
     "output_type": "execute_result"
    }
   ],
   "source": [
    "X[0].todense()"
   ]
  },
  {
   "cell_type": "markdown",
   "metadata": {},
   "source": [
    "Saving the Sentences, Model and the Corpus"
   ]
  },
  {
   "cell_type": "code",
   "execution_count": 90,
   "metadata": {},
   "outputs": [],
   "source": [
    "lda_tf2.save(os.path.join(outputs, 'model_tf2.lda'))\n",
    "corpora.MmCorpus.serialize(os.path.join(outputs, 'corpus_lda_tf2.mm'), corpus_lda_tf2)"
   ]
  },
  {
   "cell_type": "markdown",
   "metadata": {},
   "source": [
    "Loading the Sentences, Model and the Corpus"
   ]
  },
  {
   "cell_type": "code",
   "execution_count": 91,
   "metadata": {},
   "outputs": [],
   "source": [
    "lda_tf2 = models.LdaModel.load(os.path.join(outputs, 'model_tf2.lda'))\n",
    "corpus_lda_tf2 = corpora.MmCorpus(os.path.join(outputs, 'corpus_lda_tf2.mm'))"
   ]
  },
  {
   "cell_type": "code",
   "execution_count": 92,
   "metadata": {},
   "outputs": [],
   "source": [
    "X_traincv_tf, X_testcv_tf, y_traincv_tf, y_testcv_tf = model_selection.train_test_split(X,\n",
    "                                                                                        train[\"sentiment\"],\n",
    "                                                                                        test_size=0.2,\n",
    "                                                                                        random_state=0)"
   ]
  },
  {
   "cell_type": "code",
   "execution_count": 93,
   "metadata": {},
   "outputs": [],
   "source": [
    "from sklearn.linear_model import LogisticRegression as LR\n",
    "\n",
    "clf_LR_tf_lda = LR(penalty='l2',\n",
    "                   dual=False,\n",
    "                   tol=0.0001,\n",
    "                   C=1.0,\n",
    "                   fit_intercept=True,\n",
    "                   intercept_scaling=1,\n",
    "                   class_weight=None,\n",
    "                   random_state=0,\n",
    "                   solver='liblinear',\n",
    "                   max_iter=100,\n",
    "                   multi_class='ovr',\n",
    "                   verbose=0).fit(X_traincv_tf, y_traincv_tf)"
   ]
  },
  {
   "cell_type": "code",
   "execution_count": 94,
   "metadata": {},
   "outputs": [
    {
     "name": "stdout",
     "output_type": "stream",
     "text": [
      "0.7786\n"
     ]
    }
   ],
   "source": [
    "eval_LR_tf_lda = clf_LR_tf_lda.score(X_testcv_tf, y_testcv_tf)\n",
    "print(eval_LR_tf_lda)"
   ]
  },
  {
   "cell_type": "markdown",
   "metadata": {},
   "source": [
    "### Distributed Word Vectors\n",
    "\n",
    "https://www.kaggle.com/c/word2vec-nlp-tutorial/details/part-2-word-vectors  \n",
    "\n",
    "Introducing Distributed Word Vectors: This part of the tutorial will focus on using distributed word vectors created by the Word2Vec algorithm, using the Gensim implementation.  \n",
    "\n",
    "https://radimrehurek.com/gensim/models/word2vec.html  \n",
    "\n",
    "Word2vec, published by Google in 2013, is a neural network implementation that learns distributed representations for words. Other deep or recurrent neural network architectures had been proposed for learning word representations prior to this, but the major problem with these was the long time required to train the models. Word2vec learns quickly relative to other models.\n",
    "\n",
    "Word2Vec does not need labels in order to create meaningful representations. This is useful, since most data in the real world is unlabeled. If the network is given enough training data (tens of billions of words), it produces word vectors with intriguing characteristics. Words with similar meanings appear in clusters, and clusters are spaced such that some word relationships, such as analogies, can be reproduced using vector math. The famous example is that, with highly trained word vectors, \"king - man + woman = queen.\"\n",
    "\n",
    "Distributed word vectors are powerful and can be used for many applications, particularly word prediction and translation. Here, we will try to apply them to sentiment analysis.\n",
    "\n",
    "Using word2vec in Python: In Python, we will use the excellent implementation of word2vec from the gensim package. If you don't already have gensim installed, you'll need to install it. There is an excellent tutorial that accompanies the Python Word2Vec implementation, here.\n",
    "\n",
    "Although Word2Vec does not require graphics processing units (GPUs) like many deep learning algorithms, it is compute intensive. Both Google's version and the Python version rely on multi-threading (running multiple processes in parallel on your computer to save time). ln order to train your model in a reasonable amount of time, you will need to install cython (instructions here). Word2Vec will run without cython installed, but it will take days to run instead of minutes. "
   ]
  },
  {
   "cell_type": "markdown",
   "metadata": {},
   "source": [
    "#### Preparing to Train a Model\n",
    "\n",
    "We are going to use the whole set of sentences for training, the labeled and the unlabeled, which contains 50,000 additional reviews with no labels. When we built the Bag of Words model in Part 1, extra unlabeled training reviews were not useful. However, since Word2Vec can learn from unlabeled data, these extra 50,000 reviews can now be used.  \n",
    "\n",
    "To train Word2Vec it is better not to remove stop words because the algorithm relies on the broader context of the sentence in order to produce high-quality word vectors."
   ]
  },
  {
   "cell_type": "markdown",
   "metadata": {},
   "source": [
    "#### Training and Saving Your Model  \n",
    "\n",
    "With the list of nicely parsed sentences, we're ready to train the model. There are a number of parameter choices that affect the run time and the quality of the final model that is produced. For details on the algorithms below, see the word2vec API documentation as well as the Google documentation. \n",
    "\n",
    "Architecture: Architecture options are skip-gram (default) or continuous bag of words. We found that skip-gram was very slightly slower but produced better results.\n",
    "\n",
    "Training algorithm: Hierarchical softmax (default) or negative sampling. For us, the default worked well.\n",
    "\n",
    "Downsampling of frequent words: The Google documentation recommends values between .00001 and .001. For us, values closer 0.001 seemed to improve the accuracy of the final model.\n",
    "\n",
    "Word vector dimensionality: More features result in longer runtimes, and often, but not always, result in better models. Reasonable values can be in the tens to hundreds; we used 300.\n",
    "\n",
    "Context / window size: How many words of context should the training algorithm take into account? 10 seems to work well for hierarchical softmax (more is better, up to a point).\n",
    "\n",
    "Worker threads: Number of parallel processes to run. This is computer-specific, but between 4 and 6 should work on most systems.\n",
    "\n",
    "Minimum word count: This helps limit the size of the vocabulary to meaningful words. Any word that does not occur at least this many times across all documents is ignored. Reasonable values could be between 10 and 100. In this case, since each movie occurs 30 times, we set the minimum word count to 40, to avoid attaching too much importance to individual movie titles. This resulted in an overall vocabulary size of around 15,000 words. Higher values also help limit run time.\n",
    "\n",
    "Choosing parameters is not easy, but once we have chosen our parameters, creating a Word2Vec model is straightforward:"
   ]
  },
  {
   "cell_type": "code",
   "execution_count": 95,
   "metadata": {},
   "outputs": [],
   "source": [
    "# Import the built-in logging module and configure it so that Word2Vec creates nice output messages\n",
    "logging.basicConfig(format='%(asctime)s : %(levelname)s : %(message)s', level=logging.INFO)"
   ]
  },
  {
   "cell_type": "code",
   "execution_count": 96,
   "metadata": {},
   "outputs": [],
   "source": [
    "num_features = 300    # Word vector dimensionality\n",
    "min_word_count = 5   # Minimum word count\n",
    "num_workers = -1       # Number of threads to run in parallel\n",
    "context = 10          # Context window size\n",
    "downsampling = 1e-5   # Downsample setting for frequent words"
   ]
  },
  {
   "cell_type": "code",
   "execution_count": 97,
   "metadata": {
    "scrolled": true
   },
   "outputs": [
    {
     "name": "stderr",
     "output_type": "stream",
     "text": [
      "2018-04-20 18:48:40,755 : INFO : collecting all words and their counts\n",
      "2018-04-20 18:48:40,756 : INFO : PROGRESS: at sentence #0, processed 0 words, keeping 0 word types\n",
      "2018-04-20 18:48:41,322 : INFO : PROGRESS: at sentence #10000, processed 2228586 words, keeping 74969 word types\n",
      "2018-04-20 18:48:41,895 : INFO : PROGRESS: at sentence #20000, processed 4434587 words, keeping 110864 word types\n",
      "2018-04-20 18:48:42,465 : INFO : PROGRESS: at sentence #30000, processed 6632633 words, keeping 142823 word types\n",
      "2018-04-20 18:48:43,040 : INFO : PROGRESS: at sentence #40000, processed 8843751 words, keeping 171836 word types\n",
      "2018-04-20 18:48:43,643 : INFO : PROGRESS: at sentence #50000, processed 11083869 words, keeping 198432 word types\n",
      "2018-04-20 18:48:44,234 : INFO : PROGRESS: at sentence #60000, processed 13311069 words, keeping 222847 word types\n",
      "2018-04-20 18:48:44,828 : INFO : PROGRESS: at sentence #70000, processed 15517410 words, keeping 245574 word types\n",
      "2018-04-20 18:48:45,135 : INFO : collected 256645 word types from a corpus of 16627625 raw words and 75000 sentences\n",
      "2018-04-20 18:48:45,136 : INFO : Loading a fresh vocabulary\n",
      "2018-04-20 18:48:45,383 : INFO : min_count=5 retains 52830 unique words (20% of original 256645, drops 203815)\n",
      "2018-04-20 18:48:45,385 : INFO : min_count=5 leaves 16352274 word corpus (98% of original 16627625, drops 275351)\n",
      "2018-04-20 18:48:45,685 : INFO : deleting the raw counts dictionary of 256645 items\n",
      "2018-04-20 18:48:45,693 : INFO : sample=1e-05 downsamples 3075 most-common words\n",
      "2018-04-20 18:48:45,695 : INFO : downsampling leaves estimated 4510471 word corpus (27.6% of prior 16352274)\n",
      "2018-04-20 18:48:45,917 : INFO : estimated required memory for 52830 words and 300 dimensions: 153207000 bytes\n",
      "2018-04-20 18:48:45,918 : INFO : resetting layer weights\n",
      "2018-04-20 18:48:47,222 : INFO : training model with -1 workers on 52830 vocabulary and 300 features, using sg=0 hs=0 sample=1e-05 negative=5 window=10\n",
      "2018-04-20 18:48:47,229 : INFO : EPOCH - 1 : training on 0 raw words (0 effective words) took 0.0s, 0 effective words/s\n",
      "2018-04-20 18:48:47,262 : WARNING : EPOCH - 1 : supplied example count (0) did not equal expected count (75000)\n",
      "2018-04-20 18:48:47,372 : INFO : EPOCH - 2 : training on 0 raw words (0 effective words) took 0.0s, 0 effective words/s\n",
      "2018-04-20 18:48:47,433 : WARNING : EPOCH - 2 : supplied example count (0) did not equal expected count (75000)\n",
      "2018-04-20 18:48:47,495 : INFO : EPOCH - 3 : training on 0 raw words (0 effective words) took 0.0s, 0 effective words/s\n",
      "2018-04-20 18:48:47,629 : WARNING : EPOCH - 3 : supplied example count (0) did not equal expected count (75000)\n",
      "2018-04-20 18:48:47,679 : INFO : EPOCH - 4 : training on 0 raw words (0 effective words) took 0.0s, 0 effective words/s\n",
      "2018-04-20 18:48:47,726 : WARNING : EPOCH - 4 : supplied example count (0) did not equal expected count (75000)\n",
      "2018-04-20 18:48:47,804 : INFO : EPOCH - 5 : training on 0 raw words (0 effective words) took 0.0s, 0 effective words/s\n",
      "2018-04-20 18:48:47,880 : WARNING : EPOCH - 5 : supplied example count (0) did not equal expected count (75000)\n",
      "2018-04-20 18:48:47,939 : INFO : training on a 0 raw words (0 effective words) took 0.7s, 0 effective words/s\n"
     ]
    }
   ],
   "source": [
    "# Initialize and train the model (this will take some time)\n",
    "model = Word2Vec(all_sentences_sw,\n",
    "                 workers = num_workers,\n",
    "                 size = num_features,\n",
    "                 min_count = min_word_count, \n",
    "                 window = context,\n",
    "                 sample = downsampling,\n",
    "                 seed=1,)"
   ]
  },
  {
   "cell_type": "code",
   "execution_count": 98,
   "metadata": {
    "scrolled": true
   },
   "outputs": [
    {
     "name": "stderr",
     "output_type": "stream",
     "text": [
      "2018-04-20 18:48:48,003 : INFO : collecting all words and their counts\n",
      "2018-04-20 18:48:48,004 : INFO : PROGRESS: at sentence #0, processed 0 words and 0 word types\n",
      "2018-04-20 18:48:53,179 : INFO : PROGRESS: at sentence #10000, processed 2228586 words and 835332 word types\n",
      "2018-04-20 18:48:58,154 : INFO : PROGRESS: at sentence #20000, processed 4434587 words and 1392007 word types\n",
      "2018-04-20 18:49:03,224 : INFO : PROGRESS: at sentence #30000, processed 6632633 words and 1884563 word types\n",
      "2018-04-20 18:49:08,209 : INFO : PROGRESS: at sentence #40000, processed 8843751 words and 2341023 word types\n",
      "2018-04-20 18:49:13,267 : INFO : PROGRESS: at sentence #50000, processed 11083869 words and 2770663 word types\n",
      "2018-04-20 18:49:18,501 : INFO : PROGRESS: at sentence #60000, processed 13311069 words and 3169526 word types\n",
      "2018-04-20 18:49:23,429 : INFO : PROGRESS: at sentence #70000, processed 15517410 words and 3541604 word types\n",
      "2018-04-20 18:49:25,938 : INFO : collected 3722419 word types from a corpus of 16627625 words (unigram + bigrams) and 75000 sentences\n",
      "2018-04-20 18:49:25,939 : INFO : using 3722419 counts as vocab in Phrases<0 vocab, min_count=5, threshold=10.0, max_vocab_size=40000000>\n",
      "2018-04-20 18:49:25,940 : INFO : collecting all words and their counts\n",
      "2018-04-20 18:49:25,943 : INFO : PROGRESS: at sentence #0, processed 0 words, keeping 0 word types\n",
      "2018-04-20 18:49:39,896 : INFO : PROGRESS: at sentence #10000, processed 2088197 words, keeping 92630 word types\n",
      "2018-04-20 18:49:53,713 : INFO : PROGRESS: at sentence #20000, processed 4155139 words, keeping 132085 word types\n",
      "2018-04-20 18:50:07,776 : INFO : PROGRESS: at sentence #30000, processed 6214916 words, keeping 166343 word types\n",
      "2018-04-20 18:50:21,946 : INFO : PROGRESS: at sentence #40000, processed 8285847 words, keeping 196659 word types\n",
      "2018-04-20 18:50:36,240 : INFO : PROGRESS: at sentence #50000, processed 10384784 words, keeping 223833 word types\n",
      "2018-04-20 18:50:50,513 : INFO : PROGRESS: at sentence #60000, processed 12471603 words, keeping 248535 word types\n",
      "2018-04-20 18:51:04,692 : INFO : PROGRESS: at sentence #70000, processed 14538558 words, keeping 271408 word types\n",
      "2018-04-20 18:51:11,775 : INFO : collected 282543 word types from a corpus of 15578244 raw words and 75000 sentences\n",
      "2018-04-20 18:51:11,776 : INFO : Loading a fresh vocabulary\n",
      "2018-04-20 18:51:13,908 : INFO : min_count=5 retains 76350 unique words (27% of original 282543, drops 206193)\n",
      "2018-04-20 18:51:13,909 : INFO : min_count=5 leaves 15297357 word corpus (98% of original 15578244, drops 280887)\n",
      "2018-04-20 18:51:14,321 : INFO : deleting the raw counts dictionary of 282543 items\n",
      "2018-04-20 18:51:14,330 : INFO : sample=1e-05 downsamples 2930 most-common words\n",
      "2018-04-20 18:51:14,331 : INFO : downsampling leaves estimated 4600288 word corpus (30.1% of prior 15297357)\n",
      "2018-04-20 18:51:14,642 : INFO : estimated required memory for 76350 words and 300 dimensions: 221415000 bytes\n",
      "2018-04-20 18:51:14,644 : INFO : resetting layer weights\n",
      "2018-04-20 18:51:16,563 : INFO : training model with -1 workers on 76350 vocabulary and 300 features, using sg=0 hs=0 sample=1e-05 negative=5 window=10\n",
      "2018-04-20 18:51:16,570 : INFO : EPOCH - 1 : training on 0 raw words (0 effective words) took 0.0s, 0 effective words/s\n",
      "2018-04-20 18:51:16,603 : WARNING : EPOCH - 1 : supplied example count (0) did not equal expected count (75000)\n",
      "2018-04-20 18:51:16,645 : INFO : EPOCH - 2 : training on 0 raw words (0 effective words) took 0.0s, 0 effective words/s\n",
      "2018-04-20 18:51:16,785 : WARNING : EPOCH - 2 : supplied example count (0) did not equal expected count (75000)\n",
      "2018-04-20 18:51:17,011 : INFO : EPOCH - 3 : training on 0 raw words (0 effective words) took 0.0s, 0 effective words/s\n",
      "2018-04-20 18:51:17,299 : WARNING : EPOCH - 3 : supplied example count (0) did not equal expected count (75000)\n",
      "2018-04-20 18:51:17,423 : INFO : EPOCH - 4 : training on 0 raw words (0 effective words) took 0.0s, 0 effective words/s\n",
      "2018-04-20 18:51:17,872 : WARNING : EPOCH - 4 : supplied example count (0) did not equal expected count (75000)\n",
      "2018-04-20 18:51:18,016 : INFO : EPOCH - 5 : training on 0 raw words (0 effective words) took 0.0s, 0 effective words/s\n",
      "2018-04-20 18:51:18,043 : WARNING : EPOCH - 5 : supplied example count (0) did not equal expected count (75000)\n",
      "2018-04-20 18:51:18,055 : INFO : training on a 0 raw words (0 effective words) took 1.5s, 0 effective words/s\n"
     ]
    }
   ],
   "source": [
    "##Optionally converting the model for Bigrams (to capture more context):\n",
    "bigram_transformer = gensim.models.Phrases(all_sentences_sw)\n",
    "model = Word2Vec(bigram_transformer[all_sentences_sw],\n",
    "                 workers = num_workers,\n",
    "                 size = num_features,\n",
    "                 min_count = min_word_count, \n",
    "                 window = context,\n",
    "                 sample = downsampling,\n",
    "                 seed=1,)"
   ]
  },
  {
   "cell_type": "code",
   "execution_count": 99,
   "metadata": {},
   "outputs": [],
   "source": [
    "logging.getLogger('').setLevel(logging.ERROR)"
   ]
  },
  {
   "cell_type": "code",
   "execution_count": 100,
   "metadata": {},
   "outputs": [],
   "source": [
    "# If you don't plan to train the model any further, calling init_sims will make the model much more memory-efficient.\n",
    "model.init_sims(replace=True)"
   ]
  },
  {
   "cell_type": "markdown",
   "metadata": {},
   "source": [
    "Saving the Model"
   ]
  },
  {
   "cell_type": "code",
   "execution_count": 101,
   "metadata": {},
   "outputs": [
    {
     "name": "stderr",
     "output_type": "stream",
     "text": [
      "/usr/local/lib/python3.6/dist-packages/gensim/utils.py:598: DeprecationWarning: Call to deprecated `cum_table` (Attribute will be removed in 4.0.0, use self.vocabulary.cum_table instead).\n",
      "  if hasattr(self, attrib):\n",
      "/usr/local/lib/python3.6/dist-packages/gensim/utils.py:599: DeprecationWarning: Call to deprecated `cum_table` (Attribute will be removed in 4.0.0, use self.vocabulary.cum_table instead).\n",
      "  asides[attrib] = getattr(self, attrib)\n",
      "/usr/local/lib/python3.6/dist-packages/gensim/utils.py:600: DeprecationWarning: Call to deprecated `cum_table` (Attribute will be removed in 4.0.0, use self.vocabulary.cum_table instead).\n",
      "  delattr(self, attrib)\n",
      "/usr/local/lib/python3.6/dist-packages/gensim/utils.py:555: DeprecationWarning: Call to deprecated `cum_table` (Attribute will be removed in 4.0.0, use self.vocabulary.cum_table instead).\n",
      "  setattr(obj, attrib, val)\n",
      "/usr/local/lib/python3.6/dist-packages/gensim/utils.py:491: DeprecationWarning: Call to deprecated `cum_table` (Attribute will be removed in 4.0.0, use self.vocabulary.cum_table instead).\n",
      "  setattr(self, attrib, None)\n"
     ]
    }
   ],
   "source": [
    "model_name = \"{}features_{}minwords_{}context\".format(num_features, min_word_count, context)\n",
    "model.save(os.path.join(outputs,model_name))\n",
    "model = Word2Vec.load(os.path.join(outputs,model_name))"
   ]
  },
  {
   "cell_type": "markdown",
   "metadata": {},
   "source": [
    "Exploring the Model Results\n",
    "\n",
    "Congratulations on making it successfully through everything so far! Let's take a look at the model we created out of our 75,000 training reviews.\n",
    "\n",
    "The \"doesnt_match\" function will try to deduce which word in a set is most dissimilar from the others:"
   ]
  },
  {
   "cell_type": "code",
   "execution_count": 107,
   "metadata": {},
   "outputs": [
    {
     "name": "stdout",
     "output_type": "stream",
     "text": [
      "alien\n",
      "daughter\n",
      "berlin\n",
      "[('blah', 0.2708628177642822), ('hack', 0.24857550859451294), ('inhabit', 0.24744755029678345), ('wintry', 0.22811058163642883), ('fornicating', 0.22187456488609314), ('place.it', 0.22184370458126068), ('cronenberg', 0.21665361523628235), ('yokel', 0.21552345156669617), ('schumacher', 0.21397915482521057), ('denise_richards', 0.21281442046165466)]\n",
      "[('two_groups', 0.2387387752532959), ('tragic', 0.2339412122964859), ('american_businessman', 0.22998136281967163), ('insurrection', 0.22499409317970276), ('fight', 0.21580567955970764), ('distance', 0.21453651785850525), ('obtains', 0.21309325098991394), ('manual_labor', 0.2088140845298767), ('dolores_del', 0.20676542818546295), ('celebrity_voices', 0.20626600086688995)]\n",
      "[('putter', 0.22828666865825653), ('doers', 0.22825150191783905), ('worth_paying', 0.22803835570812225), ('tvs', 0.22618097066879272), ('defect', 0.22361910343170166), ('hieroglyphs', 0.22149482369422913), ('mosquito', 0.21788746118545532), ('annette_bening', 0.21786350011825562), ('warehouse', 0.2151387631893158), ('lark', 0.2120113968849182)]\n"
     ]
    }
   ],
   "source": [
    "print(model.wv.doesnt_match(\"captain onion starship alien\".split()))\n",
    "print(model.wv.doesnt_match(\"father mother son daughter film\".split()))\n",
    "print(model.wv.doesnt_match(\"france england germany berlin\".split()))\n",
    "print(model.wv.most_similar(\"man\"))\n",
    "print(model.wv.most_similar(\"queen\"))\n",
    "print(model.wv.most_similar(\"awful\"))"
   ]
  },
  {
   "cell_type": "markdown",
   "metadata": {},
   "source": [
    "So it seems we have a reasonably good model for semantic meaning - at least as good as Bag of Words. But how can we use these fancy distributed word vectors for supervised learning? The next section takes a stab at that."
   ]
  },
  {
   "cell_type": "markdown",
   "metadata": {},
   "source": [
    "Part 3: More Fun With Word Vectors\n",
    "--\n",
    "\n",
    "https://www.kaggle.com/c/word2vec-nlp-tutorial/details/part-3-more-fun-with-word-vectors  \n",
    "\n",
    "Numeric Representations of Words\n",
    "\n",
    "Now that we have a trained model with some semantic understanding of words, how should we use it? If you look beneath the hood, the Word2Vec model trained in Part 2 consists of a feature vector for each word in the vocabulary, stored in a numpy array called \"syn0\":"
   ]
  },
  {
   "cell_type": "code",
   "execution_count": 103,
   "metadata": {},
   "outputs": [
    {
     "name": "stderr",
     "output_type": "stream",
     "text": [
      "/usr/local/lib/python3.6/dist-packages/gensim/utils.py:491: DeprecationWarning: Call to deprecated `cum_table` (Attribute will be removed in 4.0.0, use self.vocabulary.cum_table instead).\n",
      "  setattr(self, attrib, None)\n"
     ]
    }
   ],
   "source": [
    "model = Word2Vec.load(os.path.join(outputs,model_name))"
   ]
  },
  {
   "cell_type": "code",
   "execution_count": 108,
   "metadata": {},
   "outputs": [
    {
     "data": {
      "text/plain": [
       "(76350, 300)"
      ]
     },
     "execution_count": 108,
     "metadata": {},
     "output_type": "execute_result"
    }
   ],
   "source": [
    "model.wv.vectors.shape"
   ]
  },
  {
   "cell_type": "markdown",
   "metadata": {},
   "source": [
    "The number of rows in syn0 is the number of words in the model's vocabulary, and the number of columns corresponds to the size of the feature vector, which we set in Part 2.  Setting the minimum word count to 40 gave us a total vocabulary of 16,492 words with 300 features apiece. Individual word vectors can be accessed in the following way:"
   ]
  },
  {
   "cell_type": "code",
   "execution_count": 110,
   "metadata": {},
   "outputs": [
    {
     "data": {
      "text/plain": [
       "array([-0.00753509,  0.01487041, -0.05788193,  0.03942003,  0.05751592,\n",
       "        0.03451941,  0.03624341,  0.02980284, -0.01668509, -0.0877707 ],\n",
       "      dtype=float32)"
      ]
     },
     "execution_count": 110,
     "metadata": {},
     "output_type": "execute_result"
    }
   ],
   "source": [
    "model.wv[\"flower\"][0:10]"
   ]
  },
  {
   "cell_type": "code",
   "execution_count": 111,
   "metadata": {},
   "outputs": [
    {
     "data": {
      "text/plain": [
       "['the', 'and', 'of', 'to', 'is', 'it', 'in', 'this', 'that', 'was']"
      ]
     },
     "execution_count": 111,
     "metadata": {},
     "output_type": "execute_result"
    }
   ],
   "source": [
    "model.wv.index2word[0:10]"
   ]
  },
  {
   "cell_type": "markdown",
   "metadata": {},
   "source": [
    "From Words To Paragraphs, \n",
    "--\n",
    "Attempt 1:  Vector Averaging  \n",
    "--\n",
    "\n",
    "One challenge with the IMDB dataset is the variable-length reviews. We need to find a way to take individual word vectors and transform them into a feature set that is the same length for every review.\n",
    "\n",
    "Since each word is a vector in 300-dimensional space, we can use vector operations to combine the words in each review. One method we tried was to simply average the word vectors in a given review (for this purpose, we removed stop words, which would just add noise).\n",
    "\n",
    "The following code averages the feature vectors, building on our code from Part 2. "
   ]
  },
  {
   "cell_type": "code",
   "execution_count": null,
   "metadata": {},
   "outputs": [],
   "source": [
    "def makeFeatureVec(words, model, num_features):\n",
    "    # Function to average all of the word vectors in a given paragraph\n",
    "    # Pre-initialize an empty numpy array (for speed)\n",
    "    featureVec = np.zeros((num_features,),dtype=\"float32\")\n",
    "    nwords = 0.\n",
    "    # Index2word is a list that contains the names of the words in the model's vocabulary. \n",
    "    #Convert it to a set, for speed\n",
    "    index2word_set = set(model.wv.index2word)\n",
    "    # Loop over each word in the review and, if it is in the model's\n",
    "    # vocabulary, add its feature vector to the total\n",
    "    for word in words:\n",
    "        if word in index2word_set:\n",
    "            nwords = nwords + 1.\n",
    "            featureVec = np.add(featureVec,model[word])\n",
    "    # Divide the result by the number of words to get the average\n",
    "    featureVec = np.divide(featureVec,nwords)\n",
    "    return featureVec"
   ]
  },
  {
   "cell_type": "code",
   "execution_count": null,
   "metadata": {},
   "outputs": [],
   "source": [
    "def getAvgFeatureVecs(reviews, model, num_features):\n",
    "    # Given a set of reviews (each one a list of words), calculate\n",
    "    # the average feature vector for each one and return a 2D numpy array\n",
    "    # Initialize a counter\n",
    "    counter = 0.\n",
    "    # Preallocate a 2D numpy array, for speed\n",
    "    reviewFeatureVecs = np.zeros((len(reviews),num_features),dtype=\"float32\")\n",
    "    # Loop through the reviews\n",
    "    for review in reviews:\n",
    "        # Print a status message every 2000th review\n",
    "        if counter%2000. == 0.:\n",
    "            print(\"Review {} of {}\".format(counter, len(reviews)))\n",
    "        #Call the function (defined above) that makes average feature vectors\n",
    "        reviewFeatureVecs[int(counter)] = makeFeatureVec(review, model, num_features)\n",
    "        counter = counter + 1.\n",
    "    return reviewFeatureVecs"
   ]
  },
  {
   "cell_type": "markdown",
   "metadata": {},
   "source": [
    "Now, we can call these functions to create average vectors for each paragraph. The following operations will take a few minutes:  "
   ]
  },
  {
   "cell_type": "code",
   "execution_count": null,
   "metadata": {},
   "outputs": [],
   "source": [
    "# Calculate average feature vectors for training and testing sets, using the functions \n",
    "# we defined above. Notice that we now use stop word removal.\n",
    "trainDataVecs = getAvgFeatureVecs(labeled_sentences_sw, model, num_features)"
   ]
  },
  {
   "cell_type": "code",
   "execution_count": null,
   "metadata": {},
   "outputs": [],
   "source": [
    "trainDataVecs[100][0:10]"
   ]
  },
  {
   "cell_type": "markdown",
   "metadata": {},
   "source": [
    "Check for Nan values:  "
   ]
  },
  {
   "cell_type": "code",
   "execution_count": null,
   "metadata": {},
   "outputs": [],
   "source": [
    "print(np.isnan(trainDataVecs).any()) #testando se não há valores que inviabilizam o treinamento\n",
    "print(np.isfinite(trainDataVecs).all())"
   ]
  },
  {
   "cell_type": "code",
   "execution_count": null,
   "metadata": {},
   "outputs": [],
   "source": [
    "# If there are Nan values we can use inputer  \n",
    "from sklearn.preprocessing import Imputer\n",
    "trainDataVecs = Imputer().fit_transform(trainDataVecs)"
   ]
  },
  {
   "cell_type": "code",
   "execution_count": null,
   "metadata": {},
   "outputs": [],
   "source": [
    "print(np.isnan(trainDataVecs).any()) #testando se não há valores que inviabilizam o treinamento\n",
    "print(np.isfinite(trainDataVecs).all())"
   ]
  },
  {
   "cell_type": "markdown",
   "metadata": {},
   "source": [
    "Next, use the average paragraph vectors with the classifiers from Part 1.  \n",
    "Note that, as in Part 1, we can only use the labeled training reviews to train the model. "
   ]
  },
  {
   "cell_type": "code",
   "execution_count": null,
   "metadata": {},
   "outputs": [],
   "source": [
    "X_traincvWV, X_testcvWV, y_traincvWV, y_testcvWV = model_selection.train_test_split(trainDataVecs,\n",
    "                                                                                    train[\"sentiment\"],\n",
    "                                                                                    test_size=0.2,\n",
    "                                                                                    random_state=0)"
   ]
  },
  {
   "cell_type": "code",
   "execution_count": null,
   "metadata": {},
   "outputs": [],
   "source": [
    "# Initialize a Random Forest classifier with 300 trees\n",
    "from sklearn.ensemble import RandomForestClassifier\n",
    "\n",
    "clf_RF_WV = RandomForestClassifier(n_estimators=300, \n",
    "                                   criterion='gini', \n",
    "                                   max_depth=None, \n",
    "                                   min_samples_split=2, \n",
    "                                   min_samples_leaf=1, \n",
    "                                   min_weight_fraction_leaf=0.0, \n",
    "                                   max_features='auto', \n",
    "                                   max_leaf_nodes=None, \n",
    "                                   bootstrap=False, \n",
    "                                   oob_score=False, \n",
    "                                   n_jobs=-1, \n",
    "                                   random_state=None, \n",
    "                                   verbose=0, \n",
    "                                   warm_start=False, \n",
    "                                   class_weight=None).fit(X_traincvWV, y_traincvWV)\n",
    "\n",
    "eval_RF_WV_tts = clf_RF_WV.score(X_testcvWV, y_testcvWV)\n",
    "print(eval_RF_WV_tts)"
   ]
  },
  {
   "cell_type": "code",
   "execution_count": null,
   "metadata": {},
   "outputs": [],
   "source": [
    "from sklearn.linear_model import LogisticRegression as LR\n",
    "\n",
    "clf_LR_WV = LR(penalty='l2',\n",
    "               dual=False,\n",
    "               tol=0.0001,\n",
    "               C=1.0,\n",
    "               fit_intercept=True,\n",
    "               intercept_scaling=1,\n",
    "               class_weight=None,\n",
    "               random_state=None,\n",
    "               solver='liblinear',\n",
    "               max_iter=100,\n",
    "               multi_class='ovr',\n",
    "               verbose=0).fit(X_traincvWV, y_traincvWV)\n",
    "\n",
    "eval_LR_WV_tts = clf_LR_WV.score(X_testcvWV, y_testcvWV)\n",
    "print(eval_LR_WV_tts)"
   ]
  },
  {
   "cell_type": "markdown",
   "metadata": {},
   "source": [
    "Creating a Submission  \n",
    "--"
   ]
  },
  {
   "cell_type": "code",
   "execution_count": null,
   "metadata": {},
   "outputs": [],
   "source": [
    "testDataVecs = getAvgFeatureVecs(test_labeled_sentences, model, num_features)"
   ]
  },
  {
   "cell_type": "code",
   "execution_count": null,
   "metadata": {},
   "outputs": [],
   "source": [
    "print(np.isnan(testDataVecs).any()) #testando se não há valores que inviabilizam o treinamento\n",
    "print(np.isfinite(testDataVecs).all())"
   ]
  },
  {
   "cell_type": "code",
   "execution_count": null,
   "metadata": {},
   "outputs": [],
   "source": [
    "from sklearn.preprocessing import Imputer\n",
    "testDataVecs = Imputer().fit_transform(testDataVecs)\n",
    "\n",
    "print(np.isnan(testDataVecs).any()) #testando se não há valores que inviabilizam o treinamento\n",
    "print(np.isfinite(testDataVecs).all())"
   ]
  },
  {
   "cell_type": "code",
   "execution_count": null,
   "metadata": {},
   "outputs": [],
   "source": [
    "testDataVecs[0][0:10]"
   ]
  },
  {
   "cell_type": "code",
   "execution_count": null,
   "metadata": {},
   "outputs": [],
   "source": [
    "# Use the random forest to make sentiment label predictions\n",
    "result = clf_RF_WV.predict(testDataVecs)\n",
    "result_prob = clf_RF_WV.predict_proba(testDataVecs)\n",
    "print(result[0:10])\n",
    "print(result_prob[0:10])"
   ]
  },
  {
   "cell_type": "code",
   "execution_count": null,
   "metadata": {},
   "outputs": [],
   "source": [
    "output = pd.DataFrame(data={\"id\":test[\"id\"], \"sentiment\":result,})# \"probs\":result_prob[:,1]})\n",
    "# Use pandas to write the comma-separated output file\n",
    "output.to_csv(os.path.join(outputs,'Word2Vec_AverageVectors.csv'), index=False, quoting=3)"
   ]
  },
  {
   "cell_type": "code",
   "execution_count": null,
   "metadata": {},
   "outputs": [],
   "source": [
    "output.head()"
   ]
  },
  {
   "cell_type": "markdown",
   "metadata": {},
   "source": [
    "We found that this produced results much better than chance, but underperformed Bag of Words by a few percentage points.\n",
    "\n",
    "Since the element-wise average of the vectors didn't produce spectacular results, perhaps we could do it in a more intelligent way? A standard way of weighting word vectors is to apply \"tf-idf\" weights, which measure how important a given word is within a given set of documents. One way to extract tf-idf weights in Python is by using scikit-learn's TfidfVectorizer, which has an interface similar to the CountVectorizer that we used in Part 1. However, when we tried weighting our word vectors in this way, we found no substantial improvement in performance."
   ]
  },
  {
   "cell_type": "markdown",
   "metadata": {},
   "source": [
    "From Words to Paragraphs, Attempt 2: Clustering \n",
    "--\n",
    "\n",
    "Word2Vec creates clusters of semantically related words, so another possible approach is to exploit the similarity of words within a cluster. Grouping vectors in this way is known as \"vector quantization.\" To accomplish this, we first need to find the centers of the word clusters, which we can do by using a clustering algorithm such as K-Means.\n",
    "\n",
    "In K-Means, the one parameter we need to set is \"K,\" or the number of clusters. How should we decide how many clusters to create? Trial and error suggested that small clusters, with an average of only 5 words or so per cluster, gave better results than large clusters with many words. Clustering code is given below. We use scikit-learn to perform our K-Means.\n",
    "\n",
    "K-Means clustering with large K can be very slow; the following code took more than 40 minutes on my computer. Below, we set a timer around the K-Means function to see how long it takes."
   ]
  },
  {
   "cell_type": "code",
   "execution_count": null,
   "metadata": {},
   "outputs": [],
   "source": [
    "%%time\n",
    "#start = time.time()\n",
    "\n",
    "# Set \"k\" (num_clusters) to be 1/5th of the vocabulary size, or an average of 5 words per cluster\n",
    "word_vectors = model.wv.syn0\n",
    "print(word_vectors.shape)\n",
    "\n",
    "num_clusters = int(word_vectors.shape[0] / 5)\n",
    "\n",
    "# Initalize a k-means object and use it to extract centroids\n",
    "kmeans_clustering = KMeans(n_clusters = num_clusters,\n",
    "                           n_init=5,\n",
    "                           verbose=2,\n",
    "                           n_jobs=-2,\n",
    "                           random_state=0)\n",
    "\n",
    "idx = kmeans_clustering.fit_predict(word_vectors) # trimmed last line because of an error\n",
    "\n",
    "#end = time.time()\n",
    "#elapsed = end - start\n",
    "#print(\"Time taken for K Means clustering: \", elapsed, \"seconds.\")"
   ]
  },
  {
   "cell_type": "markdown",
   "metadata": {},
   "source": [
    "The cluster assignment for each word is now stored in idx, and the vocabulary from our original Word2Vec model is still stored in model.index2word. For convenience, we zip these into one dictionary as follows:  "
   ]
  },
  {
   "cell_type": "code",
   "execution_count": null,
   "metadata": {},
   "outputs": [],
   "source": [
    "# Create a Word / Index dictionary, mapping each vocabulary word to a cluster number\n",
    "word_centroid_map = dict(zip(model.index2word, idx))"
   ]
  },
  {
   "cell_type": "markdown",
   "metadata": {},
   "source": [
    "This is a little abstract, so let's take a closer look at what our clusters contain. Your clusters may differ, as Word2Vec relies on a random number seed. Here is a loop that prints out the words for clusters 0 through 9:\n",
    "\n",
    "Run k-means on the word vectors and print a few clusters  "
   ]
  },
  {
   "cell_type": "code",
   "execution_count": null,
   "metadata": {},
   "outputs": [],
   "source": [
    "# Print the first ten clusters\n",
    "for cluster in range(0,10):\n",
    "    # Print the cluster number\n",
    "    print(\"\\nCluster {}\".format(cluster))\n",
    "    # Find all of the words for that cluster number, and print them out\n",
    "    words = []\n",
    "    for i in range(0,len(word_centroid_map.values())):\n",
    "        #print(len(word_centroid_map.values()))\n",
    "        #print(cluster)\n",
    "        #print(word_centroid_map.keys())\n",
    "        if(list(word_centroid_map.values())[i] == cluster):\n",
    "            words.append(list(word_centroid_map.keys())[i])\n",
    "    print(words)"
   ]
  },
  {
   "cell_type": "markdown",
   "metadata": {},
   "source": [
    "We can see that the clusters are of varying quality. Some make sense, some cointain mostly names, and some contain related adjectives. On the other hand, some are a little mystifying. Perhaps our algorithm works best on adjectives.\n",
    "\n",
    "At any rate, now we have a cluster (or \"centroid\") assignment for each word, and we can define a function to convert reviews into bags-of-centroids. This works just like Bag of Words but uses semantically related clusters instead of individual words:"
   ]
  },
  {
   "cell_type": "code",
   "execution_count": null,
   "metadata": {},
   "outputs": [],
   "source": [
    "def create_bag_of_centroids(wordlist, word_centroid_map):\n",
    "    # The number of clusters is equal to the highest cluster index in the word / centroid map\n",
    "    num_centroids = max(word_centroid_map.values()) + 1\n",
    "    # Pre-allocate the bag of centroids vector (for speed)\n",
    "    bag_of_centroids = np.zeros(num_centroids, dtype=\"float32\")\n",
    "    # Loop over the words in the review. If the word is in the vocabulary,\n",
    "    # find which cluster it belongs to, and increment that cluster count by one\n",
    "    for word in wordlist:\n",
    "        if word in word_centroid_map:\n",
    "            index = word_centroid_map[word]\n",
    "            bag_of_centroids[index] += 1\n",
    "    return bag_of_centroids"
   ]
  },
  {
   "cell_type": "markdown",
   "metadata": {},
   "source": [
    "The function above will give us a numpy array for each review, each with a number of features equal to the number of clusters. Finally, we create bags of centroids for our training and test set, then train a random forest and extract results:"
   ]
  },
  {
   "cell_type": "code",
   "execution_count": null,
   "metadata": {},
   "outputs": [],
   "source": [
    "# ****** Create bags of centroids\n",
    "\n",
    "# Pre-allocate an array for the training set bags of centroids (for speed)\n",
    "train_centroids = np.zeros((train[\"review\"].size, num_clusters), dtype=\"float32\")\n",
    "\n",
    "# Transform the training set reviews into bags of centroids\n",
    "counter = 0\n",
    "for review in clean_train_reviews:\n",
    "    train_centroids[counter] = create_bag_of_centroids(review, word_centroid_map)\n",
    "    counter += 1"
   ]
  },
  {
   "cell_type": "code",
   "execution_count": null,
   "metadata": {},
   "outputs": [],
   "source": [
    "X_traincvCT, X_testcvCT, y_traincvCT, y_testcvCT = train_test_split(train_centroids,\n",
    "                                                                    train[\"sentiment\"],\n",
    "                                                                    test_size=0.2,\n",
    "                                                                    random_state=0)"
   ]
  },
  {
   "cell_type": "code",
   "execution_count": null,
   "metadata": {},
   "outputs": [],
   "source": [
    "# Initialize a Random Forest classifier with 100 trees\n",
    "clf_RF_CT = RandomForestClassifier(n_estimators=100, \n",
    "                                   criterion='gini', \n",
    "                                   max_depth=None, \n",
    "                                   min_samples_split=2, \n",
    "                                   min_samples_leaf=1, \n",
    "                                   min_weight_fraction_leaf=0.0, \n",
    "                                   max_features='auto', \n",
    "                                   max_leaf_nodes=None, \n",
    "                                   bootstrap=True, \n",
    "                                   oob_score=False, \n",
    "                                   n_jobs=1, \n",
    "                                   random_state=None, \n",
    "                                   verbose=0, \n",
    "                                   warm_start=False, \n",
    "                                   class_weight=None).fit(X_traincvCT, y_traincvCT)"
   ]
  },
  {
   "cell_type": "code",
   "execution_count": null,
   "metadata": {},
   "outputs": [],
   "source": [
    "eval_RF_CT_tts = clf_RF_CT.score(X_testcvCT, y_testcvCT)\n",
    "print(eval_RF_CT_tts)"
   ]
  },
  {
   "cell_type": "code",
   "execution_count": null,
   "metadata": {},
   "outputs": [],
   "source": [
    "# Repeat for test reviews\n",
    "test_centroids = np.zeros((test[\"review\"].size, num_clusters), dtype=\"float32\")\n",
    "\n",
    "counter = 0\n",
    "for review in clean_test_reviews:\n",
    "    test_centroids[counter] = create_bag_of_centroids(review, word_centroid_map)\n",
    "    counter += 1"
   ]
  },
  {
   "cell_type": "code",
   "execution_count": null,
   "metadata": {},
   "outputs": [],
   "source": [
    "result = clf_RF_CT.predict(test_centroids)\n",
    "\n",
    "# Write the test results\n",
    "output = pd.DataFrame(data={\"id\":test[\"id\"], \"sentiment\":result})\n",
    "output.to_csv(os.path.join(outputs,\"BagOfCentroids.csv\"), index=False, quoting=3)\n",
    "print(\"Wrote BagOfCentroids.csv\")"
   ]
  },
  {
   "cell_type": "markdown",
   "metadata": {},
   "source": [
    "We found that the code above gives about the same (or slightly worse) results compared to the Bag of Words in Part 1."
   ]
  },
  {
   "cell_type": "markdown",
   "metadata": {},
   "source": [
    "Part 4: Comparing deep and non-deep learning methods\n",
    "--\n",
    "\n",
    "You may ask: Why is Bag of Words better?\n",
    "\n",
    "The biggest reason is, in our tutorial, averaging the vectors and using the centroids lose the order of words, making it very similar to the concept of Bag of Words. The fact that the performance is similar (within range of standard error) makes all three methods practically equivalent.  \n",
    "\n",
    "A few things to try:\n",
    "\n",
    "First, training Word2Vec on a lot more text should greatly improve performance. Google's results are based on word vectors that were learned out of more than a billion-word corpus; our labeled and unlabeled training sets together are only a measly 18 million words or so. Conveniently, Word2Vec provides functions to load any pre-trained model that is output by Google's original C tool, so it's also possible to train a model in C and then import it into Python.\n",
    "\n",
    "Second, in published literature, distributed word vector techniques have been shown to outperform Bag of Words models. In this paper, an algorithm called Paragraph Vector is used on the IMDB dataset to produce some of the most state-of-the-art results to date. In part, it does better than the approaches we try here because vector averaging and clustering lose the word order, whereas Paragraph Vectors preserves word order information."
   ]
  },
  {
   "cell_type": "markdown",
   "metadata": {},
   "source": [
    "What is Deep Learning?\n",
    "\n",
    "The term \"deep learning\" was coined in 2006, and refers to machine learning algorithms that have multiple non-linear layers and can learn feature hierarchies [1].\n",
    "\n",
    "Most modern machine learning relies on feature engineering or some level of domain knowledge to obtain good results. In deep learning systems, this is not the case -- instead, algorithms can automatically learn feature hierarchies, which represent objects in increasing levels of abstraction. Although the basic ingredients of many deep learning algorithms have been around for many years, they are currently increasing in popularity for many reasons, including advances in compute power, the falling cost of computing hardware, and advances in machine learning research.\n",
    "\n",
    "Deep learning algorithms can be categorized by their architecture (feed-forward, feed-back, or bi-directional) and training protocols (purely supervised, hybrid, or unsupervised) [2]. \n",
    "\n",
    "Some good background materials include:\n",
    "\n",
    "[1] \"Deep Learning for Signal and Information Processing\", by Li Deng and Dong Yu (out of Microsoft)\n",
    "\n",
    "[2] \"Deep Learning Tutorial\" (2013 Presentation by Yann LeCun and Marc'Aurelio Ranzato)\n",
    "\n",
    "Where Does Word2Vec Fit In?\n",
    "\n",
    "Word2Vec works in a way that is similar to deep approaches such as recurrent neural nets or deep neural nets, but it implements certain algorithms, such as hierarchical softmax, that make it computationally more efficient.  \n",
    "\n",
    "See Part 2 of this tutorial for more on Word2Vec, as well as this paper: Efficient Estimation of Word Representations in Vector Space\n",
    "\n",
    "In this tutorial, we use a hybrid approach to training -- consisting of an unsupervised piece (Word2Vec) followed by supervised learning (the Random Forest). \n",
    "\n",
    "Libraries and Packages \n",
    "\n",
    "The lists below should in no way be considered exhaustive.\n",
    "\n",
    "In Python:\n",
    "\n",
    "Theano offers very low-level, nuts and bolts functionality for building deep learning systems. You can also find some good tutorials on their site.  \n",
    "Caffe is a deep learning framework out of the Berkeley Vision and Learning Center.  \n",
    "Pylearn2 wraps Theano and seems slightly more user friendly.  \n",
    "OverFeat was used to win the Kaggle Cats and Dogs competition.  \n",
    "\n",
    "\n",
    "More Tutorials  \n",
    "The O'Reilly Blog has a series of deep learning articles and tutorials:  \n",
    "\n",
    "http://radar.oreilly.com/2014/07/what-is-deep-learning-and-why-should-you-care.html  \n",
    "http://radar.oreilly.com/2014/07/how-to-build-and-run-your-first-deep-learning-network.html  \n",
    "Webcast: How to Get Started with Deep Learning in Computer Vision  \n",
    "There are several tutorials using Theano as well.  \n",
    "\n",
    "If you want to dive into the weeds of creating a neural network from scratch, check out Geoffrey Hinton's Coursera course.\n",
    "\n",
    "For NLP, check out this recent lecture at Stanford: http://techtalks.tv/talks/deep-learning-for-nlp-without-magic-part-1/58414/  \n",
    "\n",
    "This free, online book also introduces neural nets for deep learning: http://neuralnetworksanddeeplearning.com/  "
   ]
  },
  {
   "cell_type": "code",
   "execution_count": null,
   "metadata": {},
   "outputs": [],
   "source": []
  }
 ],
 "metadata": {
  "kernelspec": {
   "display_name": "Python 3",
   "language": "python",
   "name": "python3"
  },
  "language_info": {
   "codemirror_mode": {
    "name": "ipython",
    "version": 3
   },
   "file_extension": ".py",
   "mimetype": "text/x-python",
   "name": "python",
   "nbconvert_exporter": "python",
   "pygments_lexer": "ipython3",
   "version": "3.6.3"
  }
 },
 "nbformat": 4,
 "nbformat_minor": 2
}
