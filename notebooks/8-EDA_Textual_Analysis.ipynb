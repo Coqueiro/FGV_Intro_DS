{
 "cells": [
  {
   "cell_type": "markdown",
   "metadata": {},
   "source": [
    "## Introduction to Data Science\n",
    "\n",
    "### Textual Analysis  "
   ]
  },
  {
   "cell_type": "code",
   "execution_count": 1,
   "metadata": {},
   "outputs": [],
   "source": [
    "import os\n",
    "import pathlib\n",
    "import time\n",
    "import codecs\n",
    "import string\n",
    "import re\n",
    "from collections import Counter\n",
    "\n",
    "import numpy as np\n",
    "import matplotlib.pyplot as plt\n",
    "import pandas as pd\n",
    "\n",
    "import urllib\n",
    "import requests\n",
    "from bs4 import BeautifulSoup\n",
    "\n",
    "import nltk\n",
    "import networkx as nx\n",
    "import gensim\n",
    "from wordcloud import WordCloud\n",
    "import textract\n",
    "\n",
    "from IPython.core.display import Image\n",
    "%matplotlib inline"
   ]
  },
  {
   "cell_type": "markdown",
   "metadata": {},
   "source": [
    "Specifying the path to the files"
   ]
  },
  {
   "cell_type": "code",
   "execution_count": 2,
   "metadata": {},
   "outputs": [],
   "source": [
    "datapath = pathlib.Path(\"../datasets/\")\n",
    "outputs = pathlib.Path(\"../outputs/\")\n",
    "\n",
    "oplexicon = 'oplexicon_v3.0/lexico_v3.0.txt'"
   ]
  },
  {
   "cell_type": "markdown",
   "metadata": {},
   "source": [
    "Examinando os arquivos e pastas:"
   ]
  },
  {
   "cell_type": "code",
   "execution_count": 3,
   "metadata": {},
   "outputs": [
    {
     "data": {
      "text/plain": [
       "['Names',\n",
       " 'Figs',\n",
       " 'Oplexicon_v3.0',\n",
       " 'CSVs',\n",
       " 'Word2vec',\n",
       " 'Kaggle',\n",
       " 'Miscellaneous',\n",
       " 'AVidhya',\n",
       " 'oplexicon_v3.0',\n",
       " 'Texts',\n",
       " 'texts']"
      ]
     },
     "execution_count": 3,
     "metadata": {},
     "output_type": "execute_result"
    }
   ],
   "source": [
    "onlydirs = [f for f in os.listdir(datapath) if os.path.isdir(os.path.join(datapath,f)) and not f.startswith('.')]\n",
    "onlydirs"
   ]
  },
  {
   "cell_type": "code",
   "execution_count": 4,
   "metadata": {},
   "outputs": [
    {
     "name": "stdout",
     "output_type": "stream",
     "text": [
      "Files in the folder:\n",
      "1 -- RobertFrost_Poetry.pdf\n",
      "2 -- AldousHuxley_bravenewworld.pdf\n",
      "3 -- MarcelProust_EmBuscadoTempoPerdido.pdf\n",
      "4 -- ARTIGOS-RBE-COM-RESUMO.xlsx\n"
     ]
    }
   ],
   "source": [
    "corpuspath = datapath / 'Texts'\n",
    "onlyfiles = [f for f in os.listdir(corpuspath) if os.path.isfile(os.path.join(corpuspath,f)) and not f.startswith('.')]\n",
    "onlydirs.sort()\n",
    "\n",
    "print('Files in the folder:')\n",
    "for i, w in enumerate(onlyfiles[0:]):\n",
    "    print(i+1, '--' ,w)"
   ]
  },
  {
   "cell_type": "markdown",
   "metadata": {},
   "source": [
    "Loading first corpus:"
   ]
  },
  {
   "cell_type": "code",
   "execution_count": 5,
   "metadata": {},
   "outputs": [
    {
     "data": {
      "text/html": [
       "<div>\n",
       "<style scoped>\n",
       "    .dataframe tbody tr th:only-of-type {\n",
       "        vertical-align: middle;\n",
       "    }\n",
       "\n",
       "    .dataframe tbody tr th {\n",
       "        vertical-align: top;\n",
       "    }\n",
       "\n",
       "    .dataframe thead th {\n",
       "        text-align: right;\n",
       "    }\n",
       "</style>\n",
       "<table border=\"1\" class=\"dataframe\">\n",
       "  <thead>\n",
       "    <tr style=\"text-align: right;\">\n",
       "      <th></th>\n",
       "      <th>N</th>\n",
       "      <th>Revista</th>\n",
       "      <th>Título do artigo</th>\n",
       "      <th>Resumo</th>\n",
       "      <th>Volume</th>\n",
       "      <th>Número</th>\n",
       "      <th>Ano</th>\n",
       "      <th>Autores</th>\n",
       "      <th>Nº de Autores</th>\n",
       "      <th>URL</th>\n",
       "    </tr>\n",
       "  </thead>\n",
       "  <tbody>\n",
       "    <tr>\n",
       "      <th>0</th>\n",
       "      <td>1</td>\n",
       "      <td>Revista Brasileira de Economia</td>\n",
       "      <td>Miséria ou Abundância: Alguns Modelos de Cresc...</td>\n",
       "      <td>NaN</td>\n",
       "      <td>20</td>\n",
       "      <td>1</td>\n",
       "      <td>1966</td>\n",
       "      <td>Kingston, Lúcia Silva</td>\n",
       "      <td>1</td>\n",
       "      <td>http://bibliotecadigital.fgv.br/ojs/index.php/...</td>\n",
       "    </tr>\n",
       "    <tr>\n",
       "      <th>1</th>\n",
       "      <td>2</td>\n",
       "      <td>Revista Brasileira de Economia</td>\n",
       "      <td>Comentário sobre o Modelo Econométrico de Tint...</td>\n",
       "      <td>NaN</td>\n",
       "      <td>25</td>\n",
       "      <td>1</td>\n",
       "      <td>1971</td>\n",
       "      <td>Fioravante, Moacyr;Naylor, Thomas H.;Monteiro,...</td>\n",
       "      <td>3</td>\n",
       "      <td>http://bibliotecadigital.fgv.br/ojs/index.php/...</td>\n",
       "    </tr>\n",
       "    <tr>\n",
       "      <th>2</th>\n",
       "      <td>3</td>\n",
       "      <td>Revista Brasileira de Economia</td>\n",
       "      <td>Modernização e desigualdade na agricultura bra...</td>\n",
       "      <td>NaN</td>\n",
       "      <td>43</td>\n",
       "      <td>2</td>\n",
       "      <td>1989</td>\n",
       "      <td>Hoffmann, Rodolfo;Kassouf, Ana Lúcia</td>\n",
       "      <td>2</td>\n",
       "      <td>http://bibliotecadigital.fgv.br/ojs/index.php/...</td>\n",
       "    </tr>\n",
       "    <tr>\n",
       "      <th>3</th>\n",
       "      <td>4</td>\n",
       "      <td>Revista Brasileira de Economia</td>\n",
       "      <td>Optimal Insider Strategy with Law Penalties</td>\n",
       "      <td>We study the optimal continuous trading strate...</td>\n",
       "      <td>70</td>\n",
       "      <td>1</td>\n",
       "      <td>2016</td>\n",
       "      <td>Fajardo, Jose</td>\n",
       "      <td>1</td>\n",
       "      <td>http://bibliotecadigital.fgv.br/ojs/index.php/...</td>\n",
       "    </tr>\n",
       "    <tr>\n",
       "      <th>4</th>\n",
       "      <td>5</td>\n",
       "      <td>Revista Brasileira de Economia</td>\n",
       "      <td>Demands for Short-Run Assets and Liabilities i...</td>\n",
       "      <td>NaN</td>\n",
       "      <td>60</td>\n",
       "      <td>1</td>\n",
       "      <td>2006</td>\n",
       "      <td>Silva, Evandro;Resende, Marcelo</td>\n",
       "      <td>2</td>\n",
       "      <td>http://bibliotecadigital.fgv.br/ojs/index.php/...</td>\n",
       "    </tr>\n",
       "  </tbody>\n",
       "</table>\n",
       "</div>"
      ],
      "text/plain": [
       "   N                         Revista  \\\n",
       "0  1  Revista Brasileira de Economia   \n",
       "1  2  Revista Brasileira de Economia   \n",
       "2  3  Revista Brasileira de Economia   \n",
       "3  4  Revista Brasileira de Economia   \n",
       "4  5  Revista Brasileira de Economia   \n",
       "\n",
       "                                    Título do artigo  \\\n",
       "0  Miséria ou Abundância: Alguns Modelos de Cresc...   \n",
       "1  Comentário sobre o Modelo Econométrico de Tint...   \n",
       "2  Modernização e desigualdade na agricultura bra...   \n",
       "3        Optimal Insider Strategy with Law Penalties   \n",
       "4  Demands for Short-Run Assets and Liabilities i...   \n",
       "\n",
       "                                              Resumo  Volume Número   Ano  \\\n",
       "0                                                NaN      20      1  1966   \n",
       "1                                                NaN      25      1  1971   \n",
       "2                                                NaN      43      2  1989   \n",
       "3  We study the optimal continuous trading strate...      70      1  2016   \n",
       "4                                                NaN      60      1  2006   \n",
       "\n",
       "                                             Autores  Nº de Autores  \\\n",
       "0                              Kingston, Lúcia Silva              1   \n",
       "1  Fioravante, Moacyr;Naylor, Thomas H.;Monteiro,...              3   \n",
       "2               Hoffmann, Rodolfo;Kassouf, Ana Lúcia              2   \n",
       "3                                      Fajardo, Jose              1   \n",
       "4                    Silva, Evandro;Resende, Marcelo              2   \n",
       "\n",
       "                                                 URL  \n",
       "0  http://bibliotecadigital.fgv.br/ojs/index.php/...  \n",
       "1  http://bibliotecadigital.fgv.br/ojs/index.php/...  \n",
       "2  http://bibliotecadigital.fgv.br/ojs/index.php/...  \n",
       "3  http://bibliotecadigital.fgv.br/ojs/index.php/...  \n",
       "4  http://bibliotecadigital.fgv.br/ojs/index.php/...  "
      ]
     },
     "execution_count": 5,
     "metadata": {},
     "output_type": "execute_result"
    }
   ],
   "source": [
    "df = pd.read_excel(os.path.join(corpuspath, 'ARTIGOS-RBE-COM-RESUMO.xlsx'))\n",
    "df.head()"
   ]
  },
  {
   "cell_type": "code",
   "execution_count": 6,
   "metadata": {},
   "outputs": [
    {
     "data": {
      "text/plain": [
       "Index(['N', 'Revista', 'Título do artigo', 'Resumo', 'Volume', 'Número', 'Ano',\n",
       "       'Autores', 'Nº de Autores', 'URL'],\n",
       "      dtype='object')"
      ]
     },
     "execution_count": 6,
     "metadata": {},
     "output_type": "execute_result"
    }
   ],
   "source": [
    "df.columns"
   ]
  },
  {
   "cell_type": "code",
   "execution_count": 7,
   "metadata": {},
   "outputs": [
    {
     "name": "stdout",
     "output_type": "stream",
     "text": [
      "<class 'pandas.core.frame.DataFrame'>\n",
      "RangeIndex: 1556 entries, 0 to 1555\n",
      "Data columns (total 10 columns):\n",
      "N                   1556 non-null int64\n",
      "Revista             1556 non-null object\n",
      "Título do artigo    1556 non-null object\n",
      "Resumo              330 non-null object\n",
      "Volume              1556 non-null int64\n",
      "Número              1556 non-null object\n",
      "Ano                 1556 non-null int64\n",
      "Autores             1556 non-null object\n",
      "Nº de Autores       1556 non-null int64\n",
      "URL                 1556 non-null object\n",
      "dtypes: int64(4), object(6)\n",
      "memory usage: 121.6+ KB\n"
     ]
    }
   ],
   "source": [
    "df.info()"
   ]
  },
  {
   "cell_type": "code",
   "execution_count": 8,
   "metadata": {},
   "outputs": [
    {
     "data": {
      "text/plain": [
       "'Miséria ou Abundância: Alguns Modelos de Crescimento para Economias Subdesenvolvidas Comentário sobre o Modelo Econométrico de Tinther, para o Brasil Modernização e desigualdade na agricultura brasileira Optimal Insider Strategy with Law Penalties Demands for Short-Run Assets and Liabilities in Brazil: a Portfolio Approach Alguns Reparos sobre a Teoria do Multiplicador INTRODUÇÃO: ORIGENS HISTÓRICAS DO SUBDESENVOLVIMENTO CONTEMPORÂNEO Princípios para a reformulação da política comercial brasileira A reforma da economia socialista: lições dos primeiros três anos Intensidades fatoriais na economia brasileira: novo teste empírico do teorema de Heckscher-Ohlin Algumas Considerações sobre as Fases do Desenvolvimento Econõmico Poupança e crescimento econômico Padrões de Convergência e Divergência do Crescimento Econômico Regional e das Migrações no Brasil - 1940-1960 Octavio Gouveia de Bulhões - Orientação e Controle da Economia The Economic Theory of Regulation: the Case of Agrarian Reform '"
      ]
     },
     "execution_count": 8,
     "metadata": {},
     "output_type": "execute_result"
    }
   ],
   "source": [
    "df['text'] = df['Título do artigo'] + \" \"\n",
    "texts = df['text'].sum()\n",
    "texts[0:1000]"
   ]
  },
  {
   "cell_type": "code",
   "execution_count": 9,
   "metadata": {},
   "outputs": [],
   "source": [
    "stop_pt = nltk.corpus.stopwords.words('portuguese')\n",
    "stop_en = nltk.corpus.stopwords.words('english')\n",
    "stopwords = stop_en + stop_pt\n",
    "stopwords.extend(['-',''])"
   ]
  },
  {
   "cell_type": "code",
   "execution_count": 10,
   "metadata": {},
   "outputs": [
    {
     "data": {
      "text/plain": [
       "[('brasil', 271),\n",
       " ('sobre', 141),\n",
       " ('brasileira', 96),\n",
       " ('desenvolvimento', 96),\n",
       " ('política', 87),\n",
       " ('economia', 87),\n",
       " ('econômico', 85),\n",
       " ('análise', 82),\n",
       " ('inflação', 74),\n",
       " ('brazil', 66),\n",
       " ('econômica', 59),\n",
       " ('modelo', 53),\n",
       " ('renda', 50),\n",
       " ('preços', 50),\n",
       " ('monetária', 50),\n",
       " ('crescimento', 49),\n",
       " ('teoria', 48),\n",
       " ('brasileiro', 48),\n",
       " ('brazilian', 46),\n",
       " ('mercado', 44),\n",
       " ('caso', 41),\n",
       " ('agricultura', 40),\n",
       " ('plano', 38),\n",
       " ('capital', 34),\n",
       " ('fiscal', 33),\n",
       " ('nota', 31),\n",
       " ('indústria', 31),\n",
       " ('efeitos', 29),\n",
       " ('inflation', 29),\n",
       " ('avaliação', 28)]"
      ]
     },
     "execution_count": 10,
     "metadata": {},
     "output_type": "execute_result"
    }
   ],
   "source": [
    "list_words = texts.split()\n",
    "list_words = [l.strip().lower() for l in list_words]\n",
    "list_words = [l.strip(string.punctuation) for l in list_words]\n",
    "list_words = [l for l in list_words if l not in stopwords]\n",
    "\n",
    "freqdist = Counter(list_words)\n",
    "freqdist.most_common(30)"
   ]
  },
  {
   "cell_type": "code",
   "execution_count": 11,
   "metadata": {},
   "outputs": [],
   "source": [
    "cleaned = ' '.join(list_words)\n",
    "wordcloud = WordCloud().generate(cleaned)"
   ]
  },
  {
   "cell_type": "code",
   "execution_count": 12,
   "metadata": {},
   "outputs": [
    {
     "data": {
      "image/png": "[encoded data removed]",
      "text/plain": [
       "<Figure size 720x720 with 1 Axes>"
      ]
     },
     "metadata": {},
     "output_type": "display_data"
    }
   ],
   "source": [
    "fig, ax = plt.subplots(figsize=(10, 10))\n",
    "ax.imshow(wordcloud, interpolation='nearest')\n",
    "plt.tight_layout()"
   ]
  },
  {
   "cell_type": "code",
   "execution_count": 13,
   "metadata": {},
   "outputs": [
    {
     "data": {
      "image/png": "[encoded data removed]",
      "text/plain": [
       "<Figure size 720x720 with 1 Axes>"
      ]
     },
     "metadata": {},
     "output_type": "display_data"
    }
   ],
   "source": [
    "# lower max_font_size\n",
    "wordcloud = WordCloud(max_font_size=40).generate(cleaned)\n",
    "plt.figure(figsize=(10, 10))\n",
    "plt.imshow(wordcloud, interpolation=\"bilinear\")\n",
    "plt.axis(\"off\")\n",
    "plt.show()"
   ]
  },
  {
   "cell_type": "code",
   "execution_count": 14,
   "metadata": {},
   "outputs": [],
   "source": [
    "# The pil way (if you don't have matplotlib)\n",
    "image = wordcloud.to_image()\n",
    "image.show()"
   ]
  },
  {
   "cell_type": "markdown",
   "metadata": {},
   "source": [
    "Loading second corpus"
   ]
  },
  {
   "cell_type": "code",
   "execution_count": 15,
   "metadata": {},
   "outputs": [
    {
     "name": "stdout",
     "output_type": "stream",
     "text": [
      "Files in the folder:\n",
      "1 -- RobertFrost_Poetry.pdf\n",
      "2 -- AldousHuxley_bravenewworld.pdf\n",
      "3 -- MarcelProust_EmBuscadoTempoPerdido.pdf\n",
      "4 -- ARTIGOS-RBE-COM-RESUMO.xlsx\n"
     ]
    }
   ],
   "source": [
    "print('Files in the folder:')\n",
    "for i, w in enumerate(onlyfiles[0:]):\n",
    "    print(i+1, '--' ,w)"
   ]
  },
  {
   "cell_type": "code",
   "execution_count": 16,
   "metadata": {},
   "outputs": [
    {
     "name": "stdout",
     "output_type": "stream",
     "text": [
      "\n",
      "Texto:\n",
      " Classic Poetry Series\n",
      "\n",
      "Robert Frost\n",
      "- poems -\n",
      "\n",
      "Pub\n",
      "\n",
      "Texto:\n",
      " Brave New World\n",
      "Aldous Leonard Huxley\n",
      "February 6, \n",
      "\n",
      "Texto:\n",
      " MARCEL PROUST\n",
      "EM BUSCA DO TEMPO PERDIDO\n",
      "\n",
      "EM BUSCA \n"
     ]
    }
   ],
   "source": [
    "raw_texts = ''\n",
    "for filename in [f for f in onlyfiles if f.endswith('pdf')]:\n",
    "    text = textract.process(os.path.join(corpuspath,filename)).decode('utf-8')\n",
    "    print('\\nTexto:\\n', text[0:50])\n",
    "    raw_texts += '\\n'+ text"
   ]
  },
  {
   "cell_type": "code",
   "execution_count": 17,
   "metadata": {},
   "outputs": [
    {
     "name": "stdout",
     "output_type": "stream",
     "text": [
      "7342550\n"
     ]
    }
   ],
   "source": [
    "print(len(raw_texts))"
   ]
  },
  {
   "cell_type": "markdown",
   "metadata": {},
   "source": [
    "Cleaning and homogenizing texts:"
   ]
  },
  {
   "cell_type": "code",
   "execution_count": 18,
   "metadata": {},
   "outputs": [],
   "source": [
    "cleaned_texts = raw_texts.lower()\n",
    "cleaned_texts = re.sub(' +',' ', cleaned_texts) #Remove multiple spaces\n",
    "cleaned_texts = re.sub(r'\\n\\s*\\n', '\\n', cleaned_texts)"
   ]
  },
  {
   "cell_type": "code",
   "execution_count": 19,
   "metadata": {},
   "outputs": [
    {
     "name": "stdout",
     "output_type": "stream",
     "text": [
      "7339946\n"
     ]
    }
   ],
   "source": [
    "print(len(cleaned_texts))"
   ]
  },
  {
   "cell_type": "code",
   "execution_count": 20,
   "metadata": {},
   "outputs": [
    {
     "name": "stdout",
     "output_type": "stream",
     "text": [
      "\n",
      "classic poetry series\n",
      "robert frost\n",
      "- poems -\n",
      "publication date:\n",
      "2004\n",
      "publisher:\n",
      "poemhunter.com - the world's poetry archive\n",
      "\f",
      "\"in white\": frost's early version of design\n",
      "a dented spider like a snow dro\n"
     ]
    }
   ],
   "source": [
    "print(cleaned_texts[0:200])"
   ]
  },
  {
   "cell_type": "code",
   "execution_count": 21,
   "metadata": {},
   "outputs": [
    {
     "data": {
      "text/plain": [
       "[('é', 6892),\n",
       " ('tão', 3050),\n",
       " ('sra', 3014),\n",
       " ('bem', 2740),\n",
       " ('pois', 2667),\n",
       " ('sr', 2536),\n",
       " ('albertine', 2402),\n",
       " ('ainda', 2276),\n",
       " ('ser', 2211),\n",
       " ('tempo', 2209),\n",
       " ('mim', 2148),\n",
       " ('ter', 2045),\n",
       " ('casa', 2018),\n",
       " ('onde', 1960),\n",
       " ('havia', 1871),\n",
       " ('vida', 1771),\n",
       " ('swann', 1766),\n",
       " ('guermantes', 1729),\n",
       " ('assim', 1689),\n",
       " ('menos', 1688),\n",
       " ('sobre', 1670),\n",
       " ('vezes', 1650),\n",
       " ('dia', 1580),\n",
       " ('vez', 1549),\n",
       " ('talvez', 1479),\n",
       " ('todos', 1420),\n",
       " ('pouco', 1405),\n",
       " ('disse', 1403),\n",
       " ('pessoas', 1392),\n",
       " ('fazer', 1389)]"
      ]
     },
     "execution_count": 21,
     "metadata": {},
     "output_type": "execute_result"
    }
   ],
   "source": [
    "list_words = cleaned_texts.split()\n",
    "list_words = [l.strip().lower() for l in list_words]\n",
    "list_words = [l.strip(string.punctuation) for l in list_words]\n",
    "list_words = [l for l in list_words if l not in stopwords]\n",
    "\n",
    "freqdist = Counter(list_words)\n",
    "freqdist.most_common(30)"
   ]
  },
  {
   "cell_type": "markdown",
   "metadata": {},
   "source": [
    "Finding ocurrences of an expression:"
   ]
  },
  {
   "cell_type": "code",
   "execution_count": 22,
   "metadata": {},
   "outputs": [
    {
     "name": "stdout",
     "output_type": "stream",
     "text": [
      "The expression is found 20 times\n"
     ]
    }
   ],
   "source": [
    "expression = ' life '\n",
    "pos = 0 \n",
    "positions = []\n",
    "while pos != -1:\n",
    "    position = cleaned_texts.find(expression,pos+1)\n",
    "    pos = position\n",
    "    positions.append(position)\n",
    "positions.pop()\n",
    "print('The expression is found {} times'.format(len(positions)))"
   ]
  },
  {
   "cell_type": "markdown",
   "metadata": {},
   "source": [
    "Understanding contexts in which words occur:"
   ]
  },
  {
   "cell_type": "code",
   "execution_count": 23,
   "metadata": {},
   "outputs": [
    {
     "name": "stdout",
     "output_type": "stream",
     "text": [
      "er young life to his.\n",
      "as in my life alone,\n",
      "w\n",
      "ons,\n",
      "and life is too m\n",
      "late in life i have c\n",
      "keep\n",
      "the life from spi\n",
      "keep\n",
      "the life from spi\n",
      "s that a life of self-\n",
      "eet,\n",
      "the life of muscl\n",
      "-all his life long. th\n",
      "through life without\n"
     ]
    }
   ],
   "source": [
    "# Pure Python\n",
    "window = 8\n",
    "for position in positions[0:10]:\n",
    "    print(cleaned_texts[position - window:position + window + len(expression)].strip())"
   ]
  },
  {
   "cell_type": "code",
   "execution_count": 24,
   "metadata": {},
   "outputs": [
    {
     "name": "stdout",
     "output_type": "stream",
     "text": [
      "No matches\n"
     ]
    }
   ],
   "source": [
    "# Using NLTK\n",
    "tknzr = nltk.tokenize.WordPunctTokenizer()\n",
    "tokens = tknzr.tokenize(cleaned_texts)\n",
    "nltk_text = nltk.Text(tokens)\n",
    "nltk_text.concordance(expression.lower(), width=120, lines=10)"
   ]
  },
  {
   "cell_type": "markdown",
   "metadata": {},
   "source": [
    "Words that occur in similar contexts than the query expression:"
   ]
  },
  {
   "cell_type": "code",
   "execution_count": 25,
   "metadata": {},
   "outputs": [
    {
     "name": "stdout",
     "output_type": "stream",
     "text": [
      "No matches\n"
     ]
    }
   ],
   "source": [
    "nltk_text.similar(expression)"
   ]
  },
  {
   "cell_type": "markdown",
   "metadata": {},
   "source": [
    "[Collocations](http://en.wikipedia.org/wiki/Collocation) are expressions of multiple words which commonly co-occur.  \n",
    "http://www.nltk.org/howto/collocations.html  "
   ]
  },
  {
   "cell_type": "code",
   "execution_count": 26,
   "metadata": {},
   "outputs": [
    {
     "name": "stdout",
     "output_type": "stream",
     "text": [
      "minha avó; muitas vezes; sem dúvida; que ela; além disso; que não;\n",
      "para mim; que ele; minha mãe; poetry archive; cada vez; uma mulher;\n",
      "desse modo; pelo menos; meu pai; por exemplo; muito bem; por causa;\n",
      "uma espécie; primeira vez; dia seguinte; frost www; mais tarde; minha\n",
      "tia; muito tempo; mesma forma; não podia; não era; robert frost; meus\n",
      "pais; uma pessoa; outro lado; todo caso; naquele momento; nem sequer;\n",
      "que lhe; alguma coisa; pelo contrário; mesmo tempo; coisa alguma; tal\n",
      "modo; ter sido; seus olhos; uma vez; não sei; modo algum; pela\n",
      "primeira; algum tempo; visto que; por isso; sua vida; tudo isso; não\n",
      "tinha; num tom; meu quarto; não que; até então; pessoas que; seu\n",
      "rosto; com uma; das pessoas; alta sociedade; teria sido; dos verdurin;\n",
      "alguns dias; aos olhos; todo mundo; mim mesmo; ainda mais; meu tio;\n",
      "passo que; uma certa; meu caro; aos poucos; victor hugo; que nos;\n",
      "creio que; nós mesmos; por uma; assim como; mas também; dos outros;\n",
      "meu avô; por fim; ela não; mau humor; outra coisa; sua casa; casa dos;\n",
      "com ela; minha vida; pequeno grupo; meu amor; tanto mais; dizer que;\n",
      "caso dreyfus; faubourg saint; meu coração; como uma; mustapha mond\n"
     ]
    }
   ],
   "source": [
    "nltk_text.collocations(num=100, window_size=2)"
   ]
  },
  {
   "cell_type": "markdown",
   "metadata": {},
   "source": [
    "Below we are using [Pointwise Mutual Information](http://en.wikipedia.org/wiki/Pointwise_mutual_information)."
   ]
  },
  {
   "cell_type": "code",
   "execution_count": 27,
   "metadata": {},
   "outputs": [
    {
     "name": "stdout",
     "output_type": "stream",
     "text": [
      "sarah bernhardt\n",
      "fernando py\n",
      "1 °\n",
      "george sand\n",
      "mustapha mond\n",
      "vossa senhoria\n",
      "victor hugo\n",
      "lanterna mágica\n",
      "synthetic music\n",
      "jesus cristo\n",
      "brave new\n",
      "du boulbon\n",
      "luís xiv\n",
      "século xix\n",
      "marcel proust\n",
      "helmholtz watson\n",
      "vossa alteza\n",
      "século xviii\n",
      "des laumes\n",
      "século xvii\n",
      "le champi\n",
      "françoís le\n",
      "frost www\n",
      "poetry archive\n",
      "greater being\n",
      "condessa molé\n",
      "henry foster\n",
      "etc .,\n",
      "rei teodósio\n",
      "reunião noturna\n"
     ]
    }
   ],
   "source": [
    "max_items = 30\n",
    "freq_min_b = 10\n",
    "bigram_measures = nltk.collocations.BigramAssocMeasures()\n",
    "finder2 = nltk.collocations.BigramCollocationFinder.from_words(nltk_text)\n",
    "finder2.apply_word_filter(lambda w: w in string.punctuation)\n",
    "finder2.apply_freq_filter(freq_min_b)\n",
    "for a, b in finder2.nbest(bigram_measures.pmi, max_items):\n",
    "    print(a, b)"
   ]
  },
  {
   "cell_type": "code",
   "execution_count": 28,
   "metadata": {},
   "outputs": [
    {
     "name": "stdout",
     "output_type": "stream",
     "text": [
      "que o\n",
      "o que\n",
      "que não\n",
      "que a\n",
      "de um\n",
      "em que\n",
      "de uma\n",
      "e que\n",
      "que eu\n",
      "que se\n",
      "de que\n",
      "a sra\n",
      "que ela\n",
      "o sr\n",
      "que me\n",
      "de guermantes\n",
      "que ele\n",
      "e a\n",
      "do que\n",
      "com a\n",
      "não se\n",
      "de charlus\n",
      "de sua\n",
      "com o\n",
      "o seu\n",
      "e o\n",
      "e de\n",
      "como se\n"
     ]
    }
   ],
   "source": [
    "for a, b in (finder2.above_score(bigram_measures.raw_freq, 1000.0 / len(list(nltk.bigrams(tokens))))):\n",
    "        print(a, b)"
   ]
  },
  {
   "cell_type": "code",
   "execution_count": 29,
   "metadata": {},
   "outputs": [
    {
     "name": "stdout",
     "output_type": "stream",
     "text": [
      "bel et bien\n",
      "des deux mondes\n",
      "revue des deux\n",
      "françoís le champi\n",
      "better than mending\n",
      "brave new world\n",
      "ending is better\n",
      "snarled and rattled\n",
      "shrugged his shoulders\n",
      "doutor du boulbon\n",
      "said mustapha mond\n",
      "half an hour\n",
      "robert frost www\n",
      "the assistant predestinator\n",
      "dia 1 °\n",
      "years ’ war\n",
      "s poetry archive\n",
      "encarregada das duchas\n",
      "três quartas partes\n",
      "trinta mil francos\n",
      "the deputy sub\n",
      "alameda das acácias\n",
      "nine years ’\n",
      "shook his head\n",
      "princesa des laumes\n",
      "príncipe des laumes\n",
      "belongs to every\n",
      "every one else\n",
      "crepe da china\n",
      "shook her head\n"
     ]
    }
   ],
   "source": [
    "max_items = 30\n",
    "freq_min_t = 6\n",
    "trigram_measures = nltk.collocations.TrigramAssocMeasures()\n",
    "finder3 = nltk.collocations.TrigramCollocationFinder.from_words(nltk_text)\n",
    "finder3.apply_word_filter(lambda w: w in string.punctuation)\n",
    "finder3.apply_ngram_filter(lambda w1, w2, w3:  w1 in ['da', 'de', 'das'])\n",
    "finder3.apply_freq_filter(freq_min_t)\n",
    "for a, b, c in finder3.nbest(trigram_measures.pmi, max_items):\n",
    "    print(a, b, c)"
   ]
  },
  {
   "cell_type": "code",
   "execution_count": 30,
   "metadata": {},
   "outputs": [
    {
     "name": "stdout",
     "output_type": "stream",
     "text": [
      "momento em que\n",
      "tudo o que\n",
      "uma espécie de\n",
      "que o sr\n",
      "que a sra\n",
      "ao mesmo tempo\n",
      "dia em que\n",
      "que eu não\n",
      "a impressão de\n",
      "a fim de\n",
      "que não se\n",
      "em vez de\n",
      "no momento em\n",
      "ao passo que\n",
      "em que a\n",
      "que ela não\n",
      "na casa da\n",
      "a idéia de\n",
      "duquesa de guermantes\n",
      "em todo caso\n",
      "todos os dias\n",
      "casa da sra\n",
      "que já não\n",
      "em que o\n",
      "em que eu\n",
      "em que se\n",
      "no dia seguinte\n",
      "o que me\n",
      "que o senhor\n",
      "por um instante\n",
      "idéia de que\n",
      "o que se\n",
      "ponto de vista\n",
      "mais do que\n",
      "mais ou menos\n",
      "o nome de\n",
      "e que não\n",
      "por outro lado\n",
      "o que eu\n",
      "pela primeira vez\n",
      "que ele não\n",
      "s poetry archive\n",
      "a princesa de\n",
      "as pessoas que\n",
      "que a gente\n",
      "cada vez que\n",
      "por um momento\n",
      "don ’ t\n",
      "em que ela\n",
      "que não me\n",
      "um pouco de\n",
      "é verdade que\n",
      "robert frost www\n",
      "a duquesa de\n",
      "a ponto de\n",
      "o que não\n",
      "o que é\n",
      "por muito tempo\n",
      "a não ser\n",
      "princesa de guermantes\n",
      "a um tempo\n",
      "que não é\n",
      "por mais que\n",
      "princesa de parma\n",
      "em sua casa\n",
      "que ela me\n"
     ]
    }
   ],
   "source": [
    "for a, b, c in finder3.above_score(trigram_measures.raw_freq,100.0 / len(list(nltk.trigrams(tokens)))):\n",
    "        print (a, b, c)"
   ]
  },
  {
   "cell_type": "code",
   "execution_count": 31,
   "metadata": {},
   "outputs": [
    {
     "data": {
      "text/plain": [
       "[(('o', 'sr', '.', 'de'), 1317),\n",
       " (('sr', '.', 'de', 'charlus'), 1081),\n",
       " (('a', 'sra', '.', 'de'), 936),\n",
       " (('sra', '.', 'de', 'guermantes'), 508),\n",
       " (('a', 'sra', '.', 'verdurin'), 430),\n",
       " (('da', 'sra', '.', 'de'), 392),\n",
       " (('sra', '.', 'de', 'villeparisis'), 332),\n",
       " (('do', 'sr', '.', 'de'), 307),\n",
       " (('.', 'de', 'charlus', ','), 305),\n",
       " (('que', 'o', 'sr', '.'), 270),\n",
       " (('que', 'a', 'sra', '.'), 266),\n",
       " ((',', 'a', 'sra', '.'), 249),\n",
       " ((',', 'o', 'sr', '.'), 248),\n",
       " (('de', 'saint', '-', 'loup'), 240),\n",
       " (('.', 'de', 'guermantes', ','), 235),\n",
       " (('sr', '.', 'de', 'norpois'), 228),\n",
       " (('no', 'momento', 'em', 'que'), 219),\n",
       " (('saint', '-', 'loup', ','), 217),\n",
       " (('sra', '.', 'verdurin', ','), 191),\n",
       " (('a', 'sra', '.', 'swann'), 188),\n",
       " (('.', 'a', 'sra', '.'), 186),\n",
       " (('sra', '.', 'de', 'cambremer'), 182),\n",
       " (('ao', 'sr', '.', 'de'), 172),\n",
       " (('.', 'o', 'sr', '.'), 170),\n",
       " (('.', 'além', 'disso', ','), 167),\n",
       " (('casa', 'da', 'sra', '.'), 165),\n",
       " ((',', 'no', 'entanto', ','), 164),\n",
       " ((',', 'por', 'exemplo', ','), 161),\n",
       " ((',', 'e', 'que', ','), 161),\n",
       " (('n', '.', 'do', 't'), 161)]"
      ]
     },
     "execution_count": 31,
     "metadata": {},
     "output_type": "execute_result"
    }
   ],
   "source": [
    "from nltk.util import ngrams\n",
    "n = 4\n",
    "xgrams = ngrams(tokens, n)\n",
    "xgrams_counter = Counter(xgrams)\n",
    "xgrams_counter.most_common(30)"
   ]
  },
  {
   "cell_type": "code",
   "execution_count": 32,
   "metadata": {},
   "outputs": [
    {
     "data": {
      "image/png": "[encoded data removed]",
      "text/plain": [
       "<Figure size 432x288 with 1 Axes>"
      ]
     },
     "metadata": {},
     "output_type": "display_data"
    }
   ],
   "source": [
    "dispersion_words = ['love', 'hate', 'world', 'day']\n",
    "nltk_text.dispersion_plot(dispersion_words)"
   ]
  },
  {
   "cell_type": "markdown",
   "metadata": {},
   "source": [
    "Different ways to visualize frequent words:"
   ]
  },
  {
   "cell_type": "code",
   "execution_count": 33,
   "metadata": {},
   "outputs": [],
   "source": [
    "def print_vk(lst):\n",
    "    \"\"\"Print a list of value/key pairs nicely formatted in key/value order.\"\"\"\n",
    "\n",
    "    # Find the longest key: remember, the list has value/key pairs, so the key\n",
    "    # is element [1], not [0]\n",
    "    longest_key = max([len(word) for word, count in lst])\n",
    "    # Make a format string out of it\n",
    "    fmt = '%'+str(longest_key)+'s -> %s'\n",
    "    # Do actual printing\n",
    "    for k,v in lst:\n",
    "        print(fmt % (k,v))\n",
    "    print('\\n')"
   ]
  },
  {
   "cell_type": "code",
   "execution_count": 34,
   "metadata": {},
   "outputs": [],
   "source": [
    "def plot_word_histogram(freqs, show=10, title=None):\n",
    "    \"\"\"Plot a histogram of word frequencies, limited to the top <show> ones.\n",
    "    \"\"\"\n",
    "    sorted_f = sort_freqs(freqs) if isinstance(freqs, dict) else freqs\n",
    "\n",
    "    # Don't show the tail\n",
    "    if isinstance(show, int):\n",
    "        # interpret as number of words to show in histogram\n",
    "        show_f = sorted_f[-show:]\n",
    "    else:\n",
    "        # interpret as a fraction\n",
    "        start = -int(round(show*len(freqs)))\n",
    "        show_f = sorted_f[start:]\n",
    "\n",
    "    # Now, extract words and counts, plot\n",
    "    n_words = len(show_f)\n",
    "    ind = np.arange(n_words)\n",
    "    words = [i[0] for i in show_f]\n",
    "    counts = [i[1] for i in show_f]\n",
    "\n",
    "    fig = plt.figure(figsize=(8,8))\n",
    "    ax = fig.add_subplot(111)\n",
    "\n",
    "    if n_words<=20:\n",
    "        # Only show bars and x labels for small histograms, they don't make\n",
    "        # sense otherwise\n",
    "        ax.bar(ind, counts)\n",
    "        ax.set_xticks(ind)\n",
    "        ax.set_xticklabels(words, rotation=45)\n",
    "        fig.subplots_adjust(bottom=0.25)\n",
    "    else:\n",
    "        # For larger ones, do a step plot\n",
    "        ax.step(ind, counts)\n",
    "\n",
    "    # If it spans more than two decades, use a log scale\n",
    "    if float(max(counts))/min(counts) > 100:\n",
    "        ax.set_yscale('log')\n",
    "\n",
    "    if title:\n",
    "        ax.set_title(title)\n",
    "    return ax"
   ]
  },
  {
   "cell_type": "code",
   "execution_count": 84,
   "metadata": {},
   "outputs": [
    {
     "name": "stdout",
     "output_type": "stream",
     "text": [
      "           é -> 6892\n",
      "         tão -> 3050\n",
      "         sra -> 3014\n",
      "         bem -> 2740\n",
      "        pois -> 2667\n",
      "          sr -> 2536\n",
      "   albertine -> 2402\n",
      "       ainda -> 2276\n",
      "         ser -> 2211\n",
      "       tempo -> 2209\n",
      "         mim -> 2148\n",
      "         ter -> 2045\n",
      "        casa -> 2018\n",
      "        onde -> 1960\n",
      "       havia -> 1871\n",
      "        vida -> 1771\n",
      "       swann -> 1766\n",
      "  guermantes -> 1729\n",
      "       assim -> 1689\n",
      "       menos -> 1688\n",
      "       sobre -> 1670\n",
      "       vezes -> 1650\n",
      "         dia -> 1580\n",
      "         vez -> 1549\n",
      "      talvez -> 1479\n",
      "       todos -> 1420\n",
      "       pouco -> 1405\n",
      "       disse -> 1403\n",
      "     pessoas -> 1392\n",
      "       fazer -> 1389\n",
      "       tanto -> 1383\n",
      "      sempre -> 1377\n",
      "       dizer -> 1360\n",
      "        modo -> 1347\n",
      "        nada -> 1332\n",
      "      porque -> 1312\n",
      "       então -> 1307\n",
      "        tudo -> 1296\n",
      "     charlus -> 1243\n",
      "     momento -> 1202\n",
      "       antes -> 1168\n",
      "       outro -> 1149\n",
      "      mulher -> 1147\n",
      "    verdurin -> 1145\n",
      "      apenas -> 1139\n",
      "        todo -> 1138\n",
      "      senhor -> 1131\n",
      "       mesma -> 1122\n",
      "         ver -> 1120\n",
      "      quanto -> 1078\n",
      "       olhos -> 1065\n",
      "      grande -> 1063\n",
      "       todas -> 1047\n",
      "       agora -> 994\n",
      "      diante -> 991\n",
      "       outra -> 968\n",
      "       coisa -> 967\n",
      "       porém -> 964\n",
      "       fazia -> 951\n",
      "         tal -> 950\n",
      "       podia -> 949\n",
      "       aliás -> 947\n",
      "       dizia -> 921\n",
      "      outros -> 907\n",
      "        nome -> 900\n",
      "     poderia -> 897\n",
      "       noite -> 896\n",
      "     verdade -> 893\n",
      "      coisas -> 893\n",
      "      pessoa -> 892\n",
      "        dias -> 876\n",
      "       parte -> 860\n",
      "        amor -> 852\n",
      "        fato -> 848\n",
      "       quase -> 847\n",
      "    palavras -> 838\n",
      "        logo -> 835\n",
      "        caso -> 832\n",
      "      prazer -> 826\n",
      "        lado -> 823\n",
      "        cada -> 819\n",
      "       nunca -> 815\n",
      "       quais -> 811\n",
      "     parecia -> 810\n",
      "         mal -> 808\n",
      "        toda -> 806\n",
      "       forma -> 798\n",
      "       desde -> 790\n",
      "   françoise -> 788\n",
      "     duquesa -> 785\n",
      "       homem -> 773\n",
      "      balbec -> 770\n",
      "       desse -> 769\n",
      "      odette -> 753\n",
      "          ir -> 753\n",
      "        meio -> 741\n",
      "        pode -> 740\n",
      "  saint-loup -> 725\n",
      "      alguma -> 706\n",
      "         dar -> 705\n",
      "       falar -> 703\n",
      "    gilberte -> 687\n",
      "        dois -> 686\n",
      "    espírito -> 683\n",
      "         avó -> 678\n",
      "          ar -> 677\n",
      "    princesa -> 669\n",
      "         ali -> 667\n",
      "         fim -> 657\n",
      "     durante -> 657\n",
      "    enquanto -> 652\n",
      "         sob -> 647\n",
      "        anos -> 647\n",
      "      muitas -> 646\n",
      "       idéia -> 644\n",
      "      outras -> 641\n",
      "          si -> 638\n",
      "       visto -> 637\n",
      "       algum -> 636\n",
      "         mãe -> 632\n",
      "        sido -> 629\n",
      "       sabia -> 629\n",
      "    primeiro -> 628\n",
      "       tarde -> 624\n",
      "       rosto -> 623\n",
      "       tendo -> 622\n",
      "          ia -> 621\n",
      "       disso -> 619\n",
      "       olhar -> 616\n",
      "      dúvida -> 615\n",
      "      desejo -> 613\n",
      "    qualquer -> 611\n",
      "      sentia -> 608\n",
      "         ora -> 607\n",
      "    mulheres -> 606\n",
      "    primeira -> 593\n",
      "    instante -> 593\n",
      "       gente -> 589\n",
      "      alguns -> 584\n",
      "       ponto -> 581\n",
      "      jantar -> 580\n",
      "       saber -> 576\n",
      "      embora -> 575\n",
      "      jamais -> 574\n",
      "         pai -> 573\n",
      "        cuja -> 569\n",
      "     própria -> 562\n",
      "       mundo -> 561\n",
      "        novo -> 558\n",
      "        além -> 552\n",
      "      melhor -> 552\n",
      "         sim -> 550\n",
      "        algo -> 543\n",
      "      quarto -> 543\n",
      "   sociedade -> 542\n",
      "        hora -> 540\n",
      "      haviam -> 539\n",
      "        duas -> 535\n",
      "    bastante -> 530\n",
      "       paris -> 526\n",
      "   contrário -> 521\n",
      "        sabe -> 517\n",
      "       estar -> 515\n",
      "       causa -> 513\n",
      "         faz -> 512\n",
      "       feito -> 511\n",
      "       morel -> 511\n",
      "      robert -> 505\n",
      "       certo -> 503\n",
      "     entanto -> 499\n",
      "       duque -> 496\n",
      "          ah -> 494\n",
      "     coração -> 490\n",
      "     próprio -> 488\n",
      "        dava -> 484\n",
      "   impressão -> 482\n",
      "        aqui -> 482\n",
      "       lugar -> 481\n",
      "     preciso -> 480\n",
      "       bloch -> 480\n",
      "     naquele -> 478\n",
      "    respeito -> 478\n",
      "      comigo -> 476\n",
      "      contra -> 472\n",
      "      deixar -> 472\n",
      "       longe -> 469\n",
      "       dessa -> 468\n",
      "      alguém -> 468\n",
      "         bom -> 458\n",
      "      passar -> 457\n",
      "       jovem -> 456\n",
      "     espécie -> 456\n",
      "       barão -> 455\n",
      "       amigo -> 453\n",
      "       morte -> 452\n",
      "      homens -> 447\n",
      "      devido -> 446\n",
      "      achava -> 446\n",
      "        tais -> 445\n",
      "         vai -> 444\n",
      "     palavra -> 444\n",
      "      parece -> 442\n",
      "       horas -> 438\n",
      "     família -> 438\n",
      "     combray -> 435\n",
      "      pensar -> 435\n",
      "         sei -> 435\n",
      "       devia -> 434\n",
      "      dessas -> 429\n",
      "    conhecia -> 422\n",
      "      queria -> 421\n",
      "     pudesse -> 420\n",
      "       certa -> 418\n",
      "        cujo -> 415\n",
      "      demais -> 412\n",
      "        após -> 411\n",
      "      amigos -> 410\n",
      "    príncipe -> 410\n",
      "    possível -> 409\n",
      "     outrora -> 407\n",
      "         tia -> 407\n",
      "       poder -> 406\n",
      "     simples -> 405\n",
      "       amiga -> 405\n",
      "       junto -> 404\n",
      "         voz -> 404\n",
      "         via -> 403\n",
      "      apesar -> 402\n",
      "     senhora -> 399\n",
      "     ninguém -> 398\n",
      "       nesse -> 393\n",
      "     maneira -> 393\n",
      "     algumas -> 390\n",
      "     pequeno -> 390\n",
      "         tom -> 388\n",
      "villeparisis -> 388\n",
      "    relações -> 384\n",
      "   cambremer -> 384\n",
      "       vista -> 382\n",
      "       fundo -> 379\n",
      "     deveria -> 378\n",
      "       salão -> 378\n",
      "      andrée -> 378\n",
      "       gosto -> 374\n",
      "   realidade -> 371\n",
      "      nenhum -> 365\n",
      "         one -> 364\n",
      "       maior -> 364\n",
      "      cabeça -> 362\n",
      "      fizera -> 361\n",
      "   respondeu -> 361\n",
      "         fez -> 359\n",
      "     pensava -> 357\n",
      "     exemplo -> 356\n",
      "     vontade -> 356\n",
      "     cottard -> 352\n",
      "        três -> 350\n",
      "        said -> 349\n",
      "     segundo -> 348\n",
      "       senão -> 344\n",
      "       ficar -> 343\n",
      "          lá -> 341\n",
      "     sentido -> 340\n",
      "     passado -> 340\n",
      "       frase -> 340\n",
      "      voltar -> 338\n",
      "       ouvir -> 335\n",
      "      certos -> 335\n",
      "       enfim -> 334\n",
      "        deve -> 333\n",
      "     alegria -> 333\n",
      "      desses -> 333\n",
      "         mão -> 333\n",
      "         boa -> 332\n",
      "    seguinte -> 330\n",
      "      certas -> 330\n",
      "  necessário -> 326\n",
      "inteligência -> 325\n",
      "   lembrança -> 325\n",
      "   encontrar -> 325\n",
      "    conhecer -> 325\n",
      "     grandes -> 323\n",
      " necessidade -> 321\n",
      "     somente -> 319\n",
      "       corpo -> 319\n",
      "        obra -> 317\n",
      "        srta -> 317\n",
      "       carta -> 315\n",
      "         diz -> 314\n",
      "      hábito -> 313\n",
      " acrescentou -> 313\n",
      "    criatura -> 312\n",
      "         sol -> 310\n",
      "       porta -> 309\n",
      "      beleza -> 309\n",
      "       carro -> 309\n",
      "      amante -> 308\n",
      "    bergotte -> 307\n",
      "        tipo -> 306\n",
      "     brichot -> 306\n",
      "\n",
      "\n"
     ]
    }
   ],
   "source": [
    "number_words=300\n",
    "common_words = freqdist.most_common(number_words)\n",
    "print_vk(common_words)"
   ]
  },
  {
   "cell_type": "code",
   "execution_count": 85,
   "metadata": {},
   "outputs": [
    {
     "data": {
      "text/plain": [
       "<matplotlib.axes._subplots.AxesSubplot at 0x7f268ea5d978>"
      ]
     },
     "execution_count": 85,
     "metadata": {},
     "output_type": "execute_result"
    },
    {
     "data": {
      "image/png": "[encoded data removed]",
      "text/plain": [
       "<Figure size 576x576 with 1 Axes>"
      ]
     },
     "metadata": {},
     "output_type": "display_data"
    }
   ],
   "source": [
    "plot_word_histogram(common_words)"
   ]
  },
  {
   "cell_type": "code",
   "execution_count": 86,
   "metadata": {},
   "outputs": [
    {
     "data": {
      "image/png": "[encoded data removed]",
      "text/plain": [
       "<Figure size 576x576 with 1 Axes>"
      ]
     },
     "metadata": {},
     "output_type": "display_data"
    }
   ],
   "source": [
    "fd_words = nltk.FreqDist(tokens)\n",
    "fig, axes = plt.subplots(nrows=1, ncols=1, figsize=(8,8)) \n",
    "fd_words.plot(30)"
   ]
  },
  {
   "cell_type": "markdown",
   "metadata": {},
   "source": [
    "E a distribuição cumulativa das frequências:"
   ]
  },
  {
   "cell_type": "code",
   "execution_count": 87,
   "metadata": {},
   "outputs": [
    {
     "data": {
      "image/png": "[encoded data removed]",
      "text/plain": [
       "<Figure size 576x576 with 1 Axes>"
      ]
     },
     "metadata": {},
     "output_type": "display_data"
    }
   ],
   "source": [
    "fig, axes = plt.subplots(nrows=1, ncols=1, figsize=(8,8)) \n",
    "fd_words.plot(30, cumulative = True)"
   ]
  },
  {
   "cell_type": "markdown",
   "metadata": {},
   "source": [
    "Vamos agora construir um grafo de palavras para estudar co-ocorrências nos textos dos feeds\n",
    "\n",
    "Abordagem e funções aproveitadas de https://github.com/ipython/talks/blob/master/notebook/text_utils.py"
   ]
  },
  {
   "cell_type": "code",
   "execution_count": 88,
   "metadata": {},
   "outputs": [],
   "source": [
    "def all_pairs(items):\n",
    "    \"\"\"Make all unique pairs (order doesn't matter)\"\"\"\n",
    "    pairs = []\n",
    "    nitems = len(items)\n",
    "    for i, wi in enumerate(items):\n",
    "        for j in range(i+1, nitems):\n",
    "            pairs.append((wi, items[j]))\n",
    "    return pairs\n",
    "\n",
    "def co_occurrences(lines, words):\n",
    "    \"\"\"Return histogram of co-occurrences of words in a list of lines.\n",
    "\n",
    "    Parameters\n",
    "    ----------\n",
    "    lines : list\n",
    "      A list of strings considered as 'sentences' to search for co-occurrences.\n",
    "\n",
    "    words : list\n",
    "      A list of words from which all unordered pairs will be constructed and\n",
    "      searched for co-occurrences.\n",
    "    \"\"\"\n",
    "    wpairs = all_pairs(words)\n",
    "\n",
    "    # Now build histogram of co-occurrences\n",
    "    co_occur = {}\n",
    "    for w1, w2 in wpairs:\n",
    "        rx = re.compile('%s .*%s|%s .*%s' % (w1, w2, w2, w1))\n",
    "        co_occur[w1, w2] = sum([1 for line in lines if rx.search(line)])\n",
    "\n",
    "    return co_occur\n",
    "\n",
    "def co_occurrences_graph(word_hist, co_occur, cutoff=0):\n",
    "    \"\"\"Convert a word histogram with co-occurrences to a weighted graph.\n",
    "    Edges are only added if the count is above cutoff.\n",
    "    \"\"\"\n",
    "    g = nx.Graph()\n",
    "    for word, count in word_hist:\n",
    "        g.add_node(word, count=count)\n",
    "    for (w1, w2), count in co_occur.items():\n",
    "        if count<=cutoff:\n",
    "            continue\n",
    "        g.add_edge(w1, w2, weight=count)\n",
    "    return g"
   ]
  },
  {
   "cell_type": "code",
   "execution_count": 92,
   "metadata": {},
   "outputs": [
    {
     "ename": "KeyboardInterrupt",
     "evalue": "",
     "output_type": "error",
     "traceback": [
      "\u001b[0;31m---------------------------------------------------------------------------\u001b[0m",
      "\u001b[0;31mKeyboardInterrupt\u001b[0m                         Traceback (most recent call last)",
      "\u001b[0;32m<ipython-input-92-b059888b8f94>\u001b[0m in \u001b[0;36m<module>\u001b[0;34m()\u001b[0m\n\u001b[1;32m      1\u001b[0m \u001b[0mn_nodes\u001b[0m \u001b[0;34m=\u001b[0m \u001b[0;36m15\u001b[0m\u001b[0;34m\u001b[0m\u001b[0m\n\u001b[1;32m      2\u001b[0m \u001b[0mpop_words\u001b[0m \u001b[0;34m=\u001b[0m \u001b[0;34m[\u001b[0m\u001b[0mwc\u001b[0m\u001b[0;34m[\u001b[0m\u001b[0;36m0\u001b[0m\u001b[0;34m]\u001b[0m \u001b[0;32mfor\u001b[0m \u001b[0mwc\u001b[0m \u001b[0;32min\u001b[0m \u001b[0mcommon_words\u001b[0m\u001b[0;34m]\u001b[0m\u001b[0;34m\u001b[0m\u001b[0m\n\u001b[0;32m----> 3\u001b[0;31m \u001b[0mco_occur\u001b[0m \u001b[0;34m=\u001b[0m \u001b[0mco_occurrences\u001b[0m\u001b[0;34m(\u001b[0m\u001b[0mlist_words\u001b[0m\u001b[0;34m,\u001b[0m \u001b[0mpop_words\u001b[0m\u001b[0;34m)\u001b[0m\u001b[0;34m\u001b[0m\u001b[0m\n\u001b[0m\u001b[1;32m      4\u001b[0m \u001b[0mwgraph\u001b[0m \u001b[0;34m=\u001b[0m \u001b[0mco_occurrences_graph\u001b[0m\u001b[0;34m(\u001b[0m\u001b[0mcommon_words\u001b[0m\u001b[0;34m,\u001b[0m \u001b[0mco_occur\u001b[0m\u001b[0;34m,\u001b[0m \u001b[0mcutoff\u001b[0m\u001b[0;34m=\u001b[0m\u001b[0;36m1\u001b[0m\u001b[0;34m)\u001b[0m\u001b[0;34m\u001b[0m\u001b[0m\n\u001b[1;32m      5\u001b[0m \u001b[0;31m#wsubgraph = list(nx.connected_component_subgraphs(wgraph))[1] #we have to choose the biggest con. comp.\u001b[0m\u001b[0;34m\u001b[0m\u001b[0;34m\u001b[0m\u001b[0m\n",
      "\u001b[0;32m<ipython-input-88-e1846cc9c678>\u001b[0m in \u001b[0;36mco_occurrences\u001b[0;34m(lines, words)\u001b[0m\n\u001b[1;32m     26\u001b[0m     \u001b[0;32mfor\u001b[0m \u001b[0mw1\u001b[0m\u001b[0;34m,\u001b[0m \u001b[0mw2\u001b[0m \u001b[0;32min\u001b[0m \u001b[0mwpairs\u001b[0m\u001b[0;34m:\u001b[0m\u001b[0;34m\u001b[0m\u001b[0m\n\u001b[1;32m     27\u001b[0m         \u001b[0mrx\u001b[0m \u001b[0;34m=\u001b[0m \u001b[0mre\u001b[0m\u001b[0;34m.\u001b[0m\u001b[0mcompile\u001b[0m\u001b[0;34m(\u001b[0m\u001b[0;34m'%s .*%s|%s .*%s'\u001b[0m \u001b[0;34m%\u001b[0m \u001b[0;34m(\u001b[0m\u001b[0mw1\u001b[0m\u001b[0;34m,\u001b[0m \u001b[0mw2\u001b[0m\u001b[0;34m,\u001b[0m \u001b[0mw2\u001b[0m\u001b[0;34m,\u001b[0m \u001b[0mw1\u001b[0m\u001b[0;34m)\u001b[0m\u001b[0;34m)\u001b[0m\u001b[0;34m\u001b[0m\u001b[0m\n\u001b[0;32m---> 28\u001b[0;31m         \u001b[0mco_occur\u001b[0m\u001b[0;34m[\u001b[0m\u001b[0mw1\u001b[0m\u001b[0;34m,\u001b[0m \u001b[0mw2\u001b[0m\u001b[0;34m]\u001b[0m \u001b[0;34m=\u001b[0m \u001b[0msum\u001b[0m\u001b[0;34m(\u001b[0m\u001b[0;34m[\u001b[0m\u001b[0;36m1\u001b[0m \u001b[0;32mfor\u001b[0m \u001b[0mline\u001b[0m \u001b[0;32min\u001b[0m \u001b[0mlines\u001b[0m \u001b[0;32mif\u001b[0m \u001b[0mrx\u001b[0m\u001b[0;34m.\u001b[0m\u001b[0msearch\u001b[0m\u001b[0;34m(\u001b[0m\u001b[0mline\u001b[0m\u001b[0;34m)\u001b[0m\u001b[0;34m]\u001b[0m\u001b[0;34m)\u001b[0m\u001b[0;34m\u001b[0m\u001b[0m\n\u001b[0m\u001b[1;32m     29\u001b[0m \u001b[0;34m\u001b[0m\u001b[0m\n\u001b[1;32m     30\u001b[0m     \u001b[0;32mreturn\u001b[0m \u001b[0mco_occur\u001b[0m\u001b[0;34m\u001b[0m\u001b[0m\n",
      "\u001b[0;32m<ipython-input-88-e1846cc9c678>\u001b[0m in \u001b[0;36m<listcomp>\u001b[0;34m(.0)\u001b[0m\n\u001b[1;32m     26\u001b[0m     \u001b[0;32mfor\u001b[0m \u001b[0mw1\u001b[0m\u001b[0;34m,\u001b[0m \u001b[0mw2\u001b[0m \u001b[0;32min\u001b[0m \u001b[0mwpairs\u001b[0m\u001b[0;34m:\u001b[0m\u001b[0;34m\u001b[0m\u001b[0m\n\u001b[1;32m     27\u001b[0m         \u001b[0mrx\u001b[0m \u001b[0;34m=\u001b[0m \u001b[0mre\u001b[0m\u001b[0;34m.\u001b[0m\u001b[0mcompile\u001b[0m\u001b[0;34m(\u001b[0m\u001b[0;34m'%s .*%s|%s .*%s'\u001b[0m \u001b[0;34m%\u001b[0m \u001b[0;34m(\u001b[0m\u001b[0mw1\u001b[0m\u001b[0;34m,\u001b[0m \u001b[0mw2\u001b[0m\u001b[0;34m,\u001b[0m \u001b[0mw2\u001b[0m\u001b[0;34m,\u001b[0m \u001b[0mw1\u001b[0m\u001b[0;34m)\u001b[0m\u001b[0;34m)\u001b[0m\u001b[0;34m\u001b[0m\u001b[0m\n\u001b[0;32m---> 28\u001b[0;31m         \u001b[0mco_occur\u001b[0m\u001b[0;34m[\u001b[0m\u001b[0mw1\u001b[0m\u001b[0;34m,\u001b[0m \u001b[0mw2\u001b[0m\u001b[0;34m]\u001b[0m \u001b[0;34m=\u001b[0m \u001b[0msum\u001b[0m\u001b[0;34m(\u001b[0m\u001b[0;34m[\u001b[0m\u001b[0;36m1\u001b[0m \u001b[0;32mfor\u001b[0m \u001b[0mline\u001b[0m \u001b[0;32min\u001b[0m \u001b[0mlines\u001b[0m \u001b[0;32mif\u001b[0m \u001b[0mrx\u001b[0m\u001b[0;34m.\u001b[0m\u001b[0msearch\u001b[0m\u001b[0;34m(\u001b[0m\u001b[0mline\u001b[0m\u001b[0;34m)\u001b[0m\u001b[0;34m]\u001b[0m\u001b[0;34m)\u001b[0m\u001b[0;34m\u001b[0m\u001b[0m\n\u001b[0m\u001b[1;32m     29\u001b[0m \u001b[0;34m\u001b[0m\u001b[0m\n\u001b[1;32m     30\u001b[0m     \u001b[0;32mreturn\u001b[0m \u001b[0mco_occur\u001b[0m\u001b[0;34m\u001b[0m\u001b[0m\n",
      "\u001b[0;31mKeyboardInterrupt\u001b[0m: "
     ]
    }
   ],
   "source": [
    "n_nodes = 15\n",
    "pop_words = [wc[0] for wc in common_words]\n",
    "co_occur = co_occurrences(list_words, pop_words)\n",
    "wgraph = co_occurrences_graph(common_words, co_occur, cutoff=1)\n",
    "#wsubgraph = list(nx.connected_component_subgraphs(wgraph))[1] #we have to choose the biggest con. comp.\n",
    "#centrality = nx.eigenvector_centrality_numpy(wsubgraph)\n",
    "#c = centrality.items()\n",
    "#c.sort(key=lambda x:x[1], reverse=True)\n",
    "#print('\\nGraph centrality')\n",
    "#for node, cent in c:\n",
    "#    print(\"%15s: %.3g\" % (node, float(cent)))"
   ]
  },
  {
   "cell_type": "code",
   "execution_count": null,
   "metadata": {},
   "outputs": [],
   "source": [
    "rad0 = 0.2\n",
    "def rescale_arr(arr, amin, amax):\n",
    "    \"\"\"Rescale an array to a new range.\n",
    "    Return a new array whose range of values is (amin, amax).\n",
    "    Parameters\n",
    "    ----------\n",
    "    arr : array-like\n",
    "    amin : float\n",
    "      new minimum value\n",
    "    amax : float\n",
    "      new maximum value\n",
    "\n",
    "    Examples\n",
    "    --------\n",
    "    >>> a = np.arange(5)\n",
    "    >>> rescale_arr(a,3,6)\n",
    "    array([ 3.  ,  3.75,  4.5 ,  5.25,  6.  ])\n",
    "    \"\"\"\n",
    "    # old bounds\n",
    "    m = arr.min()\n",
    "    M = arr.max()\n",
    "    # scale/offset\n",
    "    s = float(amax-amin)/(M-m)\n",
    "    d = amin - s*m\n",
    "\n",
    "    # Apply clip before returning to cut off possible overflows outside the\n",
    "    # intended range due to roundoff error, so that we can absolutely guarantee\n",
    "    # that on output, there are no values > amax or < amin.\n",
    "    return np.clip(s*arr+d,amin,amax)\n",
    "\n",
    "def plot_graph(wgraph, pos=None, fig=None, title=None):\n",
    "    \"\"\"Conveniently summarize graph visually\"\"\"\n",
    "\n",
    "    # config parameters\n",
    "    edge_min_width= 3\n",
    "    edge_max_width= 12\n",
    "    label_font = 16\n",
    "    node_font = 18\n",
    "    node_alpha = 0.4\n",
    "    edge_alpha = 0.55\n",
    "    edge_cmap = plt.cm.Spectral\n",
    "\n",
    "    # Create figure\n",
    "    if fig is None:\n",
    "        fig, ax = plt.subplots()\n",
    "    else:\n",
    "        ax = fig.add_subplot(111)\n",
    "    fig.subplots_adjust(0,0,1)\n",
    "\n",
    "    # Plot nodes with size according to count\n",
    "    sizes = []\n",
    "    degrees = []\n",
    "    for n, d in wgraph.nodes_iter(data=True):\n",
    "        sizes.append(d['count'])\n",
    "        degrees.append(wgraph.degree(n))\n",
    "\n",
    "    sizes = rescale_arr(np.array(sizes, dtype=float), 100, 1000)\n",
    "\n",
    "    # Compute layout and label edges according to weight\n",
    "    pos = nx.spring_layout(wgraph) if pos is None else pos\n",
    "    labels = {}\n",
    "    width = []\n",
    "    for n1, n2, d in wgraph.edges_iter(data=True):\n",
    "        w = d['weight']\n",
    "        labels[n1, n2] = w\n",
    "        width.append(w)\n",
    "\n",
    "    width = rescale_arr(np.array(width, dtype=float), edge_min_width, \n",
    "                        edge_max_width)\n",
    "\n",
    "    # Draw\n",
    "    nx.draw_networkx_nodes(wgraph, pos, node_size=sizes, node_color=degrees,alpha=node_alpha)\n",
    "    nx.draw_networkx_edges(wgraph, pos, width=width, edge_color=width, edge_cmap=edge_cmap, alpha=edge_alpha)\n",
    "    nx.draw_networkx_edge_labels(wgraph, pos, edge_labels=labels,font_size=label_font)\n",
    "    nx.draw_networkx_labels(wgraph, pos, font_size=node_font, font_weight='bold')\n",
    "    if title is not None:\n",
    "        ax.set_title(title, fontsize=label_font)\n",
    "    ax.set_xticks([])\n",
    "    ax.set_yticks([])\n",
    "\n",
    "    # Mark centrality axes\n",
    "    kw = dict(color='k', linestyle='-')\n",
    "    cross = [ax.axhline(0, **kw), ax.axvline(rad0, **kw)]\n",
    "    [ l.set_zorder(0) for l in cross]\n",
    "    \n",
    "def centrality_layout(wgraph, centrality):\n",
    "    \"\"\"Compute a layout based on centrality.\n",
    "    \"\"\"\n",
    "    # Create a list of centralities, sorted by centrality value\n",
    "    cent = sorted(centrality.items(), key=lambda x:float(x[1]), reverse=True)\n",
    "    nodes = [c[0] for c in cent]\n",
    "    cent  = np.array([float(c[1]) for c in cent])\n",
    "    rad = (cent - cent[0])/(cent[-1]-cent[0])\n",
    "    rad = rescale_arr(rad, rad0, 1)\n",
    "    angles = np.linspace(0, 2*np.pi, len(centrality))\n",
    "    layout = {}\n",
    "    for n, node in enumerate(nodes):\n",
    "        r = rad[n]\n",
    "        th = angles[n]\n",
    "        layout[node] = r*np.cos(th), r*np.sin(th)\n",
    "    return layout"
   ]
  },
  {
   "cell_type": "code",
   "execution_count": null,
   "metadata": {},
   "outputs": [],
   "source": [
    "print \"Graph visualization for query:\"\n",
    "plot_graph(wsubgraph, centrality_layout(wsubgraph, centrality), \n",
    "           plt.figure(figsize=(12,12)), \n",
    "           title = u'Centrality and term co-occurrence graph, q=\"{}\"'.format(query))"
   ]
  },
  {
   "cell_type": "code",
   "execution_count": null,
   "metadata": {},
   "outputs": [],
   "source": []
  },
  {
   "cell_type": "code",
   "execution_count": null,
   "metadata": {},
   "outputs": [],
   "source": [
    "def score_sentences(sentences, important_words):\n",
    "    # Approach taken from \"The Automatic Creation of Literature Abstracts\" by H.P. Luhn\n",
    "    CLUSTER_THRESHOLD = 5  # Distance between words to consider\n",
    "    scores = []\n",
    "    sentence_idx = -1\n",
    "    #for s in [nltk.tokenize.word_tokenize(s) for s in sentences]:\n",
    "    punktw2 = nltk.tokenize.WordPunctTokenizer() #trocando pelo punkt (melhor?)\n",
    "    for s in [punktw2.tokenize(s) for s in sentences]:    \n",
    "        sentence_idx += 1\n",
    "        word_idx = []\n",
    "        # For each word in the word list...\n",
    "        for w in important_words:\n",
    "            try:\n",
    "                # Compute an index for where any important words occur in the sentence\n",
    "                word_idx.append(s.index(w))\n",
    "            except ValueError as e: # w not in this particular sentence\n",
    "                pass\n",
    "        word_idx.sort()\n",
    "        # It is possible that some sentences may not contain any important words at all\n",
    "        if len(word_idx)== 0: continue\n",
    "        # Using the word index, compute clusters by using a max distance threshold\n",
    "        # for any two consecutive words\n",
    "        clusters = []\n",
    "        cluster = [word_idx[0]]\n",
    "        i = 1\n",
    "        while i < len(word_idx):\n",
    "            if word_idx[i] - word_idx[i - 1] < CLUSTER_THRESHOLD:\n",
    "                cluster.append(word_idx[i])\n",
    "            else:\n",
    "                clusters.append(cluster[:])\n",
    "                cluster = [word_idx[i]]\n",
    "            i += 1\n",
    "        clusters.append(cluster)\n",
    "        # Score each cluster. The max score for any given cluster is the score \n",
    "        # for the sentence\n",
    "        max_cluster_score = 0\n",
    "        for c in clusters:\n",
    "            significant_words_in_cluster = len(c)\n",
    "            total_words_in_cluster = c[-1] - c[0] + 1\n",
    "            score = 1.0 * significant_words_in_cluster \\\n",
    "                * significant_words_in_cluster / total_words_in_cluster\n",
    "            if score > max_cluster_score:\n",
    "                max_cluster_score = score\n",
    "        scores.append((sentence_idx, score))\n",
    "    return scores"
   ]
  },
  {
   "cell_type": "code",
   "execution_count": null,
   "metadata": {},
   "outputs": [],
   "source": [
    "def summarize(txt):\n",
    "    N = 100  # Number of words to consider\n",
    "    punkts = nltk.tokenize.PunktSentenceTokenizer() #trocando pelo punkt (melhor?)\n",
    "    punktw = nltk.tokenize.WordPunctTokenizer() #trocando pelo punkt (melhor?)\n",
    "    #sentences = [s for s in nltk.tokenize.sent_tokenize(txt)]\n",
    "    sentences = [s for s in punkts.tokenize(txt)]\n",
    "    normalized_sentences = [s.lower() for s in sentences]\n",
    "    words = [w.lower() for sentence in normalized_sentences for w in punktw.tokenize(sentence)]\n",
    "    fdist = nltk.FreqDist(words)\n",
    "    top_n_words = [w[0] for w in fdist.items() if w[0] not in stopwords][:N]\n",
    "    scored_sentences = score_sentences(normalized_sentences, top_n_words)\n",
    "    return sentences, top_n_words, scored_sentences"
   ]
  },
  {
   "cell_type": "code",
   "execution_count": null,
   "metadata": {},
   "outputs": [],
   "source": [
    "sentences, top_n_words, scored_sentences = summarize(text0)\n",
    "print(top_n_words)"
   ]
  },
  {
   "cell_type": "code",
   "execution_count": null,
   "metadata": {},
   "outputs": [],
   "source": [
    "# First approach:\n",
    "# Filter out non-significant sentences by using the average score plus a\n",
    "# fraction of the std dev as a filter\n",
    "avg = np.mean([s[1] for s in scored_sentences])\n",
    "std = np.std([s[1] for s in scored_sentences])\n",
    "mean_scored = [(sent_idx, score) for (sent_idx, score) in scored_sentences if score > avg + 0.5 * std]\n",
    "mean_scored_summary=[sentences[idx] for (idx, score) in mean_scored]\n",
    "mean_scored_summary = list(set(mean_scored_summary))\n",
    "\n",
    "for s in mean_scored_summary[0:10]:\n",
    "    print(s, '\\n')"
   ]
  },
  {
   "cell_type": "code",
   "execution_count": null,
   "metadata": {},
   "outputs": [],
   "source": [
    "# Second Approach: \n",
    "# Return only the top N ranked sentences\n",
    "TOP_SENTENCES = 10  # Number of sentences to choose on \"top n\"\n",
    "top_n_scored = sorted(scored_sentences, key=lambda s: s[1])[-TOP_SENTENCES:]\n",
    "top_n_scored = sorted(top_n_scored, key=lambda s: s[0])\n",
    "top_n_summary=[sentences[idx] for (idx, score) in top_n_scored]\n",
    "top_n_summary = list(set(top_n_summary))\n",
    "\n",
    "for s in top_n_summary[0:10]:\n",
    "    print(s, '\\n')"
   ]
  },
  {
   "cell_type": "code",
   "execution_count": null,
   "metadata": {},
   "outputs": [],
   "source": []
  },
  {
   "cell_type": "code",
   "execution_count": null,
   "metadata": {},
   "outputs": [],
   "source": []
  },
  {
   "cell_type": "markdown",
   "metadata": {},
   "source": [
    "#### [Goose](https://github.com/goose3/goose3)\n",
    "\n",
    "Extracting text from html pages  "
   ]
  },
  {
   "cell_type": "code",
   "execution_count": null,
   "metadata": {},
   "outputs": [],
   "source": [
    "from goose3 import Goose\n",
    "\n",
    "url = 'http://edition.cnn.com/2012/02/22/world/europe/uk-occupy-london/index.html?hpt=ieu_c2'\n",
    "g = Goose(Goose({'use_meta_language': False, 'target_language':'en', 'parser_class':'lxml'}))\n",
    "\n",
    "article = g.extract(url=url)"
   ]
  },
  {
   "cell_type": "code",
   "execution_count": null,
   "metadata": {},
   "outputs": [],
   "source": [
    "article.title"
   ]
  },
  {
   "cell_type": "code",
   "execution_count": null,
   "metadata": {},
   "outputs": [],
   "source": [
    "article.meta_description"
   ]
  },
  {
   "cell_type": "code",
   "execution_count": null,
   "metadata": {},
   "outputs": [],
   "source": [
    "article.cleaned_text[:150]"
   ]
  },
  {
   "cell_type": "code",
   "execution_count": null,
   "metadata": {
    "scrolled": true
   },
   "outputs": [],
   "source": [
    "article.top_image.src"
   ]
  },
  {
   "cell_type": "markdown",
   "metadata": {},
   "source": [
    "#### [Textblob](http://textblob.readthedocs.io/en/dev/)\n",
    "\n",
    "https://www.analyticsvidhya.com/blog/2018/02/natural-language-processing-for-beginners-using-textblob/\n",
    "\n",
    "Installing:  \n",
    "\n",
    "!sudo pip3 install -U textblob  \n",
    "!python -m textblob.download_corpora"
   ]
  },
  {
   "cell_type": "code",
   "execution_count": null,
   "metadata": {},
   "outputs": [],
   "source": [
    "from textblob import TextBlob\n",
    "from textblob import Word\n",
    "\n",
    "text = '''\n",
    "The titular threat of The Blob has always struck me as the ultimate movie\n",
    "monster: an insatiably hungry, amoeba-like mass able to penetrate\n",
    "virtually any safeguard, capable of--as a doomed doctor chillingly\n",
    "describes it--\"assimilating flesh on contact.\n",
    "Snide comparisons to gelatin be damned, it's a concept with the most\n",
    "devastating of potential consequences, not unlike the grey goo scenario\n",
    "proposed by technological theorists fearful of\n",
    "artificial intelligence run rampant.\n",
    "'''\n",
    "\n",
    "text_pt = '''\n",
    "Com uma abordagem inédita, o curso de Mestrado em Modelagem Matemática \n",
    "integra à Matemática Aplicada o corpo de conhecimentos das Ciências da \n",
    "Computação e da Informação, com contextos de aplicações das ciências \n",
    "sociais, econômicas, biológicas e da saúde. O curso possibilita ao \n",
    "mestrando desenvolver a capacidade de analisar cenários e dar suporte \n",
    "à tomada de decisões em situações de uso intensivo de dados e informações, \n",
    "além de ter o objetivo de formar excelentes pesquisadores na área.\n",
    "'''"
   ]
  },
  {
   "cell_type": "code",
   "execution_count": null,
   "metadata": {},
   "outputs": [],
   "source": [
    "blob = TextBlob(text)\n",
    "blob_pt = TextBlob(text_pt)"
   ]
  },
  {
   "cell_type": "code",
   "execution_count": null,
   "metadata": {},
   "outputs": [],
   "source": [
    "blob.sentences"
   ]
  },
  {
   "cell_type": "code",
   "execution_count": null,
   "metadata": {},
   "outputs": [],
   "source": [
    "blob_pt.sentences"
   ]
  },
  {
   "cell_type": "code",
   "execution_count": null,
   "metadata": {},
   "outputs": [],
   "source": [
    "blob.sentences[1].words"
   ]
  },
  {
   "cell_type": "markdown",
   "metadata": {},
   "source": [
    "Functions applied to the Word object:  "
   ]
  },
  {
   "cell_type": "code",
   "execution_count": null,
   "metadata": {},
   "outputs": [],
   "source": [
    "blob.sentences[1].words.singularize()"
   ]
  },
  {
   "cell_type": "code",
   "execution_count": null,
   "metadata": {},
   "outputs": [],
   "source": [
    "w = Word('Platform')\n",
    "w.pluralize()"
   ]
  },
  {
   "cell_type": "markdown",
   "metadata": {},
   "source": [
    "Lemmatization  "
   ]
  },
  {
   "cell_type": "code",
   "execution_count": null,
   "metadata": {},
   "outputs": [],
   "source": [
    "w = Word('running')\n",
    "w.lemmatize(\"v\") ## v here represents verb"
   ]
  },
  {
   "cell_type": "markdown",
   "metadata": {},
   "source": [
    "POS tags  "
   ]
  },
  {
   "cell_type": "code",
   "execution_count": null,
   "metadata": {},
   "outputs": [],
   "source": [
    "blob.tags[0:10]"
   ]
  },
  {
   "cell_type": "code",
   "execution_count": null,
   "metadata": {},
   "outputs": [],
   "source": [
    "blob_pt.tags[0:10]"
   ]
  },
  {
   "cell_type": "markdown",
   "metadata": {},
   "source": [
    "Ngrams  "
   ]
  },
  {
   "cell_type": "code",
   "execution_count": null,
   "metadata": {},
   "outputs": [],
   "source": [
    "for ngram in blob.ngrams(2):\n",
    "    print(ngram)"
   ]
  },
  {
   "cell_type": "markdown",
   "metadata": {},
   "source": [
    "Noun Phrase Extraction"
   ]
  },
  {
   "cell_type": "code",
   "execution_count": null,
   "metadata": {},
   "outputs": [],
   "source": [
    "blob.noun_phrases"
   ]
  },
  {
   "cell_type": "code",
   "execution_count": null,
   "metadata": {},
   "outputs": [],
   "source": [
    "blob_pt.noun_phrases"
   ]
  },
  {
   "cell_type": "markdown",
   "metadata": {},
   "source": [
    "Sentiment Analysis  "
   ]
  },
  {
   "cell_type": "code",
   "execution_count": null,
   "metadata": {},
   "outputs": [],
   "source": [
    "for sentence in blob.sentences:\n",
    "    print(sentence.sentiment.polarity)"
   ]
  },
  {
   "cell_type": "markdown",
   "metadata": {},
   "source": [
    "Translation"
   ]
  },
  {
   "cell_type": "code",
   "execution_count": null,
   "metadata": {},
   "outputs": [],
   "source": [
    "blob.translate(to=\"pt\")"
   ]
  },
  {
   "cell_type": "markdown",
   "metadata": {},
   "source": [
    "Detecting language"
   ]
  },
  {
   "cell_type": "code",
   "execution_count": null,
   "metadata": {},
   "outputs": [],
   "source": [
    "blob_pt.detect_language()"
   ]
  },
  {
   "cell_type": "markdown",
   "metadata": {},
   "source": [
    "Spellcheck"
   ]
  },
  {
   "cell_type": "code",
   "execution_count": null,
   "metadata": {},
   "outputs": [],
   "source": [
    "blob = TextBlob('FGV is the bist think tenk in the word!')\n",
    "blob.correct()"
   ]
  },
  {
   "cell_type": "code",
   "execution_count": null,
   "metadata": {},
   "outputs": [],
   "source": [
    "blob.words[5].spellcheck()"
   ]
  },
  {
   "cell_type": "markdown",
   "metadata": {},
   "source": [
    "Text classification"
   ]
  },
  {
   "cell_type": "code",
   "execution_count": null,
   "metadata": {},
   "outputs": [],
   "source": [
    "training = [\n",
    "('Tom Holland is a terrible spiderman.','pos'),\n",
    "('a terrible Javert (Russell Crowe) ruined Les Miserables for me...','pos'),\n",
    "('The Dark Knight Rises is the greatest superhero movie ever!','neg'),\n",
    "('Fantastic Four should have never been made.','pos'),\n",
    "('Wes Anderson is my favorite director!','neg'),\n",
    "('Captain America 2 is pretty awesome.','neg'),\n",
    "('Let\\s pretend \"Batman and Robin\" never happened..','pos'),\n",
    "]\n",
    "\n",
    "testing = [\n",
    "('Superman was never an interesting character.','pos'),\n",
    "('Fantastic Mr Fox is an awesome film!','neg'),\n",
    "('Dragonball Evolution is simply terrible!!','pos')\n",
    "]"
   ]
  },
  {
   "cell_type": "code",
   "execution_count": null,
   "metadata": {},
   "outputs": [],
   "source": [
    "from textblob import classifiers\n",
    "nb_classifier = classifiers.NaiveBayesClassifier(training)\n",
    "dt_classifier = classifiers.DecisionTreeClassifier(training)"
   ]
  },
  {
   "cell_type": "code",
   "execution_count": null,
   "metadata": {},
   "outputs": [],
   "source": [
    "print (nb_classifier.accuracy(testing))"
   ]
  },
  {
   "cell_type": "code",
   "execution_count": null,
   "metadata": {},
   "outputs": [],
   "source": [
    "nb_classifier.show_informative_features(3)"
   ]
  },
  {
   "cell_type": "code",
   "execution_count": null,
   "metadata": {},
   "outputs": [],
   "source": [
    "blob = TextBlob('the weather is terrible!', classifier=dt_classifier)\n",
    "print (blob.classify())"
   ]
  },
  {
   "cell_type": "markdown",
   "metadata": {},
   "source": [
    "#### Basic Polarizing Functions for Sentiment Analysis"
   ]
  },
  {
   "cell_type": "markdown",
   "metadata": {},
   "source": [
    "Loading the polarized lexycom file - OpLexicon (BR)"
   ]
  },
  {
   "cell_type": "code",
   "execution_count": null,
   "metadata": {},
   "outputs": [],
   "source": [
    "df_o = pd.read_csv(os.path.join(datapath,oplexicon), header=None, encoding='utf-8', usecols=[0,2], names=[u'palavra',u'polaridade'])\n",
    "df_o.drop_duplicates(subset=[u'palavra'], keep='first', inplace=True)\n",
    "df_o = df_o.set_index(u'palavra')\n",
    "print(u'Corpus com {} palavras polarizadas'.format(len(df_o)))"
   ]
  },
  {
   "cell_type": "code",
   "execution_count": null,
   "metadata": {},
   "outputs": [],
   "source": [
    "def polariza_texto(texto, df1):\n",
    "    polaridades = []\n",
    "    ausentes = []\n",
    "    l_palavras = texto.split()\n",
    "    for palavra in l_palavras:\n",
    "        p = palavra.lower().strip()\n",
    "        if p in df1.index:\n",
    "            polaridades.append(df1.polaridade[p])\n",
    "        else:\n",
    "            ausentes.append(p)\n",
    "    num_pal = len(l_palavras)\n",
    "    num_pol = len(polaridades)\n",
    "    razao_pol = num_pol/float(num_pal) if num_pal else 0.0\n",
    "    polaridade = sum(polaridades)/float(num_pol) if num_pol else 0.0\n",
    "    #print('Foram polarizadas {} palavras de um total de {} ({:.2%})'.format(num_pol, num_pal, razao_pol))\n",
    "    #print('A polaridade mensurada do texto é de {:.3}'.format(polaridade))\n",
    "    return polaridade, ausentes"
   ]
  },
  {
   "cell_type": "code",
   "execution_count": null,
   "metadata": {},
   "outputs": [],
   "source": [
    "def polariza_counter(dicionario, df1):\n",
    "    polaridades = []\n",
    "    fator_div = 0\n",
    "    ausentes = []\n",
    "    for palavra, frequencia in dicionario.iteritems():\n",
    "        p = palavra.lower().strip()\n",
    "        if p in df1.index:\n",
    "            polaridades.append(df1.polaridade[p] * frequencia)\n",
    "            fator_div += frequencia\n",
    "        else:\n",
    "            ausentes.append((palavra,frequencia))\n",
    "    num_pal = len(dicionario)\n",
    "    num_pol = len(polaridades)\n",
    "    razao_pol = num_pol/float(num_pal) if num_pal else 0.0\n",
    "    polaridade = sum(polaridades)/float(fator_div)\n",
    "    print('Foram polarizadas {} palavras de um total de {} ({:.2%})'.format(num_pol, num_pal, razao_pol))\n",
    "    print('A polaridade mensurada do texto é de {:.3}'.format(polaridade))\n",
    "    return polaridade, ausentes"
   ]
  },
  {
   "cell_type": "markdown",
   "metadata": {},
   "source": [
    "Extração de palavras relevantes usando TF-IDf  \n",
    "http://radimrehurek.com/gensim/models/tfidfmodel.html  \n",
    "http://radimrehurek.com/gensim/tutorial.html  \n",
    "http://radimrehurek.com/gensim/tut2.html  "
   ]
  },
  {
   "cell_type": "code",
   "execution_count": null,
   "metadata": {},
   "outputs": [],
   "source": [
    "tokens_once = [key for key in freq_words.keys() if freq_words[key]==1]\n",
    "texts = [[word.strip(string.punctuation) for word in document.lower().split() if word not in ignore_words]\n",
    "         for document in list_raw_texts]\n",
    "texts = [[word for word in text if word not in tokens_once and len(word) > 1] for text in texts]\n",
    "dictionary = gensim.corpora.Dictionary(texts)\n",
    "corpus = [dictionary.doc2bow(text) for text in texts]\n",
    "tfidf = gensim.models.TfidfModel(corpus)\n",
    "corpus_tfidf = tfidf[corpus]"
   ]
  },
  {
   "cell_type": "code",
   "execution_count": null,
   "metadata": {},
   "outputs": [],
   "source": [
    "x = 1\n",
    "for doc in corpus_tfidf:\n",
    "    print(u'\\nRelevant Words in Document {}:\\n'.format(x))\n",
    "    relev = 0\n",
    "    top_w = ''\n",
    "    x+=1\n",
    "    for w_in_dic, tfidf_w in doc:\n",
    "        if tfidf_w > relev:\n",
    "            top_w = w_in_dic\n",
    "            relev = tfidf_w\n",
    "    if top_w != '' and relev > 0:\n",
    "        print('{}\\t{}'.format(dictionary[top_w], relev)) #Rever questão do UTF-8\n",
    "    else:\n",
    "        print('Nothing relevant')"
   ]
  }
 ],
 "metadata": {
  "kernelspec": {
   "display_name": "Python 3",
   "language": "python",
   "name": "python3"
  },
  "language_info": {
   "codemirror_mode": {
    "name": "ipython",
    "version": 3
   },
   "file_extension": ".py",
   "mimetype": "text/x-python",
   "name": "python",
   "nbconvert_exporter": "python",
   "pygments_lexer": "ipython3",
   "version": "3.6.3"
  }
 },
 "nbformat": 4,
 "nbformat_minor": 2
}
