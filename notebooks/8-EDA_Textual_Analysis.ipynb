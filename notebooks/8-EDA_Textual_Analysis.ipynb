{
 "cells": [
  {
   "cell_type": "markdown",
   "metadata": {},
   "source": [
    "## Introduction to Data Science\n",
    "\n",
    "### Textual Analysis  "
   ]
  },
  {
   "cell_type": "code",
   "execution_count": 34,
   "metadata": {},
   "outputs": [],
   "source": [
    "import os\n",
    "import pathlib\n",
    "import time\n",
    "import codecs\n",
    "import string\n",
    "import re\n",
    "from collections import Counter\n",
    "\n",
    "import numpy as np\n",
    "import matplotlib.pyplot as plt\n",
    "import pandas as pd\n",
    "\n",
    "import urllib\n",
    "import requests\n",
    "from bs4 import BeautifulSoup\n",
    "\n",
    "import nltk\n",
    "import networkx as nx\n",
    "import gensim\n",
    "from wordcloud import WordCloud\n",
    "import textract\n",
    "\n",
    "from IPython.core.display import Image\n",
    "%matplotlib inline"
   ]
  },
  {
   "cell_type": "markdown",
   "metadata": {},
   "source": [
    "Specifying the path to the files"
   ]
  },
  {
   "cell_type": "code",
   "execution_count": 2,
   "metadata": {},
   "outputs": [],
   "source": [
    "datapath = pathlib.Path(\"../datasets/\")\n",
    "outputs = pathlib.Path(\"../outputs/\")\n",
    "\n",
    "oplexicon = 'oplexicon_v3.0/lexico_v3.0.txt'"
   ]
  },
  {
   "cell_type": "markdown",
   "metadata": {},
   "source": [
    "Examinando os arquivos e pastas:"
   ]
  },
  {
   "cell_type": "code",
   "execution_count": 30,
   "metadata": {},
   "outputs": [
    {
     "data": {
      "text/plain": [
       "['CSVs',\n",
       " 'AVidhya',\n",
       " 'Miscellaneous',\n",
       " 'Names',\n",
       " 'Oplexicon_v3.0',\n",
       " 'Texts',\n",
       " 'Figs']"
      ]
     },
     "execution_count": 30,
     "metadata": {},
     "output_type": "execute_result"
    }
   ],
   "source": [
    "onlydirs = [f for f in os.listdir(datapath) if os.path.isdir(os.path.join(datapath,f)) and not f.startswith('.')]\n",
    "onlydirs"
   ]
  },
  {
   "cell_type": "code",
   "execution_count": 37,
   "metadata": {},
   "outputs": [
    {
     "name": "stdout",
     "output_type": "stream",
     "text": [
      "Files in the folder:\n",
      "1 -- ARTIGOS-RBE-COM-RESUMO.xlsx\n",
      "2 -- AldousHuxley_bravenewworld.pdf\n",
      "3 -- MarcelProust_EmBuscadoTempoPerdido.pdf\n",
      "4 -- RobertFrost_Poetry.pdf\n"
     ]
    }
   ],
   "source": [
    "corpuspath = datapath / 'Texts'\n",
    "onlyfiles = [f for f in os.listdir(corpuspath) if os.path.isfile(os.path.join(corpuspath,f)) and not f.startswith('.')]\n",
    "onlydirs.sort()\n",
    "\n",
    "print('Files in the folder:')\n",
    "for i, w in enumerate(onlyfiles[0:]):\n",
    "    print(i+1, '--' ,w)"
   ]
  },
  {
   "cell_type": "markdown",
   "metadata": {},
   "source": [
    "Loading first corpus:"
   ]
  },
  {
   "cell_type": "code",
   "execution_count": 12,
   "metadata": {},
   "outputs": [
    {
     "data": {
      "text/html": [
       "<div>\n",
       "<style scoped>\n",
       "    .dataframe tbody tr th:only-of-type {\n",
       "        vertical-align: middle;\n",
       "    }\n",
       "\n",
       "    .dataframe tbody tr th {\n",
       "        vertical-align: top;\n",
       "    }\n",
       "\n",
       "    .dataframe thead th {\n",
       "        text-align: right;\n",
       "    }\n",
       "</style>\n",
       "<table border=\"1\" class=\"dataframe\">\n",
       "  <thead>\n",
       "    <tr style=\"text-align: right;\">\n",
       "      <th></th>\n",
       "      <th>N</th>\n",
       "      <th>Revista</th>\n",
       "      <th>Título do artigo</th>\n",
       "      <th>Resumo</th>\n",
       "      <th>Volume</th>\n",
       "      <th>Número</th>\n",
       "      <th>Ano</th>\n",
       "      <th>Autores</th>\n",
       "      <th>Nº de Autores</th>\n",
       "      <th>URL</th>\n",
       "    </tr>\n",
       "  </thead>\n",
       "  <tbody>\n",
       "    <tr>\n",
       "      <th>0</th>\n",
       "      <td>1</td>\n",
       "      <td>Revista Brasileira de Economia</td>\n",
       "      <td>Miséria ou Abundância: Alguns Modelos de Cresc...</td>\n",
       "      <td>NaN</td>\n",
       "      <td>20</td>\n",
       "      <td>1</td>\n",
       "      <td>1966</td>\n",
       "      <td>Kingston, Lúcia Silva</td>\n",
       "      <td>1</td>\n",
       "      <td>http://bibliotecadigital.fgv.br/ojs/index.php/...</td>\n",
       "    </tr>\n",
       "    <tr>\n",
       "      <th>1</th>\n",
       "      <td>2</td>\n",
       "      <td>Revista Brasileira de Economia</td>\n",
       "      <td>Comentário sobre o Modelo Econométrico de Tint...</td>\n",
       "      <td>NaN</td>\n",
       "      <td>25</td>\n",
       "      <td>1</td>\n",
       "      <td>1971</td>\n",
       "      <td>Fioravante, Moacyr;Naylor, Thomas H.;Monteiro,...</td>\n",
       "      <td>3</td>\n",
       "      <td>http://bibliotecadigital.fgv.br/ojs/index.php/...</td>\n",
       "    </tr>\n",
       "    <tr>\n",
       "      <th>2</th>\n",
       "      <td>3</td>\n",
       "      <td>Revista Brasileira de Economia</td>\n",
       "      <td>Modernização e desigualdade na agricultura bra...</td>\n",
       "      <td>NaN</td>\n",
       "      <td>43</td>\n",
       "      <td>2</td>\n",
       "      <td>1989</td>\n",
       "      <td>Hoffmann, Rodolfo;Kassouf, Ana Lúcia</td>\n",
       "      <td>2</td>\n",
       "      <td>http://bibliotecadigital.fgv.br/ojs/index.php/...</td>\n",
       "    </tr>\n",
       "    <tr>\n",
       "      <th>3</th>\n",
       "      <td>4</td>\n",
       "      <td>Revista Brasileira de Economia</td>\n",
       "      <td>Optimal Insider Strategy with Law Penalties</td>\n",
       "      <td>We study the optimal continuous trading strate...</td>\n",
       "      <td>70</td>\n",
       "      <td>1</td>\n",
       "      <td>2016</td>\n",
       "      <td>Fajardo, Jose</td>\n",
       "      <td>1</td>\n",
       "      <td>http://bibliotecadigital.fgv.br/ojs/index.php/...</td>\n",
       "    </tr>\n",
       "    <tr>\n",
       "      <th>4</th>\n",
       "      <td>5</td>\n",
       "      <td>Revista Brasileira de Economia</td>\n",
       "      <td>Demands for Short-Run Assets and Liabilities i...</td>\n",
       "      <td>NaN</td>\n",
       "      <td>60</td>\n",
       "      <td>1</td>\n",
       "      <td>2006</td>\n",
       "      <td>Silva, Evandro;Resende, Marcelo</td>\n",
       "      <td>2</td>\n",
       "      <td>http://bibliotecadigital.fgv.br/ojs/index.php/...</td>\n",
       "    </tr>\n",
       "  </tbody>\n",
       "</table>\n",
       "</div>"
      ],
      "text/plain": [
       "   N                         Revista  \\\n",
       "0  1  Revista Brasileira de Economia   \n",
       "1  2  Revista Brasileira de Economia   \n",
       "2  3  Revista Brasileira de Economia   \n",
       "3  4  Revista Brasileira de Economia   \n",
       "4  5  Revista Brasileira de Economia   \n",
       "\n",
       "                                    Título do artigo  \\\n",
       "0  Miséria ou Abundância: Alguns Modelos de Cresc...   \n",
       "1  Comentário sobre o Modelo Econométrico de Tint...   \n",
       "2  Modernização e desigualdade na agricultura bra...   \n",
       "3        Optimal Insider Strategy with Law Penalties   \n",
       "4  Demands for Short-Run Assets and Liabilities i...   \n",
       "\n",
       "                                              Resumo  Volume Número   Ano  \\\n",
       "0                                                NaN      20      1  1966   \n",
       "1                                                NaN      25      1  1971   \n",
       "2                                                NaN      43      2  1989   \n",
       "3  We study the optimal continuous trading strate...      70      1  2016   \n",
       "4                                                NaN      60      1  2006   \n",
       "\n",
       "                                             Autores  Nº de Autores  \\\n",
       "0                              Kingston, Lúcia Silva              1   \n",
       "1  Fioravante, Moacyr;Naylor, Thomas H.;Monteiro,...              3   \n",
       "2               Hoffmann, Rodolfo;Kassouf, Ana Lúcia              2   \n",
       "3                                      Fajardo, Jose              1   \n",
       "4                    Silva, Evandro;Resende, Marcelo              2   \n",
       "\n",
       "                                                 URL  \n",
       "0  http://bibliotecadigital.fgv.br/ojs/index.php/...  \n",
       "1  http://bibliotecadigital.fgv.br/ojs/index.php/...  \n",
       "2  http://bibliotecadigital.fgv.br/ojs/index.php/...  \n",
       "3  http://bibliotecadigital.fgv.br/ojs/index.php/...  \n",
       "4  http://bibliotecadigital.fgv.br/ojs/index.php/...  "
      ]
     },
     "execution_count": 12,
     "metadata": {},
     "output_type": "execute_result"
    }
   ],
   "source": [
    "df = pd.read_excel(os.path.join(corpuspath, 'ARTIGOS-RBE-COM-RESUMO.xlsx'))\n",
    "df.head()"
   ]
  },
  {
   "cell_type": "code",
   "execution_count": 13,
   "metadata": {},
   "outputs": [
    {
     "data": {
      "text/plain": [
       "Index(['N', 'Revista', 'Título do artigo', 'Resumo', 'Volume', 'Número', 'Ano',\n",
       "       'Autores', 'Nº de Autores', 'URL'],\n",
       "      dtype='object')"
      ]
     },
     "execution_count": 13,
     "metadata": {},
     "output_type": "execute_result"
    }
   ],
   "source": [
    "df.columns"
   ]
  },
  {
   "cell_type": "code",
   "execution_count": 14,
   "metadata": {},
   "outputs": [
    {
     "name": "stdout",
     "output_type": "stream",
     "text": [
      "<class 'pandas.core.frame.DataFrame'>\n",
      "RangeIndex: 1556 entries, 0 to 1555\n",
      "Data columns (total 10 columns):\n",
      "N                   1556 non-null int64\n",
      "Revista             1556 non-null object\n",
      "Título do artigo    1556 non-null object\n",
      "Resumo              330 non-null object\n",
      "Volume              1556 non-null int64\n",
      "Número              1556 non-null object\n",
      "Ano                 1556 non-null int64\n",
      "Autores             1556 non-null object\n",
      "Nº de Autores       1556 non-null int64\n",
      "URL                 1556 non-null object\n",
      "dtypes: int64(4), object(6)\n",
      "memory usage: 121.6+ KB\n"
     ]
    }
   ],
   "source": [
    "df.info()"
   ]
  },
  {
   "cell_type": "code",
   "execution_count": 16,
   "metadata": {},
   "outputs": [
    {
     "data": {
      "text/plain": [
       "'Miséria ou Abundância: Alguns Modelos de Crescimento para Economias Subdesenvolvidas Comentário sobre o Modelo Econométrico de Tinther, para o Brasil Modernização e desigualdade na agricultura brasileira Optimal Insider Strategy with Law Penalties Demands for Short-Run Assets and Liabilities in Brazil: a Portfolio Approach Alguns Reparos sobre a Teoria do Multiplicador INTRODUÇÃO: ORIGENS HISTÓRICAS DO SUBDESENVOLVIMENTO CONTEMPORÂNEO Princípios para a reformulação da política comercial brasileira A reforma da economia socialista: lições dos primeiros três anos Intensidades fatoriais na economia brasileira: novo teste empírico do teorema de Heckscher-Ohlin Algumas Considerações sobre as Fases do Desenvolvimento Econõmico Poupança e crescimento econômico Padrões de Convergência e Divergência do Crescimento Econômico Regional e das Migrações no Brasil - 1940-1960 Octavio Gouveia de Bulhões - Orientação e Controle da Economia The Economic Theory of Regulation: the Case of Agrarian Reform '"
      ]
     },
     "execution_count": 16,
     "metadata": {},
     "output_type": "execute_result"
    }
   ],
   "source": [
    "df['texto'] = df['Título do artigo'] + \" \"\n",
    "textos = df['texto'].sum()\n",
    "textos[0:1000]"
   ]
  },
  {
   "cell_type": "code",
   "execution_count": 19,
   "metadata": {},
   "outputs": [],
   "source": [
    "stop_pt = nltk.corpus.stopwords.words('portuguese')\n",
    "stop_en = nltk.corpus.stopwords.words('english')\n",
    "stopwords = stop_en + stop_pt\n",
    "stopwords.extend(['-',''])"
   ]
  },
  {
   "cell_type": "code",
   "execution_count": 20,
   "metadata": {},
   "outputs": [
    {
     "data": {
      "text/plain": [
       "[('brasil', 271),\n",
       " ('sobre', 141),\n",
       " ('brasileira', 96),\n",
       " ('desenvolvimento', 96),\n",
       " ('política', 87),\n",
       " ('economia', 87),\n",
       " ('econômico', 85),\n",
       " ('análise', 82),\n",
       " ('inflação', 74),\n",
       " ('brazil', 66),\n",
       " ('econômica', 59),\n",
       " ('modelo', 53),\n",
       " ('renda', 50),\n",
       " ('preços', 50),\n",
       " ('monetária', 50),\n",
       " ('crescimento', 49),\n",
       " ('teoria', 48),\n",
       " ('brasileiro', 48),\n",
       " ('brazilian', 46),\n",
       " ('mercado', 44),\n",
       " ('caso', 41),\n",
       " ('agricultura', 40),\n",
       " ('plano', 38),\n",
       " ('capital', 34),\n",
       " ('fiscal', 33),\n",
       " ('nota', 31),\n",
       " ('indústria', 31),\n",
       " ('efeitos', 29),\n",
       " ('inflation', 29),\n",
       " ('avaliação', 28)]"
      ]
     },
     "execution_count": 20,
     "metadata": {},
     "output_type": "execute_result"
    }
   ],
   "source": [
    "lista = textos.split()\n",
    "lista = [l.strip().lower() for l in lista]\n",
    "lista = [l.strip(string.punctuation) for l in lista]\n",
    "lista = [l for l in lista if l not in stopwords]\n",
    "\n",
    "freqdist = Counter(lista)\n",
    "freqdist.most_common(30)"
   ]
  },
  {
   "cell_type": "code",
   "execution_count": 23,
   "metadata": {},
   "outputs": [],
   "source": [
    "texto_limpo = ' '.join(lista)\n",
    "wordcloud = WordCloud().generate(texto_limpo)"
   ]
  },
  {
   "cell_type": "code",
   "execution_count": 24,
   "metadata": {},
   "outputs": [
    {
     "data": {
      "image/png": "[encoded data removed]",
      "text/plain": [
       "<Figure size 720x720 with 1 Axes>"
      ]
     },
     "metadata": {},
     "output_type": "display_data"
    }
   ],
   "source": [
    "fig, ax = plt.subplots(figsize=(10, 10))\n",
    "ax.imshow(wordcloud, interpolation='nearest')\n",
    "plt.tight_layout()"
   ]
  },
  {
   "cell_type": "code",
   "execution_count": 25,
   "metadata": {},
   "outputs": [
    {
     "data": {
      "image/png": "[encoded data removed]",
      "text/plain": [
       "<Figure size 720x720 with 1 Axes>"
      ]
     },
     "metadata": {},
     "output_type": "display_data"
    }
   ],
   "source": [
    "# lower max_font_size\n",
    "wordcloud = WordCloud(max_font_size=40).generate(texto_limpo)\n",
    "plt.figure(figsize=(10, 10))\n",
    "plt.imshow(wordcloud, interpolation=\"bilinear\")\n",
    "plt.axis(\"off\")\n",
    "plt.show()"
   ]
  },
  {
   "cell_type": "code",
   "execution_count": 26,
   "metadata": {},
   "outputs": [],
   "source": [
    "# The pil way (if you don't have matplotlib)\n",
    "image = wordcloud.to_image()\n",
    "image.show()"
   ]
  },
  {
   "cell_type": "markdown",
   "metadata": {},
   "source": [
    "Loading second corpus"
   ]
  },
  {
   "cell_type": "code",
   "execution_count": 38,
   "metadata": {},
   "outputs": [
    {
     "name": "stdout",
     "output_type": "stream",
     "text": [
      "Files in the folder:\n",
      "1 -- ARTIGOS-RBE-COM-RESUMO.xlsx\n",
      "2 -- AldousHuxley_bravenewworld.pdf\n",
      "3 -- MarcelProust_EmBuscadoTempoPerdido.pdf\n",
      "4 -- RobertFrost_Poetry.pdf\n"
     ]
    }
   ],
   "source": [
    "print('Files in the folder:')\n",
    "for i, w in enumerate(onlyfiles[0:]):\n",
    "    print(i+1, '--' ,w)"
   ]
  },
  {
   "cell_type": "code",
   "execution_count": 41,
   "metadata": {},
   "outputs": [
    {
     "name": "stdout",
     "output_type": "stream",
     "text": [
      "Brave New World\n",
      "Aldous Leonard Huxley\n",
      "February 6, 2002\n",
      "\n",
      "\f",
      "\f",
      "Contents\n",
      "One\n",
      "\n",
      "5\n",
      "\n",
      "Two\n",
      "\n",
      "17\n",
      "\n",
      "Three\n",
      "\n",
      "25\n",
      "\n",
      "Four\n",
      "\n",
      "MARCEL PROUST\n",
      "EM BUSCA DO TEMPO PERDIDO\n",
      "\n",
      "EM BUSCA DO TEMPO PERDIDO\n",
      "NO CAMINHO DE SWANN - COMBRAY\n",
      "vol\n",
      "Classic Poetry Series\n",
      "\n",
      "Robert Frost\n",
      "- poems -\n",
      "\n",
      "Publication Date:\n",
      "2004\n",
      "\n",
      "Publisher:\n",
      "\n",
      "PoemHunter.Com - \n"
     ]
    }
   ],
   "source": [
    "raw_texts = ''\n",
    "for filename in [f for f in onlyfiles if f.endswith('pdf')]:\n",
    "    text = textract.process(os.path.join(corpuspath,filename)).decode('utf-8')\n",
    "    print(text[0:100])\n",
    "    raw_texts += '\\n'+ text"
   ]
  },
  {
   "cell_type": "code",
   "execution_count": 42,
   "metadata": {},
   "outputs": [
    {
     "name": "stdout",
     "output_type": "stream",
     "text": [
      "7342550\n"
     ]
    }
   ],
   "source": [
    "print(len(raw_texts))"
   ]
  },
  {
   "cell_type": "markdown",
   "metadata": {},
   "source": [
    "Cleaning and homogenizing texts:"
   ]
  },
  {
   "cell_type": "code",
   "execution_count": null,
   "metadata": {},
   "outputs": [],
   "source": [
    "cleaned_texts = raw_texts.lower()\n"
   ]
  },
  {
   "cell_type": "code",
   "execution_count": null,
   "metadata": {},
   "outputs": [],
   "source": []
  },
  {
   "cell_type": "code",
   "execution_count": null,
   "metadata": {},
   "outputs": [],
   "source": []
  },
  {
   "cell_type": "code",
   "execution_count": null,
   "metadata": {},
   "outputs": [],
   "source": []
  },
  {
   "cell_type": "markdown",
   "metadata": {},
   "source": [
    "Finding ocurrences of an expression:"
   ]
  },
  {
   "cell_type": "code",
   "execution_count": 47,
   "metadata": {},
   "outputs": [
    {
     "name": "stdout",
     "output_type": "stream",
     "text": [
      "The expression is found 60 times\n"
     ]
    }
   ],
   "source": [
    "expression = 'life'\n",
    "pos = 0 \n",
    "positions = []\n",
    "while pos != -1:\n",
    "    position = raw_texts.find(expression,pos+1)\n",
    "    pos = position\n",
    "    positions.append(position)\n",
    "positions.pop()\n",
    "print('The expression is found {} times'.format(len(positions)))"
   ]
  },
  {
   "cell_type": "code",
   "execution_count": 49,
   "metadata": {},
   "outputs": [
    {
     "name": "stdout",
     "output_type": "stream",
     "text": [
      "s.\n",
      "“Bokanovsky’s Process,” repeated the Director, and the students\n",
      "underlined the words in their little notebooks.\n",
      "One egg, one embryo, one adult-normality. But a bokanovskified egg will bud, will proliferate, will divide. From eight to ninetysix buds, and every bud will grow into a perfectly formed embryo,\n",
      "and every embryo into a full-sized adult. Making ninety-six human\n",
      "beings grow where only on\n",
      "s all one scarlet blob.\n",
      "\n",
      "\f",
      "24\n",
      "\n",
      "TWO\n",
      "\n",
      "“Till at last the child’s mind is these suggestions, and the sum of\n",
      "the suggestions is the child’s mind. And not the child’s mind only.\n",
      "The adult’s mind too-all his life long. The mind that judges and\n",
      "desires and decides- made up of these suggestions. But all these\n",
      "suggestions are our suggestions!” The Director almost shouted in\n",
      "his triumph. “Suggestions from the\n",
      "ent out to see if one of the vibro- vacuum\n",
      "machines were free.\n",
      "And home was as squalid psychically as physically. Psychically,\n",
      "it was a rabbit hole, a midden, hot with the frictions of tightly\n",
      "packed life, reeking with emotion. What suffocating intimacies,\n",
      "what dangerous, insane, obscene relationships between the members of the family group! Maniacally, the mother brooded over her\n",
      "children (her ch\n",
      "girl.\n",
      "Our Ford-or Our Freud, as, for some inscrutable reason, he\n",
      "chose to call himself whenever he spoke of psychological mattersOur Freud had been the first to reveal the appalling dangers of family life. The world was full of fathers-was therefore full of misery;\n",
      "full of mothers-therefore of every kind of perversion from sadism to\n",
      "chastity; full of brothers, sisters, uncles, aunts-full of madnes\n",
      "along with them, of course .”\n",
      "“Don’t forget to ask him about that Malthusian belt,” said Fanny.\n",
      "“Along with them all the old man’s mental peculiarities. Characters remain constant throughout a whole lifetime.”\n",
      "“. two rounds of Obstacle Golf to get through before dark. I must\n",
      "fly.”\n",
      "“Work, play-at sixty our powers and tastes are what they were at\n",
      "seventeen. Old men in the bad old days used to renou\n",
      "nd looked around. The chubby red face of\n",
      "Benito Hoover was beaming down at him-beaming with manifest\n",
      "cordiality. Benito was notoriously good-natured. People said of him\n",
      "that he could have got through life without ever touching soma.\n",
      "The malice and bad tempers from which other people had to take\n",
      "holidays never afflicted him. Reality for Benito was always sunny.\n",
      "“Pneumatic too. And how!” Then, in an\n",
      "the floor between\n",
      "her feet. They were flying over the six kilometre zone of park-land\n",
      "that separated Central London from its first ring of satellite suburbs. The green was maggoty with fore-shortened life. Forests of\n",
      "Centrifugal Bumble-puppy towers gleamed between the trees. Near\n",
      "Shepherd’s Bush two thousand Beta-Minus mixed doubles were\n",
      "playing Riemann-surface tennis. A double row of Escalator Fi\n",
      "aware of being himself and\n",
      "and all alone was too much ability. What the two men shared was\n",
      "the knowledge that they were individuals. But whereas the physically defective Bernard had suffered all his life from the consciousness of being separate, it was only quite recently that, grown aware\n",
      "of his mental excess, Helmholtz Watson had also become aware of\n",
      "his difference from the people who surrounde\n",
      "the harmonies were an obsession in the melted bowels.\n",
      "The Second Solidarity Hymn was sung.\n",
      "“Come, Greater Being, Social Friend,\n",
      "Annihilating Twelve-in-One!\n",
      "We long to die, for when we end,\n",
      "Our larger life has but begun.”\n",
      "Again twelve stanzas. By this time the soma had begun to work.\n",
      "Eyes shone, cheeks were flushed, the inner light of universal benevolence broke out on every face in happy, friendly\n",
      "on in the air. The President switched off the music and,\n",
      "with the final note of the final stanza, there was absolute silencethe silence of stretched expectancy, quivering and creeping with a\n",
      "galvanic life. The President reached out his hand; and suddenly a\n",
      "Voice, a deep strong Voice, more musical than any merely human\n",
      "voice, richer, warmer, more vibrant with love and yearning and compassion, a won\n",
      "ngly out from the solar plexus to every extremity of\n",
      "the bodies of those who listened; tears came into their eyes; their\n",
      "hearts, their bowels seemed to move within them, as though with\n",
      "an independent life. “Ford!” they were melting, “Ford!” dissolved,\n",
      "dissolved. Then, in another tone, suddenly, startlingly. “Listen!”\n",
      "trumpeted the voice. “Listen!” They listened. After a pause, sunk\n",
      "to a whisper, b\n",
      "ace of agitation or\n",
      "excitement-for to be excited is still to be unsatisfied. Hers was the\n",
      "calm ecstasy of achieved consummation, the peace, not of mere vacant satiety and nothingness, but of balanced life, of energies at\n",
      "rest and in equilibrium. A rich and living peace. For the Solidarity\n",
      "Service had given as well as taken, drawn off only to replenish. She\n",
      "was full, she was made perfect, she was s\n",
      "satiety. Separate\n",
      "and unatoned, while the others were being fused into the Greater\n",
      "Being; alone even in Morgana’s embrace-much more alone, indeed,\n",
      "more hopelessly himself than he had ever been in his life before. He\n",
      "had emerged from that crimson twilight into the common electric\n",
      "glare with a self-consciousness intensified to the pitch of agony. He\n",
      "was utterly miserable, and perhaps (her shining ey\n",
      "r his not for a moment really believing that he would be called\n",
      "upon to face anything at all. People simply weren’t transferred for\n",
      "things like that. Iceland was just a threat. A most stimulating and\n",
      "life-giving threat. Walking along the corridor, he actually whistled.\n",
      "Heroic was the account he gave that evening of his interview\n",
      "with the D.H.C. “Whereupon,” it concluded, “I simply told him to\n",
      "go t\n",
      "ago, in the\n",
      "Director’s office, he had imagined himself courageously resisting,\n",
      "stoically accepting suffering without a word. The Director’s threats\n",
      "had actually elated him, made him feel larger than life. But that,\n",
      "as he now realized, was because he had not taken the threats quite\n",
      "seriously, he had not believed that, when it came to the point, the\n",
      "D.H.C. would ever do anything. Now that it looked\n",
      "ided. They\n",
      "came crowding in on her thick and fast. The spectacle of two young\n",
      "women giving breast to their babies made her blush and turn away\n",
      "her face. She had never seen anything so indecent in her life.\n",
      "And what made it worse was that, instead of tactfully ignoring it,\n",
      "Bernard proceeded to make open comments on this revoltingly viviparous\n",
      "scene. Ashamed, now that the effects of the soma had wor\n",
      "the other hatchway came a woman\n",
      "and sprinkled them with water from a black jar. Then the old man\n",
      "lifted his hand and, startingly, terrifyingly, there was absolute silence. The drums stopped beating, life seemed to have come to an\n",
      "end. The old man pointed towards the two hatchways that gave\n",
      "entrance to the lower world. And slowly, raised by invisible hands\n",
      "from below, there emerged from the one a\n",
      "nce, he turned with a proud squaring of the\n",
      "shoulders, a proud, defiant lifting of the chin “to show that I’m a\n",
      "man. Oh!” He gave a gasp and was silent, gaping. He had seen,\n",
      "for the first time in his life, the face of a girl whose cheeks were\n",
      "not the colour of chocolate or dogskin, whose hair was auburn and\n",
      "permanently waved, and whose expression (amazing novelty!) was\n",
      "one of benevolent interest.\n",
      "’s almost inconceivable. I shall never\n",
      "understand, unless you explain.”\n",
      "“Explain what?”\n",
      "“This.” He indicated the pueblo. “That.” And it was the little\n",
      "house outside the village. “Everything. All your life.”\n",
      "“But what is there to say?”\n",
      "“From the beginning. As far back as you can remember.”\n",
      "“As far back as I can remember.” John frowned. There was a\n",
      "long silence.\n",
      "It was very hot. They had eaten a lot\n",
      "98\n",
      "\n",
      "EIGHT\n",
      "\n",
      "course!” he cried, making up for his first hesitations with an excess\n",
      "of noisy cordiality.\n",
      "The young man drew a deep breath. “To think it should be coming true-what I’ve dreamt of all my life. Do you remember what\n",
      "Miranda says?”\n",
      "“Who’s Miranda?”\n",
      "But the young man had evidently not heard the question. “O\n",
      "wonder!” he was saying; and his eyes shone, his face was brightly\n",
      "flushed. “How ma\n",
      "resence. “Lenina,” he whispered. “Lenina!”\n",
      "A noise made him start, made him guiltily turn. He crammed\n",
      "up his thieveries into the suit-case and shut the lid; then listened\n",
      "again, looked. Not a sign of life, not a sound. And yet he had\n",
      "certainly heard something-something like a sigh, something like the\n",
      "creak of a board. He tiptoed to the door and, cautiously opening it,\n",
      "found himself looking on to a\n",
      "an afternoon sleep\n",
      "were as busy as every one else, though they did not know it, listening unconsciously to hypnopdic lessons in hygiene and sociability,\n",
      "in class-consciousness and the toddler’s love-life. Above these again\n",
      "were the playrooms where, the weather having turned to rain, nine\n",
      "hundred older children were amusing themselves with bricks and\n",
      "clay modelling, hunt-the-zipper, and erotic pla\n",
      "l?”\n",
      "With a sweeping gesture he indicated the rows of microscopes, the\n",
      "test-tubes, the incubators. “We can make a new one with the greatest ease-as many as we like. Unorthodoxy threatens more than the\n",
      "life of a mere individual; it strikes at Society itseff. Yes, at Society\n",
      "itself,” he repeated. “Ah, but here he comes.”\n",
      "Bernard had entered the room and was advancing between the\n",
      "rows of fertilizers t\n",
      "colleague of yours-or should I anticipate and say this ex-colleague?-has grossly betrayed the trust\n",
      "imposed in him. By his heretical views on sport and soma, by the\n",
      "scandalous unorthodoxy of his sex-life, by his refusal to obey the\n",
      "teachings of Our Ford and behave out of office hours, ’even as a little infant,”’ (here the Director made the sign of the T), “he has proved\n",
      "himself an enemy of Societ\n",
      "ourse it would be different. But we can’t.”\n",
      "Surprisingly, as every one thought (for on soma-holiday Linda\n",
      "was most conveniently out of the way), John raised objections.\n",
      "“But aren’t you shortening her life by giving her so much?”\n",
      "“In one sense, yes,” Dr. Shaw admitted. “But in another we’re\n",
      "actually lengthening it.” The young man stared, uncomprehending.\n",
      "“Soma may make you lose a few years in time,\n",
      "y by the hand.\n",
      "It was John, then, they were all after. And as it was only through\n",
      "\n",
      "\f",
      "111\n",
      "Bernard, his accredited guardian, that John could be seen, Bernard\n",
      "now found himself, for the first time in his life, treated not merely\n",
      "normally, but as a person of outstanding importance. There was no\n",
      "more talk of the alcohol in his blood-surrogate, no gibes at his personal appearance. Henry Foster went out o\n",
      "ards.\n",
      "Like a pearl in the sky, high, high above them, the Weather Department’s captive balloon shone rosily in the sunshine.\n",
      "“. the said Savage,” so ran Bernard’s instructions, “to be shown\n",
      "civilized life in all its aspects. .”\n",
      "He was being shown a bird’s-eye view of it at present, a bird’s-eye\n",
      "view from the platform of the Charing-T Tower. The Station Master\n",
      "and the Resident Meteorologist were ac\n",
      "astes-make them lose their faith in happiness as\n",
      "the Sovereign Good and take to believing, instead, that the goal was\n",
      "somewhere beyond, somewhere outside the present human sphere,\n",
      "that the purpose of life was not the maintenance of well-being, but\n",
      "some intensification and refining of consciousness, some enlargement of knowledge. Which was, the Controller reflected, quite possibly true. But not, in\n",
      "ated by\n",
      "this magnanimity-a magnanimity the more extraordinary and therefore the more humiliating in that it owed nothing to soma and everything to Helmholtz’s character. It was the Helmholtz of daily life\n",
      "who forgot and forgave, not the Helmholtz of a half-gramme holiday.\n",
      "Bernard was duly grateful (it was an enormous comfort to have his\n",
      "friend again) and also duly reseritful (it would be pleasure\n",
      "e more abstemious, or else .”\n",
      "Zip! The rounded pinkness fell apart like a neatly divided apple.\n",
      "A wriggle of the arms, a lifting first of the right foot, then the left:\n",
      "the zippicamiknicks were lying lifeless and as though deflated on\n",
      "the floor.\n",
      "Still wearing her shoes and socks, and her rakishly tilted round\n",
      "white cap, she advanced towards him. “Darling. Darling! If only\n",
      "you’d said so before!” Sh\n",
      "gh the tired flesh, seeking and\n",
      "finding that young, bright face which had stooped over his childhood in Malpais, remembering (and he closed his eyes) her voice,\n",
      "her movements, all the events of their life together. “StreptocockGee to Banbury T .” How beautiful her singing had been! And those\n",
      "childish rhymes, how magically strange and mysterious!\n",
      "A, B, C, vitamin D:\n",
      "The fat’s in the liver, the cod’\n",
      "ing beside her, the Savage tried hard to recapture his mood of\n",
      "a few minutes before. “A, B, C, vitamin D,” he repeated to himself, as though the words were a spell that would restore the dead\n",
      "past to life. But the spell was ineffective. Obstinately the beautiful\n",
      "memories refused to rise; there was only a hateful resurrection of\n",
      "jealousies and uglinesses and miseries. Pop with the blood trickling\n",
      "d\n",
      "foredoomed. Even after decanting, he’s still\n",
      "inside a bottle-an invisible bottle of infantile and embryonic fixations. Each one of us, of course,” the Controller meditatively continued, “goes through life inside a bottle. But if we happen to be\n",
      "Alphas, our bottles are, relatively speaking, enormous. We should\n",
      "suffer acutely if we were confined in a narrower space. You cannot pour upper-caste champ\n",
      "most interesting set of men and women\n",
      "to be found anywhere in the world. All the people who, for one reason or another, have got too self-consciously individual to fit into\n",
      "\n",
      "\f",
      "164\n",
      "\n",
      "SIXTEEN\n",
      "\n",
      "community-life. All the people who aren’t satisfied with orthodoxy,\n",
      "who’ve got independent ideas of their own. Every one, in a word,\n",
      "who’s any one. I almost envy you, Mr. Watson.”\n",
      "Helmholtz laughed. “Then why a\n",
      "bs are popping all around you? That was when science\n",
      "\n",
      "\f",
      "165\n",
      "first began to be controlled-after the Nine Years’ War. People were\n",
      "ready to have even their appetites controlled then. Anything for a\n",
      "quiet life. We’ve gone on controlling ever since. It hasn’t been very\n",
      "good for truth, of course. But it’s been very good for happiness. One\n",
      "can’t have something for nothing. Happiness has got to be paid for\n",
      "d; whereupon God\n",
      "emerges as from behind a cloud; our soul feels, sees, turns towards\n",
      "the source of all light; turns naturally and inevitably; for now that\n",
      "all that gave to the world of sensations its life and charms has begun to leak away from us, now that phenomenal existence is no\n",
      "more bolstered up by impressions from within or from without, we\n",
      "feel the need to lean on something that abides, som\n",
      "lf out, taken himself flagrantly at fault. Guiltily he blushed.\n",
      "After all, it was not to sing and enjoy himself that he had come here.\n",
      "It was to escape further contamination by the filth of civilized life; it\n",
      "was to be purified and made good; it was actively to make amends.\n",
      "He realized to his dismay that, absorbed in the whittling of his bow,\n",
      "he had forgotten what he had sworn to himself he would\n",
      "espirituoso e \"cor da\n",
      "época\" fazer preceder seu título de príncipe, e dizia \"senhor duque de La Rochefoucauld\", \"senhor\n",
      "cardeal de Retz\", aos quais também chamava, de quando em vez: \"Esse strugo for lifer de Gondi\",\n",
      "\"esse boulangista de Marcillac\". E nunca deixava de chamar Montesquieu, com um sorriso,\n",
      "quando falava dele: \"O senhor presidente Secondat de Montesquieu.\" Um mundano de espírito\n",
      "ficar\n",
      "becil, fez de você o herói de um de\n",
      "seus romances; e que por isso talvez você continue vivendo. Se a respeito do quadro um Tissot\n",
      "representa a sacada do círculo da rua Royale, onde você está entre Gallifet, Edmond de Polignac e SaintMaurice, fala-se tanto de você, é porque vêem que existem alguns traços seus na personagem de Swann.\n",
      "[O quadro em questão representa, entre as pessoas mencionadas, a f\n",
      "rosto precisamente aquilo\n",
      "que o barão tentava ocultar, uma vida crapulosa atestada pela decadência moral. De fato, seja qual for a\n",
      "sua causa, facilmente se lê, pois não demora a materializar-se, a proliferar sobre um rosto, especialmente\n",
      "nas faces e ao redor dos olhos, tão fisicamente quanto o amarelo ocre numa pessoa que sofre do fígado\n",
      "ou os vermelhos repugnantes de uma doença de pele. Aliás, nã\n",
      "stias, marcado pelas mesmas taras. Aliás, via-se que\n",
      "o Sr. de Charlus envelhecera; sinais bem diferentes, como a extraordinária extensão que haviam tomado\n",
      "em conversa algumas expressões que tinham proliferado e agora voltavam a instante (por exemplo: \"o\n",
      "encadeamento das circunstâncias\") e às quais o barão se apoiava de frase em frase como a um tutor\n",
      "necessário.\n",
      "- Será, Charlie já chegou? - pergunt\n",
      "s do egoísmo) assumiriam um tal poder que a\n",
      "humanidade inteira seria fruída, se desse mal não nascessem, capazes de reduzi-lo a proporções\n",
      "justas, restrições naturais análogas às que impedem que a proliferação de infusórios aniquile o\n",
      "nosso planeta, ou que a fecundação assexuada nos acarrete a extinção do reino vegetal etc. De\n",
      "vez em quando, uma virtude por com esse egoísmo uma potência nova e des\n",
      "um perigo nos deixando inteiramente alheios se dele não nos\n",
      "lembramos. As pessoas, em geral, se entregam a seus prazeres sem jamais pensar que,\n",
      "cessando as influências estiolantes e moderadoras, a proliferação dos infusórios atingiria o\n",
      "seu máximo, ou seja, daria em poucos dias um salto de vários milhões de léguas, passando\n",
      "de um milímetro cúbico a uma massa um milhão de vezes maior que o sol, ten\n",
      "blisher:\n",
      "\n",
      "PoemHunter.Com - The World's Poetry Archive\n",
      "\n",
      "\f",
      "\"In White\": Frost's Early Version Of Design\n",
      "A dented spider like a snow drop white\n",
      "On a white Heal-all, holding up a moth\n",
      "Like a white piece of lifeless satin cloth Saw ever curious eye so strange a sight? Portent in little, assorted death and blight\n",
      "Like the ingredients of a witches' broth? The beady spider, the flower like a froth,\n",
      "And the\n",
      "sounds. I 'spose they did the best\n",
      "They knew. And just when he was at the height,\n",
      "Father and mother married, and mother came,\n",
      "A bride, to help take care of such a creature,\n",
      "And accommodate her young life to his.\n",
      "That was what marrying father meant to her.\n",
      "She had to lie and hear love things made dreadful\n",
      "By his shouts in the night. He'd shout and shout\n",
      "Until the strength was shouted out of him,\n",
      "A\n",
      "coil and hissed,\n",
      "Blindly striking at my knee and missed.\n",
      "Something sinister in the tone\n",
      "Told me my secret my be known:\n",
      "Word I was in the house alone\n",
      "Somehow must have gotten abroad,\n",
      "Word I was in my life alone,\n",
      "Word I had no one left but God.\n",
      "Robert Frost\n",
      "\n",
      "www.PoemHunter.com - The World's Poetry Archive\n",
      "\n",
      "25\n",
      "\n",
      "\f",
      "Birches\n",
      "When I see birches bend to left and right\n",
      "Across the lines of straighter darker\n",
      "feet first, with a swish,\n",
      "Kicking his way down through the air to the ground.\n",
      "So was I once myself a swinger of birches.\n",
      "And so I dream of going back to be.\n",
      "It's when I'm weary of considerations,\n",
      "And life is too much like a pathless wood\n",
      "Where your face burns and tickles with the cobwebs\n",
      "Broken across it, and one eye is weeping\n",
      "From a twig's having lashed across it open.\n",
      "I'd like to get away from\n",
      "n one is sick to death,\n",
      "One is alone, and he dies more alone.\n",
      "Friends make pretense of following to the grave,\n",
      "But before one is in it, their minds are turned\n",
      "And making the best of their way back to life\n",
      "And living people, and things they understand.\n",
      "But the world's evil. I won't have grief so\n",
      "If I can change it. Oh, I won't, I won't!\"\n",
      "\n",
      "\"There, you have said it all and you feel better.\n",
      "You won't\n",
      "cannot feel forsaken.\n",
      "Robert Frost\n",
      "\n",
      "www.PoemHunter.com - The World's Poetry Archive\n",
      "\n",
      "54\n",
      "\n",
      "\f",
      "In White\n",
      "A dented spider like a snow drop white\n",
      "On a white Heal-all, holding up a moth\n",
      "Like a white piece of lifeless satin cloth Saw ever curious eye so strange a sight? Portent in little, assorted death and blight\n",
      "Like the ingredients of a witches' broth? The beady spider, the flower like a froth,\n",
      "And the\n",
      "not care\n",
      "Ever to have tree bloom or bear.\n",
      "Leaves for smooth and bark for rough,\n",
      "Leaves and bark may be tree enough.\n",
      "\n",
      "Some giant trees have bloom so small\n",
      "They might as well have none at all.\n",
      "Late in life I have come on fern.\n",
      "Now lichens are due to have their turn.\n",
      "I bade men tell me which in brief,\n",
      "Which is fairer, flower or leaf.\n",
      "They did not have the wit to say,\n",
      "Leaves by night and flowers by d\n",
      "y never touch,\n",
      "Nor strike out fire from each other nor crash out loud.\n",
      "The planets seem to interfere in their curves But nothing ever happens, no harm is done.\n",
      "We may as well go patiently on with our life,\n",
      "And look elsewhere than to stars and moon and sun\n",
      "For the shocks and changes we need to keep us sane.\n",
      "It is true the longest drout will end in rain,\n",
      "The longest peace in China will end in strife\n",
      "the hand. However it was,\n",
      "Neither refused the meeting. But the hand!\n",
      "The boy's first outcry was a rueful laugh,\n",
      "As he swung toward them holding up the hand\n",
      "Half in appeal, but half as if to keep\n",
      "The life from spilling. Then the boy saw all Since he was old enough to know, big boy\n",
      "Doing a man's work, though a child at heart He saw all spoiled. \"Don't let him cut my hand off The doctor, when he com\n",
      "the hand. However it was,\n",
      "Neither refused the meeting. But the hand!\n",
      "The boy's first outcry was a rueful laugh,\n",
      "As he swung toward them holding up the hand\n",
      "Half in appeal, but half as if to keep\n",
      "The life from spilling. Then the boy saw all-Since he was old enough to know, big boy\n",
      "Doing a man's work, though a child at heart-He saw all spoiled. \"Don't let him cut my hand off-The doctor, when he com\n",
      "m of the mountain spruce.\n",
      "He showed me lumps of the scented stuff\n",
      "Like uncut jewels, dull and rough\n",
      "It comes to market golden brown;\n",
      "But turns to pink between the teeth.\n",
      "I told him this is a pleasant life\n",
      "To set your breast to the bark of trees\n",
      "That all your days are dim beneath,\n",
      "And reaching up with a little knife,\n",
      "To loose the resin and take it down\n",
      "And bring it to market when you please\n",
      "Robert\n",
      "kless talk\n",
      "Of heavenly stars with hugger-mugger farming,\n",
      "Till having failed at hugger-mugger farming\n",
      "He burned his house down for the fire insurance\n",
      "And spent the proceeds on a telescope\n",
      "To satisfy a lifelong curiosity\n",
      "About our place among the infinities.\n",
      "\n",
      "`What do you want with one of those blame things?'\n",
      "I asked him well beforehand. `Don't you get one!'\n",
      "\n",
      "`Don't call it blamed; there isn't anyth\n",
      "d with your poems on my breast\n",
      "Spread open as I dropped them half-read through\n",
      "Like dove wings on a figure on a tomb\n",
      "To see, if in a dream they brought of you,\n",
      "I might not have the chance I missed in life\n",
      "Through some delay, and call you to your face\n",
      "First soldier, and then poet, and then both,\n",
      "Who died a soldier-poet of your race.\n",
      "I meant, you meant, that nothing should remain\n",
      "Unsaid between us,\n",
      "d with your poems on my breast\n",
      "Spread open as I dropped them half-read through\n",
      "Like dove wings on a figure on a tomb\n",
      "To see, if in a dream they brought of you,\n",
      "I might not have the chance I missed in life\n",
      "Through some delay, and call you to your face\n",
      "First soldier, and then poet, and then both,\n",
      "Who died a soldier-poet of your race.\n",
      "\n",
      "I meant, you meant, that nothing should remain\n",
      "Unsaid between us,\n",
      "is was an antlered buck of lusty nostril,\n",
      "Not the same doe come back into her place.\n",
      "He viewed them quizzically with jerks of head,\n",
      "As if to ask, 'Why don't you make some motion?\n",
      "Or give some sign of life? Because you can't.\n",
      "I doubt if you're as living as you look.\"\n",
      "Thus till he had them almost feeling dared\n",
      "To stretch a proffering hand -- and a spell-breaking.\n",
      "Then he too passed unscared along th\n",
      "n mind:\n",
      "He wanted to take my job for pay.\n",
      "Good blocks of oak it was I split,\n",
      "As large around as the chopping block;\n",
      "And every piece I squarely hit\n",
      "Fell splinterless as a cloven rock.\n",
      "The blows that a life of self-control\n",
      "Spares to strike for the common good,\n",
      "That day, giving a loose my soul,\n",
      "I spent on the unimportant wood.\n",
      "\n",
      "The sun was warm but the wind was chill.\n",
      "You know how it is with an April\n",
      "ved my task\n",
      "The two must make me love it more\n",
      "By coming with what they came to ask.\n",
      "You'd think I never had felt before\n",
      "The weight of an ax-head poised aloft,\n",
      "The grip of earth on outspread feet,\n",
      "The life of muscles rocking soft\n",
      "\n",
      "www.PoemHunter.com - The World's Poetry Archive\n",
      "\n",
      "131\n",
      "\n",
      "\f",
      "And smooth and moist in vernal heat.\n",
      "\n",
      "Out of the wood two hulking tramps\n",
      "(From sleeping God knows where last night,\n"
     ]
    }
   ],
   "source": [
    "for position in positions: #[0:10]:\n",
    "    print(raw_texts[position - 200:position + 200].strip())"
   ]
  },
  {
   "cell_type": "markdown",
   "metadata": {},
   "source": [
    "Um passo opcional - retirar as stopwords que podem interferir nas análises"
   ]
  },
  {
   "cell_type": "code",
   "execution_count": null,
   "metadata": {},
   "outputs": [],
   "source": [
    "ignore_words = [w for w in nltk.corpus.stopwords.words('portuguese')]\n",
    "#ignore_words.extend([s.decode('utf-8') for s in string.punctuation])\n",
    "ignore_words.extend([u' ', u'', u'é', u'r',u'c',u'ainda',u'vai',u'ser',u'globo',u'sobre',u'nesta',u'\\u2013',u'\\u2014', u'pode',\n",
    "                     u'ter', u'disse'])\n",
    "ignore_expressions = [u'Copyright © 2013', u'Copyright © 2014',u'Todos os direitos reservados', \n",
    "                      u'Agência Estado', u'Jornal O Globo', u'Folha de S.Paulo', 'Globo Digital', u'SEGUNDO CADERNO',\n",
    "                      u'Noblat', u'Agamenon Mendes Pedreira', u'Agamenon', u'Merval Pereira', u'Merval', u'Amaury de Souza',\n",
    "                      u'Boa Viagem', u'v\\xeddeos pol\\xedticos', u'Esta\\xe7\\xe3o Jazz e Tal', u'a r\\xe1dio do blog',\n",
    "                      u'Siga o', u'Leia a', u'Ou\\xe7a a', u'Curta a P\\xe1gina', u'Visite a p\\xe1gina', u'no Twitter','no Facebook', u'Blog do', \n",
    "                      u'Tradu\\xe7\\xe3o', u'mat&eacute;ria na &iacute;ntegra', u'\\xedntegra da mat\\xe9ria', u'para assinantes',\n",
    "                      u'por exemplo', u'cada vez', 'datafolha']"
   ]
  },
  {
   "cell_type": "code",
   "execution_count": null,
   "metadata": {},
   "outputs": [],
   "source": [
    "for e in ignore_expressions:\n",
    "    print e"
   ]
  },
  {
   "cell_type": "code",
   "execution_count": null,
   "metadata": {},
   "outputs": [],
   "source": [
    "def corrige_distorcoes(texto):\n",
    "    texto = texto.replace(u'\\xe0', u'a a') #separa o a com crase\n",
    "    texto = texto.replace(u'\\u201c', '') #retira um certo tipo de aspas\n",
    "    texto = texto.replace(u'\\u201d', '') #retira um certo tipo de aspas\n",
    "    texto = texto.replace(u'\\u2018', '') #retira um certo tipo de aspas\n",
    "    texto = texto.replace(u'\\u2019', '') #retira um certo tipo de aspas\n",
    "    texto = texto.replace(u'get\\xfalio vargas', u'getulio vargas') #homogeniza as formas de Getulio Vargas\n",
    "    return texto\n",
    "    \n",
    "def limpa_stopwords(texto):\n",
    "    for expression in ignore_expressions:\n",
    "        texto = texto.replace(expression.lower(),'') #retira as expressoes\n",
    "    lista = [w.strip(string.punctuation) for w in texto.split() if w.strip(string.punctuation) not in ignore_words] #retira stopw.\n",
    "    texto = u' '.join(lista)\n",
    "    return texto, lista"
   ]
  },
  {
   "cell_type": "code",
   "execution_count": null,
   "metadata": {},
   "outputs": [],
   "source": [
    "raw_texts = corrige_distorcoes(raw_texts)\n",
    "cleaned_texts, list_cleaned_words = limpa_stopwords(raw_texts)"
   ]
  },
  {
   "cell_type": "markdown",
   "metadata": {},
   "source": [
    "A primeira coisa a se analisar são - pura e simplesmente - as palavras (sem stopwords)"
   ]
  },
  {
   "cell_type": "code",
   "execution_count": null,
   "metadata": {},
   "outputs": [],
   "source": [
    "freq_words = Counter(list_cleaned_words)\n",
    "df_freq_words = pd.DataFrame(freq_words.values(), columns = [u'Frequência'], index=freq_words.keys())\n",
    "df_freq_words = df_freq_words.sort_index(by=u'Frequência', ascending=False)\n",
    "df_freq_words.index.name = u'Tokens'\n",
    "df_freq_words[0:40]"
   ]
  },
  {
   "cell_type": "markdown",
   "metadata": {},
   "source": [
    "Calculando a polaridade total dos textos"
   ]
  },
  {
   "cell_type": "code",
   "execution_count": null,
   "metadata": {},
   "outputs": [],
   "source": [
    "polariza_counter(freq_words, df_o);"
   ]
  },
  {
   "cell_type": "markdown",
   "metadata": {},
   "source": [
    "Vamos visualizar as palavras mais frequentes de várias formas:"
   ]
  },
  {
   "cell_type": "code",
   "execution_count": null,
   "metadata": {},
   "outputs": [],
   "source": [
    "def print_vk(lst):\n",
    "    \"\"\"Print a list of value/key pairs nicely formatted in key/value order.\"\"\"\n",
    "\n",
    "    # Find the longest key: remember, the list has value/key pairs, so the key\n",
    "    # is element [1], not [0]\n",
    "    longest_key = max([len(word) for word, count in lst])\n",
    "    # Make a format string out of it\n",
    "    fmt = '%'+str(longest_key)+'s -> %s'\n",
    "    # Do actual printing\n",
    "    for k,v in lst:\n",
    "        print fmt % (k,v)\n",
    "    print('\\n')"
   ]
  },
  {
   "cell_type": "code",
   "execution_count": null,
   "metadata": {},
   "outputs": [],
   "source": [
    "def plot_word_histogram(freqs, show=10, title=None):\n",
    "    \"\"\"Plot a histogram of word frequencies, limited to the top <show> ones.\n",
    "    \"\"\"\n",
    "    sorted_f = sort_freqs(freqs) if isinstance(freqs, dict) else freqs\n",
    "\n",
    "    # Don't show the tail\n",
    "    if isinstance(show, int):\n",
    "        # interpret as number of words to show in histogram\n",
    "        show_f = sorted_f[-show:]\n",
    "    else:\n",
    "        # interpret as a fraction\n",
    "        start = -int(round(show*len(freqs)))\n",
    "        show_f = sorted_f[start:]\n",
    "\n",
    "    # Now, extract words and counts, plot\n",
    "    n_words = len(show_f)\n",
    "    ind = np.arange(n_words)\n",
    "    words = [i[0] for i in show_f]\n",
    "    counts = [i[1] for i in show_f]\n",
    "\n",
    "    fig = plt.figure(figsize=(8,8))\n",
    "    ax = fig.add_subplot(111)\n",
    "\n",
    "    if n_words<=20:\n",
    "        # Only show bars and x labels for small histograms, they don't make\n",
    "        # sense otherwise\n",
    "        ax.bar(ind, counts)\n",
    "        ax.set_xticks(ind)\n",
    "        ax.set_xticklabels(words, rotation=45)\n",
    "        fig.subplots_adjust(bottom=0.25)\n",
    "    else:\n",
    "        # For larger ones, do a step plot\n",
    "        ax.step(ind, counts)\n",
    "\n",
    "    # If it spans more than two decades, use a log scale\n",
    "    if float(max(counts))/min(counts) > 100:\n",
    "        ax.set_yscale('log')\n",
    "\n",
    "    if title:\n",
    "        ax.set_title(title)\n",
    "    return ax"
   ]
  },
  {
   "cell_type": "code",
   "execution_count": null,
   "metadata": {},
   "outputs": [],
   "source": [
    "number_words=15      \n",
    "w_items = freq_words.items()\n",
    "w_items.sort(key = lambda wc: wc[1])\n",
    "print 'Number of unique words:',len(w_items)\n",
    "#print('{} least frequent words:').format(number_words)\n",
    "#print_vk(w_items[:10])\n",
    "#print('{} most frequent words:').format(number_words)\n",
    "print_vk(w_items[:-10:-1])\n",
    "plot_word_histogram(w_items, number_words,'Frequencies for {} most frequent words'.format(number_words));"
   ]
  },
  {
   "cell_type": "code",
   "execution_count": null,
   "metadata": {},
   "outputs": [],
   "source": [
    "fd_words = nltk.FreqDist(freq_words)\n",
    "fig, axes = plt.subplots(nrows=1, ncols=1, figsize=(8,8)) \n",
    "fd_words.plot(30)"
   ]
  },
  {
   "cell_type": "markdown",
   "metadata": {},
   "source": [
    "E a distribuição cumulativa das frequências:"
   ]
  },
  {
   "cell_type": "code",
   "execution_count": null,
   "metadata": {},
   "outputs": [],
   "source": [
    "fig, axes = plt.subplots(nrows=1, ncols=1, figsize=(8,8)) \n",
    "fd_words.plot(30, cumulative = True)"
   ]
  },
  {
   "cell_type": "code",
   "execution_count": null,
   "metadata": {},
   "outputs": [],
   "source": [
    "count = np.array(freq_words.values())\n",
    "words = np.array(freq_words.keys())\n",
    "count = count.astype(int)\n",
    "make_wordcloud(words, count, 'test.png')\n",
    "Image(filename='test.png', width=640, height=480)"
   ]
  },
  {
   "cell_type": "markdown",
   "metadata": {},
   "source": [
    "Vamos agora construir um grafo de palavras para estudar co-ocorrências nos textos dos feeds\n",
    "\n",
    "Abordagem e funções aproveitadas de https://github.com/ipython/talks/blob/master/notebook/text_utils.py"
   ]
  },
  {
   "cell_type": "code",
   "execution_count": null,
   "metadata": {},
   "outputs": [],
   "source": [
    "def all_pairs(items):\n",
    "    \"\"\"Make all unique pairs (order doesn't matter)\"\"\"\n",
    "    pairs = []\n",
    "    nitems = len(items)\n",
    "    for i, wi in enumerate(items):\n",
    "        for j in range(i+1, nitems):\n",
    "            pairs.append((wi, items[j]))\n",
    "    return pairs\n",
    "\n",
    "def co_occurrences(lines, words):\n",
    "    \"\"\"Return histogram of co-occurrences of words in a list of lines.\n",
    "\n",
    "    Parameters\n",
    "    ----------\n",
    "    lines : list\n",
    "      A list of strings considered as 'sentences' to search for co-occurrences.\n",
    "\n",
    "    words : list\n",
    "      A list of words from which all unordered pairs will be constructed and\n",
    "      searched for co-occurrences.\n",
    "    \"\"\"\n",
    "    wpairs = all_pairs(words)\n",
    "\n",
    "    # Now build histogram of co-occurrences\n",
    "    co_occur = {}\n",
    "    for w1, w2 in wpairs:\n",
    "        rx = re.compile('%s .*%s|%s .*%s' % (w1, w2, w2, w1))\n",
    "        co_occur[w1, w2] = sum([1 for line in lines if rx.search(line)])\n",
    "\n",
    "    return co_occur\n",
    "\n",
    "def co_occurrences_graph(word_hist, co_occur, cutoff=0):\n",
    "    \"\"\"Convert a word histogram with co-occurrences to a weighted graph.\n",
    "    Edges are only added if the count is above cutoff.\n",
    "    \"\"\"\n",
    "    g = nx.Graph()\n",
    "    for word, count in word_hist:\n",
    "        g.add_node(word, count=count)\n",
    "    for (w1, w2), count in co_occur.iteritems():\n",
    "        if count<=cutoff:\n",
    "            continue\n",
    "        g.add_edge(w1, w2, weight=count)\n",
    "    return g"
   ]
  },
  {
   "cell_type": "code",
   "execution_count": null,
   "metadata": {},
   "outputs": [],
   "source": [
    "n_nodes = 15\n",
    "popular = w_items[-n_nodes:]\n",
    "pop_words = [wc[0] for wc in popular]\n",
    "co_occur = co_occurrences(list_raw_texts, pop_words)\n",
    "wgraph = co_occurrences_graph(popular, co_occur, cutoff=1)\n",
    "wsubgraph = list(nx.connected_component_subgraphs(wgraph))[1] #we have to choose the biggest con. comp.\n",
    "centrality = nx.eigenvector_centrality_numpy(wsubgraph)\n",
    "c = centrality.items()\n",
    "c.sort(key=lambda x:x[1], reverse=True)\n",
    "print '\\nGraph centrality'\n",
    "for node, cent in c:\n",
    "    print \"%15s: %.3g\" % (node, float(cent))"
   ]
  },
  {
   "cell_type": "code",
   "execution_count": null,
   "metadata": {},
   "outputs": [],
   "source": [
    "rad0 = 0.2\n",
    "def rescale_arr(arr, amin, amax):\n",
    "    \"\"\"Rescale an array to a new range.\n",
    "    Return a new array whose range of values is (amin, amax).\n",
    "    Parameters\n",
    "    ----------\n",
    "    arr : array-like\n",
    "    amin : float\n",
    "      new minimum value\n",
    "    amax : float\n",
    "      new maximum value\n",
    "\n",
    "    Examples\n",
    "    --------\n",
    "    >>> a = np.arange(5)\n",
    "    >>> rescale_arr(a,3,6)\n",
    "    array([ 3.  ,  3.75,  4.5 ,  5.25,  6.  ])\n",
    "    \"\"\"\n",
    "    # old bounds\n",
    "    m = arr.min()\n",
    "    M = arr.max()\n",
    "    # scale/offset\n",
    "    s = float(amax-amin)/(M-m)\n",
    "    d = amin - s*m\n",
    "\n",
    "    # Apply clip before returning to cut off possible overflows outside the\n",
    "    # intended range due to roundoff error, so that we can absolutely guarantee\n",
    "    # that on output, there are no values > amax or < amin.\n",
    "    return np.clip(s*arr+d,amin,amax)\n",
    "\n",
    "def plot_graph(wgraph, pos=None, fig=None, title=None):\n",
    "    \"\"\"Conveniently summarize graph visually\"\"\"\n",
    "\n",
    "    # config parameters\n",
    "    edge_min_width= 3\n",
    "    edge_max_width= 12\n",
    "    label_font = 16\n",
    "    node_font = 18\n",
    "    node_alpha = 0.4\n",
    "    edge_alpha = 0.55\n",
    "    edge_cmap = plt.cm.Spectral\n",
    "\n",
    "    # Create figure\n",
    "    if fig is None:\n",
    "        fig, ax = plt.subplots()\n",
    "    else:\n",
    "        ax = fig.add_subplot(111)\n",
    "    fig.subplots_adjust(0,0,1)\n",
    "\n",
    "    # Plot nodes with size according to count\n",
    "    sizes = []\n",
    "    degrees = []\n",
    "    for n, d in wgraph.nodes_iter(data=True):\n",
    "        sizes.append(d['count'])\n",
    "        degrees.append(wgraph.degree(n))\n",
    "\n",
    "    sizes = rescale_arr(np.array(sizes, dtype=float), 100, 1000)\n",
    "\n",
    "    # Compute layout and label edges according to weight\n",
    "    pos = nx.spring_layout(wgraph) if pos is None else pos\n",
    "    labels = {}\n",
    "    width = []\n",
    "    for n1, n2, d in wgraph.edges_iter(data=True):\n",
    "        w = d['weight']\n",
    "        labels[n1, n2] = w\n",
    "        width.append(w)\n",
    "\n",
    "    width = rescale_arr(np.array(width, dtype=float), edge_min_width, \n",
    "                        edge_max_width)\n",
    "\n",
    "    # Draw\n",
    "    nx.draw_networkx_nodes(wgraph, pos, node_size=sizes, node_color=degrees,alpha=node_alpha)\n",
    "    nx.draw_networkx_edges(wgraph, pos, width=width, edge_color=width, edge_cmap=edge_cmap, alpha=edge_alpha)\n",
    "    nx.draw_networkx_edge_labels(wgraph, pos, edge_labels=labels,font_size=label_font)\n",
    "    nx.draw_networkx_labels(wgraph, pos, font_size=node_font, font_weight='bold')\n",
    "    if title is not None:\n",
    "        ax.set_title(title, fontsize=label_font)\n",
    "    ax.set_xticks([])\n",
    "    ax.set_yticks([])\n",
    "\n",
    "    # Mark centrality axes\n",
    "    kw = dict(color='k', linestyle='-')\n",
    "    cross = [ax.axhline(0, **kw), ax.axvline(rad0, **kw)]\n",
    "    [ l.set_zorder(0) for l in cross]\n",
    "    \n",
    "def centrality_layout(wgraph, centrality):\n",
    "    \"\"\"Compute a layout based on centrality.\n",
    "    \"\"\"\n",
    "    # Create a list of centralities, sorted by centrality value\n",
    "    cent = sorted(centrality.items(), key=lambda x:float(x[1]), reverse=True)\n",
    "    nodes = [c[0] for c in cent]\n",
    "    cent  = np.array([float(c[1]) for c in cent])\n",
    "    rad = (cent - cent[0])/(cent[-1]-cent[0])\n",
    "    rad = rescale_arr(rad, rad0, 1)\n",
    "    angles = np.linspace(0, 2*np.pi, len(centrality))\n",
    "    layout = {}\n",
    "    for n, node in enumerate(nodes):\n",
    "        r = rad[n]\n",
    "        th = angles[n]\n",
    "        layout[node] = r*np.cos(th), r*np.sin(th)\n",
    "    return layout"
   ]
  },
  {
   "cell_type": "code",
   "execution_count": null,
   "metadata": {},
   "outputs": [],
   "source": [
    "print \"Graph visualization for query:\"\n",
    "plot_graph(wsubgraph, centrality_layout(wsubgraph, centrality), \n",
    "           plt.figure(figsize=(12,12)), \n",
    "           title = u'Centrality and term co-occurrence graph, q=\"{}\"'.format(query))"
   ]
  },
  {
   "cell_type": "markdown",
   "metadata": {},
   "source": [
    "Para entender os contextos, uma análise de concordâncias\n",
    "(palavras associadas à expressão escolhida, posicionadas na mesma sentença):"
   ]
  },
  {
   "cell_type": "code",
   "execution_count": null,
   "metadata": {},
   "outputs": [],
   "source": [
    "tknzr = nltk.tokenize.WordPunctTokenizer()\n",
    "tokens = tknzr.tokenize(raw_texts) # texto com stopwords\n",
    "#tokens = tknzr.tokenize(cleaned_texts) # texto sem stopwords\n",
    "nltk_text = nltk.Text(tokens)\n",
    "nltk_text.concordance(query.lower(), width=120, lines=10)"
   ]
  },
  {
   "cell_type": "markdown",
   "metadata": {},
   "source": [
    "Palavras que ocorrem em contextos similares (associadas às mesmas palavras que a consulta):"
   ]
  },
  {
   "cell_type": "code",
   "execution_count": null,
   "metadata": {},
   "outputs": [],
   "source": [
    "nltk_text.similar(query)"
   ]
  },
  {
   "cell_type": "markdown",
   "metadata": {},
   "source": [
    "As colocações (que não são co-ocorrências) nos informam sobre as palavras (quaisquer, não necessariamente ligadas à consulta) que ocorrem conjuntamente (bigramas frequentes):\n",
    "http://en.wikipedia.org/wiki/Collocation\n",
    "http://en.wikipedia.org/wiki/Co-occurrence"
   ]
  },
  {
   "cell_type": "code",
   "execution_count": null,
   "metadata": {},
   "outputs": [],
   "source": [
    "nltk_text.collocations(num=100, window_size=2)"
   ]
  },
  {
   "cell_type": "markdown",
   "metadata": {},
   "source": [
    "Collocations are expressions of multiple words which commonly co-occur.\n",
    "\n",
    "Below we are using Pointwise Mutual Information.\n",
    "\n",
    "http://en.wikipedia.org/wiki/Pointwise_mutual_information"
   ]
  },
  {
   "cell_type": "code",
   "execution_count": null,
   "metadata": {},
   "outputs": [],
   "source": [
    "max_items = 50\n",
    "freq_min_b = 10\n",
    "bigram_measures = nltk.collocations.BigramAssocMeasures()\n",
    "finder2 = nltk.collocations.BigramCollocationFinder.from_words(nltk_text)\n",
    "finder2.apply_word_filter(lambda w: w in string.punctuation)\n",
    "finder2.apply_freq_filter(freq_min_b)\n",
    "for a, b in finder2.nbest(bigram_measures.pmi, max_items):\n",
    "    print a, b"
   ]
  },
  {
   "cell_type": "code",
   "execution_count": null,
   "metadata": {},
   "outputs": [],
   "source": [
    "max_items = 50\n",
    "freq_min_t = 6\n",
    "trigram_measures = nltk.collocations.TrigramAssocMeasures()\n",
    "finder3 = nltk.collocations.TrigramCollocationFinder.from_words(nltk_text)\n",
    "finder3.apply_word_filter(lambda w: w in string.punctuation)\n",
    "finder3.apply_ngram_filter(lambda w1, w2, w3:  w1 in ['da', 'de', 'das'])\n",
    "finder3.apply_freq_filter(freq_min_t)\n",
    "for a, b, c in finder3.nbest(trigram_measures.pmi, max_items):\n",
    "    print a, b, c"
   ]
  },
  {
   "cell_type": "code",
   "execution_count": null,
   "metadata": {},
   "outputs": [],
   "source": [
    "for a, b in (finder2.above_score(bigram_measures.raw_freq,1.0 / len(list(nltk.bigrams(tokens))))):\n",
    "        print a, b"
   ]
  },
  {
   "cell_type": "code",
   "execution_count": null,
   "metadata": {},
   "outputs": [],
   "source": [
    "for a, b, c in finder3.above_score(trigram_measures.raw_freq,1.0 / len(list(nltk.trigrams(tokens)))):\n",
    "        print a, b, c"
   ]
  },
  {
   "cell_type": "code",
   "execution_count": null,
   "metadata": {},
   "outputs": [],
   "source": [
    "from nltk.util import ngrams\n",
    "n = 4\n",
    "xgrams = ngrams(tokens, n)\n",
    "xgrams_counter = Counter(xgrams)\n",
    "df_ngrams = pd.DataFrame(xgrams_counter.items(), columns = [u'n-gramas',u'Frequência'])\n",
    "df_ngrams = df_ngrams.sort_index(by=u'Frequência', ascending=False)\n",
    "df_ngrams.set_index([u'n-gramas'], inplace=True)\n",
    "df_ngrams[0:40]"
   ]
  },
  {
   "cell_type": "code",
   "execution_count": null,
   "metadata": {},
   "outputs": [],
   "source": [
    "nltk_text.dispersion_plot([u'fgv', \n",
    "                      u'ipea', \n",
    "                      u'ibge',\n",
    "                      u'aécio',\n",
    "                      u'dilma',\n",
    "                      u'lula',\n",
    "                      u'renda',\n",
    "                      u'cps-fgv',\n",
    "                      ])"
   ]
  },
  {
   "cell_type": "markdown",
   "metadata": {},
   "source": [
    "As funções a seguir permitem extrair as frases mais significativas do texto (sumarização automática)"
   ]
  },
  {
   "cell_type": "code",
   "execution_count": null,
   "metadata": {},
   "outputs": [],
   "source": [
    "def score_sentences(sentences, important_words):\n",
    "    # Approach taken from \"The Automatic Creation of Literature Abstracts\" by H.P. Luhn\n",
    "    CLUSTER_THRESHOLD = 5  # Distance between words to consider\n",
    "    scores = []\n",
    "    sentence_idx = -1\n",
    "    #for s in [nltk.tokenize.word_tokenize(s) for s in sentences]:\n",
    "    punktw2 = nltk.tokenize.WordPunctTokenizer() #trocando pelo punkt (melhor?)\n",
    "    for s in [punktw2.tokenize(s) for s in sentences]:    \n",
    "        sentence_idx += 1\n",
    "        word_idx = []\n",
    "        # For each word in the word list...\n",
    "        for w in important_words:\n",
    "            try:\n",
    "                # Compute an index for where any important words occur in the sentence\n",
    "                word_idx.append(s.index(w))\n",
    "            except ValueError, e: # w not in this particular sentence\n",
    "                pass\n",
    "        word_idx.sort()\n",
    "        # It is possible that some sentences may not contain any important words at all\n",
    "        if len(word_idx)== 0: continue\n",
    "        # Using the word index, compute clusters by using a max distance threshold\n",
    "        # for any two consecutive words\n",
    "        clusters = []\n",
    "        cluster = [word_idx[0]]\n",
    "        i = 1\n",
    "        while i < len(word_idx):\n",
    "            if word_idx[i] - word_idx[i - 1] < CLUSTER_THRESHOLD:\n",
    "                cluster.append(word_idx[i])\n",
    "            else:\n",
    "                clusters.append(cluster[:])\n",
    "                cluster = [word_idx[i]]\n",
    "            i += 1\n",
    "        clusters.append(cluster)\n",
    "        # Score each cluster. The max score for any given cluster is the score \n",
    "        # for the sentence\n",
    "        max_cluster_score = 0\n",
    "        for c in clusters:\n",
    "            significant_words_in_cluster = len(c)\n",
    "            total_words_in_cluster = c[-1] - c[0] + 1\n",
    "            score = 1.0 * significant_words_in_cluster \\\n",
    "                * significant_words_in_cluster / total_words_in_cluster\n",
    "            if score > max_cluster_score:\n",
    "                max_cluster_score = score\n",
    "        scores.append((sentence_idx, score))\n",
    "    return scores"
   ]
  },
  {
   "cell_type": "code",
   "execution_count": null,
   "metadata": {},
   "outputs": [],
   "source": [
    "def summarize(txt):\n",
    "    TOP_SENTENCES = 10  # Number of sentences to choose on \"top n\"\n",
    "    N = 100  # Number of words to consider\n",
    "    #sentences = [s for s in nltk.tokenize.sent_tokenize(txt)]\n",
    "    punkts = nltk.tokenize.PunktSentenceTokenizer() #trocando pelo punkt (melhor?)\n",
    "    punktw = nltk.tokenize.WordPunctTokenizer() #trocando pelo punkt (melhor?)\n",
    "    sentences = [s for s in punkts.tokenize(txt)]\n",
    "    normalized_sentences = [s.lower() for s in sentences]\n",
    "    words = [w.lower() for sentence in normalized_sentences for w in punktw.tokenize(sentence)]\n",
    "    fdist = nltk.FreqDist(words)\n",
    "    top_n_words = [w[0] for w in fdist.items() if w[0] not in ignore_words][:N]\n",
    "    scored_sentences = score_sentences(normalized_sentences, top_n_words)\n",
    "    # First approach:\n",
    "    # Filter out non-significant sentences by using the average score plus a\n",
    "    # fraction of the std dev as a filter\n",
    "    avg = np.mean([s[1] for s in scored_sentences])\n",
    "    std = np.std([s[1] for s in scored_sentences])\n",
    "    mean_scored = [(sent_idx, score) for (sent_idx, score) in scored_sentences\n",
    "                   if score > avg + 0.5 * std]\n",
    "    # Second Approach: \n",
    "    # Return only the top N ranked sentences\n",
    "    top_n_scored = sorted(scored_sentences, key=lambda s: s[1])[-TOP_SENTENCES:]\n",
    "    top_n_scored = sorted(top_n_scored, key=lambda s: s[0])\n",
    "    # Decorate the post object with summaries\n",
    "    return dict(top_n_summary=[sentences[idx] for (idx, score) in top_n_scored],\n",
    "                mean_scored_summary=[sentences[idx] for (idx, score) in mean_scored])"
   ]
  },
  {
   "cell_type": "code",
   "execution_count": null,
   "metadata": {},
   "outputs": [],
   "source": [
    "sumarios = summarize(raw_texts)\n",
    "sumarios['top_n_summary'] = set(sumarios['top_n_summary'])\n",
    "sumarios['mean_scored_summary'] = set(sumarios['mean_scored_summary'])\n",
    "\n",
    "print(u'frases mais importantes(1):\\n')\n",
    "for s in sumarios['top_n_summary']:\n",
    "    print(u'{}\\n'.format(s))"
   ]
  },
  {
   "cell_type": "code",
   "execution_count": null,
   "metadata": {},
   "outputs": [],
   "source": [
    "print(u'\\nfrases mais importantes(2):\\n')\n",
    "for s in sumarios['mean_scored_summary']:\n",
    "    print(u'{}\\n'.format(s))"
   ]
  },
  {
   "cell_type": "markdown",
   "metadata": {},
   "source": [
    "Extração de palavras relevantes usando TF-IDf  \n",
    "http://radimrehurek.com/gensim/models/tfidfmodel.html  \n",
    "http://radimrehurek.com/gensim/tutorial.html  \n",
    "http://radimrehurek.com/gensim/tut2.html  "
   ]
  },
  {
   "cell_type": "code",
   "execution_count": null,
   "metadata": {},
   "outputs": [],
   "source": [
    "tokens_once = [key for key in freq_words.keys() if freq_words[key]==1]\n",
    "texts = [[word.strip(string.punctuation) for word in document.lower().split() if word not in ignore_words]\n",
    "         for document in list_raw_texts]\n",
    "texts = [[word for word in text if word not in tokens_once and len(word) > 1] for text in texts]\n",
    "dictionary = gensim.corpora.Dictionary(texts)\n",
    "corpus = [dictionary.doc2bow(text) for text in texts]\n",
    "tfidf = gensim.models.TfidfModel(corpus)\n",
    "corpus_tfidf = tfidf[corpus]"
   ]
  },
  {
   "cell_type": "code",
   "execution_count": null,
   "metadata": {},
   "outputs": [],
   "source": [
    "x = 1\n",
    "for doc in corpus_tfidf:\n",
    "    print(u'\\nRelevant Words in Document {}:\\n'.format(x))\n",
    "    relev = 0\n",
    "    top_w = ''\n",
    "    x+=1\n",
    "    for w_in_dic, tfidf_w in doc:\n",
    "        if tfidf_w > relev:\n",
    "            top_w = w_in_dic\n",
    "            relev = tfidf_w\n",
    "    if top_w != '' and relev > 0:\n",
    "        print('{}\\t{}'.format(dictionary[top_w], relev)) #Rever questão do UTF-8\n",
    "    else:\n",
    "        print('Nothing relevant')"
   ]
  },
  {
   "cell_type": "markdown",
   "metadata": {},
   "source": [
    "#### [Goose](https://github.com/goose3/goose3)\n",
    "\n",
    "Extracting text from html pages  "
   ]
  },
  {
   "cell_type": "code",
   "execution_count": 3,
   "metadata": {},
   "outputs": [],
   "source": [
    "from goose3 import Goose\n",
    "\n",
    "url = 'http://edition.cnn.com/2012/02/22/world/europe/uk-occupy-london/index.html?hpt=ieu_c2'\n",
    "g = Goose(Goose({'use_meta_language': False, 'target_language':'en', 'parser_class':'lxml'}))\n",
    "\n",
    "article = g.extract(url=url)"
   ]
  },
  {
   "cell_type": "code",
   "execution_count": 4,
   "metadata": {},
   "outputs": [
    {
     "data": {
      "text/plain": [
       "'Occupy London loses eviction fight'"
      ]
     },
     "execution_count": 4,
     "metadata": {},
     "output_type": "execute_result"
    }
   ],
   "source": [
    "article.title"
   ]
  },
  {
   "cell_type": "code",
   "execution_count": 5,
   "metadata": {},
   "outputs": [
    {
     "data": {
      "text/plain": [
       "\"Occupy London protesters who have been camped outside the landmark St. Paul's Cathedral for the past four months lost their court bid to avoid eviction Wednesday in a decision made by London's Court of Appeal.\""
      ]
     },
     "execution_count": 5,
     "metadata": {},
     "output_type": "execute_result"
    }
   ],
   "source": [
    "article.meta_description"
   ]
  },
  {
   "cell_type": "code",
   "execution_count": 6,
   "metadata": {},
   "outputs": [
    {
     "data": {
      "text/plain": [
       "\"Occupy London protesters who have been camped outside the landmark St. Paul's Cathedral for the past four months lost their court bid to avoid evictio\""
      ]
     },
     "execution_count": 6,
     "metadata": {},
     "output_type": "execute_result"
    }
   ],
   "source": [
    "article.cleaned_text[:150]"
   ]
  },
  {
   "cell_type": "code",
   "execution_count": 7,
   "metadata": {
    "scrolled": true
   },
   "outputs": [
    {
     "data": {
      "text/plain": [
       "'http://cdn.cnn.com/cnnnext/dam/assets/111230083702-mclaughlin-uk-occupy-london-00021228-story-top.jpg'"
      ]
     },
     "execution_count": 7,
     "metadata": {},
     "output_type": "execute_result"
    }
   ],
   "source": [
    "article.top_image.src"
   ]
  },
  {
   "cell_type": "markdown",
   "metadata": {},
   "source": [
    "#### [Textblob](http://textblob.readthedocs.io/en/dev/)\n",
    "\n",
    "https://www.analyticsvidhya.com/blog/2018/02/natural-language-processing-for-beginners-using-textblob/\n",
    "\n",
    "Installing:  \n",
    "\n",
    "!sudo pip3 install -U textblob  \n",
    "!python -m textblob.download_corpora"
   ]
  },
  {
   "cell_type": "code",
   "execution_count": 3,
   "metadata": {},
   "outputs": [],
   "source": [
    "from textblob import TextBlob\n",
    "from textblob import Word\n",
    "\n",
    "text = '''\n",
    "The titular threat of The Blob has always struck me as the ultimate movie\n",
    "monster: an insatiably hungry, amoeba-like mass able to penetrate\n",
    "virtually any safeguard, capable of--as a doomed doctor chillingly\n",
    "describes it--\"assimilating flesh on contact.\n",
    "Snide comparisons to gelatin be damned, it's a concept with the most\n",
    "devastating of potential consequences, not unlike the grey goo scenario\n",
    "proposed by technological theorists fearful of\n",
    "artificial intelligence run rampant.\n",
    "'''\n",
    "\n",
    "text_pt = '''\n",
    "Com uma abordagem inédita, o curso de Mestrado em Modelagem Matemática \n",
    "integra à Matemática Aplicada o corpo de conhecimentos das Ciências da \n",
    "Computação e da Informação, com contextos de aplicações das ciências \n",
    "sociais, econômicas, biológicas e da saúde. O curso possibilita ao \n",
    "mestrando desenvolver a capacidade de analisar cenários e dar suporte \n",
    "à tomada de decisões em situações de uso intensivo de dados e informações, \n",
    "além de ter o objetivo de formar excelentes pesquisadores na área.\n",
    "'''"
   ]
  },
  {
   "cell_type": "code",
   "execution_count": 4,
   "metadata": {},
   "outputs": [],
   "source": [
    "blob = TextBlob(text)\n",
    "blob_pt = TextBlob(text_pt)"
   ]
  },
  {
   "cell_type": "code",
   "execution_count": 5,
   "metadata": {},
   "outputs": [
    {
     "data": {
      "text/plain": [
       "[Sentence(\"\n",
       " The titular threat of The Blob has always struck me as the ultimate movie\n",
       " monster: an insatiably hungry, amoeba-like mass able to penetrate\n",
       " virtually any safeguard, capable of--as a doomed doctor chillingly\n",
       " describes it--\"assimilating flesh on contact.\"),\n",
       " Sentence(\"Snide comparisons to gelatin be damned, it's a concept with the most\n",
       " devastating of potential consequences, not unlike the grey goo scenario\n",
       " proposed by technological theorists fearful of\n",
       " artificial intelligence run rampant.\")]"
      ]
     },
     "execution_count": 5,
     "metadata": {},
     "output_type": "execute_result"
    }
   ],
   "source": [
    "blob.sentences"
   ]
  },
  {
   "cell_type": "code",
   "execution_count": 6,
   "metadata": {},
   "outputs": [
    {
     "data": {
      "text/plain": [
       "[Sentence(\"\n",
       " Com uma abordagem inédita, o curso de Mestrado em Modelagem Matemática \n",
       " integra à Matemática Aplicada o corpo de conhecimentos das Ciências da \n",
       " Computação e da Informação, com contextos de aplicações das ciências \n",
       " sociais, econômicas, biológicas e da saúde.\"),\n",
       " Sentence(\"O curso possibilita ao \n",
       " mestrando desenvolver a capacidade de analisar cenários e dar suporte \n",
       " à tomada de decisões em situações de uso intensivo de dados e informações, \n",
       " além de ter o objetivo de formar excelentes pesquisadores na área.\")]"
      ]
     },
     "execution_count": 6,
     "metadata": {},
     "output_type": "execute_result"
    }
   ],
   "source": [
    "blob_pt.sentences"
   ]
  },
  {
   "cell_type": "code",
   "execution_count": 7,
   "metadata": {},
   "outputs": [
    {
     "data": {
      "text/plain": [
       "WordList(['Snide', 'comparisons', 'to', 'gelatin', 'be', 'damned', 'it', \"'s\", 'a', 'concept', 'with', 'the', 'most', 'devastating', 'of', 'potential', 'consequences', 'not', 'unlike', 'the', 'grey', 'goo', 'scenario', 'proposed', 'by', 'technological', 'theorists', 'fearful', 'of', 'artificial', 'intelligence', 'run', 'rampant'])"
      ]
     },
     "execution_count": 7,
     "metadata": {},
     "output_type": "execute_result"
    }
   ],
   "source": [
    "blob.sentences[1].words"
   ]
  },
  {
   "cell_type": "markdown",
   "metadata": {},
   "source": [
    "Functions applied to the Word object:  "
   ]
  },
  {
   "cell_type": "code",
   "execution_count": 8,
   "metadata": {},
   "outputs": [
    {
     "data": {
      "text/plain": [
       "WordList(['Snide', 'comparison', 'to', 'gelatin', 'be', 'damned', 'it', \"'\", 'a', 'concept', 'with', 'the', 'most', 'devastating', 'of', 'potential', 'consequence', 'not', 'unlike', 'the', 'grey', 'goo', 'scenario', 'proposed', 'by', 'technological', 'theorist', 'fearful', 'of', 'artificial', 'intelligence', 'run', 'rampant'])"
      ]
     },
     "execution_count": 8,
     "metadata": {},
     "output_type": "execute_result"
    }
   ],
   "source": [
    "blob.sentences[1].words.singularize()"
   ]
  },
  {
   "cell_type": "code",
   "execution_count": 9,
   "metadata": {},
   "outputs": [
    {
     "data": {
      "text/plain": [
       "'Platforms'"
      ]
     },
     "execution_count": 9,
     "metadata": {},
     "output_type": "execute_result"
    }
   ],
   "source": [
    "w = Word('Platform')\n",
    "w.pluralize()"
   ]
  },
  {
   "cell_type": "markdown",
   "metadata": {},
   "source": [
    "Lemmatization  "
   ]
  },
  {
   "cell_type": "code",
   "execution_count": 10,
   "metadata": {},
   "outputs": [
    {
     "data": {
      "text/plain": [
       "'run'"
      ]
     },
     "execution_count": 10,
     "metadata": {},
     "output_type": "execute_result"
    }
   ],
   "source": [
    "w = Word('running')\n",
    "w.lemmatize(\"v\") ## v here represents verb"
   ]
  },
  {
   "cell_type": "markdown",
   "metadata": {},
   "source": [
    "POS tags  "
   ]
  },
  {
   "cell_type": "code",
   "execution_count": 11,
   "metadata": {},
   "outputs": [
    {
     "data": {
      "text/plain": [
       "[('The', 'DT'),\n",
       " ('titular', 'JJ'),\n",
       " ('threat', 'NN'),\n",
       " ('of', 'IN'),\n",
       " ('The', 'DT'),\n",
       " ('Blob', 'NNP'),\n",
       " ('has', 'VBZ'),\n",
       " ('always', 'RB'),\n",
       " ('struck', 'VBN'),\n",
       " ('me', 'PRP')]"
      ]
     },
     "execution_count": 11,
     "metadata": {},
     "output_type": "execute_result"
    }
   ],
   "source": [
    "blob.tags[0:10]"
   ]
  },
  {
   "cell_type": "code",
   "execution_count": 12,
   "metadata": {},
   "outputs": [
    {
     "data": {
      "text/plain": [
       "[('Com', 'NNP'),\n",
       " ('uma', 'JJ'),\n",
       " ('abordagem', 'NN'),\n",
       " ('inédita', 'NN'),\n",
       " ('o', 'JJ'),\n",
       " ('curso', 'NN'),\n",
       " ('de', 'IN'),\n",
       " ('Mestrado', 'NNP'),\n",
       " ('em', 'CC'),\n",
       " ('Modelagem', 'NNP')]"
      ]
     },
     "execution_count": 12,
     "metadata": {},
     "output_type": "execute_result"
    }
   ],
   "source": [
    "blob_pt.tags[0:10]"
   ]
  },
  {
   "cell_type": "markdown",
   "metadata": {},
   "source": [
    "Ngrams  "
   ]
  },
  {
   "cell_type": "code",
   "execution_count": 13,
   "metadata": {},
   "outputs": [
    {
     "name": "stdout",
     "output_type": "stream",
     "text": [
      "['The', 'titular']\n",
      "['titular', 'threat']\n",
      "['threat', 'of']\n",
      "['of', 'The']\n",
      "['The', 'Blob']\n",
      "['Blob', 'has']\n",
      "['has', 'always']\n",
      "['always', 'struck']\n",
      "['struck', 'me']\n",
      "['me', 'as']\n",
      "['as', 'the']\n",
      "['the', 'ultimate']\n",
      "['ultimate', 'movie']\n",
      "['movie', 'monster']\n",
      "['monster', 'an']\n",
      "['an', 'insatiably']\n",
      "['insatiably', 'hungry']\n",
      "['hungry', 'amoeba-like']\n",
      "['amoeba-like', 'mass']\n",
      "['mass', 'able']\n",
      "['able', 'to']\n",
      "['to', 'penetrate']\n",
      "['penetrate', 'virtually']\n",
      "['virtually', 'any']\n",
      "['any', 'safeguard']\n",
      "['safeguard', 'capable']\n",
      "['capable', 'of']\n",
      "['of', 'as']\n",
      "['as', 'a']\n",
      "['a', 'doomed']\n",
      "['doomed', 'doctor']\n",
      "['doctor', 'chillingly']\n",
      "['chillingly', 'describes']\n",
      "['describes', 'it']\n",
      "['it', 'assimilating']\n",
      "['assimilating', 'flesh']\n",
      "['flesh', 'on']\n",
      "['on', 'contact']\n",
      "['contact', 'Snide']\n",
      "['Snide', 'comparisons']\n",
      "['comparisons', 'to']\n",
      "['to', 'gelatin']\n",
      "['gelatin', 'be']\n",
      "['be', 'damned']\n",
      "['damned', 'it']\n",
      "['it', \"'s\"]\n",
      "[\"'s\", 'a']\n",
      "['a', 'concept']\n",
      "['concept', 'with']\n",
      "['with', 'the']\n",
      "['the', 'most']\n",
      "['most', 'devastating']\n",
      "['devastating', 'of']\n",
      "['of', 'potential']\n",
      "['potential', 'consequences']\n",
      "['consequences', 'not']\n",
      "['not', 'unlike']\n",
      "['unlike', 'the']\n",
      "['the', 'grey']\n",
      "['grey', 'goo']\n",
      "['goo', 'scenario']\n",
      "['scenario', 'proposed']\n",
      "['proposed', 'by']\n",
      "['by', 'technological']\n",
      "['technological', 'theorists']\n",
      "['theorists', 'fearful']\n",
      "['fearful', 'of']\n",
      "['of', 'artificial']\n",
      "['artificial', 'intelligence']\n",
      "['intelligence', 'run']\n",
      "['run', 'rampant']\n"
     ]
    }
   ],
   "source": [
    "for ngram in blob.ngrams(2):\n",
    "    print(ngram)"
   ]
  },
  {
   "cell_type": "markdown",
   "metadata": {},
   "source": [
    "Noun Phrase Extraction"
   ]
  },
  {
   "cell_type": "code",
   "execution_count": 14,
   "metadata": {},
   "outputs": [
    {
     "data": {
      "text/plain": [
       "WordList(['titular threat', 'blob', 'ultimate movie monster', 'amoeba-like mass', 'snide', 'potential consequences', 'grey goo scenario', 'technological theorists fearful', 'artificial intelligence run rampant'])"
      ]
     },
     "execution_count": 14,
     "metadata": {},
     "output_type": "execute_result"
    }
   ],
   "source": [
    "blob.noun_phrases"
   ]
  },
  {
   "cell_type": "code",
   "execution_count": 15,
   "metadata": {},
   "outputs": [
    {
     "data": {
      "text/plain": [
       "WordList(['com', 'uma abordagem inédita', 'o curso', 'mestrado', 'modelagem matemática', 'integra à', 'matemática aplicada', 'o corpo', 'conhecimentos das', 'ciências', 'computação', 'e da', 'informação', 'com contextos', 'aplicações das ciências sociais', 'biológicas e da saúde', 'o curso possibilita ao mestrando desenvolver', 'analisar cenários e dar suporte à tomada', 'decisões em situações', 'uso intensivo', 'dados e informações', 'ter o objetivo', 'formar excelentes pesquisadores na área'])"
      ]
     },
     "execution_count": 15,
     "metadata": {},
     "output_type": "execute_result"
    }
   ],
   "source": [
    "blob_pt.noun_phrases"
   ]
  },
  {
   "cell_type": "markdown",
   "metadata": {},
   "source": [
    "Sentiment Analysis  "
   ]
  },
  {
   "cell_type": "code",
   "execution_count": 16,
   "metadata": {},
   "outputs": [
    {
     "name": "stdout",
     "output_type": "stream",
     "text": [
      "0.06000000000000001\n",
      "-0.34166666666666673\n"
     ]
    }
   ],
   "source": [
    "for sentence in blob.sentences:\n",
    "    print(sentence.sentiment.polarity)"
   ]
  },
  {
   "cell_type": "markdown",
   "metadata": {},
   "source": [
    "Translation"
   ]
  },
  {
   "cell_type": "code",
   "execution_count": 17,
   "metadata": {},
   "outputs": [
    {
     "data": {
      "text/plain": [
       "TextBlob(\"A ameaça titular de The Blob sempre me pareceu o melhor filme\n",
       "Monstro: uma massa insaciável com fome e ameba capaz de penetrar\n",
       "praticamente qualquer salvaguarda, capaz de - como um doutor doente com calma\n",
       "descreve isso - \"assimilando a carne no contato\".\n",
       "As combinações de Snide com a gelatina serão condenadas, é um conceito com o máximo\n",
       "devastador de possíveis consequências, não muito diferente do cenário cinza\n",
       "proposto por teóricos tecnológicos com medo de\n",
       "a inteligência artificial corre desenfreada.\")"
      ]
     },
     "execution_count": 17,
     "metadata": {},
     "output_type": "execute_result"
    }
   ],
   "source": [
    "blob.translate(to=\"pt\")"
   ]
  },
  {
   "cell_type": "markdown",
   "metadata": {},
   "source": [
    "Detecting language"
   ]
  },
  {
   "cell_type": "code",
   "execution_count": 26,
   "metadata": {},
   "outputs": [
    {
     "data": {
      "text/plain": [
       "'pt'"
      ]
     },
     "execution_count": 26,
     "metadata": {},
     "output_type": "execute_result"
    }
   ],
   "source": [
    "blob_pt.detect_language()"
   ]
  },
  {
   "cell_type": "markdown",
   "metadata": {},
   "source": [
    "Spellcheck"
   ]
  },
  {
   "cell_type": "code",
   "execution_count": 22,
   "metadata": {},
   "outputs": [
    {
     "data": {
      "text/plain": [
       "TextBlob(\"FGV is the best think ten in the word!\")"
      ]
     },
     "execution_count": 22,
     "metadata": {},
     "output_type": "execute_result"
    }
   ],
   "source": [
    "blob = TextBlob('FGV is the bist think tenk in the word!')\n",
    "blob.correct()"
   ]
  },
  {
   "cell_type": "code",
   "execution_count": 25,
   "metadata": {},
   "outputs": [
    {
     "data": {
      "text/plain": [
       "[('ten', 0.6656534954407295),\n",
       " ('tend', 0.1580547112462006),\n",
       " ('tent', 0.0729483282674772),\n",
       " ('tens', 0.0486322188449848),\n",
       " ('teno', 0.03951367781155015),\n",
       " ('tenn', 0.00911854103343465),\n",
       " ('tank', 0.0060790273556231)]"
      ]
     },
     "execution_count": 25,
     "metadata": {},
     "output_type": "execute_result"
    }
   ],
   "source": [
    "blob.words[5].spellcheck()"
   ]
  },
  {
   "cell_type": "markdown",
   "metadata": {},
   "source": [
    "Text classification"
   ]
  },
  {
   "cell_type": "code",
   "execution_count": 27,
   "metadata": {},
   "outputs": [],
   "source": [
    "training = [\n",
    "('Tom Holland is a terrible spiderman.','pos'),\n",
    "('a terrible Javert (Russell Crowe) ruined Les Miserables for me...','pos'),\n",
    "('The Dark Knight Rises is the greatest superhero movie ever!','neg'),\n",
    "('Fantastic Four should have never been made.','pos'),\n",
    "('Wes Anderson is my favorite director!','neg'),\n",
    "('Captain America 2 is pretty awesome.','neg'),\n",
    "('Let\\s pretend \"Batman and Robin\" never happened..','pos'),\n",
    "]\n",
    "\n",
    "testing = [\n",
    "('Superman was never an interesting character.','pos'),\n",
    "('Fantastic Mr Fox is an awesome film!','neg'),\n",
    "('Dragonball Evolution is simply terrible!!','pos')\n",
    "]"
   ]
  },
  {
   "cell_type": "code",
   "execution_count": 28,
   "metadata": {},
   "outputs": [],
   "source": [
    "from textblob import classifiers\n",
    "nb_classifier = classifiers.NaiveBayesClassifier(training)\n",
    "dt_classifier = classifiers.DecisionTreeClassifier(training)"
   ]
  },
  {
   "cell_type": "code",
   "execution_count": 30,
   "metadata": {},
   "outputs": [
    {
     "name": "stdout",
     "output_type": "stream",
     "text": [
      "1.0\n"
     ]
    }
   ],
   "source": [
    "print (nb_classifier.accuracy(testing))"
   ]
  },
  {
   "cell_type": "code",
   "execution_count": 32,
   "metadata": {},
   "outputs": [
    {
     "name": "stdout",
     "output_type": "stream",
     "text": [
      "Most Informative Features\n",
      "            contains(is) = True              neg : pos    =      2.9 : 1.0\n",
      "      contains(terrible) = False             neg : pos    =      1.8 : 1.0\n",
      "             contains(a) = False             neg : pos    =      1.8 : 1.0\n"
     ]
    }
   ],
   "source": [
    "nb_classifier.show_informative_features(3)"
   ]
  },
  {
   "cell_type": "code",
   "execution_count": 33,
   "metadata": {},
   "outputs": [
    {
     "name": "stdout",
     "output_type": "stream",
     "text": [
      "neg\n"
     ]
    }
   ],
   "source": [
    "blob = TextBlob('the weather is terrible!', classifier=dt_classifier)\n",
    "print (blob.classify())"
   ]
  },
  {
   "cell_type": "markdown",
   "metadata": {},
   "source": [
    "#### Basic Polarizing Functions for Sentiment Analysis"
   ]
  },
  {
   "cell_type": "markdown",
   "metadata": {},
   "source": [
    "Loading the polarized lexycom file - OpLexicon (BR)"
   ]
  },
  {
   "cell_type": "code",
   "execution_count": null,
   "metadata": {},
   "outputs": [],
   "source": [
    "df_o = pd.read_csv(os.path.join(datapath,oplexicon), header=None, encoding='utf-8', usecols=[0,2], names=[u'palavra',u'polaridade'])\n",
    "df_o.drop_duplicates(subset=[u'palavra'], keep='first', inplace=True)\n",
    "df_o = df_o.set_index(u'palavra')\n",
    "print(u'Corpus com {} palavras polarizadas'.format(len(df_o)))"
   ]
  },
  {
   "cell_type": "code",
   "execution_count": null,
   "metadata": {},
   "outputs": [],
   "source": [
    "def polariza_texto(texto, df1):\n",
    "    polaridades = []\n",
    "    ausentes = []\n",
    "    l_palavras = texto.split()\n",
    "    for palavra in l_palavras:\n",
    "        p = palavra.lower().strip()\n",
    "        if p in df1.index:\n",
    "            polaridades.append(df1.polaridade[p])\n",
    "        else:\n",
    "            ausentes.append(p)\n",
    "    num_pal = len(l_palavras)\n",
    "    num_pol = len(polaridades)\n",
    "    razao_pol = num_pol/float(num_pal) if num_pal else 0.0\n",
    "    polaridade = sum(polaridades)/float(num_pol) if num_pol else 0.0\n",
    "    #print('Foram polarizadas {} palavras de um total de {} ({:.2%})'.format(num_pol, num_pal, razao_pol))\n",
    "    #print('A polaridade mensurada do texto é de {:.3}'.format(polaridade))\n",
    "    return polaridade, ausentes"
   ]
  },
  {
   "cell_type": "code",
   "execution_count": null,
   "metadata": {},
   "outputs": [],
   "source": [
    "def polariza_counter(dicionario, df1):\n",
    "    polaridades = []\n",
    "    fator_div = 0\n",
    "    ausentes = []\n",
    "    for palavra, frequencia in dicionario.iteritems():\n",
    "        p = palavra.lower().strip()\n",
    "        if p in df1.index:\n",
    "            polaridades.append(df1.polaridade[p] * frequencia)\n",
    "            fator_div += frequencia\n",
    "        else:\n",
    "            ausentes.append((palavra,frequencia))\n",
    "    num_pal = len(dicionario)\n",
    "    num_pol = len(polaridades)\n",
    "    razao_pol = num_pol/float(num_pal) if num_pal else 0.0\n",
    "    polaridade = sum(polaridades)/float(fator_div)\n",
    "    print('Foram polarizadas {} palavras de um total de {} ({:.2%})'.format(num_pol, num_pal, razao_pol))\n",
    "    print('A polaridade mensurada do texto é de {:.3}'.format(polaridade))\n",
    "    return polaridade, ausentes"
   ]
  },
  {
   "cell_type": "code",
   "execution_count": null,
   "metadata": {},
   "outputs": [],
   "source": []
  }
 ],
 "metadata": {
  "kernelspec": {
   "display_name": "Python 3",
   "language": "python",
   "name": "python3"
  },
  "language_info": {
   "codemirror_mode": {
    "name": "ipython",
    "version": 3
   },
   "file_extension": ".py",
   "mimetype": "text/x-python",
   "name": "python",
   "nbconvert_exporter": "python",
   "pygments_lexer": "ipython3",
   "version": "3.6.3"
  }
 },
 "nbformat": 4,
 "nbformat_minor": 2
}
