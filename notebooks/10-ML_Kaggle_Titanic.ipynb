{
 "cells": [
  {
   "cell_type": "markdown",
   "metadata": {},
   "source": [
    "## Introduction to Data Science\n",
    "\n",
    "### Predictive Analysis - numerical and categorical data"
   ]
  },
  {
   "cell_type": "markdown",
   "metadata": {},
   "source": [
    "#### The sinking of Titanic"
   ]
  },
  {
   "cell_type": "markdown",
   "metadata": {},
   "source": [
    "https://www.kaggle.com/c/titanic-gettingStarted\n",
    "\n",
    "The sinking of the RMS Titanic is one of the most infamous shipwrecks in history.  On April 15, 1912, during her maiden voyage, the Titanic sank after colliding with an iceberg, killing 1502 out of 2224 passengers and crew. This sensational tragedy shocked the international community and led to better safety regulations for ships.\n",
    "\n",
    "One of the reasons that the shipwreck led to such loss of life was that there were not enough lifeboats for the passengers and crew. Although there was some element of luck involved in surviving the sinking, some groups of people were more likely to survive than others, such as women, children, and the upper-class.\n",
    "\n",
    "In this challenge, we ask you to complete the analysis of what sorts of people were likely to survive. In particular, we ask you to apply the tools of machine learning to predict which passengers survived the tragedy."
   ]
  },
  {
   "cell_type": "markdown",
   "metadata": {},
   "source": [
    "VARIABLE DESCRIPTIONS:\n",
    "survival        Survival\n",
    "                (0 = No; 1 = Yes)\n",
    "pclass          Passenger Class\n",
    "                (1 = 1st; 2 = 2nd; 3 = 3rd)\n",
    "name            Name\n",
    "sex             Sex\n",
    "age             Age\n",
    "sibsp           Number of Siblings/Spouses Aboard\n",
    "parch           Number of Parents/Children Aboard\n",
    "ticket          Ticket Number\n",
    "fare            Passenger Fare\n",
    "cabin           Cabin\n",
    "embarked        Port of Embarkation\n",
    "                (C = Cherbourg; Q = Queenstown; S = Southampton)\n",
    "\n",
    "SPECIAL NOTES:\n",
    "Pclass is a proxy for socio-economic status (SES)\n",
    " 1st ~ Upper; 2nd ~ Middle; 3rd ~ Lower\n",
    "\n",
    "Age is in Years; Fractional if Age less than One (1)\n",
    " If the Age is Estimated, it is in the form xx.5\n",
    "\n",
    "With respect to the family relation variables (i.e. sibsp and parch)\n",
    "some relations were ignored.  The following are the definitions used\n",
    "for sibsp and parch.\n",
    "\n",
    "Sibling:  Brother, Sister, Stepbrother, or Stepsister of Passenger Aboard Titanic\n",
    "Spouse:   Husband or Wife of Passenger Aboard Titanic (Mistresses and Fiances Ignored)\n",
    "Parent:   Mother or Father of Passenger Aboard Titanic\n",
    "Child:    Son, Daughter, Stepson, or Stepdaughter of Passenger Aboard Titanic\n",
    "\n",
    "Other family relatives excluded from this study include cousins,\n",
    "nephews/nieces, aunts/uncles, and in-laws.  Some children travelled\n",
    "only with a nanny, therefore parch=0 for them.  As well, some\n",
    "travelled with very close friends or neighbors in a village, however,\n",
    "the definitions do not support such relations."
   ]
  },
  {
   "cell_type": "markdown",
   "metadata": {},
   "source": [
    "#### Loading the usual packages...  "
   ]
  },
  {
   "cell_type": "code",
   "execution_count": 1,
   "metadata": {},
   "outputs": [
    {
     "name": "stderr",
     "output_type": "stream",
     "text": [
      "/usr/local/lib/python3.6/dist-packages/statsmodels/compat/pandas.py:56: FutureWarning: The pandas.core.datetools module is deprecated and will be removed in a future version. Please use the pandas.tseries module instead.\n",
      "  from pandas.core import datetools\n"
     ]
    }
   ],
   "source": [
    "import os\n",
    "import sys\n",
    "import time\n",
    "import pickle\n",
    "import itertools\n",
    "import pandas as pd\n",
    "import numpy as np\n",
    "import pylab\n",
    "\n",
    "import statsmodels.api as sm\n",
    "import statsmodels.formula.api as smf\n",
    "\n",
    "import matplotlib\n",
    "import matplotlib.pyplot as plt\n",
    "from matplotlib.font_manager import FontProperties\n",
    "import seaborn as sns\n",
    "\n",
    "%matplotlib inline\n",
    "#%matplotlib notebook\n",
    "#matplotlib.rcdefaults()\n",
    "#matplotlib.verbose.set_level('silent')"
   ]
  },
  {
   "cell_type": "markdown",
   "metadata": {},
   "source": [
    "#### Importing the datasets"
   ]
  },
  {
   "cell_type": "code",
   "execution_count": 2,
   "metadata": {},
   "outputs": [],
   "source": [
    "datapath = \"../datasets/\"\n",
    "outputs = \"../outputs/\""
   ]
  },
  {
   "cell_type": "code",
   "execution_count": 3,
   "metadata": {},
   "outputs": [],
   "source": [
    "df_train = pd.read_csv(os.path.join(datapath,'Kaggle/Titanic/kaggle_titanic_train.csv'))\n",
    "df_test = pd.read_csv(os.path.join(datapath,'Kaggle/Titanic/kaggle_titanic_test.csv'))"
   ]
  },
  {
   "cell_type": "markdown",
   "metadata": {},
   "source": [
    "#### Exploring Data"
   ]
  },
  {
   "cell_type": "code",
   "execution_count": 4,
   "metadata": {},
   "outputs": [
    {
     "data": {
      "text/html": [
       "<div>\n",
       "<style scoped>\n",
       "    .dataframe tbody tr th:only-of-type {\n",
       "        vertical-align: middle;\n",
       "    }\n",
       "\n",
       "    .dataframe tbody tr th {\n",
       "        vertical-align: top;\n",
       "    }\n",
       "\n",
       "    .dataframe thead th {\n",
       "        text-align: right;\n",
       "    }\n",
       "</style>\n",
       "<table border=\"1\" class=\"dataframe\">\n",
       "  <thead>\n",
       "    <tr style=\"text-align: right;\">\n",
       "      <th></th>\n",
       "      <th>PassengerId</th>\n",
       "      <th>Survived</th>\n",
       "      <th>Pclass</th>\n",
       "      <th>Name</th>\n",
       "      <th>Sex</th>\n",
       "      <th>Age</th>\n",
       "      <th>SibSp</th>\n",
       "      <th>Parch</th>\n",
       "      <th>Ticket</th>\n",
       "      <th>Fare</th>\n",
       "      <th>Cabin</th>\n",
       "      <th>Embarked</th>\n",
       "    </tr>\n",
       "  </thead>\n",
       "  <tbody>\n",
       "    <tr>\n",
       "      <th>0</th>\n",
       "      <td>1</td>\n",
       "      <td>0</td>\n",
       "      <td>3</td>\n",
       "      <td>Braund, Mr. Owen Harris</td>\n",
       "      <td>male</td>\n",
       "      <td>22.0</td>\n",
       "      <td>1</td>\n",
       "      <td>0</td>\n",
       "      <td>A/5 21171</td>\n",
       "      <td>7.2500</td>\n",
       "      <td>NaN</td>\n",
       "      <td>S</td>\n",
       "    </tr>\n",
       "    <tr>\n",
       "      <th>1</th>\n",
       "      <td>2</td>\n",
       "      <td>1</td>\n",
       "      <td>1</td>\n",
       "      <td>Cumings, Mrs. John Bradley (Florence Briggs Th...</td>\n",
       "      <td>female</td>\n",
       "      <td>38.0</td>\n",
       "      <td>1</td>\n",
       "      <td>0</td>\n",
       "      <td>PC 17599</td>\n",
       "      <td>71.2833</td>\n",
       "      <td>C85</td>\n",
       "      <td>C</td>\n",
       "    </tr>\n",
       "    <tr>\n",
       "      <th>2</th>\n",
       "      <td>3</td>\n",
       "      <td>1</td>\n",
       "      <td>3</td>\n",
       "      <td>Heikkinen, Miss. Laina</td>\n",
       "      <td>female</td>\n",
       "      <td>26.0</td>\n",
       "      <td>0</td>\n",
       "      <td>0</td>\n",
       "      <td>STON/O2. 3101282</td>\n",
       "      <td>7.9250</td>\n",
       "      <td>NaN</td>\n",
       "      <td>S</td>\n",
       "    </tr>\n",
       "    <tr>\n",
       "      <th>3</th>\n",
       "      <td>4</td>\n",
       "      <td>1</td>\n",
       "      <td>1</td>\n",
       "      <td>Futrelle, Mrs. Jacques Heath (Lily May Peel)</td>\n",
       "      <td>female</td>\n",
       "      <td>35.0</td>\n",
       "      <td>1</td>\n",
       "      <td>0</td>\n",
       "      <td>113803</td>\n",
       "      <td>53.1000</td>\n",
       "      <td>C123</td>\n",
       "      <td>S</td>\n",
       "    </tr>\n",
       "    <tr>\n",
       "      <th>4</th>\n",
       "      <td>5</td>\n",
       "      <td>0</td>\n",
       "      <td>3</td>\n",
       "      <td>Allen, Mr. William Henry</td>\n",
       "      <td>male</td>\n",
       "      <td>35.0</td>\n",
       "      <td>0</td>\n",
       "      <td>0</td>\n",
       "      <td>373450</td>\n",
       "      <td>8.0500</td>\n",
       "      <td>NaN</td>\n",
       "      <td>S</td>\n",
       "    </tr>\n",
       "  </tbody>\n",
       "</table>\n",
       "</div>"
      ],
      "text/plain": [
       "   PassengerId  Survived  Pclass  \\\n",
       "0            1         0       3   \n",
       "1            2         1       1   \n",
       "2            3         1       3   \n",
       "3            4         1       1   \n",
       "4            5         0       3   \n",
       "\n",
       "                                                Name     Sex   Age  SibSp  \\\n",
       "0                            Braund, Mr. Owen Harris    male  22.0      1   \n",
       "1  Cumings, Mrs. John Bradley (Florence Briggs Th...  female  38.0      1   \n",
       "2                             Heikkinen, Miss. Laina  female  26.0      0   \n",
       "3       Futrelle, Mrs. Jacques Heath (Lily May Peel)  female  35.0      1   \n",
       "4                           Allen, Mr. William Henry    male  35.0      0   \n",
       "\n",
       "   Parch            Ticket     Fare Cabin Embarked  \n",
       "0      0         A/5 21171   7.2500   NaN        S  \n",
       "1      0          PC 17599  71.2833   C85        C  \n",
       "2      0  STON/O2. 3101282   7.9250   NaN        S  \n",
       "3      0            113803  53.1000  C123        S  \n",
       "4      0            373450   8.0500   NaN        S  "
      ]
     },
     "execution_count": 4,
     "metadata": {},
     "output_type": "execute_result"
    }
   ],
   "source": [
    "df_train.head()"
   ]
  },
  {
   "cell_type": "code",
   "execution_count": 5,
   "metadata": {},
   "outputs": [
    {
     "name": "stdout",
     "output_type": "stream",
     "text": [
      "<class 'pandas.core.frame.DataFrame'>\n",
      "RangeIndex: 891 entries, 0 to 890\n",
      "Data columns (total 12 columns):\n",
      "PassengerId    891 non-null int64\n",
      "Survived       891 non-null int64\n",
      "Pclass         891 non-null int64\n",
      "Name           891 non-null object\n",
      "Sex            891 non-null object\n",
      "Age            714 non-null float64\n",
      "SibSp          891 non-null int64\n",
      "Parch          891 non-null int64\n",
      "Ticket         891 non-null object\n",
      "Fare           891 non-null float64\n",
      "Cabin          204 non-null object\n",
      "Embarked       889 non-null object\n",
      "dtypes: float64(2), int64(5), object(5)\n",
      "memory usage: 83.6+ KB\n"
     ]
    }
   ],
   "source": [
    "df_train.info()"
   ]
  },
  {
   "cell_type": "code",
   "execution_count": 6,
   "metadata": {},
   "outputs": [
    {
     "data": {
      "text/plain": [
       "PassengerId      int64\n",
       "Survived         int64\n",
       "Pclass           int64\n",
       "Name            object\n",
       "Sex             object\n",
       "Age            float64\n",
       "SibSp            int64\n",
       "Parch            int64\n",
       "Ticket          object\n",
       "Fare           float64\n",
       "Cabin           object\n",
       "Embarked        object\n",
       "dtype: object"
      ]
     },
     "execution_count": 6,
     "metadata": {},
     "output_type": "execute_result"
    }
   ],
   "source": [
    "df_train.dtypes"
   ]
  },
  {
   "cell_type": "code",
   "execution_count": 7,
   "metadata": {},
   "outputs": [
    {
     "data": {
      "text/plain": [
       "PassengerId    int64\n",
       "Survived       int64\n",
       "Pclass         int64\n",
       "SibSp          int64\n",
       "Parch          int64\n",
       "dtype: object"
      ]
     },
     "execution_count": 7,
     "metadata": {},
     "output_type": "execute_result"
    }
   ],
   "source": [
    "df_train.dtypes[df_train.dtypes.map(lambda x: x=='int64')]"
   ]
  },
  {
   "cell_type": "code",
   "execution_count": 8,
   "metadata": {},
   "outputs": [
    {
     "data": {
      "text/plain": [
       "Age     float64\n",
       "Fare    float64\n",
       "dtype: object"
      ]
     },
     "execution_count": 8,
     "metadata": {},
     "output_type": "execute_result"
    }
   ],
   "source": [
    "df_train.dtypes[df_train.dtypes.map(lambda x: x=='float64')]"
   ]
  },
  {
   "cell_type": "code",
   "execution_count": 9,
   "metadata": {},
   "outputs": [
    {
     "data": {
      "text/plain": [
       "Name        object\n",
       "Sex         object\n",
       "Ticket      object\n",
       "Cabin       object\n",
       "Embarked    object\n",
       "dtype: object"
      ]
     },
     "execution_count": 9,
     "metadata": {},
     "output_type": "execute_result"
    }
   ],
   "source": [
    "df_train.dtypes[df_train.dtypes.map(lambda x: x=='object')]"
   ]
  },
  {
   "cell_type": "code",
   "execution_count": 10,
   "metadata": {},
   "outputs": [
    {
     "data": {
      "text/plain": [
       "Index(['PassengerId', 'Survived', 'Pclass', 'Name', 'Sex', 'Age', 'SibSp',\n",
       "       'Parch', 'Ticket', 'Fare', 'Cabin', 'Embarked'],\n",
       "      dtype='object')"
      ]
     },
     "execution_count": 10,
     "metadata": {},
     "output_type": "execute_result"
    }
   ],
   "source": [
    "df_train.columns"
   ]
  },
  {
   "cell_type": "code",
   "execution_count": 11,
   "metadata": {},
   "outputs": [
    {
     "name": "stdout",
     "output_type": "stream",
     "text": [
      "Number of levels in category 'PassengerId': \b 891.00 \n",
      "Number of levels in category 'Survived': \b 2.00 \n",
      "Number of levels in category 'Pclass': \b 3.00 \n",
      "Number of levels in category 'Name': \b 891.00 \n",
      "Number of levels in category 'Sex': \b 2.00 \n",
      "Number of levels in category 'Age': \b 89.00 \n",
      "Number of levels in category 'SibSp': \b 7.00 \n",
      "Number of levels in category 'Parch': \b 7.00 \n",
      "Number of levels in category 'Ticket': \b 681.00 \n",
      "Number of levels in category 'Fare': \b 248.00 \n",
      "Number of levels in category 'Cabin': \b 148.00 \n",
      "Number of levels in category 'Embarked': \b 4.00 \n"
     ]
    }
   ],
   "source": [
    "for cat in df_train.columns:\n",
    "    print(\"Number of levels in category '{0}': \\b {1:2.2f} \".format(cat, df_train[cat].unique().size))"
   ]
  },
  {
   "cell_type": "markdown",
   "metadata": {},
   "source": [
    "#### Describing the numeric values"
   ]
  },
  {
   "cell_type": "code",
   "execution_count": 12,
   "metadata": {},
   "outputs": [
    {
     "data": {
      "text/html": [
       "<div>\n",
       "<style scoped>\n",
       "    .dataframe tbody tr th:only-of-type {\n",
       "        vertical-align: middle;\n",
       "    }\n",
       "\n",
       "    .dataframe tbody tr th {\n",
       "        vertical-align: top;\n",
       "    }\n",
       "\n",
       "    .dataframe thead th {\n",
       "        text-align: right;\n",
       "    }\n",
       "</style>\n",
       "<table border=\"1\" class=\"dataframe\">\n",
       "  <thead>\n",
       "    <tr style=\"text-align: right;\">\n",
       "      <th></th>\n",
       "      <th>PassengerId</th>\n",
       "      <th>Survived</th>\n",
       "      <th>Pclass</th>\n",
       "      <th>Age</th>\n",
       "      <th>SibSp</th>\n",
       "      <th>Parch</th>\n",
       "      <th>Fare</th>\n",
       "    </tr>\n",
       "  </thead>\n",
       "  <tbody>\n",
       "    <tr>\n",
       "      <th>count</th>\n",
       "      <td>891.000000</td>\n",
       "      <td>891.000000</td>\n",
       "      <td>891.000000</td>\n",
       "      <td>714.000000</td>\n",
       "      <td>891.000000</td>\n",
       "      <td>891.000000</td>\n",
       "      <td>891.000000</td>\n",
       "    </tr>\n",
       "    <tr>\n",
       "      <th>mean</th>\n",
       "      <td>446.000000</td>\n",
       "      <td>0.383838</td>\n",
       "      <td>2.308642</td>\n",
       "      <td>29.699118</td>\n",
       "      <td>0.523008</td>\n",
       "      <td>0.381594</td>\n",
       "      <td>32.204208</td>\n",
       "    </tr>\n",
       "    <tr>\n",
       "      <th>std</th>\n",
       "      <td>257.353842</td>\n",
       "      <td>0.486592</td>\n",
       "      <td>0.836071</td>\n",
       "      <td>14.526497</td>\n",
       "      <td>1.102743</td>\n",
       "      <td>0.806057</td>\n",
       "      <td>49.693429</td>\n",
       "    </tr>\n",
       "    <tr>\n",
       "      <th>min</th>\n",
       "      <td>1.000000</td>\n",
       "      <td>0.000000</td>\n",
       "      <td>1.000000</td>\n",
       "      <td>0.420000</td>\n",
       "      <td>0.000000</td>\n",
       "      <td>0.000000</td>\n",
       "      <td>0.000000</td>\n",
       "    </tr>\n",
       "    <tr>\n",
       "      <th>25%</th>\n",
       "      <td>223.500000</td>\n",
       "      <td>0.000000</td>\n",
       "      <td>2.000000</td>\n",
       "      <td>20.125000</td>\n",
       "      <td>0.000000</td>\n",
       "      <td>0.000000</td>\n",
       "      <td>7.910400</td>\n",
       "    </tr>\n",
       "    <tr>\n",
       "      <th>50%</th>\n",
       "      <td>446.000000</td>\n",
       "      <td>0.000000</td>\n",
       "      <td>3.000000</td>\n",
       "      <td>28.000000</td>\n",
       "      <td>0.000000</td>\n",
       "      <td>0.000000</td>\n",
       "      <td>14.454200</td>\n",
       "    </tr>\n",
       "    <tr>\n",
       "      <th>75%</th>\n",
       "      <td>668.500000</td>\n",
       "      <td>1.000000</td>\n",
       "      <td>3.000000</td>\n",
       "      <td>38.000000</td>\n",
       "      <td>1.000000</td>\n",
       "      <td>0.000000</td>\n",
       "      <td>31.000000</td>\n",
       "    </tr>\n",
       "    <tr>\n",
       "      <th>max</th>\n",
       "      <td>891.000000</td>\n",
       "      <td>1.000000</td>\n",
       "      <td>3.000000</td>\n",
       "      <td>80.000000</td>\n",
       "      <td>8.000000</td>\n",
       "      <td>6.000000</td>\n",
       "      <td>512.329200</td>\n",
       "    </tr>\n",
       "  </tbody>\n",
       "</table>\n",
       "</div>"
      ],
      "text/plain": [
       "       PassengerId    Survived      Pclass         Age       SibSp  \\\n",
       "count   891.000000  891.000000  891.000000  714.000000  891.000000   \n",
       "mean    446.000000    0.383838    2.308642   29.699118    0.523008   \n",
       "std     257.353842    0.486592    0.836071   14.526497    1.102743   \n",
       "min       1.000000    0.000000    1.000000    0.420000    0.000000   \n",
       "25%     223.500000    0.000000    2.000000   20.125000    0.000000   \n",
       "50%     446.000000    0.000000    3.000000   28.000000    0.000000   \n",
       "75%     668.500000    1.000000    3.000000   38.000000    1.000000   \n",
       "max     891.000000    1.000000    3.000000   80.000000    8.000000   \n",
       "\n",
       "            Parch        Fare  \n",
       "count  891.000000  891.000000  \n",
       "mean     0.381594   32.204208  \n",
       "std      0.806057   49.693429  \n",
       "min      0.000000    0.000000  \n",
       "25%      0.000000    7.910400  \n",
       "50%      0.000000   14.454200  \n",
       "75%      0.000000   31.000000  \n",
       "max      6.000000  512.329200  "
      ]
     },
     "execution_count": 12,
     "metadata": {},
     "output_type": "execute_result"
    }
   ],
   "source": [
    "df_train.describe()"
   ]
  },
  {
   "cell_type": "markdown",
   "metadata": {},
   "source": [
    "#### Examining the categorical values"
   ]
  },
  {
   "cell_type": "code",
   "execution_count": 13,
   "metadata": {},
   "outputs": [
    {
     "name": "stdout",
     "output_type": "stream",
     "text": [
      "Unique values for category 'Sex': \b ['male' 'female'] \n",
      "Unique values for category 'Survived': \b [0 1] \n",
      "Unique values for category 'Pclass': \b [3 1 2] \n",
      "Unique values for category 'SibSp': \b [1 0 3 4 2 5 8] \n",
      "Unique values for category 'Embarked': \b ['S' 'C' 'Q' nan] \n",
      "Unique values for category 'Cabin': \b [nan 'C85' 'C123' 'E46' 'G6' 'C103' 'D56' 'A6' 'C23 C25 C27' 'B78' 'D33'\n",
      " 'B30' 'C52' 'B28' 'C83' 'F33' 'F G73' 'E31' 'A5' 'D10 D12' 'D26' 'C110'\n",
      " 'B58 B60' 'E101' 'F E69' 'D47' 'B86' 'F2' 'C2' 'E33' 'B19' 'A7' 'C49'\n",
      " 'F4' 'A32' 'B4' 'B80' 'A31' 'D36' 'D15' 'C93' 'C78' 'D35' 'C87' 'B77'\n",
      " 'E67' 'B94' 'C125' 'C99' 'C118' 'D7' 'A19' 'B49' 'D' 'C22 C26' 'C106'\n",
      " 'C65' 'E36' 'C54' 'B57 B59 B63 B66' 'C7' 'E34' 'C32' 'B18' 'C124' 'C91'\n",
      " 'E40' 'T' 'C128' 'D37' 'B35' 'E50' 'C82' 'B96 B98' 'E10' 'E44' 'A34'\n",
      " 'C104' 'C111' 'C92' 'E38' 'D21' 'E12' 'E63' 'A14' 'B37' 'C30' 'D20' 'B79'\n",
      " 'E25' 'D46' 'B73' 'C95' 'B38' 'B39' 'B22' 'C86' 'C70' 'A16' 'C101' 'C68'\n",
      " 'A10' 'E68' 'B41' 'A20' 'D19' 'D50' 'D9' 'A23' 'B50' 'A26' 'D48' 'E58'\n",
      " 'C126' 'B71' 'B51 B53 B55' 'D49' 'B5' 'B20' 'F G63' 'C62 C64' 'E24' 'C90'\n",
      " 'C45' 'E8' 'B101' 'D45' 'C46' 'D30' 'E121' 'D11' 'E77' 'F38' 'B3' 'D6'\n",
      " 'B82 B84' 'D17' 'A36' 'B102' 'B69' 'E49' 'C47' 'D28' 'E17' 'A24' 'C50'\n",
      " 'B42' 'C148'] \n"
     ]
    }
   ],
   "source": [
    "# There are many values for name and ticket\n",
    "\n",
    "for cat in ['Sex', 'Survived', 'Pclass', 'SibSp', 'Embarked', 'Cabin']:\n",
    "    print(\"Unique values for category '{0}': \\b {1} \".format(cat, df_train[cat].unique()))"
   ]
  },
  {
   "cell_type": "code",
   "execution_count": 14,
   "metadata": {},
   "outputs": [
    {
     "name": "stdout",
     "output_type": "stream",
     "text": [
      "0    549\n",
      "1    342\n",
      "Name: Survived, dtype: int64\n"
     ]
    }
   ],
   "source": [
    "print(df_train.Survived.value_counts())"
   ]
  },
  {
   "cell_type": "code",
   "execution_count": 15,
   "metadata": {},
   "outputs": [
    {
     "data": {
      "text/plain": [
       "Sex     Survived\n",
       "female  1           233\n",
       "        0            81\n",
       "male    0           468\n",
       "        1           109\n",
       "Name: Survived, dtype: int64"
      ]
     },
     "execution_count": 15,
     "metadata": {},
     "output_type": "execute_result"
    }
   ],
   "source": [
    "df_train.groupby('Sex').Survived.value_counts()"
   ]
  },
  {
   "cell_type": "code",
   "execution_count": 16,
   "metadata": {},
   "outputs": [
    {
     "data": {
      "text/html": [
       "<div>\n",
       "<style scoped>\n",
       "    .dataframe tbody tr th:only-of-type {\n",
       "        vertical-align: middle;\n",
       "    }\n",
       "\n",
       "    .dataframe tbody tr th {\n",
       "        vertical-align: top;\n",
       "    }\n",
       "\n",
       "    .dataframe thead tr th {\n",
       "        text-align: left;\n",
       "    }\n",
       "\n",
       "    .dataframe thead tr:last-of-type th {\n",
       "        text-align: right;\n",
       "    }\n",
       "</style>\n",
       "<table border=\"1\" class=\"dataframe\">\n",
       "  <thead>\n",
       "    <tr>\n",
       "      <th></th>\n",
       "      <th colspan=\"8\" halign=\"left\">Age</th>\n",
       "      <th colspan=\"2\" halign=\"left\">Fare</th>\n",
       "      <th>...</th>\n",
       "      <th colspan=\"2\" halign=\"left\">SibSp</th>\n",
       "      <th colspan=\"8\" halign=\"left\">Survived</th>\n",
       "    </tr>\n",
       "    <tr>\n",
       "      <th></th>\n",
       "      <th>count</th>\n",
       "      <th>mean</th>\n",
       "      <th>std</th>\n",
       "      <th>min</th>\n",
       "      <th>25%</th>\n",
       "      <th>50%</th>\n",
       "      <th>75%</th>\n",
       "      <th>max</th>\n",
       "      <th>count</th>\n",
       "      <th>mean</th>\n",
       "      <th>...</th>\n",
       "      <th>75%</th>\n",
       "      <th>max</th>\n",
       "      <th>count</th>\n",
       "      <th>mean</th>\n",
       "      <th>std</th>\n",
       "      <th>min</th>\n",
       "      <th>25%</th>\n",
       "      <th>50%</th>\n",
       "      <th>75%</th>\n",
       "      <th>max</th>\n",
       "    </tr>\n",
       "    <tr>\n",
       "      <th>Sex</th>\n",
       "      <th></th>\n",
       "      <th></th>\n",
       "      <th></th>\n",
       "      <th></th>\n",
       "      <th></th>\n",
       "      <th></th>\n",
       "      <th></th>\n",
       "      <th></th>\n",
       "      <th></th>\n",
       "      <th></th>\n",
       "      <th></th>\n",
       "      <th></th>\n",
       "      <th></th>\n",
       "      <th></th>\n",
       "      <th></th>\n",
       "      <th></th>\n",
       "      <th></th>\n",
       "      <th></th>\n",
       "      <th></th>\n",
       "      <th></th>\n",
       "      <th></th>\n",
       "    </tr>\n",
       "  </thead>\n",
       "  <tbody>\n",
       "    <tr>\n",
       "      <th>female</th>\n",
       "      <td>261.0</td>\n",
       "      <td>27.915709</td>\n",
       "      <td>14.110146</td>\n",
       "      <td>0.75</td>\n",
       "      <td>18.0</td>\n",
       "      <td>27.0</td>\n",
       "      <td>37.0</td>\n",
       "      <td>63.0</td>\n",
       "      <td>314.0</td>\n",
       "      <td>44.479818</td>\n",
       "      <td>...</td>\n",
       "      <td>1.0</td>\n",
       "      <td>8.0</td>\n",
       "      <td>314.0</td>\n",
       "      <td>0.742038</td>\n",
       "      <td>0.438211</td>\n",
       "      <td>0.0</td>\n",
       "      <td>0.0</td>\n",
       "      <td>1.0</td>\n",
       "      <td>1.0</td>\n",
       "      <td>1.0</td>\n",
       "    </tr>\n",
       "    <tr>\n",
       "      <th>male</th>\n",
       "      <td>453.0</td>\n",
       "      <td>30.726645</td>\n",
       "      <td>14.678201</td>\n",
       "      <td>0.42</td>\n",
       "      <td>21.0</td>\n",
       "      <td>29.0</td>\n",
       "      <td>39.0</td>\n",
       "      <td>80.0</td>\n",
       "      <td>577.0</td>\n",
       "      <td>25.523893</td>\n",
       "      <td>...</td>\n",
       "      <td>0.0</td>\n",
       "      <td>8.0</td>\n",
       "      <td>577.0</td>\n",
       "      <td>0.188908</td>\n",
       "      <td>0.391775</td>\n",
       "      <td>0.0</td>\n",
       "      <td>0.0</td>\n",
       "      <td>0.0</td>\n",
       "      <td>0.0</td>\n",
       "      <td>1.0</td>\n",
       "    </tr>\n",
       "  </tbody>\n",
       "</table>\n",
       "<p>2 rows × 56 columns</p>\n",
       "</div>"
      ],
      "text/plain": [
       "          Age                                                       Fare  \\\n",
       "        count       mean        std   min   25%   50%   75%   max  count   \n",
       "Sex                                                                        \n",
       "female  261.0  27.915709  14.110146  0.75  18.0  27.0  37.0  63.0  314.0   \n",
       "male    453.0  30.726645  14.678201  0.42  21.0  29.0  39.0  80.0  577.0   \n",
       "\n",
       "                  ...  SibSp      Survived                                     \\\n",
       "             mean ...    75%  max    count      mean       std  min  25%  50%   \n",
       "Sex               ...                                                           \n",
       "female  44.479818 ...    1.0  8.0    314.0  0.742038  0.438211  0.0  0.0  1.0   \n",
       "male    25.523893 ...    0.0  8.0    577.0  0.188908  0.391775  0.0  0.0  0.0   \n",
       "\n",
       "                  \n",
       "        75%  max  \n",
       "Sex               \n",
       "female  1.0  1.0  \n",
       "male    0.0  1.0  \n",
       "\n",
       "[2 rows x 56 columns]"
      ]
     },
     "execution_count": 16,
     "metadata": {},
     "output_type": "execute_result"
    }
   ],
   "source": [
    "df_by_sex = df_train.groupby('Sex')\n",
    "df_by_sex.describe()"
   ]
  },
  {
   "cell_type": "code",
   "execution_count": 17,
   "metadata": {},
   "outputs": [
    {
     "data": {
      "text/plain": [
       "Pclass  Survived\n",
       "1       1           136\n",
       "        0            80\n",
       "2       0            97\n",
       "        1            87\n",
       "3       0           372\n",
       "        1           119\n",
       "Name: Survived, dtype: int64"
      ]
     },
     "execution_count": 17,
     "metadata": {},
     "output_type": "execute_result"
    }
   ],
   "source": [
    "df_train.groupby('Pclass').Survived.value_counts()"
   ]
  },
  {
   "cell_type": "code",
   "execution_count": 18,
   "metadata": {},
   "outputs": [
    {
     "data": {
      "text/plain": [
       "Pclass  Survived\n",
       "1       1           136\n",
       "        0            80\n",
       "2       0            97\n",
       "        1            87\n",
       "3       0           372\n",
       "        1           119\n",
       "Name: Survived, dtype: int64"
      ]
     },
     "execution_count": 18,
     "metadata": {},
     "output_type": "execute_result"
    }
   ],
   "source": [
    "df_train.groupby(['Pclass']).Survived.value_counts()"
   ]
  },
  {
   "cell_type": "code",
   "execution_count": 19,
   "metadata": {},
   "outputs": [
    {
     "data": {
      "text/plain": [
       "Pclass  Sex   \n",
       "1       male      122\n",
       "        female     94\n",
       "2       male      108\n",
       "        female     76\n",
       "3       male      347\n",
       "        female    144\n",
       "Name: Sex, dtype: int64"
      ]
     },
     "execution_count": 19,
     "metadata": {},
     "output_type": "execute_result"
    }
   ],
   "source": [
    "df_train.groupby(['Pclass']).Sex.value_counts()"
   ]
  },
  {
   "cell_type": "code",
   "execution_count": 20,
   "metadata": {},
   "outputs": [
    {
     "name": "stdout",
     "output_type": "stream",
     "text": [
      "Male\n",
      "1 122\n",
      "2 108\n",
      "3 347\n",
      "\n",
      "Female\n",
      "1 94\n",
      "2 76\n",
      "3 144\n"
     ]
    }
   ],
   "source": [
    "print('Male')\n",
    "for i in range(1,4):\n",
    "    print(i, len(df_train[ (df_train['Sex'] == 'male') & (df_train['Pclass'] == i) ]))\n",
    "print()\n",
    "print('Female')\n",
    "for i in range(1,4):\n",
    "    print(i, len(df_train[ (df_train['Sex'] == 'female') & (df_train['Pclass'] == i) ]))"
   ]
  },
  {
   "cell_type": "code",
   "execution_count": 21,
   "metadata": {},
   "outputs": [
    {
     "data": {
      "text/html": [
       "<div>\n",
       "<style scoped>\n",
       "    .dataframe tbody tr th:only-of-type {\n",
       "        vertical-align: middle;\n",
       "    }\n",
       "\n",
       "    .dataframe tbody tr th {\n",
       "        vertical-align: top;\n",
       "    }\n",
       "\n",
       "    .dataframe thead tr th {\n",
       "        text-align: left;\n",
       "    }\n",
       "\n",
       "    .dataframe thead tr:last-of-type th {\n",
       "        text-align: right;\n",
       "    }\n",
       "</style>\n",
       "<table border=\"1\" class=\"dataframe\">\n",
       "  <thead>\n",
       "    <tr>\n",
       "      <th></th>\n",
       "      <th colspan=\"8\" halign=\"left\">Age</th>\n",
       "      <th colspan=\"2\" halign=\"left\">Fare</th>\n",
       "      <th>...</th>\n",
       "      <th colspan=\"2\" halign=\"left\">SibSp</th>\n",
       "      <th colspan=\"8\" halign=\"left\">Survived</th>\n",
       "    </tr>\n",
       "    <tr>\n",
       "      <th></th>\n",
       "      <th>count</th>\n",
       "      <th>mean</th>\n",
       "      <th>std</th>\n",
       "      <th>min</th>\n",
       "      <th>25%</th>\n",
       "      <th>50%</th>\n",
       "      <th>75%</th>\n",
       "      <th>max</th>\n",
       "      <th>count</th>\n",
       "      <th>mean</th>\n",
       "      <th>...</th>\n",
       "      <th>75%</th>\n",
       "      <th>max</th>\n",
       "      <th>count</th>\n",
       "      <th>mean</th>\n",
       "      <th>std</th>\n",
       "      <th>min</th>\n",
       "      <th>25%</th>\n",
       "      <th>50%</th>\n",
       "      <th>75%</th>\n",
       "      <th>max</th>\n",
       "    </tr>\n",
       "    <tr>\n",
       "      <th>Pclass</th>\n",
       "      <th></th>\n",
       "      <th></th>\n",
       "      <th></th>\n",
       "      <th></th>\n",
       "      <th></th>\n",
       "      <th></th>\n",
       "      <th></th>\n",
       "      <th></th>\n",
       "      <th></th>\n",
       "      <th></th>\n",
       "      <th></th>\n",
       "      <th></th>\n",
       "      <th></th>\n",
       "      <th></th>\n",
       "      <th></th>\n",
       "      <th></th>\n",
       "      <th></th>\n",
       "      <th></th>\n",
       "      <th></th>\n",
       "      <th></th>\n",
       "      <th></th>\n",
       "    </tr>\n",
       "  </thead>\n",
       "  <tbody>\n",
       "    <tr>\n",
       "      <th>1</th>\n",
       "      <td>186.0</td>\n",
       "      <td>38.233441</td>\n",
       "      <td>14.802856</td>\n",
       "      <td>0.92</td>\n",
       "      <td>27.0</td>\n",
       "      <td>37.0</td>\n",
       "      <td>49.0</td>\n",
       "      <td>80.0</td>\n",
       "      <td>216.0</td>\n",
       "      <td>84.154687</td>\n",
       "      <td>...</td>\n",
       "      <td>1.0</td>\n",
       "      <td>3.0</td>\n",
       "      <td>216.0</td>\n",
       "      <td>0.629630</td>\n",
       "      <td>0.484026</td>\n",
       "      <td>0.0</td>\n",
       "      <td>0.0</td>\n",
       "      <td>1.0</td>\n",
       "      <td>1.0</td>\n",
       "      <td>1.0</td>\n",
       "    </tr>\n",
       "    <tr>\n",
       "      <th>2</th>\n",
       "      <td>173.0</td>\n",
       "      <td>29.877630</td>\n",
       "      <td>14.001077</td>\n",
       "      <td>0.67</td>\n",
       "      <td>23.0</td>\n",
       "      <td>29.0</td>\n",
       "      <td>36.0</td>\n",
       "      <td>70.0</td>\n",
       "      <td>184.0</td>\n",
       "      <td>20.662183</td>\n",
       "      <td>...</td>\n",
       "      <td>1.0</td>\n",
       "      <td>3.0</td>\n",
       "      <td>184.0</td>\n",
       "      <td>0.472826</td>\n",
       "      <td>0.500623</td>\n",
       "      <td>0.0</td>\n",
       "      <td>0.0</td>\n",
       "      <td>0.0</td>\n",
       "      <td>1.0</td>\n",
       "      <td>1.0</td>\n",
       "    </tr>\n",
       "    <tr>\n",
       "      <th>3</th>\n",
       "      <td>355.0</td>\n",
       "      <td>25.140620</td>\n",
       "      <td>12.495398</td>\n",
       "      <td>0.42</td>\n",
       "      <td>18.0</td>\n",
       "      <td>24.0</td>\n",
       "      <td>32.0</td>\n",
       "      <td>74.0</td>\n",
       "      <td>491.0</td>\n",
       "      <td>13.675550</td>\n",
       "      <td>...</td>\n",
       "      <td>1.0</td>\n",
       "      <td>8.0</td>\n",
       "      <td>491.0</td>\n",
       "      <td>0.242363</td>\n",
       "      <td>0.428949</td>\n",
       "      <td>0.0</td>\n",
       "      <td>0.0</td>\n",
       "      <td>0.0</td>\n",
       "      <td>0.0</td>\n",
       "      <td>1.0</td>\n",
       "    </tr>\n",
       "  </tbody>\n",
       "</table>\n",
       "<p>3 rows × 48 columns</p>\n",
       "</div>"
      ],
      "text/plain": [
       "          Age                                                       Fare  \\\n",
       "        count       mean        std   min   25%   50%   75%   max  count   \n",
       "Pclass                                                                     \n",
       "1       186.0  38.233441  14.802856  0.92  27.0  37.0  49.0  80.0  216.0   \n",
       "2       173.0  29.877630  14.001077  0.67  23.0  29.0  36.0  70.0  184.0   \n",
       "3       355.0  25.140620  12.495398  0.42  18.0  24.0  32.0  74.0  491.0   \n",
       "\n",
       "                  ...  SibSp      Survived                                     \\\n",
       "             mean ...    75%  max    count      mean       std  min  25%  50%   \n",
       "Pclass            ...                                                           \n",
       "1       84.154687 ...    1.0  3.0    216.0  0.629630  0.484026  0.0  0.0  1.0   \n",
       "2       20.662183 ...    1.0  3.0    184.0  0.472826  0.500623  0.0  0.0  0.0   \n",
       "3       13.675550 ...    1.0  8.0    491.0  0.242363  0.428949  0.0  0.0  0.0   \n",
       "\n",
       "                  \n",
       "        75%  max  \n",
       "Pclass            \n",
       "1       1.0  1.0  \n",
       "2       1.0  1.0  \n",
       "3       0.0  1.0  \n",
       "\n",
       "[3 rows x 48 columns]"
      ]
     },
     "execution_count": 21,
     "metadata": {},
     "output_type": "execute_result"
    }
   ],
   "source": [
    "df_by_class = df_train.groupby('Pclass')\n",
    "df_by_class.describe()"
   ]
  },
  {
   "cell_type": "code",
   "execution_count": 22,
   "metadata": {},
   "outputs": [
    {
     "data": {
      "text/plain": [
       "Pclass  Sex     Survived\n",
       "1       female  1            91\n",
       "                0             3\n",
       "        male    0            77\n",
       "                1            45\n",
       "2       female  1            70\n",
       "                0             6\n",
       "        male    0            91\n",
       "                1            17\n",
       "3       female  0            72\n",
       "                1            72\n",
       "        male    0           300\n",
       "                1            47\n",
       "Name: Survived, dtype: int64"
      ]
     },
     "execution_count": 22,
     "metadata": {},
     "output_type": "execute_result"
    }
   ],
   "source": [
    "df_train.groupby(['Pclass','Sex']).Survived.value_counts()"
   ]
  },
  {
   "cell_type": "code",
   "execution_count": 23,
   "metadata": {},
   "outputs": [
    {
     "data": {
      "text/html": [
       "<div>\n",
       "<style scoped>\n",
       "    .dataframe tbody tr th:only-of-type {\n",
       "        vertical-align: middle;\n",
       "    }\n",
       "\n",
       "    .dataframe tbody tr th {\n",
       "        vertical-align: top;\n",
       "    }\n",
       "\n",
       "    .dataframe thead th {\n",
       "        text-align: right;\n",
       "    }\n",
       "</style>\n",
       "<table border=\"1\" class=\"dataframe\">\n",
       "  <thead>\n",
       "    <tr style=\"text-align: right;\">\n",
       "      <th></th>\n",
       "      <th>Survived</th>\n",
       "      <th>No</th>\n",
       "      <th>Yes</th>\n",
       "    </tr>\n",
       "    <tr>\n",
       "      <th>Pclass</th>\n",
       "      <th>Sex</th>\n",
       "      <th></th>\n",
       "      <th></th>\n",
       "    </tr>\n",
       "  </thead>\n",
       "  <tbody>\n",
       "    <tr>\n",
       "      <th rowspan=\"2\" valign=\"top\">1</th>\n",
       "      <th>female</th>\n",
       "      <td>0.031915</td>\n",
       "      <td>0.968085</td>\n",
       "    </tr>\n",
       "    <tr>\n",
       "      <th>male</th>\n",
       "      <td>0.631148</td>\n",
       "      <td>0.368852</td>\n",
       "    </tr>\n",
       "    <tr>\n",
       "      <th rowspan=\"2\" valign=\"top\">2</th>\n",
       "      <th>female</th>\n",
       "      <td>0.078947</td>\n",
       "      <td>0.921053</td>\n",
       "    </tr>\n",
       "    <tr>\n",
       "      <th>male</th>\n",
       "      <td>0.842593</td>\n",
       "      <td>0.157407</td>\n",
       "    </tr>\n",
       "    <tr>\n",
       "      <th rowspan=\"2\" valign=\"top\">3</th>\n",
       "      <th>female</th>\n",
       "      <td>0.500000</td>\n",
       "      <td>0.500000</td>\n",
       "    </tr>\n",
       "    <tr>\n",
       "      <th>male</th>\n",
       "      <td>0.864553</td>\n",
       "      <td>0.135447</td>\n",
       "    </tr>\n",
       "  </tbody>\n",
       "</table>\n",
       "</div>"
      ],
      "text/plain": [
       "Survived             No       Yes\n",
       "Pclass Sex                       \n",
       "1      female  0.031915  0.968085\n",
       "       male    0.631148  0.368852\n",
       "2      female  0.078947  0.921053\n",
       "       male    0.842593  0.157407\n",
       "3      female  0.500000  0.500000\n",
       "       male    0.864553  0.135447"
      ]
     },
     "execution_count": 23,
     "metadata": {},
     "output_type": "execute_result"
    }
   ],
   "source": [
    "id = pd.crosstab([df_train.Pclass, df_train.Sex], df_train.Survived.astype(float))\n",
    "id.columns = (['No', 'Yes'])\n",
    "id.columns.name = \"Survived\"\n",
    "id.div(id.sum(1).astype(float), 0)"
   ]
  },
  {
   "cell_type": "code",
   "execution_count": 24,
   "metadata": {},
   "outputs": [
    {
     "data": {
      "text/plain": [
       "<matplotlib.axes._subplots.AxesSubplot at 0x7fb3d489c198>"
      ]
     },
     "execution_count": 24,
     "metadata": {},
     "output_type": "execute_result"
    },
    {
     "data": {
      "image/png": "[encoded data removed]",
      "text/plain": [
       "<Figure size 720x432 with 1 Axes>"
      ]
     },
     "metadata": {},
     "output_type": "display_data"
    }
   ],
   "source": [
    "#df_train['Age'].hist()\n",
    "df_train['Age'].dropna().hist(bins=16, range=(0,80), alpha = .5, figsize=(10,6))"
   ]
  },
  {
   "cell_type": "code",
   "execution_count": 25,
   "metadata": {},
   "outputs": [
    {
     "name": "stdout",
     "output_type": "stream",
     "text": [
      "[ 0.42 19.   25.   31.8  41.   80.  ]\n"
     ]
    },
    {
     "data": {
      "text/plain": [
       "Age  Survived\n",
       "0.0  0           85\n",
       "     1           79\n",
       "1.0  0           92\n",
       "     1           45\n",
       "2.0  0           77\n",
       "     1           50\n",
       "3.0  0           81\n",
       "     1           63\n",
       "4.0  0           89\n",
       "     1           53\n",
       "Name: Survived, dtype: int64"
      ]
     },
     "execution_count": 25,
     "metadata": {},
     "output_type": "execute_result"
    }
   ],
   "source": [
    "ser, bins = pd.qcut(df_train.Age.dropna(), 5, retbins=True, labels=False)\n",
    "print(bins)\n",
    "df_train.groupby(ser).Survived.value_counts()"
   ]
  },
  {
   "cell_type": "markdown",
   "metadata": {},
   "source": [
    "#### Feature engineering"
   ]
  },
  {
   "cell_type": "code",
   "execution_count": 26,
   "metadata": {},
   "outputs": [],
   "source": [
    "df_train['Gender'] = df_train['Sex'].map( {'female': 0, 'male': 1} ).astype(int)\n",
    "df_test['Gender'] = df_test['Sex'].map( {'female': 0, 'male': 1} ).astype(int)"
   ]
  },
  {
   "cell_type": "markdown",
   "metadata": {},
   "source": [
    "#### Filling the null values for Age"
   ]
  },
  {
   "cell_type": "code",
   "execution_count": 27,
   "metadata": {},
   "outputs": [
    {
     "name": "stdout",
     "output_type": "stream",
     "text": [
      "177\n",
      "86\n"
     ]
    }
   ],
   "source": [
    "print(len(df_train[df_train['Age'].isnull()]))\n",
    "print(len(df_test[df_test['Age'].isnull()]))"
   ]
  },
  {
   "cell_type": "code",
   "execution_count": 28,
   "metadata": {},
   "outputs": [],
   "source": [
    "df_train['AgeFill'] = df_train['Age']\n",
    "df_test['AgeFill'] = df_test['Age']"
   ]
  },
  {
   "cell_type": "code",
   "execution_count": 29,
   "metadata": {},
   "outputs": [
    {
     "data": {
      "text/html": [
       "<div>\n",
       "<style scoped>\n",
       "    .dataframe tbody tr th:only-of-type {\n",
       "        vertical-align: middle;\n",
       "    }\n",
       "\n",
       "    .dataframe tbody tr th {\n",
       "        vertical-align: top;\n",
       "    }\n",
       "\n",
       "    .dataframe thead th {\n",
       "        text-align: right;\n",
       "    }\n",
       "</style>\n",
       "<table border=\"1\" class=\"dataframe\">\n",
       "  <thead>\n",
       "    <tr style=\"text-align: right;\">\n",
       "      <th></th>\n",
       "      <th>Gender</th>\n",
       "      <th>Pclass</th>\n",
       "      <th>Age</th>\n",
       "      <th>AgeFill</th>\n",
       "    </tr>\n",
       "  </thead>\n",
       "  <tbody>\n",
       "    <tr>\n",
       "      <th>5</th>\n",
       "      <td>1</td>\n",
       "      <td>3</td>\n",
       "      <td>NaN</td>\n",
       "      <td>NaN</td>\n",
       "    </tr>\n",
       "    <tr>\n",
       "      <th>17</th>\n",
       "      <td>1</td>\n",
       "      <td>2</td>\n",
       "      <td>NaN</td>\n",
       "      <td>NaN</td>\n",
       "    </tr>\n",
       "    <tr>\n",
       "      <th>19</th>\n",
       "      <td>0</td>\n",
       "      <td>3</td>\n",
       "      <td>NaN</td>\n",
       "      <td>NaN</td>\n",
       "    </tr>\n",
       "    <tr>\n",
       "      <th>26</th>\n",
       "      <td>1</td>\n",
       "      <td>3</td>\n",
       "      <td>NaN</td>\n",
       "      <td>NaN</td>\n",
       "    </tr>\n",
       "  </tbody>\n",
       "</table>\n",
       "</div>"
      ],
      "text/plain": [
       "    Gender  Pclass  Age  AgeFill\n",
       "5        1       3  NaN      NaN\n",
       "17       1       2  NaN      NaN\n",
       "19       0       3  NaN      NaN\n",
       "26       1       3  NaN      NaN"
      ]
     },
     "execution_count": 29,
     "metadata": {},
     "output_type": "execute_result"
    }
   ],
   "source": [
    "df_train[df_train['Age'].isnull()][['Gender','Pclass','Age','AgeFill']].head(4)"
   ]
  },
  {
   "cell_type": "code",
   "execution_count": 30,
   "metadata": {},
   "outputs": [
    {
     "data": {
      "text/plain": [
       "array([[35. , 28. , 21.5],\n",
       "       [40. , 30. , 25. ]])"
      ]
     },
     "execution_count": 30,
     "metadata": {},
     "output_type": "execute_result"
    }
   ],
   "source": [
    "median_ages = np.zeros((2,3))\n",
    "for i in range(0, 2):\n",
    "    for j in range(0, 3):\n",
    "        median_ages[i,j] = df_train[(df_train['Gender'] == i) & (df_train['Pclass'] == j+1)]['Age'].dropna().median()\n",
    "\n",
    "median_ages"
   ]
  },
  {
   "cell_type": "code",
   "execution_count": 31,
   "metadata": {},
   "outputs": [],
   "source": [
    "for i in range(0, 2):\n",
    "    for j in range(0, 3):\n",
    "        df_train.loc[(df_train.Age.isnull()) & (df_train.Gender == i) & (df_train.Pclass == j+1),'AgeFill'] = median_ages[i,j]\n",
    "        df_test.loc[(df_test.Age.isnull()) & (df_test.Gender == i) & (df_test.Pclass == j+1),'AgeFill'] = median_ages[i,j]"
   ]
  },
  {
   "cell_type": "code",
   "execution_count": 32,
   "metadata": {},
   "outputs": [
    {
     "data": {
      "text/html": [
       "<div>\n",
       "<style scoped>\n",
       "    .dataframe tbody tr th:only-of-type {\n",
       "        vertical-align: middle;\n",
       "    }\n",
       "\n",
       "    .dataframe tbody tr th {\n",
       "        vertical-align: top;\n",
       "    }\n",
       "\n",
       "    .dataframe thead th {\n",
       "        text-align: right;\n",
       "    }\n",
       "</style>\n",
       "<table border=\"1\" class=\"dataframe\">\n",
       "  <thead>\n",
       "    <tr style=\"text-align: right;\">\n",
       "      <th></th>\n",
       "      <th>Gender</th>\n",
       "      <th>Pclass</th>\n",
       "      <th>Age</th>\n",
       "      <th>AgeFill</th>\n",
       "    </tr>\n",
       "  </thead>\n",
       "  <tbody>\n",
       "    <tr>\n",
       "      <th>5</th>\n",
       "      <td>1</td>\n",
       "      <td>3</td>\n",
       "      <td>NaN</td>\n",
       "      <td>25.0</td>\n",
       "    </tr>\n",
       "    <tr>\n",
       "      <th>17</th>\n",
       "      <td>1</td>\n",
       "      <td>2</td>\n",
       "      <td>NaN</td>\n",
       "      <td>30.0</td>\n",
       "    </tr>\n",
       "    <tr>\n",
       "      <th>19</th>\n",
       "      <td>0</td>\n",
       "      <td>3</td>\n",
       "      <td>NaN</td>\n",
       "      <td>21.5</td>\n",
       "    </tr>\n",
       "    <tr>\n",
       "      <th>26</th>\n",
       "      <td>1</td>\n",
       "      <td>3</td>\n",
       "      <td>NaN</td>\n",
       "      <td>25.0</td>\n",
       "    </tr>\n",
       "  </tbody>\n",
       "</table>\n",
       "</div>"
      ],
      "text/plain": [
       "    Gender  Pclass  Age  AgeFill\n",
       "5        1       3  NaN     25.0\n",
       "17       1       2  NaN     30.0\n",
       "19       0       3  NaN     21.5\n",
       "26       1       3  NaN     25.0"
      ]
     },
     "execution_count": 32,
     "metadata": {},
     "output_type": "execute_result"
    }
   ],
   "source": [
    "df_train[df_train['Age'].isnull()][['Gender','Pclass','Age','AgeFill']].head(4)"
   ]
  },
  {
   "cell_type": "markdown",
   "metadata": {},
   "source": [
    "#### Filling the null values for \"Embarked\""
   ]
  },
  {
   "cell_type": "code",
   "execution_count": 33,
   "metadata": {},
   "outputs": [
    {
     "data": {
      "text/html": [
       "<div>\n",
       "<style scoped>\n",
       "    .dataframe tbody tr th:only-of-type {\n",
       "        vertical-align: middle;\n",
       "    }\n",
       "\n",
       "    .dataframe tbody tr th {\n",
       "        vertical-align: top;\n",
       "    }\n",
       "\n",
       "    .dataframe thead th {\n",
       "        text-align: right;\n",
       "    }\n",
       "</style>\n",
       "<table border=\"1\" class=\"dataframe\">\n",
       "  <thead>\n",
       "    <tr style=\"text-align: right;\">\n",
       "      <th></th>\n",
       "      <th>PassengerId</th>\n",
       "      <th>Survived</th>\n",
       "      <th>Pclass</th>\n",
       "      <th>Name</th>\n",
       "      <th>Sex</th>\n",
       "      <th>Age</th>\n",
       "      <th>SibSp</th>\n",
       "      <th>Parch</th>\n",
       "      <th>Ticket</th>\n",
       "      <th>Fare</th>\n",
       "      <th>Cabin</th>\n",
       "      <th>Embarked</th>\n",
       "      <th>Gender</th>\n",
       "      <th>AgeFill</th>\n",
       "    </tr>\n",
       "  </thead>\n",
       "  <tbody>\n",
       "    <tr>\n",
       "      <th>61</th>\n",
       "      <td>62</td>\n",
       "      <td>1</td>\n",
       "      <td>1</td>\n",
       "      <td>Icard, Miss. Amelie</td>\n",
       "      <td>female</td>\n",
       "      <td>38.0</td>\n",
       "      <td>0</td>\n",
       "      <td>0</td>\n",
       "      <td>113572</td>\n",
       "      <td>80.0</td>\n",
       "      <td>B28</td>\n",
       "      <td>NaN</td>\n",
       "      <td>0</td>\n",
       "      <td>38.0</td>\n",
       "    </tr>\n",
       "    <tr>\n",
       "      <th>829</th>\n",
       "      <td>830</td>\n",
       "      <td>1</td>\n",
       "      <td>1</td>\n",
       "      <td>Stone, Mrs. George Nelson (Martha Evelyn)</td>\n",
       "      <td>female</td>\n",
       "      <td>62.0</td>\n",
       "      <td>0</td>\n",
       "      <td>0</td>\n",
       "      <td>113572</td>\n",
       "      <td>80.0</td>\n",
       "      <td>B28</td>\n",
       "      <td>NaN</td>\n",
       "      <td>0</td>\n",
       "      <td>62.0</td>\n",
       "    </tr>\n",
       "  </tbody>\n",
       "</table>\n",
       "</div>"
      ],
      "text/plain": [
       "     PassengerId  Survived  Pclass                                       Name  \\\n",
       "61            62         1       1                        Icard, Miss. Amelie   \n",
       "829          830         1       1  Stone, Mrs. George Nelson (Martha Evelyn)   \n",
       "\n",
       "        Sex   Age  SibSp  Parch  Ticket  Fare Cabin Embarked  Gender  AgeFill  \n",
       "61   female  38.0      0      0  113572  80.0   B28      NaN       0     38.0  \n",
       "829  female  62.0      0      0  113572  80.0   B28      NaN       0     62.0  "
      ]
     },
     "execution_count": 33,
     "metadata": {},
     "output_type": "execute_result"
    }
   ],
   "source": [
    "df_train[df_train['Embarked'].isnull()]"
   ]
  },
  {
   "cell_type": "code",
   "execution_count": 34,
   "metadata": {},
   "outputs": [
    {
     "data": {
      "text/html": [
       "<div>\n",
       "<style scoped>\n",
       "    .dataframe tbody tr th:only-of-type {\n",
       "        vertical-align: middle;\n",
       "    }\n",
       "\n",
       "    .dataframe tbody tr th {\n",
       "        vertical-align: top;\n",
       "    }\n",
       "\n",
       "    .dataframe thead th {\n",
       "        text-align: right;\n",
       "    }\n",
       "</style>\n",
       "<table border=\"1\" class=\"dataframe\">\n",
       "  <thead>\n",
       "    <tr style=\"text-align: right;\">\n",
       "      <th></th>\n",
       "      <th>PassengerId</th>\n",
       "      <th>Survived</th>\n",
       "      <th>Pclass</th>\n",
       "      <th>Name</th>\n",
       "      <th>Sex</th>\n",
       "      <th>Age</th>\n",
       "      <th>SibSp</th>\n",
       "      <th>Parch</th>\n",
       "      <th>Ticket</th>\n",
       "      <th>Fare</th>\n",
       "      <th>Cabin</th>\n",
       "      <th>Embarked</th>\n",
       "      <th>Gender</th>\n",
       "      <th>AgeFill</th>\n",
       "    </tr>\n",
       "  </thead>\n",
       "  <tbody>\n",
       "    <tr>\n",
       "      <th>59</th>\n",
       "      <td>60</td>\n",
       "      <td>0</td>\n",
       "      <td>3</td>\n",
       "      <td>Goodwin, Master. William Frederick</td>\n",
       "      <td>male</td>\n",
       "      <td>11.0</td>\n",
       "      <td>5</td>\n",
       "      <td>2</td>\n",
       "      <td>CA 2144</td>\n",
       "      <td>46.9000</td>\n",
       "      <td>NaN</td>\n",
       "      <td>S</td>\n",
       "      <td>1</td>\n",
       "      <td>11.0</td>\n",
       "    </tr>\n",
       "    <tr>\n",
       "      <th>60</th>\n",
       "      <td>61</td>\n",
       "      <td>0</td>\n",
       "      <td>3</td>\n",
       "      <td>Sirayanian, Mr. Orsen</td>\n",
       "      <td>male</td>\n",
       "      <td>22.0</td>\n",
       "      <td>0</td>\n",
       "      <td>0</td>\n",
       "      <td>2669</td>\n",
       "      <td>7.2292</td>\n",
       "      <td>NaN</td>\n",
       "      <td>C</td>\n",
       "      <td>1</td>\n",
       "      <td>22.0</td>\n",
       "    </tr>\n",
       "    <tr>\n",
       "      <th>61</th>\n",
       "      <td>62</td>\n",
       "      <td>1</td>\n",
       "      <td>1</td>\n",
       "      <td>Icard, Miss. Amelie</td>\n",
       "      <td>female</td>\n",
       "      <td>38.0</td>\n",
       "      <td>0</td>\n",
       "      <td>0</td>\n",
       "      <td>113572</td>\n",
       "      <td>80.0000</td>\n",
       "      <td>B28</td>\n",
       "      <td>NaN</td>\n",
       "      <td>0</td>\n",
       "      <td>38.0</td>\n",
       "    </tr>\n",
       "    <tr>\n",
       "      <th>62</th>\n",
       "      <td>63</td>\n",
       "      <td>0</td>\n",
       "      <td>1</td>\n",
       "      <td>Harris, Mr. Henry Birkhardt</td>\n",
       "      <td>male</td>\n",
       "      <td>45.0</td>\n",
       "      <td>1</td>\n",
       "      <td>0</td>\n",
       "      <td>36973</td>\n",
       "      <td>83.4750</td>\n",
       "      <td>C83</td>\n",
       "      <td>S</td>\n",
       "      <td>1</td>\n",
       "      <td>45.0</td>\n",
       "    </tr>\n",
       "    <tr>\n",
       "      <th>63</th>\n",
       "      <td>64</td>\n",
       "      <td>0</td>\n",
       "      <td>3</td>\n",
       "      <td>Skoog, Master. Harald</td>\n",
       "      <td>male</td>\n",
       "      <td>4.0</td>\n",
       "      <td>3</td>\n",
       "      <td>2</td>\n",
       "      <td>347088</td>\n",
       "      <td>27.9000</td>\n",
       "      <td>NaN</td>\n",
       "      <td>S</td>\n",
       "      <td>1</td>\n",
       "      <td>4.0</td>\n",
       "    </tr>\n",
       "  </tbody>\n",
       "</table>\n",
       "</div>"
      ],
      "text/plain": [
       "    PassengerId  Survived  Pclass                                Name     Sex  \\\n",
       "59           60         0       3  Goodwin, Master. William Frederick    male   \n",
       "60           61         0       3               Sirayanian, Mr. Orsen    male   \n",
       "61           62         1       1                 Icard, Miss. Amelie  female   \n",
       "62           63         0       1         Harris, Mr. Henry Birkhardt    male   \n",
       "63           64         0       3               Skoog, Master. Harald    male   \n",
       "\n",
       "     Age  SibSp  Parch   Ticket     Fare Cabin Embarked  Gender  AgeFill  \n",
       "59  11.0      5      2  CA 2144  46.9000   NaN        S       1     11.0  \n",
       "60  22.0      0      0     2669   7.2292   NaN        C       1     22.0  \n",
       "61  38.0      0      0   113572  80.0000   B28      NaN       0     38.0  \n",
       "62  45.0      1      0    36973  83.4750   C83        S       1     45.0  \n",
       "63   4.0      3      2   347088  27.9000   NaN        S       1      4.0  "
      ]
     },
     "execution_count": 34,
     "metadata": {},
     "output_type": "execute_result"
    }
   ],
   "source": [
    "df_train[59:64]"
   ]
  },
  {
   "cell_type": "code",
   "execution_count": 35,
   "metadata": {},
   "outputs": [
    {
     "data": {
      "text/html": [
       "<div>\n",
       "<style scoped>\n",
       "    .dataframe tbody tr th:only-of-type {\n",
       "        vertical-align: middle;\n",
       "    }\n",
       "\n",
       "    .dataframe tbody tr th {\n",
       "        vertical-align: top;\n",
       "    }\n",
       "\n",
       "    .dataframe thead th {\n",
       "        text-align: right;\n",
       "    }\n",
       "</style>\n",
       "<table border=\"1\" class=\"dataframe\">\n",
       "  <thead>\n",
       "    <tr style=\"text-align: right;\">\n",
       "      <th></th>\n",
       "      <th>PassengerId</th>\n",
       "      <th>Survived</th>\n",
       "      <th>Pclass</th>\n",
       "      <th>Name</th>\n",
       "      <th>Sex</th>\n",
       "      <th>Age</th>\n",
       "      <th>SibSp</th>\n",
       "      <th>Parch</th>\n",
       "      <th>Ticket</th>\n",
       "      <th>Fare</th>\n",
       "      <th>Cabin</th>\n",
       "      <th>Embarked</th>\n",
       "      <th>Gender</th>\n",
       "      <th>AgeFill</th>\n",
       "    </tr>\n",
       "  </thead>\n",
       "  <tbody>\n",
       "    <tr>\n",
       "      <th>826</th>\n",
       "      <td>827</td>\n",
       "      <td>0</td>\n",
       "      <td>3</td>\n",
       "      <td>Lam, Mr. Len</td>\n",
       "      <td>male</td>\n",
       "      <td>NaN</td>\n",
       "      <td>0</td>\n",
       "      <td>0</td>\n",
       "      <td>1601</td>\n",
       "      <td>56.4958</td>\n",
       "      <td>NaN</td>\n",
       "      <td>S</td>\n",
       "      <td>1</td>\n",
       "      <td>25.00</td>\n",
       "    </tr>\n",
       "    <tr>\n",
       "      <th>827</th>\n",
       "      <td>828</td>\n",
       "      <td>1</td>\n",
       "      <td>2</td>\n",
       "      <td>Mallet, Master. Andre</td>\n",
       "      <td>male</td>\n",
       "      <td>1.00</td>\n",
       "      <td>0</td>\n",
       "      <td>2</td>\n",
       "      <td>S.C./PARIS 2079</td>\n",
       "      <td>37.0042</td>\n",
       "      <td>NaN</td>\n",
       "      <td>C</td>\n",
       "      <td>1</td>\n",
       "      <td>1.00</td>\n",
       "    </tr>\n",
       "    <tr>\n",
       "      <th>828</th>\n",
       "      <td>829</td>\n",
       "      <td>1</td>\n",
       "      <td>3</td>\n",
       "      <td>McCormack, Mr. Thomas Joseph</td>\n",
       "      <td>male</td>\n",
       "      <td>NaN</td>\n",
       "      <td>0</td>\n",
       "      <td>0</td>\n",
       "      <td>367228</td>\n",
       "      <td>7.7500</td>\n",
       "      <td>NaN</td>\n",
       "      <td>Q</td>\n",
       "      <td>1</td>\n",
       "      <td>25.00</td>\n",
       "    </tr>\n",
       "    <tr>\n",
       "      <th>829</th>\n",
       "      <td>830</td>\n",
       "      <td>1</td>\n",
       "      <td>1</td>\n",
       "      <td>Stone, Mrs. George Nelson (Martha Evelyn)</td>\n",
       "      <td>female</td>\n",
       "      <td>62.00</td>\n",
       "      <td>0</td>\n",
       "      <td>0</td>\n",
       "      <td>113572</td>\n",
       "      <td>80.0000</td>\n",
       "      <td>B28</td>\n",
       "      <td>NaN</td>\n",
       "      <td>0</td>\n",
       "      <td>62.00</td>\n",
       "    </tr>\n",
       "    <tr>\n",
       "      <th>830</th>\n",
       "      <td>831</td>\n",
       "      <td>1</td>\n",
       "      <td>3</td>\n",
       "      <td>Yasbeck, Mrs. Antoni (Selini Alexander)</td>\n",
       "      <td>female</td>\n",
       "      <td>15.00</td>\n",
       "      <td>1</td>\n",
       "      <td>0</td>\n",
       "      <td>2659</td>\n",
       "      <td>14.4542</td>\n",
       "      <td>NaN</td>\n",
       "      <td>C</td>\n",
       "      <td>0</td>\n",
       "      <td>15.00</td>\n",
       "    </tr>\n",
       "    <tr>\n",
       "      <th>831</th>\n",
       "      <td>832</td>\n",
       "      <td>1</td>\n",
       "      <td>2</td>\n",
       "      <td>Richards, Master. George Sibley</td>\n",
       "      <td>male</td>\n",
       "      <td>0.83</td>\n",
       "      <td>1</td>\n",
       "      <td>1</td>\n",
       "      <td>29106</td>\n",
       "      <td>18.7500</td>\n",
       "      <td>NaN</td>\n",
       "      <td>S</td>\n",
       "      <td>1</td>\n",
       "      <td>0.83</td>\n",
       "    </tr>\n",
       "  </tbody>\n",
       "</table>\n",
       "</div>"
      ],
      "text/plain": [
       "     PassengerId  Survived  Pclass                                       Name  \\\n",
       "826          827         0       3                               Lam, Mr. Len   \n",
       "827          828         1       2                      Mallet, Master. Andre   \n",
       "828          829         1       3               McCormack, Mr. Thomas Joseph   \n",
       "829          830         1       1  Stone, Mrs. George Nelson (Martha Evelyn)   \n",
       "830          831         1       3    Yasbeck, Mrs. Antoni (Selini Alexander)   \n",
       "831          832         1       2            Richards, Master. George Sibley   \n",
       "\n",
       "        Sex    Age  SibSp  Parch           Ticket     Fare Cabin Embarked  \\\n",
       "826    male    NaN      0      0             1601  56.4958   NaN        S   \n",
       "827    male   1.00      0      2  S.C./PARIS 2079  37.0042   NaN        C   \n",
       "828    male    NaN      0      0           367228   7.7500   NaN        Q   \n",
       "829  female  62.00      0      0           113572  80.0000   B28      NaN   \n",
       "830  female  15.00      1      0             2659  14.4542   NaN        C   \n",
       "831    male   0.83      1      1            29106  18.7500   NaN        S   \n",
       "\n",
       "     Gender  AgeFill  \n",
       "826       1    25.00  \n",
       "827       1     1.00  \n",
       "828       1    25.00  \n",
       "829       0    62.00  \n",
       "830       0    15.00  \n",
       "831       1     0.83  "
      ]
     },
     "execution_count": 35,
     "metadata": {},
     "output_type": "execute_result"
    }
   ],
   "source": [
    "df_train[826:832]"
   ]
  },
  {
   "cell_type": "markdown",
   "metadata": {},
   "source": [
    "##### Associating the missing values to the most likely class"
   ]
  },
  {
   "cell_type": "code",
   "execution_count": 36,
   "metadata": {},
   "outputs": [],
   "source": [
    "df_train['Embarked'] = df_train['Embarked'].map({np.nan:1,'C':1, 'Q':2,'S':3} ).astype(int)\n",
    "df_test['Embarked'] = df_test['Embarked'].map({np.nan:1,'C':1, 'Q':2,'S':3} ).astype(int)"
   ]
  },
  {
   "cell_type": "markdown",
   "metadata": {},
   "source": [
    "#### One-Hot-Enconding the field \"Embarked\""
   ]
  },
  {
   "cell_type": "code",
   "execution_count": 37,
   "metadata": {},
   "outputs": [],
   "source": [
    "from sklearn.preprocessing import LabelBinarizer, MultiLabelBinarizer\n",
    "lb = LabelBinarizer()\n",
    "mlb = MultiLabelBinarizer()"
   ]
  },
  {
   "cell_type": "code",
   "execution_count": 38,
   "metadata": {},
   "outputs": [
    {
     "data": {
      "text/plain": [
       "Embarked  Survived\n",
       "1         1            95\n",
       "          0            75\n",
       "2         0            47\n",
       "          1            30\n",
       "3         0           427\n",
       "          1           217\n",
       "Name: Survived, dtype: int64"
      ]
     },
     "execution_count": 38,
     "metadata": {},
     "output_type": "execute_result"
    }
   ],
   "source": [
    "df_train.groupby(['Embarked']).Survived.value_counts()"
   ]
  },
  {
   "cell_type": "code",
   "execution_count": 39,
   "metadata": {},
   "outputs": [
    {
     "data": {
      "text/plain": [
       "Embarked\n",
       "1    60.189978\n",
       "2    13.276030\n",
       "3    27.079812\n",
       "Name: Fare, dtype: float64"
      ]
     },
     "execution_count": 39,
     "metadata": {},
     "output_type": "execute_result"
    }
   ],
   "source": [
    "df_train.groupby(['Embarked']).Fare.mean()"
   ]
  },
  {
   "cell_type": "code",
   "execution_count": 40,
   "metadata": {},
   "outputs": [],
   "source": [
    "embarked = pd.DataFrame(lb.fit_transform(df_train['Embarked'].values), columns=['Emb1','Emb2','Emb3'])\n",
    "df_train = pd.concat([df_train, embarked], axis=1)"
   ]
  },
  {
   "cell_type": "code",
   "execution_count": 41,
   "metadata": {},
   "outputs": [],
   "source": [
    "embarked = pd.DataFrame(lb.fit_transform(df_test['Embarked'].values), columns=['Emb1','Emb2','Emb3'])\n",
    "df_test = pd.concat([df_test, embarked], axis=1)"
   ]
  },
  {
   "cell_type": "markdown",
   "metadata": {},
   "source": [
    "#### One-Hot-Enconding the field \"Cabin\""
   ]
  },
  {
   "cell_type": "code",
   "execution_count": 42,
   "metadata": {
    "scrolled": true
   },
   "outputs": [
    {
     "data": {
      "text/plain": [
       "G6                 4\n",
       "B96 B98            4\n",
       "C23 C25 C27        4\n",
       "F2                 3\n",
       "C22 C26            3\n",
       "D                  3\n",
       "E101               3\n",
       "F33                3\n",
       "E121               2\n",
       "B5                 2\n",
       "B28                2\n",
       "B20                2\n",
       "C2                 2\n",
       "C68                2\n",
       "B58 B60            2\n",
       "C83                2\n",
       "E67                2\n",
       "D33                2\n",
       "F4                 2\n",
       "B18                2\n",
       "C126               2\n",
       "F G73              2\n",
       "B57 B59 B63 B66    2\n",
       "E25                2\n",
       "B51 B53 B55        2\n",
       "C125               2\n",
       "D26                2\n",
       "C65                2\n",
       "C93                2\n",
       "B77                2\n",
       "                  ..\n",
       "C54                1\n",
       "A26                1\n",
       "E63                1\n",
       "A6                 1\n",
       "D28                1\n",
       "A7                 1\n",
       "A34                1\n",
       "B30                1\n",
       "D6                 1\n",
       "C90                1\n",
       "B78                1\n",
       "C30                1\n",
       "A24                1\n",
       "E34                1\n",
       "E36                1\n",
       "E49                1\n",
       "E77                1\n",
       "A16                1\n",
       "F E69              1\n",
       "E38                1\n",
       "A32                1\n",
       "E58                1\n",
       "B19                1\n",
       "A20                1\n",
       "D49                1\n",
       "C70                1\n",
       "C110               1\n",
       "T                  1\n",
       "B38                1\n",
       "C85                1\n",
       "Name: Cabin, Length: 147, dtype: int64"
      ]
     },
     "execution_count": 42,
     "metadata": {},
     "output_type": "execute_result"
    }
   ],
   "source": [
    "df_train['Cabin'].value_counts()"
   ]
  },
  {
   "cell_type": "code",
   "execution_count": 43,
   "metadata": {},
   "outputs": [],
   "source": [
    "CabinTrans = pd.DataFrame(mlb.fit_transform([{str(val)} for val in df_train['Cabin'].values]))"
   ]
  },
  {
   "cell_type": "code",
   "execution_count": 44,
   "metadata": {},
   "outputs": [
    {
     "data": {
      "text/html": [
       "<div>\n",
       "<style scoped>\n",
       "    .dataframe tbody tr th:only-of-type {\n",
       "        vertical-align: middle;\n",
       "    }\n",
       "\n",
       "    .dataframe tbody tr th {\n",
       "        vertical-align: top;\n",
       "    }\n",
       "\n",
       "    .dataframe thead th {\n",
       "        text-align: right;\n",
       "    }\n",
       "</style>\n",
       "<table border=\"1\" class=\"dataframe\">\n",
       "  <thead>\n",
       "    <tr style=\"text-align: right;\">\n",
       "      <th></th>\n",
       "      <th>0</th>\n",
       "      <th>1</th>\n",
       "      <th>2</th>\n",
       "      <th>3</th>\n",
       "      <th>4</th>\n",
       "      <th>5</th>\n",
       "      <th>6</th>\n",
       "      <th>7</th>\n",
       "      <th>8</th>\n",
       "      <th>9</th>\n",
       "      <th>...</th>\n",
       "      <th>138</th>\n",
       "      <th>139</th>\n",
       "      <th>140</th>\n",
       "      <th>141</th>\n",
       "      <th>142</th>\n",
       "      <th>143</th>\n",
       "      <th>144</th>\n",
       "      <th>145</th>\n",
       "      <th>146</th>\n",
       "      <th>147</th>\n",
       "    </tr>\n",
       "  </thead>\n",
       "  <tbody>\n",
       "    <tr>\n",
       "      <th>0</th>\n",
       "      <td>0</td>\n",
       "      <td>0</td>\n",
       "      <td>0</td>\n",
       "      <td>0</td>\n",
       "      <td>0</td>\n",
       "      <td>0</td>\n",
       "      <td>0</td>\n",
       "      <td>0</td>\n",
       "      <td>0</td>\n",
       "      <td>0</td>\n",
       "      <td>...</td>\n",
       "      <td>0</td>\n",
       "      <td>0</td>\n",
       "      <td>0</td>\n",
       "      <td>0</td>\n",
       "      <td>0</td>\n",
       "      <td>0</td>\n",
       "      <td>0</td>\n",
       "      <td>0</td>\n",
       "      <td>0</td>\n",
       "      <td>1</td>\n",
       "    </tr>\n",
       "    <tr>\n",
       "      <th>1</th>\n",
       "      <td>0</td>\n",
       "      <td>0</td>\n",
       "      <td>0</td>\n",
       "      <td>0</td>\n",
       "      <td>0</td>\n",
       "      <td>0</td>\n",
       "      <td>0</td>\n",
       "      <td>0</td>\n",
       "      <td>0</td>\n",
       "      <td>0</td>\n",
       "      <td>...</td>\n",
       "      <td>0</td>\n",
       "      <td>0</td>\n",
       "      <td>0</td>\n",
       "      <td>0</td>\n",
       "      <td>0</td>\n",
       "      <td>0</td>\n",
       "      <td>0</td>\n",
       "      <td>0</td>\n",
       "      <td>0</td>\n",
       "      <td>0</td>\n",
       "    </tr>\n",
       "    <tr>\n",
       "      <th>2</th>\n",
       "      <td>0</td>\n",
       "      <td>0</td>\n",
       "      <td>0</td>\n",
       "      <td>0</td>\n",
       "      <td>0</td>\n",
       "      <td>0</td>\n",
       "      <td>0</td>\n",
       "      <td>0</td>\n",
       "      <td>0</td>\n",
       "      <td>0</td>\n",
       "      <td>...</td>\n",
       "      <td>0</td>\n",
       "      <td>0</td>\n",
       "      <td>0</td>\n",
       "      <td>0</td>\n",
       "      <td>0</td>\n",
       "      <td>0</td>\n",
       "      <td>0</td>\n",
       "      <td>0</td>\n",
       "      <td>0</td>\n",
       "      <td>1</td>\n",
       "    </tr>\n",
       "    <tr>\n",
       "      <th>3</th>\n",
       "      <td>0</td>\n",
       "      <td>0</td>\n",
       "      <td>0</td>\n",
       "      <td>0</td>\n",
       "      <td>0</td>\n",
       "      <td>0</td>\n",
       "      <td>0</td>\n",
       "      <td>0</td>\n",
       "      <td>0</td>\n",
       "      <td>0</td>\n",
       "      <td>...</td>\n",
       "      <td>0</td>\n",
       "      <td>0</td>\n",
       "      <td>0</td>\n",
       "      <td>0</td>\n",
       "      <td>0</td>\n",
       "      <td>0</td>\n",
       "      <td>0</td>\n",
       "      <td>0</td>\n",
       "      <td>0</td>\n",
       "      <td>0</td>\n",
       "    </tr>\n",
       "    <tr>\n",
       "      <th>4</th>\n",
       "      <td>0</td>\n",
       "      <td>0</td>\n",
       "      <td>0</td>\n",
       "      <td>0</td>\n",
       "      <td>0</td>\n",
       "      <td>0</td>\n",
       "      <td>0</td>\n",
       "      <td>0</td>\n",
       "      <td>0</td>\n",
       "      <td>0</td>\n",
       "      <td>...</td>\n",
       "      <td>0</td>\n",
       "      <td>0</td>\n",
       "      <td>0</td>\n",
       "      <td>0</td>\n",
       "      <td>0</td>\n",
       "      <td>0</td>\n",
       "      <td>0</td>\n",
       "      <td>0</td>\n",
       "      <td>0</td>\n",
       "      <td>1</td>\n",
       "    </tr>\n",
       "  </tbody>\n",
       "</table>\n",
       "<p>5 rows × 148 columns</p>\n",
       "</div>"
      ],
      "text/plain": [
       "   0    1    2    3    4    5    6    7    8    9   ...   138  139  140  141  \\\n",
       "0    0    0    0    0    0    0    0    0    0    0 ...     0    0    0    0   \n",
       "1    0    0    0    0    0    0    0    0    0    0 ...     0    0    0    0   \n",
       "2    0    0    0    0    0    0    0    0    0    0 ...     0    0    0    0   \n",
       "3    0    0    0    0    0    0    0    0    0    0 ...     0    0    0    0   \n",
       "4    0    0    0    0    0    0    0    0    0    0 ...     0    0    0    0   \n",
       "\n",
       "   142  143  144  145  146  147  \n",
       "0    0    0    0    0    0    1  \n",
       "1    0    0    0    0    0    0  \n",
       "2    0    0    0    0    0    1  \n",
       "3    0    0    0    0    0    0  \n",
       "4    0    0    0    0    0    1  \n",
       "\n",
       "[5 rows x 148 columns]"
      ]
     },
     "execution_count": 44,
     "metadata": {},
     "output_type": "execute_result"
    }
   ],
   "source": [
    "CabinTrans.head()"
   ]
  },
  {
   "cell_type": "code",
   "execution_count": 45,
   "metadata": {},
   "outputs": [],
   "source": [
    "#df_train = pd.concat([df_train, CabinTrans], axis=1)\n",
    "#Commented - Give up using the feature"
   ]
  },
  {
   "cell_type": "markdown",
   "metadata": {},
   "source": [
    "#### Creating a feature for number of relatives"
   ]
  },
  {
   "cell_type": "code",
   "execution_count": 46,
   "metadata": {},
   "outputs": [],
   "source": [
    "df_train['FamilySize'] = df_train['SibSp'] + df_train['Parch']\n",
    "df_train['Age*Class'] = df_train.AgeFill * df_train.Pclass\n",
    "\n",
    "df_test['FamilySize'] = df_test['SibSp'] + df_test['Parch']\n",
    "df_test['Age*Class'] = df_test.AgeFill * df_test.Pclass"
   ]
  },
  {
   "cell_type": "markdown",
   "metadata": {},
   "source": [
    "#### Discarding unused columns for predictive analysis"
   ]
  },
  {
   "cell_type": "code",
   "execution_count": 47,
   "metadata": {},
   "outputs": [],
   "source": [
    "df_train2 = df_train.drop(['Age','Name', 'Sex', 'Ticket', 'Cabin', 'Embarked'], axis=1)\n",
    "df_train2 = df_train2.dropna()\n",
    "\n",
    "df_test2 = df_test.drop(['Age','Name', 'Sex', 'Ticket', 'Cabin', 'Embarked'], axis=1)\n",
    "df_test2 = df_test2.dropna()"
   ]
  },
  {
   "cell_type": "code",
   "execution_count": 48,
   "metadata": {},
   "outputs": [
    {
     "data": {
      "text/html": [
       "<div>\n",
       "<style scoped>\n",
       "    .dataframe tbody tr th:only-of-type {\n",
       "        vertical-align: middle;\n",
       "    }\n",
       "\n",
       "    .dataframe tbody tr th {\n",
       "        vertical-align: top;\n",
       "    }\n",
       "\n",
       "    .dataframe thead th {\n",
       "        text-align: right;\n",
       "    }\n",
       "</style>\n",
       "<table border=\"1\" class=\"dataframe\">\n",
       "  <thead>\n",
       "    <tr style=\"text-align: right;\">\n",
       "      <th></th>\n",
       "      <th>PassengerId</th>\n",
       "      <th>Survived</th>\n",
       "      <th>Pclass</th>\n",
       "      <th>SibSp</th>\n",
       "      <th>Parch</th>\n",
       "      <th>Fare</th>\n",
       "      <th>Gender</th>\n",
       "      <th>AgeFill</th>\n",
       "      <th>Emb1</th>\n",
       "      <th>Emb2</th>\n",
       "      <th>Emb3</th>\n",
       "      <th>FamilySize</th>\n",
       "      <th>Age*Class</th>\n",
       "    </tr>\n",
       "  </thead>\n",
       "  <tbody>\n",
       "    <tr>\n",
       "      <th>0</th>\n",
       "      <td>1</td>\n",
       "      <td>0</td>\n",
       "      <td>3</td>\n",
       "      <td>1</td>\n",
       "      <td>0</td>\n",
       "      <td>7.2500</td>\n",
       "      <td>1</td>\n",
       "      <td>22.0</td>\n",
       "      <td>0</td>\n",
       "      <td>0</td>\n",
       "      <td>1</td>\n",
       "      <td>1</td>\n",
       "      <td>66.0</td>\n",
       "    </tr>\n",
       "    <tr>\n",
       "      <th>1</th>\n",
       "      <td>2</td>\n",
       "      <td>1</td>\n",
       "      <td>1</td>\n",
       "      <td>1</td>\n",
       "      <td>0</td>\n",
       "      <td>71.2833</td>\n",
       "      <td>0</td>\n",
       "      <td>38.0</td>\n",
       "      <td>1</td>\n",
       "      <td>0</td>\n",
       "      <td>0</td>\n",
       "      <td>1</td>\n",
       "      <td>38.0</td>\n",
       "    </tr>\n",
       "    <tr>\n",
       "      <th>2</th>\n",
       "      <td>3</td>\n",
       "      <td>1</td>\n",
       "      <td>3</td>\n",
       "      <td>0</td>\n",
       "      <td>0</td>\n",
       "      <td>7.9250</td>\n",
       "      <td>0</td>\n",
       "      <td>26.0</td>\n",
       "      <td>0</td>\n",
       "      <td>0</td>\n",
       "      <td>1</td>\n",
       "      <td>0</td>\n",
       "      <td>78.0</td>\n",
       "    </tr>\n",
       "    <tr>\n",
       "      <th>3</th>\n",
       "      <td>4</td>\n",
       "      <td>1</td>\n",
       "      <td>1</td>\n",
       "      <td>1</td>\n",
       "      <td>0</td>\n",
       "      <td>53.1000</td>\n",
       "      <td>0</td>\n",
       "      <td>35.0</td>\n",
       "      <td>0</td>\n",
       "      <td>0</td>\n",
       "      <td>1</td>\n",
       "      <td>1</td>\n",
       "      <td>35.0</td>\n",
       "    </tr>\n",
       "    <tr>\n",
       "      <th>4</th>\n",
       "      <td>5</td>\n",
       "      <td>0</td>\n",
       "      <td>3</td>\n",
       "      <td>0</td>\n",
       "      <td>0</td>\n",
       "      <td>8.0500</td>\n",
       "      <td>1</td>\n",
       "      <td>35.0</td>\n",
       "      <td>0</td>\n",
       "      <td>0</td>\n",
       "      <td>1</td>\n",
       "      <td>0</td>\n",
       "      <td>105.0</td>\n",
       "    </tr>\n",
       "  </tbody>\n",
       "</table>\n",
       "</div>"
      ],
      "text/plain": [
       "   PassengerId  Survived  Pclass  SibSp  Parch     Fare  Gender  AgeFill  \\\n",
       "0            1         0       3      1      0   7.2500       1     22.0   \n",
       "1            2         1       1      1      0  71.2833       0     38.0   \n",
       "2            3         1       3      0      0   7.9250       0     26.0   \n",
       "3            4         1       1      1      0  53.1000       0     35.0   \n",
       "4            5         0       3      0      0   8.0500       1     35.0   \n",
       "\n",
       "   Emb1  Emb2  Emb3  FamilySize  Age*Class  \n",
       "0     0     0     1           1       66.0  \n",
       "1     1     0     0           1       38.0  \n",
       "2     0     0     1           0       78.0  \n",
       "3     0     0     1           1       35.0  \n",
       "4     0     0     1           0      105.0  "
      ]
     },
     "execution_count": 48,
     "metadata": {},
     "output_type": "execute_result"
    }
   ],
   "source": [
    "df_train2.head()"
   ]
  },
  {
   "cell_type": "code",
   "execution_count": 49,
   "metadata": {},
   "outputs": [
    {
     "data": {
      "text/html": [
       "<div>\n",
       "<style scoped>\n",
       "    .dataframe tbody tr th:only-of-type {\n",
       "        vertical-align: middle;\n",
       "    }\n",
       "\n",
       "    .dataframe tbody tr th {\n",
       "        vertical-align: top;\n",
       "    }\n",
       "\n",
       "    .dataframe thead th {\n",
       "        text-align: right;\n",
       "    }\n",
       "</style>\n",
       "<table border=\"1\" class=\"dataframe\">\n",
       "  <thead>\n",
       "    <tr style=\"text-align: right;\">\n",
       "      <th></th>\n",
       "      <th>PassengerId</th>\n",
       "      <th>Pclass</th>\n",
       "      <th>SibSp</th>\n",
       "      <th>Parch</th>\n",
       "      <th>Fare</th>\n",
       "      <th>Gender</th>\n",
       "      <th>AgeFill</th>\n",
       "      <th>Emb1</th>\n",
       "      <th>Emb2</th>\n",
       "      <th>Emb3</th>\n",
       "      <th>FamilySize</th>\n",
       "      <th>Age*Class</th>\n",
       "    </tr>\n",
       "  </thead>\n",
       "  <tbody>\n",
       "    <tr>\n",
       "      <th>0</th>\n",
       "      <td>892</td>\n",
       "      <td>3</td>\n",
       "      <td>0</td>\n",
       "      <td>0</td>\n",
       "      <td>7.8292</td>\n",
       "      <td>1</td>\n",
       "      <td>34.5</td>\n",
       "      <td>0</td>\n",
       "      <td>1</td>\n",
       "      <td>0</td>\n",
       "      <td>0</td>\n",
       "      <td>103.5</td>\n",
       "    </tr>\n",
       "    <tr>\n",
       "      <th>1</th>\n",
       "      <td>893</td>\n",
       "      <td>3</td>\n",
       "      <td>1</td>\n",
       "      <td>0</td>\n",
       "      <td>7.0000</td>\n",
       "      <td>0</td>\n",
       "      <td>47.0</td>\n",
       "      <td>0</td>\n",
       "      <td>0</td>\n",
       "      <td>1</td>\n",
       "      <td>1</td>\n",
       "      <td>141.0</td>\n",
       "    </tr>\n",
       "    <tr>\n",
       "      <th>2</th>\n",
       "      <td>894</td>\n",
       "      <td>2</td>\n",
       "      <td>0</td>\n",
       "      <td>0</td>\n",
       "      <td>9.6875</td>\n",
       "      <td>1</td>\n",
       "      <td>62.0</td>\n",
       "      <td>0</td>\n",
       "      <td>1</td>\n",
       "      <td>0</td>\n",
       "      <td>0</td>\n",
       "      <td>124.0</td>\n",
       "    </tr>\n",
       "    <tr>\n",
       "      <th>3</th>\n",
       "      <td>895</td>\n",
       "      <td>3</td>\n",
       "      <td>0</td>\n",
       "      <td>0</td>\n",
       "      <td>8.6625</td>\n",
       "      <td>1</td>\n",
       "      <td>27.0</td>\n",
       "      <td>0</td>\n",
       "      <td>0</td>\n",
       "      <td>1</td>\n",
       "      <td>0</td>\n",
       "      <td>81.0</td>\n",
       "    </tr>\n",
       "    <tr>\n",
       "      <th>4</th>\n",
       "      <td>896</td>\n",
       "      <td>3</td>\n",
       "      <td>1</td>\n",
       "      <td>1</td>\n",
       "      <td>12.2875</td>\n",
       "      <td>0</td>\n",
       "      <td>22.0</td>\n",
       "      <td>0</td>\n",
       "      <td>0</td>\n",
       "      <td>1</td>\n",
       "      <td>2</td>\n",
       "      <td>66.0</td>\n",
       "    </tr>\n",
       "  </tbody>\n",
       "</table>\n",
       "</div>"
      ],
      "text/plain": [
       "   PassengerId  Pclass  SibSp  Parch     Fare  Gender  AgeFill  Emb1  Emb2  \\\n",
       "0          892       3      0      0   7.8292       1     34.5     0     1   \n",
       "1          893       3      1      0   7.0000       0     47.0     0     0   \n",
       "2          894       2      0      0   9.6875       1     62.0     0     1   \n",
       "3          895       3      0      0   8.6625       1     27.0     0     0   \n",
       "4          896       3      1      1  12.2875       0     22.0     0     0   \n",
       "\n",
       "   Emb3  FamilySize  Age*Class  \n",
       "0     0           0      103.5  \n",
       "1     1           1      141.0  \n",
       "2     0           0      124.0  \n",
       "3     1           0       81.0  \n",
       "4     1           2       66.0  "
      ]
     },
     "execution_count": 49,
     "metadata": {},
     "output_type": "execute_result"
    }
   ],
   "source": [
    "df_test2.head()"
   ]
  },
  {
   "cell_type": "code",
   "execution_count": 50,
   "metadata": {},
   "outputs": [
    {
     "name": "stdout",
     "output_type": "stream",
     "text": [
      "<class 'pandas.core.frame.DataFrame'>\n",
      "Int64Index: 417 entries, 0 to 417\n",
      "Data columns (total 12 columns):\n",
      "PassengerId    417 non-null int64\n",
      "Pclass         417 non-null int64\n",
      "SibSp          417 non-null int64\n",
      "Parch          417 non-null int64\n",
      "Fare           417 non-null float64\n",
      "Gender         417 non-null int64\n",
      "AgeFill        417 non-null float64\n",
      "Emb1           417 non-null int64\n",
      "Emb2           417 non-null int64\n",
      "Emb3           417 non-null int64\n",
      "FamilySize     417 non-null int64\n",
      "Age*Class      417 non-null float64\n",
      "dtypes: float64(3), int64(9)\n",
      "memory usage: 42.4 KB\n"
     ]
    }
   ],
   "source": [
    "df_test2.info()"
   ]
  },
  {
   "cell_type": "markdown",
   "metadata": {},
   "source": [
    "#### Renaming target class (For the TPOT genetic algorithm) "
   ]
  },
  {
   "cell_type": "code",
   "execution_count": 51,
   "metadata": {},
   "outputs": [],
   "source": [
    "df_train.rename(columns={'Survived': 'class'}, inplace=True)"
   ]
  },
  {
   "cell_type": "markdown",
   "metadata": {},
   "source": [
    "#### Runnng correlation hypothesis:"
   ]
  },
  {
   "cell_type": "code",
   "execution_count": 52,
   "metadata": {},
   "outputs": [
    {
     "name": "stdout",
     "output_type": "stream",
     "text": [
      "Optimization terminated successfully.\n",
      "         Current function value: 0.558118\n",
      "         Iterations 5\n",
      "                           Logit Regression Results                           \n",
      "==============================================================================\n",
      "Dep. Variable:               Survived   No. Observations:                  891\n",
      "Model:                          Logit   Df Residuals:                      890\n",
      "Method:                           MLE   Df Model:                            0\n",
      "Date:                Thu, 19 Apr 2018   Pseudo R-squ.:                  0.1619\n",
      "Time:                        15:09:08   Log-Likelihood:                -497.28\n",
      "converged:                       True   LL-Null:                       -593.33\n",
      "                                        LLR p-value:                       nan\n",
      "==============================================================================\n",
      "                 coef    std err          z      P>|z|      [0.025      0.975]\n",
      "------------------------------------------------------------------------------\n",
      "Gender        -1.4571      0.106    -13.701      0.000      -1.666      -1.249\n",
      "==============================================================================\n"
     ]
    }
   ],
   "source": [
    "from scipy import stats\n",
    "stats.chisqprob = lambda chisq, df: stats.chi2.sf(chisq, df)\n",
    "## https://github.com/statsmodels/statsmodels/issues/3931 waiting for fixes\n",
    "\n",
    "y = df_train2.Survived\n",
    "X = df_train2.Gender\n",
    "model = sm.Logit(y, X)\n",
    "results = model.fit()\n",
    "print(results.summary())"
   ]
  },
  {
   "cell_type": "code",
   "execution_count": 53,
   "metadata": {},
   "outputs": [
    {
     "name": "stdout",
     "output_type": "stream",
     "text": [
      "Optimization terminated successfully.\n",
      "         Current function value: 0.529672\n",
      "         Iterations 6\n",
      "                           Logit Regression Results                           \n",
      "==============================================================================\n",
      "Dep. Variable:               Survived   No. Observations:                  891\n",
      "Model:                          Logit   Df Residuals:                      888\n",
      "Method:                           MLE   Df Model:                            2\n",
      "Date:                Thu, 19 Apr 2018   Pseudo R-squ.:                  0.2046\n",
      "Time:                        15:09:08   Log-Likelihood:                -471.94\n",
      "converged:                       True   LL-Null:                       -593.33\n",
      "                                        LLR p-value:                 1.910e-53\n",
      "==============================================================================\n",
      "                 coef    std err          z      P>|z|      [0.025      0.975]\n",
      "------------------------------------------------------------------------------\n",
      "Gender        -2.1764      0.170    -12.829      0.000      -2.509      -1.844\n",
      "Pclass        -0.0671      0.056     -1.190      0.234      -0.178       0.043\n",
      "AgeFill        0.0276      0.004      6.248      0.000       0.019       0.036\n",
      "==============================================================================\n"
     ]
    }
   ],
   "source": [
    "y = df_train2.Survived\n",
    "X = df_train2[['Gender','Pclass','AgeFill']]\n",
    "model = sm.Logit(y, X)\n",
    "results = model.fit()\n",
    "print(results.summary())"
   ]
  },
  {
   "cell_type": "markdown",
   "metadata": {},
   "source": [
    "#### Preparing Data for predictions"
   ]
  },
  {
   "cell_type": "code",
   "execution_count": 54,
   "metadata": {},
   "outputs": [
    {
     "name": "stdout",
     "output_type": "stream",
     "text": [
      "(891, 13)\n"
     ]
    },
    {
     "data": {
      "text/plain": [
       "array([[  1. ,   0. ,   3. , ...,   1. ,   1. ,  66. ],\n",
       "       [  2. ,   1. ,   1. , ...,   0. ,   1. ,  38. ],\n",
       "       [  3. ,   1. ,   3. , ...,   1. ,   0. ,  78. ],\n",
       "       ...,\n",
       "       [889. ,   0. ,   3. , ...,   1. ,   3. ,  64.5],\n",
       "       [890. ,   1. ,   1. , ...,   0. ,   0. ,  26. ],\n",
       "       [891. ,   0. ,   3. , ...,   0. ,   0. ,  96. ]])"
      ]
     },
     "execution_count": 54,
     "metadata": {},
     "output_type": "execute_result"
    }
   ],
   "source": [
    "train_data = df_train2.values\n",
    "print(train_data.shape)\n",
    "train_data"
   ]
  },
  {
   "cell_type": "code",
   "execution_count": 55,
   "metadata": {},
   "outputs": [
    {
     "name": "stdout",
     "output_type": "stream",
     "text": [
      "(417, 12)\n"
     ]
    },
    {
     "data": {
      "text/plain": [
       "array([[8.920e+02, 3.000e+00, 0.000e+00, ..., 0.000e+00, 0.000e+00,\n",
       "        1.035e+02],\n",
       "       [8.930e+02, 3.000e+00, 1.000e+00, ..., 1.000e+00, 1.000e+00,\n",
       "        1.410e+02],\n",
       "       [8.940e+02, 2.000e+00, 0.000e+00, ..., 0.000e+00, 0.000e+00,\n",
       "        1.240e+02],\n",
       "       ...,\n",
       "       [1.307e+03, 3.000e+00, 0.000e+00, ..., 1.000e+00, 0.000e+00,\n",
       "        1.155e+02],\n",
       "       [1.308e+03, 3.000e+00, 0.000e+00, ..., 1.000e+00, 0.000e+00,\n",
       "        7.500e+01],\n",
       "       [1.309e+03, 3.000e+00, 1.000e+00, ..., 0.000e+00, 2.000e+00,\n",
       "        7.500e+01]])"
      ]
     },
     "execution_count": 55,
     "metadata": {},
     "output_type": "execute_result"
    }
   ],
   "source": [
    "test_data = df_test2.values\n",
    "print(test_data.shape)\n",
    "test_data"
   ]
  },
  {
   "cell_type": "markdown",
   "metadata": {},
   "source": [
    "#### Adjusting features scales:   \n",
    "http://scikit-learn.org/stable/modules/generated/sklearn.preprocessing.StandardScaler.html  "
   ]
  },
  {
   "cell_type": "code",
   "execution_count": 56,
   "metadata": {},
   "outputs": [],
   "source": [
    "from sklearn.preprocessing import StandardScaler\n",
    "\n",
    "scaler = StandardScaler()\n",
    "X_train = scaler.fit_transform(train_data[0::,2::])\n",
    "X_test = scaler.fit_transform(test_data[0::,1::])\n",
    "\n",
    "y_train = train_data[0::,1]"
   ]
  },
  {
   "cell_type": "code",
   "execution_count": 57,
   "metadata": {},
   "outputs": [
    {
     "data": {
      "text/plain": [
       "array([ 0.82737724,  0.43279337, -0.47367361, -0.50244517,  0.73769513,\n",
       "       -0.53489116, -0.48557557, -0.30756234,  0.61930636,  0.05915988,\n",
       "        0.10799818])"
      ]
     },
     "execution_count": 57,
     "metadata": {},
     "output_type": "execute_result"
    }
   ],
   "source": [
    "X_train[0]"
   ]
  },
  {
   "cell_type": "code",
   "execution_count": 58,
   "metadata": {},
   "outputs": [
    {
     "data": {
      "text/plain": [
       "array([ 0.87532977, -0.50021819, -0.40080432, -0.49781052,  0.75735388,\n",
       "        0.4054536 , -0.56904264,  2.83993264, -1.34817194, -0.55430942,\n",
       "        1.65753892])"
      ]
     },
     "execution_count": 58,
     "metadata": {},
     "output_type": "execute_result"
    }
   ],
   "source": [
    "X_test[0]"
   ]
  },
  {
   "cell_type": "code",
   "execution_count": 59,
   "metadata": {},
   "outputs": [
    {
     "name": "stdout",
     "output_type": "stream",
     "text": [
      "(891, 11)\n",
      "(417, 11)\n",
      "(891,)\n"
     ]
    }
   ],
   "source": [
    "print(X_train.shape)\n",
    "print(X_test.shape)\n",
    "print(y_train.shape)"
   ]
  },
  {
   "cell_type": "markdown",
   "metadata": {},
   "source": [
    "http://stats.stackexchange.com/questions/95797/how-to-split-the-dataset-for-cross-validation-learning-curve-and-final-evaluat  \n",
    "http://scikit-learn.org/stable/modules/cross_validation.html  "
   ]
  },
  {
   "cell_type": "markdown",
   "metadata": {},
   "source": [
    "#### Importing modules for cross validation and evaluation of the models"
   ]
  },
  {
   "cell_type": "code",
   "execution_count": 60,
   "metadata": {},
   "outputs": [],
   "source": [
    "from sklearn import model_selection\n",
    "\n",
    "from sklearn.metrics import confusion_matrix\n",
    "from sklearn.metrics import classification_report\n",
    "from sklearn.metrics import confusion_matrix\n",
    "from sklearn.metrics import roc_auc_score\n",
    "from sklearn.metrics import roc_curve\n",
    "from sklearn.metrics import accuracy_score\n",
    "from sklearn.metrics import average_precision_score\n",
    "from sklearn.metrics import f1_score"
   ]
  },
  {
   "cell_type": "markdown",
   "metadata": {},
   "source": [
    "#### Creating functions to help evaluate the models"
   ]
  },
  {
   "cell_type": "code",
   "execution_count": 61,
   "metadata": {},
   "outputs": [],
   "source": [
    "def plot_confusion_matrix(cm, classes,\n",
    "                          normalize=False,\n",
    "                          title='Confusion matrix',\n",
    "                          cmap=plt.cm.Blues):\n",
    "    \"\"\"\n",
    "    This function prints and plots the confusion matrix.\n",
    "    Normalization can be applied by setting `normalize=True`.\n",
    "    \"\"\"\n",
    "\n",
    "    plt.imshow(cm, interpolation='nearest', cmap=cmap, aspect='auto')\n",
    "    plt.title(title)\n",
    "    plt.colorbar()\n",
    "    tick_marks = np.arange(len(classes))\n",
    "    plt.xticks(tick_marks, classes, rotation=45)\n",
    "    plt.yticks(tick_marks, classes)\n",
    "    \n",
    "    if normalize:\n",
    "        cm = cm.astype('float') / cm.sum(axis=1)[:, np.newaxis]\n",
    "        print(\"Normalized confusion matrix\")\n",
    "    else:\n",
    "        print('Confusion matrix, without normalization')\n",
    "\n",
    "    print(cm)\n",
    "\n",
    "    thresh = cm.max() / 2.\n",
    "    for i, j in itertools.product(range(cm.shape[0]), range(cm.shape[1])):\n",
    "        plt.text(j, i, cm[i, j],\n",
    "                 horizontalalignment=\"center\",\n",
    "                 color=\"white\" if cm[i, j] > thresh else \"black\")\n",
    "\n",
    "    plt.tight_layout()\n",
    "    plt.ylabel('True label')\n",
    "    plt.xlabel('Predicted label')\n",
    "    \n",
    "def clf_eval(clf, X, y_true, classes=['Não Sobreviveu', 'Sobreviveu']):\n",
    "    y_pred = clf.predict(X)\n",
    "    clf_matrix = confusion_matrix(y_true, y_pred)\n",
    "    print('Classification Report')\n",
    "    print(classification_report(y_true, y_pred, target_names=classes))\n",
    "    print('ROC Score: {}'.format(roc_auc_score(y_true, y_pred)))\n",
    "    print('Accuracy Score: {}'.format(accuracy_score(y_true, y_pred)))\n",
    "    print('Average Precision Score: {}'.format(average_precision_score(y_true, y_pred)))\n",
    "    print('f1 Score: {}'.format(f1_score(y_true, y_pred)))\n",
    "    plot_confusion_matrix(clf_matrix, classes=classes)\n",
    "    return roc_auc_score(y_true, y_pred)"
   ]
  },
  {
   "cell_type": "markdown",
   "metadata": {},
   "source": [
    "#### Creating cross-validation with subsets (70% train / 30% test):  \n",
    "\n",
    "http://scikit-learn.org/stable/modules/cross_validation.html  \n",
    "http://www.analyticsvidhya.com/blog/2015/05/k-fold-cross-validation-simple/  \n",
    "http://scikit-learn.org/stable/modules/generated/sklearn.cross_validation.cross_val_score.html  \n",
    "http://stackoverflow.com/questions/25375203/identical-learning-curves-on-subsequent-runs-using-shufflesplit  \n",
    "http://stackoverflow.com/questions/28064634/random-state-pseudo-random-numberin-scikit-learn  "
   ]
  },
  {
   "cell_type": "code",
   "execution_count": 62,
   "metadata": {},
   "outputs": [],
   "source": [
    "X_traincv, X_testcv, y_traincv, y_testcv = model_selection.train_test_split(X_train,\n",
    "                                                                            y_train,\n",
    "                                                                            test_size=0.3,\n",
    "                                                                            random_state=0)"
   ]
  },
  {
   "cell_type": "code",
   "execution_count": 63,
   "metadata": {},
   "outputs": [
    {
     "name": "stdout",
     "output_type": "stream",
     "text": [
      "(623, 11)\n",
      "(268, 11)\n",
      "(623,)\n",
      "(268,)\n"
     ]
    }
   ],
   "source": [
    "print(X_traincv.shape)\n",
    "print(X_testcv.shape)\n",
    "print(y_traincv.shape)\n",
    "print(y_testcv.shape)"
   ]
  },
  {
   "cell_type": "markdown",
   "metadata": {},
   "source": [
    "#### Check if classes are balanced"
   ]
  },
  {
   "cell_type": "code",
   "execution_count": 64,
   "metadata": {},
   "outputs": [
    {
     "name": "stdout",
     "output_type": "stream",
     "text": [
      "381\n",
      "242\n"
     ]
    }
   ],
   "source": [
    "print(len(y_traincv[y_traincv == 0]))\n",
    "print(len(y_traincv[y_traincv == 1]))"
   ]
  },
  {
   "cell_type": "markdown",
   "metadata": {},
   "source": [
    "#### Oversampling the minority class  \n",
    "http://contrib.scikit-learn.org/imbalanced-learn/  "
   ]
  },
  {
   "cell_type": "code",
   "execution_count": 65,
   "metadata": {},
   "outputs": [],
   "source": [
    "from imblearn.over_sampling import SMOTE\n",
    "\n",
    "smote = SMOTE(kind='regular')\n",
    "X_traincv_res, y_traincv_res = smote.fit_sample(X_traincv, y_traincv)"
   ]
  },
  {
   "cell_type": "code",
   "execution_count": 66,
   "metadata": {},
   "outputs": [
    {
     "name": "stdout",
     "output_type": "stream",
     "text": [
      "381\n",
      "381\n"
     ]
    }
   ],
   "source": [
    "print(len(y_traincv_res[y_traincv_res == 0]))\n",
    "print(len(y_traincv_res[y_traincv_res == 1]))"
   ]
  },
  {
   "cell_type": "markdown",
   "metadata": {},
   "source": [
    "#### Creating another train/test set using k-fold or other cross-validation method:  "
   ]
  },
  {
   "cell_type": "code",
   "execution_count": 67,
   "metadata": {},
   "outputs": [],
   "source": [
    "cv = model_selection.StratifiedKFold(n_splits=10)\n",
    "\n",
    "def mean_scores_cv(clf, cv, X, y):\n",
    "    scores = model_selection.cross_val_score(clf, X, y, \n",
    "                                              scoring=None, \n",
    "                                              cv=cv, \n",
    "                                              n_jobs=1,\n",
    "                                              verbose=0,\n",
    "                                              fit_params=None,\n",
    "                                              pre_dispatch='2*n_jobs')\n",
    "    return scores.mean()"
   ]
  },
  {
   "cell_type": "markdown",
   "metadata": {},
   "source": [
    "#### Testing some classifiers:  \n",
    "\n",
    "### Linear (or Polynomial) Classifiers\n",
    "\n",
    "A linear classifier achieves this by making a classification decision based on the value of a linear combination of the characteristics. An object's characteristics are also known as feature values and are typically presented to the machine in a vector called a feature vector. Such classifiers work well for practical problems such as document classification, and more generally for problems with many variables (features), reaching accuracy levels comparable to non-linear classifiers while taking less time to train and use."
   ]
  },
  {
   "cell_type": "markdown",
   "metadata": {},
   "source": [
    "#### Support Vector Machines  \n",
    "\n",
    "Support vector machines (SVMs, also support vector networks) are supervised learning models with associated learning algorithms that analyze data used for classification and regression analysis. Given a set of training examples, each marked as belonging to one or the other of two categories, an SVM training algorithm builds a model that assigns new examples to one category or the other, making it a non-probabilistic binary linear classifier. An SVM model is a representation of the examples as points in space, mapped so that the examples of the separate categories are divided by a clear gap that is as wide as possible. New examples are then mapped into that same space and predicted to belong to a category based on which side of the gap they fall.\n",
    "\n",
    "In addition to performing linear classification, SVMs can efficiently perform a non-linear classification using what is called the kernel trick, implicitly mapping their inputs into high-dimensional feature spaces."
   ]
  },
  {
   "cell_type": "markdown",
   "metadata": {},
   "source": [
    "#### Choosing the best parameters using GridSearchCV and RandomizedSearchCV  \n",
    "http://scikit-learn.org/stable/modules/grid_search.html  "
   ]
  },
  {
   "cell_type": "code",
   "execution_count": 68,
   "metadata": {},
   "outputs": [
    {
     "name": "stdout",
     "output_type": "stream",
     "text": [
      "0.8204264870931538\n",
      "poly\n",
      "0.7333333333333333\n",
      "2\n",
      "1.0\n"
     ]
    }
   ],
   "source": [
    "#http://scikit-learn.org/stable/modules/generated/sklearn.svm.SVC.html\n",
    "from sklearn import svm\n",
    "\n",
    "\n",
    "estimator = svm.SVC()\n",
    "cv = model_selection.StratifiedKFold(n_splits=10)\n",
    "\n",
    "kernels = ['linear', 'poly']\n",
    "Cs = np.linspace(0.1,2,10)\n",
    "degrees = [2,3,4]\n",
    "gammas = np.logspace(-5, 0, 10)\n",
    "\n",
    "param_grid=dict(kernel=kernels, C=Cs, gamma=gammas, degree=degrees)\n",
    "\n",
    "clf_svc = model_selection.RandomizedSearchCV(estimator=estimator,\n",
    "                                             cv=cv,\n",
    "                                             param_distributions=param_grid, \n",
    "                                             n_jobs=-1).fit(X_train, y_train)\n",
    "\n",
    "with open(os.path.join(outputs,'best_parameters_svm.pickle'), 'wb') as f:\n",
    "    pickle.dump(clf_svc,f)\n",
    "\n",
    "with open(os.path.join(outputs,'best_parameters_svm.pickle'), 'rb') as f:\n",
    "    clf_svc = pickle.load(f)\n",
    "\n",
    "print(clf_svc.best_score_)\n",
    "print(clf_svc.best_estimator_.kernel)\n",
    "print(clf_svc.best_estimator_.C)\n",
    "print(clf_svc.best_estimator_.degree)\n",
    "print(clf_svc.best_estimator_.gamma)"
   ]
  },
  {
   "cell_type": "code",
   "execution_count": 69,
   "metadata": {},
   "outputs": [
    {
     "name": "stdout",
     "output_type": "stream",
     "text": [
      "Classification Report\n",
      "                precision    recall  f1-score   support\n",
      "\n",
      "Não Sobreviveu       0.82      0.88      0.84       168\n",
      "    Sobreviveu       0.76      0.67      0.71       100\n",
      "\n",
      "   avg / total       0.80      0.80      0.80       268\n",
      "\n",
      "ROC Score: 0.7725\n",
      "Accuracy Score: 0.7985074626865671\n",
      "Average Precision Score: 0.6332479647218453\n",
      "f1 Score: 0.7127659574468085\n",
      "Confusion matrix, without normalization\n",
      "[[147  21]\n",
      " [ 33  67]]\n"
     ]
    },
    {
     "data": {
      "image/png": "[encoded data removed]",
      "text/plain": [
       "<Figure size 432x288 with 2 Axes>"
      ]
     },
     "metadata": {},
     "output_type": "display_data"
    }
   ],
   "source": [
    "#http://scikit-learn.org/stable/modules/generated/sklearn.svm.SVC.html\n",
    "clf_svc2 = svm.SVC(kernel=clf_svc.best_estimator_.kernel,\n",
    "                   C=clf_svc.best_estimator_.C,\n",
    "                   degree=clf_svc.best_estimator_.degree, \n",
    "                   gamma=clf_svc.best_estimator_.gamma, \n",
    "                   coef0=0.0, \n",
    "                   shrinking=True, \n",
    "                   probability=False, \n",
    "                   tol=0.001, \n",
    "                   cache_size=200, \n",
    "                   class_weight=None, \n",
    "                   verbose=False, \n",
    "                   max_iter=-1, \n",
    "                   random_state=0).fit(X_traincv, y_traincv)\n",
    "\n",
    "roc_svc2 = clf_eval(clf_svc2, X_testcv, y_testcv)"
   ]
  },
  {
   "cell_type": "markdown",
   "metadata": {},
   "source": [
    "For this first classifier, we'll also display the learning curve  \n",
    "http://scikit-learn.org/stable/modules/generated/sklearn.learning_curve.learning_curve.html  "
   ]
  },
  {
   "cell_type": "code",
   "execution_count": 70,
   "metadata": {},
   "outputs": [],
   "source": [
    "#http://scikit-learn.org/stable/modules/generated/sklearn.learning_curve.learning_curve.html\n",
    "\n",
    "def plot_learning_curve(estimator, \n",
    "                        title, \n",
    "                        X, \n",
    "                        y, \n",
    "                        ylim=None, \n",
    "                        cv=None,\n",
    "                        n_jobs=-1, \n",
    "                        train_sizes=np.linspace(.1, 1.0, 5)):\n",
    "    \n",
    "    plt.figure(figsize=(16,8))\n",
    "    plt.title(title)\n",
    "    if ylim is not None:\n",
    "        plt.ylim(*ylim)\n",
    "    plt.xlabel(\"Training examples\")\n",
    "    plt.ylabel(\"Score\")\n",
    "    train_sizes, train_scores, test_scores = model_selection.learning_curve(estimator, \n",
    "                                                            X, y, cv=cv, \n",
    "                                                            n_jobs=n_jobs, \n",
    "                                                            train_sizes=train_sizes)\n",
    "    train_scores_mean = np.mean(train_scores, axis=1)\n",
    "    train_scores_std = np.std(train_scores, axis=1)\n",
    "    test_scores_mean = np.mean(test_scores, axis=1)\n",
    "    test_scores_std = np.std(test_scores, axis=1)\n",
    "    \n",
    "    plt.grid()\n",
    "    plt.fill_between(train_sizes, train_scores_mean - train_scores_std,\n",
    "                     train_scores_mean + train_scores_std, alpha=0.1, color=\"r\")\n",
    "    plt.fill_between(train_sizes, test_scores_mean - test_scores_std,\n",
    "                     test_scores_mean + test_scores_std, alpha=0.1, color=\"g\")\n",
    "    plt.plot(train_sizes, train_scores_mean, 'o-', color=\"r\", label=\"Training score\")\n",
    "    plt.plot(train_sizes, test_scores_mean, 'o-', color=\"g\", label=\"Cross-validation score\")\n",
    "\n",
    "    plt.legend(loc=\"best\")\n",
    "    return plt"
   ]
  },
  {
   "cell_type": "code",
   "execution_count": 71,
   "metadata": {},
   "outputs": [
    {
     "data": {
      "image/png": "[encoded data removed]",
      "text/plain": [
       "<Figure size 1152x576 with 1 Axes>"
      ]
     },
     "metadata": {},
     "output_type": "display_data"
    }
   ],
   "source": [
    "title = 'Learning Curves (SVM, kernel:{1}{0} , $\\gamma={2:.6f}$)'.format(clf_svc.best_estimator_.degree,\n",
    "                                                                         clf_svc.best_estimator_.kernel,\n",
    "                                                                         clf_svc.best_estimator_.gamma)\n",
    "graph = plot_learning_curve(clf_svc2, title, X_train, y_train, cv=cv)\n",
    "#matplotlib.rcdefaults()\n",
    "#matplotlib.verbose.set_level('silent')\n",
    "graph.show()"
   ]
  },
  {
   "cell_type": "markdown",
   "metadata": {},
   "source": [
    "#### Logistic Regression\n",
    "\n",
    "Logistic regression, or logit regression, or logit model is a regression model where the dependent variable (DV) is categorical. In the binary case, a dependent variable (the output) can take only two values, \"0\" and \"1\", which represent outcomes such as pass/fail, win/lose, alive/dead or healthy/sick. Cases where the dependent variable has more than two outcome categories may be analysed in multinomial logistic regression, or, if the multiple categories are ordered, in ordinal logistic regression."
   ]
  },
  {
   "cell_type": "code",
   "execution_count": 72,
   "metadata": {},
   "outputs": [
    {
     "name": "stderr",
     "output_type": "stream",
     "text": [
      "/usr/local/lib/python3.6/dist-packages/sklearn/linear_model/logistic.py:1228: UserWarning: 'n_jobs' > 1 does not have any effect when 'solver' is set to 'liblinear'. Got 'n_jobs' = -1.\n",
      "  \" = {}.\".format(self.n_jobs))\n"
     ]
    },
    {
     "name": "stdout",
     "output_type": "stream",
     "text": [
      "Classification Report\n",
      "                precision    recall  f1-score   support\n",
      "\n",
      "Não Sobreviveu       0.84      0.86      0.85       168\n",
      "    Sobreviveu       0.75      0.72      0.73       100\n",
      "\n",
      "   avg / total       0.80      0.81      0.81       268\n",
      "\n",
      "ROC Score: 0.7885714285714286\n",
      "Accuracy Score: 0.8059701492537313\n",
      "Average Precision Score: 0.6444776119402985\n",
      "f1 Score: 0.7346938775510204\n",
      "Confusion matrix, without normalization\n",
      "[[144  24]\n",
      " [ 28  72]]\n"
     ]
    },
    {
     "data": {
      "image/png": "[encoded data removed]",
      "text/plain": [
       "<Figure size 432x288 with 2 Axes>"
      ]
     },
     "metadata": {},
     "output_type": "display_data"
    }
   ],
   "source": [
    "#http://scikit-learn.org/stable/modules/generated/sklearn.linear_model.LogisticRegression.html\n",
    "from sklearn.linear_model import LogisticRegression\n",
    "\n",
    "clf_lr = LogisticRegression(penalty='l2',\n",
    "                            dual=False, \n",
    "                            tol=0.001, \n",
    "                            C=0.10, \n",
    "                            fit_intercept=True, \n",
    "                            intercept_scaling=1, \n",
    "                            class_weight=None, \n",
    "                            random_state=0, \n",
    "                            solver='liblinear', \n",
    "                            max_iter=100, \n",
    "                            multi_class='ovr', \n",
    "                            verbose=0, \n",
    "                            warm_start=False, \n",
    "                            n_jobs=-1).fit(X_traincv, y_traincv)\n",
    "\n",
    "roc_lr = clf_eval(clf_lr, X_testcv, y_testcv)"
   ]
  },
  {
   "cell_type": "markdown",
   "metadata": {},
   "source": [
    "#### Ridge Classifier\n",
    "\n",
    "Ridge Classifiers addresses some of the problems of Ordinary Least Squares by imposing a penalty on the size of coefficients. The ridge coefficients minimize a penalized residual sum of squares"
   ]
  },
  {
   "cell_type": "code",
   "execution_count": 73,
   "metadata": {},
   "outputs": [
    {
     "name": "stdout",
     "output_type": "stream",
     "text": [
      "Classification Report\n",
      "                precision    recall  f1-score   support\n",
      "\n",
      "Não Sobreviveu       0.84      0.85      0.84       168\n",
      "    Sobreviveu       0.74      0.72      0.73       100\n",
      "\n",
      "   avg / total       0.80      0.80      0.80       268\n",
      "\n",
      "ROC Score: 0.7855952380952381\n",
      "Accuracy Score: 0.8022388059701493\n",
      "Average Precision Score: 0.6389106016310201\n",
      "f1 Score: 0.7309644670050761\n",
      "Confusion matrix, without normalization\n",
      "[[143  25]\n",
      " [ 28  72]]\n"
     ]
    },
    {
     "data": {
      "image/png": "[encoded data removed]",
      "text/plain": [
       "<Figure size 432x288 with 2 Axes>"
      ]
     },
     "metadata": {},
     "output_type": "display_data"
    }
   ],
   "source": [
    "#http://scikit-learn.org/stable/modules/generated/sklearn.linear_model.RidgeClassifier.html\n",
    "from sklearn.linear_model import RidgeClassifier\n",
    "\n",
    "clf_rdg = RidgeClassifier(alpha=1.0, \n",
    "                          fit_intercept=True, \n",
    "                          normalize=False, \n",
    "                          copy_X=True, \n",
    "                          max_iter=None, \n",
    "                          tol=0.001, \n",
    "                          class_weight=None, \n",
    "                          solver='auto', \n",
    "                          random_state=0).fit(X_traincv, y_traincv)\n",
    "\n",
    "roc_rdg = clf_eval(clf_rdg, X_testcv, y_testcv)"
   ]
  },
  {
   "cell_type": "code",
   "execution_count": 74,
   "metadata": {},
   "outputs": [
    {
     "name": "stdout",
     "output_type": "stream",
     "text": [
      "Classification Report\n",
      "                precision    recall  f1-score   support\n",
      "\n",
      "Não Sobreviveu       0.83      0.85      0.84       168\n",
      "    Sobreviveu       0.74      0.71      0.72       100\n",
      "\n",
      "   avg / total       0.80      0.80      0.80       268\n",
      "\n",
      "ROC Score: 0.780595238095238\n",
      "Accuracy Score: 0.7985074626865671\n",
      "Average Precision Score: 0.6333131218905473\n",
      "f1 Score: 0.7244897959183674\n",
      "Confusion matrix, without normalization\n",
      "[[143  25]\n",
      " [ 29  71]]\n"
     ]
    },
    {
     "data": {
      "image/png": "[encoded data removed]",
      "text/plain": [
       "<Figure size 432x288 with 2 Axes>"
      ]
     },
     "metadata": {},
     "output_type": "display_data"
    }
   ],
   "source": [
    "#http://scikit-learn.org/stable/modules/generated/sklearn.linear_model.RidgeClassifier.html\n",
    "from sklearn.linear_model import RidgeClassifierCV\n",
    "\n",
    "clf_rdgcv = RidgeClassifierCV(alphas=(0.1, 1.0, 10.0), \n",
    "                            fit_intercept=True, \n",
    "                            normalize=False, \n",
    "                            scoring=None, \n",
    "                            cv=None, \n",
    "                            class_weight=None).fit(X_traincv, y_traincv)\n",
    "\n",
    "\n",
    "roc_rdgcv = clf_eval(clf_rdgcv, X_testcv, y_testcv)"
   ]
  },
  {
   "cell_type": "markdown",
   "metadata": {},
   "source": [
    "#### Perceptron \n",
    "\n",
    "Perceptron is an algorithm for supervised learning of binary classifiers (functions that can decide whether an input, represented by a vector of numbers, belongs to some specific class or not). It is a type of linear classifier, i.e. a classification algorithm that makes its predictions based on a linear predictor function combining a set of weights with the feature vector. The algorithm allows for online learning, in that it processes elements in the training set one at a time."
   ]
  },
  {
   "cell_type": "code",
   "execution_count": 75,
   "metadata": {},
   "outputs": [
    {
     "name": "stdout",
     "output_type": "stream",
     "text": [
      "Classification Report\n",
      "                precision    recall  f1-score   support\n",
      "\n",
      "Não Sobreviveu       0.83      0.83      0.83       168\n",
      "    Sobreviveu       0.72      0.72      0.72       100\n",
      "\n",
      "   avg / total       0.79      0.79      0.79       268\n",
      "\n",
      "ROC Score: 0.7766666666666666\n",
      "Accuracy Score: 0.7910447761194029\n",
      "Average Precision Score: 0.6228776119402984\n",
      "f1 Score: 0.72\n",
      "Confusion matrix, without normalization\n",
      "[[140  28]\n",
      " [ 28  72]]\n"
     ]
    },
    {
     "data": {
      "image/png": "[encoded data removed]",
      "text/plain": [
       "<Figure size 432x288 with 2 Axes>"
      ]
     },
     "metadata": {},
     "output_type": "display_data"
    }
   ],
   "source": [
    "#http://scikit-learn.org/stable/modules/generated/sklearn.linear_model.Perceptron.html#sklearn.linear_model.Perceptron\n",
    "from sklearn.linear_model import Perceptron\n",
    "\n",
    "clf_pcp = Perceptron(penalty=None,\n",
    "                     alpha=0.001,\n",
    "                     fit_intercept=True,\n",
    "                     max_iter=230,\n",
    "                     shuffle=True,\n",
    "                     verbose=0,\n",
    "                     eta0=1.0,\n",
    "                     n_jobs=-1, \n",
    "                     random_state=0, \n",
    "                     class_weight=None, \n",
    "                     warm_start=False).fit(X_traincv, y_traincv)\n",
    "\n",
    "roc_pcp = clf_eval(clf_pcp, X_testcv, y_testcv)"
   ]
  },
  {
   "cell_type": "code",
   "execution_count": 76,
   "metadata": {},
   "outputs": [
    {
     "name": "stdout",
     "output_type": "stream",
     "text": [
      "Classification Report\n",
      "                precision    recall  f1-score   support\n",
      "\n",
      "Não Sobreviveu       0.86      0.81      0.83       168\n",
      "    Sobreviveu       0.71      0.78      0.74       100\n",
      "\n",
      "   avg / total       0.80      0.80      0.80       268\n",
      "\n",
      "ROC Score: 0.7947619047619048\n",
      "Accuracy Score: 0.7985074626865671\n",
      "Average Precision Score: 0.6351804613297151\n",
      "f1 Score: 0.7428571428571428\n",
      "Confusion matrix, without normalization\n",
      "[[136  32]\n",
      " [ 22  78]]\n"
     ]
    },
    {
     "data": {
      "image/png": "[encoded data removed]",
      "text/plain": [
       "<Figure size 432x288 with 2 Axes>"
      ]
     },
     "metadata": {},
     "output_type": "display_data"
    }
   ],
   "source": [
    "#http://scikit-learn.org/stable/modules/generated/sklearn.linear_model.PassiveAggressiveClassifier.html\n",
    "from sklearn.linear_model import PassiveAggressiveClassifier\n",
    "\n",
    "clf_pac = PassiveAggressiveClassifier(C=0.1, \n",
    "                                      fit_intercept=True, \n",
    "                                      max_iter=100, \n",
    "                                      shuffle=True, \n",
    "                                      verbose=0, \n",
    "                                      loss='hinge', \n",
    "                                      n_jobs=-1, \n",
    "                                      random_state=0, \n",
    "                                      warm_start=False, \n",
    "                                      class_weight=None).fit(X_traincv, y_traincv)\n",
    "\n",
    "roc_pac = clf_eval(clf_pac, X_testcv, y_testcv)"
   ]
  },
  {
   "cell_type": "code",
   "execution_count": 77,
   "metadata": {},
   "outputs": [
    {
     "name": "stdout",
     "output_type": "stream",
     "text": [
      "Classification Report\n",
      "                precision    recall  f1-score   support\n",
      "\n",
      "Não Sobreviveu       0.82      0.83      0.83       168\n",
      "    Sobreviveu       0.71      0.70      0.71       100\n",
      "\n",
      "   avg / total       0.78      0.78      0.78       268\n",
      "\n",
      "ROC Score: 0.7666666666666667\n",
      "Accuracy Score: 0.7835820895522388\n",
      "Average Precision Score: 0.6119402985074627\n",
      "f1 Score: 0.7070707070707072\n",
      "Confusion matrix, without normalization\n",
      "[[140  28]\n",
      " [ 30  70]]\n"
     ]
    },
    {
     "data": {
      "image/png": "[encoded data removed]",
      "text/plain": [
       "<Figure size 432x288 with 2 Axes>"
      ]
     },
     "metadata": {},
     "output_type": "display_data"
    }
   ],
   "source": [
    "#http://scikit-learn.org/stable/modules/generated/sklearn.linear_model.SGDClassifier.html\n",
    "from sklearn.linear_model import SGDClassifier\n",
    "\n",
    "clf_sgdc = SGDClassifier(loss='hinge',\n",
    "                         penalty='l2', \n",
    "                         alpha=0.0001,\n",
    "                         l1_ratio=0.15, \n",
    "                         fit_intercept=True,\n",
    "                         max_iter=200, \n",
    "                         shuffle=True,\n",
    "                         verbose=0,\n",
    "                         epsilon=0.1,\n",
    "                         n_jobs=-1,\n",
    "                         random_state=0,\n",
    "                         learning_rate='optimal',\n",
    "                         eta0=0.0, \n",
    "                         power_t=0.5,\n",
    "                         class_weight=None,\n",
    "                         warm_start=False, \n",
    "                         average=False).fit(X_traincv, y_traincv)\n",
    "\n",
    "roc_sgdc = clf_eval(clf_sgdc, X_testcv, y_testcv)"
   ]
  },
  {
   "cell_type": "markdown",
   "metadata": {},
   "source": [
    "#### k-Nearest Neighbors\n",
    "\n",
    "k-nearest neighbors algorithm (k-NN) is a non-parametric method used for classification and regression. In both cases, the input consists of the k closest training examples in the feature space. The output depends on whether k-NN is used for classification or regression:\n",
    "\n",
    "+ In k-NN classification, the output is a class membership. An object is classified by a majority vote of its neighbors, with the object being assigned to the class most common among its k nearest neighbors (k is a positive integer, typically small). If k = 1, then the object is simply assigned to the class of that single nearest neighbor.\n",
    "\n",
    "+ In k-NN regression, the output is the property value for the object. This value is the average of the values of its k nearest neighbors.\n",
    "\n",
    "k-NN is a type of instance-based learning, or lazy learning, where the function is only approximated locally and all computation is deferred until classification. The k-NN algorithm is among the simplest of all machine learning algorithms."
   ]
  },
  {
   "cell_type": "code",
   "execution_count": 78,
   "metadata": {},
   "outputs": [
    {
     "name": "stdout",
     "output_type": "stream",
     "text": [
      "Classification Report\n",
      "                precision    recall  f1-score   support\n",
      "\n",
      "Não Sobreviveu       0.84      0.89      0.86       168\n",
      "    Sobreviveu       0.79      0.72      0.75       100\n",
      "\n",
      "   avg / total       0.82      0.82      0.82       268\n",
      "\n",
      "ROC Score: 0.8034523809523809\n",
      "Accuracy Score: 0.8246268656716418\n",
      "Average Precision Score: 0.6741479416106281\n",
      "f1 Score: 0.7539267015706805\n",
      "Confusion matrix, without normalization\n",
      "[[149  19]\n",
      " [ 28  72]]\n"
     ]
    },
    {
     "data": {
      "image/png": "[encoded data removed]",
      "text/plain": [
       "<Figure size 432x288 with 2 Axes>"
      ]
     },
     "metadata": {},
     "output_type": "display_data"
    }
   ],
   "source": [
    "from sklearn.neighbors import KNeighborsClassifier\n",
    "\n",
    "clf_knn = KNeighborsClassifier(n_neighbors=25,\n",
    "                               weights='uniform', \n",
    "                               algorithm='auto', \n",
    "                               leaf_size=30, \n",
    "                               p=4, \n",
    "                               metric='minkowski', \n",
    "                               metric_params=None, \n",
    "                               n_jobs=-1).fit(X_traincv, y_traincv)\n",
    "\n",
    "roc_knn = clf_eval(clf_knn, X_testcv, y_testcv)"
   ]
  },
  {
   "cell_type": "markdown",
   "metadata": {},
   "source": [
    "#### Decision Trees\n",
    "\n",
    "Decision tree learning uses a decision tree (as a predictive model) to go from observations about an item (represented in the branches) to conclusions about the item's target value (represented in the leaves). Tree models where the target variable can take a discrete set of values are called classification trees; in these tree structures, leaves represent class labels and branches represent conjunctions of features that lead to those class labels. Decision trees where the target variable can take continuous values (typically real numbers) are called regression trees."
   ]
  },
  {
   "cell_type": "code",
   "execution_count": 79,
   "metadata": {},
   "outputs": [
    {
     "name": "stdout",
     "output_type": "stream",
     "text": [
      "Classification Report\n",
      "                precision    recall  f1-score   support\n",
      "\n",
      "Não Sobreviveu       0.82      0.88      0.85       168\n",
      "    Sobreviveu       0.76      0.68      0.72       100\n",
      "\n",
      "   avg / total       0.80      0.80      0.80       268\n",
      "\n",
      "ROC Score: 0.7775000000000001\n",
      "Accuracy Score: 0.8022388059701493\n",
      "Average Precision Score: 0.6389535468723797\n",
      "f1 Score: 0.7195767195767195\n",
      "Confusion matrix, without normalization\n",
      "[[147  21]\n",
      " [ 32  68]]\n"
     ]
    },
    {
     "data": {
      "image/png": "[encoded data removed]",
      "text/plain": [
       "<Figure size 432x288 with 2 Axes>"
      ]
     },
     "metadata": {},
     "output_type": "display_data"
    }
   ],
   "source": [
    "# http://scikit-learn.org/stable/modules/generated/sklearn.tree.DecisionTreeClassifier.html\n",
    "from sklearn.tree import DecisionTreeClassifier\n",
    "\n",
    "clf_dtc = DecisionTreeClassifier(criterion='gini', \n",
    "                                 splitter='best', \n",
    "                                 max_depth=None, \n",
    "                                 min_samples_split=3, \n",
    "                                 min_samples_leaf=1, \n",
    "                                 min_weight_fraction_leaf=0.0, \n",
    "                                 max_features=None, \n",
    "                                 random_state=0, \n",
    "                                 max_leaf_nodes=None, \n",
    "                                 class_weight=None, \n",
    "                                 presort=False).fit(X_traincv, y_traincv)\n",
    "\n",
    "roc_dtc = clf_eval(clf_dtc, X_testcv, y_testcv)"
   ]
  },
  {
   "cell_type": "markdown",
   "metadata": {},
   "source": [
    "### Ensemble Classifiers\n",
    "\n",
    "A linear classifier achieves this by making a classification decision based on the value of a linear combination of the characteristics. An object's characteristics are also known as feature values and are typically presented to the machine in a vector called a feature vector. Such classifiers work well for practical problems such as document classification, and more generally for problems with many variables (features), reaching accuracy levels comparable to non-linear classifiers while taking less time to train and use.\n",
    "\n",
    "We have many type of ensembles: Bagging, Boosting, Voting and Stacking  "
   ]
  },
  {
   "cell_type": "markdown",
   "metadata": {},
   "source": [
    "#### Bagging\n",
    "\n",
    "Bootstrap aggregating, also called bagging, is a machine learning ensemble meta-algorithm designed to improve the stability and accuracy of machine learning algorithms used in statistical classification and regression. It also reduces variance and helps to avoid overfitting. Although it is usually applied to decision tree methods, it can be used with any type of method. Bagging is a special case of the model averaging approach."
   ]
  },
  {
   "cell_type": "markdown",
   "metadata": {},
   "source": [
    "#### Random Forests\n",
    "\n",
    "Random forests or random decision forests are an ensemble learning method for classification, regression and other tasks, that operate by constructing a multitude of decision trees at training time and outputting the class that is the mode of the classes (classification) or mean prediction (regression) of the individual trees. Random decision forests correct for decision trees' habit of overfitting to their training set."
   ]
  },
  {
   "cell_type": "code",
   "execution_count": 80,
   "metadata": {},
   "outputs": [
    {
     "name": "stdout",
     "output_type": "stream",
     "text": [
      "Classification Report\n",
      "                precision    recall  f1-score   support\n",
      "\n",
      "Não Sobreviveu       0.84      0.87      0.85       168\n",
      "    Sobreviveu       0.77      0.72      0.74       100\n",
      "\n",
      "   avg / total       0.81      0.81      0.81       268\n",
      "\n",
      "ROC Score: 0.7945238095238095\n",
      "Accuracy Score: 0.8134328358208955\n",
      "Average Precision Score: 0.6559669736424261\n",
      "f1 Score: 0.7422680412371133\n",
      "Confusion matrix, without normalization\n",
      "[[146  22]\n",
      " [ 28  72]]\n"
     ]
    },
    {
     "data": {
      "image/png": "[encoded data removed]",
      "text/plain": [
       "<Figure size 432x288 with 2 Axes>"
      ]
     },
     "metadata": {},
     "output_type": "display_data"
    }
   ],
   "source": [
    "#http://scikit-learn.org/stable/modules/ensemble.html\n",
    "#http://scikit-learn.org/stable/modules/generated/sklearn.ensemble.RandomForestClassifier.html\n",
    "#http://blog.yhathq.com/posts/random-forests-in-python.html\n",
    "#http://www.analyticsvidhya.com/blog/2015/06/tuning-random-forest-model/\n",
    "from sklearn.ensemble import RandomForestClassifier\n",
    "\n",
    "clf_rf = RandomForestClassifier(n_estimators=300, \n",
    "                                criterion='gini', \n",
    "                                max_depth=None, \n",
    "                                min_samples_split=3, #2,\n",
    "                                min_samples_leaf=1, \n",
    "                                min_weight_fraction_leaf=0.0, \n",
    "                                max_features='auto', \n",
    "                                max_leaf_nodes=None, \n",
    "                                bootstrap=True, \n",
    "                                oob_score=False, \n",
    "                                n_jobs=-1, \n",
    "                                random_state=0, \n",
    "                                verbose=0, \n",
    "                                warm_start=False, \n",
    "                                class_weight=None).fit(X_traincv, y_traincv)\n",
    "\n",
    "\n",
    "\n",
    "roc_rf = clf_eval(clf_rf, X_testcv, y_testcv)"
   ]
  },
  {
   "cell_type": "markdown",
   "metadata": {},
   "source": [
    "Plotting the confidence intervals  \n",
    "https://github.com/scikit-learn-contrib/forest-confidence-interval  "
   ]
  },
  {
   "cell_type": "code",
   "execution_count": 81,
   "metadata": {},
   "outputs": [
    {
     "data": {
      "image/png": "[encoded data removed]",
      "text/plain": [
       "<Figure size 864x432 with 1 Axes>"
      ]
     },
     "metadata": {},
     "output_type": "display_data"
    }
   ],
   "source": [
    "import forestci as fci\n",
    "\n",
    "y_predicted = clf_rf.predict_proba(X_testcv)\n",
    "\n",
    "# calculate inbag and unbiased variance\n",
    "inbag = fci.calc_inbag(X_traincv.shape[0], clf_rf)\n",
    "unbiased = fci.random_forest_error(clf_rf, X_traincv, X_testcv, inbag)\n",
    "\n",
    "# Plot forest prediction for survivors and standard deviation for estimates\n",
    "# Blue points are survivors; Green points are non-survivors\n",
    "idx = np.where(y_testcv == 1)[0]\n",
    "\n",
    "plt.figure(figsize=(12,6))\n",
    "plt.errorbar(y_predicted[idx, 1], \n",
    "             np.sqrt(unbiased[idx]),\n",
    "             fmt='.', \n",
    "             alpha=0.75, \n",
    "             label='Survived')\n",
    "\n",
    "idx = np.where(y_testcv == 0)[0]\n",
    "plt.errorbar(y_predicted[idx, 1],\n",
    "             np.sqrt(unbiased[idx]),\n",
    "             fmt='.', \n",
    "             alpha=0.75, \n",
    "             label='Not Survived')\n",
    "\n",
    "plt.xlabel('Prediction (Surviving probability)')\n",
    "plt.ylabel('Standard deviation')\n",
    "plt.legend()\n",
    "plt.show()"
   ]
  },
  {
   "cell_type": "code",
   "execution_count": 82,
   "metadata": {},
   "outputs": [
    {
     "name": "stdout",
     "output_type": "stream",
     "text": [
      "Classification Report\n",
      "                precision    recall  f1-score   support\n",
      "\n",
      "Não Sobreviveu       0.81      0.89      0.84       168\n",
      "    Sobreviveu       0.77      0.64      0.70       100\n",
      "\n",
      "   avg / total       0.79      0.79      0.79       268\n",
      "\n",
      "ROC Score: 0.763452380952381\n",
      "Accuracy Score: 0.7947761194029851\n",
      "Average Precision Score: 0.6278223341125697\n",
      "f1 Score: 0.6994535519125684\n",
      "Confusion matrix, without normalization\n",
      "[[149  19]\n",
      " [ 36  64]]\n"
     ]
    },
    {
     "data": {
      "image/png": "[encoded data removed]",
      "text/plain": [
       "<Figure size 432x288 with 2 Axes>"
      ]
     },
     "metadata": {},
     "output_type": "display_data"
    }
   ],
   "source": [
    "from sklearn.ensemble import BaggingClassifier\n",
    "\n",
    "clf_bgc = BaggingClassifier().fit(X_traincv, y_traincv)\n",
    "\n",
    "roc_bgc = clf_eval(clf_bgc, X_testcv, y_testcv)"
   ]
  },
  {
   "cell_type": "code",
   "execution_count": 83,
   "metadata": {},
   "outputs": [
    {
     "name": "stdout",
     "output_type": "stream",
     "text": [
      "Classification Report\n",
      "                precision    recall  f1-score   support\n",
      "\n",
      "Não Sobreviveu       0.84      0.85      0.85       168\n",
      "    Sobreviveu       0.74      0.73      0.74       100\n",
      "\n",
      "   avg / total       0.81      0.81      0.81       268\n",
      "\n",
      "ROC Score: 0.790595238095238\n",
      "Accuracy Score: 0.8059701492537313\n",
      "Average Precision Score: 0.6445217788607981\n",
      "f1 Score: 0.7373737373737373\n",
      "Confusion matrix, without normalization\n",
      "[[143  25]\n",
      " [ 27  73]]\n"
     ]
    },
    {
     "data": {
      "image/png": "[encoded data removed]",
      "text/plain": [
       "<Figure size 432x288 with 2 Axes>"
      ]
     },
     "metadata": {},
     "output_type": "display_data"
    }
   ],
   "source": [
    "#http://scikit-learn.org/stable/modules/generated/sklearn.ensemble.ExtraTreesClassifier.html\n",
    "from sklearn.ensemble import ExtraTreesClassifier\n",
    "\n",
    "clf_etc = ExtraTreesClassifier(n_estimators=300,\n",
    "                               max_depth=None,\n",
    "                               min_samples_split=3,\n",
    "                               random_state=0).fit(X_traincv, y_traincv)\n",
    "\n",
    "roc_etc = clf_eval(clf_etc, X_testcv, y_testcv)"
   ]
  },
  {
   "cell_type": "markdown",
   "metadata": {},
   "source": [
    "#### Boosting\n",
    "\n",
    "Boosting is a machine learning ensemble meta-algorithm for primarily reducing bias, and also variance in supervised learning, and a family of machine learning algorithms that convert weak learners to strong ones. Boosting is based on the question posed by Kearns and Valiant (1988, 1989): Can a set of weak learners create a single strong learner? A weak learner is defined to be a classifier that is only slightly correlated with the true classification (it can label examples better than random guessing). In contrast, a strong learner is a classifier that is arbitrarily well-correlated with the true classification."
   ]
  },
  {
   "cell_type": "code",
   "execution_count": 84,
   "metadata": {},
   "outputs": [
    {
     "name": "stdout",
     "output_type": "stream",
     "text": [
      "Classification Report\n",
      "                precision    recall  f1-score   support\n",
      "\n",
      "Não Sobreviveu       0.86      0.88      0.87       168\n",
      "    Sobreviveu       0.79      0.75      0.77       100\n",
      "\n",
      "   avg / total       0.83      0.83      0.83       268\n",
      "\n",
      "ROC Score: 0.8154761904761904\n",
      "Accuracy Score: 0.832089552238806\n",
      "Average Precision Score: 0.6853888452474469\n",
      "f1 Score: 0.7692307692307692\n",
      "Confusion matrix, without normalization\n",
      "[[148  20]\n",
      " [ 25  75]]\n"
     ]
    },
    {
     "data": {
      "image/png": "[encoded data removed]",
      "text/plain": [
       "<Figure size 432x288 with 2 Axes>"
      ]
     },
     "metadata": {},
     "output_type": "display_data"
    }
   ],
   "source": [
    "#http://scikit-learn.org/stable/modules/generated/sklearn.ensemble.AdaBoostClassifier.html\n",
    "from sklearn.ensemble import AdaBoostClassifier\n",
    "\n",
    "clf_abc = AdaBoostClassifier(base_estimator=None,\n",
    "                             n_estimators=300,\n",
    "                             learning_rate=0.1,\n",
    "                             algorithm='SAMME.R',\n",
    "                             random_state=0).fit(X_traincv, y_traincv)\n",
    "\n",
    "roc_abc = clf_eval(clf_abc, X_testcv, y_testcv)"
   ]
  },
  {
   "cell_type": "code",
   "execution_count": 85,
   "metadata": {},
   "outputs": [
    {
     "name": "stdout",
     "output_type": "stream",
     "text": [
      "Classification Report\n",
      "                precision    recall  f1-score   support\n",
      "\n",
      "Não Sobreviveu       0.85      0.86      0.86       168\n",
      "    Sobreviveu       0.76      0.74      0.75       100\n",
      "\n",
      "   avg / total       0.82      0.82      0.82       268\n",
      "\n",
      "ROC Score: 0.8015476190476191\n",
      "Accuracy Score: 0.8171641791044776\n",
      "Average Precision Score: 0.661551007847361\n",
      "f1 Score: 0.7512690355329948\n",
      "Confusion matrix, without normalization\n",
      "[[145  23]\n",
      " [ 26  74]]\n"
     ]
    },
    {
     "data": {
      "image/png": "[encoded data removed]",
      "text/plain": [
       "<Figure size 432x288 with 2 Axes>"
      ]
     },
     "metadata": {},
     "output_type": "display_data"
    }
   ],
   "source": [
    "#http://scikit-learn.org/stable/modules/generated/sklearn.ensemble.GradientBoostingClassifier.html\n",
    "from sklearn.ensemble import GradientBoostingClassifier\n",
    "\n",
    "clf_gbc = GradientBoostingClassifier(loss='deviance',\n",
    "                                     learning_rate=0.1,\n",
    "                                     n_estimators=200,\n",
    "                                     subsample=1.0, \n",
    "                                     min_samples_split=3, \n",
    "                                     min_samples_leaf=1, \n",
    "                                     min_weight_fraction_leaf=0.0, \n",
    "                                     max_depth=3, \n",
    "                                     init=None, \n",
    "                                     random_state=0, \n",
    "                                     max_features=None, \n",
    "                                     verbose=0, \n",
    "                                     max_leaf_nodes=None, \n",
    "                                     warm_start=False, \n",
    "                                     presort='auto').fit(X_traincv, y_traincv)\n",
    "\n",
    "roc_gbc = clf_eval(clf_gbc, X_testcv, y_testcv)"
   ]
  },
  {
   "cell_type": "code",
   "execution_count": 86,
   "metadata": {},
   "outputs": [
    {
     "name": "stdout",
     "output_type": "stream",
     "text": [
      "Classification Report\n",
      "                precision    recall  f1-score   support\n",
      "\n",
      "Não Sobreviveu       0.83      0.95      0.89       168\n",
      "    Sobreviveu       0.88      0.68      0.77       100\n",
      "\n",
      "   avg / total       0.85      0.85      0.84       268\n",
      "\n",
      "ROC Score: 0.8132142857142858\n",
      "Accuracy Score: 0.8470149253731343\n",
      "Average Precision Score: 0.7199224655941074\n",
      "f1 Score: 0.768361581920904\n",
      "Confusion matrix, without normalization\n",
      "[[159   9]\n",
      " [ 32  68]]\n"
     ]
    },
    {
     "name": "stderr",
     "output_type": "stream",
     "text": [
      "/usr/local/lib/python3.6/dist-packages/sklearn/preprocessing/label.py:151: DeprecationWarning: The truth value of an empty array is ambiguous. Returning False, but in future this will result in an error. Use `array.size > 0` to check that an array is not empty.\n",
      "  if diff:\n"
     ]
    },
    {
     "data": {
      "image/png": "[encoded data removed]",
      "text/plain": [
       "<Figure size 432x288 with 2 Axes>"
      ]
     },
     "metadata": {},
     "output_type": "display_data"
    }
   ],
   "source": [
    "#https://github.com/dmlc/xgboost/tree/master/python-package  \n",
    "#https://xgboost.readthedocs.io/en/latest/build.html#building-on-ubuntu-debian\n",
    "#http://xgboost.readthedocs.io/en/latest/build.html#python-package-installation  \n",
    "#http://xgboost.readthedocs.io/en/latest/parameter.html  \n",
    "#https://www.analyticsvidhya.com/blog/2016/03/complete-guide-parameter-tuning-xgboost-with-codes-python/  \n",
    "#https://www.kaggle.com/cbrogan/titanic/xgboost-example-python/run/1620  \n",
    "#http://xgboost.readthedocs.io/en/latest//python/python_api.html#module-xgboost.sklearn\n",
    "\n",
    "import xgboost\n",
    "\n",
    "clf_xgb = xgboost.sklearn.XGBClassifier(base_score=0.5,\n",
    "                                        learning_rate=0.1,\n",
    "                                        n_estimators=250,\n",
    "                                        max_delta_step=0,\n",
    "                                        max_depth=2,\n",
    "                                        min_child_weight=1,\n",
    "                                        missing=None,\n",
    "                                        gamma=0.1,\n",
    "                                        subsample=1,\n",
    "                                        colsample_bylevel=1,\n",
    "                                        colsample_bytree=1,\n",
    "                                        objective= 'binary:logitraw',\n",
    "                                        #objective='multi:softprob',\n",
    "                                        reg_alpha=0, \n",
    "                                        reg_lambda=1,\n",
    "                                        nthread=-1,\n",
    "                                        scale_pos_weight=1,\n",
    "                                        seed=0,\n",
    "                                        silent=False,\n",
    "                                        random_state=0).fit(X_traincv, y_traincv)\n",
    "\n",
    "roc_xgb = clf_eval(clf_xgb, X_testcv, y_testcv)"
   ]
  },
  {
   "cell_type": "code",
   "execution_count": 89,
   "metadata": {},
   "outputs": [
    {
     "name": "stdout",
     "output_type": "stream",
     "text": [
      "[1]\tvalid_0's l2: 0.243703\tvalid_0's auc: 0.73619\n",
      "Training until validation scores don't improve for 5 rounds.\n",
      "[2]\tvalid_0's l2: 0.234523\tvalid_0's auc: 0.818571\n",
      "[3]\tvalid_0's l2: 0.224702\tvalid_0's auc: 0.848869\n",
      "[4]\tvalid_0's l2: 0.21596\tvalid_0's auc: 0.850625\n",
      "[5]\tvalid_0's l2: 0.207713\tvalid_0's auc: 0.859881\n",
      "[6]\tvalid_0's l2: 0.200374\tvalid_0's auc: 0.860387\n",
      "[7]\tvalid_0's l2: 0.194152\tvalid_0's auc: 0.859464\n",
      "[8]\tvalid_0's l2: 0.188465\tvalid_0's auc: 0.858482\n",
      "[9]\tvalid_0's l2: 0.183958\tvalid_0's auc: 0.856042\n",
      "[10]\tvalid_0's l2: 0.179262\tvalid_0's auc: 0.854137\n",
      "[11]\tvalid_0's l2: 0.174528\tvalid_0's auc: 0.857381\n",
      "Early stopping, best iteration is:\n",
      "[6]\tvalid_0's l2: 0.200374\tvalid_0's auc: 0.860387\n"
     ]
    },
    {
     "ename": "ValueError",
     "evalue": "Classification metrics can't handle a mix of binary and continuous targets",
     "output_type": "error",
     "traceback": [
      "\u001b[0;31m---------------------------------------------------------------------------\u001b[0m",
      "\u001b[0;31mValueError\u001b[0m                                Traceback (most recent call last)",
      "\u001b[0;32m<ipython-input-89-204412ad74c5>\u001b[0m in \u001b[0;36m<module>\u001b[0;34m()\u001b[0m\n\u001b[1;32m     23\u001b[0m                     early_stopping_rounds=5)\n\u001b[1;32m     24\u001b[0m \u001b[0;34m\u001b[0m\u001b[0m\n\u001b[0;32m---> 25\u001b[0;31m \u001b[0mroc_lgb\u001b[0m \u001b[0;34m=\u001b[0m \u001b[0mclf_eval\u001b[0m\u001b[0;34m(\u001b[0m\u001b[0mclf_lgb\u001b[0m\u001b[0;34m,\u001b[0m \u001b[0mX_testcv\u001b[0m\u001b[0;34m,\u001b[0m \u001b[0my_testcv\u001b[0m\u001b[0;34m)\u001b[0m\u001b[0;34m\u001b[0m\u001b[0m\n\u001b[0m",
      "\u001b[0;32m<ipython-input-61-97f5ea888623>\u001b[0m in \u001b[0;36mclf_eval\u001b[0;34m(clf, X, y_true, classes)\u001b[0m\n\u001b[1;32m     35\u001b[0m \u001b[0;32mdef\u001b[0m \u001b[0mclf_eval\u001b[0m\u001b[0;34m(\u001b[0m\u001b[0mclf\u001b[0m\u001b[0;34m,\u001b[0m \u001b[0mX\u001b[0m\u001b[0;34m,\u001b[0m \u001b[0my_true\u001b[0m\u001b[0;34m,\u001b[0m \u001b[0mclasses\u001b[0m\u001b[0;34m=\u001b[0m\u001b[0;34m[\u001b[0m\u001b[0;34m'Não Sobreviveu'\u001b[0m\u001b[0;34m,\u001b[0m \u001b[0;34m'Sobreviveu'\u001b[0m\u001b[0;34m]\u001b[0m\u001b[0;34m)\u001b[0m\u001b[0;34m:\u001b[0m\u001b[0;34m\u001b[0m\u001b[0m\n\u001b[1;32m     36\u001b[0m     \u001b[0my_pred\u001b[0m \u001b[0;34m=\u001b[0m \u001b[0mclf\u001b[0m\u001b[0;34m.\u001b[0m\u001b[0mpredict\u001b[0m\u001b[0;34m(\u001b[0m\u001b[0mX\u001b[0m\u001b[0;34m)\u001b[0m\u001b[0;34m\u001b[0m\u001b[0m\n\u001b[0;32m---> 37\u001b[0;31m     \u001b[0mclf_matrix\u001b[0m \u001b[0;34m=\u001b[0m \u001b[0mconfusion_matrix\u001b[0m\u001b[0;34m(\u001b[0m\u001b[0my_true\u001b[0m\u001b[0;34m,\u001b[0m \u001b[0my_pred\u001b[0m\u001b[0;34m)\u001b[0m\u001b[0;34m\u001b[0m\u001b[0m\n\u001b[0m\u001b[1;32m     38\u001b[0m     \u001b[0mprint\u001b[0m\u001b[0;34m(\u001b[0m\u001b[0;34m'Classification Report'\u001b[0m\u001b[0;34m)\u001b[0m\u001b[0;34m\u001b[0m\u001b[0m\n\u001b[1;32m     39\u001b[0m     \u001b[0mprint\u001b[0m\u001b[0;34m(\u001b[0m\u001b[0mclassification_report\u001b[0m\u001b[0;34m(\u001b[0m\u001b[0my_true\u001b[0m\u001b[0;34m,\u001b[0m \u001b[0my_pred\u001b[0m\u001b[0;34m,\u001b[0m \u001b[0mtarget_names\u001b[0m\u001b[0;34m=\u001b[0m\u001b[0mclasses\u001b[0m\u001b[0;34m)\u001b[0m\u001b[0;34m)\u001b[0m\u001b[0;34m\u001b[0m\u001b[0m\n",
      "\u001b[0;32m/usr/local/lib/python3.6/dist-packages/sklearn/metrics/classification.py\u001b[0m in \u001b[0;36mconfusion_matrix\u001b[0;34m(y_true, y_pred, labels, sample_weight)\u001b[0m\n\u001b[1;32m    248\u001b[0m \u001b[0;34m\u001b[0m\u001b[0m\n\u001b[1;32m    249\u001b[0m     \"\"\"\n\u001b[0;32m--> 250\u001b[0;31m     \u001b[0my_type\u001b[0m\u001b[0;34m,\u001b[0m \u001b[0my_true\u001b[0m\u001b[0;34m,\u001b[0m \u001b[0my_pred\u001b[0m \u001b[0;34m=\u001b[0m \u001b[0m_check_targets\u001b[0m\u001b[0;34m(\u001b[0m\u001b[0my_true\u001b[0m\u001b[0;34m,\u001b[0m \u001b[0my_pred\u001b[0m\u001b[0;34m)\u001b[0m\u001b[0;34m\u001b[0m\u001b[0m\n\u001b[0m\u001b[1;32m    251\u001b[0m     \u001b[0;32mif\u001b[0m \u001b[0my_type\u001b[0m \u001b[0;32mnot\u001b[0m \u001b[0;32min\u001b[0m \u001b[0;34m(\u001b[0m\u001b[0;34m\"binary\"\u001b[0m\u001b[0;34m,\u001b[0m \u001b[0;34m\"multiclass\"\u001b[0m\u001b[0;34m)\u001b[0m\u001b[0;34m:\u001b[0m\u001b[0;34m\u001b[0m\u001b[0m\n\u001b[1;32m    252\u001b[0m         \u001b[0;32mraise\u001b[0m \u001b[0mValueError\u001b[0m\u001b[0;34m(\u001b[0m\u001b[0;34m\"%s is not supported\"\u001b[0m \u001b[0;34m%\u001b[0m \u001b[0my_type\u001b[0m\u001b[0;34m)\u001b[0m\u001b[0;34m\u001b[0m\u001b[0m\n",
      "\u001b[0;32m/usr/local/lib/python3.6/dist-packages/sklearn/metrics/classification.py\u001b[0m in \u001b[0;36m_check_targets\u001b[0;34m(y_true, y_pred)\u001b[0m\n\u001b[1;32m     79\u001b[0m     \u001b[0;32mif\u001b[0m \u001b[0mlen\u001b[0m\u001b[0;34m(\u001b[0m\u001b[0my_type\u001b[0m\u001b[0;34m)\u001b[0m \u001b[0;34m>\u001b[0m \u001b[0;36m1\u001b[0m\u001b[0;34m:\u001b[0m\u001b[0;34m\u001b[0m\u001b[0m\n\u001b[1;32m     80\u001b[0m         raise ValueError(\"Classification metrics can't handle a mix of {0} \"\n\u001b[0;32m---> 81\u001b[0;31m                          \"and {1} targets\".format(type_true, type_pred))\n\u001b[0m\u001b[1;32m     82\u001b[0m \u001b[0;34m\u001b[0m\u001b[0m\n\u001b[1;32m     83\u001b[0m     \u001b[0;31m# We can't have more than one value on y_type => The set is no more needed\u001b[0m\u001b[0;34m\u001b[0m\u001b[0;34m\u001b[0m\u001b[0m\n",
      "\u001b[0;31mValueError\u001b[0m: Classification metrics can't handle a mix of binary and continuous targets"
     ]
    }
   ],
   "source": [
    "import lightgbm as lgb\n",
    "\n",
    "params = {\n",
    "    'task': 'train',\n",
    "    'boosting_type': 'gbdt',\n",
    "    'objective': 'binary',\n",
    "    'metric': {'l2', 'auc'},\n",
    "    'num_leaves': 31,\n",
    "    'learning_rate': 0.05,\n",
    "    'feature_fraction': 0.9,\n",
    "    'bagging_fraction': 0.8,\n",
    "    'bagging_freq': 5,\n",
    "    'verbose': 0\n",
    "}\n",
    "\n",
    "lgb_train = lgb.Dataset(X_traincv, y_traincv)\n",
    "lgb_eval = lgb.Dataset(X_testcv, y_testcv, reference=lgb_train)\n",
    "\n",
    "clf_lgb = lgb.train(params,\n",
    "                    lgb_train,\n",
    "                    num_boost_round=20,\n",
    "                    valid_sets=lgb_eval,\n",
    "                    early_stopping_rounds=5)\n",
    "\n",
    "roc_lgb = clf_eval(clf_lgb, X_testcv, y_testcv)"
   ]
  },
  {
   "cell_type": "code",
   "execution_count": 91,
   "metadata": {},
   "outputs": [
    {
     "data": {
      "text/plain": [
       "array([0.51940305, 0.62243385, 0.62243385, 0.62243385, 0.51940305,\n",
       "       0.51940305, 0.51940305, 0.51940305, 0.62243385, 0.62243385,\n",
       "       0.62243385, 0.62243385, 0.51940305, 0.51940305, 0.62243385,\n",
       "       0.62243385, 0.51940305, 0.51940305, 0.62243385, 0.62243385,\n",
       "       0.51940305, 0.51940305, 0.62243385, 0.51940305, 0.62243385,\n",
       "       0.62243385, 0.51940305, 0.51940305, 0.62243385, 0.51940305,\n",
       "       0.51940305, 0.62243385, 0.62243385, 0.51940305, 0.51940305,\n",
       "       0.51940305, 0.51940305, 0.51940305, 0.62243385, 0.62243385,\n",
       "       0.62243385, 0.62243385, 0.51940305, 0.62243385, 0.62243385,\n",
       "       0.51940305, 0.51940305, 0.62243385, 0.51940305, 0.62243385,\n",
       "       0.51940305, 0.51940305, 0.62243385, 0.62243385, 0.51940305,\n",
       "       0.51940305, 0.62243385, 0.51940305, 0.62243385, 0.51940305,\n",
       "       0.51940305, 0.62243385, 0.51940305, 0.51940305, 0.51940305,\n",
       "       0.51940305, 0.62243385, 0.51940305, 0.62243385, 0.51940305,\n",
       "       0.51940305, 0.62243385, 0.51940305, 0.51940305, 0.51940305,\n",
       "       0.51940305, 0.51940305, 0.51940305, 0.51940305, 0.62243385,\n",
       "       0.51940305, 0.51940305, 0.62243385, 0.51940305, 0.62243385,\n",
       "       0.62243385, 0.51940305, 0.51940305, 0.62243385, 0.51940305,\n",
       "       0.51940305, 0.51940305, 0.51940305, 0.51940305, 0.51940305,\n",
       "       0.51940305, 0.51940305, 0.51940305, 0.62243385, 0.51940305,\n",
       "       0.62243385, 0.51940305, 0.51940305, 0.51940305, 0.51940305,\n",
       "       0.51940305, 0.62243385, 0.51940305, 0.51940305, 0.62243385,\n",
       "       0.51940305, 0.62243385, 0.51940305, 0.62243385, 0.62243385,\n",
       "       0.51940305, 0.51940305, 0.51940305, 0.51940305, 0.62243385,\n",
       "       0.51940305, 0.51940305, 0.51940305, 0.62243385, 0.51940305,\n",
       "       0.51940305, 0.51940305, 0.51940305, 0.62243385, 0.51940305,\n",
       "       0.51940305, 0.51940305, 0.62243385, 0.62243385, 0.51940305,\n",
       "       0.51940305, 0.62243385, 0.51940305, 0.51940305, 0.51940305,\n",
       "       0.62243385, 0.62243385, 0.62243385, 0.51940305, 0.51940305,\n",
       "       0.51940305, 0.51940305, 0.62243385, 0.51940305, 0.51940305,\n",
       "       0.51940305, 0.62243385, 0.51940305, 0.51940305, 0.51940305,\n",
       "       0.51940305, 0.62243385, 0.51940305, 0.51940305, 0.51940305,\n",
       "       0.51940305, 0.62243385, 0.51940305, 0.51940305, 0.51940305,\n",
       "       0.51940305, 0.62243385, 0.62243385, 0.51940305, 0.51940305,\n",
       "       0.51940305, 0.51940305, 0.62243385, 0.51940305, 0.51940305,\n",
       "       0.51940305, 0.51940305, 0.62243385, 0.51940305, 0.51940305,\n",
       "       0.62243385, 0.51940305, 0.51940305, 0.51940305, 0.62243385,\n",
       "       0.51940305, 0.62243385, 0.51940305, 0.51940305, 0.51940305,\n",
       "       0.62243385, 0.51940305, 0.62243385, 0.51940305, 0.62243385,\n",
       "       0.62243385, 0.51940305, 0.51940305, 0.62243385, 0.62243385,\n",
       "       0.51940305, 0.51940305, 0.51940305, 0.51940305, 0.51940305,\n",
       "       0.62243385, 0.51940305, 0.51940305, 0.62243385, 0.51940305,\n",
       "       0.51940305, 0.62243385, 0.51940305, 0.51940305, 0.51940305,\n",
       "       0.62243385, 0.62243385, 0.51940305, 0.62243385, 0.51940305,\n",
       "       0.51940305, 0.51940305, 0.51940305, 0.51940305, 0.51940305,\n",
       "       0.51940305, 0.51940305, 0.51940305, 0.51940305, 0.62243385,\n",
       "       0.62243385, 0.51940305, 0.51940305, 0.62243385, 0.51940305,\n",
       "       0.62243385, 0.51940305, 0.62243385, 0.51940305, 0.51940305,\n",
       "       0.62243385, 0.62243385, 0.51940305, 0.51940305, 0.51940305,\n",
       "       0.51940305, 0.62243385, 0.62243385, 0.51940305, 0.51940305,\n",
       "       0.51940305, 0.62243385, 0.51940305, 0.51940305, 0.62243385,\n",
       "       0.62243385, 0.62243385, 0.62243385, 0.62243385, 0.62243385,\n",
       "       0.51940305, 0.51940305, 0.51940305, 0.51940305, 0.62243385,\n",
       "       0.51940305, 0.51940305, 0.51940305, 0.62243385, 0.62243385,\n",
       "       0.51940305, 0.51940305, 0.62243385, 0.51940305, 0.62243385,\n",
       "       0.62243385, 0.62243385, 0.51940305, 0.51940305, 0.62243385,\n",
       "       0.51940305, 0.51940305, 0.51940305, 0.51940305, 0.51940305,\n",
       "       0.51940305, 0.51940305, 0.51940305, 0.51940305, 0.62243385,\n",
       "       0.62243385, 0.62243385, 0.51940305, 0.62243385, 0.51940305,\n",
       "       0.51940305, 0.51940305, 0.62243385, 0.51940305, 0.62243385,\n",
       "       0.62243385, 0.51940305, 0.51940305, 0.62243385, 0.51940305,\n",
       "       0.51940305, 0.62243385, 0.62243385, 0.51940305, 0.62243385,\n",
       "       0.62243385, 0.62243385, 0.62243385, 0.51940305, 0.51940305,\n",
       "       0.62243385, 0.62243385, 0.51940305, 0.62243385, 0.62243385,\n",
       "       0.51940305, 0.51940305, 0.62243385, 0.62243385, 0.51940305,\n",
       "       0.62243385, 0.51940305, 0.62243385, 0.62243385, 0.62243385,\n",
       "       0.62243385, 0.51940305, 0.51940305, 0.51940305, 0.62243385,\n",
       "       0.51940305, 0.51940305, 0.62243385, 0.51940305, 0.51940305,\n",
       "       0.51940305, 0.62243385, 0.51940305, 0.51940305, 0.51940305,\n",
       "       0.62243385, 0.62243385, 0.62243385, 0.51940305, 0.51940305,\n",
       "       0.51940305, 0.51940305, 0.51940305, 0.51940305, 0.51940305,\n",
       "       0.51940305, 0.62243385, 0.62243385, 0.62243385, 0.62243385,\n",
       "       0.51940305, 0.51940305, 0.62243385, 0.51940305, 0.51940305,\n",
       "       0.51940305, 0.62243385, 0.62243385, 0.62243385, 0.62243385,\n",
       "       0.51940305, 0.51940305, 0.51940305, 0.51940305, 0.62243385,\n",
       "       0.62243385, 0.62243385, 0.51940305, 0.51940305, 0.51940305,\n",
       "       0.62243385, 0.62243385, 0.51940305, 0.62243385, 0.51940305,\n",
       "       0.51940305, 0.51940305, 0.62243385, 0.51940305, 0.62243385,\n",
       "       0.51940305, 0.51940305, 0.51940305, 0.62243385, 0.62243385,\n",
       "       0.51940305, 0.62243385, 0.51940305, 0.51940305, 0.62243385,\n",
       "       0.51940305, 0.51940305, 0.62243385, 0.51940305, 0.62243385,\n",
       "       0.51940305, 0.51940305, 0.51940305, 0.51940305, 0.62243385,\n",
       "       0.51940305, 0.51940305, 0.62243385, 0.51940305, 0.51940305,\n",
       "       0.62243385, 0.62243385, 0.62243385, 0.51940305, 0.62243385,\n",
       "       0.51940305, 0.51940305, 0.51940305, 0.62243385, 0.51940305,\n",
       "       0.51940305, 0.62243385, 0.62243385, 0.51940305, 0.51940305,\n",
       "       0.51940305, 0.62243385, 0.62243385, 0.51940305, 0.51940305,\n",
       "       0.62243385, 0.62243385, 0.62243385, 0.51940305, 0.51940305,\n",
       "       0.62243385, 0.51940305, 0.51940305, 0.62243385, 0.51940305,\n",
       "       0.51940305, 0.62243385, 0.51940305, 0.62243385, 0.51940305,\n",
       "       0.51940305, 0.51940305, 0.51940305, 0.51940305, 0.51940305,\n",
       "       0.51940305, 0.51940305, 0.62243385, 0.62243385, 0.51940305,\n",
       "       0.51940305, 0.51940305, 0.51940305, 0.51940305, 0.51940305,\n",
       "       0.51940305, 0.51940305, 0.51940305, 0.51940305, 0.62243385,\n",
       "       0.51940305, 0.51940305, 0.62243385, 0.62243385, 0.62243385,\n",
       "       0.51940305, 0.51940305, 0.51940305, 0.51940305, 0.62243385,\n",
       "       0.51940305, 0.51940305, 0.51940305, 0.62243385, 0.51940305,\n",
       "       0.62243385, 0.62243385, 0.51940305, 0.51940305, 0.51940305,\n",
       "       0.51940305, 0.51940305, 0.51940305, 0.51940305, 0.51940305,\n",
       "       0.51940305, 0.62243385, 0.51940305, 0.62243385, 0.51940305,\n",
       "       0.51940305, 0.62243385, 0.62243385, 0.62243385, 0.62243385,\n",
       "       0.51940305, 0.62243385, 0.51940305, 0.51940305, 0.51940305,\n",
       "       0.51940305, 0.51940305, 0.51940305, 0.62243385, 0.51940305,\n",
       "       0.51940305, 0.62243385, 0.51940305, 0.62243385, 0.51940305,\n",
       "       0.62243385, 0.51940305, 0.51940305, 0.62243385, 0.51940305,\n",
       "       0.51940305, 0.62243385, 0.51940305, 0.51940305, 0.51940305,\n",
       "       0.62243385, 0.51940305, 0.51940305, 0.62243385, 0.62243385,\n",
       "       0.62243385, 0.51940305, 0.62243385, 0.51940305, 0.62243385,\n",
       "       0.62243385, 0.62243385, 0.62243385, 0.51940305, 0.51940305,\n",
       "       0.51940305, 0.62243385, 0.51940305, 0.51940305, 0.51940305,\n",
       "       0.51940305, 0.51940305, 0.51940305, 0.51940305, 0.62243385,\n",
       "       0.51940305, 0.62243385, 0.51940305, 0.62243385, 0.62243385,\n",
       "       0.51940305, 0.51940305, 0.51940305, 0.51940305, 0.62243385,\n",
       "       0.51940305, 0.51940305, 0.62243385, 0.51940305, 0.51940305,\n",
       "       0.51940305, 0.62243385, 0.51940305, 0.62243385, 0.51940305,\n",
       "       0.51940305, 0.62243385, 0.62243385, 0.62243385, 0.51940305,\n",
       "       0.62243385, 0.62243385, 0.51940305, 0.51940305, 0.51940305,\n",
       "       0.62243385, 0.51940305, 0.51940305, 0.51940305, 0.51940305,\n",
       "       0.51940305, 0.62243385, 0.51940305, 0.62243385, 0.51940305,\n",
       "       0.51940305, 0.62243385, 0.51940305, 0.51940305, 0.51940305,\n",
       "       0.62243385, 0.51940305, 0.51940305, 0.51940305, 0.51940305,\n",
       "       0.51940305, 0.51940305, 0.51940305, 0.62243385, 0.62243385,\n",
       "       0.62243385, 0.51940305, 0.62243385, 0.51940305, 0.51940305,\n",
       "       0.62243385, 0.51940305, 0.62243385, 0.62243385, 0.51940305,\n",
       "       0.51940305, 0.51940305, 0.51940305, 0.51940305, 0.51940305,\n",
       "       0.51940305, 0.51940305, 0.62243385, 0.51940305, 0.51940305,\n",
       "       0.51940305, 0.51940305, 0.51940305, 0.51940305, 0.62243385,\n",
       "       0.62243385, 0.51940305, 0.51940305, 0.62243385, 0.51940305,\n",
       "       0.51940305, 0.62243385, 0.62243385, 0.51940305, 0.62243385,\n",
       "       0.51940305, 0.51940305, 0.51940305, 0.51940305, 0.62243385,\n",
       "       0.51940305, 0.62243385, 0.51940305, 0.62243385, 0.62243385,\n",
       "       0.51940305, 0.51940305, 0.62243385, 0.51940305, 0.51940305,\n",
       "       0.51940305, 0.51940305, 0.51940305, 0.51940305, 0.51940305,\n",
       "       0.51940305, 0.51940305, 0.51940305, 0.51940305, 0.62243385,\n",
       "       0.62243385, 0.51940305, 0.51940305, 0.51940305, 0.51940305,\n",
       "       0.51940305, 0.51940305, 0.62243385, 0.62243385, 0.51940305,\n",
       "       0.62243385, 0.51940305, 0.51940305, 0.51940305, 0.51940305,\n",
       "       0.51940305, 0.51940305, 0.51940305, 0.51940305, 0.62243385,\n",
       "       0.51940305, 0.62243385, 0.51940305, 0.51940305, 0.51940305,\n",
       "       0.51940305, 0.51940305, 0.62243385, 0.51940305, 0.51940305,\n",
       "       0.62243385, 0.51940305, 0.62243385, 0.51940305, 0.51940305,\n",
       "       0.51940305, 0.62243385, 0.51940305, 0.62243385, 0.51940305,\n",
       "       0.62243385, 0.51940305, 0.51940305, 0.51940305, 0.51940305,\n",
       "       0.51940305, 0.62243385, 0.62243385, 0.51940305, 0.51940305,\n",
       "       0.62243385, 0.51940305, 0.51940305, 0.51940305, 0.51940305,\n",
       "       0.51940305, 0.62243385, 0.62243385, 0.51940305, 0.62243385,\n",
       "       0.62243385, 0.51940305, 0.51940305, 0.51940305, 0.51940305,\n",
       "       0.51940305, 0.62243385, 0.51940305, 0.51940305, 0.51940305,\n",
       "       0.51940305, 0.51940305, 0.62243385, 0.51940305, 0.51940305,\n",
       "       0.51940305, 0.51940305, 0.62243385, 0.51940305, 0.51940305,\n",
       "       0.62243385, 0.51940305, 0.51940305, 0.51940305, 0.62243385,\n",
       "       0.51940305, 0.51940305, 0.51940305, 0.51940305, 0.62243385,\n",
       "       0.51940305, 0.51940305, 0.51940305, 0.62243385, 0.51940305,\n",
       "       0.62243385, 0.51940305, 0.62243385, 0.51940305, 0.51940305,\n",
       "       0.51940305, 0.51940305, 0.62243385, 0.51940305, 0.62243385,\n",
       "       0.51940305, 0.51940305, 0.62243385, 0.51940305, 0.62243385,\n",
       "       0.62243385, 0.62243385, 0.51940305, 0.51940305, 0.51940305,\n",
       "       0.51940305, 0.62243385, 0.51940305, 0.51940305, 0.51940305,\n",
       "       0.51940305, 0.51940305, 0.62243385, 0.51940305, 0.51940305,\n",
       "       0.51940305, 0.62243385, 0.62243385, 0.51940305, 0.62243385,\n",
       "       0.51940305, 0.62243385, 0.51940305, 0.51940305, 0.51940305,\n",
       "       0.51940305, 0.51940305, 0.62243385, 0.51940305, 0.62243385,\n",
       "       0.51940305, 0.51940305, 0.51940305, 0.62243385, 0.51940305,\n",
       "       0.51940305, 0.62243385, 0.51940305, 0.51940305, 0.51940305,\n",
       "       0.62243385, 0.51940305, 0.51940305, 0.62243385, 0.51940305,\n",
       "       0.51940305, 0.51940305, 0.51940305, 0.51940305, 0.62243385,\n",
       "       0.62243385, 0.51940305, 0.51940305, 0.51940305, 0.51940305,\n",
       "       0.62243385, 0.51940305, 0.51940305, 0.51940305, 0.51940305,\n",
       "       0.51940305, 0.51940305, 0.62243385, 0.51940305, 0.51940305,\n",
       "       0.51940305, 0.51940305, 0.51940305, 0.51940305, 0.62243385,\n",
       "       0.51940305, 0.51940305, 0.62243385, 0.62243385, 0.62243385,\n",
       "       0.62243385, 0.62243385, 0.51940305, 0.62243385, 0.51940305,\n",
       "       0.51940305, 0.51940305, 0.62243385, 0.62243385, 0.51940305,\n",
       "       0.62243385, 0.62243385, 0.51940305, 0.51940305, 0.51940305,\n",
       "       0.51940305, 0.62243385, 0.51940305, 0.51940305, 0.62243385,\n",
       "       0.62243385, 0.51940305, 0.51940305, 0.51940305, 0.62243385,\n",
       "       0.62243385, 0.51940305, 0.62243385, 0.51940305, 0.51940305,\n",
       "       0.62243385, 0.51940305, 0.62243385, 0.62243385, 0.51940305,\n",
       "       0.51940305])"
      ]
     },
     "execution_count": 91,
     "metadata": {},
     "output_type": "execute_result"
    }
   ],
   "source": [
    "y_pred = clf_lgb.predict(X)\n",
    "y_pred"
   ]
  },
  {
   "cell_type": "code",
   "execution_count": null,
   "metadata": {},
   "outputs": [],
   "source": [
    "# https://www.analyticsvidhya.com/blog/2018/02/introductory-guide-regularized-greedy-forests-rgf-python/\n",
    "# https://github.com/fukatani/rgf_python\n",
    "#https://github.com/MLWave/RGF-sklearn -- another implementation\n",
    "##https://github.com/RGF-team/rgf_python -- another implementation\n",
    "\n",
    "from rgf.sklearn import RGFClassifier, FastRGFClassifier\n",
    "\n",
    "clf_rgf = RGFClassifier(max_leaf=240,\n",
    "                        algorithm=\"RGF_Sib\",\n",
    "                        test_interval=100,\n",
    "                        verbose=False,).fit(X_traincv, y_traincv)\n",
    "\n",
    "roc_rgf = clf_eval(clf_rgf, X_testcv, y_testcv)"
   ]
  },
  {
   "cell_type": "markdown",
   "metadata": {},
   "source": [
    "#### Bayesian Classifiers\n",
    "\n",
    "Naive Bayes classifiers are a family of simple \"probabilistic classifiers \"based on applying Bayes' theorem with strong (naive) independence assumptions between the features. Naive Bayes classifiers are highly scalable, requiring a number of parameters linear in the number of variables (features/predictors) in a learning problem. Maximum-likelihood training can be done by evaluating a closed-form expression, which takes linear time, rather than by expensive iterative approximation as used for many other types of classifiers."
   ]
  },
  {
   "cell_type": "code",
   "execution_count": null,
   "metadata": {},
   "outputs": [],
   "source": [
    "#http://scikit-learn.org/stable/modules/naive_bayes.html\n",
    "#http://scikit-learn.org/stable/modules/generated/sklearn.naive_bayes.GaussianNB.html\n",
    "from sklearn.naive_bayes import GaussianNB\n",
    "\n",
    "clf_gnb = GaussianNB().fit(X_traincv, y_traincv)\n",
    "\n",
    "roc_gnb = clf_eval(clf_gnb, X_testcv, y_testcv)"
   ]
  },
  {
   "cell_type": "code",
   "execution_count": null,
   "metadata": {},
   "outputs": [],
   "source": [
    "#http://scikit-learn.org/stable/modules/generated/sklearn.naive_bayes.BernoulliNB.html\n",
    "from sklearn.naive_bayes import BernoulliNB\n",
    "\n",
    "clf_bnb = BernoulliNB(alpha=0.20, \n",
    "                     binarize=0.0, \n",
    "                     fit_prior=True, \n",
    "                     class_prior=None).fit(X_traincv, y_traincv)\n",
    "\n",
    "roc_bnb = clf_eval(clf_bnb, X_testcv, y_testcv)"
   ]
  },
  {
   "cell_type": "markdown",
   "metadata": {},
   "source": [
    "#### Neural Networks\n",
    "\n",
    "A deep neural network (DNN) is an artificial neural network (ANN) with multiple hidden layers between the input and output layers.[9][2] DNNs can model complex non-linear relationships. DNN architectures generate compositional models where the object is expressed as a layered composition of primitives.[97] The extra layers enable composition of features from lower layers, potentially modeling complex data with fewer units than a similarly performing shallow network.  \n",
    "\n",
    "Keras (with TensorFlow / Theano backends)"
   ]
  },
  {
   "cell_type": "code",
   "execution_count": null,
   "metadata": {
    "scrolled": true
   },
   "outputs": [],
   "source": [
    "# https://elitedatascience.com/keras-tutorial-deep-learning-in-python\n",
    "# http://machinelearningmastery.com/tutorial-first-neural-network-python-keras/\n",
    "# https://www.kaggle.com/cstahl12/titanic/titanic-with-keras\n",
    "\n",
    "#os.environ[\"KERAS_BACKEND\"] = \"theano\"\n",
    "os.environ[\"KERAS_BACKEND\"] = \"tensorflow\"\n",
    "\n",
    "import keras\n",
    "from keras.models import Sequential\n",
    "from keras.layers import Dense, Dropout, Activation\n",
    "from keras.optimizers import SGD, RMSprop\n",
    "from keras.utils.np_utils import to_categorical\n",
    "\n",
    "print('Keras using {} backend'.format(keras.backend.backend()))  #https://keras.io/backend/\n",
    "\n",
    "x_train_kr = X_traincv.astype('float32') \n",
    "x_test_kr = X_testcv.astype('float32')\n",
    "\n",
    "print(x_train_kr.shape[0], 'train samples')\n",
    "print(x_test_kr.shape[0], 'test samples')\n",
    "\n",
    "y_train_kr = y_traincv\n",
    "y_test_kr = y_testcv\n",
    "\n",
    "# convert class vectors to binary class matrices for categorical cross_entropy\n",
    "#y_train_kr = to_categorical(y_traincv)\n",
    "#y_test_kr = to_categorical(y_testcv)\n",
    "\n",
    "batch_size = int(len(x_test_kr)/15)\n",
    "num_classes = 2\n",
    "epochs = 15\n",
    "np.random.seed(0)\n",
    "\n",
    "model = Sequential()\n",
    "model.add(Dense(input_dim=x_train_kr.shape[1], units=300, activation='relu'))\n",
    "model.add(Dropout(0.10))\n",
    "model.add(Dense(input_dim=300, units=300, activation='relu'))\n",
    "model.add(Dropout(0.10))\n",
    "model.add(Dense(input_dim=300, units=200, activation='relu'))\n",
    "model.add(Dropout(0.10))\n",
    "model.add(Dense(input_dim=200, units=24, activation='relu')) #activation='softmax'\n",
    "model.add(Dropout(0.10))\n",
    "model.add(Dense(input_dim=24,  units=1, activation='sigmoid')) #kernel_initializer='uniform',\n",
    "model.summary()\n",
    "\n",
    "\n",
    "model.compile(loss='binary_crossentropy',\n",
    "              #loss='categorical_crossentropy',\n",
    "              #loss='mean_squared_error',\n",
    "              #optimizer='adam',\n",
    "              optimizer=RMSprop(), \n",
    "              #optimizer=SGD(lr=0.001),\n",
    "              metrics=['binary_accuracy'])\n",
    "\n",
    "history = model.fit(x_train_kr, y_train_kr,\n",
    "                    batch_size=batch_size,\n",
    "                    epochs=epochs,\n",
    "                    verbose=1,\n",
    "                    shuffle=False,\n",
    "                    validation_data=(x_test_kr, y_test_kr))\n",
    "\n",
    "score = model.evaluate(x_test_kr, y_test_kr, verbose=0)\n",
    "print('Test loss:', score[0])\n",
    "print('Test accuracy:', score[1])\n",
    "\n",
    "\n",
    "y_pred = model.predict_classes(x_test_kr) #y_pred = np.around(model.predict(x_test_kr)[:,1])\n",
    "#y_test_kr = y_test_kr[:,1] #for categorical cross_entropy\n",
    "clf_matrix = confusion_matrix(y_test_kr, y_pred)\n",
    "print('Classification Report')\n",
    "print(classification_report(y_test_kr, y_pred, target_names=['Não Sobreviveu', 'Sobreviveu']))\n",
    "print('ROC Score: {}'.format(roc_auc_score(y_test_kr, y_pred)))\n",
    "print('Accuracy Score: {}'.format(accuracy_score(y_test_kr, y_pred)))\n",
    "print('Average Precision Score: {}'.format(average_precision_score(y_test_kr, y_pred)))\n",
    "print('f1 Score: {}'.format(f1_score(y_test_kr, y_pred)))\n",
    "plot_confusion_matrix(clf_matrix, classes=['Não Sobreviveu', 'Sobreviveu'])\n",
    "roc_keras = roc_auc_score(y_test_kr, y_pred)"
   ]
  },
  {
   "cell_type": "markdown",
   "metadata": {},
   "source": [
    "#### Genetic Algorithms"
   ]
  },
  {
   "cell_type": "code",
   "execution_count": null,
   "metadata": {},
   "outputs": [],
   "source": [
    "# https://github.com/rhiever/tpot\n",
    "# https://github.com/rhiever/tpot/blob/master/tutorials/Titanic_Kaggle.ipynb\n",
    "\n",
    "from tpot import TPOTClassifier"
   ]
  },
  {
   "cell_type": "code",
   "execution_count": null,
   "metadata": {
    "scrolled": true
   },
   "outputs": [],
   "source": [
    "clf_tpot = TPOTClassifier(verbosity=1, \n",
    "                          max_time_mins=180, \n",
    "                          max_eval_time_mins=50, \n",
    "                          population_size=100,\n",
    "                          generations=10,\n",
    "                          n_jobs=-1)\n",
    "\n",
    "clf_tpot.fit(X_traincv, y_traincv)\n",
    "roc_tpot = clf_eval(clf_tpot, X_testcv, y_testcv)\n",
    "\n",
    "#clf_tpot.export('tpot_exported_pipeline.py')"
   ]
  },
  {
   "cell_type": "code",
   "execution_count": null,
   "metadata": {},
   "outputs": [],
   "source": [
    "# https://github.com/automl/auto-sklearn\n",
    "# http://automl.github.io/auto-sklearn/stable/api.html#classification\n",
    "\n",
    "import autosklearn.classification\n",
    "clf_autoskl = autosklearn.classification.AutoSklearnClassifier(time_left_for_this_task=3*60,\n",
    "                                                               per_run_time_limit=1*30,\n",
    "                                                               seed=0)\n",
    "\n",
    "#clf_autoskl.get_params(deep=True)\n",
    "\n",
    "#clf_autoskl.fit(X_traincv, y_traincv, metric=autosklearn.metrics.accuracy)\n",
    "clf_autoskl.fit(X_traincv, y_traincv, metric=autosklearn.metrics.balanced_accuracy)\n",
    "\n",
    "clf_autoskl.get_models_with_weights()\n",
    "\n",
    "roc_autoskl = clf_eval(clf_autoskl, X_testcv, y_testcv)"
   ]
  },
  {
   "cell_type": "markdown",
   "metadata": {},
   "source": [
    "#### Voting / Stacking\n",
    "\n",
    "Voting algorithms are simple strategies, where you aglomerate results of classifiers' decisions by for example taking the class which appears in most cases. \n",
    "\n",
    "Stacking/grading strategies are generalizations of this concept. Instead of simply saying \"ok, I have a scheme v, which I will use to select the best answer among my k classifiers\" you create another abstraction layer, where you actually learn to predict the correct label having k votes.  "
   ]
  },
  {
   "cell_type": "code",
   "execution_count": null,
   "metadata": {
    "scrolled": true
   },
   "outputs": [],
   "source": [
    "from sklearn.ensemble import VotingClassifier \n",
    "#http://scikit-learn.org/stable/modules/ensemble.html#votingclassifier\n",
    "\n",
    "ensemble = VotingClassifier(estimators=[('clf_sgdc', clf_sgdc),\n",
    "                                        ('clf_lgr', clf_lr),\n",
    "                                        ('clf_rdg', clf_rgf),\n",
    "                                        ('clf_bgc', clf_bgc),\n",
    "                                        ('clf_etc', clf_etc),\n",
    "                                        ('clf_abc', clf_abc),\n",
    "                                        ('clf_pct', clf_pcp),\n",
    "                                        ('clf_xgb', clf_xgb),\n",
    "                                        ('clf_rf', clf_rf),\n",
    "                                        ('clf_knn', clf_knn),\n",
    "                                        ('clf_rgf', clf_rgf),\n",
    "                                        ('clf_autoskl', clf_autoskl),\n",
    "                                        #('clf_tpot', clf_tpot),\n",
    "                                        ],\n",
    "                            voting='hard',\n",
    "                            weights=[1,1,1,1,1,1,1,1,1,1,2,1]).fit(X_traincv, y_traincv)\n",
    "\n",
    "roc_ens = clf_eval(ensemble, X_testcv, y_testcv)"
   ]
  },
  {
   "cell_type": "markdown",
   "metadata": {},
   "source": [
    "### Plotting the results:  "
   ]
  },
  {
   "cell_type": "code",
   "execution_count": null,
   "metadata": {},
   "outputs": [],
   "source": [
    "dic_results = {'SVM': roc_svc2,\n",
    "               'RandomForest': roc_rf,\n",
    "               'DecisionTree': roc_dtc,\n",
    "               'ExtraTree': roc_etc,\n",
    "               'AdaBoost': roc_abc,\n",
    "               'GradBoost': roc_gbc,\n",
    "               'SGDC': roc_sgdc,\n",
    "               'Ridge': roc_rdg,\n",
    "               'Perceptron': roc_pcp,\n",
    "               'PassAgre': roc_pac,\n",
    "               'LogiReg': roc_lr,\n",
    "               'GaussianNB': roc_gnb,\n",
    "               'BernouNB': roc_bnb,\n",
    "               'RGF': roc_rgf,\n",
    "               'XGBoost':roc_xgb,\n",
    "               'Knn':roc_knn,\n",
    "               'Keras+Tflow': roc_keras,\n",
    "               'Bagging': roc_bgc,\n",
    "               'Voting': roc_ens,\n",
    "               'Tpot': roc_tpot,\n",
    "               'RGF': roc_rgf,\n",
    "               'AutoSKL': roc_autoskl,\n",
    "              }\n",
    "\n",
    "import operator\n",
    "tup_results = sorted(dic_results.items(), key=operator.itemgetter(1))\n",
    "\n",
    "N = len(dic_results)\n",
    "ind = np.arange(N)  # the x locations for the groups\n",
    "width = 0.40       # the width of the bars\n",
    "\n",
    "fig = plt.figure(figsize=(16,10))\n",
    "ax = fig.add_subplot(111)\n",
    "rects = ax.bar(ind+0.5, list(zip(*tup_results))[1], width,)\n",
    "for rect in rects:\n",
    "    height = rect.get_height()\n",
    "    ax.text(rect.get_x()+rect.get_width()/2., \n",
    "            1.005*height, \n",
    "            '{0:.4f}'.format(height), \n",
    "            ha='center', \n",
    "            va='bottom',)\n",
    "\n",
    "ax.set_ylabel('Scores')\n",
    "ax.set_ylim(ymin=0.65,ymax = 0.85)\n",
    "ax.set_title(\"Classificators' performance\")\n",
    "ax.set_xticks(ind + width/2.)\n",
    "ax.set_xticklabels(list(zip(*tup_results))[0], rotation=45)\n",
    "\n",
    "plt.show()"
   ]
  },
  {
   "cell_type": "code",
   "execution_count": null,
   "metadata": {},
   "outputs": [],
   "source": [
    "features = list(set(df_train2.columns) - set(['PassengerId', 'Survived']))\n",
    "df_fi = pd.DataFrame({'clf_rf':clf_rf.feature_importances_,\n",
    "                      'clf_xgb':clf_xgb.feature_importances_,\n",
    "                      'clf_etc':clf_etc.feature_importances_,\n",
    "                      'clf_abc':clf_abc.feature_importances_,\n",
    "                      'clf_bgc':clf_bgc.estimators_[0].feature_importances_,\n",
    "                      'clf_gbc':clf_gbc.feature_importances_,},\n",
    "                      index=features)\n",
    "df_fi['mean_importance'] = df_fi.mean(axis=1)\n",
    "df_fi"
   ]
  },
  {
   "cell_type": "markdown",
   "metadata": {},
   "source": [
    "Choosing the best classifier and training with all training data:"
   ]
  },
  {
   "cell_type": "code",
   "execution_count": null,
   "metadata": {},
   "outputs": [],
   "source": [
    "output = clf_rgf.predict(X_test)\n",
    "print(output[10:20])\n",
    "print()\n",
    "output_prob = clf_rgf.predict_proba(X_test)\n",
    "print(output_prob[10:20])"
   ]
  }
 ],
 "metadata": {
  "kernelspec": {
   "display_name": "Python 3",
   "language": "python",
   "name": "python3"
  },
  "language_info": {
   "codemirror_mode": {
    "name": "ipython",
    "version": 3
   },
   "file_extension": ".py",
   "mimetype": "text/x-python",
   "name": "python",
   "nbconvert_exporter": "python",
   "pygments_lexer": "ipython3",
   "version": "3.6.3"
  }
 },
 "nbformat": 4,
 "nbformat_minor": 2
}
