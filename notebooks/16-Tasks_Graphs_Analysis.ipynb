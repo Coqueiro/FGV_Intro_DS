{
 "cells": [
  {
   "cell_type": "markdown",
   "metadata": {},
   "source": [
    "Dear students,\n",
    "\n",
    "In this exercise, you are going to explore graphs. Based on the experiment reported at http://www.coppelia.io/2012/06/graphing-the-history-of-philosophy/, you are going to explore the dataset \"p01_Influences.csv\". In this file - which contains information gathered from Wikipedia - you will find in each row two names separated by commas. These names correspond to an influencer (the first) and the person that was influenced (the second).  \n",
    "\n",
    "What is expected is to measure the ability of you to work together to solve a problem without all the necessary information available. In this sense, the task demands creativity, teamwork and coordination.  \n",
    "\n",
    "\n",
    "Your task is to answer the questions:  \n",
    "\n",
    " 1) What are the top 10 personalities in terms of power to generate influences?  \n",
    " 2) What are the 10 personalities that were influenced by the most number of people?  \n",
    " 3) What are the 5 major \"clusters\" of personalities who were influenced by a similar group of the same influencers?   \n",
    "(Consider a cluster as the group of personalities who were influenced by the same Y influencers, Y being an arbitrary number. Start with Y = 2 and grow until there is no 2 people influenced by all of them.  \n",
    "\n",
    " 4) What are the 5 major influences chains (eg, A -> B -> C -> ...)?  \n",
    " 5) What are the countries that generated the greatest influential?  \n",
    " 6) What are the areas of greatest influence?  \n",
    " 7) Create a graphical representation of the graph  \n",
    "\n",
    "Some notes and tips:  \n",
    "- The taks may be discussed in a group, and code can be shared, but the work should be developed in pairs.  \n",
    "- The notebook containing the methods used (code, etc.) should be sent to the e-mail <rsouza.fgv@gmail.com> with the title: \"Terceira tarefa - MMD\" and the names of the students.  \n",
    "\n",
    "- There is no restriction as to the tools to be used, but I suggest that give a look at the module \"NetworkX\" Python. (Http://networkx.lanl.gov/)  \n",
    "- Try to think about the task not as an evaluation but as a work on which depends your \"promotion\".    \n",
    "\n",
    "Good luck, and hands-on !!  \n",
    "Renato"
   ]
  },
  {
   "cell_type": "markdown",
   "metadata": {},
   "source": [
    "Importing modules"
   ]
  },
  {
   "cell_type": "code",
   "execution_count": 1,
   "metadata": {},
   "outputs": [
    {
     "name": "stdout",
     "output_type": "stream",
     "text": [
      "Populating the interactive namespace from numpy and matplotlib\n"
     ]
    }
   ],
   "source": [
    "import numpy as np\n",
    "import matplotlib.pyplot as plt\n",
    "import pylab as pl\n",
    "import pandas as pd\n",
    "import networkx as nx\n",
    "import codecs\n",
    "from collections import Counter, OrderedDict\n",
    "import os\n",
    "%pylab inline"
   ]
  },
  {
   "cell_type": "markdown",
   "metadata": {},
   "source": [
    "Specifying the path to the files:"
   ]
  },
  {
   "cell_type": "code",
   "execution_count": 2,
   "metadata": {},
   "outputs": [],
   "source": [
    "datapath = \"../datasets/\"\n",
    "outputs = \"../outputs/\"\n",
    "dataset1 = \"influences.csv\""
   ]
  },
  {
   "cell_type": "markdown",
   "metadata": {},
   "source": [
    "#### Loading the dataset"
   ]
  },
  {
   "cell_type": "code",
   "execution_count": 3,
   "metadata": {},
   "outputs": [],
   "source": [
    "csvfile = open(os.path.join(datapath,dataset1)).readlines()"
   ]
  },
  {
   "cell_type": "code",
   "execution_count": 4,
   "metadata": {},
   "outputs": [
    {
     "data": {
      "text/plain": [
       "['\"Influences\",\"Influenced\"\\n',\n",
       " '\"Ferdinand de Saussure\",\"Jacques Lacan\"\\n',\n",
       " '\"Georg Wilhelm Friedrich Hegel\",\"Jacques Lacan\"\\n',\n",
       " '\"Sigmund Freud\",\"Jacques Lacan \"\\n',\n",
       " '\"Benjamin Tucker\",\"Robert Anton Wilson \"\\n']"
      ]
     },
     "execution_count": 4,
     "metadata": {},
     "output_type": "execute_result"
    }
   ],
   "source": [
    "csvfile[0:5]"
   ]
  },
  {
   "cell_type": "markdown",
   "metadata": {},
   "source": [
    "#### Doing some cleaning  "
   ]
  },
  {
   "cell_type": "code",
   "execution_count": 5,
   "metadata": {},
   "outputs": [
    {
     "name": "stdout",
     "output_type": "stream",
     "text": [
      "Influences;Influenced\n",
      "Ferdinand de Saussure;Jacques Lacan\n",
      "Georg Wilhelm Friedrich Hegel;Jacques Lacan\n",
      "Sigmund Freud;Jacques Lacan\n",
      "Benjamin Tucker;Robert Anton Wilson\n",
      "Brian O'Nolan;Robert Anton Wilson\n"
     ]
    }
   ],
   "source": [
    "lines = [line.strip() for line in csvfile]\n",
    "lines2 = []\n",
    "for line in lines:\n",
    "    line = line.replace('\",','\";')\n",
    "    line = line.replace('\"','').strip()\n",
    "    lines2.append(line)\n",
    "for line in lines2[0:6]:\n",
    "    print(line)"
   ]
  },
  {
   "cell_type": "code",
   "execution_count": 6,
   "metadata": {},
   "outputs": [
    {
     "name": "stdout",
     "output_type": "stream",
     "text": [
      "Dimensions: (5009, 2)\n"
     ]
    },
    {
     "data": {
      "text/plain": [
       "array([['Influences', 'Influenced'],\n",
       "       ['Ferdinand de Saussure', 'Jacques Lacan'],\n",
       "       ['Georg Wilhelm Friedrich Hegel', 'Jacques Lacan'],\n",
       "       ['Sigmund Freud', 'Jacques Lacan'],\n",
       "       ['Benjamin Tucker', 'Robert Anton Wilson'],\n",
       "       [\"Brian O'Nolan\", 'Robert Anton Wilson'],\n",
       "       ['Terence McKenna', 'Robert Anton Wilson'],\n",
       "       ['Colin Wilson', 'Robert Anton Wilson'],\n",
       "       ['Robert W. Chambers', 'Robert Anton Wilson'],\n",
       "       ['Aristotle', 'Alexander the Great']], \n",
       "      dtype='<U52')"
      ]
     },
     "execution_count": 6,
     "metadata": {},
     "output_type": "execute_result"
    }
   ],
   "source": [
    "influences = np.array([(line.split(';')[0],line.split(';')[1]) for line in lines2])\n",
    "print('Dimensions: {}'.format(influences.shape))\n",
    "influences[:10]"
   ]
  },
  {
   "cell_type": "markdown",
   "metadata": {},
   "source": [
    "Creating an ordered dict with the frequencies, using two special collections types:\n",
    "\n",
    "http://docs.python.org/2/library/collections.html#collections.Counter\n",
    "\n",
    "http://docs.python.org/2/library/collections.html#collections.OrderedDict"
   ]
  },
  {
   "cell_type": "code",
   "execution_count": 7,
   "metadata": {},
   "outputs": [
    {
     "ename": "NameError",
     "evalue": "name 'x' is not defined",
     "output_type": "error",
     "traceback": [
      "\u001b[0;31m---------------------------------------------------------------------------\u001b[0m",
      "\u001b[0;31mNameError\u001b[0m                                 Traceback (most recent call last)",
      "\u001b[0;32m<ipython-input-7-6789b73d7f49>\u001b[0m in \u001b[0;36m<module>\u001b[0;34m()\u001b[0m\n\u001b[0;32m----> 1\u001b[0;31m \u001b[0minfluencers_count\u001b[0m \u001b[0;34m=\u001b[0m \u001b[0mCounter\u001b[0m\u001b[0;34m(\u001b[0m\u001b[0mx\u001b[0m\u001b[0;34m[\u001b[0m\u001b[0;34m:\u001b[0m\u001b[0;34m,\u001b[0m\u001b[0;36m0\u001b[0m\u001b[0;34m]\u001b[0m\u001b[0;34m)\u001b[0m\u001b[0;34m\u001b[0m\u001b[0m\n\u001b[0m\u001b[1;32m      2\u001b[0m \u001b[0minfluencers_count\u001b[0m \u001b[0;34m=\u001b[0m \u001b[0mCounter\u001b[0m\u001b[0;34m(\u001b[0m\u001b[0mx\u001b[0m\u001b[0;34m[\u001b[0m\u001b[0;34m:\u001b[0m\u001b[0;34m,\u001b[0m\u001b[0;36m1\u001b[0m\u001b[0;34m]\u001b[0m\u001b[0;34m)\u001b[0m\u001b[0;34m\u001b[0m\u001b[0m\n\u001b[1;32m      3\u001b[0m \u001b[0;31m#y2 = OrderedDict(sorted(y.items(), key=lambda k: k[1], reverse=True))\u001b[0m\u001b[0;34m\u001b[0m\u001b[0;34m\u001b[0m\u001b[0m\n\u001b[1;32m      4\u001b[0m \u001b[0;31m#z2 = OrderedDict(sorted(z.items(), key=lambda k: k[1], reverse=True))\u001b[0m\u001b[0;34m\u001b[0m\u001b[0;34m\u001b[0m\u001b[0m\n\u001b[1;32m      5\u001b[0m \u001b[0;31m#y2\u001b[0m\u001b[0;34m\u001b[0m\u001b[0;34m\u001b[0m\u001b[0m\n",
      "\u001b[0;31mNameError\u001b[0m: name 'x' is not defined"
     ]
    }
   ],
   "source": [
    "influencers_count = Counter(x[:,0])\n",
    "influencers_count = Counter(x[:,1])\n",
    "#y2 = OrderedDict(sorted(y.items(), key=lambda k: k[1], reverse=True))\n",
    "#z2 = OrderedDict(sorted(z.items(), key=lambda k: k[1], reverse=True))\n",
    "#y2"
   ]
  },
  {
   "cell_type": "code",
   "execution_count": null,
   "metadata": {},
   "outputs": [],
   "source": [
    "most_influencers = influencers_count.most_common(20)\n",
    "most_influenced = influencers_count.most_common(20)"
   ]
  },
  {
   "cell_type": "code",
   "execution_count": null,
   "metadata": {},
   "outputs": [],
   "source": [
    "x = np.arange(len(most_influencers))\n",
    "y = list(zip(*most_influencers))[1]\n",
    "labels = list(zip(*most_influencers))[0]\n",
    "y2max = max(y) + 1\n",
    "\n",
    "plt.figure(figsize=(18,12), dpi=100)\n",
    "plt.bar(x, y, width=0.35)\n",
    "plt.xticks(x, labels)\n",
    "plt.ylim(0, y2max)\n",
    "plt.xticks(rotation=70)\n",
    "plt.ylabel('# of influences given')\n",
    "plt.title('Most influents')"
   ]
  },
  {
   "cell_type": "code",
   "execution_count": null,
   "metadata": {},
   "outputs": [],
   "source": [
    "x = np.arange(len(most_influenced))\n",
    "y = list(zip(*most_influenced))[1]\n",
    "labels = list(zip(*most_influenced))[0]\n",
    "y2max = max(y) + 1\n",
    "\n",
    "plt.figure(figsize=(18,12), dpi=100)\n",
    "plt.bar(x, y, width=0.35)\n",
    "plt.xticks(x, labels)\n",
    "plt.ylim(0, y2max)\n",
    "plt.xticks(rotation=70)\n",
    "plt.ylabel('# of influences received')\n",
    "plt.title('Most influenced')"
   ]
  },
  {
   "cell_type": "markdown",
   "metadata": {},
   "source": [
    "#### Converting to a Dataframe"
   ]
  },
  {
   "cell_type": "code",
   "execution_count": null,
   "metadata": {},
   "outputs": [],
   "source": [
    "pd_influences = pd.DataFrame(x[1:,:], columns = x[0])\n",
    "pd_influences.head(10)"
   ]
  },
  {
   "cell_type": "markdown",
   "metadata": {},
   "source": [
    "#### Experimenting with NetworkX"
   ]
  },
  {
   "cell_type": "markdown",
   "metadata": {},
   "source": [
    "Generating a graph with NetworkX. Note that the graph is too large for a full visualization  \n",
    "That's why I have commented some lines and replaced for a limited version"
   ]
  },
  {
   "cell_type": "code",
   "execution_count": null,
   "metadata": {},
   "outputs": [],
   "source": [
    "limit = 30\n",
    "\n",
    "G=nx.DiGraph()\n",
    "#G.add_nodes_from(x[1:,0])\n",
    "#G.add_nodes_from(x[1:,1])\n",
    "G.add_nodes_from(x[1:limit,0])\n",
    "G.add_nodes_from(x[1:limit,1])\n",
    "\n",
    "#for i in range(1,len(x)):\n",
    "for i in range(1,limit):\n",
    "    G.add_edge(x[i,0],x[i,1])\n",
    "\n",
    "print('Number of nodes is: {}'.format(G.number_of_nodes()))\n",
    "print('Number of edges is: {}'.format(G.number_of_edges()))\n",
    "print()\n",
    "print(G.edges())"
   ]
  },
  {
   "cell_type": "code",
   "execution_count": null,
   "metadata": {},
   "outputs": [],
   "source": [
    "nx.draw(G)"
   ]
  },
  {
   "cell_type": "markdown",
   "metadata": {},
   "source": [
    "Exporting to Gephi  \n",
    "https://gephi.org/users/supported-graph-formats/  "
   ]
  }
 ],
 "metadata": {
  "kernelspec": {
   "display_name": "Python 3",
   "language": "python",
   "name": "python3"
  },
  "language_info": {
   "codemirror_mode": {
    "name": "ipython",
    "version": 3
   },
   "file_extension": ".py",
   "mimetype": "text/x-python",
   "name": "python",
   "nbconvert_exporter": "python",
   "pygments_lexer": "ipython3",
   "version": "3.5.2"
  }
 },
 "nbformat": 4,
 "nbformat_minor": 1
}
