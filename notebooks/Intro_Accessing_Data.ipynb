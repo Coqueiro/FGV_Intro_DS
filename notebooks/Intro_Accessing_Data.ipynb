{
 "cells": [
  {
   "cell_type": "markdown",
   "metadata": {},
   "source": [
    "## Introduction to Data Science\n",
    "\n",
    "### Accessing and Manipulating Data in different formats"
   ]
  },
  {
   "cell_type": "code",
   "execution_count": 1,
   "metadata": {},
   "outputs": [],
   "source": [
    "import os\n",
    "import sys\n",
    "import time\n",
    "import datetime\n",
    "import numpy as np\n",
    "import pandas as pd\n",
    "import pathlib"
   ]
  },
  {
   "cell_type": "code",
   "execution_count": 2,
   "metadata": {},
   "outputs": [],
   "source": [
    "datapath = pathlib.Path(\"../datasets/CSVs/\")\n",
    "outputs = pathlib.Path(\"../outputs/\")"
   ]
  },
  {
   "cell_type": "markdown",
   "metadata": {},
   "source": [
    "## Acessing CSV Files"
   ]
  },
  {
   "cell_type": "code",
   "execution_count": 3,
   "metadata": {},
   "outputs": [],
   "source": [
    "csvfile = \"beatles-diskography.csv\"\n",
    "datafile = datapath / csvfile"
   ]
  },
  {
   "cell_type": "markdown",
   "metadata": {},
   "source": [
    "#### Using pure Python:"
   ]
  },
  {
   "cell_type": "code",
   "execution_count": 7,
   "metadata": {},
   "outputs": [
    {
     "data": {
      "text/plain": [
       "[{'BPI Certification': 'Gold',\n",
       "  'Label': 'Parlophone(UK)',\n",
       "  'RIAA Certification': 'Platinum',\n",
       "  'Released': '22 March 1963',\n",
       "  'Title': 'Please Please Me',\n",
       "  'UK Chart Position': '1',\n",
       "  'US Chart Position': '-'},\n",
       " {'BPI Certification': 'Platinum',\n",
       "  'Label': 'Parlophone(UK)',\n",
       "  'RIAA Certification': 'Gold',\n",
       "  'Released': '22 November 1963',\n",
       "  'Title': 'With the Beatles',\n",
       "  'UK Chart Position': '1',\n",
       "  'US Chart Position': '-'}]"
      ]
     },
     "execution_count": 7,
     "metadata": {},
     "output_type": "execute_result"
    }
   ],
   "source": [
    "data = []\n",
    "#with open(datafile, \"r\") as f:\n",
    "with open(os.path.join(\"../datasets/CSVs/\", csvfile), \"r\") as f:\n",
    "    keys = f.readline().split(',')\n",
    "    keys = [k.strip() for k in keys]\n",
    "    for i in range(5):\n",
    "        values = f.readline().split(',')\n",
    "        values = [v.strip() for v in values]\n",
    "        d = dict(zip(keys,values))\n",
    "        data.append(d)\n",
    "data[0:2]"
   ]
  },
  {
   "cell_type": "markdown",
   "metadata": {},
   "source": [
    "#### Using [CSV](https://docs.python.org/3/library/csv.html) module:"
   ]
  },
  {
   "cell_type": "code",
   "execution_count": 9,
   "metadata": {},
   "outputs": [],
   "source": [
    "import csv"
   ]
  },
  {
   "cell_type": "code",
   "execution_count": 10,
   "metadata": {},
   "outputs": [
    {
     "name": "stdout",
     "output_type": "stream",
     "text": [
      "{'Released': '22 March 1963', 'UK Chart Position': '1', 'BPI Certification': 'Gold', 'Label': 'Parlophone(UK)', 'US Chart Position': '-', 'Title': 'Please Please Me', 'RIAA Certification': 'Platinum'}\n",
      "{'Released': '22 November 1963', 'UK Chart Position': '1', 'BPI Certification': 'Platinum', 'Label': 'Parlophone(UK)', 'US Chart Position': '-', 'Title': 'With the Beatles', 'RIAA Certification': 'Gold'}\n",
      "{'Released': '25 November 1963', 'UK Chart Position': '-', 'BPI Certification': '', 'Label': 'Capitol(CAN)', 'US Chart Position': '-', 'Title': 'Beatlemania! With the Beatles', 'RIAA Certification': ''}\n",
      "{'Released': '10 January 1964', 'UK Chart Position': '-', 'BPI Certification': '', 'Label': 'Vee-Jay(US)', 'US Chart Position': '2', 'Title': 'Introducing... The Beatles', 'RIAA Certification': ''}\n",
      "{'Released': '20 January 1964', 'UK Chart Position': '-', 'BPI Certification': '', 'Label': 'Capitol(US)', 'US Chart Position': '1', 'Title': 'Meet the Beatles!', 'RIAA Certification': '5xPlatinum'}\n",
      "{'Released': '3 February 1964', 'UK Chart Position': '-', 'BPI Certification': '', 'Label': 'Capitol(CAN)', 'US Chart Position': '-', 'Title': 'Twist and Shout', 'RIAA Certification': ''}\n",
      "{'Released': '10 April 1964', 'UK Chart Position': '-', 'BPI Certification': '', 'Label': 'Capitol(US)', 'US Chart Position': '1', 'Title': \"The Beatles' Second Album\", 'RIAA Certification': '2xPlatinum'}\n",
      "{'Released': '11 May 1964', 'UK Chart Position': '-', 'BPI Certification': '', 'Label': 'Capitol(CAN)', 'US Chart Position': '-', 'Title': \"The Beatles' Long Tall Sally\", 'RIAA Certification': ''}\n",
      "{'Released': '26 June 1964', 'UK Chart Position': '-', 'BPI Certification': '', 'Label': 'United Artists(US)[C]', 'US Chart Position': '1', 'Title': \"A Hard Day's Night\", 'RIAA Certification': '4xPlatinum'}\n",
      "{'Released': '10 July 1964', 'UK Chart Position': '1', 'BPI Certification': 'Gold', 'Label': 'Parlophone(UK)', 'US Chart Position': '-', 'Title': '', 'RIAA Certification': ''}\n",
      "{'Released': '20 July 1964', 'UK Chart Position': '-', 'BPI Certification': '', 'Label': 'Capitol(US)', 'US Chart Position': '2', 'Title': 'Something New', 'RIAA Certification': 'Platinum'}\n",
      "{'Released': '4 December 1964', 'UK Chart Position': '1', 'BPI Certification': 'Gold', 'Label': 'Parlophone(UK)', 'US Chart Position': '-', 'Title': 'Beatles for Sale', 'RIAA Certification': 'Platinum'}\n",
      "{'Released': '15 December 1964', 'UK Chart Position': '-', 'BPI Certification': '', 'Label': 'Capitol(US)', 'US Chart Position': '1', 'Title': \"Beatles '65\", 'RIAA Certification': '3xPlatinum'}\n",
      "{'Released': '14 June 1965', 'UK Chart Position': '-', 'BPI Certification': '', 'Label': 'Parlophone(NZ), Capitol(US)', 'US Chart Position': '1', 'Title': 'Beatles VI', 'RIAA Certification': 'Platinum'}\n",
      "{'Released': '6 August 1965', 'UK Chart Position': '1', 'BPI Certification': 'Platinum', 'Label': 'Parlophone(UK)', 'US Chart Position': '-', 'Title': 'Help!', 'RIAA Certification': ''}\n",
      "{'Released': '13 August 1965', 'UK Chart Position': '-', 'BPI Certification': '', 'Label': 'Capitol(US)[C]', 'US Chart Position': '1', 'Title': '', 'RIAA Certification': '3xPlatinum'}\n",
      "{'Released': '3 December 1965', 'UK Chart Position': '1', 'BPI Certification': 'Platinum', 'Label': 'Parlophone(UK)', 'US Chart Position': '-', 'Title': 'Rubber Soul', 'RIAA Certification': ''}\n",
      "{'Released': '6 December 1965', 'UK Chart Position': '-', 'BPI Certification': '', 'Label': 'Capitol(US)[C]', 'US Chart Position': '1', 'Title': '', 'RIAA Certification': '6xPlatinum'}\n",
      "{'Released': '15 June 1966', 'UK Chart Position': '-', 'BPI Certification': '', 'Label': 'Capitol(US)', 'US Chart Position': '1', 'Title': 'Yesterday and Today', 'RIAA Certification': '2xPlatinum'}\n",
      "{'Released': '5 August 1966', 'UK Chart Position': '1', 'BPI Certification': 'Platinum', 'Label': 'Parlophone(UK)', 'US Chart Position': '-', 'Title': 'Revolver', 'RIAA Certification': ''}\n",
      "{'Released': '8 August 1966', 'UK Chart Position': '-', 'BPI Certification': '', 'Label': 'Capitol(US)[C]', 'US Chart Position': '1', 'Title': '', 'RIAA Certification': '5xPlatinum'}\n",
      "{'Released': '1 June 1967', 'UK Chart Position': '1', 'BPI Certification': '3xPlatinum', 'Label': 'Parlophone(UK), Capitol(US)', 'US Chart Position': '1', 'Title': \"Sgt. Pepper's Lonely Hearts Club Band\", 'RIAA Certification': '11xPlatinum'}\n",
      "{'Released': '27 November 1967', 'UK Chart Position': '31[D]', 'BPI Certification': 'Platinum', 'Label': 'Parlophone(UK), Capitol(US)', 'US Chart Position': '1', 'Title': 'Magical Mystery Tour', 'RIAA Certification': '6xPlatinum'}\n",
      "{'Released': '22 November 1968', 'UK Chart Position': '1', 'BPI Certification': 'Platinum', 'Label': 'Apple(UK), Capitol(US)', 'US Chart Position': '1', 'Title': 'The Beatles', 'RIAA Certification': '19xPlatinum'}\n",
      "{'Released': '13 January 1969', 'UK Chart Position': '3', 'BPI Certification': 'Silver', 'Label': 'Apple(UK), Capitol(US)', 'US Chart Position': '2', 'Title': 'Yellow Submarine', 'RIAA Certification': 'Platinum'}\n",
      "{'Released': '26 September 1969', 'UK Chart Position': '1', 'BPI Certification': '2xPlatinum', 'Label': 'Apple(UK), Capitol(US)', 'US Chart Position': '1', 'Title': 'Abbey Road', 'RIAA Certification': '12xPlatinum'}\n",
      "{'Released': '8 May 1970', 'UK Chart Position': '1', 'BPI Certification': 'Gold', 'Label': 'Apple(UK),United Artists(US)', 'US Chart Position': '1', 'Title': 'Let It Be', 'RIAA Certification': '4xPlatinum'}\n"
     ]
    }
   ],
   "source": [
    "#with open(datafile, \"r\") as f:\n",
    "with open(os.path.join(\"../datasets/CSVs/\", csvfile), \"r\") as f:\n",
    "    #data2 = csv.reader(f)\n",
    "    data2 = csv.DictReader(f)\n",
    "    for row in data2:\n",
    "        print(row)"
   ]
  },
  {
   "cell_type": "markdown",
   "metadata": {},
   "source": [
    "#### Using Pandas:"
   ]
  },
  {
   "cell_type": "code",
   "execution_count": 11,
   "metadata": {},
   "outputs": [
    {
     "data": {
      "text/html": [
       "<div>\n",
       "<style scoped>\n",
       "    .dataframe tbody tr th:only-of-type {\n",
       "        vertical-align: middle;\n",
       "    }\n",
       "\n",
       "    .dataframe tbody tr th {\n",
       "        vertical-align: top;\n",
       "    }\n",
       "\n",
       "    .dataframe thead th {\n",
       "        text-align: right;\n",
       "    }\n",
       "</style>\n",
       "<table border=\"1\" class=\"dataframe\">\n",
       "  <thead>\n",
       "    <tr style=\"text-align: right;\">\n",
       "      <th></th>\n",
       "      <th>Title</th>\n",
       "      <th>Released</th>\n",
       "      <th>Label</th>\n",
       "      <th>UK Chart Position</th>\n",
       "      <th>US Chart Position</th>\n",
       "      <th>BPI Certification</th>\n",
       "      <th>RIAA Certification</th>\n",
       "    </tr>\n",
       "  </thead>\n",
       "  <tbody>\n",
       "    <tr>\n",
       "      <th>0</th>\n",
       "      <td>Please Please Me</td>\n",
       "      <td>22 March 1963</td>\n",
       "      <td>Parlophone(UK)</td>\n",
       "      <td>1</td>\n",
       "      <td>-</td>\n",
       "      <td>Gold</td>\n",
       "      <td>Platinum</td>\n",
       "    </tr>\n",
       "    <tr>\n",
       "      <th>1</th>\n",
       "      <td>With the Beatles</td>\n",
       "      <td>22 November 1963</td>\n",
       "      <td>Parlophone(UK)</td>\n",
       "      <td>1</td>\n",
       "      <td>-</td>\n",
       "      <td>Platinum</td>\n",
       "      <td>Gold</td>\n",
       "    </tr>\n",
       "    <tr>\n",
       "      <th>2</th>\n",
       "      <td>Beatlemania! With the Beatles</td>\n",
       "      <td>25 November 1963</td>\n",
       "      <td>Capitol(CAN)</td>\n",
       "      <td>-</td>\n",
       "      <td>-</td>\n",
       "      <td>NaN</td>\n",
       "      <td>NaN</td>\n",
       "    </tr>\n",
       "    <tr>\n",
       "      <th>3</th>\n",
       "      <td>Introducing... The Beatles</td>\n",
       "      <td>10 January 1964</td>\n",
       "      <td>Vee-Jay(US)</td>\n",
       "      <td>-</td>\n",
       "      <td>2</td>\n",
       "      <td>NaN</td>\n",
       "      <td>NaN</td>\n",
       "    </tr>\n",
       "    <tr>\n",
       "      <th>4</th>\n",
       "      <td>Meet the Beatles!</td>\n",
       "      <td>20 January 1964</td>\n",
       "      <td>Capitol(US)</td>\n",
       "      <td>-</td>\n",
       "      <td>1</td>\n",
       "      <td>NaN</td>\n",
       "      <td>5xPlatinum</td>\n",
       "    </tr>\n",
       "  </tbody>\n",
       "</table>\n",
       "</div>"
      ],
      "text/plain": [
       "                           Title          Released           Label  \\\n",
       "0               Please Please Me     22 March 1963  Parlophone(UK)   \n",
       "1               With the Beatles  22 November 1963  Parlophone(UK)   \n",
       "2  Beatlemania! With the Beatles  25 November 1963    Capitol(CAN)   \n",
       "3     Introducing... The Beatles   10 January 1964     Vee-Jay(US)   \n",
       "4              Meet the Beatles!   20 January 1964     Capitol(US)   \n",
       "\n",
       "  UK Chart Position US Chart Position BPI Certification RIAA Certification  \n",
       "0                 1                 -              Gold           Platinum  \n",
       "1                 1                 -          Platinum               Gold  \n",
       "2                 -                 -               NaN                NaN  \n",
       "3                 -                 2               NaN                NaN  \n",
       "4                 -                 1               NaN         5xPlatinum  "
      ]
     },
     "execution_count": 11,
     "metadata": {},
     "output_type": "execute_result"
    }
   ],
   "source": [
    "df_csv = pd.read_csv(datafile)\n",
    "df_csv.head()\n",
    "#df_csv.info()"
   ]
  },
  {
   "cell_type": "markdown",
   "metadata": {},
   "source": [
    "## Manipulating [Zip Files](https://docs.python.org/3/library/zipfile.html)"
   ]
  },
  {
   "cell_type": "code",
   "execution_count": 12,
   "metadata": {},
   "outputs": [],
   "source": [
    "from zipfile import ZipFile"
   ]
  },
  {
   "cell_type": "code",
   "execution_count": 13,
   "metadata": {},
   "outputs": [],
   "source": [
    "zipfile = \"2013_ERCOT_Hourly_Load_Data\""
   ]
  },
  {
   "cell_type": "code",
   "execution_count": 16,
   "metadata": {},
   "outputs": [
    {
     "ename": "FileNotFoundError",
     "evalue": "[Errno 2] No such file or directory: '../datasets/CSVs/2013_ERCOT_Hourly_Load_Data.zip'",
     "output_type": "error",
     "traceback": [
      "\u001b[0;31m---------------------------------------------------------------------------\u001b[0m",
      "\u001b[0;31mFileNotFoundError\u001b[0m                         Traceback (most recent call last)",
      "\u001b[0;32m<ipython-input-16-60d66b1ea1cb>\u001b[0m in \u001b[0;36m<module>\u001b[0;34m()\u001b[0m\n\u001b[0;32m----> 1\u001b[0;31m \u001b[0;32mwith\u001b[0m \u001b[0mZipFile\u001b[0m\u001b[0;34m(\u001b[0m\u001b[0;34m'{0}.zip'\u001b[0m\u001b[0;34m.\u001b[0m\u001b[0mformat\u001b[0m\u001b[0;34m(\u001b[0m\u001b[0mdatapath\u001b[0m \u001b[0;34m/\u001b[0m \u001b[0mzipfile\u001b[0m\u001b[0;34m)\u001b[0m\u001b[0;34m,\u001b[0m \u001b[0;34m'r'\u001b[0m\u001b[0;34m)\u001b[0m \u001b[0;32mas\u001b[0m \u001b[0mmyzip\u001b[0m\u001b[0;34m:\u001b[0m\u001b[0;34m\u001b[0m\u001b[0m\n\u001b[0m\u001b[1;32m      2\u001b[0m     \u001b[0;32mwith\u001b[0m \u001b[0mmyzip\u001b[0m\u001b[0;34m.\u001b[0m\u001b[0mopen\u001b[0m\u001b[0;34m(\u001b[0m\u001b[0;34m'2013_ERCOT_Hourly_Load_Data.xls'\u001b[0m\u001b[0;34m)\u001b[0m \u001b[0;32mas\u001b[0m \u001b[0mmyfile\u001b[0m\u001b[0;34m:\u001b[0m\u001b[0;34m\u001b[0m\u001b[0m\n\u001b[1;32m      3\u001b[0m         \u001b[0mpd_excel\u001b[0m \u001b[0;34m=\u001b[0m \u001b[0mpd\u001b[0m\u001b[0;34m.\u001b[0m\u001b[0mread_excel\u001b[0m\u001b[0;34m(\u001b[0m\u001b[0mmyfile\u001b[0m\u001b[0;34m)\u001b[0m\u001b[0;34m\u001b[0m\u001b[0m\n\u001b[1;32m      4\u001b[0m \u001b[0mpd_excel\u001b[0m\u001b[0;34m.\u001b[0m\u001b[0mhead\u001b[0m\u001b[0;34m(\u001b[0m\u001b[0;34m)\u001b[0m\u001b[0;34m\u001b[0m\u001b[0m\n",
      "\u001b[0;32m/usr/lib/python3.5/zipfile.py\u001b[0m in \u001b[0;36m__init__\u001b[0;34m(self, file, mode, compression, allowZip64)\u001b[0m\n\u001b[1;32m   1007\u001b[0m             \u001b[0;32mwhile\u001b[0m \u001b[0;32mTrue\u001b[0m\u001b[0;34m:\u001b[0m\u001b[0;34m\u001b[0m\u001b[0m\n\u001b[1;32m   1008\u001b[0m                 \u001b[0;32mtry\u001b[0m\u001b[0;34m:\u001b[0m\u001b[0;34m\u001b[0m\u001b[0m\n\u001b[0;32m-> 1009\u001b[0;31m                     \u001b[0mself\u001b[0m\u001b[0;34m.\u001b[0m\u001b[0mfp\u001b[0m \u001b[0;34m=\u001b[0m \u001b[0mio\u001b[0m\u001b[0;34m.\u001b[0m\u001b[0mopen\u001b[0m\u001b[0;34m(\u001b[0m\u001b[0mfile\u001b[0m\u001b[0;34m,\u001b[0m \u001b[0mfilemode\u001b[0m\u001b[0;34m)\u001b[0m\u001b[0;34m\u001b[0m\u001b[0m\n\u001b[0m\u001b[1;32m   1010\u001b[0m                 \u001b[0;32mexcept\u001b[0m \u001b[0mOSError\u001b[0m\u001b[0;34m:\u001b[0m\u001b[0;34m\u001b[0m\u001b[0m\n\u001b[1;32m   1011\u001b[0m                     \u001b[0;32mif\u001b[0m \u001b[0mfilemode\u001b[0m \u001b[0;32min\u001b[0m \u001b[0mmodeDict\u001b[0m\u001b[0;34m:\u001b[0m\u001b[0;34m\u001b[0m\u001b[0m\n",
      "\u001b[0;31mFileNotFoundError\u001b[0m: [Errno 2] No such file or directory: '../datasets/CSVs/2013_ERCOT_Hourly_Load_Data.zip'"
     ]
    }
   ],
   "source": [
    "with ZipFile('{0}.zip'.format(datapath / zipfile), 'r') as myzip:\n",
    "    with myzip.open('2013_ERCOT_Hourly_Load_Data.xls') as myfile:\n",
    "        pd_excel = pd.read_excel(myfile)\n",
    "pd_excel.head()"
   ]
  },
  {
   "cell_type": "markdown",
   "metadata": {},
   "source": [
    "## [Acessing](https://pypi.python.org/pypi/xlrd) and [Writing](https://pypi.python.org/pypi/xlwt) [Excel Files](https://github.com/python-excel/tutorial/blob/master/python-excel.pdf)"
   ]
  },
  {
   "cell_type": "markdown",
   "metadata": {},
   "source": [
    "#### Accessing a workbook"
   ]
  },
  {
   "cell_type": "code",
   "execution_count": 12,
   "metadata": {},
   "outputs": [],
   "source": [
    "import xlrd"
   ]
  },
  {
   "cell_type": "code",
   "execution_count": 13,
   "metadata": {},
   "outputs": [],
   "source": [
    "datafile = \"2013_ERCOT_Hourly_Load_Data.xls\""
   ]
  },
  {
   "cell_type": "code",
   "execution_count": 14,
   "metadata": {},
   "outputs": [],
   "source": [
    "with ZipFile('{0}.zip'.format(datapath / zipfile), 'r') as myzip:\n",
    "    myzip.extractall(datapath)"
   ]
  },
  {
   "cell_type": "code",
   "execution_count": 15,
   "metadata": {},
   "outputs": [],
   "source": [
    "workbook = xlrd.open_workbook(datapath / datafile)\n",
    "sheet = workbook.sheet_by_index(0)"
   ]
  },
  {
   "cell_type": "code",
   "execution_count": 16,
   "metadata": {},
   "outputs": [
    {
     "data": {
      "text/plain": [
       "[['Hour_End',\n",
       "  'COAST',\n",
       "  'EAST',\n",
       "  'FAR_WEST',\n",
       "  'NORTH',\n",
       "  'NORTH_C',\n",
       "  'SOUTHERN',\n",
       "  'SOUTH_C',\n",
       "  'WEST',\n",
       "  'ERCOT'],\n",
       " [41275.041666666664,\n",
       "  7606.263544000012,\n",
       "  1073.892438,\n",
       "  1411.7505669999982,\n",
       "  784.9781659999992,\n",
       "  10369.094390000051,\n",
       "  2206.6750770000012,\n",
       "  4368.490945000006,\n",
       "  882.9319009999975,\n",
       "  28704.077028000065]]"
      ]
     },
     "execution_count": 16,
     "metadata": {},
     "output_type": "execute_result"
    }
   ],
   "source": [
    "sheet_data = [[sheet.cell_value(r, col) for col in range(sheet.ncols)] for r in range(sheet.nrows)]\n",
    "sheet_data[:2]"
   ]
  },
  {
   "cell_type": "code",
   "execution_count": 17,
   "metadata": {},
   "outputs": [
    {
     "name": "stdout",
     "output_type": "stream",
     "text": [
      "Number of rows in the sheet:\n",
      "7296\n"
     ]
    }
   ],
   "source": [
    "print(\"Number of rows in the sheet:\"),\n",
    "print(sheet.nrows)"
   ]
  },
  {
   "cell_type": "code",
   "execution_count": 18,
   "metadata": {},
   "outputs": [
    {
     "name": "stdout",
     "output_type": "stream",
     "text": [
      "Type of data in cell (row 3, col 2):\n",
      "2\n"
     ]
    }
   ],
   "source": [
    "print(\"Type of data in cell (row 3, col 2):\"), \n",
    "print(sheet.cell_type(3, 2))"
   ]
  },
  {
   "cell_type": "code",
   "execution_count": 19,
   "metadata": {},
   "outputs": [
    {
     "name": "stdout",
     "output_type": "stream",
     "text": [
      "Value in cell (row 3, col 2):\n",
      "1036.0886969999988\n"
     ]
    }
   ],
   "source": [
    "print(\"Value in cell (row 3, col 2):\", )\n",
    "print(sheet.cell_value(3, 2))"
   ]
  },
  {
   "cell_type": "code",
   "execution_count": 20,
   "metadata": {},
   "outputs": [
    {
     "name": "stdout",
     "output_type": "stream",
     "text": [
      "Get a slice of values in column 3, from rows 1-3:\n",
      "[1411.7505669999982, 1403.4722870000019, 1395.053150000001]\n"
     ]
    }
   ],
   "source": [
    "print(\"Get a slice of values in column 3, from rows 1-3:\",)\n",
    "print(sheet.col_values(3, start_rowx=1, end_rowx=4))"
   ]
  },
  {
   "cell_type": "code",
   "execution_count": 21,
   "metadata": {},
   "outputs": [],
   "source": [
    "coast = sheet.col_values(1, start_rowx=1)\n",
    "data3 = {}    \n",
    "data3['maxvalue'] = max(coast)\n",
    "data3['minvalue'] = min(coast)\n",
    "data3['avgcoast'] = np.mean(coast)\n",
    "\n",
    "rowmax = coast.index(max(coast))+1\n",
    "rowmin = coast.index(min(coast))+1\n",
    "\n",
    "data3['maxtime'] = xlrd.xldate_as_tuple(sheet.cell_value(rowmax,0), 0)\n",
    "data3['mintime'] = xlrd.xldate_as_tuple(sheet.cell_value(rowmin,0), 0)"
   ]
  },
  {
   "cell_type": "code",
   "execution_count": 22,
   "metadata": {},
   "outputs": [
    {
     "data": {
      "text/plain": [
       "{'avgcoast': 10976.933460679784,\n",
       " 'maxtime': (2013, 8, 13, 17, 0, 0),\n",
       " 'maxvalue': 18779.025510000003,\n",
       " 'mintime': (2013, 2, 3, 4, 0, 0),\n",
       " 'minvalue': 6602.113898999982}"
      ]
     },
     "execution_count": 22,
     "metadata": {},
     "output_type": "execute_result"
    }
   ],
   "source": [
    "data3"
   ]
  },
  {
   "cell_type": "markdown",
   "metadata": {},
   "source": [
    "#### Using Pandas"
   ]
  },
  {
   "cell_type": "markdown",
   "metadata": {},
   "source": [
    "http://pandas.pydata.org/pandas-docs/stable/generated/pandas.read_excel.html  "
   ]
  },
  {
   "cell_type": "code",
   "execution_count": 23,
   "metadata": {},
   "outputs": [
    {
     "data": {
      "text/html": [
       "<div>\n",
       "<style scoped>\n",
       "    .dataframe tbody tr th:only-of-type {\n",
       "        vertical-align: middle;\n",
       "    }\n",
       "\n",
       "    .dataframe tbody tr th {\n",
       "        vertical-align: top;\n",
       "    }\n",
       "\n",
       "    .dataframe thead th {\n",
       "        text-align: right;\n",
       "    }\n",
       "</style>\n",
       "<table border=\"1\" class=\"dataframe\">\n",
       "  <thead>\n",
       "    <tr style=\"text-align: right;\">\n",
       "      <th></th>\n",
       "      <th>Hour_End</th>\n",
       "      <th>COAST</th>\n",
       "      <th>EAST</th>\n",
       "      <th>FAR_WEST</th>\n",
       "      <th>NORTH</th>\n",
       "      <th>NORTH_C</th>\n",
       "      <th>SOUTHERN</th>\n",
       "      <th>SOUTH_C</th>\n",
       "      <th>WEST</th>\n",
       "      <th>ERCOT</th>\n",
       "    </tr>\n",
       "  </thead>\n",
       "  <tbody>\n",
       "    <tr>\n",
       "      <th>0</th>\n",
       "      <td>2013-01-01 01:00:00</td>\n",
       "      <td>7606.263544</td>\n",
       "      <td>1073.892438</td>\n",
       "      <td>1411.750567</td>\n",
       "      <td>784.978166</td>\n",
       "      <td>10369.094390</td>\n",
       "      <td>2206.675077</td>\n",
       "      <td>4368.490945</td>\n",
       "      <td>882.931901</td>\n",
       "      <td>28704.077028</td>\n",
       "    </tr>\n",
       "    <tr>\n",
       "      <th>1</th>\n",
       "      <td>2013-01-01 02:00:00</td>\n",
       "      <td>7388.082714</td>\n",
       "      <td>1035.021938</td>\n",
       "      <td>1403.472287</td>\n",
       "      <td>776.307387</td>\n",
       "      <td>10152.358518</td>\n",
       "      <td>2159.733208</td>\n",
       "      <td>4233.587967</td>\n",
       "      <td>872.404750</td>\n",
       "      <td>28020.968769</td>\n",
       "    </tr>\n",
       "    <tr>\n",
       "      <th>2</th>\n",
       "      <td>2013-01-01 03:00:00</td>\n",
       "      <td>7178.867878</td>\n",
       "      <td>1036.088697</td>\n",
       "      <td>1395.053150</td>\n",
       "      <td>768.125748</td>\n",
       "      <td>9988.051418</td>\n",
       "      <td>2065.114706</td>\n",
       "      <td>4082.862860</td>\n",
       "      <td>868.853938</td>\n",
       "      <td>27383.018395</td>\n",
       "    </tr>\n",
       "    <tr>\n",
       "      <th>3</th>\n",
       "      <td>2013-01-01 04:00:00</td>\n",
       "      <td>7038.822581</td>\n",
       "      <td>1032.648841</td>\n",
       "      <td>1395.508820</td>\n",
       "      <td>770.937969</td>\n",
       "      <td>9946.658655</td>\n",
       "      <td>1990.903699</td>\n",
       "      <td>4010.489608</td>\n",
       "      <td>865.701201</td>\n",
       "      <td>27051.671374</td>\n",
       "    </tr>\n",
       "    <tr>\n",
       "      <th>4</th>\n",
       "      <td>2013-01-01 05:00:00</td>\n",
       "      <td>6990.857940</td>\n",
       "      <td>1042.823044</td>\n",
       "      <td>1401.216842</td>\n",
       "      <td>779.089313</td>\n",
       "      <td>10096.664190</td>\n",
       "      <td>1954.807585</td>\n",
       "      <td>4038.655997</td>\n",
       "      <td>879.924249</td>\n",
       "      <td>27184.039160</td>\n",
       "    </tr>\n",
       "  </tbody>\n",
       "</table>\n",
       "</div>"
      ],
      "text/plain": [
       "             Hour_End        COAST         EAST     FAR_WEST       NORTH  \\\n",
       "0 2013-01-01 01:00:00  7606.263544  1073.892438  1411.750567  784.978166   \n",
       "1 2013-01-01 02:00:00  7388.082714  1035.021938  1403.472287  776.307387   \n",
       "2 2013-01-01 03:00:00  7178.867878  1036.088697  1395.053150  768.125748   \n",
       "3 2013-01-01 04:00:00  7038.822581  1032.648841  1395.508820  770.937969   \n",
       "4 2013-01-01 05:00:00  6990.857940  1042.823044  1401.216842  779.089313   \n",
       "\n",
       "        NORTH_C     SOUTHERN      SOUTH_C        WEST         ERCOT  \n",
       "0  10369.094390  2206.675077  4368.490945  882.931901  28704.077028  \n",
       "1  10152.358518  2159.733208  4233.587967  872.404750  28020.968769  \n",
       "2   9988.051418  2065.114706  4082.862860  868.853938  27383.018395  \n",
       "3   9946.658655  1990.903699  4010.489608  865.701201  27051.671374  \n",
       "4  10096.664190  1954.807585  4038.655997  879.924249  27184.039160  "
      ]
     },
     "execution_count": 23,
     "metadata": {},
     "output_type": "execute_result"
    }
   ],
   "source": [
    "pd_excel = pd.read_excel(datapath / datafile)\n",
    "pd_excel.head()"
   ]
  },
  {
   "cell_type": "markdown",
   "metadata": {},
   "source": [
    "#### Reading and Writing a Workbook"
   ]
  },
  {
   "cell_type": "code",
   "execution_count": 24,
   "metadata": {},
   "outputs": [],
   "source": [
    "import xlwt"
   ]
  },
  {
   "cell_type": "code",
   "execution_count": 25,
   "metadata": {},
   "outputs": [],
   "source": [
    "style0 = xlwt.easyxf('font: name Times New Roman, color-index red, bold on', num_format_str='#,##0.00')\n",
    "style1 = xlwt.easyxf(num_format_str='D-MMM-YY')"
   ]
  },
  {
   "cell_type": "code",
   "execution_count": 27,
   "metadata": {},
   "outputs": [],
   "source": [
    "workbook = xlwt.Workbook()\n",
    "workbook_name = 'my_workbook.xls'\n",
    "\n",
    "worksheet1 = workbook.add_sheet('my_first_sheet')\n",
    "worksheet1.write(0, 0, 'Column 1 title', style0)\n",
    "worksheet1.write(0, 1, 'Column 2 title', style0)\n",
    "\n",
    "worksheet2 = workbook.add_sheet('my_second_sheet')\n",
    "worksheet2.write(0, 0, 'Itens')\n",
    "worksheet2.write(0, 1, 'Price')\n",
    "worksheet2.write(1, 0, 'Rice')\n",
    "worksheet2.write(1, 1, 100)\n",
    "worksheet2.write(2, 0, 'Beans')\n",
    "worksheet2.write(2, 1, 200)\n",
    "worksheet2.write(3, 0, 'Pasta')\n",
    "worksheet2.write(3, 1, 500)\n",
    "worksheet2.write(5, 0, 'Total')\n",
    "\n",
    "worksheet2.write(5, 1, xlwt.Formula(\"B2+B3+B4\"))\n",
    "\n",
    "\n",
    "workbook.save(outputs / workbook_name)"
   ]
  },
  {
   "cell_type": "markdown",
   "metadata": {},
   "source": [
    "### Reading PDF Files"
   ]
  },
  {
   "cell_type": "code",
   "execution_count": 32,
   "metadata": {},
   "outputs": [],
   "source": [
    "import textract"
   ]
  },
  {
   "cell_type": "code",
   "execution_count": 33,
   "metadata": {},
   "outputs": [
    {
     "name": "stdout",
     "output_type": "stream",
     "text": [
      "Files in the folder:\n",
      "1 -- Useful_Things_ML.pdf\n"
     ]
    }
   ],
   "source": [
    "onlyfiles = [f for f in os.listdir(datapath) if os.path.isfile(datapath / f) and f.endswith('.pdf')]\n",
    "onlyfiles.sort()\n",
    "\n",
    "print('Files in the folder:')\n",
    "for i, w in enumerate(onlyfiles):\n",
    "    print(i+1, '--' ,w)"
   ]
  },
  {
   "cell_type": "code",
   "execution_count": 35,
   "metadata": {},
   "outputs": [
    {
     "name": "stdout",
     "output_type": "stream",
     "text": [
      "A Few Useful Things to Know about Machine Learning\n",
      "Pedro Domingos\n",
      "Department of Computer Science and Engineering\n",
      "University of Washington\n",
      "Seattle, WA 98195-2350, U.S.A.\n",
      "\n",
      "pedrod@cs.washington.edu\n",
      "\n",
      "ABSTRACT\n",
      "Machine learning algorithms can figure out how to perform\n",
      "important tasks by generalizing from examples. This is often feasible and cost-effective where manual programming\n",
      "is not. As more data becomes available, more ambitious\n",
      "problems can be tackled. As a result, machine learning is\n",
      "widely used in computer science and other fields. However,\n",
      "developing successful machine learning applications requires\n",
      "a substantial amount of “black art” that is hard to find in\n",
      "textbooks. This article summarizes twelve key lessons that\n",
      "machine learning researchers and practitioners have learned.\n",
      "These include pitfalls to avoid, important issues to focus on,\n",
      "and answers to common questions.\n",
      "\n",
      "correct output yt for future examples xt (e.g., whether the\n",
      "spam filter correctly classifies previously unseen em\n"
     ]
    }
   ],
   "source": [
    "text0 = textract.process(datapath / onlyfiles[0]).decode('utf-8')\n",
    "print(text0[0:1000])"
   ]
  },
  {
   "cell_type": "markdown",
   "metadata": {},
   "source": [
    "## Accessing HTML"
   ]
  },
  {
   "cell_type": "markdown",
   "metadata": {},
   "source": [
    "https://docs.python.org/3/library/urllib.html  \n",
    "http://www.crummy.com/software/BeautifulSoup/  \n",
    "http://docs.python-requests.org/en/latest/  \n",
    "http://lxml.de/  \n",
    "https://docs.python.org/3/library/getpass.html  "
   ]
  },
  {
   "cell_type": "code",
   "execution_count": 36,
   "metadata": {},
   "outputs": [],
   "source": [
    "import urllib\n",
    "from bs4 import BeautifulSoup as bs\n",
    "import requests\n",
    "import lxml.html\n",
    "import getpass"
   ]
  },
  {
   "cell_type": "code",
   "execution_count": 37,
   "metadata": {},
   "outputs": [
    {
     "data": {
      "text/plain": [
       "['/',\n",
       " 'http://memoria.oglobo.globo.com',\n",
       " 'http://acervo.oglobo.globo.com',\n",
       " 'ela/',\n",
       " 'http://kogut.oglobo.globo.com',\n",
       " 'rioshow/',\n",
       " 'https://extra.globo.com',\n",
       " 'http://classificados.globo.com',\n",
       " 'http://clubeoglobo.com.br',\n",
       " 'http://www.centraldoassinante.oglobo.com.br']"
      ]
     },
     "execution_count": 37,
     "metadata": {},
     "output_type": "execute_result"
    }
   ],
   "source": [
    "url = \"http://oglobo.globo.com\"\n",
    "html_txt = urllib.request.urlopen(url).read()\n",
    "soup = bs(html_txt, \"html.parser\")\n",
    " \n",
    "[line.get('href') for line in soup.find_all('a')][0:10]    "
   ]
  },
  {
   "cell_type": "markdown",
   "metadata": {},
   "source": [
    "#### Another approach: [lxml](http://lxml.de/tutorial.html) instead of beautiful soup\n",
    " "
   ]
  },
  {
   "cell_type": "code",
   "execution_count": 38,
   "metadata": {},
   "outputs": [
    {
     "data": {
      "text/plain": [
       "['http://www.hotashtanga.com/',\n",
       " 'https://drive.google.com/open?id=0B0t9QIGAtRQ5eGVjNDFaQmFhZXM',\n",
       " 'https://drive.google.com/open?id=0B0t9QIGAtRQ5dnJEamZaWmpieGs',\n",
       " 'https://drive.google.com/open?id=0B0t9QIGAtRQ5eGMzX0U4ZVFNNjA',\n",
       " 'https://drive.google.com/open?id=0B0t9QIGAtRQ5WlZxM1BZdGcyNE0',\n",
       " 'https://drive.google.com/open?id=0B0t9QIGAtRQ5ZzVLcUV4ZTItcm8',\n",
       " 'https://drive.google.com/open?id=0B0t9QIGAtRQ5RmxId2RzYlA2ek0',\n",
       " 'https://drive.google.com/open?id=0B0t9QIGAtRQ5ZU9Ta0NyUkMtWnc',\n",
       " 'https://drive.google.com/open?id=0B0t9QIGAtRQ5SEM0UXBHVWlUeWc',\n",
       " 'https://drive.google.com/open?id=0B0t9QIGAtRQ5aUU5TEZIYURCaUE']"
      ]
     },
     "execution_count": 38,
     "metadata": {},
     "output_type": "execute_result"
    }
   ],
   "source": [
    "url = \"http://www.hotashtanga.com/p/letoltesek-downloads.html\"\n",
    "html_txt = urllib.request.urlopen(url).read()\n",
    "dom =  lxml.html.fromstring(html_txt)\n",
    "    \n",
    "[line for line in dom.xpath('//a/@href')][0:10]   "
   ]
  },
  {
   "cell_type": "markdown",
   "metadata": {},
   "source": [
    "#### Using [Requests](http://docs.python-requests.org/en/master/user/quickstart/), for more complex tasks  \n",
    "\n",
    "\n",
    "c.f. [HTML Responses](http://www.w3.org/Protocols/rfc2616/rfc2616-sec10.html)"
   ]
  },
  {
   "cell_type": "code",
   "execution_count": 39,
   "metadata": {},
   "outputs": [
    {
     "data": {
      "text/plain": [
       "200"
      ]
     },
     "execution_count": 39,
     "metadata": {},
     "output_type": "execute_result"
    }
   ],
   "source": [
    "p = getpass.getpass()\n",
    "r = requests.get('https://api.github.com/user', auth=('rsouza', p))\n",
    "r.status_code"
   ]
  },
  {
   "cell_type": "code",
   "execution_count": 41,
   "metadata": {},
   "outputs": [
    {
     "data": {
      "text/plain": [
       "'application/json; charset=utf-8'"
      ]
     },
     "execution_count": 41,
     "metadata": {},
     "output_type": "execute_result"
    }
   ],
   "source": [
    "r.headers['content-type']"
   ]
  },
  {
   "cell_type": "code",
   "execution_count": 42,
   "metadata": {},
   "outputs": [
    {
     "data": {
      "text/plain": [
       "'utf-8'"
      ]
     },
     "execution_count": 42,
     "metadata": {},
     "output_type": "execute_result"
    }
   ],
   "source": [
    "r.encoding"
   ]
  },
  {
   "cell_type": "code",
   "execution_count": 43,
   "metadata": {},
   "outputs": [
    {
     "data": {
      "text/plain": [
       "'{\"login\":\"rsouza\",\"id\":604914,\"avatar_url\":\"https://avatars0.githubusercontent.com/u/604914?v=4\",\"gravatar_id\":\"\",\"url\":\"https://api.github.com/users/rsouza\",\"html_url\":\"https://github.com/rsouza\",\"followers_url\":\"https://api.github.com/users/rsouza/followers\",\"following_url\":\"https://api.github.com/users/rsouza/following{/other_user}\",\"gists_url\":\"https://api.github.com/users/rsouza/gists{/gist_id}\",\"starred_url\":\"https://api.github.com/users/rsouza/starred{/owner}{/repo}\",\"subscriptions_url\":\"https://api.github.com/users/rsouza/subscriptions\",\"organizations_url\":\"https://api.github.com/users/rsouza/orgs\",\"repos_url\":\"https://api.github.com/users/rsouza/repos\",\"events_url\":\"https://api.github.com/users/rsouza/events{/privacy}\",\"received_events_url\":\"https://api.github.com/users/rsouza/received_events\",\"type\":\"User\",\"site_admin\":false,\"name\":\"Renato Rocha Souza\",\"company\":\"FGV\",\"blog\":\"emap.fgv.br\",\"location\":\"Rio de Janeiro\",\"email\":\"rsouza.fgv@gmail.com\",\"hireable\":null,\"bio\":\"https://www.linkedin.com/in/renato-rocha-souza-157153\",\"public_repos\":17,\"public_gists\":2,\"followers\":62,\"following\":6,\"created_at\":\"2011-02-07T15:46:45Z\",\"updated_at\":\"2018-03-01T11:05:01Z\",\"private_gists\":0,\"total_private_repos\":1,\"owned_private_repos\":0,\"disk_usage\":818582,\"collaborators\":0,\"two_factor_authentication\":false,\"plan\":{\"name\":\"free\",\"space\":976562499,\"collaborators\":0,\"private_repos\":0}}'"
      ]
     },
     "execution_count": 43,
     "metadata": {},
     "output_type": "execute_result"
    }
   ],
   "source": [
    "r.text"
   ]
  },
  {
   "cell_type": "code",
   "execution_count": 44,
   "metadata": {},
   "outputs": [
    {
     "data": {
      "text/plain": [
       "{'avatar_url': 'https://avatars0.githubusercontent.com/u/604914?v=4',\n",
       " 'bio': 'https://www.linkedin.com/in/renato-rocha-souza-157153',\n",
       " 'blog': 'emap.fgv.br',\n",
       " 'collaborators': 0,\n",
       " 'company': 'FGV',\n",
       " 'created_at': '2011-02-07T15:46:45Z',\n",
       " 'disk_usage': 818582,\n",
       " 'email': 'rsouza.fgv@gmail.com',\n",
       " 'events_url': 'https://api.github.com/users/rsouza/events{/privacy}',\n",
       " 'followers': 62,\n",
       " 'followers_url': 'https://api.github.com/users/rsouza/followers',\n",
       " 'following': 6,\n",
       " 'following_url': 'https://api.github.com/users/rsouza/following{/other_user}',\n",
       " 'gists_url': 'https://api.github.com/users/rsouza/gists{/gist_id}',\n",
       " 'gravatar_id': '',\n",
       " 'hireable': None,\n",
       " 'html_url': 'https://github.com/rsouza',\n",
       " 'id': 604914,\n",
       " 'location': 'Rio de Janeiro',\n",
       " 'login': 'rsouza',\n",
       " 'name': 'Renato Rocha Souza',\n",
       " 'organizations_url': 'https://api.github.com/users/rsouza/orgs',\n",
       " 'owned_private_repos': 0,\n",
       " 'plan': {'collaborators': 0,\n",
       "  'name': 'free',\n",
       "  'private_repos': 0,\n",
       "  'space': 976562499},\n",
       " 'private_gists': 0,\n",
       " 'public_gists': 2,\n",
       " 'public_repos': 17,\n",
       " 'received_events_url': 'https://api.github.com/users/rsouza/received_events',\n",
       " 'repos_url': 'https://api.github.com/users/rsouza/repos',\n",
       " 'site_admin': False,\n",
       " 'starred_url': 'https://api.github.com/users/rsouza/starred{/owner}{/repo}',\n",
       " 'subscriptions_url': 'https://api.github.com/users/rsouza/subscriptions',\n",
       " 'total_private_repos': 1,\n",
       " 'two_factor_authentication': False,\n",
       " 'type': 'User',\n",
       " 'updated_at': '2018-03-01T11:05:01Z',\n",
       " 'url': 'https://api.github.com/users/rsouza'}"
      ]
     },
     "execution_count": 44,
     "metadata": {},
     "output_type": "execute_result"
    }
   ],
   "source": [
    "r.json()"
   ]
  },
  {
   "cell_type": "markdown",
   "metadata": {},
   "source": [
    "## Accessing [JSON](http://json.org/)\n",
    "\n",
    "https://docs.python.org/3/library/json.html  \n",
    "https://docs.python.org/3/library/urllib.html  "
   ]
  },
  {
   "cell_type": "code",
   "execution_count": 45,
   "metadata": {},
   "outputs": [],
   "source": [
    "import json"
   ]
  },
  {
   "cell_type": "code",
   "execution_count": 46,
   "metadata": {},
   "outputs": [],
   "source": [
    "base_url = \"http://musicbrainz.org/ws/2/\"\n",
    "artist_url =  urllib.parse.urljoin(base_url, 'artist/')\n",
    "query_type = {\"simple\": {},\n",
    "              \"atr\": {\"inc\": \"aliases+tags+ratings\"},\n",
    "              \"aliases\": {\"inc\": \"aliases\"},\n",
    "              \"releases\": {\"inc\": \"releases\"}}"
   ]
  },
  {
   "cell_type": "code",
   "execution_count": 47,
   "metadata": {},
   "outputs": [],
   "source": [
    "def query_site(url, params, uid=\"\", fmt=\"json\"):\n",
    "    params[\"fmt\"] = fmt\n",
    "    r = requests.get(url + uid, params=params)\n",
    "    print(\"requesting\", r.url)\n",
    "\n",
    "    if r.status_code == requests.codes.ok:\n",
    "        return r.json()\n",
    "    else:\n",
    "        r.raise_for_status()"
   ]
  },
  {
   "cell_type": "code",
   "execution_count": 48,
   "metadata": {},
   "outputs": [],
   "source": [
    "def query_by_name(url, params, name):\n",
    "    params[\"query\"] = \"artist:\" + name\n",
    "    return query_site(url, params)"
   ]
  },
  {
   "cell_type": "code",
   "execution_count": 49,
   "metadata": {},
   "outputs": [],
   "source": [
    "def pretty_print(data, indent=4):\n",
    "    if type(data) == dict:\n",
    "        print(json.dumps(data, indent=indent, sort_keys=True))\n",
    "    else:\n",
    "        print(data)"
   ]
  },
  {
   "cell_type": "code",
   "execution_count": 50,
   "metadata": {},
   "outputs": [
    {
     "name": "stdout",
     "output_type": "stream",
     "text": [
      "requesting http://musicbrainz.org/ws/2/artist/?query=artist%3ANirvana&fmt=json\n",
      "{\n",
      "    \"artists\": [\n",
      "        {\n",
      "            \"area\": {\n",
      "                \"id\": \"6a264f94-6ff1-30b1-9a81-41f7bfabd616\",\n",
      "                \"name\": \"Finland\",\n",
      "                \"sort-name\": \"Finland\"\n",
      "            },\n",
      "            \"country\": \"FI\",\n",
      "            \"disambiguation\": \"Early 1980's Finnish punk band\",\n",
      "            \"id\": \"85af0709-95db-4fbc-801a-120e9f4766d0\",\n",
      "            \"life-span\": {\n",
      "                \"ended\": null\n",
      "            },\n",
      "            \"name\": \"Nirvana\",\n",
      "            \"score\": \"100\",\n",
      "            \"sort-name\": \"Nirvana\",\n",
      "            \"tags\": [\n",
      "                {\n",
      "                    \"count\": 1,\n",
      "                    \"name\": \"punk\"\n",
      "                },\n",
      "                {\n",
      "                    \"count\": 1,\n",
      "                    \"name\": \"finland\"\n",
      "                }\n",
      "            ],\n",
      "            \"type\": \"Group\"\n",
      "        },\n",
      "        {\n",
      "            \"disambiguation\": \"founded in 1987 by a Michael Jackson double/imitator\",\n",
      "            \"id\": \"3aa878c0-224b-41e5-abd1-63be359d2bca\",\n",
      "            \"life-span\": {\n",
      "                \"begin\": \"1987\",\n",
      "                \"ended\": null\n",
      "            },\n",
      "            \"name\": \"Nirvana\",\n",
      "            \"score\": \"100\",\n",
      "            \"sort-name\": \"Nirvana\"\n",
      "        },\n",
      "        {\n",
      "            \"disambiguation\": \"French band from Martigues, activ during the 70s.\",\n",
      "            \"id\": \"c49d69dc-e008-47cf-b5ff-160fafb1fe1f\",\n",
      "            \"life-span\": {\n",
      "                \"ended\": null\n",
      "            },\n",
      "            \"name\": \"Nirvana\",\n",
      "            \"score\": \"100\",\n",
      "            \"sort-name\": \"Nirvana\"\n",
      "        },\n",
      "        {\n",
      "            \"area\": {\n",
      "                \"id\": \"8a754a16-0027-3a29-b6d7-2b40ea0481ed\",\n",
      "                \"name\": \"United Kingdom\",\n",
      "                \"sort-name\": \"United Kingdom\"\n",
      "            },\n",
      "            \"begin-area\": {\n",
      "                \"id\": \"f03d09b3-39dc-4083-afd6-159e3f0d462f\",\n",
      "                \"name\": \"London\",\n",
      "                \"sort-name\": \"London\"\n",
      "            },\n",
      "            \"country\": \"GB\",\n",
      "            \"disambiguation\": \"60s band from the UK\",\n",
      "            \"id\": \"9282c8b4-ca0b-4c6b-b7e3-4f7762dfc4d6\",\n",
      "            \"life-span\": {\n",
      "                \"begin\": \"1967\",\n",
      "                \"ended\": null\n",
      "            },\n",
      "            \"name\": \"Nirvana\",\n",
      "            \"score\": \"100\",\n",
      "            \"sort-name\": \"Nirvana\",\n",
      "            \"tags\": [\n",
      "                {\n",
      "                    \"count\": 1,\n",
      "                    \"name\": \"rock\"\n",
      "                },\n",
      "                {\n",
      "                    \"count\": 1,\n",
      "                    \"name\": \"pop\"\n",
      "                },\n",
      "                {\n",
      "                    \"count\": 1,\n",
      "                    \"name\": \"progressive rock\"\n",
      "                },\n",
      "                {\n",
      "                    \"count\": 1,\n",
      "                    \"name\": \"orchestral\"\n",
      "                },\n",
      "                {\n",
      "                    \"count\": 1,\n",
      "                    \"name\": \"british\"\n",
      "                },\n",
      "                {\n",
      "                    \"count\": 1,\n",
      "                    \"name\": \"power pop\"\n",
      "                },\n",
      "                {\n",
      "                    \"count\": 1,\n",
      "                    \"name\": \"psychedelic rock\"\n",
      "                },\n",
      "                {\n",
      "                    \"count\": 1,\n",
      "                    \"name\": \"soft rock\"\n",
      "                },\n",
      "                {\n",
      "                    \"count\": 1,\n",
      "                    \"name\": \"symphonic rock\"\n",
      "                },\n",
      "                {\n",
      "                    \"count\": 1,\n",
      "                    \"name\": \"english\"\n",
      "                }\n",
      "            ],\n",
      "            \"type\": \"Group\"\n",
      "        },\n",
      "        {\n",
      "            \"aliases\": [\n",
      "                {\n",
      "                    \"begin-date\": null,\n",
      "                    \"end-date\": null,\n",
      "                    \"locale\": null,\n",
      "                    \"name\": \"Nirvana US\",\n",
      "                    \"primary\": null,\n",
      "                    \"sort-name\": \"Nirvana US\",\n",
      "                    \"type\": null\n",
      "                }\n",
      "            ],\n",
      "            \"area\": {\n",
      "                \"id\": \"489ce91b-6658-3307-9877-795b68554c98\",\n",
      "                \"name\": \"United States\",\n",
      "                \"sort-name\": \"United States\"\n",
      "            },\n",
      "            \"begin-area\": {\n",
      "                \"id\": \"a640b45c-c173-49b1-8030-973603e895b5\",\n",
      "                \"name\": \"Aberdeen\",\n",
      "                \"sort-name\": \"Aberdeen\"\n",
      "            },\n",
      "            \"country\": \"US\",\n",
      "            \"disambiguation\": \"90s US grunge band\",\n",
      "            \"id\": \"5b11f4ce-a62d-471e-81fc-a69a8278c7da\",\n",
      "            \"life-span\": {\n",
      "                \"begin\": \"1988-01\",\n",
      "                \"end\": \"1994-04-05\",\n",
      "                \"ended\": true\n",
      "            },\n",
      "            \"name\": \"Nirvana\",\n",
      "            \"score\": \"100\",\n",
      "            \"sort-name\": \"Nirvana\",\n",
      "            \"tags\": [\n",
      "                {\n",
      "                    \"count\": 9,\n",
      "                    \"name\": \"rock\"\n",
      "                },\n",
      "                {\n",
      "                    \"count\": 4,\n",
      "                    \"name\": \"alternative rock\"\n",
      "                },\n",
      "                {\n",
      "                    \"count\": 1,\n",
      "                    \"name\": \"90s\"\n",
      "                },\n",
      "                {\n",
      "                    \"count\": 1,\n",
      "                    \"name\": \"punk\"\n",
      "                },\n",
      "                {\n",
      "                    \"count\": 5,\n",
      "                    \"name\": \"american\"\n",
      "                },\n",
      "                {\n",
      "                    \"count\": 1,\n",
      "                    \"name\": \"seattle\"\n",
      "                },\n",
      "                {\n",
      "                    \"count\": 14,\n",
      "                    \"name\": \"grunge\"\n",
      "                },\n",
      "                {\n",
      "                    \"count\": 0,\n",
      "                    \"name\": \"band\"\n",
      "                },\n",
      "                {\n",
      "                    \"count\": 1,\n",
      "                    \"name\": \"usa\"\n",
      "                },\n",
      "                {\n",
      "                    \"count\": 0,\n",
      "                    \"name\": \"alternative\"\n",
      "                },\n",
      "                {\n",
      "                    \"count\": 0,\n",
      "                    \"name\": \"am\\u00e9ricain\"\n",
      "                },\n",
      "                {\n",
      "                    \"count\": 0,\n",
      "                    \"name\": \"legendary\"\n",
      "                },\n",
      "                {\n",
      "                    \"count\": 1,\n",
      "                    \"name\": \"acoustic rock\"\n",
      "                },\n",
      "                {\n",
      "                    \"count\": 1,\n",
      "                    \"name\": \"noise rock\"\n",
      "                },\n",
      "                {\n",
      "                    \"count\": 0,\n",
      "                    \"name\": \"90\"\n",
      "                },\n",
      "                {\n",
      "                    \"count\": 0,\n",
      "                    \"name\": \"northwest\"\n",
      "                },\n",
      "                {\n",
      "                    \"count\": 0,\n",
      "                    \"name\": \"rock and indie\"\n",
      "                },\n",
      "                {\n",
      "                    \"count\": 0,\n",
      "                    \"name\": \"united states\"\n",
      "                },\n",
      "                {\n",
      "                    \"count\": 0,\n",
      "                    \"name\": \"nirvana\"\n",
      "                },\n",
      "                {\n",
      "                    \"count\": 0,\n",
      "                    \"name\": \"kurt cobain\"\n",
      "                }\n",
      "            ],\n",
      "            \"type\": \"Group\"\n",
      "        },\n",
      "        {\n",
      "            \"area\": {\n",
      "                \"id\": \"489ce91b-6658-3307-9877-795b68554c98\",\n",
      "                \"name\": \"United States\",\n",
      "                \"sort-name\": \"United States\"\n",
      "            },\n",
      "            \"country\": \"US\",\n",
      "            \"id\": \"c3a64a25-251b-4d03-afba-1471440245b8\",\n",
      "            \"life-span\": {\n",
      "                \"begin\": \"2009\",\n",
      "                \"ended\": null\n",
      "            },\n",
      "            \"name\": \"Approaching Nirvana\",\n",
      "            \"score\": \"62\",\n",
      "            \"sort-name\": \"Approaching Nirvana\",\n",
      "            \"type\": \"Group\"\n",
      "        },\n",
      "        {\n",
      "            \"id\": \"b305320e-c158-43f4-b5be-4450e2f99a32\",\n",
      "            \"life-span\": {\n",
      "                \"ended\": null\n",
      "            },\n",
      "            \"name\": \"El Nirvana\",\n",
      "            \"score\": \"62\",\n",
      "            \"sort-name\": \"Nirvana, El\"\n",
      "        },\n",
      "        {\n",
      "            \"aliases\": [\n",
      "                {\n",
      "                    \"begin-date\": null,\n",
      "                    \"end-date\": null,\n",
      "                    \"locale\": null,\n",
      "                    \"name\": \"Nirvana\",\n",
      "                    \"primary\": null,\n",
      "                    \"sort-name\": \"Nirvana\",\n",
      "                    \"type\": null\n",
      "                },\n",
      "                {\n",
      "                    \"begin-date\": null,\n",
      "                    \"end-date\": null,\n",
      "                    \"locale\": null,\n",
      "                    \"name\": \"Prophet 2002\",\n",
      "                    \"primary\": null,\n",
      "                    \"sort-name\": \"Prophet 2002\",\n",
      "                    \"type\": null\n",
      "                }\n",
      "            ],\n",
      "            \"area\": {\n",
      "                \"id\": \"23d10872-f5ae-3f0c-bf55-332788a16ecb\",\n",
      "                \"name\": \"Sweden\",\n",
      "                \"sort-name\": \"Sweden\"\n",
      "            },\n",
      "            \"country\": \"SE\",\n",
      "            \"disambiguation\": \"Swedish death metal band\",\n",
      "            \"id\": \"f2dfdff9-3862-4be0-bf85-9c833fa3059e\",\n",
      "            \"life-span\": {\n",
      "                \"begin\": \"1988\",\n",
      "                \"ended\": null\n",
      "            },\n",
      "            \"name\": \"Nirvana 2002\",\n",
      "            \"score\": \"62\",\n",
      "            \"sort-name\": \"Nirvana 2002\",\n",
      "            \"type\": \"Group\"\n",
      "        },\n",
      "        {\n",
      "            \"id\": \"329c04ae-3b73-4ca3-996f-75608ab1befb\",\n",
      "            \"life-span\": {\n",
      "                \"ended\": null\n",
      "            },\n",
      "            \"name\": \"Nirvana Singh\",\n",
      "            \"score\": \"62\",\n",
      "            \"sort-name\": \"Singh, Nirvana\",\n",
      "            \"type\": \"Person\"\n",
      "        },\n",
      "        {\n",
      "            \"area\": {\n",
      "                \"id\": \"489ce91b-6658-3307-9877-795b68554c98\",\n",
      "                \"name\": \"United States\",\n",
      "                \"sort-name\": \"United States\"\n",
      "            },\n",
      "            \"country\": \"US\",\n",
      "            \"gender\": \"female\",\n",
      "            \"id\": \"206419e0-3a7a-49ce-8437-4e757767d02b\",\n",
      "            \"life-span\": {\n",
      "                \"ended\": null\n",
      "            },\n",
      "            \"name\": \"Nirvana Savoury\",\n",
      "            \"score\": \"62\",\n",
      "            \"sort-name\": \"Savoury, Nirvana\",\n",
      "            \"type\": \"Person\"\n",
      "        },\n",
      "        {\n",
      "            \"id\": \"86f9ae24-ba2a-4d55-9275-0b89b85f6e3a\",\n",
      "            \"life-span\": {\n",
      "                \"ended\": null\n",
      "            },\n",
      "            \"name\": \"Weed Nirvana\",\n",
      "            \"score\": \"62\",\n",
      "            \"sort-name\": \"Weed Nirvana\"\n",
      "        },\n",
      "        {\n",
      "            \"id\": \"f58febd3-18de-4371-8d95-4a68d4f79456\",\n",
      "            \"life-span\": {\n",
      "                \"ended\": null\n",
      "            },\n",
      "            \"name\": \"Nirvana Kelly\",\n",
      "            \"score\": \"62\",\n",
      "            \"sort-name\": \"Kelly, Nirvana\",\n",
      "            \"type\": \"Person\"\n",
      "        },\n",
      "        {\n",
      "            \"area\": {\n",
      "                \"id\": \"07607044-8140-47ba-bb24-7129babe586b\",\n",
      "                \"name\": \"West Midlands\",\n",
      "                \"sort-name\": \"West Midlands\"\n",
      "            },\n",
      "            \"id\": \"8f32371e-4bac-4090-ba13-2c1cd1aeab0d\",\n",
      "            \"life-span\": {\n",
      "                \"ended\": null\n",
      "            },\n",
      "            \"name\": \"Nirvana UK\",\n",
      "            \"score\": \"62\",\n",
      "            \"sort-name\": \"Nirvana UK\",\n",
      "            \"type\": \"Group\"\n",
      "        },\n",
      "        {\n",
      "            \"begin-area\": {\n",
      "                \"id\": \"ef1b7cc0-cd26-36f4-8ea0-04d9623786c7\",\n",
      "                \"name\": \"Netherlands\",\n",
      "                \"sort-name\": \"Netherlands\"\n",
      "            },\n",
      "            \"id\": \"da77e424-c473-481e-a2ae-5d966b2ee0b6\",\n",
      "            \"life-span\": {\n",
      "                \"ended\": null\n",
      "            },\n",
      "            \"name\": \"Nirvana Undercover\",\n",
      "            \"score\": \"62\",\n",
      "            \"sort-name\": \"Nirvana Undercover\",\n",
      "            \"type\": \"Group\"\n",
      "        },\n",
      "        {\n",
      "            \"area\": {\n",
      "                \"id\": \"c621114d-73cc-4832-8afe-f13dc261e5af\",\n",
      "                \"name\": \"Gatineau\",\n",
      "                \"sort-name\": \"Gatineau\"\n",
      "            },\n",
      "            \"begin-area\": {\n",
      "                \"id\": \"c621114d-73cc-4832-8afe-f13dc261e5af\",\n",
      "                \"name\": \"Gatineau\",\n",
      "                \"sort-name\": \"Gatineau\"\n",
      "            },\n",
      "            \"id\": \"02c4e6bb-7b7a-4686-8c23-df01bfd42b0e\",\n",
      "            \"life-span\": {\n",
      "                \"begin\": \"2012-04-05\",\n",
      "                \"ended\": null\n",
      "            },\n",
      "            \"name\": \"Sappy Nirvana Tribute\",\n",
      "            \"score\": \"50\",\n",
      "            \"sort-name\": \"Sappy Nirvana Tribute\",\n",
      "            \"type\": \"Group\"\n",
      "        },\n",
      "        {\n",
      "            \"area\": {\n",
      "                \"id\": \"e8ad73e9-9e7f-41c4-a395-6e29260ff1df\",\n",
      "                \"name\": \"Graz\",\n",
      "                \"sort-name\": \"Graz\"\n",
      "            },\n",
      "            \"begin-area\": {\n",
      "                \"id\": \"e8ad73e9-9e7f-41c4-a395-6e29260ff1df\",\n",
      "                \"name\": \"Graz\",\n",
      "                \"sort-name\": \"Graz\"\n",
      "            },\n",
      "            \"disambiguation\": \"Nirvana-Coverband\",\n",
      "            \"id\": \"46d8dae4-abec-438b-9c62-a3dbb2aaa1b7\",\n",
      "            \"life-span\": {\n",
      "                \"begin\": \"2000\",\n",
      "                \"ended\": null\n",
      "            },\n",
      "            \"name\": \"Nirvana Teen Spirit\",\n",
      "            \"score\": \"50\",\n",
      "            \"sort-name\": \"Nirvana Teen Spirit\",\n",
      "            \"type\": \"Group\"\n",
      "        },\n",
      "        {\n",
      "            \"id\": \"bb94730d-22c2-422d-a0a7-fe16a5b3e429\",\n",
      "            \"life-span\": {\n",
      "                \"ended\": null\n",
      "            },\n",
      "            \"name\": \"The Attainment of Nirvana\",\n",
      "            \"score\": \"50\",\n",
      "            \"sort-name\": \"Attainment of Nirvana, The\",\n",
      "            \"type\": \"Group\"\n",
      "        },\n",
      "        {\n",
      "            \"area\": {\n",
      "                \"id\": \"c920948b-83e3-40b7-8fe9-9ab5abaac55b\",\n",
      "                \"name\": \"Houston\",\n",
      "                \"sort-name\": \"Houston\"\n",
      "            },\n",
      "            \"begin-area\": {\n",
      "                \"id\": \"c920948b-83e3-40b7-8fe9-9ab5abaac55b\",\n",
      "                \"name\": \"Houston\",\n",
      "                \"sort-name\": \"Houston\"\n",
      "            },\n",
      "            \"disambiguation\": \"Nirvana Cover Band\",\n",
      "            \"id\": \"45eacd92-6857-4faa-9283-023e72a1d4b1\",\n",
      "            \"life-span\": {\n",
      "                \"begin\": \"2012\",\n",
      "                \"ended\": null\n",
      "            },\n",
      "            \"name\": \"The Nirvana Experience\",\n",
      "            \"score\": \"50\",\n",
      "            \"sort-name\": \"The Nirvana Experience\",\n",
      "            \"type\": \"Group\"\n",
      "        },\n",
      "        {\n",
      "            \"id\": \"e43ad11b-5d29-45ae-90f7-73ac47fb815d\",\n",
      "            \"life-span\": {\n",
      "                \"ended\": null\n",
      "            },\n",
      "            \"name\": \"smells like nirvana\",\n",
      "            \"score\": \"50\",\n",
      "            \"sort-name\": \"smells like nirvana\"\n",
      "        },\n",
      "        {\n",
      "            \"area\": {\n",
      "                \"id\": \"5b8a5ee5-0bb3-34cf-9a75-c27c44e341fc\",\n",
      "                \"name\": \"Belgium\",\n",
      "                \"sort-name\": \"Belgium\"\n",
      "            },\n",
      "            \"country\": \"BE\",\n",
      "            \"disambiguation\": \"Belgian\",\n",
      "            \"id\": \"1d512080-0ef7-454f-a325-9bf5ff95ce88\",\n",
      "            \"life-span\": {\n",
      "                \"ended\": null\n",
      "            },\n",
      "            \"name\": \"Come As Nirvana\",\n",
      "            \"score\": \"50\",\n",
      "            \"sort-name\": \"Come As Nirvana\",\n",
      "            \"type\": \"Group\"\n",
      "        },\n",
      "        {\n",
      "            \"id\": \"e1388435-f80d-434a-9980-f1c9f5aa9b90\",\n",
      "            \"life-span\": {\n",
      "                \"ended\": null\n",
      "            },\n",
      "            \"name\": \"Nirvana Sitar & String Group\",\n",
      "            \"score\": \"43\",\n",
      "            \"sort-name\": \"Nirvana Sitar & String Group\"\n",
      "        }\n",
      "    ],\n",
      "    \"count\": 21,\n",
      "    \"created\": \"2018-03-13T10:56:42.288Z\",\n",
      "    \"offset\": 0\n",
      "}\n"
     ]
    }
   ],
   "source": [
    "results = query_by_name(artist_url, query_type[\"simple\"], \"Nirvana\")\n",
    "pretty_print(results)"
   ]
  },
  {
   "cell_type": "code",
   "execution_count": 51,
   "metadata": {},
   "outputs": [
    {
     "data": {
      "text/plain": [
       "dict_keys(['created', 'count', 'offset', 'artists'])"
      ]
     },
     "execution_count": 51,
     "metadata": {},
     "output_type": "execute_result"
    }
   ],
   "source": [
    "results.keys()"
   ]
  },
  {
   "cell_type": "code",
   "execution_count": 52,
   "metadata": {},
   "outputs": [
    {
     "name": "stdout",
     "output_type": "stream",
     "text": [
      "\n",
      "ARTIST:\n",
      "{\n",
      "    \"aliases\": [\n",
      "        {\n",
      "            \"begin-date\": null,\n",
      "            \"end-date\": null,\n",
      "            \"locale\": null,\n",
      "            \"name\": \"Nirvana US\",\n",
      "            \"primary\": null,\n",
      "            \"sort-name\": \"Nirvana US\",\n",
      "            \"type\": null\n",
      "        }\n",
      "    ],\n",
      "    \"area\": {\n",
      "        \"id\": \"489ce91b-6658-3307-9877-795b68554c98\",\n",
      "        \"name\": \"United States\",\n",
      "        \"sort-name\": \"United States\"\n",
      "    },\n",
      "    \"begin-area\": {\n",
      "        \"id\": \"a640b45c-c173-49b1-8030-973603e895b5\",\n",
      "        \"name\": \"Aberdeen\",\n",
      "        \"sort-name\": \"Aberdeen\"\n",
      "    },\n",
      "    \"country\": \"US\",\n",
      "    \"disambiguation\": \"90s US grunge band\",\n",
      "    \"id\": \"5b11f4ce-a62d-471e-81fc-a69a8278c7da\",\n",
      "    \"life-span\": {\n",
      "        \"begin\": \"1988-01\",\n",
      "        \"end\": \"1994-04-05\",\n",
      "        \"ended\": true\n",
      "    },\n",
      "    \"name\": \"Nirvana\",\n",
      "    \"score\": \"100\",\n",
      "    \"sort-name\": \"Nirvana\",\n",
      "    \"tags\": [\n",
      "        {\n",
      "            \"count\": 9,\n",
      "            \"name\": \"rock\"\n",
      "        },\n",
      "        {\n",
      "            \"count\": 4,\n",
      "            \"name\": \"alternative rock\"\n",
      "        },\n",
      "        {\n",
      "            \"count\": 1,\n",
      "            \"name\": \"90s\"\n",
      "        },\n",
      "        {\n",
      "            \"count\": 1,\n",
      "            \"name\": \"punk\"\n",
      "        },\n",
      "        {\n",
      "            \"count\": 5,\n",
      "            \"name\": \"american\"\n",
      "        },\n",
      "        {\n",
      "            \"count\": 1,\n",
      "            \"name\": \"seattle\"\n",
      "        },\n",
      "        {\n",
      "            \"count\": 14,\n",
      "            \"name\": \"grunge\"\n",
      "        },\n",
      "        {\n",
      "            \"count\": 0,\n",
      "            \"name\": \"band\"\n",
      "        },\n",
      "        {\n",
      "            \"count\": 1,\n",
      "            \"name\": \"usa\"\n",
      "        },\n",
      "        {\n",
      "            \"count\": 0,\n",
      "            \"name\": \"alternative\"\n",
      "        },\n",
      "        {\n",
      "            \"count\": 0,\n",
      "            \"name\": \"am\\u00e9ricain\"\n",
      "        },\n",
      "        {\n",
      "            \"count\": 0,\n",
      "            \"name\": \"legendary\"\n",
      "        },\n",
      "        {\n",
      "            \"count\": 1,\n",
      "            \"name\": \"acoustic rock\"\n",
      "        },\n",
      "        {\n",
      "            \"count\": 1,\n",
      "            \"name\": \"noise rock\"\n",
      "        },\n",
      "        {\n",
      "            \"count\": 0,\n",
      "            \"name\": \"90\"\n",
      "        },\n",
      "        {\n",
      "            \"count\": 0,\n",
      "            \"name\": \"northwest\"\n",
      "        },\n",
      "        {\n",
      "            \"count\": 0,\n",
      "            \"name\": \"rock and indie\"\n",
      "        },\n",
      "        {\n",
      "            \"count\": 0,\n",
      "            \"name\": \"united states\"\n",
      "        },\n",
      "        {\n",
      "            \"count\": 0,\n",
      "            \"name\": \"nirvana\"\n",
      "        },\n",
      "        {\n",
      "            \"count\": 0,\n",
      "            \"name\": \"kurt cobain\"\n",
      "        }\n",
      "    ],\n",
      "    \"type\": \"Group\"\n",
      "}\n"
     ]
    }
   ],
   "source": [
    "print(\"\\nARTIST:\")\n",
    "pretty_print(results[\"artists\"][4])"
   ]
  },
  {
   "cell_type": "code",
   "execution_count": 53,
   "metadata": {},
   "outputs": [
    {
     "data": {
      "text/plain": [
       "'5b11f4ce-a62d-471e-81fc-a69a8278c7da'"
      ]
     },
     "execution_count": 53,
     "metadata": {},
     "output_type": "execute_result"
    }
   ],
   "source": [
    "artist_id = results[\"artists\"][4][\"id\"]\n",
    "artist_id"
   ]
  },
  {
   "cell_type": "code",
   "execution_count": 54,
   "metadata": {},
   "outputs": [
    {
     "name": "stdout",
     "output_type": "stream",
     "text": [
      "requesting http://musicbrainz.org/ws/2/artist/5b11f4ce-a62d-471e-81fc-a69a8278c7da?inc=releases&fmt=json\n",
      "\n",
      "ONE RELEASE:\n",
      "{\n",
      "  \"barcode\": \"\",\n",
      "  \"country\": \"US\",\n",
      "  \"date\": \"1990-01\",\n",
      "  \"disambiguation\": \"\",\n",
      "  \"id\": \"0444b84e-15af-47a4-810a-773258eb9395\",\n",
      "  \"packaging\": \"Cardboard/Paper Sleeve\",\n",
      "  \"packaging-id\": \"f7101ce3-0384-39ce-9fde-fbbd0044d35f\",\n",
      "  \"quality\": \"normal\",\n",
      "  \"release-events\": [\n",
      "    {\n",
      "      \"area\": {\n",
      "        \"disambiguation\": \"\",\n",
      "        \"id\": \"489ce91b-6658-3307-9877-795b68554c98\",\n",
      "        \"iso-3166-1-codes\": [\n",
      "          \"US\"\n",
      "        ],\n",
      "        \"name\": \"United States\",\n",
      "        \"sort-name\": \"United States\"\n",
      "      },\n",
      "      \"date\": \"1990-01\"\n",
      "    }\n",
      "  ],\n",
      "  \"status\": \"Official\",\n",
      "  \"status-id\": \"4e304316-386d-3409-af2e-78857eec5cfe\",\n",
      "  \"text-representation\": {\n",
      "    \"language\": \"eng\",\n",
      "    \"script\": \"Latn\"\n",
      "  },\n",
      "  \"title\": \"Never Mind the Bollocks Here\\u2019s Nirvana\"\n",
      "}\n"
     ]
    }
   ],
   "source": [
    "artist_data = query_site(artist_url, query_type[\"releases\"], artist_id)\n",
    "releases = artist_data[\"releases\"]\n",
    "print(\"\\nONE RELEASE:\")\n",
    "pretty_print(releases[0], indent=2)"
   ]
  },
  {
   "cell_type": "code",
   "execution_count": 55,
   "metadata": {},
   "outputs": [
    {
     "data": {
      "text/plain": [
       "[{'barcode': '',\n",
       "  'country': 'US',\n",
       "  'date': '1990-01',\n",
       "  'disambiguation': '',\n",
       "  'id': '0444b84e-15af-47a4-810a-773258eb9395',\n",
       "  'packaging': 'Cardboard/Paper Sleeve',\n",
       "  'packaging-id': 'f7101ce3-0384-39ce-9fde-fbbd0044d35f',\n",
       "  'quality': 'normal',\n",
       "  'release-events': [{'area': {'disambiguation': '',\n",
       "     'id': '489ce91b-6658-3307-9877-795b68554c98',\n",
       "     'iso-3166-1-codes': ['US'],\n",
       "     'name': 'United States',\n",
       "     'sort-name': 'United States'},\n",
       "    'date': '1990-01'}],\n",
       "  'status': 'Official',\n",
       "  'status-id': '4e304316-386d-3409-af2e-78857eec5cfe',\n",
       "  'text-representation': {'language': 'eng', 'script': 'Latn'},\n",
       "  'title': 'Never Mind the Bollocks Here’s Nirvana'},\n",
       " {'barcode': '5018615200826',\n",
       "  'country': 'GB',\n",
       "  'date': '1989-12',\n",
       "  'disambiguation': '',\n",
       "  'id': '180abab4-8480-4d1b-9a9c-db3d5e864390',\n",
       "  'packaging': None,\n",
       "  'packaging-id': None,\n",
       "  'quality': 'normal',\n",
       "  'release-events': [{'area': {'disambiguation': '',\n",
       "     'id': '8a754a16-0027-3a29-b6d7-2b40ea0481ed',\n",
       "     'iso-3166-1-codes': ['GB'],\n",
       "     'name': 'United Kingdom',\n",
       "     'sort-name': 'United Kingdom'},\n",
       "    'date': '1989-12'}],\n",
       "  'status': 'Official',\n",
       "  'status-id': '4e304316-386d-3409-af2e-78857eec5cfe',\n",
       "  'text-representation': {'language': 'eng', 'script': 'Latn'},\n",
       "  'title': 'Blew'},\n",
       " {'barcode': '5018615202561',\n",
       "  'country': 'GB',\n",
       "  'date': '1991-01-21',\n",
       "  'disambiguation': '',\n",
       "  'id': '1a5ad2ee-92e6-47a5-9340-25c529fc39b4',\n",
       "  'packaging': 'Cardboard/Paper Sleeve',\n",
       "  'packaging-id': 'f7101ce3-0384-39ce-9fde-fbbd0044d35f',\n",
       "  'quality': 'normal',\n",
       "  'release-events': [{'area': {'disambiguation': '',\n",
       "     'id': '8a754a16-0027-3a29-b6d7-2b40ea0481ed',\n",
       "     'iso-3166-1-codes': ['GB'],\n",
       "     'name': 'United Kingdom',\n",
       "     'sort-name': 'United Kingdom'},\n",
       "    'date': '1991-01-21'}],\n",
       "  'status': 'Official',\n",
       "  'status-id': '4e304316-386d-3409-af2e-78857eec5cfe',\n",
       "  'text-representation': {'language': 'eng', 'script': 'Latn'},\n",
       "  'title': 'Sliver'},\n",
       " {'barcode': None,\n",
       "  'country': 'PL',\n",
       "  'date': '1990',\n",
       "  'disambiguation': '',\n",
       "  'id': '202368dc-5497-47a3-953e-bfa631b2a0cb',\n",
       "  'packaging': None,\n",
       "  'packaging-id': None,\n",
       "  'quality': 'normal',\n",
       "  'release-events': [{'area': {'disambiguation': '',\n",
       "     'id': 'dd7f80c8-f017-3d01-8608-2a8c9c32b954',\n",
       "     'iso-3166-1-codes': ['PL'],\n",
       "     'name': 'Poland',\n",
       "     'sort-name': 'Poland'},\n",
       "    'date': '1990'}],\n",
       "  'status': 'Bootleg',\n",
       "  'status-id': '1156806e-d06a-38bd-83f0-cf2284a808b9',\n",
       "  'text-representation': {'language': 'eng', 'script': 'Latn'},\n",
       "  'title': 'Bleach'},\n",
       " {'barcode': None,\n",
       "  'country': 'US',\n",
       "  'date': '1990-09',\n",
       "  'disambiguation': '',\n",
       "  'id': '21c3ed4e-3961-3fa3-9541-e4f02a980858',\n",
       "  'packaging': None,\n",
       "  'packaging-id': None,\n",
       "  'quality': 'normal',\n",
       "  'release-events': [{'area': {'disambiguation': '',\n",
       "     'id': '489ce91b-6658-3307-9877-795b68554c98',\n",
       "     'iso-3166-1-codes': ['US'],\n",
       "     'name': 'United States',\n",
       "     'sort-name': 'United States'},\n",
       "    'date': '1990-09'}],\n",
       "  'status': 'Official',\n",
       "  'status-id': '4e304316-386d-3409-af2e-78857eec5cfe',\n",
       "  'text-representation': {'language': 'eng', 'script': 'Latn'},\n",
       "  'title': 'Sliver'},\n",
       " {'barcode': None,\n",
       "  'country': 'US',\n",
       "  'date': '1988-11',\n",
       "  'disambiguation': '',\n",
       "  'id': '2c84c9b3-d1d4-48c0-a825-a360f26a5dde',\n",
       "  'packaging': None,\n",
       "  'packaging-id': None,\n",
       "  'quality': 'normal',\n",
       "  'release-events': [{'area': {'disambiguation': '',\n",
       "     'id': '489ce91b-6658-3307-9877-795b68554c98',\n",
       "     'iso-3166-1-codes': ['US'],\n",
       "     'name': 'United States',\n",
       "     'sort-name': 'United States'},\n",
       "    'date': '1988-11'}],\n",
       "  'status': 'Official',\n",
       "  'status-id': '4e304316-386d-3409-af2e-78857eec5cfe',\n",
       "  'text-representation': {'language': 'eng', 'script': 'Latn'},\n",
       "  'title': 'Love Buzz / Big Cheese'},\n",
       " {'barcode': None,\n",
       "  'country': 'US',\n",
       "  'date': '1991-09-10',\n",
       "  'disambiguation': '',\n",
       "  'id': '2f03daed-36e6-4b17-8df3-6dc49556f438',\n",
       "  'packaging': None,\n",
       "  'packaging-id': None,\n",
       "  'quality': 'normal',\n",
       "  'release-events': [{'area': {'disambiguation': '',\n",
       "     'id': '489ce91b-6658-3307-9877-795b68554c98',\n",
       "     'iso-3166-1-codes': ['US'],\n",
       "     'name': 'United States',\n",
       "     'sort-name': 'United States'},\n",
       "    'date': '1991-09-10'}],\n",
       "  'status': 'Official',\n",
       "  'status-id': '4e304316-386d-3409-af2e-78857eec5cfe',\n",
       "  'text-representation': {'language': 'eng', 'script': 'Latn'},\n",
       "  'title': 'Smells Like Teen Spirit'},\n",
       " {'barcode': '720642167328',\n",
       "  'country': 'XE',\n",
       "  'date': '1991-09-10',\n",
       "  'disambiguation': '',\n",
       "  'id': '3abad285-fd57-4709-9f82-572b9c1ae051',\n",
       "  'packaging': 'Slim Jewel Case',\n",
       "  'packaging-id': '36327bc2-f691-3d66-80e5-bd03cec6060a',\n",
       "  'quality': 'normal',\n",
       "  'release-events': [{'area': {'disambiguation': '',\n",
       "     'id': '89a675c2-3e37-3518-b83c-418bad59a85a',\n",
       "     'iso-3166-1-codes': ['XE'],\n",
       "     'name': 'Europe',\n",
       "     'sort-name': 'Europe'},\n",
       "    'date': '1991-09-10'}],\n",
       "  'status': 'Official',\n",
       "  'status-id': '4e304316-386d-3409-af2e-78857eec5cfe',\n",
       "  'text-representation': {'language': 'eng', 'script': 'Latn'},\n",
       "  'title': 'Smells Like Teen Spirit'},\n",
       " {'barcode': None,\n",
       "  'country': 'US',\n",
       "  'date': '1991-06',\n",
       "  'disambiguation': '',\n",
       "  'id': '3fce74e6-2898-478e-81b3-c72a8fb4cb89',\n",
       "  'packaging': None,\n",
       "  'packaging-id': None,\n",
       "  'quality': 'normal',\n",
       "  'release-events': [{'area': {'disambiguation': '',\n",
       "     'id': '489ce91b-6658-3307-9877-795b68554c98',\n",
       "     'iso-3166-1-codes': ['US'],\n",
       "     'name': 'United States',\n",
       "     'sort-name': 'United States'},\n",
       "    'date': '1991-06'}],\n",
       "  'status': 'Official',\n",
       "  'status-id': '4e304316-386d-3409-af2e-78857eec5cfe',\n",
       "  'text-representation': {'language': 'eng', 'script': 'Latn'},\n",
       "  'title': 'Here She Comes Now / Venus in Furs'},\n",
       " {'barcode': '720642167328',\n",
       "  'country': 'DE',\n",
       "  'date': '1991-09-10',\n",
       "  'disambiguation': '',\n",
       "  'id': '68f9fe0a-23c2-3975-8310-7f675b4ec0e6',\n",
       "  'packaging': None,\n",
       "  'packaging-id': None,\n",
       "  'quality': 'normal',\n",
       "  'release-events': [{'area': {'disambiguation': '',\n",
       "     'id': '85752fda-13c4-31a3-bee5-0e5cb1f51dad',\n",
       "     'iso-3166-1-codes': ['DE'],\n",
       "     'name': 'Germany',\n",
       "     'sort-name': 'Germany'},\n",
       "    'date': '1991-09-10'}],\n",
       "  'status': 'Official',\n",
       "  'status-id': '4e304316-386d-3409-af2e-78857eec5cfe',\n",
       "  'text-representation': {'language': 'eng', 'script': 'Latn'},\n",
       "  'title': 'Smells Like Teen Spirit'},\n",
       " {'barcode': '720642167328',\n",
       "  'country': 'US',\n",
       "  'date': '1991-09-10',\n",
       "  'disambiguation': '',\n",
       "  'id': '6a3e3fe7-3cc5-3a6d-b3aa-6fbb12d5b9b2',\n",
       "  'packaging': 'Digipak',\n",
       "  'packaging-id': '8f931351-d2e2-310f-afc6-37b89ddba246',\n",
       "  'quality': 'normal',\n",
       "  'release-events': [{'area': {'disambiguation': '',\n",
       "     'id': '489ce91b-6658-3307-9877-795b68554c98',\n",
       "     'iso-3166-1-codes': ['US'],\n",
       "     'name': 'United States',\n",
       "     'sort-name': 'United States'},\n",
       "    'date': '1991-09-10'}],\n",
       "  'status': 'Official',\n",
       "  'status-id': '4e304316-386d-3409-af2e-78857eec5cfe',\n",
       "  'text-representation': {'language': 'eng', 'script': 'Latn'},\n",
       "  'title': 'Smells Like Teen Spirit'},\n",
       " {'barcode': '098787003420',\n",
       "  'country': 'US',\n",
       "  'date': '1989-06-01',\n",
       "  'disambiguation': '',\n",
       "  'id': '7d166a44-cfb5-4b08-aacb-6863bbe677d6',\n",
       "  'packaging': 'Jewel Case',\n",
       "  'packaging-id': 'ec27701a-4a22-37f4-bfac-6616e0f9750a',\n",
       "  'quality': 'normal',\n",
       "  'release-events': [{'area': {'disambiguation': '',\n",
       "     'id': '489ce91b-6658-3307-9877-795b68554c98',\n",
       "     'iso-3166-1-codes': ['US'],\n",
       "     'name': 'United States',\n",
       "     'sort-name': 'United States'},\n",
       "    'date': '1989-06-01'}],\n",
       "  'status': 'Official',\n",
       "  'status-id': '4e304316-386d-3409-af2e-78857eec5cfe',\n",
       "  'text-representation': {'language': 'eng', 'script': 'Latn'},\n",
       "  'title': 'Bleach'},\n",
       " {'barcode': '5018615202523',\n",
       "  'country': 'GB',\n",
       "  'date': '1991-01',\n",
       "  'disambiguation': '',\n",
       "  'id': '7f183c32-4a79-4873-ac38-215cde83e0ce',\n",
       "  'packaging': 'Slim Jewel Case',\n",
       "  'packaging-id': '36327bc2-f691-3d66-80e5-bd03cec6060a',\n",
       "  'quality': 'normal',\n",
       "  'release-events': [{'area': {'disambiguation': '',\n",
       "     'id': '8a754a16-0027-3a29-b6d7-2b40ea0481ed',\n",
       "     'iso-3166-1-codes': ['GB'],\n",
       "     'name': 'United Kingdom',\n",
       "     'sort-name': 'United Kingdom'},\n",
       "    'date': '1991-01'}],\n",
       "  'status': 'Official',\n",
       "  'status-id': '4e304316-386d-3409-af2e-78857eec5cfe',\n",
       "  'text-representation': {'language': 'eng', 'script': 'Latn'},\n",
       "  'title': 'Sliver'},\n",
       " {'barcode': None,\n",
       "  'country': 'US',\n",
       "  'date': '1991-09-10',\n",
       "  'disambiguation': '',\n",
       "  'id': '8d771949-da8f-36df-8d4a-c3cb194cf21d',\n",
       "  'packaging': None,\n",
       "  'packaging-id': None,\n",
       "  'quality': 'normal',\n",
       "  'release-events': [{'area': {'disambiguation': '',\n",
       "     'id': '489ce91b-6658-3307-9877-795b68554c98',\n",
       "     'iso-3166-1-codes': ['US'],\n",
       "     'name': 'United States',\n",
       "     'sort-name': 'United States'},\n",
       "    'date': '1991-09-10'}],\n",
       "  'status': 'Official',\n",
       "  'status-id': '4e304316-386d-3409-af2e-78857eec5cfe',\n",
       "  'text-representation': {'language': 'eng', 'script': 'Latn'},\n",
       "  'title': 'Smells Like Teen Spirit'},\n",
       " {'barcode': '5018615200819',\n",
       "  'country': 'GB',\n",
       "  'date': '1989-12',\n",
       "  'disambiguation': '',\n",
       "  'id': 'a5829c6e-ad99-38cf-bf98-2dcbee359c09',\n",
       "  'packaging': None,\n",
       "  'packaging-id': None,\n",
       "  'quality': 'normal',\n",
       "  'release-events': [{'area': {'disambiguation': '',\n",
       "     'id': '8a754a16-0027-3a29-b6d7-2b40ea0481ed',\n",
       "     'iso-3166-1-codes': ['GB'],\n",
       "     'name': 'United Kingdom',\n",
       "     'sort-name': 'United Kingdom'},\n",
       "    'date': '1989-12'}],\n",
       "  'status': 'Official',\n",
       "  'status-id': '4e304316-386d-3409-af2e-78857eec5cfe',\n",
       "  'text-representation': {'language': 'eng', 'script': 'Latn'},\n",
       "  'title': 'Blew'},\n",
       " {'barcode': '',\n",
       "  'country': 'US',\n",
       "  'date': '1991-01',\n",
       "  'disambiguation': '',\n",
       "  'id': 'a8b2b2e8-f366-4903-afe8-d4ca1332c13d',\n",
       "  'packaging': None,\n",
       "  'packaging-id': None,\n",
       "  'quality': 'normal',\n",
       "  'release-events': [{'area': {'disambiguation': '',\n",
       "     'id': '489ce91b-6658-3307-9877-795b68554c98',\n",
       "     'iso-3166-1-codes': ['US'],\n",
       "     'name': 'United States',\n",
       "     'sort-name': 'United States'},\n",
       "    'date': '1991-01'}],\n",
       "  'status': 'Official',\n",
       "  'status-id': '4e304316-386d-3409-af2e-78857eec5cfe',\n",
       "  'text-representation': {'language': 'eng', 'script': 'Latn'},\n",
       "  'title': 'Candy / Molly’s Lips'},\n",
       " {'barcode': '008811929121',\n",
       "  'country': None,\n",
       "  'date': '1989',\n",
       "  'disambiguation': '',\n",
       "  'id': 'a96b59a5-4185-4d87-899a-a0d944385811',\n",
       "  'packaging': 'Jewel Case',\n",
       "  'packaging-id': 'ec27701a-4a22-37f4-bfac-6616e0f9750a',\n",
       "  'quality': 'normal',\n",
       "  'release-events': [{'area': None, 'date': '1989'}],\n",
       "  'status': 'Official',\n",
       "  'status-id': '4e304316-386d-3409-af2e-78857eec5cfe',\n",
       "  'text-representation': {'language': 'eng', 'script': 'Latn'},\n",
       "  'title': 'Bleach'},\n",
       " {'barcode': None,\n",
       "  'country': 'US',\n",
       "  'date': '1990-09',\n",
       "  'disambiguation': '',\n",
       "  'id': 'acebbf06-a948-46e7-ae3c-730894e08067',\n",
       "  'packaging': None,\n",
       "  'packaging-id': None,\n",
       "  'quality': 'normal',\n",
       "  'release-events': [{'area': {'disambiguation': '',\n",
       "     'id': '489ce91b-6658-3307-9877-795b68554c98',\n",
       "     'iso-3166-1-codes': ['US'],\n",
       "     'name': 'United States',\n",
       "     'sort-name': 'United States'},\n",
       "    'date': '1990-09'}],\n",
       "  'status': 'Official',\n",
       "  'status-id': '4e304316-386d-3409-af2e-78857eec5cfe',\n",
       "  'text-representation': {'language': 'eng', 'script': 'Latn'},\n",
       "  'title': 'Sliver'},\n",
       " {'barcode': '5021509000525',\n",
       "  'country': 'GB',\n",
       "  'date': '1991-09-10',\n",
       "  'disambiguation': '',\n",
       "  'id': 'b0dd957a-4dd0-40e3-920c-3aac782fad14',\n",
       "  'packaging': 'Digipak',\n",
       "  'packaging-id': '8f931351-d2e2-310f-afc6-37b89ddba246',\n",
       "  'quality': 'normal',\n",
       "  'release-events': [{'area': {'disambiguation': '',\n",
       "     'id': '8a754a16-0027-3a29-b6d7-2b40ea0481ed',\n",
       "     'iso-3166-1-codes': ['GB'],\n",
       "     'name': 'United Kingdom',\n",
       "     'sort-name': 'United Kingdom'},\n",
       "    'date': '1991-09-10'}],\n",
       "  'status': 'Official',\n",
       "  'status-id': '4e304316-386d-3409-af2e-78857eec5cfe',\n",
       "  'text-representation': {'language': 'eng', 'script': 'Latn'},\n",
       "  'title': 'Smells Like Teen Spirit'},\n",
       " {'barcode': '720642442524',\n",
       "  'country': 'XE',\n",
       "  'date': '1991-09-23',\n",
       "  'disambiguation': '',\n",
       "  'id': 'b52a8f31-b5ab-34e9-92f4-f5b7110220f0',\n",
       "  'packaging': 'Jewel Case',\n",
       "  'packaging-id': 'ec27701a-4a22-37f4-bfac-6616e0f9750a',\n",
       "  'quality': 'normal',\n",
       "  'release-events': [{'area': {'disambiguation': '',\n",
       "     'id': '89a675c2-3e37-3518-b83c-418bad59a85a',\n",
       "     'iso-3166-1-codes': ['XE'],\n",
       "     'name': 'Europe',\n",
       "     'sort-name': 'Europe'},\n",
       "    'date': '1991-09-23'}],\n",
       "  'status': 'Official',\n",
       "  'status-id': '4e304316-386d-3409-af2e-78857eec5cfe',\n",
       "  'text-representation': {'language': 'eng', 'script': 'Latn'},\n",
       "  'title': 'Nevermind'},\n",
       " {'barcode': '5018615200628',\n",
       "  'country': 'GB',\n",
       "  'date': '1989',\n",
       "  'disambiguation': '',\n",
       "  'id': 'd3d44548-b2ed-3ddc-a9e0-3f5ee544c1c9',\n",
       "  'packaging': 'Jewel Case',\n",
       "  'packaging-id': 'ec27701a-4a22-37f4-bfac-6616e0f9750a',\n",
       "  'quality': 'normal',\n",
       "  'release-events': [{'area': {'disambiguation': '',\n",
       "     'id': '8a754a16-0027-3a29-b6d7-2b40ea0481ed',\n",
       "     'iso-3166-1-codes': ['GB'],\n",
       "     'name': 'United Kingdom',\n",
       "     'sort-name': 'United Kingdom'},\n",
       "    'date': '1989'}],\n",
       "  'status': 'Official',\n",
       "  'status-id': '4e304316-386d-3409-af2e-78857eec5cfe',\n",
       "  'text-representation': {'language': 'eng', 'script': 'Latn'},\n",
       "  'title': 'Bleach'},\n",
       " {'barcode': None,\n",
       "  'country': 'US',\n",
       "  'date': '1991-09-10',\n",
       "  'disambiguation': '',\n",
       "  'id': 'e1c5d5fa-b1cb-388b-9027-055aa29a382b',\n",
       "  'packaging': None,\n",
       "  'packaging-id': None,\n",
       "  'quality': 'normal',\n",
       "  'release-events': [{'area': {'disambiguation': '',\n",
       "     'id': '489ce91b-6658-3307-9877-795b68554c98',\n",
       "     'iso-3166-1-codes': ['US'],\n",
       "     'name': 'United States',\n",
       "     'sort-name': 'United States'},\n",
       "    'date': '1991-09-10'}],\n",
       "  'status': 'Official',\n",
       "  'status-id': '4e304316-386d-3409-af2e-78857eec5cfe',\n",
       "  'text-representation': {'language': 'eng', 'script': 'Latn'},\n",
       "  'title': 'Smells Like Teen Spirit'},\n",
       " {'barcode': None,\n",
       "  'country': 'US',\n",
       "  'date': '1989-08-08',\n",
       "  'disambiguation': '',\n",
       "  'id': 'e5fa1cc5-3693-455a-821f-5ace2690aff1',\n",
       "  'packaging': None,\n",
       "  'packaging-id': None,\n",
       "  'quality': 'normal',\n",
       "  'release-events': [{'area': {'disambiguation': '',\n",
       "     'id': '489ce91b-6658-3307-9877-795b68554c98',\n",
       "     'iso-3166-1-codes': ['US'],\n",
       "     'name': 'United States',\n",
       "     'sort-name': 'United States'},\n",
       "    'date': '1989-08-08'}],\n",
       "  'status': 'Official',\n",
       "  'status-id': '4e304316-386d-3409-af2e-78857eec5cfe',\n",
       "  'text-representation': {'language': 'eng', 'script': 'Latn'},\n",
       "  'title': 'Bleach'},\n",
       " {'barcode': '',\n",
       "  'country': 'US',\n",
       "  'date': '1990-09',\n",
       "  'disambiguation': '',\n",
       "  'id': 'eaff5199-b86c-4bca-a4b5-c7c33e10e88d',\n",
       "  'packaging': 'Cardboard/Paper Sleeve',\n",
       "  'packaging-id': 'f7101ce3-0384-39ce-9fde-fbbd0044d35f',\n",
       "  'quality': 'normal',\n",
       "  'release-events': [{'area': {'disambiguation': '',\n",
       "     'id': '489ce91b-6658-3307-9877-795b68554c98',\n",
       "     'iso-3166-1-codes': ['US'],\n",
       "     'name': 'United States',\n",
       "     'sort-name': 'United States'},\n",
       "    'date': '1990-09'}],\n",
       "  'status': 'Official',\n",
       "  'status-id': '4e304316-386d-3409-af2e-78857eec5cfe',\n",
       "  'text-representation': {'language': 'eng', 'script': 'Latn'},\n",
       "  'title': 'Sliver'},\n",
       " {'barcode': '720642442524',\n",
       "  'country': 'AU',\n",
       "  'date': '1991-09-24',\n",
       "  'disambiguation': '',\n",
       "  'id': 'eccae410-7577-4daa-b602-92d305828331',\n",
       "  'packaging': 'Jewel Case',\n",
       "  'packaging-id': 'ec27701a-4a22-37f4-bfac-6616e0f9750a',\n",
       "  'quality': 'normal',\n",
       "  'release-events': [{'area': {'disambiguation': '',\n",
       "     'id': '106e0bec-b638-3b37-b731-f53d507dc00e',\n",
       "     'iso-3166-1-codes': ['AU'],\n",
       "     'name': 'Australia',\n",
       "     'sort-name': 'Australia'},\n",
       "    'date': '1991-09-24'}],\n",
       "  'status': 'Official',\n",
       "  'status-id': '4e304316-386d-3409-af2e-78857eec5cfe',\n",
       "  'text-representation': {'language': 'eng', 'script': 'Latn'},\n",
       "  'title': 'Nevermind'}]"
      ]
     },
     "execution_count": 55,
     "metadata": {},
     "output_type": "execute_result"
    }
   ],
   "source": [
    "releases"
   ]
  },
  {
   "cell_type": "code",
   "execution_count": 56,
   "metadata": {},
   "outputs": [
    {
     "name": "stdout",
     "output_type": "stream",
     "text": [
      "\n",
      "ALL TITLES:\n",
      "Never Mind the Bollocks Here’s Nirvana\n",
      "Blew\n",
      "Sliver\n",
      "Bleach\n",
      "Sliver\n",
      "Love Buzz / Big Cheese\n",
      "Smells Like Teen Spirit\n",
      "Smells Like Teen Spirit\n",
      "Here She Comes Now / Venus in Furs\n",
      "Smells Like Teen Spirit\n",
      "Smells Like Teen Spirit\n",
      "Bleach\n",
      "Sliver\n",
      "Smells Like Teen Spirit\n",
      "Blew\n",
      "Candy / Molly’s Lips\n",
      "Bleach\n",
      "Sliver\n",
      "Smells Like Teen Spirit\n",
      "Nevermind\n",
      "Bleach\n",
      "Smells Like Teen Spirit\n",
      "Bleach\n",
      "Sliver\n",
      "Nevermind\n"
     ]
    }
   ],
   "source": [
    "release_titles = [r[\"title\"] for r in releases]\n",
    "print(\"\\nALL TITLES:\")\n",
    "for t in release_titles:\n",
    "        print(t)"
   ]
  },
  {
   "cell_type": "markdown",
   "metadata": {},
   "source": [
    "#### Using Pandas"
   ]
  },
  {
   "cell_type": "markdown",
   "metadata": {},
   "source": [
    "http://pandas.pydata.org/pandas-docs/stable/io.html#io-json-reader  "
   ]
  },
  {
   "cell_type": "code",
   "execution_count": 57,
   "metadata": {},
   "outputs": [
    {
     "data": {
      "text/html": [
       "<div>\n",
       "<style scoped>\n",
       "    .dataframe tbody tr th:only-of-type {\n",
       "        vertical-align: middle;\n",
       "    }\n",
       "\n",
       "    .dataframe tbody tr th {\n",
       "        vertical-align: top;\n",
       "    }\n",
       "\n",
       "    .dataframe thead th {\n",
       "        text-align: right;\n",
       "    }\n",
       "</style>\n",
       "<table border=\"1\" class=\"dataframe\">\n",
       "  <thead>\n",
       "    <tr style=\"text-align: right;\">\n",
       "      <th></th>\n",
       "      <th>assignee</th>\n",
       "      <th>assignees</th>\n",
       "      <th>author_association</th>\n",
       "      <th>body</th>\n",
       "      <th>closed_at</th>\n",
       "      <th>comments</th>\n",
       "      <th>comments_url</th>\n",
       "      <th>created_at</th>\n",
       "      <th>events_url</th>\n",
       "      <th>html_url</th>\n",
       "      <th>...</th>\n",
       "      <th>locked</th>\n",
       "      <th>milestone</th>\n",
       "      <th>number</th>\n",
       "      <th>pull_request</th>\n",
       "      <th>repository_url</th>\n",
       "      <th>state</th>\n",
       "      <th>title</th>\n",
       "      <th>updated_at</th>\n",
       "      <th>url</th>\n",
       "      <th>user</th>\n",
       "    </tr>\n",
       "  </thead>\n",
       "  <tbody>\n",
       "    <tr>\n",
       "      <th>0</th>\n",
       "      <td>NaN</td>\n",
       "      <td>[]</td>\n",
       "      <td>NONE</td>\n",
       "      <td>#### Code Sample,\\r\\n\\r\\n```python\\r\\n\\r\\nIn [...</td>\n",
       "      <td>NaT</td>\n",
       "      <td>0</td>\n",
       "      <td>https://api.github.com/repos/pandas-dev/pandas...</td>\n",
       "      <td>2018-03-13 10:48:30</td>\n",
       "      <td>https://api.github.com/repos/pandas-dev/pandas...</td>\n",
       "      <td>https://github.com/pandas-dev/pandas/issues/20326</td>\n",
       "      <td>...</td>\n",
       "      <td>False</td>\n",
       "      <td>NaN</td>\n",
       "      <td>20326</td>\n",
       "      <td>NaN</td>\n",
       "      <td>https://api.github.com/repos/pandas-dev/pandas</td>\n",
       "      <td>open</td>\n",
       "      <td>Boolean setting on mixed-types with a non np.n...</td>\n",
       "      <td>2018-03-13 10:48:30</td>\n",
       "      <td>https://api.github.com/repos/pandas-dev/pandas...</td>\n",
       "      <td>{'login': 'nino-rasic', 'id': 20838809, 'avata...</td>\n",
       "    </tr>\n",
       "    <tr>\n",
       "      <th>1</th>\n",
       "      <td>NaN</td>\n",
       "      <td>[]</td>\n",
       "      <td>CONTRIBUTOR</td>\n",
       "      <td>Checklist for the pandas documentation sprint ...</td>\n",
       "      <td>NaT</td>\n",
       "      <td>0</td>\n",
       "      <td>https://api.github.com/repos/pandas-dev/pandas...</td>\n",
       "      <td>2018-03-13 09:36:44</td>\n",
       "      <td>https://api.github.com/repos/pandas-dev/pandas...</td>\n",
       "      <td>https://github.com/pandas-dev/pandas/pull/20325</td>\n",
       "      <td>...</td>\n",
       "      <td>False</td>\n",
       "      <td>NaN</td>\n",
       "      <td>20325</td>\n",
       "      <td>{'url': 'https://api.github.com/repos/pandas-d...</td>\n",
       "      <td>https://api.github.com/repos/pandas-dev/pandas</td>\n",
       "      <td>open</td>\n",
       "      <td>DOC: update the Period.start_time attribute do...</td>\n",
       "      <td>2018-03-13 11:44:14</td>\n",
       "      <td>https://api.github.com/repos/pandas-dev/pandas...</td>\n",
       "      <td>{'login': 'hammadmashkoor', 'id': 28043522, 'a...</td>\n",
       "    </tr>\n",
       "    <tr>\n",
       "      <th>2</th>\n",
       "      <td>NaN</td>\n",
       "      <td>[]</td>\n",
       "      <td>OWNER</td>\n",
       "      <td>In several docstring PRs for Period datetime p...</td>\n",
       "      <td>NaT</td>\n",
       "      <td>2</td>\n",
       "      <td>https://api.github.com/repos/pandas-dev/pandas...</td>\n",
       "      <td>2018-03-13 09:06:59</td>\n",
       "      <td>https://api.github.com/repos/pandas-dev/pandas...</td>\n",
       "      <td>https://github.com/pandas-dev/pandas/issues/20324</td>\n",
       "      <td>...</td>\n",
       "      <td>False</td>\n",
       "      <td>NaN</td>\n",
       "      <td>20324</td>\n",
       "      <td>NaN</td>\n",
       "      <td>https://api.github.com/repos/pandas-dev/pandas</td>\n",
       "      <td>open</td>\n",
       "      <td>API: which \"anchor point\" for datetime propert...</td>\n",
       "      <td>2018-03-13 09:34:03</td>\n",
       "      <td>https://api.github.com/repos/pandas-dev/pandas...</td>\n",
       "      <td>{'login': 'jorisvandenbossche', 'id': 1020496,...</td>\n",
       "    </tr>\n",
       "    <tr>\n",
       "      <th>3</th>\n",
       "      <td>NaN</td>\n",
       "      <td>[]</td>\n",
       "      <td>NONE</td>\n",
       "      <td>Checklist for the pandas documentation sprint ...</td>\n",
       "      <td>NaT</td>\n",
       "      <td>1</td>\n",
       "      <td>https://api.github.com/repos/pandas-dev/pandas...</td>\n",
       "      <td>2018-03-12 20:52:17</td>\n",
       "      <td>https://api.github.com/repos/pandas-dev/pandas...</td>\n",
       "      <td>https://github.com/pandas-dev/pandas/pull/20316</td>\n",
       "      <td>...</td>\n",
       "      <td>False</td>\n",
       "      <td>NaN</td>\n",
       "      <td>20316</td>\n",
       "      <td>{'url': 'https://api.github.com/repos/pandas-d...</td>\n",
       "      <td>https://api.github.com/repos/pandas-dev/pandas</td>\n",
       "      <td>open</td>\n",
       "      <td>DOC: update the day_name function docstring</td>\n",
       "      <td>2018-03-13 02:11:41</td>\n",
       "      <td>https://api.github.com/repos/pandas-dev/pandas...</td>\n",
       "      <td>{'login': 'NeehaK', 'id': 37204553, 'avatar_ur...</td>\n",
       "    </tr>\n",
       "    <tr>\n",
       "      <th>4</th>\n",
       "      <td>NaN</td>\n",
       "      <td>[]</td>\n",
       "      <td>NONE</td>\n",
       "      <td>Checklist for the pandas documentation sprint ...</td>\n",
       "      <td>NaT</td>\n",
       "      <td>2</td>\n",
       "      <td>https://api.github.com/repos/pandas-dev/pandas...</td>\n",
       "      <td>2018-03-12 20:36:37</td>\n",
       "      <td>https://api.github.com/repos/pandas-dev/pandas...</td>\n",
       "      <td>https://github.com/pandas-dev/pandas/pull/20315</td>\n",
       "      <td>...</td>\n",
       "      <td>False</td>\n",
       "      <td>NaN</td>\n",
       "      <td>20315</td>\n",
       "      <td>{'url': 'https://api.github.com/repos/pandas-d...</td>\n",
       "      <td>https://api.github.com/repos/pandas-dev/pandas</td>\n",
       "      <td>open</td>\n",
       "      <td>DOC: update the pandas.Series.add_suffix docst...</td>\n",
       "      <td>2018-03-13 10:17:07</td>\n",
       "      <td>https://api.github.com/repos/pandas-dev/pandas...</td>\n",
       "      <td>{'login': 'astrastefania', 'id': 1804766, 'ava...</td>\n",
       "    </tr>\n",
       "  </tbody>\n",
       "</table>\n",
       "<p>5 rows × 23 columns</p>\n",
       "</div>"
      ],
      "text/plain": [
       "   assignee assignees author_association  \\\n",
       "0       NaN        []               NONE   \n",
       "1       NaN        []        CONTRIBUTOR   \n",
       "2       NaN        []              OWNER   \n",
       "3       NaN        []               NONE   \n",
       "4       NaN        []               NONE   \n",
       "\n",
       "                                                body closed_at  comments  \\\n",
       "0  #### Code Sample,\\r\\n\\r\\n```python\\r\\n\\r\\nIn [...       NaT         0   \n",
       "1  Checklist for the pandas documentation sprint ...       NaT         0   \n",
       "2  In several docstring PRs for Period datetime p...       NaT         2   \n",
       "3  Checklist for the pandas documentation sprint ...       NaT         1   \n",
       "4  Checklist for the pandas documentation sprint ...       NaT         2   \n",
       "\n",
       "                                        comments_url          created_at  \\\n",
       "0  https://api.github.com/repos/pandas-dev/pandas... 2018-03-13 10:48:30   \n",
       "1  https://api.github.com/repos/pandas-dev/pandas... 2018-03-13 09:36:44   \n",
       "2  https://api.github.com/repos/pandas-dev/pandas... 2018-03-13 09:06:59   \n",
       "3  https://api.github.com/repos/pandas-dev/pandas... 2018-03-12 20:52:17   \n",
       "4  https://api.github.com/repos/pandas-dev/pandas... 2018-03-12 20:36:37   \n",
       "\n",
       "                                          events_url  \\\n",
       "0  https://api.github.com/repos/pandas-dev/pandas...   \n",
       "1  https://api.github.com/repos/pandas-dev/pandas...   \n",
       "2  https://api.github.com/repos/pandas-dev/pandas...   \n",
       "3  https://api.github.com/repos/pandas-dev/pandas...   \n",
       "4  https://api.github.com/repos/pandas-dev/pandas...   \n",
       "\n",
       "                                            html_url  \\\n",
       "0  https://github.com/pandas-dev/pandas/issues/20326   \n",
       "1    https://github.com/pandas-dev/pandas/pull/20325   \n",
       "2  https://github.com/pandas-dev/pandas/issues/20324   \n",
       "3    https://github.com/pandas-dev/pandas/pull/20316   \n",
       "4    https://github.com/pandas-dev/pandas/pull/20315   \n",
       "\n",
       "                         ...                          locked milestone number  \\\n",
       "0                        ...                           False       NaN  20326   \n",
       "1                        ...                           False       NaN  20325   \n",
       "2                        ...                           False       NaN  20324   \n",
       "3                        ...                           False       NaN  20316   \n",
       "4                        ...                           False       NaN  20315   \n",
       "\n",
       "                                        pull_request  \\\n",
       "0                                                NaN   \n",
       "1  {'url': 'https://api.github.com/repos/pandas-d...   \n",
       "2                                                NaN   \n",
       "3  {'url': 'https://api.github.com/repos/pandas-d...   \n",
       "4  {'url': 'https://api.github.com/repos/pandas-d...   \n",
       "\n",
       "                                   repository_url  state  \\\n",
       "0  https://api.github.com/repos/pandas-dev/pandas   open   \n",
       "1  https://api.github.com/repos/pandas-dev/pandas   open   \n",
       "2  https://api.github.com/repos/pandas-dev/pandas   open   \n",
       "3  https://api.github.com/repos/pandas-dev/pandas   open   \n",
       "4  https://api.github.com/repos/pandas-dev/pandas   open   \n",
       "\n",
       "                                               title          updated_at  \\\n",
       "0  Boolean setting on mixed-types with a non np.n... 2018-03-13 10:48:30   \n",
       "1  DOC: update the Period.start_time attribute do... 2018-03-13 11:44:14   \n",
       "2  API: which \"anchor point\" for datetime propert... 2018-03-13 09:34:03   \n",
       "3        DOC: update the day_name function docstring 2018-03-13 02:11:41   \n",
       "4  DOC: update the pandas.Series.add_suffix docst... 2018-03-13 10:17:07   \n",
       "\n",
       "                                                 url  \\\n",
       "0  https://api.github.com/repos/pandas-dev/pandas...   \n",
       "1  https://api.github.com/repos/pandas-dev/pandas...   \n",
       "2  https://api.github.com/repos/pandas-dev/pandas...   \n",
       "3  https://api.github.com/repos/pandas-dev/pandas...   \n",
       "4  https://api.github.com/repos/pandas-dev/pandas...   \n",
       "\n",
       "                                                user  \n",
       "0  {'login': 'nino-rasic', 'id': 20838809, 'avata...  \n",
       "1  {'login': 'hammadmashkoor', 'id': 28043522, 'a...  \n",
       "2  {'login': 'jorisvandenbossche', 'id': 1020496,...  \n",
       "3  {'login': 'NeehaK', 'id': 37204553, 'avatar_ur...  \n",
       "4  {'login': 'astrastefania', 'id': 1804766, 'ava...  \n",
       "\n",
       "[5 rows x 23 columns]"
      ]
     },
     "execution_count": 57,
     "metadata": {},
     "output_type": "execute_result"
    }
   ],
   "source": [
    "df_json = pd.read_json('https://api.github.com/repos/pydata/pandas/issues?per_page=5')\n",
    "df_json"
   ]
  },
  {
   "cell_type": "markdown",
   "metadata": {},
   "source": [
    "## Accessing YAML"
   ]
  },
  {
   "cell_type": "code",
   "execution_count": 111,
   "metadata": {},
   "outputs": [],
   "source": [
    "import yaml"
   ]
  },
  {
   "cell_type": "code",
   "execution_count": 115,
   "metadata": {},
   "outputs": [
    {
     "name": "stdout",
     "output_type": "stream",
     "text": [
      "[{'martin': {'name': \"Martin D'vloper\", 'job': 'Developer', 'skills': ['python', 'perl', 'pascal']}}, {'tabitha': {'name': 'Tabitha Bitumen', 'job': 'Developer', 'skills': ['lisp', 'fortran', 'erlang']}}]\n"
     ]
    }
   ],
   "source": [
    "with open(datapath / 'simple.yaml', 'r') as stream:\n",
    "    try:\n",
    "        print(yaml.load(stream))\n",
    "    except yaml.YAMLError as exc:\n",
    "        print(exc)"
   ]
  },
  {
   "cell_type": "markdown",
   "metadata": {},
   "source": [
    "## Accessing XML"
   ]
  },
  {
   "cell_type": "markdown",
   "metadata": {},
   "source": [
    "https://docs.python.org/3/library/urllib.html\n",
    "\n",
    "https://docs.python.org/3/library/xml.etree.elementtree.html\n",
    "\n",
    "http://lxml.de/\n",
    "\n",
    "http://www.w3schools.com/xml/xml_examples.asp"
   ]
  },
  {
   "cell_type": "code",
   "execution_count": 58,
   "metadata": {},
   "outputs": [],
   "source": [
    "from xml.dom import minidom\n",
    "#from xml.etree import ElementTree as ET\n",
    "from lxml import etree as ET #Supports xpath syntax\n",
    "from collections import defaultdict\n",
    "from pprint import pprint"
   ]
  },
  {
   "cell_type": "code",
   "execution_count": 59,
   "metadata": {},
   "outputs": [],
   "source": [
    "url = 'http://www.w3schools.com/xml/cd_catalog.xml'\n",
    "xml_page = urllib.request.urlopen(url).read()\n",
    "e = ET.XML(xml_page)"
   ]
  },
  {
   "cell_type": "code",
   "execution_count": 60,
   "metadata": {},
   "outputs": [],
   "source": [
    "def etree_to_dict(t):\n",
    "    d = {t.tag: {} if t.attrib else None}\n",
    "    children = list(t)\n",
    "    if children:\n",
    "        dd = defaultdict(list)\n",
    "        for dc in map(etree_to_dict, children):\n",
    "            for k, v in dc.items():\n",
    "                dd[k].append(v)\n",
    "        d = {t.tag: {k:v[0] if len(v) == 1 else v for k, v in dd.items()}}\n",
    "    if t.attrib:\n",
    "        d[t.tag].update(('@' + k, v) for k, v in t.attrib.items())\n",
    "    if t.text:\n",
    "        text = t.text.strip()\n",
    "        if children or t.attrib:\n",
    "            if text:\n",
    "              d[t.tag]['#text'] = text\n",
    "        else:\n",
    "            d[t.tag] = text\n",
    "    return d"
   ]
  },
  {
   "cell_type": "code",
   "execution_count": 61,
   "metadata": {},
   "outputs": [
    {
     "name": "stdout",
     "output_type": "stream",
     "text": [
      "{'CATALOG': {'CD': [{'ARTIST': 'Bob Dylan',\n",
      "                     'COMPANY': 'Columbia',\n",
      "                     'COUNTRY': 'USA',\n",
      "                     'PRICE': '10.90',\n",
      "                     'TITLE': 'Empire Burlesque',\n",
      "                     'YEAR': '1985'},\n",
      "                    {'ARTIST': 'Bonnie Tyler',\n",
      "                     'COMPANY': 'CBS Records',\n",
      "                     'COUNTRY': 'UK',\n",
      "                     'PRICE': '9.90',\n",
      "                     'TITLE': 'Hide your heart',\n",
      "                     'YEAR': '1988'},\n",
      "                    {'ARTIST': 'Dolly Parton',\n",
      "                     'COMPANY': 'RCA',\n",
      "                     'COUNTRY': 'USA',\n",
      "                     'PRICE': '9.90',\n",
      "                     'TITLE': 'Greatest Hits',\n",
      "                     'YEAR': '1982'},\n",
      "                    {'ARTIST': 'Gary Moore',\n",
      "                     'COMPANY': 'Virgin records',\n",
      "                     'COUNTRY': 'UK',\n",
      "                     'PRICE': '10.20',\n",
      "                     'TITLE': 'Still got the blues',\n",
      "                     'YEAR': '1990'},\n",
      "                    {'ARTIST': 'Eros Ramazzotti',\n",
      "                     'COMPANY': 'BMG',\n",
      "                     'COUNTRY': 'EU',\n",
      "                     'PRICE': '9.90',\n",
      "                     'TITLE': 'Eros',\n",
      "                     'YEAR': '1997'},\n",
      "                    {'ARTIST': 'Bee Gees',\n",
      "                     'COMPANY': 'Polydor',\n",
      "                     'COUNTRY': 'UK',\n",
      "                     'PRICE': '10.90',\n",
      "                     'TITLE': 'One night only',\n",
      "                     'YEAR': '1998'},\n",
      "                    {'ARTIST': 'Dr.Hook',\n",
      "                     'COMPANY': 'CBS',\n",
      "                     'COUNTRY': 'UK',\n",
      "                     'PRICE': '8.10',\n",
      "                     'TITLE': 'Sylvias Mother',\n",
      "                     'YEAR': '1973'},\n",
      "                    {'ARTIST': 'Rod Stewart',\n",
      "                     'COMPANY': 'Pickwick',\n",
      "                     'COUNTRY': 'UK',\n",
      "                     'PRICE': '8.50',\n",
      "                     'TITLE': 'Maggie May',\n",
      "                     'YEAR': '1990'},\n",
      "                    {'ARTIST': 'Andrea Bocelli',\n",
      "                     'COMPANY': 'Polydor',\n",
      "                     'COUNTRY': 'EU',\n",
      "                     'PRICE': '10.80',\n",
      "                     'TITLE': 'Romanza',\n",
      "                     'YEAR': '1996'},\n",
      "                    {'ARTIST': 'Percy Sledge',\n",
      "                     'COMPANY': 'Atlantic',\n",
      "                     'COUNTRY': 'USA',\n",
      "                     'PRICE': '8.70',\n",
      "                     'TITLE': 'When a man loves a woman',\n",
      "                     'YEAR': '1987'},\n",
      "                    {'ARTIST': 'Savage Rose',\n",
      "                     'COMPANY': 'Mega',\n",
      "                     'COUNTRY': 'EU',\n",
      "                     'PRICE': '10.90',\n",
      "                     'TITLE': 'Black angel',\n",
      "                     'YEAR': '1995'},\n",
      "                    {'ARTIST': 'Many',\n",
      "                     'COMPANY': 'Grammy',\n",
      "                     'COUNTRY': 'USA',\n",
      "                     'PRICE': '10.20',\n",
      "                     'TITLE': '1999 Grammy Nominees',\n",
      "                     'YEAR': '1999'},\n",
      "                    {'ARTIST': 'Kenny Rogers',\n",
      "                     'COMPANY': 'Mucik Master',\n",
      "                     'COUNTRY': 'UK',\n",
      "                     'PRICE': '8.70',\n",
      "                     'TITLE': 'For the good times',\n",
      "                     'YEAR': '1995'},\n",
      "                    {'ARTIST': 'Will Smith',\n",
      "                     'COMPANY': 'Columbia',\n",
      "                     'COUNTRY': 'USA',\n",
      "                     'PRICE': '9.90',\n",
      "                     'TITLE': 'Big Willie style',\n",
      "                     'YEAR': '1997'},\n",
      "                    {'ARTIST': 'Van Morrison',\n",
      "                     'COMPANY': 'Polydor',\n",
      "                     'COUNTRY': 'UK',\n",
      "                     'PRICE': '8.20',\n",
      "                     'TITLE': 'Tupelo Honey',\n",
      "                     'YEAR': '1971'},\n",
      "                    {'ARTIST': 'Jorn Hoel',\n",
      "                     'COMPANY': 'WEA',\n",
      "                     'COUNTRY': 'Norway',\n",
      "                     'PRICE': '7.90',\n",
      "                     'TITLE': 'Soulsville',\n",
      "                     'YEAR': '1996'},\n",
      "                    {'ARTIST': 'Cat Stevens',\n",
      "                     'COMPANY': 'Island',\n",
      "                     'COUNTRY': 'UK',\n",
      "                     'PRICE': '8.90',\n",
      "                     'TITLE': 'The very best of',\n",
      "                     'YEAR': '1990'},\n",
      "                    {'ARTIST': 'Sam Brown',\n",
      "                     'COMPANY': 'A and M',\n",
      "                     'COUNTRY': 'UK',\n",
      "                     'PRICE': '8.90',\n",
      "                     'TITLE': 'Stop',\n",
      "                     'YEAR': '1988'},\n",
      "                    {'ARTIST': \"T'Pau\",\n",
      "                     'COMPANY': 'Siren',\n",
      "                     'COUNTRY': 'UK',\n",
      "                     'PRICE': '7.90',\n",
      "                     'TITLE': 'Bridge of Spies',\n",
      "                     'YEAR': '1987'},\n",
      "                    {'ARTIST': 'Tina Turner',\n",
      "                     'COMPANY': 'Capitol',\n",
      "                     'COUNTRY': 'UK',\n",
      "                     'PRICE': '8.90',\n",
      "                     'TITLE': 'Private Dancer',\n",
      "                     'YEAR': '1983'},\n",
      "                    {'ARTIST': 'Kim Larsen',\n",
      "                     'COMPANY': 'Medley',\n",
      "                     'COUNTRY': 'EU',\n",
      "                     'PRICE': '7.80',\n",
      "                     'TITLE': 'Midt om natten',\n",
      "                     'YEAR': '1983'},\n",
      "                    {'ARTIST': 'Luciano Pavarotti',\n",
      "                     'COMPANY': 'DECCA',\n",
      "                     'COUNTRY': 'UK',\n",
      "                     'PRICE': '9.90',\n",
      "                     'TITLE': 'Pavarotti Gala Concert',\n",
      "                     'YEAR': '1991'},\n",
      "                    {'ARTIST': 'Otis Redding',\n",
      "                     'COMPANY': 'Stax Records',\n",
      "                     'COUNTRY': 'USA',\n",
      "                     'PRICE': '7.90',\n",
      "                     'TITLE': 'The dock of the bay',\n",
      "                     'YEAR': '1968'},\n",
      "                    {'ARTIST': 'Simply Red',\n",
      "                     'COMPANY': 'Elektra',\n",
      "                     'COUNTRY': 'EU',\n",
      "                     'PRICE': '7.20',\n",
      "                     'TITLE': 'Picture book',\n",
      "                     'YEAR': '1985'},\n",
      "                    {'ARTIST': 'The Communards',\n",
      "                     'COMPANY': 'London',\n",
      "                     'COUNTRY': 'UK',\n",
      "                     'PRICE': '7.80',\n",
      "                     'TITLE': 'Red',\n",
      "                     'YEAR': '1987'},\n",
      "                    {'ARTIST': 'Joe Cocker',\n",
      "                     'COMPANY': 'EMI',\n",
      "                     'COUNTRY': 'USA',\n",
      "                     'PRICE': '8.20',\n",
      "                     'TITLE': 'Unchain my heart',\n",
      "                     'YEAR': '1987'}]}}\n"
     ]
    }
   ],
   "source": [
    "pprint(etree_to_dict(e))"
   ]
  },
  {
   "cell_type": "code",
   "execution_count": 62,
   "metadata": {},
   "outputs": [
    {
     "name": "stdout",
     "output_type": "stream",
     "text": [
      "Element node: CATALOG\n",
      "text node:\n",
      "  \n",
      "Element node: CD\n",
      "text node:\n",
      "    \n",
      "Element node: TITLE\n",
      "text node:Empire Burlesque\n",
      "text node:\n",
      "    \n",
      "Element node: ARTIST\n",
      "text node:Bob Dylan\n",
      "text node:\n",
      "    \n",
      "Element node: COUNTRY\n",
      "text node:USA\n",
      "text node:\n",
      "    \n",
      "Element node: COMPANY\n",
      "text node:Columbia\n",
      "text node:\n",
      "    \n",
      "Element node: PRICE\n",
      "text node:10.90\n",
      "text node:\n",
      "    \n",
      "Element node: YEAR\n",
      "text node:1985\n",
      "text node:\n",
      "  \n",
      "text node:\n",
      "  \n",
      "Element node: CD\n",
      "text node:\n",
      "    \n",
      "Element node: TITLE\n",
      "text node:Hide your heart\n",
      "text node:\n",
      "    \n",
      "Element node: ARTIST\n",
      "text node:Bonnie Tyler\n",
      "text node:\n",
      "    \n",
      "Element node: COUNTRY\n",
      "text node:UK\n",
      "text node:\n",
      "    \n",
      "Element node: COMPANY\n",
      "text node:CBS Records\n",
      "text node:\n",
      "    \n",
      "Element node: PRICE\n",
      "text node:9.90\n",
      "text node:\n",
      "    \n",
      "Element node: YEAR\n",
      "text node:1988\n",
      "text node:\n",
      "  \n",
      "text node:\n",
      "  \n",
      "Element node: CD\n",
      "text node:\n",
      "    \n",
      "Element node: TITLE\n",
      "text node:Greatest Hits\n",
      "text node:\n",
      "    \n",
      "Element node: ARTIST\n",
      "text node:Dolly Parton\n",
      "text node:\n",
      "    \n",
      "Element node: COUNTRY\n",
      "text node:USA\n",
      "text node:\n",
      "    \n",
      "Element node: COMPANY\n",
      "text node:RCA\n",
      "text node:\n",
      "    \n",
      "Element node: PRICE\n",
      "text node:9.90\n",
      "text node:\n",
      "    \n",
      "Element node: YEAR\n",
      "text node:1982\n",
      "text node:\n",
      "  \n",
      "text node:\n",
      "  \n",
      "Element node: CD\n",
      "text node:\n",
      "    \n",
      "Element node: TITLE\n",
      "text node:Still got the blues\n",
      "text node:\n",
      "    \n",
      "Element node: ARTIST\n",
      "text node:Gary Moore\n",
      "text node:\n",
      "    \n",
      "Element node: COUNTRY\n",
      "text node:UK\n",
      "text node:\n",
      "    \n",
      "Element node: COMPANY\n",
      "text node:Virgin records\n",
      "text node:\n",
      "    \n",
      "Element node: PRICE\n",
      "text node:10.20\n",
      "text node:\n",
      "    \n",
      "Element node: YEAR\n",
      "text node:1990\n",
      "text node:\n",
      "  \n",
      "text node:\n",
      "  \n",
      "Element node: CD\n",
      "text node:\n",
      "    \n",
      "Element node: TITLE\n",
      "text node:Eros\n",
      "text node:\n",
      "    \n",
      "Element node: ARTIST\n",
      "text node:Eros Ramazzotti\n",
      "text node:\n",
      "    \n",
      "Element node: COUNTRY\n",
      "text node:EU\n",
      "text node:\n",
      "    \n",
      "Element node: COMPANY\n",
      "text node:BMG\n",
      "text node:\n",
      "    \n",
      "Element node: PRICE\n",
      "text node:9.90\n",
      "text node:\n",
      "    \n",
      "Element node: YEAR\n",
      "text node:1997\n",
      "text node:\n",
      "  \n",
      "text node:\n",
      "  \n",
      "Element node: CD\n",
      "text node:\n",
      "    \n",
      "Element node: TITLE\n",
      "text node:One night only\n",
      "text node:\n",
      "    \n",
      "Element node: ARTIST\n",
      "text node:Bee Gees\n",
      "text node:\n",
      "    \n",
      "Element node: COUNTRY\n",
      "text node:UK\n",
      "text node:\n",
      "    \n",
      "Element node: COMPANY\n",
      "text node:Polydor\n",
      "text node:\n",
      "    \n",
      "Element node: PRICE\n",
      "text node:10.90\n",
      "text node:\n",
      "    \n",
      "Element node: YEAR\n",
      "text node:1998\n",
      "text node:\n",
      "  \n",
      "text node:\n",
      "  \n",
      "Element node: CD\n",
      "text node:\n",
      "    \n",
      "Element node: TITLE\n",
      "text node:Sylvias Mother\n",
      "text node:\n",
      "    \n",
      "Element node: ARTIST\n",
      "text node:Dr.Hook\n",
      "text node:\n",
      "    \n",
      "Element node: COUNTRY\n",
      "text node:UK\n",
      "text node:\n",
      "    \n",
      "Element node: COMPANY\n",
      "text node:CBS\n",
      "text node:\n",
      "    \n",
      "Element node: PRICE\n",
      "text node:8.10\n",
      "text node:\n",
      "    \n",
      "Element node: YEAR\n",
      "text node:1973\n",
      "text node:\n",
      "  \n",
      "text node:\n",
      "  \n",
      "Element node: CD\n",
      "text node:\n",
      "    \n",
      "Element node: TITLE\n",
      "text node:Maggie May\n",
      "text node:\n",
      "    \n",
      "Element node: ARTIST\n",
      "text node:Rod Stewart\n",
      "text node:\n",
      "    \n",
      "Element node: COUNTRY\n",
      "text node:UK\n",
      "text node:\n",
      "    \n",
      "Element node: COMPANY\n",
      "text node:Pickwick\n",
      "text node:\n",
      "    \n",
      "Element node: PRICE\n",
      "text node:8.50\n",
      "text node:\n",
      "    \n",
      "Element node: YEAR\n",
      "text node:1990\n",
      "text node:\n",
      "  \n",
      "text node:\n",
      "  \n",
      "Element node: CD\n",
      "text node:\n",
      "    \n",
      "Element node: TITLE\n",
      "text node:Romanza\n",
      "text node:\n",
      "    \n",
      "Element node: ARTIST\n",
      "text node:Andrea Bocelli\n",
      "text node:\n",
      "    \n",
      "Element node: COUNTRY\n",
      "text node:EU\n",
      "text node:\n",
      "    \n",
      "Element node: COMPANY\n",
      "text node:Polydor\n",
      "text node:\n",
      "    \n",
      "Element node: PRICE\n",
      "text node:10.80\n",
      "text node:\n",
      "    \n",
      "Element node: YEAR\n",
      "text node:1996\n",
      "text node:\n",
      "  \n",
      "text node:\n",
      "  \n",
      "Element node: CD\n",
      "text node:\n",
      "    \n",
      "Element node: TITLE\n",
      "text node:When a man loves a woman\n",
      "text node:\n",
      "    \n",
      "Element node: ARTIST\n",
      "text node:Percy Sledge\n",
      "text node:\n",
      "    \n",
      "Element node: COUNTRY\n",
      "text node:USA\n",
      "text node:\n",
      "    \n",
      "Element node: COMPANY\n",
      "text node:Atlantic\n",
      "text node:\n",
      "    \n",
      "Element node: PRICE\n",
      "text node:8.70\n",
      "text node:\n",
      "    \n",
      "Element node: YEAR\n",
      "text node:1987\n",
      "text node:\n",
      "  \n",
      "text node:\n",
      "  \n",
      "Element node: CD\n",
      "text node:\n",
      "    \n",
      "Element node: TITLE\n",
      "text node:Black angel\n",
      "text node:\n",
      "    \n",
      "Element node: ARTIST\n",
      "text node:Savage Rose\n",
      "text node:\n",
      "    \n",
      "Element node: COUNTRY\n",
      "text node:EU\n",
      "text node:\n",
      "    \n",
      "Element node: COMPANY\n",
      "text node:Mega\n",
      "text node:\n",
      "    \n",
      "Element node: PRICE\n",
      "text node:10.90\n",
      "text node:\n",
      "    \n",
      "Element node: YEAR\n",
      "text node:1995\n",
      "text node:\n",
      "  \n",
      "text node:\n",
      "  \n",
      "Element node: CD\n",
      "text node:\n",
      "    \n",
      "Element node: TITLE\n",
      "text node:1999 Grammy Nominees\n",
      "text node:\n",
      "    \n",
      "Element node: ARTIST\n",
      "text node:Many\n",
      "text node:\n",
      "    \n",
      "Element node: COUNTRY\n",
      "text node:USA\n",
      "text node:\n",
      "    \n",
      "Element node: COMPANY\n",
      "text node:Grammy\n",
      "text node:\n",
      "    \n",
      "Element node: PRICE\n",
      "text node:10.20\n",
      "text node:\n",
      "    \n",
      "Element node: YEAR\n",
      "text node:1999\n",
      "text node:\n",
      "  \n",
      "text node:\n",
      "  \n",
      "Element node: CD\n",
      "text node:\n",
      "    \n",
      "Element node: TITLE\n",
      "text node:For the good times\n",
      "text node:\n",
      "    \n",
      "Element node: ARTIST\n",
      "text node:Kenny Rogers\n",
      "text node:\n",
      "    \n",
      "Element node: COUNTRY\n",
      "text node:UK\n",
      "text node:\n",
      "    \n",
      "Element node: COMPANY\n",
      "text node:Mucik Master\n",
      "text node:\n",
      "    \n",
      "Element node: PRICE\n",
      "text node:8.70\n",
      "text node:\n",
      "    \n",
      "Element node: YEAR\n",
      "text node:1995\n",
      "text node:\n",
      "  \n",
      "text node:\n",
      "  \n",
      "Element node: CD\n",
      "text node:\n",
      "    \n",
      "Element node: TITLE\n",
      "text node:Big Willie style\n",
      "text node:\n",
      "    \n",
      "Element node: ARTIST\n",
      "text node:Will Smith\n",
      "text node:\n",
      "    \n",
      "Element node: COUNTRY\n",
      "text node:USA\n",
      "text node:\n",
      "    \n",
      "Element node: COMPANY\n",
      "text node:Columbia\n",
      "text node:\n",
      "    \n",
      "Element node: PRICE\n",
      "text node:9.90\n",
      "text node:\n",
      "    \n",
      "Element node: YEAR\n",
      "text node:1997\n",
      "text node:\n",
      "  \n",
      "text node:\n",
      "  \n",
      "Element node: CD\n",
      "text node:\n",
      "    \n",
      "Element node: TITLE\n",
      "text node:Tupelo Honey\n",
      "text node:\n",
      "    \n",
      "Element node: ARTIST\n",
      "text node:Van Morrison\n",
      "text node:\n",
      "    \n",
      "Element node: COUNTRY\n",
      "text node:UK\n",
      "text node:\n",
      "    \n",
      "Element node: COMPANY\n",
      "text node:Polydor\n",
      "text node:\n",
      "    \n",
      "Element node: PRICE\n",
      "text node:8.20\n",
      "text node:\n",
      "    \n",
      "Element node: YEAR\n",
      "text node:1971\n",
      "text node:\n",
      "  \n",
      "text node:\n",
      "  \n",
      "Element node: CD\n",
      "text node:\n",
      "    \n",
      "Element node: TITLE\n",
      "text node:Soulsville\n",
      "text node:\n",
      "    \n",
      "Element node: ARTIST\n",
      "text node:Jorn Hoel\n",
      "text node:\n",
      "    \n",
      "Element node: COUNTRY\n",
      "text node:Norway\n",
      "text node:\n",
      "    \n",
      "Element node: COMPANY\n",
      "text node:WEA\n",
      "text node:\n",
      "    \n",
      "Element node: PRICE\n",
      "text node:7.90\n",
      "text node:\n",
      "    \n",
      "Element node: YEAR\n",
      "text node:1996\n",
      "text node:\n",
      "  \n",
      "text node:\n",
      "  \n",
      "Element node: CD\n",
      "text node:\n",
      "    \n",
      "Element node: TITLE\n",
      "text node:The very best of\n",
      "text node:\n",
      "    \n",
      "Element node: ARTIST\n",
      "text node:Cat Stevens\n",
      "text node:\n",
      "    \n",
      "Element node: COUNTRY\n",
      "text node:UK\n",
      "text node:\n",
      "    \n",
      "Element node: COMPANY\n",
      "text node:Island\n",
      "text node:\n",
      "    \n",
      "Element node: PRICE\n",
      "text node:8.90\n",
      "text node:\n",
      "    \n",
      "Element node: YEAR\n",
      "text node:1990\n",
      "text node:\n",
      "  \n",
      "text node:\n",
      "  \n",
      "Element node: CD\n",
      "text node:\n",
      "    \n",
      "Element node: TITLE\n",
      "text node:Stop\n",
      "text node:\n",
      "    \n",
      "Element node: ARTIST\n",
      "text node:Sam Brown\n",
      "text node:\n",
      "    \n",
      "Element node: COUNTRY\n",
      "text node:UK\n",
      "text node:\n",
      "    \n",
      "Element node: COMPANY\n",
      "text node:A and M\n",
      "text node:\n",
      "    \n",
      "Element node: PRICE\n",
      "text node:8.90\n",
      "text node:\n",
      "    \n",
      "Element node: YEAR\n",
      "text node:1988\n",
      "text node:\n",
      "  \n",
      "text node:\n",
      "  \n",
      "Element node: CD\n",
      "text node:\n",
      "    \n",
      "Element node: TITLE\n",
      "text node:Bridge of Spies\n",
      "text node:\n",
      "    \n",
      "Element node: ARTIST\n",
      "text node:T'Pau\n",
      "text node:\n",
      "    \n",
      "Element node: COUNTRY\n",
      "text node:UK\n",
      "text node:\n",
      "    \n",
      "Element node: COMPANY\n",
      "text node:Siren\n",
      "text node:\n",
      "    \n",
      "Element node: PRICE\n",
      "text node:7.90\n",
      "text node:\n",
      "    \n",
      "Element node: YEAR\n",
      "text node:1987\n",
      "text node:\n",
      "  \n",
      "text node:\n",
      "  \n",
      "Element node: CD\n",
      "text node:\n",
      "    \n",
      "Element node: TITLE\n",
      "text node:Private Dancer\n",
      "text node:\n",
      "    \n",
      "Element node: ARTIST\n",
      "text node:Tina Turner\n",
      "text node:\n",
      "    \n",
      "Element node: COUNTRY\n",
      "text node:UK\n",
      "text node:\n",
      "    \n",
      "Element node: COMPANY\n",
      "text node:Capitol\n",
      "text node:\n",
      "    \n",
      "Element node: PRICE\n",
      "text node:8.90\n",
      "text node:\n",
      "    \n",
      "Element node: YEAR\n",
      "text node:1983\n",
      "text node:\n",
      "  \n",
      "text node:\n",
      "  \n",
      "Element node: CD\n",
      "text node:\n",
      "    \n",
      "Element node: TITLE\n",
      "text node:Midt om natten\n",
      "text node:\n",
      "    \n",
      "Element node: ARTIST\n",
      "text node:Kim Larsen\n",
      "text node:\n",
      "    \n",
      "Element node: COUNTRY\n",
      "text node:EU\n",
      "text node:\n",
      "    \n",
      "Element node: COMPANY\n",
      "text node:Medley\n",
      "text node:\n",
      "    \n",
      "Element node: PRICE\n",
      "text node:7.80\n",
      "text node:\n",
      "    \n",
      "Element node: YEAR\n",
      "text node:1983\n",
      "text node:\n",
      "  \n",
      "text node:\n",
      "  \n",
      "Element node: CD\n",
      "text node:\n",
      "    \n",
      "Element node: TITLE\n",
      "text node:Pavarotti Gala Concert\n",
      "text node:\n",
      "    \n",
      "Element node: ARTIST\n",
      "text node:Luciano Pavarotti\n",
      "text node:\n",
      "    \n",
      "Element node: COUNTRY\n",
      "text node:UK\n",
      "text node:\n",
      "    \n",
      "Element node: COMPANY\n",
      "text node:DECCA\n",
      "text node:\n",
      "    \n",
      "Element node: PRICE\n",
      "text node:9.90\n",
      "text node:\n",
      "    \n",
      "Element node: YEAR\n",
      "text node:1991\n",
      "text node:\n",
      "  \n",
      "text node:\n",
      "  \n",
      "Element node: CD\n",
      "text node:\n",
      "    \n",
      "Element node: TITLE\n",
      "text node:The dock of the bay\n",
      "text node:\n",
      "    \n",
      "Element node: ARTIST\n",
      "text node:Otis Redding\n",
      "text node:\n",
      "    \n",
      "Element node: COUNTRY\n",
      "text node:USA\n",
      "text node:\n",
      "    \n",
      "Element node: COMPANY\n",
      "text node:Stax Records\n",
      "text node:\n",
      "    \n",
      "Element node: PRICE\n",
      "text node:7.90\n",
      "text node:\n",
      "    \n",
      "Element node: YEAR\n",
      "text node:1968\n",
      "text node:\n",
      "  \n",
      "text node:\n",
      "  \n",
      "Element node: CD\n",
      "text node:\n",
      "    \n",
      "Element node: TITLE\n",
      "text node:Picture book\n",
      "text node:\n",
      "    \n",
      "Element node: ARTIST\n",
      "text node:Simply Red\n",
      "text node:\n",
      "    \n",
      "Element node: COUNTRY\n",
      "text node:EU\n",
      "text node:\n",
      "    \n",
      "Element node: COMPANY\n",
      "text node:Elektra\n",
      "text node:\n",
      "    \n",
      "Element node: PRICE\n",
      "text node:7.20\n",
      "text node:\n",
      "    \n",
      "Element node: YEAR\n",
      "text node:1985\n",
      "text node:\n",
      "  \n",
      "text node:\n",
      "  \n",
      "Element node: CD\n",
      "text node:\n",
      "    \n",
      "Element node: TITLE\n",
      "text node:Red\n",
      "text node:\n",
      "    \n",
      "Element node: ARTIST\n",
      "text node:The Communards\n",
      "text node:\n",
      "    \n",
      "Element node: COUNTRY\n",
      "text node:UK\n",
      "text node:\n",
      "    \n",
      "Element node: COMPANY\n",
      "text node:London\n",
      "text node:\n",
      "    \n",
      "Element node: PRICE\n",
      "text node:7.80\n",
      "text node:\n",
      "    \n",
      "Element node: YEAR\n",
      "text node:1987\n",
      "text node:\n",
      "  \n",
      "text node:\n",
      "  \n",
      "Element node: CD\n",
      "text node:\n",
      "    \n",
      "Element node: TITLE\n",
      "text node:Unchain my heart\n",
      "text node:\n",
      "    \n",
      "Element node: ARTIST\n",
      "text node:Joe Cocker\n",
      "text node:\n",
      "    \n",
      "Element node: COUNTRY\n",
      "text node:USA\n",
      "text node:\n",
      "    \n",
      "Element node: COMPANY\n",
      "text node:EMI\n",
      "text node:\n",
      "    \n",
      "Element node: PRICE\n",
      "text node:8.20\n",
      "text node:\n",
      "    \n",
      "Element node: YEAR\n",
      "text node:1987\n",
      "text node:\n",
      "  \n",
      "text node:\n",
      "\n"
     ]
    }
   ],
   "source": [
    "raw_page = urllib.request.urlopen(url)\n",
    "doc = minidom.parse(raw_page)\n",
    "\n",
    "def findTextnodes(nodeList):\n",
    "    for subnode in nodeList:\n",
    "        if subnode.nodeType == subnode.ELEMENT_NODE:\n",
    "            print(\"Element node: \" + subnode.tagName)\n",
    "            findTextnodes(subnode.childNodes)\n",
    "        elif subnode.nodeType == subnode.TEXT_NODE:\n",
    "            print(\"text node:\" + subnode.data)\n",
    "            \n",
    "findTextnodes(doc.childNodes)"
   ]
  },
  {
   "cell_type": "code",
   "execution_count": 63,
   "metadata": {},
   "outputs": [
    {
     "name": "stdout",
     "output_type": "stream",
     "text": [
      "Empire Burlesque\n",
      "Hide your heart\n",
      "Greatest Hits\n",
      "Still got the blues\n",
      "Eros\n",
      "One night only\n",
      "Sylvias Mother\n",
      "Maggie May\n",
      "Romanza\n",
      "When a man loves a woman\n",
      "Black angel\n",
      "1999 Grammy Nominees\n",
      "For the good times\n",
      "Big Willie style\n",
      "Tupelo Honey\n",
      "Soulsville\n",
      "The very best of\n",
      "Stop\n",
      "Bridge of Spies\n",
      "Private Dancer\n",
      "Midt om natten\n",
      "Pavarotti Gala Concert\n",
      "The dock of the bay\n",
      "Picture book\n",
      "Red\n",
      "Unchain my heart\n"
     ]
    }
   ],
   "source": [
    "root = ET.fromstring(xml_page)\n",
    "cdtags = root.xpath('//CD/TITLE')\n",
    "for cd in cdtags:\n",
    "    print(cd.text)"
   ]
  },
  {
   "cell_type": "code",
   "execution_count": 64,
   "metadata": {},
   "outputs": [
    {
     "name": "stdout",
     "output_type": "stream",
     "text": [
      "Bob Dylan\tUSA\tEmpire Burlesque\n",
      "Bonnie Tyler\tUK\tHide your heart\n",
      "Dolly Parton\tUSA\tGreatest Hits\n",
      "Gary Moore\tUK\tStill got the blues\n",
      "Eros Ramazzotti\tEU\tEros\n",
      "Bee Gees\tUK\tOne night only\n",
      "Dr.Hook\tUK\tSylvias Mother\n",
      "Rod Stewart\tUK\tMaggie May\n",
      "Andrea Bocelli\tEU\tRomanza\n",
      "Percy Sledge\tUSA\tWhen a man loves a woman\n",
      "Savage Rose\tEU\tBlack angel\n",
      "Many\tUSA\t1999 Grammy Nominees\n",
      "Kenny Rogers\tUK\tFor the good times\n",
      "Will Smith\tUSA\tBig Willie style\n",
      "Van Morrison\tUK\tTupelo Honey\n",
      "Jorn Hoel\tNorway\tSoulsville\n",
      "Cat Stevens\tUK\tThe very best of\n",
      "Sam Brown\tUK\tStop\n",
      "T'Pau\tUK\tBridge of Spies\n",
      "Tina Turner\tUK\tPrivate Dancer\n",
      "Kim Larsen\tEU\tMidt om natten\n",
      "Luciano Pavarotti\tUK\tPavarotti Gala Concert\n",
      "Otis Redding\tUSA\tThe dock of the bay\n",
      "Simply Red\tEU\tPicture book\n",
      "The Communards\tUK\tRed\n",
      "Joe Cocker\tUSA\tUnchain my heart\n"
     ]
    }
   ],
   "source": [
    "for cd in root.findall('CD'):\n",
    "    title = cd.find('TITLE').text\n",
    "    artist = cd.find('ARTIST').text\n",
    "    country = cd.find('COUNTRY').text\n",
    "    print('{}\\t{}\\t{}'.format(artist, country, title))"
   ]
  },
  {
   "cell_type": "code",
   "execution_count": 65,
   "metadata": {},
   "outputs": [
    {
     "data": {
      "text/plain": [
       "[{'ARTIST': 'Bob Dylan',\n",
       "  'COUNTRY': 'USA',\n",
       "  'PRICE': '10.90',\n",
       "  'TITLE': 'Empire Burlesque',\n",
       "  'YEAR': '1985'},\n",
       " {'ARTIST': 'Bonnie Tyler',\n",
       "  'COUNTRY': 'UK',\n",
       "  'PRICE': '9.90',\n",
       "  'TITLE': 'Hide your heart',\n",
       "  'YEAR': '1988'},\n",
       " {'ARTIST': 'Dolly Parton',\n",
       "  'COUNTRY': 'USA',\n",
       "  'PRICE': '9.90',\n",
       "  'TITLE': 'Greatest Hits',\n",
       "  'YEAR': '1982'}]"
      ]
     },
     "execution_count": 65,
     "metadata": {},
     "output_type": "execute_result"
    }
   ],
   "source": [
    "cds = []\n",
    "for cd in root.findall('./CD'):\n",
    "        data = {}\n",
    "        data[\"TITLE\"] = cd.find('./TITLE').text\n",
    "        data[\"ARTIST\"] = cd.find('./ARTIST').text\n",
    "        data[\"COUNTRY\"] = cd.find('./COUNTRY').text\n",
    "        data[\"PRICE\"] = cd.find('./PRICE').text\n",
    "        data[\"YEAR\"] = cd.find('./YEAR').text\n",
    "        cds.append(data)\n",
    "cds[0:3]"
   ]
  },
  {
   "cell_type": "markdown",
   "metadata": {},
   "source": [
    "## Acessing Databases"
   ]
  },
  {
   "cell_type": "markdown",
   "metadata": {},
   "source": [
    "### Acessing SQLite"
   ]
  },
  {
   "cell_type": "markdown",
   "metadata": {},
   "source": [
    "https://docs.python.org/3/library/sqlite3.html"
   ]
  },
  {
   "cell_type": "code",
   "execution_count": 66,
   "metadata": {},
   "outputs": [],
   "source": [
    "import sqlite3\n",
    "conn = sqlite3.connect(os.path.join(outputs,'example.db'))"
   ]
  },
  {
   "cell_type": "code",
   "execution_count": 67,
   "metadata": {},
   "outputs": [],
   "source": [
    "c = conn.cursor()\n",
    "\n",
    "# Create table\n",
    "c.execute('''CREATE TABLE IF NOT EXISTS stocks\n",
    "             (date text, trans text, symbol text, qty real, price real)''')\n",
    "\n",
    "# Insert a row of data\n",
    "c.execute(\"INSERT INTO stocks VALUES ('2006-01-05','BUY','RHAT',100,35.14)\")\n",
    "\n",
    "# Save (commit) the changes\n",
    "conn.commit()\n",
    "\n",
    "# We can also close the connection if we are done with it.\n",
    "# Just be sure any changes have been committed or they will be lost.\n",
    "conn.close()"
   ]
  },
  {
   "cell_type": "code",
   "execution_count": 68,
   "metadata": {},
   "outputs": [],
   "source": [
    "conn = sqlite3.connect(os.path.join(outputs,'example.db'))\n",
    "c = conn.cursor()"
   ]
  },
  {
   "cell_type": "code",
   "execution_count": 69,
   "metadata": {},
   "outputs": [
    {
     "name": "stdout",
     "output_type": "stream",
     "text": [
      "('2006-01-05', 'BUY', 'RHAT', 100.0, 35.14)\n"
     ]
    }
   ],
   "source": [
    "t = ('RHAT',) #tuple with just one element\n",
    "c.execute('SELECT * FROM stocks WHERE symbol=?', t)\n",
    "print(c.fetchone())"
   ]
  },
  {
   "cell_type": "code",
   "execution_count": 70,
   "metadata": {},
   "outputs": [
    {
     "data": {
      "text/plain": [
       "<sqlite3.Cursor at 0x7f714b1ebea0>"
      ]
     },
     "execution_count": 70,
     "metadata": {},
     "output_type": "execute_result"
    }
   ],
   "source": [
    "# Larger example that inserts many records at a time\n",
    "purchases = [('2006-03-28', 'BUY', 'IBM', 1000, 45.00),\n",
    "             ('2006-04-05', 'BUY', 'MSFT', 1000, 72.00),\n",
    "             ('2006-04-06', 'SELL', 'IBM', 500, 53.00),\n",
    "            ]\n",
    "c.executemany('INSERT INTO stocks VALUES (?,?,?,?,?)', purchases)"
   ]
  },
  {
   "cell_type": "code",
   "execution_count": 71,
   "metadata": {},
   "outputs": [
    {
     "name": "stdout",
     "output_type": "stream",
     "text": [
      "('2006-01-05', 'BUY', 'RHAT', 100.0, 35.14)\n",
      "('2006-03-28', 'BUY', 'IBM', 1000.0, 45.0)\n",
      "('2006-04-06', 'SELL', 'IBM', 500.0, 53.0)\n",
      "('2006-04-05', 'BUY', 'MSFT', 1000.0, 72.0)\n"
     ]
    }
   ],
   "source": [
    "for row in c.execute('SELECT * FROM stocks ORDER BY price'):\n",
    "        print(row)"
   ]
  },
  {
   "cell_type": "markdown",
   "metadata": {},
   "source": [
    "#### Using Pandas"
   ]
  },
  {
   "cell_type": "code",
   "execution_count": 72,
   "metadata": {},
   "outputs": [
    {
     "name": "stdout",
     "output_type": "stream",
     "text": [
      "         date trans symbol    qty  price\n",
      "0  2006-01-05   BUY   RHAT  100.0  35.14\n"
     ]
    }
   ],
   "source": [
    "conn = sqlite3.connect(os.path.join(outputs,'example.db'))\n",
    "df = pd.read_sql_query(\"SELECT * from stocks ORDER BY price\", conn)\n",
    "\n",
    "# verify that result of SQL query is stored in the dataframe\n",
    "print(df.head())\n",
    "\n",
    "conn.close()"
   ]
  },
  {
   "cell_type": "markdown",
   "metadata": {},
   "source": [
    "Deleting the database file:  "
   ]
  },
  {
   "cell_type": "code",
   "execution_count": 73,
   "metadata": {},
   "outputs": [],
   "source": [
    "os.remove(os.path.join(outputs,'example.db'))"
   ]
  },
  {
   "cell_type": "markdown",
   "metadata": {},
   "source": [
    "### Acessing MySQL  "
   ]
  },
  {
   "cell_type": "markdown",
   "metadata": {},
   "source": [
    "https://pypi.python.org/pypi/PyMySQL  "
   ]
  },
  {
   "cell_type": "code",
   "execution_count": 74,
   "metadata": {},
   "outputs": [],
   "source": [
    "import pymysql"
   ]
  },
  {
   "cell_type": "code",
   "execution_count": 76,
   "metadata": {},
   "outputs": [],
   "source": [
    "p = getpass.getpass()\n",
    "conn = pymysql.connect(host='localhost', port=3306, user='root', passwd=p,)# db='example')\n",
    "cur = conn.cursor()"
   ]
  },
  {
   "cell_type": "code",
   "execution_count": 77,
   "metadata": {},
   "outputs": [
    {
     "name": "stdout",
     "output_type": "stream",
     "text": [
      "('information_schema',)\n",
      "('mysql',)\n",
      "('performance_schema',)\n",
      "('sys',)\n",
      "('test',)\n"
     ]
    }
   ],
   "source": [
    "cur.execute(\"show databases;\")\n",
    "for r in cur.fetchall():\n",
    "   print(r)"
   ]
  },
  {
   "cell_type": "code",
   "execution_count": 78,
   "metadata": {},
   "outputs": [
    {
     "name": "stdout",
     "output_type": "stream",
     "text": [
      "('columns_priv',)\n",
      "('db',)\n",
      "('engine_cost',)\n",
      "('event',)\n",
      "('func',)\n",
      "('general_log',)\n",
      "('gtid_executed',)\n",
      "('help_category',)\n",
      "('help_keyword',)\n",
      "('help_relation',)\n",
      "('help_topic',)\n",
      "('innodb_index_stats',)\n",
      "('innodb_table_stats',)\n",
      "('ndb_binlog_index',)\n",
      "('plugin',)\n",
      "('proc',)\n",
      "('procs_priv',)\n",
      "('proxies_priv',)\n",
      "('server_cost',)\n",
      "('servers',)\n",
      "('slave_master_info',)\n",
      "('slave_relay_log_info',)\n",
      "('slave_worker_info',)\n",
      "('slow_log',)\n",
      "('tables_priv',)\n",
      "('time_zone',)\n",
      "('time_zone_leap_second',)\n",
      "('time_zone_name',)\n",
      "('time_zone_transition',)\n",
      "('time_zone_transition_type',)\n",
      "('user',)\n"
     ]
    }
   ],
   "source": [
    "cur.execute(\"use mysql;\")\n",
    "cur.execute(\"show tables;\")\n",
    "for r in cur.fetchall():\n",
    "   print(r)"
   ]
  },
  {
   "cell_type": "code",
   "execution_count": 79,
   "metadata": {},
   "outputs": [
    {
     "name": "stdout",
     "output_type": "stream",
     "text": [
      "('test_table',)\n"
     ]
    },
    {
     "name": "stderr",
     "output_type": "stream",
     "text": [
      "/usr/local/lib/python3.6/dist-packages/pymysql/cursors.py:166: Warning: (1007, \"Can't create database 'test'; database exists\")\n",
      "  result = self._query(query)\n",
      "/usr/local/lib/python3.6/dist-packages/pymysql/cursors.py:166: Warning: (1050, \"Table 'test_table' already exists\")\n",
      "  result = self._query(query)\n"
     ]
    }
   ],
   "source": [
    "cur.execute(\"CREATE DATABASE IF NOT EXISTS test;\")\n",
    "cur.execute(\"USE test;\")\n",
    "cur.execute('''CREATE TABLE IF NOT EXISTS test_table \n",
    "               (text VARCHAR(200)\n",
    "               DEFAULT NULL)\n",
    "               ENGINE=MyISAM DEFAULT CHARSET='utf8';''')\n",
    "\n",
    "cur.execute(\"show tables;\")\n",
    "for r in cur.fetchall():\n",
    "   print(r)"
   ]
  },
  {
   "cell_type": "code",
   "execution_count": 80,
   "metadata": {},
   "outputs": [
    {
     "data": {
      "text/plain": [
       "4"
      ]
     },
     "execution_count": 80,
     "metadata": {},
     "output_type": "execute_result"
    }
   ],
   "source": [
    "texts = ['It always seems impossible until its done.',\n",
    "         'In order to succeed, we must first believe that we can.',\n",
    "         'Life is 10% what happens to you and 90% how you react to it.',\n",
    "         'Start where you are. Use what you have. Do what you can.',]\n",
    "cur.executemany('INSERT INTO test.test_table (text) VALUES (%s)', texts)\n",
    "\n"
   ]
  },
  {
   "cell_type": "code",
   "execution_count": 81,
   "metadata": {},
   "outputs": [
    {
     "name": "stdout",
     "output_type": "stream",
     "text": [
      "('It always seems impossible until its done.',)\n",
      "('In order to succeed, we must first believe that we can.',)\n",
      "('Life is 10% what happens to you and 90% how you react to it.',)\n",
      "('Start where you are. Use what you have. Do what you can.',)\n",
      "('It always seems impossible until its done.',)\n",
      "('In order to succeed, we must first believe that we can.',)\n",
      "('Life is 10% what happens to you and 90% how you react to it.',)\n",
      "('Start where you are. Use what you have. Do what you can.',)\n"
     ]
    }
   ],
   "source": [
    "cur.execute(\"SELECT * FROM test.test_table;\")# LIMIT 10;\")\n",
    "for r in cur.fetchall():\n",
    "   print(r)"
   ]
  },
  {
   "cell_type": "markdown",
   "metadata": {},
   "source": [
    "#### Using Pandas"
   ]
  },
  {
   "cell_type": "code",
   "execution_count": 82,
   "metadata": {},
   "outputs": [],
   "source": [
    "import pandas.io.sql as psql"
   ]
  },
  {
   "cell_type": "code",
   "execution_count": 83,
   "metadata": {},
   "outputs": [],
   "source": [
    "df_mysql = psql.read_sql('select * from test.test_table;', con=conn)"
   ]
  },
  {
   "cell_type": "code",
   "execution_count": 84,
   "metadata": {},
   "outputs": [
    {
     "data": {
      "text/html": [
       "<div>\n",
       "<style scoped>\n",
       "    .dataframe tbody tr th:only-of-type {\n",
       "        vertical-align: middle;\n",
       "    }\n",
       "\n",
       "    .dataframe tbody tr th {\n",
       "        vertical-align: top;\n",
       "    }\n",
       "\n",
       "    .dataframe thead th {\n",
       "        text-align: right;\n",
       "    }\n",
       "</style>\n",
       "<table border=\"1\" class=\"dataframe\">\n",
       "  <thead>\n",
       "    <tr style=\"text-align: right;\">\n",
       "      <th></th>\n",
       "      <th>text</th>\n",
       "    </tr>\n",
       "  </thead>\n",
       "  <tbody>\n",
       "    <tr>\n",
       "      <th>0</th>\n",
       "      <td>It always seems impossible until its done.</td>\n",
       "    </tr>\n",
       "    <tr>\n",
       "      <th>1</th>\n",
       "      <td>In order to succeed, we must first believe tha...</td>\n",
       "    </tr>\n",
       "    <tr>\n",
       "      <th>2</th>\n",
       "      <td>Life is 10% what happens to you and 90% how yo...</td>\n",
       "    </tr>\n",
       "    <tr>\n",
       "      <th>3</th>\n",
       "      <td>Start where you are. Use what you have. Do wha...</td>\n",
       "    </tr>\n",
       "    <tr>\n",
       "      <th>4</th>\n",
       "      <td>It always seems impossible until its done.</td>\n",
       "    </tr>\n",
       "  </tbody>\n",
       "</table>\n",
       "</div>"
      ],
      "text/plain": [
       "                                                text\n",
       "0         It always seems impossible until its done.\n",
       "1  In order to succeed, we must first believe tha...\n",
       "2  Life is 10% what happens to you and 90% how yo...\n",
       "3  Start where you are. Use what you have. Do wha...\n",
       "4         It always seems impossible until its done."
      ]
     },
     "execution_count": 84,
     "metadata": {},
     "output_type": "execute_result"
    }
   ],
   "source": [
    "df_mysql.head()"
   ]
  },
  {
   "cell_type": "code",
   "execution_count": 85,
   "metadata": {},
   "outputs": [],
   "source": [
    "cur.close()\n",
    "conn.close()"
   ]
  },
  {
   "cell_type": "markdown",
   "metadata": {},
   "source": [
    "### Acessing PostgreSQL "
   ]
  },
  {
   "cell_type": "code",
   "execution_count": 86,
   "metadata": {},
   "outputs": [],
   "source": [
    "import psycopg2"
   ]
  },
  {
   "cell_type": "code",
   "execution_count": 87,
   "metadata": {},
   "outputs": [
    {
     "name": "stdout",
     "output_type": "stream",
     "text": [
      "I am unable to connect to the database\n"
     ]
    }
   ],
   "source": [
    "p = getpass.getpass()\n",
    "try:\n",
    "    conn = psycopg2.connect(\"dbname='testdb' user='rsouza' host='localhost' password='{}'\".format(p))\n",
    "except:\n",
    "    print(\"I am unable to connect to the database\")\n",
    "cur = conn.cursor()"
   ]
  },
  {
   "cell_type": "code",
   "execution_count": 110,
   "metadata": {},
   "outputs": [
    {
     "ename": "InternalError",
     "evalue": "current transaction is aborted, commands ignored until end of transaction block\n",
     "output_type": "error",
     "traceback": [
      "\u001b[0;31m---------------------------------------------------------------------------\u001b[0m",
      "\u001b[0;31mInternalError\u001b[0m                             Traceback (most recent call last)",
      "\u001b[0;32m<ipython-input-110-9166478d0131>\u001b[0m in \u001b[0;36m<module>\u001b[0;34m()\u001b[0m\n\u001b[0;32m----> 1\u001b[0;31m \u001b[0mcur\u001b[0m\u001b[0;34m.\u001b[0m\u001b[0mexecute\u001b[0m\u001b[0;34m(\u001b[0m\u001b[0;34m'SELECT * FROM postgres LIMIT 2;'\u001b[0m\u001b[0;34m)\u001b[0m\u001b[0;34m\u001b[0m\u001b[0m\n\u001b[0m\u001b[1;32m      2\u001b[0m \u001b[0;32mfor\u001b[0m \u001b[0mr\u001b[0m \u001b[0;32min\u001b[0m \u001b[0mcur\u001b[0m\u001b[0;34m.\u001b[0m\u001b[0mfetchall\u001b[0m\u001b[0;34m(\u001b[0m\u001b[0;34m)\u001b[0m\u001b[0;34m:\u001b[0m\u001b[0;34m\u001b[0m\u001b[0m\n\u001b[1;32m      3\u001b[0m    \u001b[0mprint\u001b[0m\u001b[0;34m(\u001b[0m\u001b[0mr\u001b[0m\u001b[0;34m)\u001b[0m\u001b[0;34m\u001b[0m\u001b[0m\n",
      "\u001b[0;31mInternalError\u001b[0m: current transaction is aborted, commands ignored until end of transaction block\n"
     ]
    }
   ],
   "source": [
    "cur.execute('SELECT * FROM postgres LIMIT 2;')\n",
    "for r in cur.fetchall():\n",
    "   print(r)"
   ]
  },
  {
   "cell_type": "markdown",
   "metadata": {},
   "source": [
    "#### Using Pandas"
   ]
  },
  {
   "cell_type": "code",
   "execution_count": 111,
   "metadata": {},
   "outputs": [],
   "source": [
    "p = getpass.getpass()\n",
    "try:\n",
    "    conn = psycopg2.connect(\"dbname='postgres' user='rsouza' host='localhost' password='{}'\".format(p))\n",
    "except:\n",
    "    print(\"I am unable to connect to the database\")"
   ]
  },
  {
   "cell_type": "code",
   "execution_count": 113,
   "metadata": {},
   "outputs": [
    {
     "ename": "DatabaseError",
     "evalue": "Execution failed on sql 'SELECT * FROM postgres LIMIT 5;': relation \"postgres\" does not exist\nLINE 1: SELECT * FROM postgres LIMIT 5;\n                      ^\n",
     "output_type": "error",
     "traceback": [
      "\u001b[0;31m---------------------------------------------------------------------------\u001b[0m",
      "\u001b[0;31mProgrammingError\u001b[0m                          Traceback (most recent call last)",
      "\u001b[0;32m/usr/local/lib/python3.6/dist-packages/pandas/io/sql.py\u001b[0m in \u001b[0;36mexecute\u001b[0;34m(self, *args, **kwargs)\u001b[0m\n\u001b[1;32m   1408\u001b[0m             \u001b[0;32melse\u001b[0m\u001b[0;34m:\u001b[0m\u001b[0;34m\u001b[0m\u001b[0m\n\u001b[0;32m-> 1409\u001b[0;31m                 \u001b[0mcur\u001b[0m\u001b[0;34m.\u001b[0m\u001b[0mexecute\u001b[0m\u001b[0;34m(\u001b[0m\u001b[0;34m*\u001b[0m\u001b[0margs\u001b[0m\u001b[0;34m)\u001b[0m\u001b[0;34m\u001b[0m\u001b[0m\n\u001b[0m\u001b[1;32m   1410\u001b[0m             \u001b[0;32mreturn\u001b[0m \u001b[0mcur\u001b[0m\u001b[0;34m\u001b[0m\u001b[0m\n",
      "\u001b[0;31mProgrammingError\u001b[0m: relation \"postgres\" does not exist\nLINE 1: SELECT * FROM postgres LIMIT 5;\n                      ^\n",
      "\nDuring handling of the above exception, another exception occurred:\n",
      "\u001b[0;31mDatabaseError\u001b[0m                             Traceback (most recent call last)",
      "\u001b[0;32m<ipython-input-113-e9cf125da2db>\u001b[0m in \u001b[0;36m<module>\u001b[0;34m()\u001b[0m\n\u001b[0;32m----> 1\u001b[0;31m \u001b[0mdf_postgres\u001b[0m \u001b[0;34m=\u001b[0m \u001b[0mpsql\u001b[0m\u001b[0;34m.\u001b[0m\u001b[0mread_sql\u001b[0m\u001b[0;34m(\u001b[0m\u001b[0;34m'SELECT * FROM postgres LIMIT 5;'\u001b[0m\u001b[0;34m,\u001b[0m \u001b[0mcon\u001b[0m\u001b[0;34m=\u001b[0m\u001b[0mconn\u001b[0m\u001b[0;34m)\u001b[0m\u001b[0;34m\u001b[0m\u001b[0m\n\u001b[0m\u001b[1;32m      2\u001b[0m \u001b[0mdf_postgres\u001b[0m\u001b[0;34m.\u001b[0m\u001b[0mhead\u001b[0m\u001b[0;34m(\u001b[0m\u001b[0;34m)\u001b[0m\u001b[0;34m\u001b[0m\u001b[0m\n",
      "\u001b[0;32m/usr/local/lib/python3.6/dist-packages/pandas/io/sql.py\u001b[0m in \u001b[0;36mread_sql\u001b[0;34m(sql, con, index_col, coerce_float, params, parse_dates, columns, chunksize)\u001b[0m\n\u001b[1;32m    398\u001b[0m             \u001b[0msql\u001b[0m\u001b[0;34m,\u001b[0m \u001b[0mindex_col\u001b[0m\u001b[0;34m=\u001b[0m\u001b[0mindex_col\u001b[0m\u001b[0;34m,\u001b[0m \u001b[0mparams\u001b[0m\u001b[0;34m=\u001b[0m\u001b[0mparams\u001b[0m\u001b[0;34m,\u001b[0m\u001b[0;34m\u001b[0m\u001b[0m\n\u001b[1;32m    399\u001b[0m             \u001b[0mcoerce_float\u001b[0m\u001b[0;34m=\u001b[0m\u001b[0mcoerce_float\u001b[0m\u001b[0;34m,\u001b[0m \u001b[0mparse_dates\u001b[0m\u001b[0;34m=\u001b[0m\u001b[0mparse_dates\u001b[0m\u001b[0;34m,\u001b[0m\u001b[0;34m\u001b[0m\u001b[0m\n\u001b[0;32m--> 400\u001b[0;31m             chunksize=chunksize)\n\u001b[0m\u001b[1;32m    401\u001b[0m \u001b[0;34m\u001b[0m\u001b[0m\n\u001b[1;32m    402\u001b[0m     \u001b[0;32mtry\u001b[0m\u001b[0;34m:\u001b[0m\u001b[0;34m\u001b[0m\u001b[0m\n",
      "\u001b[0;32m/usr/local/lib/python3.6/dist-packages/pandas/io/sql.py\u001b[0m in \u001b[0;36mread_query\u001b[0;34m(self, sql, index_col, coerce_float, params, parse_dates, chunksize)\u001b[0m\n\u001b[1;32m   1442\u001b[0m \u001b[0;34m\u001b[0m\u001b[0m\n\u001b[1;32m   1443\u001b[0m         \u001b[0margs\u001b[0m \u001b[0;34m=\u001b[0m \u001b[0m_convert_params\u001b[0m\u001b[0;34m(\u001b[0m\u001b[0msql\u001b[0m\u001b[0;34m,\u001b[0m \u001b[0mparams\u001b[0m\u001b[0;34m)\u001b[0m\u001b[0;34m\u001b[0m\u001b[0m\n\u001b[0;32m-> 1444\u001b[0;31m         \u001b[0mcursor\u001b[0m \u001b[0;34m=\u001b[0m \u001b[0mself\u001b[0m\u001b[0;34m.\u001b[0m\u001b[0mexecute\u001b[0m\u001b[0;34m(\u001b[0m\u001b[0;34m*\u001b[0m\u001b[0margs\u001b[0m\u001b[0;34m)\u001b[0m\u001b[0;34m\u001b[0m\u001b[0m\n\u001b[0m\u001b[1;32m   1445\u001b[0m         \u001b[0mcolumns\u001b[0m \u001b[0;34m=\u001b[0m \u001b[0;34m[\u001b[0m\u001b[0mcol_desc\u001b[0m\u001b[0;34m[\u001b[0m\u001b[0;36m0\u001b[0m\u001b[0;34m]\u001b[0m \u001b[0;32mfor\u001b[0m \u001b[0mcol_desc\u001b[0m \u001b[0;32min\u001b[0m \u001b[0mcursor\u001b[0m\u001b[0;34m.\u001b[0m\u001b[0mdescription\u001b[0m\u001b[0;34m]\u001b[0m\u001b[0;34m\u001b[0m\u001b[0m\n\u001b[1;32m   1446\u001b[0m \u001b[0;34m\u001b[0m\u001b[0m\n",
      "\u001b[0;32m/usr/local/lib/python3.6/dist-packages/pandas/io/sql.py\u001b[0m in \u001b[0;36mexecute\u001b[0;34m(self, *args, **kwargs)\u001b[0m\n\u001b[1;32m   1419\u001b[0m             ex = DatabaseError(\n\u001b[1;32m   1420\u001b[0m                 \"Execution failed on sql '%s': %s\" % (args[0], exc))\n\u001b[0;32m-> 1421\u001b[0;31m             \u001b[0mraise_with_traceback\u001b[0m\u001b[0;34m(\u001b[0m\u001b[0mex\u001b[0m\u001b[0;34m)\u001b[0m\u001b[0;34m\u001b[0m\u001b[0m\n\u001b[0m\u001b[1;32m   1422\u001b[0m \u001b[0;34m\u001b[0m\u001b[0m\n\u001b[1;32m   1423\u001b[0m     \u001b[0;34m@\u001b[0m\u001b[0mstaticmethod\u001b[0m\u001b[0;34m\u001b[0m\u001b[0m\n",
      "\u001b[0;32m/usr/local/lib/python3.6/dist-packages/pandas/compat/__init__.py\u001b[0m in \u001b[0;36mraise_with_traceback\u001b[0;34m(exc, traceback)\u001b[0m\n\u001b[1;32m    383\u001b[0m         \u001b[0;32mif\u001b[0m \u001b[0mtraceback\u001b[0m \u001b[0;34m==\u001b[0m \u001b[0mEllipsis\u001b[0m\u001b[0;34m:\u001b[0m\u001b[0;34m\u001b[0m\u001b[0m\n\u001b[1;32m    384\u001b[0m             \u001b[0m_\u001b[0m\u001b[0;34m,\u001b[0m \u001b[0m_\u001b[0m\u001b[0;34m,\u001b[0m \u001b[0mtraceback\u001b[0m \u001b[0;34m=\u001b[0m \u001b[0msys\u001b[0m\u001b[0;34m.\u001b[0m\u001b[0mexc_info\u001b[0m\u001b[0;34m(\u001b[0m\u001b[0;34m)\u001b[0m\u001b[0;34m\u001b[0m\u001b[0m\n\u001b[0;32m--> 385\u001b[0;31m         \u001b[0;32mraise\u001b[0m \u001b[0mexc\u001b[0m\u001b[0;34m.\u001b[0m\u001b[0mwith_traceback\u001b[0m\u001b[0;34m(\u001b[0m\u001b[0mtraceback\u001b[0m\u001b[0;34m)\u001b[0m\u001b[0;34m\u001b[0m\u001b[0m\n\u001b[0m\u001b[1;32m    386\u001b[0m \u001b[0;32melse\u001b[0m\u001b[0;34m:\u001b[0m\u001b[0;34m\u001b[0m\u001b[0m\n\u001b[1;32m    387\u001b[0m     \u001b[0;31m# this version of raise is a syntax error in Python 3\u001b[0m\u001b[0;34m\u001b[0m\u001b[0;34m\u001b[0m\u001b[0m\n",
      "\u001b[0;32m/usr/local/lib/python3.6/dist-packages/pandas/io/sql.py\u001b[0m in \u001b[0;36mexecute\u001b[0;34m(self, *args, **kwargs)\u001b[0m\n\u001b[1;32m   1407\u001b[0m                 \u001b[0mcur\u001b[0m\u001b[0;34m.\u001b[0m\u001b[0mexecute\u001b[0m\u001b[0;34m(\u001b[0m\u001b[0;34m*\u001b[0m\u001b[0margs\u001b[0m\u001b[0;34m,\u001b[0m \u001b[0;34m**\u001b[0m\u001b[0mkwargs\u001b[0m\u001b[0;34m)\u001b[0m\u001b[0;34m\u001b[0m\u001b[0m\n\u001b[1;32m   1408\u001b[0m             \u001b[0;32melse\u001b[0m\u001b[0;34m:\u001b[0m\u001b[0;34m\u001b[0m\u001b[0m\n\u001b[0;32m-> 1409\u001b[0;31m                 \u001b[0mcur\u001b[0m\u001b[0;34m.\u001b[0m\u001b[0mexecute\u001b[0m\u001b[0;34m(\u001b[0m\u001b[0;34m*\u001b[0m\u001b[0margs\u001b[0m\u001b[0;34m)\u001b[0m\u001b[0;34m\u001b[0m\u001b[0m\n\u001b[0m\u001b[1;32m   1410\u001b[0m             \u001b[0;32mreturn\u001b[0m \u001b[0mcur\u001b[0m\u001b[0;34m\u001b[0m\u001b[0m\n\u001b[1;32m   1411\u001b[0m         \u001b[0;32mexcept\u001b[0m \u001b[0mException\u001b[0m \u001b[0;32mas\u001b[0m \u001b[0mexc\u001b[0m\u001b[0;34m:\u001b[0m\u001b[0;34m\u001b[0m\u001b[0m\n",
      "\u001b[0;31mDatabaseError\u001b[0m: Execution failed on sql 'SELECT * FROM postgres LIMIT 5;': relation \"postgres\" does not exist\nLINE 1: SELECT * FROM postgres LIMIT 5;\n                      ^\n"
     ]
    }
   ],
   "source": [
    "df_postgres = psql.read_sql('SELECT * FROM postgres LIMIT 5;', con=conn)\n",
    "df_postgres.head()"
   ]
  },
  {
   "cell_type": "markdown",
   "metadata": {},
   "source": [
    "### Acessing Mongo DB"
   ]
  },
  {
   "cell_type": "markdown",
   "metadata": {},
   "source": [
    "http://api.mongodb.org/python/current/tutorial.html"
   ]
  },
  {
   "cell_type": "code",
   "execution_count": 132,
   "metadata": {},
   "outputs": [],
   "source": [
    "from pymongo import MongoClient"
   ]
  },
  {
   "cell_type": "code",
   "execution_count": 133,
   "metadata": {},
   "outputs": [],
   "source": [
    "client = MongoClient()\n",
    "#client = MongoClient('localhost', 27017)\n",
    "db = client.test_database #acessa ou cria o banco\n",
    "\n",
    "## dropping a database via pymongo\n",
    "#client.drop_database('test_database')"
   ]
  },
  {
   "cell_type": "code",
   "execution_count": 134,
   "metadata": {},
   "outputs": [],
   "source": [
    "post = {\"author\": \"Renato\",\n",
    "        \"text\": \"My first blog post!\",\n",
    "        \"tags\": [\"mongodb\", \"python\", \"pymongo\"],\n",
    "        \"date\": datetime.datetime.utcnow()}"
   ]
  },
  {
   "cell_type": "code",
   "execution_count": 135,
   "metadata": {},
   "outputs": [
    {
     "ename": "ServerSelectionTimeoutError",
     "evalue": "localhost:27017: [Errno 111] Connection refused",
     "output_type": "error",
     "traceback": [
      "\u001b[0;31m---------------------------------------------------------------------------\u001b[0m",
      "\u001b[0;31mServerSelectionTimeoutError\u001b[0m               Traceback (most recent call last)",
      "\u001b[0;32m<ipython-input-135-0f6d1836a315>\u001b[0m in \u001b[0;36m<module>\u001b[0;34m()\u001b[0m\n\u001b[1;32m      1\u001b[0m \u001b[0mposts\u001b[0m \u001b[0;34m=\u001b[0m \u001b[0mdb\u001b[0m\u001b[0;34m.\u001b[0m\u001b[0mposts\u001b[0m \u001b[0;31m# cria a coleção\u001b[0m\u001b[0;34m\u001b[0m\u001b[0m\n\u001b[0;32m----> 2\u001b[0;31m \u001b[0mpost_id\u001b[0m \u001b[0;34m=\u001b[0m \u001b[0mposts\u001b[0m\u001b[0;34m.\u001b[0m\u001b[0minsert_one\u001b[0m\u001b[0;34m(\u001b[0m\u001b[0mpost\u001b[0m\u001b[0;34m)\u001b[0m \u001b[0;31m#insere dados\u001b[0m\u001b[0;34m\u001b[0m\u001b[0m\n\u001b[0m\u001b[1;32m      3\u001b[0m \u001b[0mpost_id\u001b[0m\u001b[0;34m\u001b[0m\u001b[0m\n\u001b[1;32m      4\u001b[0m \u001b[0;34m\u001b[0m\u001b[0m\n\u001b[1;32m      5\u001b[0m \u001b[0;31m## drop a collection via pymongo\u001b[0m\u001b[0;34m\u001b[0m\u001b[0;34m\u001b[0m\u001b[0m\n",
      "\u001b[0;32m/usr/local/lib/python3.6/dist-packages/pymongo/collection.py\u001b[0m in \u001b[0;36minsert_one\u001b[0;34m(self, document, bypass_document_validation, session)\u001b[0m\n\u001b[1;32m    680\u001b[0m             self._insert(document,\n\u001b[1;32m    681\u001b[0m                          \u001b[0mbypass_doc_val\u001b[0m\u001b[0;34m=\u001b[0m\u001b[0mbypass_document_validation\u001b[0m\u001b[0;34m,\u001b[0m\u001b[0;34m\u001b[0m\u001b[0m\n\u001b[0;32m--> 682\u001b[0;31m                          session=session),\n\u001b[0m\u001b[1;32m    683\u001b[0m             self.write_concern.acknowledged)\n\u001b[1;32m    684\u001b[0m \u001b[0;34m\u001b[0m\u001b[0m\n",
      "\u001b[0;32m/usr/local/lib/python3.6/dist-packages/pymongo/collection.py\u001b[0m in \u001b[0;36m_insert\u001b[0;34m(self, docs, ordered, check_keys, manipulate, write_concern, op_id, bypass_doc_val, session)\u001b[0m\n\u001b[1;32m    596\u001b[0m             return self._insert_one(\n\u001b[1;32m    597\u001b[0m                 \u001b[0mdocs\u001b[0m\u001b[0;34m,\u001b[0m \u001b[0mordered\u001b[0m\u001b[0;34m,\u001b[0m \u001b[0mcheck_keys\u001b[0m\u001b[0;34m,\u001b[0m \u001b[0mmanipulate\u001b[0m\u001b[0;34m,\u001b[0m \u001b[0mwrite_concern\u001b[0m\u001b[0;34m,\u001b[0m \u001b[0mop_id\u001b[0m\u001b[0;34m,\u001b[0m\u001b[0;34m\u001b[0m\u001b[0m\n\u001b[0;32m--> 598\u001b[0;31m                 bypass_doc_val, session)\n\u001b[0m\u001b[1;32m    599\u001b[0m \u001b[0;34m\u001b[0m\u001b[0m\n\u001b[1;32m    600\u001b[0m         \u001b[0mids\u001b[0m \u001b[0;34m=\u001b[0m \u001b[0;34m[\u001b[0m\u001b[0;34m]\u001b[0m\u001b[0;34m\u001b[0m\u001b[0m\n",
      "\u001b[0;32m/usr/local/lib/python3.6/dist-packages/pymongo/collection.py\u001b[0m in \u001b[0;36m_insert_one\u001b[0;34m(self, doc, ordered, check_keys, manipulate, write_concern, op_id, bypass_doc_val, session)\u001b[0m\n\u001b[1;32m    576\u001b[0m \u001b[0;34m\u001b[0m\u001b[0m\n\u001b[1;32m    577\u001b[0m             result = self.__database.client._retryable_write(\n\u001b[0;32m--> 578\u001b[0;31m                 True, _insert_command, session)\n\u001b[0m\u001b[1;32m    579\u001b[0m             \u001b[0m_check_write_command_response\u001b[0m\u001b[0;34m(\u001b[0m\u001b[0mresult\u001b[0m\u001b[0;34m)\u001b[0m\u001b[0;34m\u001b[0m\u001b[0m\n\u001b[1;32m    580\u001b[0m         \u001b[0;32melse\u001b[0m\u001b[0;34m:\u001b[0m\u001b[0;34m\u001b[0m\u001b[0m\n",
      "\u001b[0;32m/usr/local/lib/python3.6/dist-packages/pymongo/mongo_client.py\u001b[0m in \u001b[0;36m_retryable_write\u001b[0;34m(self, retryable, func, session)\u001b[0m\n\u001b[1;32m   1096\u001b[0m     \u001b[0;32mdef\u001b[0m \u001b[0m_retryable_write\u001b[0m\u001b[0;34m(\u001b[0m\u001b[0mself\u001b[0m\u001b[0;34m,\u001b[0m \u001b[0mretryable\u001b[0m\u001b[0;34m,\u001b[0m \u001b[0mfunc\u001b[0m\u001b[0;34m,\u001b[0m \u001b[0msession\u001b[0m\u001b[0;34m)\u001b[0m\u001b[0;34m:\u001b[0m\u001b[0;34m\u001b[0m\u001b[0m\n\u001b[1;32m   1097\u001b[0m         \u001b[0;34m\"\"\"Internal retryable write helper.\"\"\"\u001b[0m\u001b[0;34m\u001b[0m\u001b[0m\n\u001b[0;32m-> 1098\u001b[0;31m         \u001b[0;32mwith\u001b[0m \u001b[0mself\u001b[0m\u001b[0;34m.\u001b[0m\u001b[0m_tmp_session\u001b[0m\u001b[0;34m(\u001b[0m\u001b[0msession\u001b[0m\u001b[0;34m)\u001b[0m \u001b[0;32mas\u001b[0m \u001b[0ms\u001b[0m\u001b[0;34m:\u001b[0m\u001b[0;34m\u001b[0m\u001b[0m\n\u001b[0m\u001b[1;32m   1099\u001b[0m             \u001b[0;32mreturn\u001b[0m \u001b[0mself\u001b[0m\u001b[0;34m.\u001b[0m\u001b[0m_retry_with_session\u001b[0m\u001b[0;34m(\u001b[0m\u001b[0mretryable\u001b[0m\u001b[0;34m,\u001b[0m \u001b[0mfunc\u001b[0m\u001b[0;34m,\u001b[0m \u001b[0ms\u001b[0m\u001b[0;34m,\u001b[0m \u001b[0;32mNone\u001b[0m\u001b[0;34m)\u001b[0m\u001b[0;34m\u001b[0m\u001b[0m\n\u001b[1;32m   1100\u001b[0m \u001b[0;34m\u001b[0m\u001b[0m\n",
      "\u001b[0;32m/usr/lib/python3.6/contextlib.py\u001b[0m in \u001b[0;36m__enter__\u001b[0;34m(self)\u001b[0m\n\u001b[1;32m     79\u001b[0m     \u001b[0;32mdef\u001b[0m \u001b[0m__enter__\u001b[0m\u001b[0;34m(\u001b[0m\u001b[0mself\u001b[0m\u001b[0;34m)\u001b[0m\u001b[0;34m:\u001b[0m\u001b[0;34m\u001b[0m\u001b[0m\n\u001b[1;32m     80\u001b[0m         \u001b[0;32mtry\u001b[0m\u001b[0;34m:\u001b[0m\u001b[0;34m\u001b[0m\u001b[0m\n\u001b[0;32m---> 81\u001b[0;31m             \u001b[0;32mreturn\u001b[0m \u001b[0mnext\u001b[0m\u001b[0;34m(\u001b[0m\u001b[0mself\u001b[0m\u001b[0;34m.\u001b[0m\u001b[0mgen\u001b[0m\u001b[0;34m)\u001b[0m\u001b[0;34m\u001b[0m\u001b[0m\n\u001b[0m\u001b[1;32m     82\u001b[0m         \u001b[0;32mexcept\u001b[0m \u001b[0mStopIteration\u001b[0m\u001b[0;34m:\u001b[0m\u001b[0;34m\u001b[0m\u001b[0m\n\u001b[1;32m     83\u001b[0m             \u001b[0;32mraise\u001b[0m \u001b[0mRuntimeError\u001b[0m\u001b[0;34m(\u001b[0m\u001b[0;34m\"generator didn't yield\"\u001b[0m\u001b[0;34m)\u001b[0m \u001b[0;32mfrom\u001b[0m \u001b[0;32mNone\u001b[0m\u001b[0;34m\u001b[0m\u001b[0m\n",
      "\u001b[0;32m/usr/local/lib/python3.6/dist-packages/pymongo/mongo_client.py\u001b[0m in \u001b[0;36m_tmp_session\u001b[0;34m(self, session, close)\u001b[0m\n\u001b[1;32m   1402\u001b[0m             \u001b[0;32mreturn\u001b[0m\u001b[0;34m\u001b[0m\u001b[0m\n\u001b[1;32m   1403\u001b[0m \u001b[0;34m\u001b[0m\u001b[0m\n\u001b[0;32m-> 1404\u001b[0;31m         \u001b[0ms\u001b[0m \u001b[0;34m=\u001b[0m \u001b[0mself\u001b[0m\u001b[0;34m.\u001b[0m\u001b[0m_ensure_session\u001b[0m\u001b[0;34m(\u001b[0m\u001b[0msession\u001b[0m\u001b[0;34m)\u001b[0m\u001b[0;34m\u001b[0m\u001b[0m\n\u001b[0m\u001b[1;32m   1405\u001b[0m         \u001b[0;32mif\u001b[0m \u001b[0ms\u001b[0m \u001b[0;32mand\u001b[0m \u001b[0mclose\u001b[0m\u001b[0;34m:\u001b[0m\u001b[0;34m\u001b[0m\u001b[0m\n\u001b[1;32m   1406\u001b[0m             \u001b[0;32mwith\u001b[0m \u001b[0ms\u001b[0m\u001b[0;34m:\u001b[0m\u001b[0;34m\u001b[0m\u001b[0m\n",
      "\u001b[0;32m/usr/local/lib/python3.6/dist-packages/pymongo/mongo_client.py\u001b[0m in \u001b[0;36m_ensure_session\u001b[0;34m(self, session)\u001b[0m\n\u001b[1;32m   1389\u001b[0m             \u001b[0;31m# Don't make implied sessions causally consistent. Applications\u001b[0m\u001b[0;34m\u001b[0m\u001b[0;34m\u001b[0m\u001b[0m\n\u001b[1;32m   1390\u001b[0m             \u001b[0;31m# should always opt-in.\u001b[0m\u001b[0;34m\u001b[0m\u001b[0;34m\u001b[0m\u001b[0m\n\u001b[0;32m-> 1391\u001b[0;31m             \u001b[0;32mreturn\u001b[0m \u001b[0mself\u001b[0m\u001b[0;34m.\u001b[0m\u001b[0mstart_session\u001b[0m\u001b[0;34m(\u001b[0m\u001b[0mcausal_consistency\u001b[0m\u001b[0;34m=\u001b[0m\u001b[0;32mFalse\u001b[0m\u001b[0;34m)\u001b[0m\u001b[0;34m\u001b[0m\u001b[0m\n\u001b[0m\u001b[1;32m   1392\u001b[0m         \u001b[0;32mexcept\u001b[0m \u001b[0;34m(\u001b[0m\u001b[0mConfigurationError\u001b[0m\u001b[0;34m,\u001b[0m \u001b[0mInvalidOperation\u001b[0m\u001b[0;34m)\u001b[0m\u001b[0;34m:\u001b[0m\u001b[0;34m\u001b[0m\u001b[0m\n\u001b[1;32m   1393\u001b[0m             \u001b[0;31m# Sessions not supported, or multiple users authenticated.\u001b[0m\u001b[0;34m\u001b[0m\u001b[0;34m\u001b[0m\u001b[0m\n",
      "\u001b[0;32m/usr/local/lib/python3.6/dist-packages/pymongo/mongo_client.py\u001b[0m in \u001b[0;36mstart_session\u001b[0;34m(self, causal_consistency)\u001b[0m\n\u001b[1;32m   1367\u001b[0m \u001b[0;34m\u001b[0m\u001b[0m\n\u001b[1;32m   1368\u001b[0m         \u001b[0;31m# Raises ConfigurationError if sessions are not supported.\u001b[0m\u001b[0;34m\u001b[0m\u001b[0;34m\u001b[0m\u001b[0m\n\u001b[0;32m-> 1369\u001b[0;31m         \u001b[0mserver_session\u001b[0m \u001b[0;34m=\u001b[0m \u001b[0mself\u001b[0m\u001b[0;34m.\u001b[0m\u001b[0m_get_server_session\u001b[0m\u001b[0;34m(\u001b[0m\u001b[0;34m)\u001b[0m\u001b[0;34m\u001b[0m\u001b[0m\n\u001b[0m\u001b[1;32m   1370\u001b[0m         opts = client_session.SessionOptions(\n\u001b[1;32m   1371\u001b[0m             causal_consistency=causal_consistency)\n",
      "\u001b[0;32m/usr/local/lib/python3.6/dist-packages/pymongo/mongo_client.py\u001b[0m in \u001b[0;36m_get_server_session\u001b[0;34m(self)\u001b[0m\n\u001b[1;32m   1375\u001b[0m     \u001b[0;32mdef\u001b[0m \u001b[0m_get_server_session\u001b[0m\u001b[0;34m(\u001b[0m\u001b[0mself\u001b[0m\u001b[0;34m)\u001b[0m\u001b[0;34m:\u001b[0m\u001b[0;34m\u001b[0m\u001b[0m\n\u001b[1;32m   1376\u001b[0m         \u001b[0;34m\"\"\"Internal: start or resume a _ServerSession.\"\"\"\u001b[0m\u001b[0;34m\u001b[0m\u001b[0m\n\u001b[0;32m-> 1377\u001b[0;31m         \u001b[0;32mreturn\u001b[0m \u001b[0mself\u001b[0m\u001b[0;34m.\u001b[0m\u001b[0m_topology\u001b[0m\u001b[0;34m.\u001b[0m\u001b[0mget_server_session\u001b[0m\u001b[0;34m(\u001b[0m\u001b[0;34m)\u001b[0m\u001b[0;34m\u001b[0m\u001b[0m\n\u001b[0m\u001b[1;32m   1378\u001b[0m \u001b[0;34m\u001b[0m\u001b[0m\n\u001b[1;32m   1379\u001b[0m     \u001b[0;32mdef\u001b[0m \u001b[0m_return_server_session\u001b[0m\u001b[0;34m(\u001b[0m\u001b[0mself\u001b[0m\u001b[0;34m,\u001b[0m \u001b[0mserver_session\u001b[0m\u001b[0;34m,\u001b[0m \u001b[0mlock\u001b[0m\u001b[0;34m)\u001b[0m\u001b[0;34m:\u001b[0m\u001b[0;34m\u001b[0m\u001b[0m\n",
      "\u001b[0;32m/usr/local/lib/python3.6/dist-packages/pymongo/topology.py\u001b[0m in \u001b[0;36mget_server_session\u001b[0;34m(self)\u001b[0m\n\u001b[1;32m    414\u001b[0m                             \u001b[0many_server_selector\u001b[0m\u001b[0;34m,\u001b[0m\u001b[0;34m\u001b[0m\u001b[0m\n\u001b[1;32m    415\u001b[0m                             \u001b[0mself\u001b[0m\u001b[0;34m.\u001b[0m\u001b[0m_settings\u001b[0m\u001b[0;34m.\u001b[0m\u001b[0mserver_selection_timeout\u001b[0m\u001b[0;34m,\u001b[0m\u001b[0;34m\u001b[0m\u001b[0m\n\u001b[0;32m--> 416\u001b[0;31m                             None)\n\u001b[0m\u001b[1;32m    417\u001b[0m                 \u001b[0;32melif\u001b[0m \u001b[0;32mnot\u001b[0m \u001b[0mself\u001b[0m\u001b[0;34m.\u001b[0m\u001b[0m_description\u001b[0m\u001b[0;34m.\u001b[0m\u001b[0mreadable_servers\u001b[0m\u001b[0;34m:\u001b[0m\u001b[0;34m\u001b[0m\u001b[0m\n\u001b[1;32m    418\u001b[0m                     self._select_servers_loop(\n",
      "\u001b[0;32m/usr/local/lib/python3.6/dist-packages/pymongo/topology.py\u001b[0m in \u001b[0;36m_select_servers_loop\u001b[0;34m(self, selector, timeout, address)\u001b[0m\n\u001b[1;32m    197\u001b[0m             \u001b[0;32mif\u001b[0m \u001b[0mtimeout\u001b[0m \u001b[0;34m==\u001b[0m \u001b[0;36m0\u001b[0m \u001b[0;32mor\u001b[0m \u001b[0mnow\u001b[0m \u001b[0;34m>\u001b[0m \u001b[0mend_time\u001b[0m\u001b[0;34m:\u001b[0m\u001b[0;34m\u001b[0m\u001b[0m\n\u001b[1;32m    198\u001b[0m                 raise ServerSelectionTimeoutError(\n\u001b[0;32m--> 199\u001b[0;31m                     self._error_message(selector))\n\u001b[0m\u001b[1;32m    200\u001b[0m \u001b[0;34m\u001b[0m\u001b[0m\n\u001b[1;32m    201\u001b[0m             \u001b[0mself\u001b[0m\u001b[0;34m.\u001b[0m\u001b[0m_ensure_opened\u001b[0m\u001b[0;34m(\u001b[0m\u001b[0;34m)\u001b[0m\u001b[0;34m\u001b[0m\u001b[0m\n",
      "\u001b[0;31mServerSelectionTimeoutError\u001b[0m: localhost:27017: [Errno 111] Connection refused"
     ]
    }
   ],
   "source": [
    "posts = db.posts # cria a coleção\n",
    "post_id = posts.insert_one(post) #insere dados\n",
    "post_id\n",
    "\n",
    "## drop a collection via pymongo\n",
    "#client['test_database'].drop_collection('posts')"
   ]
  },
  {
   "cell_type": "code",
   "execution_count": null,
   "metadata": {},
   "outputs": [],
   "source": [
    "db.collection_names()"
   ]
  },
  {
   "cell_type": "code",
   "execution_count": null,
   "metadata": {},
   "outputs": [],
   "source": [
    "posts.find_one()"
   ]
  },
  {
   "cell_type": "code",
   "execution_count": null,
   "metadata": {},
   "outputs": [],
   "source": [
    "new_posts = [{\"author\": \"Mike\",\n",
    "              \"text\": \"Another post!\",\n",
    "              \"tags\": [\"bulk\", \"insert\"],\n",
    "              \"date\": datetime.datetime(2009, 11, 12, 11, 14)},\n",
    "             {\"author\": \"Eliot\",\n",
    "              \"title\": \"MongoDB is fun\",\n",
    "              \"text\": \"and pretty easy too!\",\n",
    "              \"date\": datetime.datetime(2009, 11, 10, 10, 45)}]"
   ]
  },
  {
   "cell_type": "code",
   "execution_count": null,
   "metadata": {},
   "outputs": [],
   "source": [
    "posts.insert_many(new_posts)"
   ]
  },
  {
   "cell_type": "code",
   "execution_count": null,
   "metadata": {},
   "outputs": [],
   "source": [
    "posts.find_one({\"author\": \"Mike\"})"
   ]
  },
  {
   "cell_type": "code",
   "execution_count": null,
   "metadata": {},
   "outputs": [],
   "source": [
    "#for post in posts.find({\"author\": \"Mike\"}):\n",
    "for post in posts.find():\n",
    "    print(post)"
   ]
  },
  {
   "cell_type": "code",
   "execution_count": null,
   "metadata": {},
   "outputs": [],
   "source": [
    "posts.count()"
   ]
  },
  {
   "cell_type": "markdown",
   "metadata": {},
   "source": [
    "#### Using Pandas"
   ]
  },
  {
   "cell_type": "code",
   "execution_count": null,
   "metadata": {},
   "outputs": [],
   "source": [
    "example_pd = posts.find()\n",
    "df_pandas =  pd.DataFrame(list(example_pd))\n",
    "df_pandas"
   ]
  },
  {
   "cell_type": "markdown",
   "metadata": {},
   "source": [
    "## Accessing Feeds RSS"
   ]
  },
  {
   "cell_type": "markdown",
   "metadata": {},
   "source": [
    "http://www.feedparser.org/  \n",
    "http://docs.python.org/library/re.html  \n",
    "http://www.pythonware.com/library/pil/handbook/index.htm  "
   ]
  },
  {
   "cell_type": "code",
   "execution_count": 88,
   "metadata": {},
   "outputs": [],
   "source": [
    "import feedparser"
   ]
  },
  {
   "cell_type": "code",
   "execution_count": 94,
   "metadata": {},
   "outputs": [],
   "source": [
    "d = feedparser.parse('https://oglobo.globo.com/rss.xml')"
   ]
  },
  {
   "cell_type": "code",
   "execution_count": 97,
   "metadata": {},
   "outputs": [
    {
     "name": "stdout",
     "output_type": "stream",
     "text": [
      "OGlobo\n",
      "https://oglobo.globo.com/\n",
      "10\n"
     ]
    }
   ],
   "source": [
    "print(d['feed']['title'])\n",
    "print(d['feed']['link'])\n",
    "#print(d.feed.subtitle)\n",
    "print(len(d['entries']))"
   ]
  },
  {
   "cell_type": "code",
   "execution_count": 98,
   "metadata": {},
   "outputs": [
    {
     "name": "stdout",
     "output_type": "stream",
     "text": [
      "Vítima de queda de helicóptero em NY postou vídeo da decolagem\n",
      "https://oglobo.globo.com/mundo/vitima-de-queda-de-helicoptero-em-ny-postou-video-da-decolagem-22483348\n"
     ]
    }
   ],
   "source": [
    "print(d['entries'][0]['title']) \n",
    "print(d.entries[0]['link'])"
   ]
  },
  {
   "cell_type": "code",
   "execution_count": 99,
   "metadata": {},
   "outputs": [
    {
     "name": "stdout",
     "output_type": "stream",
     "text": [
      "{'Date': 'Tue, 13 Mar 2018 11:51:10 GMT', 'Server': 'Apache', 'X-Frame-Options': 'SAMEORIGIN', 'Expires': '1520941880087', 'Content-Type': 'application/rss+xml;charset=UTF-8', 'Access-Control-Allow-Origin': '*', 'Vary': 'Accept-Encoding', 'Content-Encoding': 'gzip', 'Content-Length': '2619', 'cache-control': 'public, max-age=602', 'Age': '27', 'grace': 'none', 'X-Cache': 'HIT', 'X-Cache-Hits': '1', 'Accept-Ranges': 'bytes', 'Connection': 'close'}\n"
     ]
    }
   ],
   "source": [
    "print(d.headers)"
   ]
  },
  {
   "cell_type": "code",
   "execution_count": 100,
   "metadata": {},
   "outputs": [
    {
     "name": "stdout",
     "output_type": "stream",
     "text": [
      "Vítima de queda de helicóptero em NY postou vídeo da decolagem: https://oglobo.globo.com/mundo/vitima-de-queda-de-helicoptero-em-ny-postou-video-da-decolagem-22483348\n",
      "\n",
      "Meirelles afirma que há espaço para candidato de centro na eleição presidencial: https://oglobo.globo.com/brasil/meirelles-afirma-que-ha-espaco-para-candidato-de-centro-na-eleicao-presidencial-22483315\n",
      "\n",
      "Ex-astro da NBA que ofereceu ajuda a Trump e Kim escapa de pena de prisão: https://oglobo.globo.com/mundo/ex-astro-da-nba-que-ofereceu-ajuda-trump-kim-escapa-de-pena-de-prisao-22483261\n",
      "\n",
      "Defesa de Lula pede para ser avisada sobre data de julgamento de recurso: https://oglobo.globo.com/brasil/defesa-de-lula-pede-para-ser-avisada-sobre-data-de-julgamento-de-recurso-22483287\n",
      "\n",
      "Com Vila Kennedy ocupada, tráfico usa menores para fazer delivery de drogas: https://oglobo.globo.com/rio/com-vila-kennedy-ocupada-trafico-usa-menores-para-fazer-delivery-de-drogas-22483279\n",
      "\n",
      "Chegada de Arthur pode representar saída de Mina do Barcelona; entenda: https://oglobo.globo.com/esportes/chegada-de-arthur-pode-representar-saida-de-mina-do-barcelona-entenda-22483319\n",
      "\n",
      "Forças turcas cercam a cidade síria de Afrin, ocupada por milícia curda: https://oglobo.globo.com/mundo/forcas-turcas-cercam-cidade-siria-de-afrin-ocupada-por-milicia-curda-22483257\n",
      "\n",
      "Venda de Gerson vira dívida, e Flu é cobrado na Justiça: https://oglobo.globo.com/esportes/venda-de-gerson-vira-divida-flu-cobrado-na-justica-22483256\n",
      "\n",
      "CVM acusa Wesley Batista de ter arquitetado esquema de informação privilegiada: https://oglobo.globo.com/economia/cvm-acusa-wesley-batista-de-ter-arquitetado-esquema-de-informacao-privilegiada-22482073\n",
      "\n",
      "O Sul da Itália que se rebelou nas eleições e deu seu voto ao Cinco Estrelas: https://oglobo.globo.com/mundo/o-sul-da-italia-que-se-rebelou-nas-eleicoes-deu-seu-voto-ao-cinco-estrelas-22481815\n",
      "\n"
     ]
    }
   ],
   "source": [
    "for post in d.entries:\n",
    "    print(post.title + \": \" + post.link + \"\\n\")"
   ]
  },
  {
   "cell_type": "markdown",
   "metadata": {},
   "source": [
    "## Acessando Twitter"
   ]
  },
  {
   "cell_type": "markdown",
   "metadata": {},
   "source": [
    "https://github.com/bear/python-twitter  \n",
    "Go to http://twitter.com/apps/new to create an app and get these items  \n",
    "See https://dev.twitter.com/docs/auth/oauth for more information on Twitter's OAuth implementation  \n",
    "https://dev.twitter.com/rest/reference/get/account/verify_credentials  \n",
    "https://dev.twitter.com/oauth/overview/application-owner-access-tokens  "
   ]
  },
  {
   "cell_type": "code",
   "execution_count": 101,
   "metadata": {},
   "outputs": [],
   "source": [
    "import twitter"
   ]
  },
  {
   "cell_type": "code",
   "execution_count": 104,
   "metadata": {},
   "outputs": [],
   "source": [
    "with open('/Documents/MMD/notebooks/twitter_tokens.txt', 'r') as twitter_tokens:\n",
    "    tokens = twitter_tokens.read().split(',')\n",
    "consumer_key = tokens[0].strip()\n",
    "consumer_secret = tokens[1].strip()\n",
    "access_token = tokens[2].strip()\n",
    "access_token_secret = tokens[3].strip()"
   ]
  },
  {
   "cell_type": "markdown",
   "metadata": {},
   "source": [
    "Construct, sign, and open a twitter request using the hard-coded credentials above."
   ]
  },
  {
   "cell_type": "code",
   "execution_count": 105,
   "metadata": {},
   "outputs": [],
   "source": [
    "api = twitter.Api(consumer_key=consumer_key, consumer_secret=consumer_secret, \n",
    "                  access_token_key=access_token, access_token_secret=access_token_secret)"
   ]
  },
  {
   "cell_type": "code",
   "execution_count": 106,
   "metadata": {},
   "outputs": [
    {
     "name": "stdout",
     "output_type": "stream",
     "text": [
      "{\"created_at\": \"Thu Apr 09 10:44:07 +0000 2009\", \"description\": \"Researcher and Professor\", \"favourites_count\": 29, \"followers_count\": 504, \"friends_count\": 142, \"id\": 29959702, \"lang\": \"pt\", \"listed_count\": 18, \"location\": \"Rio de Janeiro\", \"name\": \"Renato Rocha Souza\", \"profile_background_color\": \"9AE4E8\", \"profile_background_image_url\": \"http://pbs.twimg.com/profile_background_images/33941499/8.jpg\", \"profile_image_url\": \"http://pbs.twimg.com/profile_images/503088023/Renato2_normal.JPG\", \"profile_link_color\": \"0084B4\", \"profile_sidebar_fill_color\": \"DDFFCC\", \"profile_text_color\": \"333333\", \"screen_name\": \"rrsouza\", \"status\": {\"created_at\": \"Wed May 31 18:26:35 +0000 2017\", \"favorite_count\": 2, \"id\": 869983460110331904, \"id_str\": \"869983460110331904\", \"lang\": \"und\", \"retweet_count\": 2, \"source\": \"<a href=\\\"http://twitter.com/download/android\\\" rel=\\\"nofollow\\\">Twitter for Android</a>\", \"text\": \"https://t.co/60gS89BY1Z #sif17 @avilarenata\"}, \"statuses_count\": 1365, \"time_zone\": \"London\", \"url\": \"http://t.co/Bw5u7mg5\"}\n"
     ]
    }
   ],
   "source": [
    "print(api.VerifyCredentials())"
   ]
  },
  {
   "cell_type": "code",
   "execution_count": 107,
   "metadata": {},
   "outputs": [
    {
     "name": "stdout",
     "output_type": "stream",
     "text": [
      "['Thomas Power', 'Randy Gage', 'Rosiene Dilly', 'The Web Foundation', 'Appus', 'Renata Avila', 'Golala Ruhani', 'Sandi Chimpala', 'Malavika Jayaram', 'Sthlm Internet Forum', 'NetApp Deutschland', 'Lu.CaaS', 'Carla Codeço Coelho', 'Overleaf', 'Cláudio Berrondo', 'Flávio Amieiro', 'Pablo Cerdeira', 'Cut the Rope', 'Machinalis', 'MiningTheSocialWeb', 'CNET News', 'ReadWrite', 'TNW', 'CNET', 'The Verge', 'Engadget', 'Lifehacker', 'Gizmodo', 'WIRED', 'TechCrunch', 'Ian Ozsvald', 'CNPq', 'Claudio Gnoli', 'strongsteam', 'Diana Maynard', 'Joyce Figueiró', 'Instagram: @turicas', 'PyPLN', 'Open Source For You', 'TechRepublic', 'ZDNet', 'Twitter API', 'Udacity', 'Clarissa', 'Roberto R.S.Sobrinho', 'Luana Sales', 'Sensacionalista', 'André Branco', 'CMA', 'Asla Sá', 'Renata Teixeira', 'FGV EMAp', 'FGV', 'FGV Marketing', 'FGV CPDOC', 'Globant Brasil', 'Sheffield NLP', 'Débora Pereira', 'André Andrade', \"O'Reilly Radar\", 'Virgilio Almeida', 'Dalai Lama', 'Alexandre Colucci', 'Benildes Maculan', 'Gabriel Rezende', 'Mashable', 'alfredo hirsch', 'Fernando S Parreiras', 'NYTimes Tech', 'MiniCursos', 'Googleverse', 'Hootsuite', 'G1 - Concursos', 'Ivana', 'Dina Marques', 'João Batista', 'W3C Brasil', 'ASIS&T', 'PPCGI UFPB', 'Ursula Blattmann', 'Google', 'Maria Inês Tomaél', 'Nanci Oddone', 'Pierre Levy', 'PPGCI - Unesp', 'Silvana G. Vidotti', 'John C. Dvorak', 'Rob Enderle', 'Word Spy', 'TIME', 'CNN Breaking News', 'Guardian Data', 'Ciência Hoje', 'Carlos A Figueiredo', 'New Scientist', 'Wagner Meira Jr', 'Nathan Yau', 'Marcelo Martins', 'Kalina Bontcheva', 'Ana Souza', 'Instituto Novo Ser', \"Tim O'Reilly\", 'Guardian Tech', 'WebHolic!', 'Projeto TrackSource', 'DEF CON', 'Chronic Developments', 'Grupo ReCOL', 'Finep', 'Ricardo Caspirro', 't3', 'michelle Bouhid', 'Wefollow', 'Leonardo Souza', 'Luiz Maia', 'Aldo de A. Barreto', 'Adriana Bogliolo', 'TheFreeDictionary', 'Niraj Aswani', 'hamish cunningham', 'Stasa Vujicic', 'Guilherme A. Dias', 'AGNALDO', 'Camila', 'Joana Ziller', 'Saldanha', 'Hagar Espanha Gomes', 'Mozart Lima', 'Elaine Mosconi', 'Renata Vieira', '(((Howard Rheingold)))', 'Eduardo Chaves', 'Carlos Nepomuceno', 'GATE (gate.ac.uk)', 'Jaime Bastos', 'GO Outdoors', 'Joyce Prado', 'marcellobax', 'Helio', 'Maria Manuel Borges', 'Flávio Codeço Coelho', 'Ricardo R. Barbosa']\n"
     ]
    }
   ],
   "source": [
    "users = api.GetFriends()\n",
    "print([u.name for u in users])"
   ]
  },
  {
   "cell_type": "code",
   "execution_count": 108,
   "metadata": {},
   "outputs": [
    {
     "name": "stdout",
     "output_type": "stream",
     "text": [
      "['nan_nangelica', 'ValeriaMacedo22', 'ragarwa2', 'wmg_binho', 'Apbsvasconcelos', 'sethvanhooland', 'InnerSmart', 'ROMELZINHA', 'leticialves', 'rmwada', 'EnricoCalandro', 'MalJayaram', 'sandichimpala', 'Barbtinah', 'guyberger', 'solanasaurus', 'etaylaw', 'LeiKimmayong', 'hannahmccarrick', 'periodistagodoy', 'phoblife', 'avilarenata', 'relayerlabs', 'JLdelda', 'micmars', 'AntonioMoneo', 'lucasparisi', 'cristinabg6', 'flor322003', 'klaussherzog', 'gwyngarrison1', 'TTCSP', 'RosariaOtoni', 'ColumbiaGPI', 'karusimionato', 'mafradenise', 'bellastellabras', 'Neurociencia', 'Renato_dxter', 'MMaurosilvareis', 'celiadiamantino', 'pamelabmachado', 'gabyprevidello', 'Stela_Maris_CS', 'SandraValeriacd', 'Dinieledfisica', 'FlorVsoares', 'KeilaRosado', 'Binoculocultura', 'swordjack', 'Krisluz32', 'klawasaki', 'jujudesouza2', 'MgDayanne', 'ignaciojrctp', 'mrbastos_', 'flavioamieiro', 'dayfamaral', 'llira5', 'SilviaPontes3', 'liara_santos', 'Mmdeoliver', 'Jessika18Leal', 'Airton_Costa', 'angelo_m_calvao', 'macfigueiredo', 'linhares', 'MarcelaRuas', 'thiagon52259992', 'heraldoborges', 'luizclaudioprof', 'cristyan545', '2014Jeh', 'lelebrito1', 'NAMD_EMAp', 'roseanevinte', 'murilogentil', 'gwtostes', 'joquizansouzafr', 'PfcoelhosPaulo', 'cmcf71', 'KatharineRosser', 'FelipeASantos', 'lindajheyne', 'goreth_maciel', 'alex_delgado_74', 'catiarbp1', 'rtgoncalves', 'MariaAlves015', 'pazryk', 'nataliago0610', 'andreleaomacedo', 'zehf', 'leila_seixas', 'brenovinicios7', 'DaniloNC', 'junior_grossi', 'durval_vieira', 'scritur', 'Rosangela772003', 'angelopolydoro', 'sharonhumphreis', 'rocha_racha', 'be_duarte', 'somioli2', 'gioestanislau', 'SSLoide', 'gladeirabh', 'betha_novais', 'tiagohide', 'pablocerdeira', 'beta_depaula', 'BrunoRowing', 'nirajaswani', 'Flaviabalbino1', 'a_miziara', 'Gabilavk', 'AdrianeLegnani', 'biduzen', 'fellipeassuncao', 'Colaboraufmg', 'SilKayke', 'alvarobrezolin', 'andremlcurvello', 'SuzanaHuguenin', 'raflima64', 'bibliotecaippur', 'fgvbmhs', 'eandrade', 'Alvescarlinha', 'bethapecanha', 'masantilone', 'brfsantos', 'israelst', 'The_best_ads', 'acbsc', 'Paul_Leite', 'PyPLN', 'clesjue', 'paulo_rres', 'damiano10', 'fc_renato', 'JuniorNovaes', 'eventoSBCC', 'debasispadhee', 'nairabello', 'BrisaPozzi', 'luaugustta', 'LuisGusNeves', 'Monalisavenuto', 'ramonabanda', 'preinh', 'Cynthia_brownn', 'kauaguilar', 'iDodi_2011', 'IRENEGOMES2', 'GraceSave', 'fgv_emap', 'edwardkeys', 'wladbrandao', 'lubpiovezan', 'turicas', 'NTCIR', 'RavBhagdev', 'albertmgtm', 'RicardoCCO', 'pridamata', 'isabellabritobr', 'jackiepaw', 'fatbrandao', 'PatriciaRAlves', 'karolsdutra', 'Manolitazinha', 'AVlachidis', 'Eduardo_Leandro', 'renatofabianopv', 'crismonaco', 'Targettecno', 'ectolentino', 'Eliana_Valois', 'rogerio_ramalho', 'wellbiblio', 'claudioberrondo', 'SemanaCIUFMG', 'rugani1', 'celsocastro1963', 'Calbiblio', 'samiralap', 'paulodelatierra', 'OrestesTrevisol', 'Rodrigomarzano', 'marizasantos14', 'Clovelino', 'rildolucio', 'edesiojuniorok', '_ninamariano', 'rockgerio', 'joyfigueiro', 'eciufmg_cenex', 'SMNBONECAS', 'dbaima', 'CDMconsultores', 'falaidiomas', 'lliflor', 'cenexbuufmg', 'mhlima', 'Izabel_Franca', 'crisnv_CV', 'negabricia', 'askvisory', 'cursosrj', 'steniomorais', 'Goyata', 'nanadiamantino', 'gracioso', 'pereira_henri', 'norbal1113', 'empj2011', 'antoanne', 'waltercapanema', 'antonioapjr', 'sergiorosa', 'mauro_damo', 'fperini', 'andreischeiner', 'leticiarps', 'rafaelbco', 'luanafsales', 'mariafernandamc', 'itcsoftwarecom', 'hamendonca', 'Alinecarmo', 'eduardopubli', 'overead', 'afsb2013', '_pauloandre', 'deiaerica', 'rodrigoci', 'Marli_SV', 'andreapinheiros', 'Amora', 'andre_info', 'cassiopinheiro1', 'marlonlamancio', 'andre_branco', 'AslaSa', 'japp2009', 'ReCTeixeira', 'LORENA_LTP', 'CinemanoRioSF', 'Alejandrocampos', 'KellyAVale', '517v35tr3', 'Virginiacancado', 'rubialira', 'casadebambabh', 'Irisvieira', 'LeoMartinsCampo', 'neelannair', 'SinayAraujo', 'Topdrinksbrasil', 'Frank_5816', 'tuitqblog', 'rubensmc', 'Asucupira', 'Helmaxx', 'MataDoPlanalto', 'sampaiorenan', 'Candi_B_good', 'danyduarte', 'wlsites', 'alandbh', 'ProfJT', 'alzirakarla', 'tamaracoutob', 'kkgnunes', 'Adriano_Dias', 'gleonhard', 'ronaldfar', 'gilmara_biblio', 'GiCristiane', 'SaraivaAngela', 'Jjosemrocha', 'fernandozaidan', 'anaufmg2010', 'cidasilvaufmg', 'adeliziarm', 'semideias', 'lourdesmartins', 'marlirg', 'rodrigo_delano', 'Cintiafalcao01', 'tatinhaorsini', 'mu5icnet', 'hugopintobr', 'dedias671', 'luhrocha', 'ananascimento', 'fparreiras', 'Bibsinapse', 'atila_precione', 'edbertof', 'Apostilagra_tis', 'citizentalks', 'concursos_bra', 'katiaccoelho', 'Rock_RJ', 'caroltecila', 'xandabiblio', 'AndradeAQ', 'amanda_snavarro', 'deboracarpe', 'chrispess', 'ISAMARZANO', 'jujuglamoour', 'DesireePompeu', 'marcosmribeiro', 'siimoneUFMG', 'Soraialara', 'lucianaemirena', 'furpere', 'pedrocorone', 'gladsonoliveira', 'lnpq', 'joicert', 'BelleSaez', 'emarchettisilva', 'selminhabiblio', 'verorockband', 'omelhordamusica', 'blivana', 'dynamarks', 'davidvernonbr', 'EDUARDOAANDRADE', 'rosilenecoelho', 'joaoernesto', 'Wpmagic', 'HCLISD', 'dalbacosta', 'LadyaneRO', 'julianasnunes', 'leticiacapelao', 'neticmonitor', 'sandeep_vedula', 'kbontcheva', 'silvanavidotti', 'neoddone', 'knowledgedrops', 'AlvaGrout', 'KindleDXDX', 'TheKindleDX', 'KindleDXReader', 'lnadorno', 'hmossri', 'alineferrari', 'acessolivrebr', 'carlosmrocha', 'drica3d', 'MafiaWarsBrasil', 'C_A_Figueiredo', 'Gartner_inc', 'luiz_faquir', 'GizzaBa', 'ejeffects', 'HMainenti', 'erickbrazil', 'agitadiv', 'lulacerdas', 'fefemendonca', 'Vicchi01', 'veralorenzo', 'Deiafixa', 'TatianeAntonia', 'Fernandapereir', 'agewithattitude', 'personal_travel', 'duduobom', 'collectiveiq', 'aprilsystems', 'juliaapagon', 'honeyaround', 'liviamarangon', 'anareynosoREO', 'efacilencontra', 'carollina25', 'Kdulloyd', 'raisa_mendes', 'JunioMLourenco', 'annmarab', 'nanda_galmeida', 'sharronsulzbac', 'anonimoignorant', 'Roberto_EaD', 'Daniesil', 'ufmg_recol', 'tacivana', 'DaniVazz', 'powertwitter', 'callieclayton66', 'brubrant', 'LeidiLeidi', 'leoabud', 'LuizMaia', 'ccodeco', 'rafaelsn2004', 'sisojoy', 'tmbittencourt', 'Belkiss', 'heberlee', 'Liberopinion', 'AleCrissa', 'Jakis', 'augustobernardi', 'oliveira_bu', 'raquelpassos', 'Aline_Yasmin', 'ricardocaspirro', 'RenetaPopova', 'edivanioduarte', 'gmrezende', 'pablojorge', 'Benildes', 'zatlima', 'twit_tadas', 'romuloci', 'guerrafotos', 'aivlisf', 'AprendaAquiBR', 'Jeffeoliveira', 'andreabh', 'minessep', 'adrianabsd', 'SinergiaEventos', 'wackystuffinfo', 'FlavianeGravina', 'crisdias', 'alineal3', 'joanaziller', 'hcunningham', 'ca_mantovani', 'stasavujicic', 'vieirarenata', 'librunet', 'leomoraes', 'NenaGonzalez', 'alexspeziali', 'nelsonandrep', 'hugoopes', 'Lauralice', 'diellemonique', 'woytchek', 'brenosampaiobh', 'atbmari', 'carolvalis', 'rgsouza', 'GeorgiaGCD', 'guilhermeataide', 'ReAmaral75', 'cvieirao', 'joaninhabc', 'patriciapenido', 'nicolepatricia', 'franktaan', 'alessandra_ela', 'AnaMarciaPaiva', 'thekellen', 'grazimendes', 'Pedro_disse', 'danit_andreuni', 'marcellobax', 'POSICAOGLOBAL', 'joyceprado', 'Clemens1', 'admgilson', 'andreboka', 'rlmassen', 'igorquintal', 'ritalopess', 'paulajordao', 'Dictionarycom', 'hesteban', 'rogerotoni', 'Marcelteo', 'carolgetrank', 'fredeci', 'fatimadeluzie', 'Kuramotobr', 'jaimebastos', 'mmborges', 'Paty_Campos', 'alecolucci', 'marcelonani', 'aderman_jr', 'notasdopinheiro', 'fccoelho', 'RicardoRBarbosa']\n"
     ]
    }
   ],
   "source": [
    "followers = api.GetFollowers()\n",
    "print([u.screen_name for u in followers])"
   ]
  },
  {
   "cell_type": "code",
   "execution_count": 109,
   "metadata": {},
   "outputs": [
    {
     "name": "stdout",
     "output_type": "stream",
     "text": [
      "['@claumodesto1 @CarlosF487303 @rrsouza https://t.co/ApLZ5MTdAu', 'From #SIF17 panel with @avilarenata @gbengasesan @li_saga @solanasaurus @MalJayaram @rrsouza https://t.co/BHmQnGc65B https://t.co/EjSrBarPF2', '@avilarenata @sachavg @GreatDismal @rrsouza Truly was. Signs of a good panel: panelists themselves had fun &amp; learnt… https://t.co/ETpO8sO2HX', '@nnenna @MalJayaram @gbengasesan @li_saga @solanasaurus @rrsouza Thank you all!', '@MalJayaram @sachavg @GreatDismal @rrsouza Epic panel!', 'That was @sachavg, quoting from #HarryPotter. Pretty heavy on quotes, our panel: that, @GreatDismal (me) &amp; Hannah A… https://t.co/NFeYlt2EQs', 'Key point at @fxinternet this am: \"Need to make technical questions society questions\" @rrsouza #digitalrights #sif17 #leaveno1offine', '.@rrsouza: I refuse the conception of technological impact. We are the ones that choose what technology is. #SIF17 #SIF3B #LeaveNo1Offline', 'Retweeted Sandi Chimpala (@sandichimpala):\\n\\n@rrsouza From audience quoting Harry Potter: \"Don\\'t trust anything... https://t.co/4MG5486dCi', '@rrsouza From audience quoting Harry Potter: \"Don\\'t trust anything that thinks for itself if you can\\'t see where it… https://t.co/fAyNXXzNni', \"@rrsouza: there's some information normal people can contribute to make AI smarter by learning habits w/o compromising data\\n#SIF3B\\n#SIF17\", '@sandichimpala @solanasaurus @rrsouza But if it was a kid chasing a ball - probably would not. Bottom line though -… https://t.co/e8ZhpSdkLi', \"@sandichimpala @solanasaurus @rrsouza For the record, if 3 idiots ran out onto the highway illegally. I'd def hit t… https://t.co/3n4PiVU5sX\", '@craigmfagan @rrsouza @webfoundation Sounds like questions for the humanities!', \"We educate for jobs that don't exist. What s more useful to human than machines? Values, common sense, human relati… https://t.co/1j70pNLcfI\", 'We should have a right to be forgotten, anonymous, etc online says @rrsouza #DigitalRight 2.0 #SIF17 #SIF3B', '@solanasaurus @rrsouza: it will take some time. Forces in activism must join and discuss digital tech topics in societies\\n#SIF3B\\n#SIF17', 'Make technical questions, societal questions to make #algorithms &amp; #AI for everyone @rrsouza #SIF17 @webfoundation https://t.co/LCVWbBdP8O']\n"
     ]
    }
   ],
   "source": [
    "mentions = api.GetMentions()\n",
    "#mentions[0].text\n",
    "print([m.text for m in mentions])"
   ]
  },
  {
   "cell_type": "code",
   "execution_count": 110,
   "metadata": {},
   "outputs": [
    {
     "name": "stdout",
     "output_type": "stream",
     "text": [
      "['K-Pop star G-Dragon of Big Bang has started military service. Now his unit is in chaos because of all his fan mail https://t.co/0BK5VgXqGF', \"What to know about Prince Harry and Meghan Markle's royal wedding location, the historic St. George's Chapel https://t.co/RYgr1tUhHU\", 'A politician has sparked online fury for saying men should beat their wives https://t.co/FK086vMiaE', \"Kids are playing the 'Choking Game' to get high. Instead, they're dying https://t.co/btGnAaS4h2\", \"Stormy Daniels is borrowing from Donald Trump's playbook https://t.co/WWd2Vtae4D\", '\"The Syrian Civil War has raged for 7 years. This is what the U.S. can do to help end it\" https://t.co/CZ1c3Sq6Vy', \"Beijing's bars have reportedly been told to limit the number of foreign patrons as China's national parliament meet… https://t.co/u8BM5TaQUK\", 'Why Donald Trump blinked on guns https://t.co/vGRkjMQqfu', 'The winner of the $560 million Powerball can remain anonymous, a New Hampshire judge rules https://t.co/88byectC84', \"A third Nor'easter is coming to the East Coast. Here's how much snow to expect https://t.co/kMoQFDL9Fy\", \"The Palestinian Prime Minister's convoy has been hit by an explosion during a visit to Gaza https://t.co/OxwwPVVfMI\", 'Revolutionary fashion designer Hubert de Givenchy dies at 91 https://t.co/eraRRbMjSR', 'Dr. Jane Goodall: Being a woman was crucial to my success in a male-dominated field https://t.co/SLPsDMCD4h', '\"There was more opposition in Mao\\'s time.\" Why China\\'s Xi Jinping may have to rule for life https://t.co/wSOY42sJkF', \"U.S. defense secretary Jim Mattis says victory in Afghanistan will now be 'political' instead of military https://t.co/mg7pS5zHWY\", 'The subtle way Meghan Markle paid tribute to Princess Diana at her biggest event yet https://t.co/PCKfN5paO9', \"Another nor'easter starts to slam the storm-battered Northeast https://t.co/DL2rqgBfzQ\", \"U.N. fact-finders say Facebook has played a 'determining' role in violence against the Rohingya https://t.co/XqKxPxm4Rh\", 'Being sleepy during the day could be a warning sign of Alzheimer’s https://t.co/Bper7NXbig', 'Protestors await President Trump for his first visit to California since his election https://t.co/8N2uNjtzmJ']\n"
     ]
    }
   ],
   "source": [
    "statuses = api.GetUserTimeline(screen_name='TIME')\n",
    "print([s.text for s in statuses])"
   ]
  }
 ],
 "metadata": {
  "kernelspec": {
   "display_name": "Python 3",
   "language": "python",
   "name": "python3"
  },
  "language_info": {
   "codemirror_mode": {
    "name": "ipython",
    "version": 3
   },
   "file_extension": ".py",
   "mimetype": "text/x-python",
   "name": "python",
   "nbconvert_exporter": "python",
   "pygments_lexer": "ipython3",
   "version": "3.6.5"
  }
 },
 "nbformat": 4,
 "nbformat_minor": 2
}
