{
 "cells": [
  {
   "cell_type": "markdown",
   "metadata": {},
   "source": [
    "## Introduction to Data Science\n",
    "\n",
    "### Accessing and Manipulating Data in different formats"
   ]
  },
  {
   "cell_type": "code",
   "execution_count": 1,
   "metadata": {},
   "outputs": [],
   "source": [
    "import os\n",
    "import sys\n",
    "import time\n",
    "import datetime\n",
    "import numpy as np\n",
    "import pandas as pd\n",
    "import pathlib"
   ]
  },
  {
   "cell_type": "code",
   "execution_count": 32,
   "metadata": {},
   "outputs": [],
   "source": [
    "datapath = pathlib.Path(\"../datasets/CSVs/\")\n",
    "datapath2 = pathlib.Path('../datasets/Miscellaneous/')\n",
    "datapath3 = pathlib.Path('../datasets/Figs//')\n",
    "outputs = pathlib.Path(\"../outputs/\")"
   ]
  },
  {
   "cell_type": "markdown",
   "metadata": {},
   "source": [
    "## Acessing CSV Files"
   ]
  },
  {
   "cell_type": "code",
   "execution_count": 3,
   "metadata": {},
   "outputs": [],
   "source": [
    "csvfile = \"beatles-diskography.csv\"\n",
    "datafile = datapath / csvfile"
   ]
  },
  {
   "cell_type": "markdown",
   "metadata": {},
   "source": [
    "#### Using pure Python:"
   ]
  },
  {
   "cell_type": "code",
   "execution_count": 4,
   "metadata": {},
   "outputs": [
    {
     "data": {
      "text/plain": [
       "[{'BPI Certification': 'Gold',\n",
       "  'Label': 'Parlophone(UK)',\n",
       "  'RIAA Certification': 'Platinum',\n",
       "  'Released': '22 March 1963',\n",
       "  'Title': 'Please Please Me',\n",
       "  'UK Chart Position': '1',\n",
       "  'US Chart Position': '-'},\n",
       " {'BPI Certification': 'Platinum',\n",
       "  'Label': 'Parlophone(UK)',\n",
       "  'RIAA Certification': 'Gold',\n",
       "  'Released': '22 November 1963',\n",
       "  'Title': 'With the Beatles',\n",
       "  'UK Chart Position': '1',\n",
       "  'US Chart Position': '-'}]"
      ]
     },
     "execution_count": 4,
     "metadata": {},
     "output_type": "execute_result"
    }
   ],
   "source": [
    "data = []\n",
    "#with open(datafile, \"r\") as f:\n",
    "with open(os.path.join(\"../datasets/CSVs/\", csvfile), \"r\") as f:\n",
    "    keys = f.readline().split(',')\n",
    "    keys = [k.strip() for k in keys]\n",
    "    for i in range(5):\n",
    "        values = f.readline().split(',')\n",
    "        values = [v.strip() for v in values]\n",
    "        d = dict(zip(keys,values))\n",
    "        data.append(d)\n",
    "data[0:2]"
   ]
  },
  {
   "cell_type": "markdown",
   "metadata": {},
   "source": [
    "#### Using [CSV](https://docs.python.org/3/library/csv.html) module:"
   ]
  },
  {
   "cell_type": "code",
   "execution_count": 5,
   "metadata": {},
   "outputs": [],
   "source": [
    "import csv"
   ]
  },
  {
   "cell_type": "code",
   "execution_count": 6,
   "metadata": {},
   "outputs": [
    {
     "name": "stdout",
     "output_type": "stream",
     "text": [
      "OrderedDict([('Title', 'Please Please Me'), ('Released', '22 March 1963'), ('Label', 'Parlophone(UK)'), ('UK Chart Position', '1'), ('US Chart Position', '-'), ('BPI Certification', 'Gold'), ('RIAA Certification', 'Platinum')])\n",
      "OrderedDict([('Title', 'With the Beatles'), ('Released', '22 November 1963'), ('Label', 'Parlophone(UK)'), ('UK Chart Position', '1'), ('US Chart Position', '-'), ('BPI Certification', 'Platinum'), ('RIAA Certification', 'Gold')])\n",
      "OrderedDict([('Title', 'Beatlemania! With the Beatles'), ('Released', '25 November 1963'), ('Label', 'Capitol(CAN)'), ('UK Chart Position', '-'), ('US Chart Position', '-'), ('BPI Certification', ''), ('RIAA Certification', '')])\n",
      "OrderedDict([('Title', 'Introducing... The Beatles'), ('Released', '10 January 1964'), ('Label', 'Vee-Jay(US)'), ('UK Chart Position', '-'), ('US Chart Position', '2'), ('BPI Certification', ''), ('RIAA Certification', '')])\n",
      "OrderedDict([('Title', 'Meet the Beatles!'), ('Released', '20 January 1964'), ('Label', 'Capitol(US)'), ('UK Chart Position', '-'), ('US Chart Position', '1'), ('BPI Certification', ''), ('RIAA Certification', '5xPlatinum')])\n",
      "OrderedDict([('Title', 'Twist and Shout'), ('Released', '3 February 1964'), ('Label', 'Capitol(CAN)'), ('UK Chart Position', '-'), ('US Chart Position', '-'), ('BPI Certification', ''), ('RIAA Certification', '')])\n",
      "OrderedDict([('Title', \"The Beatles' Second Album\"), ('Released', '10 April 1964'), ('Label', 'Capitol(US)'), ('UK Chart Position', '-'), ('US Chart Position', '1'), ('BPI Certification', ''), ('RIAA Certification', '2xPlatinum')])\n",
      "OrderedDict([('Title', \"The Beatles' Long Tall Sally\"), ('Released', '11 May 1964'), ('Label', 'Capitol(CAN)'), ('UK Chart Position', '-'), ('US Chart Position', '-'), ('BPI Certification', ''), ('RIAA Certification', '')])\n",
      "OrderedDict([('Title', \"A Hard Day's Night\"), ('Released', '26 June 1964'), ('Label', 'United Artists(US)[C]'), ('UK Chart Position', '-'), ('US Chart Position', '1'), ('BPI Certification', ''), ('RIAA Certification', '4xPlatinum')])\n",
      "OrderedDict([('Title', ''), ('Released', '10 July 1964'), ('Label', 'Parlophone(UK)'), ('UK Chart Position', '1'), ('US Chart Position', '-'), ('BPI Certification', 'Gold'), ('RIAA Certification', '')])\n",
      "OrderedDict([('Title', 'Something New'), ('Released', '20 July 1964'), ('Label', 'Capitol(US)'), ('UK Chart Position', '-'), ('US Chart Position', '2'), ('BPI Certification', ''), ('RIAA Certification', 'Platinum')])\n",
      "OrderedDict([('Title', 'Beatles for Sale'), ('Released', '4 December 1964'), ('Label', 'Parlophone(UK)'), ('UK Chart Position', '1'), ('US Chart Position', '-'), ('BPI Certification', 'Gold'), ('RIAA Certification', 'Platinum')])\n",
      "OrderedDict([('Title', \"Beatles '65\"), ('Released', '15 December 1964'), ('Label', 'Capitol(US)'), ('UK Chart Position', '-'), ('US Chart Position', '1'), ('BPI Certification', ''), ('RIAA Certification', '3xPlatinum')])\n",
      "OrderedDict([('Title', 'Beatles VI'), ('Released', '14 June 1965'), ('Label', 'Parlophone(NZ), Capitol(US)'), ('UK Chart Position', '-'), ('US Chart Position', '1'), ('BPI Certification', ''), ('RIAA Certification', 'Platinum')])\n",
      "OrderedDict([('Title', 'Help!'), ('Released', '6 August 1965'), ('Label', 'Parlophone(UK)'), ('UK Chart Position', '1'), ('US Chart Position', '-'), ('BPI Certification', 'Platinum'), ('RIAA Certification', '')])\n",
      "OrderedDict([('Title', ''), ('Released', '13 August 1965'), ('Label', 'Capitol(US)[C]'), ('UK Chart Position', '-'), ('US Chart Position', '1'), ('BPI Certification', ''), ('RIAA Certification', '3xPlatinum')])\n",
      "OrderedDict([('Title', 'Rubber Soul'), ('Released', '3 December 1965'), ('Label', 'Parlophone(UK)'), ('UK Chart Position', '1'), ('US Chart Position', '-'), ('BPI Certification', 'Platinum'), ('RIAA Certification', '')])\n",
      "OrderedDict([('Title', ''), ('Released', '6 December 1965'), ('Label', 'Capitol(US)[C]'), ('UK Chart Position', '-'), ('US Chart Position', '1'), ('BPI Certification', ''), ('RIAA Certification', '6xPlatinum')])\n",
      "OrderedDict([('Title', 'Yesterday and Today'), ('Released', '15 June 1966'), ('Label', 'Capitol(US)'), ('UK Chart Position', '-'), ('US Chart Position', '1'), ('BPI Certification', ''), ('RIAA Certification', '2xPlatinum')])\n",
      "OrderedDict([('Title', 'Revolver'), ('Released', '5 August 1966'), ('Label', 'Parlophone(UK)'), ('UK Chart Position', '1'), ('US Chart Position', '-'), ('BPI Certification', 'Platinum'), ('RIAA Certification', '')])\n",
      "OrderedDict([('Title', ''), ('Released', '8 August 1966'), ('Label', 'Capitol(US)[C]'), ('UK Chart Position', '-'), ('US Chart Position', '1'), ('BPI Certification', ''), ('RIAA Certification', '5xPlatinum')])\n",
      "OrderedDict([('Title', \"Sgt. Pepper's Lonely Hearts Club Band\"), ('Released', '1 June 1967'), ('Label', 'Parlophone(UK), Capitol(US)'), ('UK Chart Position', '1'), ('US Chart Position', '1'), ('BPI Certification', '3xPlatinum'), ('RIAA Certification', '11xPlatinum')])\n",
      "OrderedDict([('Title', 'Magical Mystery Tour'), ('Released', '27 November 1967'), ('Label', 'Parlophone(UK), Capitol(US)'), ('UK Chart Position', '31[D]'), ('US Chart Position', '1'), ('BPI Certification', 'Platinum'), ('RIAA Certification', '6xPlatinum')])\n",
      "OrderedDict([('Title', 'The Beatles'), ('Released', '22 November 1968'), ('Label', 'Apple(UK), Capitol(US)'), ('UK Chart Position', '1'), ('US Chart Position', '1'), ('BPI Certification', 'Platinum'), ('RIAA Certification', '19xPlatinum')])\n",
      "OrderedDict([('Title', 'Yellow Submarine'), ('Released', '13 January 1969'), ('Label', 'Apple(UK), Capitol(US)'), ('UK Chart Position', '3'), ('US Chart Position', '2'), ('BPI Certification', 'Silver'), ('RIAA Certification', 'Platinum')])\n",
      "OrderedDict([('Title', 'Abbey Road'), ('Released', '26 September 1969'), ('Label', 'Apple(UK), Capitol(US)'), ('UK Chart Position', '1'), ('US Chart Position', '1'), ('BPI Certification', '2xPlatinum'), ('RIAA Certification', '12xPlatinum')])\n",
      "OrderedDict([('Title', 'Let It Be'), ('Released', '8 May 1970'), ('Label', 'Apple(UK),United Artists(US)'), ('UK Chart Position', '1'), ('US Chart Position', '1'), ('BPI Certification', 'Gold'), ('RIAA Certification', '4xPlatinum')])\n"
     ]
    }
   ],
   "source": [
    "#with open(datafile, \"r\") as f:\n",
    "with open(os.path.join(\"../datasets/CSVs/\", csvfile), \"r\") as f:\n",
    "    #data2 = csv.reader(f)\n",
    "    data2 = csv.DictReader(f)\n",
    "    for row in data2:\n",
    "        print(row)"
   ]
  },
  {
   "cell_type": "markdown",
   "metadata": {},
   "source": [
    "#### Using Pandas:"
   ]
  },
  {
   "cell_type": "code",
   "execution_count": 7,
   "metadata": {},
   "outputs": [
    {
     "data": {
      "text/html": [
       "<div>\n",
       "<style scoped>\n",
       "    .dataframe tbody tr th:only-of-type {\n",
       "        vertical-align: middle;\n",
       "    }\n",
       "\n",
       "    .dataframe tbody tr th {\n",
       "        vertical-align: top;\n",
       "    }\n",
       "\n",
       "    .dataframe thead th {\n",
       "        text-align: right;\n",
       "    }\n",
       "</style>\n",
       "<table border=\"1\" class=\"dataframe\">\n",
       "  <thead>\n",
       "    <tr style=\"text-align: right;\">\n",
       "      <th></th>\n",
       "      <th>Title</th>\n",
       "      <th>Released</th>\n",
       "      <th>Label</th>\n",
       "      <th>UK Chart Position</th>\n",
       "      <th>US Chart Position</th>\n",
       "      <th>BPI Certification</th>\n",
       "      <th>RIAA Certification</th>\n",
       "    </tr>\n",
       "  </thead>\n",
       "  <tbody>\n",
       "    <tr>\n",
       "      <th>0</th>\n",
       "      <td>Please Please Me</td>\n",
       "      <td>22 March 1963</td>\n",
       "      <td>Parlophone(UK)</td>\n",
       "      <td>1</td>\n",
       "      <td>-</td>\n",
       "      <td>Gold</td>\n",
       "      <td>Platinum</td>\n",
       "    </tr>\n",
       "    <tr>\n",
       "      <th>1</th>\n",
       "      <td>With the Beatles</td>\n",
       "      <td>22 November 1963</td>\n",
       "      <td>Parlophone(UK)</td>\n",
       "      <td>1</td>\n",
       "      <td>-</td>\n",
       "      <td>Platinum</td>\n",
       "      <td>Gold</td>\n",
       "    </tr>\n",
       "    <tr>\n",
       "      <th>2</th>\n",
       "      <td>Beatlemania! With the Beatles</td>\n",
       "      <td>25 November 1963</td>\n",
       "      <td>Capitol(CAN)</td>\n",
       "      <td>-</td>\n",
       "      <td>-</td>\n",
       "      <td>NaN</td>\n",
       "      <td>NaN</td>\n",
       "    </tr>\n",
       "    <tr>\n",
       "      <th>3</th>\n",
       "      <td>Introducing... The Beatles</td>\n",
       "      <td>10 January 1964</td>\n",
       "      <td>Vee-Jay(US)</td>\n",
       "      <td>-</td>\n",
       "      <td>2</td>\n",
       "      <td>NaN</td>\n",
       "      <td>NaN</td>\n",
       "    </tr>\n",
       "    <tr>\n",
       "      <th>4</th>\n",
       "      <td>Meet the Beatles!</td>\n",
       "      <td>20 January 1964</td>\n",
       "      <td>Capitol(US)</td>\n",
       "      <td>-</td>\n",
       "      <td>1</td>\n",
       "      <td>NaN</td>\n",
       "      <td>5xPlatinum</td>\n",
       "    </tr>\n",
       "  </tbody>\n",
       "</table>\n",
       "</div>"
      ],
      "text/plain": [
       "                           Title          Released           Label  \\\n",
       "0               Please Please Me     22 March 1963  Parlophone(UK)   \n",
       "1               With the Beatles  22 November 1963  Parlophone(UK)   \n",
       "2  Beatlemania! With the Beatles  25 November 1963    Capitol(CAN)   \n",
       "3     Introducing... The Beatles   10 January 1964     Vee-Jay(US)   \n",
       "4              Meet the Beatles!   20 January 1964     Capitol(US)   \n",
       "\n",
       "  UK Chart Position US Chart Position BPI Certification RIAA Certification  \n",
       "0                 1                 -              Gold           Platinum  \n",
       "1                 1                 -          Platinum               Gold  \n",
       "2                 -                 -               NaN                NaN  \n",
       "3                 -                 2               NaN                NaN  \n",
       "4                 -                 1               NaN         5xPlatinum  "
      ]
     },
     "execution_count": 7,
     "metadata": {},
     "output_type": "execute_result"
    }
   ],
   "source": [
    "df_csv = pd.read_csv(datafile)\n",
    "df_csv.head()\n",
    "#df_csv.info()"
   ]
  },
  {
   "cell_type": "markdown",
   "metadata": {},
   "source": [
    "## Manipulating [Zip Files](https://docs.python.org/3/library/zipfile.html)"
   ]
  },
  {
   "cell_type": "code",
   "execution_count": 8,
   "metadata": {},
   "outputs": [],
   "source": [
    "from zipfile import ZipFile"
   ]
  },
  {
   "cell_type": "code",
   "execution_count": 9,
   "metadata": {},
   "outputs": [],
   "source": [
    "zipfile = \"2013_ERCOT_Hourly_Load_Data\""
   ]
  },
  {
   "cell_type": "code",
   "execution_count": 11,
   "metadata": {},
   "outputs": [
    {
     "data": {
      "text/html": [
       "<div>\n",
       "<style scoped>\n",
       "    .dataframe tbody tr th:only-of-type {\n",
       "        vertical-align: middle;\n",
       "    }\n",
       "\n",
       "    .dataframe tbody tr th {\n",
       "        vertical-align: top;\n",
       "    }\n",
       "\n",
       "    .dataframe thead th {\n",
       "        text-align: right;\n",
       "    }\n",
       "</style>\n",
       "<table border=\"1\" class=\"dataframe\">\n",
       "  <thead>\n",
       "    <tr style=\"text-align: right;\">\n",
       "      <th></th>\n",
       "      <th>Hour_End</th>\n",
       "      <th>COAST</th>\n",
       "      <th>EAST</th>\n",
       "      <th>FAR_WEST</th>\n",
       "      <th>NORTH</th>\n",
       "      <th>NORTH_C</th>\n",
       "      <th>SOUTHERN</th>\n",
       "      <th>SOUTH_C</th>\n",
       "      <th>WEST</th>\n",
       "      <th>ERCOT</th>\n",
       "    </tr>\n",
       "  </thead>\n",
       "  <tbody>\n",
       "    <tr>\n",
       "      <th>0</th>\n",
       "      <td>2013-01-01 01:00:00</td>\n",
       "      <td>7606.263544</td>\n",
       "      <td>1073.892438</td>\n",
       "      <td>1411.750567</td>\n",
       "      <td>784.978166</td>\n",
       "      <td>10369.094390</td>\n",
       "      <td>2206.675077</td>\n",
       "      <td>4368.490945</td>\n",
       "      <td>882.931901</td>\n",
       "      <td>28704.077028</td>\n",
       "    </tr>\n",
       "    <tr>\n",
       "      <th>1</th>\n",
       "      <td>2013-01-01 02:00:00</td>\n",
       "      <td>7388.082714</td>\n",
       "      <td>1035.021938</td>\n",
       "      <td>1403.472287</td>\n",
       "      <td>776.307387</td>\n",
       "      <td>10152.358518</td>\n",
       "      <td>2159.733208</td>\n",
       "      <td>4233.587967</td>\n",
       "      <td>872.404750</td>\n",
       "      <td>28020.968769</td>\n",
       "    </tr>\n",
       "    <tr>\n",
       "      <th>2</th>\n",
       "      <td>2013-01-01 03:00:00</td>\n",
       "      <td>7178.867878</td>\n",
       "      <td>1036.088697</td>\n",
       "      <td>1395.053150</td>\n",
       "      <td>768.125748</td>\n",
       "      <td>9988.051418</td>\n",
       "      <td>2065.114706</td>\n",
       "      <td>4082.862860</td>\n",
       "      <td>868.853938</td>\n",
       "      <td>27383.018395</td>\n",
       "    </tr>\n",
       "    <tr>\n",
       "      <th>3</th>\n",
       "      <td>2013-01-01 04:00:00</td>\n",
       "      <td>7038.822581</td>\n",
       "      <td>1032.648841</td>\n",
       "      <td>1395.508820</td>\n",
       "      <td>770.937969</td>\n",
       "      <td>9946.658655</td>\n",
       "      <td>1990.903699</td>\n",
       "      <td>4010.489608</td>\n",
       "      <td>865.701201</td>\n",
       "      <td>27051.671374</td>\n",
       "    </tr>\n",
       "    <tr>\n",
       "      <th>4</th>\n",
       "      <td>2013-01-01 05:00:00</td>\n",
       "      <td>6990.857940</td>\n",
       "      <td>1042.823044</td>\n",
       "      <td>1401.216842</td>\n",
       "      <td>779.089313</td>\n",
       "      <td>10096.664190</td>\n",
       "      <td>1954.807585</td>\n",
       "      <td>4038.655997</td>\n",
       "      <td>879.924249</td>\n",
       "      <td>27184.039160</td>\n",
       "    </tr>\n",
       "  </tbody>\n",
       "</table>\n",
       "</div>"
      ],
      "text/plain": [
       "             Hour_End        COAST         EAST     FAR_WEST       NORTH  \\\n",
       "0 2013-01-01 01:00:00  7606.263544  1073.892438  1411.750567  784.978166   \n",
       "1 2013-01-01 02:00:00  7388.082714  1035.021938  1403.472287  776.307387   \n",
       "2 2013-01-01 03:00:00  7178.867878  1036.088697  1395.053150  768.125748   \n",
       "3 2013-01-01 04:00:00  7038.822581  1032.648841  1395.508820  770.937969   \n",
       "4 2013-01-01 05:00:00  6990.857940  1042.823044  1401.216842  779.089313   \n",
       "\n",
       "        NORTH_C     SOUTHERN      SOUTH_C        WEST         ERCOT  \n",
       "0  10369.094390  2206.675077  4368.490945  882.931901  28704.077028  \n",
       "1  10152.358518  2159.733208  4233.587967  872.404750  28020.968769  \n",
       "2   9988.051418  2065.114706  4082.862860  868.853938  27383.018395  \n",
       "3   9946.658655  1990.903699  4010.489608  865.701201  27051.671374  \n",
       "4  10096.664190  1954.807585  4038.655997  879.924249  27184.039160  "
      ]
     },
     "execution_count": 11,
     "metadata": {},
     "output_type": "execute_result"
    }
   ],
   "source": [
    "with ZipFile('{0}.zip'.format(datapath / zipfile), 'r') as myzip:\n",
    "    with myzip.open('2013_ERCOT_Hourly_Load_Data.xls') as myfile:\n",
    "        pd_excel = pd.read_excel(myfile)\n",
    "pd_excel.head()"
   ]
  },
  {
   "cell_type": "markdown",
   "metadata": {},
   "source": [
    "## [Acessing](https://pypi.python.org/pypi/xlrd) and [Writing](https://pypi.python.org/pypi/xlwt) [Excel Files](https://github.com/python-excel/tutorial/blob/master/python-excel.pdf)"
   ]
  },
  {
   "cell_type": "markdown",
   "metadata": {},
   "source": [
    "#### Accessing a workbook"
   ]
  },
  {
   "cell_type": "code",
   "execution_count": 12,
   "metadata": {},
   "outputs": [],
   "source": [
    "import xlrd"
   ]
  },
  {
   "cell_type": "code",
   "execution_count": 13,
   "metadata": {},
   "outputs": [],
   "source": [
    "datafile = \"2013_ERCOT_Hourly_Load_Data.xls\""
   ]
  },
  {
   "cell_type": "code",
   "execution_count": 14,
   "metadata": {},
   "outputs": [],
   "source": [
    "with ZipFile('{0}.zip'.format(datapath / zipfile), 'r') as myzip:\n",
    "    myzip.extractall(datapath)"
   ]
  },
  {
   "cell_type": "code",
   "execution_count": 15,
   "metadata": {},
   "outputs": [],
   "source": [
    "workbook = xlrd.open_workbook(datapath / datafile)\n",
    "sheet = workbook.sheet_by_index(0)"
   ]
  },
  {
   "cell_type": "code",
   "execution_count": 16,
   "metadata": {},
   "outputs": [
    {
     "data": {
      "text/plain": [
       "[['Hour_End',\n",
       "  'COAST',\n",
       "  'EAST',\n",
       "  'FAR_WEST',\n",
       "  'NORTH',\n",
       "  'NORTH_C',\n",
       "  'SOUTHERN',\n",
       "  'SOUTH_C',\n",
       "  'WEST',\n",
       "  'ERCOT'],\n",
       " [41275.041666666664,\n",
       "  7606.263544000012,\n",
       "  1073.892438,\n",
       "  1411.7505669999982,\n",
       "  784.9781659999992,\n",
       "  10369.094390000051,\n",
       "  2206.6750770000012,\n",
       "  4368.490945000006,\n",
       "  882.9319009999975,\n",
       "  28704.077028000065]]"
      ]
     },
     "execution_count": 16,
     "metadata": {},
     "output_type": "execute_result"
    }
   ],
   "source": [
    "sheet_data = [[sheet.cell_value(r, col) for col in range(sheet.ncols)] for r in range(sheet.nrows)]\n",
    "sheet_data[:2]"
   ]
  },
  {
   "cell_type": "code",
   "execution_count": 17,
   "metadata": {},
   "outputs": [
    {
     "name": "stdout",
     "output_type": "stream",
     "text": [
      "Number of rows in the sheet:\n",
      "7296\n"
     ]
    }
   ],
   "source": [
    "print(\"Number of rows in the sheet:\"),\n",
    "print(sheet.nrows)"
   ]
  },
  {
   "cell_type": "code",
   "execution_count": 18,
   "metadata": {},
   "outputs": [
    {
     "name": "stdout",
     "output_type": "stream",
     "text": [
      "Type of data in cell (row 3, col 2):\n",
      "2\n"
     ]
    }
   ],
   "source": [
    "print(\"Type of data in cell (row 3, col 2):\"), \n",
    "print(sheet.cell_type(3, 2))"
   ]
  },
  {
   "cell_type": "code",
   "execution_count": 19,
   "metadata": {},
   "outputs": [
    {
     "name": "stdout",
     "output_type": "stream",
     "text": [
      "Value in cell (row 3, col 2):\n",
      "1036.0886969999988\n"
     ]
    }
   ],
   "source": [
    "print(\"Value in cell (row 3, col 2):\", )\n",
    "print(sheet.cell_value(3, 2))"
   ]
  },
  {
   "cell_type": "code",
   "execution_count": 20,
   "metadata": {},
   "outputs": [
    {
     "name": "stdout",
     "output_type": "stream",
     "text": [
      "Get a slice of values in column 3, from rows 1-3:\n",
      "[1411.7505669999982, 1403.4722870000019, 1395.053150000001]\n"
     ]
    }
   ],
   "source": [
    "print(\"Get a slice of values in column 3, from rows 1-3:\",)\n",
    "print(sheet.col_values(3, start_rowx=1, end_rowx=4))"
   ]
  },
  {
   "cell_type": "code",
   "execution_count": 21,
   "metadata": {},
   "outputs": [],
   "source": [
    "coast = sheet.col_values(1, start_rowx=1)\n",
    "data3 = {}    \n",
    "data3['maxvalue'] = max(coast)\n",
    "data3['minvalue'] = min(coast)\n",
    "data3['avgcoast'] = np.mean(coast)\n",
    "\n",
    "rowmax = coast.index(max(coast))+1\n",
    "rowmin = coast.index(min(coast))+1\n",
    "\n",
    "data3['maxtime'] = xlrd.xldate_as_tuple(sheet.cell_value(rowmax,0), 0)\n",
    "data3['mintime'] = xlrd.xldate_as_tuple(sheet.cell_value(rowmin,0), 0)"
   ]
  },
  {
   "cell_type": "code",
   "execution_count": 22,
   "metadata": {},
   "outputs": [
    {
     "data": {
      "text/plain": [
       "{'avgcoast': 10976.933460679784,\n",
       " 'maxtime': (2013, 8, 13, 17, 0, 0),\n",
       " 'maxvalue': 18779.025510000003,\n",
       " 'mintime': (2013, 2, 3, 4, 0, 0),\n",
       " 'minvalue': 6602.113898999982}"
      ]
     },
     "execution_count": 22,
     "metadata": {},
     "output_type": "execute_result"
    }
   ],
   "source": [
    "data3"
   ]
  },
  {
   "cell_type": "markdown",
   "metadata": {},
   "source": [
    "#### Using Pandas"
   ]
  },
  {
   "cell_type": "markdown",
   "metadata": {},
   "source": [
    "http://pandas.pydata.org/pandas-docs/stable/generated/pandas.read_excel.html  "
   ]
  },
  {
   "cell_type": "code",
   "execution_count": 23,
   "metadata": {},
   "outputs": [
    {
     "data": {
      "text/html": [
       "<div>\n",
       "<style scoped>\n",
       "    .dataframe tbody tr th:only-of-type {\n",
       "        vertical-align: middle;\n",
       "    }\n",
       "\n",
       "    .dataframe tbody tr th {\n",
       "        vertical-align: top;\n",
       "    }\n",
       "\n",
       "    .dataframe thead th {\n",
       "        text-align: right;\n",
       "    }\n",
       "</style>\n",
       "<table border=\"1\" class=\"dataframe\">\n",
       "  <thead>\n",
       "    <tr style=\"text-align: right;\">\n",
       "      <th></th>\n",
       "      <th>Hour_End</th>\n",
       "      <th>COAST</th>\n",
       "      <th>EAST</th>\n",
       "      <th>FAR_WEST</th>\n",
       "      <th>NORTH</th>\n",
       "      <th>NORTH_C</th>\n",
       "      <th>SOUTHERN</th>\n",
       "      <th>SOUTH_C</th>\n",
       "      <th>WEST</th>\n",
       "      <th>ERCOT</th>\n",
       "    </tr>\n",
       "  </thead>\n",
       "  <tbody>\n",
       "    <tr>\n",
       "      <th>0</th>\n",
       "      <td>2013-01-01 01:00:00</td>\n",
       "      <td>7606.263544</td>\n",
       "      <td>1073.892438</td>\n",
       "      <td>1411.750567</td>\n",
       "      <td>784.978166</td>\n",
       "      <td>10369.094390</td>\n",
       "      <td>2206.675077</td>\n",
       "      <td>4368.490945</td>\n",
       "      <td>882.931901</td>\n",
       "      <td>28704.077028</td>\n",
       "    </tr>\n",
       "    <tr>\n",
       "      <th>1</th>\n",
       "      <td>2013-01-01 02:00:00</td>\n",
       "      <td>7388.082714</td>\n",
       "      <td>1035.021938</td>\n",
       "      <td>1403.472287</td>\n",
       "      <td>776.307387</td>\n",
       "      <td>10152.358518</td>\n",
       "      <td>2159.733208</td>\n",
       "      <td>4233.587967</td>\n",
       "      <td>872.404750</td>\n",
       "      <td>28020.968769</td>\n",
       "    </tr>\n",
       "    <tr>\n",
       "      <th>2</th>\n",
       "      <td>2013-01-01 03:00:00</td>\n",
       "      <td>7178.867878</td>\n",
       "      <td>1036.088697</td>\n",
       "      <td>1395.053150</td>\n",
       "      <td>768.125748</td>\n",
       "      <td>9988.051418</td>\n",
       "      <td>2065.114706</td>\n",
       "      <td>4082.862860</td>\n",
       "      <td>868.853938</td>\n",
       "      <td>27383.018395</td>\n",
       "    </tr>\n",
       "    <tr>\n",
       "      <th>3</th>\n",
       "      <td>2013-01-01 04:00:00</td>\n",
       "      <td>7038.822581</td>\n",
       "      <td>1032.648841</td>\n",
       "      <td>1395.508820</td>\n",
       "      <td>770.937969</td>\n",
       "      <td>9946.658655</td>\n",
       "      <td>1990.903699</td>\n",
       "      <td>4010.489608</td>\n",
       "      <td>865.701201</td>\n",
       "      <td>27051.671374</td>\n",
       "    </tr>\n",
       "    <tr>\n",
       "      <th>4</th>\n",
       "      <td>2013-01-01 05:00:00</td>\n",
       "      <td>6990.857940</td>\n",
       "      <td>1042.823044</td>\n",
       "      <td>1401.216842</td>\n",
       "      <td>779.089313</td>\n",
       "      <td>10096.664190</td>\n",
       "      <td>1954.807585</td>\n",
       "      <td>4038.655997</td>\n",
       "      <td>879.924249</td>\n",
       "      <td>27184.039160</td>\n",
       "    </tr>\n",
       "  </tbody>\n",
       "</table>\n",
       "</div>"
      ],
      "text/plain": [
       "             Hour_End        COAST         EAST     FAR_WEST       NORTH  \\\n",
       "0 2013-01-01 01:00:00  7606.263544  1073.892438  1411.750567  784.978166   \n",
       "1 2013-01-01 02:00:00  7388.082714  1035.021938  1403.472287  776.307387   \n",
       "2 2013-01-01 03:00:00  7178.867878  1036.088697  1395.053150  768.125748   \n",
       "3 2013-01-01 04:00:00  7038.822581  1032.648841  1395.508820  770.937969   \n",
       "4 2013-01-01 05:00:00  6990.857940  1042.823044  1401.216842  779.089313   \n",
       "\n",
       "        NORTH_C     SOUTHERN      SOUTH_C        WEST         ERCOT  \n",
       "0  10369.094390  2206.675077  4368.490945  882.931901  28704.077028  \n",
       "1  10152.358518  2159.733208  4233.587967  872.404750  28020.968769  \n",
       "2   9988.051418  2065.114706  4082.862860  868.853938  27383.018395  \n",
       "3   9946.658655  1990.903699  4010.489608  865.701201  27051.671374  \n",
       "4  10096.664190  1954.807585  4038.655997  879.924249  27184.039160  "
      ]
     },
     "execution_count": 23,
     "metadata": {},
     "output_type": "execute_result"
    }
   ],
   "source": [
    "pd_excel = pd.read_excel(datapath / datafile)\n",
    "pd_excel.head()"
   ]
  },
  {
   "cell_type": "markdown",
   "metadata": {},
   "source": [
    "#### Reading and Writing a Workbook"
   ]
  },
  {
   "cell_type": "code",
   "execution_count": 24,
   "metadata": {},
   "outputs": [],
   "source": [
    "import xlwt"
   ]
  },
  {
   "cell_type": "code",
   "execution_count": 25,
   "metadata": {},
   "outputs": [],
   "source": [
    "style0 = xlwt.easyxf('font: name Times New Roman, color-index red, bold on', num_format_str='#,##0.00')\n",
    "style1 = xlwt.easyxf(num_format_str='D-MMM-YY')"
   ]
  },
  {
   "cell_type": "code",
   "execution_count": 26,
   "metadata": {},
   "outputs": [],
   "source": [
    "workbook = xlwt.Workbook()\n",
    "workbook_name = 'my_workbook.xls'\n",
    "\n",
    "worksheet1 = workbook.add_sheet('my_first_sheet')\n",
    "worksheet1.write(0, 0, 'Column 1 title', style0)\n",
    "worksheet1.write(0, 1, 'Column 2 title', style0)\n",
    "\n",
    "worksheet2 = workbook.add_sheet('my_second_sheet')\n",
    "worksheet2.write(0, 0, 'Itens')\n",
    "worksheet2.write(0, 1, 'Price')\n",
    "worksheet2.write(1, 0, 'Rice')\n",
    "worksheet2.write(1, 1, 100)\n",
    "worksheet2.write(2, 0, 'Beans')\n",
    "worksheet2.write(2, 1, 200)\n",
    "worksheet2.write(3, 0, 'Pasta')\n",
    "worksheet2.write(3, 1, 500)\n",
    "worksheet2.write(5, 0, 'Total')\n",
    "\n",
    "worksheet2.write(5, 1, xlwt.Formula(\"B2+B3+B4\"))\n",
    "\n",
    "\n",
    "workbook.save(outputs / workbook_name)"
   ]
  },
  {
   "cell_type": "markdown",
   "metadata": {},
   "source": [
    "### Reading PDF Files"
   ]
  },
  {
   "cell_type": "code",
   "execution_count": 27,
   "metadata": {},
   "outputs": [],
   "source": [
    "import textract"
   ]
  },
  {
   "cell_type": "code",
   "execution_count": 30,
   "metadata": {},
   "outputs": [
    {
     "name": "stdout",
     "output_type": "stream",
     "text": [
      "Files in the folder:\n",
      "1 -- Useful_Things_ML.pdf\n"
     ]
    }
   ],
   "source": [
    "onlyfiles = [f for f in os.listdir(datapath2) if os.path.isfile(datapath2 / f) and f.endswith('.pdf')]\n",
    "onlyfiles.sort()\n",
    "\n",
    "print('Files in the folder:')\n",
    "for i, w in enumerate(onlyfiles):\n",
    "    print(i+1, '--' ,w)"
   ]
  },
  {
   "cell_type": "code",
   "execution_count": 31,
   "metadata": {},
   "outputs": [
    {
     "name": "stdout",
     "output_type": "stream",
     "text": [
      "A Few Useful Things to Know about Machine Learning\n",
      "Pedro Domingos\n",
      "Department of Computer Science and Engineering\n",
      "University of Washington\n",
      "Seattle, WA 98195-2350, U.S.A.\n",
      "\n",
      "pedrod@cs.washington.edu\n",
      "\n",
      "ABSTRACT\n",
      "Machine learning algorithms can figure out how to perform\n",
      "important tasks by generalizing from examples. This is often feasible and cost-effective where manual programming\n",
      "is not. As more data becomes available, more ambitious\n",
      "problems can be tackled. As a result, machine learning is\n",
      "widely used in computer science and other fields. However,\n",
      "developing successful machine learning applications requires\n",
      "a substantial amount of “black art” that is hard to find in\n",
      "textbooks. This article summarizes twelve key lessons that\n",
      "machine learning researchers and practitioners have learned.\n",
      "These include pitfalls to avoid, important issues to focus on,\n",
      "and answers to common questions.\n",
      "\n",
      "correct output yt for future examples xt (e.g., whether the\n",
      "spam filter correctly classifies previously unseen em\n"
     ]
    }
   ],
   "source": [
    "text0 = textract.process(datapath2 / onlyfiles[0]).decode('utf-8')\n",
    "print(text0[0:1000])"
   ]
  },
  {
   "cell_type": "markdown",
   "metadata": {},
   "source": [
    "### Reading Text in Image Files (OCR)"
   ]
  },
  {
   "cell_type": "code",
   "execution_count": 33,
   "metadata": {},
   "outputs": [
    {
     "name": "stdout",
     "output_type": "stream",
     "text": [
      "Files in the folder:\n",
      "1 -- Cov_nonstationary.png\n",
      "2 -- Mean_nonstationary.png\n",
      "3 -- Modeling1.png\n",
      "4 -- Modeling2.png\n",
      "5 -- Modeling4.png\n",
      "6 -- Var_nonstationary.png\n",
      "7 -- binning.png\n",
      "8 -- db_schema.png\n",
      "9 -- entities1.png\n",
      "10 -- entities2.png\n",
      "11 -- framework.png\n",
      "12 -- groupby-example.png\n",
      "13 -- lenet_architecture-768x226.png\n",
      "14 -- machine-learning-cheet-sheet.png\n",
      "15 -- modeling3.png\n",
      "16 -- neuralnet.png\n",
      "17 -- neuralnet2.png\n",
      "18 -- neuralnet3.png\n",
      "19 -- neuralnet4.png\n",
      "20 -- nmf.png\n",
      "21 -- sup-unsup.png\n",
      "22 -- textimage.png\n",
      "23 -- transform-example.png\n",
      "24 -- transmission.png\n",
      "25 -- vehicle_class.png\n"
     ]
    }
   ],
   "source": [
    "onlyfiles = [f for f in os.listdir(datapath3) if os.path.isfile(datapath3 / f) and f.endswith('.png')]\n",
    "onlyfiles.sort()\n",
    "\n",
    "print('Files in the folder:')\n",
    "for i, w in enumerate(onlyfiles):\n",
    "    print(i+1, '--' ,w)"
   ]
  },
  {
   "cell_type": "code",
   "execution_count": 38,
   "metadata": {},
   "outputs": [
    {
     "name": "stdout",
     "output_type": "stream",
     "text": [
      "Adobe, the Adobe logo, Acrobat, the Acrobat logo, Acrobat Capture, Adobe Garamond, Adobe\n",
      "Intelligent Document Platform, Adobe PDF, Adobe Reader, Adobe Solutions Network, Aldus, Dis-\n",
      "tiller, ePaper, Extreme, FrameMaker, Illustrator, InDesign, Minion, Myriad, PageMaker, Photo-\n",
      "shop, Poetica, PostScript, and XMP are either registered trademarks or trademarks of Adobe\n",
      "‘Systems Incorporated in the United States and/or other countries. Microsoft and Windows are\n",
      "either registered trademarks or trademarks of Microsoft Corporation in the United States and/or\n",
      "other countries. Apple, Mac, Macintosh, and Power Macintosh are trademarks of Apple Computer,\n",
      "Inc,, registered in the United States and other countries. IBM is a registered trademark of IBM\n",
      "Corporation in the United States. Sun is a trademark or registered trademark of Sun Microsys-\n",
      "tems, Inc. in the United States and other countries. UNIX is\n"
     ]
    }
   ],
   "source": [
    "text1 = textract.process(datapath3 / 'textimage.png').decode('utf-8')\n",
    "print(text1[0:900])"
   ]
  },
  {
   "cell_type": "markdown",
   "metadata": {},
   "source": [
    "## Accessing HTML"
   ]
  },
  {
   "cell_type": "markdown",
   "metadata": {},
   "source": [
    "https://docs.python.org/3/library/urllib.html  \n",
    "http://www.crummy.com/software/BeautifulSoup/  \n",
    "http://docs.python-requests.org/en/latest/  \n",
    "http://lxml.de/  \n",
    "https://docs.python.org/3/library/getpass.html  "
   ]
  },
  {
   "cell_type": "code",
   "execution_count": 39,
   "metadata": {},
   "outputs": [],
   "source": [
    "import urllib\n",
    "from bs4 import BeautifulSoup as bs\n",
    "import requests\n",
    "import lxml.html\n",
    "import getpass"
   ]
  },
  {
   "cell_type": "code",
   "execution_count": 40,
   "metadata": {},
   "outputs": [
    {
     "data": {
      "text/plain": [
       "['/',\n",
       " 'http://memoria.oglobo.globo.com',\n",
       " 'http://acervo.oglobo.globo.com',\n",
       " 'ela/',\n",
       " 'http://kogut.oglobo.globo.com',\n",
       " 'rioshow/',\n",
       " 'https://extra.globo.com',\n",
       " 'http://classificados.globo.com',\n",
       " 'http://clubeoglobo.com.br',\n",
       " 'http://www.centraldoassinante.oglobo.com.br']"
      ]
     },
     "execution_count": 40,
     "metadata": {},
     "output_type": "execute_result"
    }
   ],
   "source": [
    "url = \"http://oglobo.globo.com\"\n",
    "html_txt = urllib.request.urlopen(url).read()\n",
    "soup = bs(html_txt, \"html.parser\")\n",
    " \n",
    "[line.get('href') for line in soup.find_all('a')][0:10]    "
   ]
  },
  {
   "cell_type": "markdown",
   "metadata": {},
   "source": [
    "#### Another approach: [lxml](http://lxml.de/tutorial.html) instead of beautiful soup\n",
    " "
   ]
  },
  {
   "cell_type": "code",
   "execution_count": 41,
   "metadata": {},
   "outputs": [
    {
     "data": {
      "text/plain": [
       "['http://www.hotashtanga.com/',\n",
       " 'https://drive.google.com/open?id=0B0t9QIGAtRQ5eGVjNDFaQmFhZXM',\n",
       " 'https://drive.google.com/open?id=0B0t9QIGAtRQ5dnJEamZaWmpieGs',\n",
       " 'https://drive.google.com/open?id=0B0t9QIGAtRQ5eGMzX0U4ZVFNNjA',\n",
       " 'https://drive.google.com/open?id=0B0t9QIGAtRQ5WlZxM1BZdGcyNE0',\n",
       " 'https://drive.google.com/open?id=0B0t9QIGAtRQ5ZzVLcUV4ZTItcm8',\n",
       " 'https://drive.google.com/open?id=0B0t9QIGAtRQ5RmxId2RzYlA2ek0',\n",
       " 'https://drive.google.com/open?id=0B0t9QIGAtRQ5ZU9Ta0NyUkMtWnc',\n",
       " 'https://drive.google.com/open?id=0B0t9QIGAtRQ5SEM0UXBHVWlUeWc',\n",
       " 'https://drive.google.com/open?id=0B0t9QIGAtRQ5aUU5TEZIYURCaUE']"
      ]
     },
     "execution_count": 41,
     "metadata": {},
     "output_type": "execute_result"
    }
   ],
   "source": [
    "url = \"http://www.hotashtanga.com/p/letoltesek-downloads.html\"\n",
    "html_txt = urllib.request.urlopen(url).read()\n",
    "dom =  lxml.html.fromstring(html_txt)\n",
    "    \n",
    "[line for line in dom.xpath('//a/@href')][0:10]   "
   ]
  },
  {
   "cell_type": "markdown",
   "metadata": {},
   "source": [
    "#### Using [Requests](http://docs.python-requests.org/en/master/user/quickstart/), for more complex tasks  \n",
    "\n",
    "\n",
    "c.f. [HTML Responses](http://www.w3.org/Protocols/rfc2616/rfc2616-sec10.html)"
   ]
  },
  {
   "cell_type": "code",
   "execution_count": 42,
   "metadata": {},
   "outputs": [
    {
     "name": "stdout",
     "output_type": "stream",
     "text": [
      "········\n"
     ]
    },
    {
     "data": {
      "text/plain": [
       "200"
      ]
     },
     "execution_count": 42,
     "metadata": {},
     "output_type": "execute_result"
    }
   ],
   "source": [
    "p = getpass.getpass()\n",
    "r = requests.get('https://api.github.com/user', auth=('rsouza', p))\n",
    "r.status_code"
   ]
  },
  {
   "cell_type": "code",
   "execution_count": 43,
   "metadata": {},
   "outputs": [
    {
     "data": {
      "text/plain": [
       "'application/json; charset=utf-8'"
      ]
     },
     "execution_count": 43,
     "metadata": {},
     "output_type": "execute_result"
    }
   ],
   "source": [
    "r.headers['content-type']"
   ]
  },
  {
   "cell_type": "code",
   "execution_count": 44,
   "metadata": {},
   "outputs": [
    {
     "data": {
      "text/plain": [
       "'utf-8'"
      ]
     },
     "execution_count": 44,
     "metadata": {},
     "output_type": "execute_result"
    }
   ],
   "source": [
    "r.encoding"
   ]
  },
  {
   "cell_type": "code",
   "execution_count": 45,
   "metadata": {},
   "outputs": [
    {
     "data": {
      "text/plain": [
       "'{\"login\":\"rsouza\",\"id\":604914,\"node_id\":\"MDQ6VXNlcjYwNDkxNA==\",\"avatar_url\":\"https://avatars0.githubusercontent.com/u/604914?v=4\",\"gravatar_id\":\"\",\"url\":\"https://api.github.com/users/rsouza\",\"html_url\":\"https://github.com/rsouza\",\"followers_url\":\"https://api.github.com/users/rsouza/followers\",\"following_url\":\"https://api.github.com/users/rsouza/following{/other_user}\",\"gists_url\":\"https://api.github.com/users/rsouza/gists{/gist_id}\",\"starred_url\":\"https://api.github.com/users/rsouza/starred{/owner}{/repo}\",\"subscriptions_url\":\"https://api.github.com/users/rsouza/subscriptions\",\"organizations_url\":\"https://api.github.com/users/rsouza/orgs\",\"repos_url\":\"https://api.github.com/users/rsouza/repos\",\"events_url\":\"https://api.github.com/users/rsouza/events{/privacy}\",\"received_events_url\":\"https://api.github.com/users/rsouza/received_events\",\"type\":\"User\",\"site_admin\":false,\"name\":\"Renato Rocha Souza\",\"company\":\"FGV\",\"blog\":\"emap.fgv.br\",\"location\":\"Rio de Janeiro\",\"email\":\"rsouza.fgv@gmail.com\",\"hireable\":null,\"bio\":\"https://www.linkedin.com/in/renato-rocha-souza-157153\",\"public_repos\":22,\"public_gists\":2,\"followers\":64,\"following\":6,\"created_at\":\"2011-02-07T15:46:45Z\",\"updated_at\":\"2018-06-06T23:53:27Z\",\"private_gists\":0,\"total_private_repos\":1,\"owned_private_repos\":0,\"disk_usage\":1055136,\"collaborators\":0,\"two_factor_authentication\":false,\"plan\":{\"name\":\"free\",\"space\":976562499,\"collaborators\":0,\"private_repos\":0}}'"
      ]
     },
     "execution_count": 45,
     "metadata": {},
     "output_type": "execute_result"
    }
   ],
   "source": [
    "r.text"
   ]
  },
  {
   "cell_type": "code",
   "execution_count": 46,
   "metadata": {},
   "outputs": [
    {
     "data": {
      "text/plain": [
       "{'avatar_url': 'https://avatars0.githubusercontent.com/u/604914?v=4',\n",
       " 'bio': 'https://www.linkedin.com/in/renato-rocha-souza-157153',\n",
       " 'blog': 'emap.fgv.br',\n",
       " 'collaborators': 0,\n",
       " 'company': 'FGV',\n",
       " 'created_at': '2011-02-07T15:46:45Z',\n",
       " 'disk_usage': 1055136,\n",
       " 'email': 'rsouza.fgv@gmail.com',\n",
       " 'events_url': 'https://api.github.com/users/rsouza/events{/privacy}',\n",
       " 'followers': 64,\n",
       " 'followers_url': 'https://api.github.com/users/rsouza/followers',\n",
       " 'following': 6,\n",
       " 'following_url': 'https://api.github.com/users/rsouza/following{/other_user}',\n",
       " 'gists_url': 'https://api.github.com/users/rsouza/gists{/gist_id}',\n",
       " 'gravatar_id': '',\n",
       " 'hireable': None,\n",
       " 'html_url': 'https://github.com/rsouza',\n",
       " 'id': 604914,\n",
       " 'location': 'Rio de Janeiro',\n",
       " 'login': 'rsouza',\n",
       " 'name': 'Renato Rocha Souza',\n",
       " 'node_id': 'MDQ6VXNlcjYwNDkxNA==',\n",
       " 'organizations_url': 'https://api.github.com/users/rsouza/orgs',\n",
       " 'owned_private_repos': 0,\n",
       " 'plan': {'collaborators': 0,\n",
       "  'name': 'free',\n",
       "  'private_repos': 0,\n",
       "  'space': 976562499},\n",
       " 'private_gists': 0,\n",
       " 'public_gists': 2,\n",
       " 'public_repos': 22,\n",
       " 'received_events_url': 'https://api.github.com/users/rsouza/received_events',\n",
       " 'repos_url': 'https://api.github.com/users/rsouza/repos',\n",
       " 'site_admin': False,\n",
       " 'starred_url': 'https://api.github.com/users/rsouza/starred{/owner}{/repo}',\n",
       " 'subscriptions_url': 'https://api.github.com/users/rsouza/subscriptions',\n",
       " 'total_private_repos': 1,\n",
       " 'two_factor_authentication': False,\n",
       " 'type': 'User',\n",
       " 'updated_at': '2018-06-06T23:53:27Z',\n",
       " 'url': 'https://api.github.com/users/rsouza'}"
      ]
     },
     "execution_count": 46,
     "metadata": {},
     "output_type": "execute_result"
    }
   ],
   "source": [
    "r.json()"
   ]
  },
  {
   "cell_type": "markdown",
   "metadata": {},
   "source": [
    "## Accessing [JSON](http://json.org/)\n",
    "\n",
    "https://docs.python.org/3/library/json.html  \n",
    "https://docs.python.org/3/library/urllib.html  "
   ]
  },
  {
   "cell_type": "code",
   "execution_count": 47,
   "metadata": {},
   "outputs": [],
   "source": [
    "import json"
   ]
  },
  {
   "cell_type": "code",
   "execution_count": 48,
   "metadata": {},
   "outputs": [],
   "source": [
    "base_url = \"http://musicbrainz.org/ws/2/\"\n",
    "artist_url =  urllib.parse.urljoin(base_url, 'artist/')\n",
    "query_type = {\"simple\": {},\n",
    "              \"atr\": {\"inc\": \"aliases+tags+ratings\"},\n",
    "              \"aliases\": {\"inc\": \"aliases\"},\n",
    "              \"releases\": {\"inc\": \"releases\"}}"
   ]
  },
  {
   "cell_type": "code",
   "execution_count": 49,
   "metadata": {},
   "outputs": [],
   "source": [
    "def query_site(url, params, uid=\"\", fmt=\"json\"):\n",
    "    params[\"fmt\"] = fmt\n",
    "    r = requests.get(url + uid, params=params)\n",
    "    print(\"requesting\", r.url)\n",
    "\n",
    "    if r.status_code == requests.codes.ok:\n",
    "        return r.json()\n",
    "    else:\n",
    "        r.raise_for_status()"
   ]
  },
  {
   "cell_type": "code",
   "execution_count": 50,
   "metadata": {},
   "outputs": [],
   "source": [
    "def query_by_name(url, params, name):\n",
    "    params[\"query\"] = \"artist:\" + name\n",
    "    return query_site(url, params)"
   ]
  },
  {
   "cell_type": "code",
   "execution_count": 51,
   "metadata": {},
   "outputs": [],
   "source": [
    "def pretty_print(data, indent=4):\n",
    "    if type(data) == dict:\n",
    "        print(json.dumps(data, indent=indent, sort_keys=True))\n",
    "    else:\n",
    "        print(data)"
   ]
  },
  {
   "cell_type": "code",
   "execution_count": 52,
   "metadata": {},
   "outputs": [
    {
     "name": "stdout",
     "output_type": "stream",
     "text": [
      "requesting http://musicbrainz.org/ws/2/artist/?query=artist%3ANirvana&fmt=json\n",
      "{\n",
      "    \"artists\": [\n",
      "        {\n",
      "            \"area\": {\n",
      "                \"id\": \"6a264f94-6ff1-30b1-9a81-41f7bfabd616\",\n",
      "                \"name\": \"Finland\",\n",
      "                \"sort-name\": \"Finland\"\n",
      "            },\n",
      "            \"country\": \"FI\",\n",
      "            \"disambiguation\": \"Early 1980's Finnish punk band\",\n",
      "            \"id\": \"85af0709-95db-4fbc-801a-120e9f4766d0\",\n",
      "            \"life-span\": {\n",
      "                \"ended\": null\n",
      "            },\n",
      "            \"name\": \"Nirvana\",\n",
      "            \"score\": \"100\",\n",
      "            \"sort-name\": \"Nirvana\",\n",
      "            \"tags\": [\n",
      "                {\n",
      "                    \"count\": 1,\n",
      "                    \"name\": \"punk\"\n",
      "                },\n",
      "                {\n",
      "                    \"count\": 1,\n",
      "                    \"name\": \"finland\"\n",
      "                }\n",
      "            ],\n",
      "            \"type\": \"Group\"\n",
      "        },\n",
      "        {\n",
      "            \"disambiguation\": \"French band from Martigues, activ during the 70s.\",\n",
      "            \"id\": \"c49d69dc-e008-47cf-b5ff-160fafb1fe1f\",\n",
      "            \"life-span\": {\n",
      "                \"ended\": null\n",
      "            },\n",
      "            \"name\": \"Nirvana\",\n",
      "            \"score\": \"100\",\n",
      "            \"sort-name\": \"Nirvana\"\n",
      "        },\n",
      "        {\n",
      "            \"disambiguation\": \"founded in 1987 by a Michael Jackson double/imitator\",\n",
      "            \"id\": \"3aa878c0-224b-41e5-abd1-63be359d2bca\",\n",
      "            \"life-span\": {\n",
      "                \"begin\": \"1987\",\n",
      "                \"ended\": null\n",
      "            },\n",
      "            \"name\": \"Nirvana\",\n",
      "            \"score\": \"100\",\n",
      "            \"sort-name\": \"Nirvana\"\n",
      "        },\n",
      "        {\n",
      "            \"area\": {\n",
      "                \"id\": \"8a754a16-0027-3a29-b6d7-2b40ea0481ed\",\n",
      "                \"name\": \"United Kingdom\",\n",
      "                \"sort-name\": \"United Kingdom\"\n",
      "            },\n",
      "            \"begin-area\": {\n",
      "                \"id\": \"f03d09b3-39dc-4083-afd6-159e3f0d462f\",\n",
      "                \"name\": \"London\",\n",
      "                \"sort-name\": \"London\"\n",
      "            },\n",
      "            \"country\": \"GB\",\n",
      "            \"disambiguation\": \"60s band from the UK\",\n",
      "            \"id\": \"9282c8b4-ca0b-4c6b-b7e3-4f7762dfc4d6\",\n",
      "            \"life-span\": {\n",
      "                \"begin\": \"1967\",\n",
      "                \"ended\": null\n",
      "            },\n",
      "            \"name\": \"Nirvana\",\n",
      "            \"score\": \"100\",\n",
      "            \"sort-name\": \"Nirvana\",\n",
      "            \"tags\": [\n",
      "                {\n",
      "                    \"count\": 1,\n",
      "                    \"name\": \"rock\"\n",
      "                },\n",
      "                {\n",
      "                    \"count\": 1,\n",
      "                    \"name\": \"pop\"\n",
      "                },\n",
      "                {\n",
      "                    \"count\": 1,\n",
      "                    \"name\": \"progressive rock\"\n",
      "                },\n",
      "                {\n",
      "                    \"count\": 1,\n",
      "                    \"name\": \"orchestral\"\n",
      "                },\n",
      "                {\n",
      "                    \"count\": 1,\n",
      "                    \"name\": \"british\"\n",
      "                },\n",
      "                {\n",
      "                    \"count\": 1,\n",
      "                    \"name\": \"power pop\"\n",
      "                },\n",
      "                {\n",
      "                    \"count\": 1,\n",
      "                    \"name\": \"psychedelic rock\"\n",
      "                },\n",
      "                {\n",
      "                    \"count\": 1,\n",
      "                    \"name\": \"soft rock\"\n",
      "                },\n",
      "                {\n",
      "                    \"count\": 1,\n",
      "                    \"name\": \"symphonic rock\"\n",
      "                },\n",
      "                {\n",
      "                    \"count\": 1,\n",
      "                    \"name\": \"english\"\n",
      "                }\n",
      "            ],\n",
      "            \"type\": \"Group\"\n",
      "        },\n",
      "        {\n",
      "            \"aliases\": [\n",
      "                {\n",
      "                    \"begin-date\": null,\n",
      "                    \"end-date\": null,\n",
      "                    \"locale\": \"ja\",\n",
      "                    \"name\": \"\\u30cb\\u30eb\\u30f4\\u30a1\\u30fc\\u30ca\",\n",
      "                    \"primary\": true,\n",
      "                    \"sort-name\": \"\\u30cb\\u30eb\\u30f4\\u30a1\\u30fc\\u30ca\",\n",
      "                    \"type\": \"Artist name\"\n",
      "                },\n",
      "                {\n",
      "                    \"begin-date\": null,\n",
      "                    \"end-date\": null,\n",
      "                    \"locale\": null,\n",
      "                    \"name\": \"Nirvana US\",\n",
      "                    \"primary\": null,\n",
      "                    \"sort-name\": \"Nirvana US\",\n",
      "                    \"type\": null\n",
      "                }\n",
      "            ],\n",
      "            \"area\": {\n",
      "                \"id\": \"489ce91b-6658-3307-9877-795b68554c98\",\n",
      "                \"name\": \"United States\",\n",
      "                \"sort-name\": \"United States\"\n",
      "            },\n",
      "            \"begin-area\": {\n",
      "                \"id\": \"a640b45c-c173-49b1-8030-973603e895b5\",\n",
      "                \"name\": \"Aberdeen\",\n",
      "                \"sort-name\": \"Aberdeen\"\n",
      "            },\n",
      "            \"country\": \"US\",\n",
      "            \"disambiguation\": \"90s US grunge band\",\n",
      "            \"id\": \"5b11f4ce-a62d-471e-81fc-a69a8278c7da\",\n",
      "            \"life-span\": {\n",
      "                \"begin\": \"1988-01\",\n",
      "                \"end\": \"1994-04-05\",\n",
      "                \"ended\": true\n",
      "            },\n",
      "            \"name\": \"Nirvana\",\n",
      "            \"score\": \"100\",\n",
      "            \"sort-name\": \"Nirvana\",\n",
      "            \"tags\": [\n",
      "                {\n",
      "                    \"count\": 11,\n",
      "                    \"name\": \"rock\"\n",
      "                },\n",
      "                {\n",
      "                    \"count\": 5,\n",
      "                    \"name\": \"alternative rock\"\n",
      "                },\n",
      "                {\n",
      "                    \"count\": 1,\n",
      "                    \"name\": \"90s\"\n",
      "                },\n",
      "                {\n",
      "                    \"count\": 1,\n",
      "                    \"name\": \"punk\"\n",
      "                },\n",
      "                {\n",
      "                    \"count\": 6,\n",
      "                    \"name\": \"american\"\n",
      "                },\n",
      "                {\n",
      "                    \"count\": 2,\n",
      "                    \"name\": \"seattle\"\n",
      "                },\n",
      "                {\n",
      "                    \"count\": 16,\n",
      "                    \"name\": \"grunge\"\n",
      "                },\n",
      "                {\n",
      "                    \"count\": 0,\n",
      "                    \"name\": \"band\"\n",
      "                },\n",
      "                {\n",
      "                    \"count\": 1,\n",
      "                    \"name\": \"usa\"\n",
      "                },\n",
      "                {\n",
      "                    \"count\": 0,\n",
      "                    \"name\": \"alternative\"\n",
      "                },\n",
      "                {\n",
      "                    \"count\": 0,\n",
      "                    \"name\": \"am\\u00e9ricain\"\n",
      "                },\n",
      "                {\n",
      "                    \"count\": 0,\n",
      "                    \"name\": \"legendary\"\n",
      "                },\n",
      "                {\n",
      "                    \"count\": 1,\n",
      "                    \"name\": \"acoustic rock\"\n",
      "                },\n",
      "                {\n",
      "                    \"count\": 1,\n",
      "                    \"name\": \"noise rock\"\n",
      "                },\n",
      "                {\n",
      "                    \"count\": 0,\n",
      "                    \"name\": \"90\"\n",
      "                },\n",
      "                {\n",
      "                    \"count\": 0,\n",
      "                    \"name\": \"northwest\"\n",
      "                },\n",
      "                {\n",
      "                    \"count\": 0,\n",
      "                    \"name\": \"rock and indie\"\n",
      "                },\n",
      "                {\n",
      "                    \"count\": 0,\n",
      "                    \"name\": \"united states\"\n",
      "                },\n",
      "                {\n",
      "                    \"count\": 0,\n",
      "                    \"name\": \"nirvana\"\n",
      "                },\n",
      "                {\n",
      "                    \"count\": 0,\n",
      "                    \"name\": \"kurt cobain\"\n",
      "                }\n",
      "            ],\n",
      "            \"type\": \"Group\"\n",
      "        },\n",
      "        {\n",
      "            \"id\": \"b305320e-c158-43f4-b5be-4450e2f99a32\",\n",
      "            \"life-span\": {\n",
      "                \"ended\": null\n",
      "            },\n",
      "            \"name\": \"El Nirvana\",\n",
      "            \"score\": \"62\",\n",
      "            \"sort-name\": \"Nirvana, El\"\n",
      "        },\n",
      "        {\n",
      "            \"area\": {\n",
      "                \"id\": \"489ce91b-6658-3307-9877-795b68554c98\",\n",
      "                \"name\": \"United States\",\n",
      "                \"sort-name\": \"United States\"\n",
      "            },\n",
      "            \"country\": \"US\",\n",
      "            \"id\": \"c3a64a25-251b-4d03-afba-1471440245b8\",\n",
      "            \"life-span\": {\n",
      "                \"begin\": \"2009\",\n",
      "                \"ended\": null\n",
      "            },\n",
      "            \"name\": \"Approaching Nirvana\",\n",
      "            \"score\": \"62\",\n",
      "            \"sort-name\": \"Approaching Nirvana\",\n",
      "            \"type\": \"Group\"\n",
      "        },\n",
      "        {\n",
      "            \"id\": \"86f9ae24-ba2a-4d55-9275-0b89b85f6e3a\",\n",
      "            \"life-span\": {\n",
      "                \"ended\": null\n",
      "            },\n",
      "            \"name\": \"Weed Nirvana\",\n",
      "            \"score\": \"62\",\n",
      "            \"sort-name\": \"Weed Nirvana\"\n",
      "        },\n",
      "        {\n",
      "            \"aliases\": [\n",
      "                {\n",
      "                    \"begin-date\": null,\n",
      "                    \"end-date\": null,\n",
      "                    \"locale\": null,\n",
      "                    \"name\": \"Nirvana\",\n",
      "                    \"primary\": null,\n",
      "                    \"sort-name\": \"Nirvana\",\n",
      "                    \"type\": null\n",
      "                },\n",
      "                {\n",
      "                    \"begin-date\": null,\n",
      "                    \"end-date\": null,\n",
      "                    \"locale\": null,\n",
      "                    \"name\": \"Prophet 2002\",\n",
      "                    \"primary\": null,\n",
      "                    \"sort-name\": \"Prophet 2002\",\n",
      "                    \"type\": null\n",
      "                }\n",
      "            ],\n",
      "            \"area\": {\n",
      "                \"id\": \"23d10872-f5ae-3f0c-bf55-332788a16ecb\",\n",
      "                \"name\": \"Sweden\",\n",
      "                \"sort-name\": \"Sweden\"\n",
      "            },\n",
      "            \"country\": \"SE\",\n",
      "            \"disambiguation\": \"Swedish death metal band\",\n",
      "            \"id\": \"f2dfdff9-3862-4be0-bf85-9c833fa3059e\",\n",
      "            \"life-span\": {\n",
      "                \"begin\": \"1988\",\n",
      "                \"ended\": null\n",
      "            },\n",
      "            \"name\": \"Nirvana 2002\",\n",
      "            \"score\": \"62\",\n",
      "            \"sort-name\": \"Nirvana 2002\",\n",
      "            \"type\": \"Group\"\n",
      "        },\n",
      "        {\n",
      "            \"id\": \"329c04ae-3b73-4ca3-996f-75608ab1befb\",\n",
      "            \"life-span\": {\n",
      "                \"ended\": null\n",
      "            },\n",
      "            \"name\": \"Nirvana Singh\",\n",
      "            \"score\": \"62\",\n",
      "            \"sort-name\": \"Singh, Nirvana\",\n",
      "            \"type\": \"Person\"\n",
      "        },\n",
      "        {\n",
      "            \"area\": {\n",
      "                \"id\": \"489ce91b-6658-3307-9877-795b68554c98\",\n",
      "                \"name\": \"United States\",\n",
      "                \"sort-name\": \"United States\"\n",
      "            },\n",
      "            \"country\": \"US\",\n",
      "            \"gender\": \"female\",\n",
      "            \"id\": \"206419e0-3a7a-49ce-8437-4e757767d02b\",\n",
      "            \"life-span\": {\n",
      "                \"ended\": null\n",
      "            },\n",
      "            \"name\": \"Nirvana Savoury\",\n",
      "            \"score\": \"62\",\n",
      "            \"sort-name\": \"Savoury, Nirvana\",\n",
      "            \"type\": \"Person\"\n",
      "        },\n",
      "        {\n",
      "            \"area\": {\n",
      "                \"id\": \"07607044-8140-47ba-bb24-7129babe586b\",\n",
      "                \"name\": \"West Midlands\",\n",
      "                \"sort-name\": \"West Midlands\"\n",
      "            },\n",
      "            \"id\": \"8f32371e-4bac-4090-ba13-2c1cd1aeab0d\",\n",
      "            \"life-span\": {\n",
      "                \"ended\": null\n",
      "            },\n",
      "            \"name\": \"Nirvana UK\",\n",
      "            \"score\": \"62\",\n",
      "            \"sort-name\": \"Nirvana UK\",\n",
      "            \"type\": \"Group\"\n",
      "        },\n",
      "        {\n",
      "            \"begin-area\": {\n",
      "                \"id\": \"ef1b7cc0-cd26-36f4-8ea0-04d9623786c7\",\n",
      "                \"name\": \"Netherlands\",\n",
      "                \"sort-name\": \"Netherlands\"\n",
      "            },\n",
      "            \"id\": \"da77e424-c473-481e-a2ae-5d966b2ee0b6\",\n",
      "            \"life-span\": {\n",
      "                \"ended\": null\n",
      "            },\n",
      "            \"name\": \"Nirvana Undercover\",\n",
      "            \"score\": \"62\",\n",
      "            \"sort-name\": \"Nirvana Undercover\",\n",
      "            \"type\": \"Group\"\n",
      "        },\n",
      "        {\n",
      "            \"id\": \"f58febd3-18de-4371-8d95-4a68d4f79456\",\n",
      "            \"life-span\": {\n",
      "                \"ended\": null\n",
      "            },\n",
      "            \"name\": \"Nirvana Kelly\",\n",
      "            \"score\": \"62\",\n",
      "            \"sort-name\": \"Kelly, Nirvana\",\n",
      "            \"type\": \"Person\"\n",
      "        },\n",
      "        {\n",
      "            \"area\": {\n",
      "                \"id\": \"e8ad73e9-9e7f-41c4-a395-6e29260ff1df\",\n",
      "                \"name\": \"Graz\",\n",
      "                \"sort-name\": \"Graz\"\n",
      "            },\n",
      "            \"begin-area\": {\n",
      "                \"id\": \"e8ad73e9-9e7f-41c4-a395-6e29260ff1df\",\n",
      "                \"name\": \"Graz\",\n",
      "                \"sort-name\": \"Graz\"\n",
      "            },\n",
      "            \"disambiguation\": \"Nirvana-Coverband\",\n",
      "            \"id\": \"46d8dae4-abec-438b-9c62-a3dbb2aaa1b7\",\n",
      "            \"life-span\": {\n",
      "                \"begin\": \"2000\",\n",
      "                \"ended\": null\n",
      "            },\n",
      "            \"name\": \"Nirvana Teen Spirit\",\n",
      "            \"score\": \"50\",\n",
      "            \"sort-name\": \"Nirvana Teen Spirit\",\n",
      "            \"type\": \"Group\"\n",
      "        },\n",
      "        {\n",
      "            \"area\": {\n",
      "                \"id\": \"c621114d-73cc-4832-8afe-f13dc261e5af\",\n",
      "                \"name\": \"Gatineau\",\n",
      "                \"sort-name\": \"Gatineau\"\n",
      "            },\n",
      "            \"begin-area\": {\n",
      "                \"id\": \"c621114d-73cc-4832-8afe-f13dc261e5af\",\n",
      "                \"name\": \"Gatineau\",\n",
      "                \"sort-name\": \"Gatineau\"\n",
      "            },\n",
      "            \"id\": \"02c4e6bb-7b7a-4686-8c23-df01bfd42b0e\",\n",
      "            \"life-span\": {\n",
      "                \"begin\": \"2012-04-05\",\n",
      "                \"ended\": null\n",
      "            },\n",
      "            \"name\": \"Sappy Nirvana Tribute\",\n",
      "            \"score\": \"50\",\n",
      "            \"sort-name\": \"Sappy Nirvana Tribute\",\n",
      "            \"type\": \"Group\"\n",
      "        },\n",
      "        {\n",
      "            \"id\": \"bb94730d-22c2-422d-a0a7-fe16a5b3e429\",\n",
      "            \"life-span\": {\n",
      "                \"ended\": null\n",
      "            },\n",
      "            \"name\": \"The Attainment of Nirvana\",\n",
      "            \"score\": \"50\",\n",
      "            \"sort-name\": \"Attainment of Nirvana, The\",\n",
      "            \"type\": \"Group\"\n",
      "        },\n",
      "        {\n",
      "            \"id\": \"e43ad11b-5d29-45ae-90f7-73ac47fb815d\",\n",
      "            \"life-span\": {\n",
      "                \"ended\": null\n",
      "            },\n",
      "            \"name\": \"smells like nirvana\",\n",
      "            \"score\": \"50\",\n",
      "            \"sort-name\": \"smells like nirvana\"\n",
      "        },\n",
      "        {\n",
      "            \"area\": {\n",
      "                \"id\": \"5b8a5ee5-0bb3-34cf-9a75-c27c44e341fc\",\n",
      "                \"name\": \"Belgium\",\n",
      "                \"sort-name\": \"Belgium\"\n",
      "            },\n",
      "            \"country\": \"BE\",\n",
      "            \"disambiguation\": \"Belgian\",\n",
      "            \"id\": \"1d512080-0ef7-454f-a325-9bf5ff95ce88\",\n",
      "            \"life-span\": {\n",
      "                \"ended\": null\n",
      "            },\n",
      "            \"name\": \"Come As Nirvana\",\n",
      "            \"score\": \"50\",\n",
      "            \"sort-name\": \"Come As Nirvana\",\n",
      "            \"type\": \"Group\"\n",
      "        },\n",
      "        {\n",
      "            \"area\": {\n",
      "                \"id\": \"c920948b-83e3-40b7-8fe9-9ab5abaac55b\",\n",
      "                \"name\": \"Houston\",\n",
      "                \"sort-name\": \"Houston\"\n",
      "            },\n",
      "            \"begin-area\": {\n",
      "                \"id\": \"c920948b-83e3-40b7-8fe9-9ab5abaac55b\",\n",
      "                \"name\": \"Houston\",\n",
      "                \"sort-name\": \"Houston\"\n",
      "            },\n",
      "            \"disambiguation\": \"Nirvana Cover Band\",\n",
      "            \"id\": \"45eacd92-6857-4faa-9283-023e72a1d4b1\",\n",
      "            \"life-span\": {\n",
      "                \"begin\": \"2012\",\n",
      "                \"ended\": null\n",
      "            },\n",
      "            \"name\": \"The Nirvana Experience\",\n",
      "            \"score\": \"50\",\n",
      "            \"sort-name\": \"The Nirvana Experience\",\n",
      "            \"type\": \"Group\"\n",
      "        },\n",
      "        {\n",
      "            \"id\": \"e5a4c61b-1613-4841-8706-33d99b1e7ba5\",\n",
      "            \"life-span\": {\n",
      "                \"begin\": \"2007-06-01\",\n",
      "                \"ended\": null\n",
      "            },\n",
      "            \"name\": \"Hormoaning (Nirvana - SP)\",\n",
      "            \"score\": \"50\",\n",
      "            \"sort-name\": \"Hormoaning ( Nirvana - SP )\",\n",
      "            \"type\": \"Group\"\n",
      "        },\n",
      "        {\n",
      "            \"id\": \"e1388435-f80d-434a-9980-f1c9f5aa9b90\",\n",
      "            \"life-span\": {\n",
      "                \"ended\": null\n",
      "            },\n",
      "            \"name\": \"Nirvana Sitar & String Group\",\n",
      "            \"score\": \"43\",\n",
      "            \"sort-name\": \"Nirvana Sitar & String Group\"\n",
      "        }\n",
      "    ],\n",
      "    \"count\": 22,\n",
      "    \"created\": \"2018-06-21T10:46:00.345Z\",\n",
      "    \"offset\": 0\n",
      "}\n"
     ]
    }
   ],
   "source": [
    "results = query_by_name(artist_url, query_type[\"simple\"], \"Nirvana\")\n",
    "pretty_print(results)"
   ]
  },
  {
   "cell_type": "code",
   "execution_count": 53,
   "metadata": {},
   "outputs": [
    {
     "data": {
      "text/plain": [
       "dict_keys(['created', 'count', 'offset', 'artists'])"
      ]
     },
     "execution_count": 53,
     "metadata": {},
     "output_type": "execute_result"
    }
   ],
   "source": [
    "results.keys()"
   ]
  },
  {
   "cell_type": "code",
   "execution_count": 54,
   "metadata": {},
   "outputs": [
    {
     "name": "stdout",
     "output_type": "stream",
     "text": [
      "\n",
      "ARTIST:\n",
      "{\n",
      "    \"aliases\": [\n",
      "        {\n",
      "            \"begin-date\": null,\n",
      "            \"end-date\": null,\n",
      "            \"locale\": \"ja\",\n",
      "            \"name\": \"\\u30cb\\u30eb\\u30f4\\u30a1\\u30fc\\u30ca\",\n",
      "            \"primary\": true,\n",
      "            \"sort-name\": \"\\u30cb\\u30eb\\u30f4\\u30a1\\u30fc\\u30ca\",\n",
      "            \"type\": \"Artist name\"\n",
      "        },\n",
      "        {\n",
      "            \"begin-date\": null,\n",
      "            \"end-date\": null,\n",
      "            \"locale\": null,\n",
      "            \"name\": \"Nirvana US\",\n",
      "            \"primary\": null,\n",
      "            \"sort-name\": \"Nirvana US\",\n",
      "            \"type\": null\n",
      "        }\n",
      "    ],\n",
      "    \"area\": {\n",
      "        \"id\": \"489ce91b-6658-3307-9877-795b68554c98\",\n",
      "        \"name\": \"United States\",\n",
      "        \"sort-name\": \"United States\"\n",
      "    },\n",
      "    \"begin-area\": {\n",
      "        \"id\": \"a640b45c-c173-49b1-8030-973603e895b5\",\n",
      "        \"name\": \"Aberdeen\",\n",
      "        \"sort-name\": \"Aberdeen\"\n",
      "    },\n",
      "    \"country\": \"US\",\n",
      "    \"disambiguation\": \"90s US grunge band\",\n",
      "    \"id\": \"5b11f4ce-a62d-471e-81fc-a69a8278c7da\",\n",
      "    \"life-span\": {\n",
      "        \"begin\": \"1988-01\",\n",
      "        \"end\": \"1994-04-05\",\n",
      "        \"ended\": true\n",
      "    },\n",
      "    \"name\": \"Nirvana\",\n",
      "    \"score\": \"100\",\n",
      "    \"sort-name\": \"Nirvana\",\n",
      "    \"tags\": [\n",
      "        {\n",
      "            \"count\": 11,\n",
      "            \"name\": \"rock\"\n",
      "        },\n",
      "        {\n",
      "            \"count\": 5,\n",
      "            \"name\": \"alternative rock\"\n",
      "        },\n",
      "        {\n",
      "            \"count\": 1,\n",
      "            \"name\": \"90s\"\n",
      "        },\n",
      "        {\n",
      "            \"count\": 1,\n",
      "            \"name\": \"punk\"\n",
      "        },\n",
      "        {\n",
      "            \"count\": 6,\n",
      "            \"name\": \"american\"\n",
      "        },\n",
      "        {\n",
      "            \"count\": 2,\n",
      "            \"name\": \"seattle\"\n",
      "        },\n",
      "        {\n",
      "            \"count\": 16,\n",
      "            \"name\": \"grunge\"\n",
      "        },\n",
      "        {\n",
      "            \"count\": 0,\n",
      "            \"name\": \"band\"\n",
      "        },\n",
      "        {\n",
      "            \"count\": 1,\n",
      "            \"name\": \"usa\"\n",
      "        },\n",
      "        {\n",
      "            \"count\": 0,\n",
      "            \"name\": \"alternative\"\n",
      "        },\n",
      "        {\n",
      "            \"count\": 0,\n",
      "            \"name\": \"am\\u00e9ricain\"\n",
      "        },\n",
      "        {\n",
      "            \"count\": 0,\n",
      "            \"name\": \"legendary\"\n",
      "        },\n",
      "        {\n",
      "            \"count\": 1,\n",
      "            \"name\": \"acoustic rock\"\n",
      "        },\n",
      "        {\n",
      "            \"count\": 1,\n",
      "            \"name\": \"noise rock\"\n",
      "        },\n",
      "        {\n",
      "            \"count\": 0,\n",
      "            \"name\": \"90\"\n",
      "        },\n",
      "        {\n",
      "            \"count\": 0,\n",
      "            \"name\": \"northwest\"\n",
      "        },\n",
      "        {\n",
      "            \"count\": 0,\n",
      "            \"name\": \"rock and indie\"\n",
      "        },\n",
      "        {\n",
      "            \"count\": 0,\n",
      "            \"name\": \"united states\"\n",
      "        },\n",
      "        {\n",
      "            \"count\": 0,\n",
      "            \"name\": \"nirvana\"\n",
      "        },\n",
      "        {\n",
      "            \"count\": 0,\n",
      "            \"name\": \"kurt cobain\"\n",
      "        }\n",
      "    ],\n",
      "    \"type\": \"Group\"\n",
      "}\n"
     ]
    }
   ],
   "source": [
    "print(\"\\nARTIST:\")\n",
    "pretty_print(results[\"artists\"][4])"
   ]
  },
  {
   "cell_type": "code",
   "execution_count": 55,
   "metadata": {},
   "outputs": [
    {
     "data": {
      "text/plain": [
       "'5b11f4ce-a62d-471e-81fc-a69a8278c7da'"
      ]
     },
     "execution_count": 55,
     "metadata": {},
     "output_type": "execute_result"
    }
   ],
   "source": [
    "artist_id = results[\"artists\"][4][\"id\"]\n",
    "artist_id"
   ]
  },
  {
   "cell_type": "code",
   "execution_count": 56,
   "metadata": {},
   "outputs": [
    {
     "name": "stdout",
     "output_type": "stream",
     "text": [
      "requesting http://musicbrainz.org/ws/2/artist/5b11f4ce-a62d-471e-81fc-a69a8278c7da?inc=releases&fmt=json\n",
      "\n",
      "ONE RELEASE:\n",
      "{\n",
      "  \"barcode\": \"\",\n",
      "  \"country\": \"US\",\n",
      "  \"date\": \"1990-01\",\n",
      "  \"disambiguation\": \"\",\n",
      "  \"id\": \"0444b84e-15af-47a4-810a-773258eb9395\",\n",
      "  \"packaging\": \"Cardboard/Paper Sleeve\",\n",
      "  \"packaging-id\": \"f7101ce3-0384-39ce-9fde-fbbd0044d35f\",\n",
      "  \"quality\": \"normal\",\n",
      "  \"release-events\": [\n",
      "    {\n",
      "      \"area\": {\n",
      "        \"disambiguation\": \"\",\n",
      "        \"id\": \"489ce91b-6658-3307-9877-795b68554c98\",\n",
      "        \"iso-3166-1-codes\": [\n",
      "          \"US\"\n",
      "        ],\n",
      "        \"name\": \"United States\",\n",
      "        \"sort-name\": \"United States\"\n",
      "      },\n",
      "      \"date\": \"1990-01\"\n",
      "    }\n",
      "  ],\n",
      "  \"status\": \"Official\",\n",
      "  \"status-id\": \"4e304316-386d-3409-af2e-78857eec5cfe\",\n",
      "  \"text-representation\": {\n",
      "    \"language\": \"eng\",\n",
      "    \"script\": \"Latn\"\n",
      "  },\n",
      "  \"title\": \"Never Mind the Bollocks Here\\u2019s Nirvana\"\n",
      "}\n"
     ]
    }
   ],
   "source": [
    "artist_data = query_site(artist_url, query_type[\"releases\"], artist_id)\n",
    "releases = artist_data[\"releases\"]\n",
    "print(\"\\nONE RELEASE:\")\n",
    "pretty_print(releases[0], indent=2)"
   ]
  },
  {
   "cell_type": "code",
   "execution_count": 57,
   "metadata": {},
   "outputs": [
    {
     "data": {
      "text/plain": [
       "[{'barcode': '',\n",
       "  'country': 'US',\n",
       "  'date': '1990-01',\n",
       "  'disambiguation': '',\n",
       "  'id': '0444b84e-15af-47a4-810a-773258eb9395',\n",
       "  'packaging': 'Cardboard/Paper Sleeve',\n",
       "  'packaging-id': 'f7101ce3-0384-39ce-9fde-fbbd0044d35f',\n",
       "  'quality': 'normal',\n",
       "  'release-events': [{'area': {'disambiguation': '',\n",
       "     'id': '489ce91b-6658-3307-9877-795b68554c98',\n",
       "     'iso-3166-1-codes': ['US'],\n",
       "     'name': 'United States',\n",
       "     'sort-name': 'United States'},\n",
       "    'date': '1990-01'}],\n",
       "  'status': 'Official',\n",
       "  'status-id': '4e304316-386d-3409-af2e-78857eec5cfe',\n",
       "  'text-representation': {'language': 'eng', 'script': 'Latn'},\n",
       "  'title': 'Never Mind the Bollocks Here’s Nirvana'},\n",
       " {'barcode': '5018615200826',\n",
       "  'country': 'GB',\n",
       "  'date': '1989-12',\n",
       "  'disambiguation': '',\n",
       "  'id': '180abab4-8480-4d1b-9a9c-db3d5e864390',\n",
       "  'packaging': None,\n",
       "  'packaging-id': None,\n",
       "  'quality': 'normal',\n",
       "  'release-events': [{'area': {'disambiguation': '',\n",
       "     'id': '8a754a16-0027-3a29-b6d7-2b40ea0481ed',\n",
       "     'iso-3166-1-codes': ['GB'],\n",
       "     'name': 'United Kingdom',\n",
       "     'sort-name': 'United Kingdom'},\n",
       "    'date': '1989-12'}],\n",
       "  'status': 'Official',\n",
       "  'status-id': '4e304316-386d-3409-af2e-78857eec5cfe',\n",
       "  'text-representation': {'language': 'eng', 'script': 'Latn'},\n",
       "  'title': 'Blew'},\n",
       " {'barcode': '5018615202561',\n",
       "  'country': 'GB',\n",
       "  'date': '1991-01-21',\n",
       "  'disambiguation': '',\n",
       "  'id': '1a5ad2ee-92e6-47a5-9340-25c529fc39b4',\n",
       "  'packaging': 'Cardboard/Paper Sleeve',\n",
       "  'packaging-id': 'f7101ce3-0384-39ce-9fde-fbbd0044d35f',\n",
       "  'quality': 'normal',\n",
       "  'release-events': [{'area': {'disambiguation': '',\n",
       "     'id': '8a754a16-0027-3a29-b6d7-2b40ea0481ed',\n",
       "     'iso-3166-1-codes': ['GB'],\n",
       "     'name': 'United Kingdom',\n",
       "     'sort-name': 'United Kingdom'},\n",
       "    'date': '1991-01-21'}],\n",
       "  'status': 'Official',\n",
       "  'status-id': '4e304316-386d-3409-af2e-78857eec5cfe',\n",
       "  'text-representation': {'language': 'eng', 'script': 'Latn'},\n",
       "  'title': 'Sliver'},\n",
       " {'barcode': None,\n",
       "  'country': 'PL',\n",
       "  'date': '1990',\n",
       "  'disambiguation': '',\n",
       "  'id': '202368dc-5497-47a3-953e-bfa631b2a0cb',\n",
       "  'packaging': None,\n",
       "  'packaging-id': None,\n",
       "  'quality': 'normal',\n",
       "  'release-events': [{'area': {'disambiguation': '',\n",
       "     'id': 'dd7f80c8-f017-3d01-8608-2a8c9c32b954',\n",
       "     'iso-3166-1-codes': ['PL'],\n",
       "     'name': 'Poland',\n",
       "     'sort-name': 'Poland'},\n",
       "    'date': '1990'}],\n",
       "  'status': 'Bootleg',\n",
       "  'status-id': '1156806e-d06a-38bd-83f0-cf2284a808b9',\n",
       "  'text-representation': {'language': 'eng', 'script': 'Latn'},\n",
       "  'title': 'Bleach'},\n",
       " {'barcode': None,\n",
       "  'country': 'US',\n",
       "  'date': '1990-09',\n",
       "  'disambiguation': '',\n",
       "  'id': '21c3ed4e-3961-3fa3-9541-e4f02a980858',\n",
       "  'packaging': None,\n",
       "  'packaging-id': None,\n",
       "  'quality': 'normal',\n",
       "  'release-events': [{'area': {'disambiguation': '',\n",
       "     'id': '489ce91b-6658-3307-9877-795b68554c98',\n",
       "     'iso-3166-1-codes': ['US'],\n",
       "     'name': 'United States',\n",
       "     'sort-name': 'United States'},\n",
       "    'date': '1990-09'}],\n",
       "  'status': 'Official',\n",
       "  'status-id': '4e304316-386d-3409-af2e-78857eec5cfe',\n",
       "  'text-representation': {'language': 'eng', 'script': 'Latn'},\n",
       "  'title': 'Sliver'},\n",
       " {'barcode': None,\n",
       "  'country': 'US',\n",
       "  'date': '1988-11',\n",
       "  'disambiguation': '',\n",
       "  'id': '2c84c9b3-d1d4-48c0-a825-a360f26a5dde',\n",
       "  'packaging': None,\n",
       "  'packaging-id': None,\n",
       "  'quality': 'normal',\n",
       "  'release-events': [{'area': {'disambiguation': '',\n",
       "     'id': '489ce91b-6658-3307-9877-795b68554c98',\n",
       "     'iso-3166-1-codes': ['US'],\n",
       "     'name': 'United States',\n",
       "     'sort-name': 'United States'},\n",
       "    'date': '1988-11'}],\n",
       "  'status': 'Official',\n",
       "  'status-id': '4e304316-386d-3409-af2e-78857eec5cfe',\n",
       "  'text-representation': {'language': 'eng', 'script': 'Latn'},\n",
       "  'title': 'Love Buzz / Big Cheese'},\n",
       " {'barcode': None,\n",
       "  'country': 'US',\n",
       "  'date': '1991-09-10',\n",
       "  'disambiguation': '',\n",
       "  'id': '2f03daed-36e6-4b17-8df3-6dc49556f438',\n",
       "  'packaging': None,\n",
       "  'packaging-id': None,\n",
       "  'quality': 'normal',\n",
       "  'release-events': [{'area': {'disambiguation': '',\n",
       "     'id': '489ce91b-6658-3307-9877-795b68554c98',\n",
       "     'iso-3166-1-codes': ['US'],\n",
       "     'name': 'United States',\n",
       "     'sort-name': 'United States'},\n",
       "    'date': '1991-09-10'}],\n",
       "  'status': 'Official',\n",
       "  'status-id': '4e304316-386d-3409-af2e-78857eec5cfe',\n",
       "  'text-representation': {'language': 'eng', 'script': 'Latn'},\n",
       "  'title': 'Smells Like Teen Spirit'},\n",
       " {'barcode': '720642167328',\n",
       "  'country': 'XE',\n",
       "  'date': '1991-09-10',\n",
       "  'disambiguation': '',\n",
       "  'id': '3abad285-fd57-4709-9f82-572b9c1ae051',\n",
       "  'packaging': 'Slim Jewel Case',\n",
       "  'packaging-id': '36327bc2-f691-3d66-80e5-bd03cec6060a',\n",
       "  'quality': 'normal',\n",
       "  'release-events': [{'area': {'disambiguation': '',\n",
       "     'id': '89a675c2-3e37-3518-b83c-418bad59a85a',\n",
       "     'iso-3166-1-codes': ['XE'],\n",
       "     'name': 'Europe',\n",
       "     'sort-name': 'Europe'},\n",
       "    'date': '1991-09-10'}],\n",
       "  'status': 'Official',\n",
       "  'status-id': '4e304316-386d-3409-af2e-78857eec5cfe',\n",
       "  'text-representation': {'language': 'eng', 'script': 'Latn'},\n",
       "  'title': 'Smells Like Teen Spirit'},\n",
       " {'barcode': None,\n",
       "  'country': 'US',\n",
       "  'date': '1991-06',\n",
       "  'disambiguation': '',\n",
       "  'id': '3fce74e6-2898-478e-81b3-c72a8fb4cb89',\n",
       "  'packaging': None,\n",
       "  'packaging-id': None,\n",
       "  'quality': 'normal',\n",
       "  'release-events': [{'area': {'disambiguation': '',\n",
       "     'id': '489ce91b-6658-3307-9877-795b68554c98',\n",
       "     'iso-3166-1-codes': ['US'],\n",
       "     'name': 'United States',\n",
       "     'sort-name': 'United States'},\n",
       "    'date': '1991-06'}],\n",
       "  'status': 'Official',\n",
       "  'status-id': '4e304316-386d-3409-af2e-78857eec5cfe',\n",
       "  'text-representation': {'language': 'eng', 'script': 'Latn'},\n",
       "  'title': 'Here She Comes Now / Venus in Furs'},\n",
       " {'barcode': '720642167328',\n",
       "  'country': 'DE',\n",
       "  'date': '1991-09-10',\n",
       "  'disambiguation': '',\n",
       "  'id': '68f9fe0a-23c2-3975-8310-7f675b4ec0e6',\n",
       "  'packaging': None,\n",
       "  'packaging-id': None,\n",
       "  'quality': 'normal',\n",
       "  'release-events': [{'area': {'disambiguation': '',\n",
       "     'id': '85752fda-13c4-31a3-bee5-0e5cb1f51dad',\n",
       "     'iso-3166-1-codes': ['DE'],\n",
       "     'name': 'Germany',\n",
       "     'sort-name': 'Germany'},\n",
       "    'date': '1991-09-10'}],\n",
       "  'status': 'Official',\n",
       "  'status-id': '4e304316-386d-3409-af2e-78857eec5cfe',\n",
       "  'text-representation': {'language': 'eng', 'script': 'Latn'},\n",
       "  'title': 'Smells Like Teen Spirit'},\n",
       " {'barcode': '720642167328',\n",
       "  'country': 'US',\n",
       "  'date': '1991-09-10',\n",
       "  'disambiguation': '',\n",
       "  'id': '6a3e3fe7-3cc5-3a6d-b3aa-6fbb12d5b9b2',\n",
       "  'packaging': 'Digipak',\n",
       "  'packaging-id': '8f931351-d2e2-310f-afc6-37b89ddba246',\n",
       "  'quality': 'normal',\n",
       "  'release-events': [{'area': {'disambiguation': '',\n",
       "     'id': '489ce91b-6658-3307-9877-795b68554c98',\n",
       "     'iso-3166-1-codes': ['US'],\n",
       "     'name': 'United States',\n",
       "     'sort-name': 'United States'},\n",
       "    'date': '1991-09-10'}],\n",
       "  'status': 'Official',\n",
       "  'status-id': '4e304316-386d-3409-af2e-78857eec5cfe',\n",
       "  'text-representation': {'language': 'eng', 'script': 'Latn'},\n",
       "  'title': 'Smells Like Teen Spirit'},\n",
       " {'barcode': '098787003420',\n",
       "  'country': 'US',\n",
       "  'date': '1989-06-01',\n",
       "  'disambiguation': '',\n",
       "  'id': '7d166a44-cfb5-4b08-aacb-6863bbe677d6',\n",
       "  'packaging': 'Jewel Case',\n",
       "  'packaging-id': 'ec27701a-4a22-37f4-bfac-6616e0f9750a',\n",
       "  'quality': 'normal',\n",
       "  'release-events': [{'area': {'disambiguation': '',\n",
       "     'id': '489ce91b-6658-3307-9877-795b68554c98',\n",
       "     'iso-3166-1-codes': ['US'],\n",
       "     'name': 'United States',\n",
       "     'sort-name': 'United States'},\n",
       "    'date': '1989-06-01'}],\n",
       "  'status': 'Official',\n",
       "  'status-id': '4e304316-386d-3409-af2e-78857eec5cfe',\n",
       "  'text-representation': {'language': 'eng', 'script': 'Latn'},\n",
       "  'title': 'Bleach'},\n",
       " {'barcode': '5018615202523',\n",
       "  'country': 'GB',\n",
       "  'date': '1991-01',\n",
       "  'disambiguation': '',\n",
       "  'id': '7f183c32-4a79-4873-ac38-215cde83e0ce',\n",
       "  'packaging': 'Slim Jewel Case',\n",
       "  'packaging-id': '36327bc2-f691-3d66-80e5-bd03cec6060a',\n",
       "  'quality': 'normal',\n",
       "  'release-events': [{'area': {'disambiguation': '',\n",
       "     'id': '8a754a16-0027-3a29-b6d7-2b40ea0481ed',\n",
       "     'iso-3166-1-codes': ['GB'],\n",
       "     'name': 'United Kingdom',\n",
       "     'sort-name': 'United Kingdom'},\n",
       "    'date': '1991-01'}],\n",
       "  'status': 'Official',\n",
       "  'status-id': '4e304316-386d-3409-af2e-78857eec5cfe',\n",
       "  'text-representation': {'language': 'eng', 'script': 'Latn'},\n",
       "  'title': 'Sliver'},\n",
       " {'barcode': None,\n",
       "  'country': 'US',\n",
       "  'date': '1991-09-10',\n",
       "  'disambiguation': '',\n",
       "  'id': '8d771949-da8f-36df-8d4a-c3cb194cf21d',\n",
       "  'packaging': None,\n",
       "  'packaging-id': None,\n",
       "  'quality': 'normal',\n",
       "  'release-events': [{'area': {'disambiguation': '',\n",
       "     'id': '489ce91b-6658-3307-9877-795b68554c98',\n",
       "     'iso-3166-1-codes': ['US'],\n",
       "     'name': 'United States',\n",
       "     'sort-name': 'United States'},\n",
       "    'date': '1991-09-10'}],\n",
       "  'status': 'Official',\n",
       "  'status-id': '4e304316-386d-3409-af2e-78857eec5cfe',\n",
       "  'text-representation': {'language': 'eng', 'script': 'Latn'},\n",
       "  'title': 'Smells Like Teen Spirit'},\n",
       " {'barcode': '5018615200819',\n",
       "  'country': 'GB',\n",
       "  'date': '1989-12',\n",
       "  'disambiguation': '',\n",
       "  'id': 'a5829c6e-ad99-38cf-bf98-2dcbee359c09',\n",
       "  'packaging': None,\n",
       "  'packaging-id': None,\n",
       "  'quality': 'normal',\n",
       "  'release-events': [{'area': {'disambiguation': '',\n",
       "     'id': '8a754a16-0027-3a29-b6d7-2b40ea0481ed',\n",
       "     'iso-3166-1-codes': ['GB'],\n",
       "     'name': 'United Kingdom',\n",
       "     'sort-name': 'United Kingdom'},\n",
       "    'date': '1989-12'}],\n",
       "  'status': 'Official',\n",
       "  'status-id': '4e304316-386d-3409-af2e-78857eec5cfe',\n",
       "  'text-representation': {'language': 'eng', 'script': 'Latn'},\n",
       "  'title': 'Blew'},\n",
       " {'barcode': '',\n",
       "  'country': 'US',\n",
       "  'date': '1991-01',\n",
       "  'disambiguation': '',\n",
       "  'id': 'a8b2b2e8-f366-4903-afe8-d4ca1332c13d',\n",
       "  'packaging': None,\n",
       "  'packaging-id': None,\n",
       "  'quality': 'normal',\n",
       "  'release-events': [{'area': {'disambiguation': '',\n",
       "     'id': '489ce91b-6658-3307-9877-795b68554c98',\n",
       "     'iso-3166-1-codes': ['US'],\n",
       "     'name': 'United States',\n",
       "     'sort-name': 'United States'},\n",
       "    'date': '1991-01'}],\n",
       "  'status': 'Official',\n",
       "  'status-id': '4e304316-386d-3409-af2e-78857eec5cfe',\n",
       "  'text-representation': {'language': 'eng', 'script': 'Latn'},\n",
       "  'title': 'Candy / Molly’s Lips'},\n",
       " {'barcode': '008811929121',\n",
       "  'country': None,\n",
       "  'date': '1989',\n",
       "  'disambiguation': '',\n",
       "  'id': 'a96b59a5-4185-4d87-899a-a0d944385811',\n",
       "  'packaging': 'Jewel Case',\n",
       "  'packaging-id': 'ec27701a-4a22-37f4-bfac-6616e0f9750a',\n",
       "  'quality': 'normal',\n",
       "  'release-events': [{'area': None, 'date': '1989'}],\n",
       "  'status': 'Official',\n",
       "  'status-id': '4e304316-386d-3409-af2e-78857eec5cfe',\n",
       "  'text-representation': {'language': 'eng', 'script': 'Latn'},\n",
       "  'title': 'Bleach'},\n",
       " {'barcode': None,\n",
       "  'country': 'US',\n",
       "  'date': '1990-09',\n",
       "  'disambiguation': '',\n",
       "  'id': 'acebbf06-a948-46e7-ae3c-730894e08067',\n",
       "  'packaging': None,\n",
       "  'packaging-id': None,\n",
       "  'quality': 'normal',\n",
       "  'release-events': [{'area': {'disambiguation': '',\n",
       "     'id': '489ce91b-6658-3307-9877-795b68554c98',\n",
       "     'iso-3166-1-codes': ['US'],\n",
       "     'name': 'United States',\n",
       "     'sort-name': 'United States'},\n",
       "    'date': '1990-09'}],\n",
       "  'status': 'Official',\n",
       "  'status-id': '4e304316-386d-3409-af2e-78857eec5cfe',\n",
       "  'text-representation': {'language': 'eng', 'script': 'Latn'},\n",
       "  'title': 'Sliver'},\n",
       " {'barcode': '5021509000525',\n",
       "  'country': 'GB',\n",
       "  'date': '1991-09-10',\n",
       "  'disambiguation': '',\n",
       "  'id': 'b0dd957a-4dd0-40e3-920c-3aac782fad14',\n",
       "  'packaging': 'Digipak',\n",
       "  'packaging-id': '8f931351-d2e2-310f-afc6-37b89ddba246',\n",
       "  'quality': 'normal',\n",
       "  'release-events': [{'area': {'disambiguation': '',\n",
       "     'id': '8a754a16-0027-3a29-b6d7-2b40ea0481ed',\n",
       "     'iso-3166-1-codes': ['GB'],\n",
       "     'name': 'United Kingdom',\n",
       "     'sort-name': 'United Kingdom'},\n",
       "    'date': '1991-09-10'}],\n",
       "  'status': 'Official',\n",
       "  'status-id': '4e304316-386d-3409-af2e-78857eec5cfe',\n",
       "  'text-representation': {'language': 'eng', 'script': 'Latn'},\n",
       "  'title': 'Smells Like Teen Spirit'},\n",
       " {'barcode': '720642442524',\n",
       "  'country': 'XE',\n",
       "  'date': '1991-09-23',\n",
       "  'disambiguation': '',\n",
       "  'id': 'b52a8f31-b5ab-34e9-92f4-f5b7110220f0',\n",
       "  'packaging': 'Jewel Case',\n",
       "  'packaging-id': 'ec27701a-4a22-37f4-bfac-6616e0f9750a',\n",
       "  'quality': 'normal',\n",
       "  'release-events': [{'area': {'disambiguation': '',\n",
       "     'id': '89a675c2-3e37-3518-b83c-418bad59a85a',\n",
       "     'iso-3166-1-codes': ['XE'],\n",
       "     'name': 'Europe',\n",
       "     'sort-name': 'Europe'},\n",
       "    'date': '1991-09-23'}],\n",
       "  'status': 'Official',\n",
       "  'status-id': '4e304316-386d-3409-af2e-78857eec5cfe',\n",
       "  'text-representation': {'language': 'eng', 'script': 'Latn'},\n",
       "  'title': 'Nevermind'},\n",
       " {'barcode': '5018615200628',\n",
       "  'country': 'GB',\n",
       "  'date': '1989',\n",
       "  'disambiguation': '',\n",
       "  'id': 'd3d44548-b2ed-3ddc-a9e0-3f5ee544c1c9',\n",
       "  'packaging': 'Jewel Case',\n",
       "  'packaging-id': 'ec27701a-4a22-37f4-bfac-6616e0f9750a',\n",
       "  'quality': 'normal',\n",
       "  'release-events': [{'area': {'disambiguation': '',\n",
       "     'id': '8a754a16-0027-3a29-b6d7-2b40ea0481ed',\n",
       "     'iso-3166-1-codes': ['GB'],\n",
       "     'name': 'United Kingdom',\n",
       "     'sort-name': 'United Kingdom'},\n",
       "    'date': '1989'}],\n",
       "  'status': 'Official',\n",
       "  'status-id': '4e304316-386d-3409-af2e-78857eec5cfe',\n",
       "  'text-representation': {'language': 'eng', 'script': 'Latn'},\n",
       "  'title': 'Bleach'},\n",
       " {'barcode': None,\n",
       "  'country': 'US',\n",
       "  'date': '1991-09-10',\n",
       "  'disambiguation': '',\n",
       "  'id': 'e1c5d5fa-b1cb-388b-9027-055aa29a382b',\n",
       "  'packaging': None,\n",
       "  'packaging-id': None,\n",
       "  'quality': 'normal',\n",
       "  'release-events': [{'area': {'disambiguation': '',\n",
       "     'id': '489ce91b-6658-3307-9877-795b68554c98',\n",
       "     'iso-3166-1-codes': ['US'],\n",
       "     'name': 'United States',\n",
       "     'sort-name': 'United States'},\n",
       "    'date': '1991-09-10'}],\n",
       "  'status': 'Official',\n",
       "  'status-id': '4e304316-386d-3409-af2e-78857eec5cfe',\n",
       "  'text-representation': {'language': 'eng', 'script': 'Latn'},\n",
       "  'title': 'Smells Like Teen Spirit'},\n",
       " {'barcode': None,\n",
       "  'country': 'US',\n",
       "  'date': '1989-08-08',\n",
       "  'disambiguation': '',\n",
       "  'id': 'e5fa1cc5-3693-455a-821f-5ace2690aff1',\n",
       "  'packaging': None,\n",
       "  'packaging-id': None,\n",
       "  'quality': 'normal',\n",
       "  'release-events': [{'area': {'disambiguation': '',\n",
       "     'id': '489ce91b-6658-3307-9877-795b68554c98',\n",
       "     'iso-3166-1-codes': ['US'],\n",
       "     'name': 'United States',\n",
       "     'sort-name': 'United States'},\n",
       "    'date': '1989-08-08'}],\n",
       "  'status': 'Official',\n",
       "  'status-id': '4e304316-386d-3409-af2e-78857eec5cfe',\n",
       "  'text-representation': {'language': 'eng', 'script': 'Latn'},\n",
       "  'title': 'Bleach'},\n",
       " {'barcode': '',\n",
       "  'country': 'US',\n",
       "  'date': '1990-09',\n",
       "  'disambiguation': '',\n",
       "  'id': 'eaff5199-b86c-4bca-a4b5-c7c33e10e88d',\n",
       "  'packaging': 'Cardboard/Paper Sleeve',\n",
       "  'packaging-id': 'f7101ce3-0384-39ce-9fde-fbbd0044d35f',\n",
       "  'quality': 'normal',\n",
       "  'release-events': [{'area': {'disambiguation': '',\n",
       "     'id': '489ce91b-6658-3307-9877-795b68554c98',\n",
       "     'iso-3166-1-codes': ['US'],\n",
       "     'name': 'United States',\n",
       "     'sort-name': 'United States'},\n",
       "    'date': '1990-09'}],\n",
       "  'status': 'Official',\n",
       "  'status-id': '4e304316-386d-3409-af2e-78857eec5cfe',\n",
       "  'text-representation': {'language': 'eng', 'script': 'Latn'},\n",
       "  'title': 'Sliver'},\n",
       " {'barcode': '720642442524',\n",
       "  'country': 'AU',\n",
       "  'date': '1991-09-24',\n",
       "  'disambiguation': '',\n",
       "  'id': 'eccae410-7577-4daa-b602-92d305828331',\n",
       "  'packaging': 'Jewel Case',\n",
       "  'packaging-id': 'ec27701a-4a22-37f4-bfac-6616e0f9750a',\n",
       "  'quality': 'normal',\n",
       "  'release-events': [{'area': {'disambiguation': '',\n",
       "     'id': '106e0bec-b638-3b37-b731-f53d507dc00e',\n",
       "     'iso-3166-1-codes': ['AU'],\n",
       "     'name': 'Australia',\n",
       "     'sort-name': 'Australia'},\n",
       "    'date': '1991-09-24'}],\n",
       "  'status': 'Official',\n",
       "  'status-id': '4e304316-386d-3409-af2e-78857eec5cfe',\n",
       "  'text-representation': {'language': 'eng', 'script': 'Latn'},\n",
       "  'title': 'Nevermind'}]"
      ]
     },
     "execution_count": 57,
     "metadata": {},
     "output_type": "execute_result"
    }
   ],
   "source": [
    "releases"
   ]
  },
  {
   "cell_type": "code",
   "execution_count": 58,
   "metadata": {},
   "outputs": [
    {
     "name": "stdout",
     "output_type": "stream",
     "text": [
      "\n",
      "ALL TITLES:\n",
      "Never Mind the Bollocks Here’s Nirvana\n",
      "Blew\n",
      "Sliver\n",
      "Bleach\n",
      "Sliver\n",
      "Love Buzz / Big Cheese\n",
      "Smells Like Teen Spirit\n",
      "Smells Like Teen Spirit\n",
      "Here She Comes Now / Venus in Furs\n",
      "Smells Like Teen Spirit\n",
      "Smells Like Teen Spirit\n",
      "Bleach\n",
      "Sliver\n",
      "Smells Like Teen Spirit\n",
      "Blew\n",
      "Candy / Molly’s Lips\n",
      "Bleach\n",
      "Sliver\n",
      "Smells Like Teen Spirit\n",
      "Nevermind\n",
      "Bleach\n",
      "Smells Like Teen Spirit\n",
      "Bleach\n",
      "Sliver\n",
      "Nevermind\n"
     ]
    }
   ],
   "source": [
    "release_titles = [r[\"title\"] for r in releases]\n",
    "print(\"\\nALL TITLES:\")\n",
    "for t in release_titles:\n",
    "        print(t)"
   ]
  },
  {
   "cell_type": "markdown",
   "metadata": {},
   "source": [
    "#### Using Pandas"
   ]
  },
  {
   "cell_type": "markdown",
   "metadata": {},
   "source": [
    "http://pandas.pydata.org/pandas-docs/stable/io.html#io-json-reader  "
   ]
  },
  {
   "cell_type": "code",
   "execution_count": 59,
   "metadata": {},
   "outputs": [
    {
     "data": {
      "text/html": [
       "<div>\n",
       "<style scoped>\n",
       "    .dataframe tbody tr th:only-of-type {\n",
       "        vertical-align: middle;\n",
       "    }\n",
       "\n",
       "    .dataframe tbody tr th {\n",
       "        vertical-align: top;\n",
       "    }\n",
       "\n",
       "    .dataframe thead th {\n",
       "        text-align: right;\n",
       "    }\n",
       "</style>\n",
       "<table border=\"1\" class=\"dataframe\">\n",
       "  <thead>\n",
       "    <tr style=\"text-align: right;\">\n",
       "      <th></th>\n",
       "      <th>assignee</th>\n",
       "      <th>assignees</th>\n",
       "      <th>author_association</th>\n",
       "      <th>body</th>\n",
       "      <th>closed_at</th>\n",
       "      <th>comments</th>\n",
       "      <th>comments_url</th>\n",
       "      <th>created_at</th>\n",
       "      <th>events_url</th>\n",
       "      <th>html_url</th>\n",
       "      <th>...</th>\n",
       "      <th>milestone</th>\n",
       "      <th>node_id</th>\n",
       "      <th>number</th>\n",
       "      <th>pull_request</th>\n",
       "      <th>repository_url</th>\n",
       "      <th>state</th>\n",
       "      <th>title</th>\n",
       "      <th>updated_at</th>\n",
       "      <th>url</th>\n",
       "      <th>user</th>\n",
       "    </tr>\n",
       "  </thead>\n",
       "  <tbody>\n",
       "    <tr>\n",
       "      <th>0</th>\n",
       "      <td>NaN</td>\n",
       "      <td>[]</td>\n",
       "      <td>MEMBER</td>\n",
       "      <td>- [x] tests passed\\r\\n- [x] passes `git diff u...</td>\n",
       "      <td>NaT</td>\n",
       "      <td>1</td>\n",
       "      <td>https://api.github.com/repos/pandas-dev/pandas...</td>\n",
       "      <td>2018-06-21 09:26:31</td>\n",
       "      <td>https://api.github.com/repos/pandas-dev/pandas...</td>\n",
       "      <td>https://github.com/pandas-dev/pandas/pull/21569</td>\n",
       "      <td>...</td>\n",
       "      <td>{'url': 'https://api.github.com/repos/pandas-d...</td>\n",
       "      <td>MDExOlB1bGxSZXF1ZXN0MTk2Mzg4ODkw</td>\n",
       "      <td>21569</td>\n",
       "      <td>{'url': 'https://api.github.com/repos/pandas-d...</td>\n",
       "      <td>https://api.github.com/repos/pandas-dev/pandas</td>\n",
       "      <td>open</td>\n",
       "      <td>REF: multi_take is now able to tackle all list...</td>\n",
       "      <td>2018-06-21 09:38:09</td>\n",
       "      <td>https://api.github.com/repos/pandas-dev/pandas...</td>\n",
       "      <td>{'login': 'toobaz', 'id': 1224492, 'node_id': ...</td>\n",
       "    </tr>\n",
       "    <tr>\n",
       "      <th>1</th>\n",
       "      <td>NaN</td>\n",
       "      <td>[]</td>\n",
       "      <td>MEMBER</td>\n",
       "      <td>#### Code Sample, a copy-pastable example if p...</td>\n",
       "      <td>NaT</td>\n",
       "      <td>0</td>\n",
       "      <td>https://api.github.com/repos/pandas-dev/pandas...</td>\n",
       "      <td>2018-06-21 04:53:13</td>\n",
       "      <td>https://api.github.com/repos/pandas-dev/pandas...</td>\n",
       "      <td>https://github.com/pandas-dev/pandas/issues/21567</td>\n",
       "      <td>...</td>\n",
       "      <td>None</td>\n",
       "      <td>MDU6SXNzdWUzMzQzMzc3MDE=</td>\n",
       "      <td>21567</td>\n",
       "      <td>NaN</td>\n",
       "      <td>https://api.github.com/repos/pandas-dev/pandas</td>\n",
       "      <td>open</td>\n",
       "      <td>Inconsistent error where looking for label of ...</td>\n",
       "      <td>2018-06-21 04:53:13</td>\n",
       "      <td>https://api.github.com/repos/pandas-dev/pandas...</td>\n",
       "      <td>{'login': 'toobaz', 'id': 1224492, 'node_id': ...</td>\n",
       "    </tr>\n",
       "    <tr>\n",
       "      <th>2</th>\n",
       "      <td>NaN</td>\n",
       "      <td>[]</td>\n",
       "      <td>CONTRIBUTOR</td>\n",
       "      <td>http://pandas-docs.github.io/pandas-docs-travi...</td>\n",
       "      <td>NaT</td>\n",
       "      <td>0</td>\n",
       "      <td>https://api.github.com/repos/pandas-dev/pandas...</td>\n",
       "      <td>2018-06-20 21:00:00</td>\n",
       "      <td>https://api.github.com/repos/pandas-dev/pandas...</td>\n",
       "      <td>https://github.com/pandas-dev/pandas/issues/21564</td>\n",
       "      <td>...</td>\n",
       "      <td>{'url': 'https://api.github.com/repos/pandas-d...</td>\n",
       "      <td>MDU6SXNzdWUzMzQyNDc0NjM=</td>\n",
       "      <td>21564</td>\n",
       "      <td>NaN</td>\n",
       "      <td>https://api.github.com/repos/pandas-dev/pandas</td>\n",
       "      <td>open</td>\n",
       "      <td>Tick DateOffset Normalize whatsnew entry has a...</td>\n",
       "      <td>2018-06-20 21:00:00</td>\n",
       "      <td>https://api.github.com/repos/pandas-dev/pandas...</td>\n",
       "      <td>{'login': 'TomAugspurger', 'id': 1312546, 'nod...</td>\n",
       "    </tr>\n",
       "    <tr>\n",
       "      <th>3</th>\n",
       "      <td>NaN</td>\n",
       "      <td>[]</td>\n",
       "      <td>CONTRIBUTOR</td>\n",
       "      <td>I know float16 is not very supported a lot, bu...</td>\n",
       "      <td>NaT</td>\n",
       "      <td>0</td>\n",
       "      <td>https://api.github.com/repos/pandas-dev/pandas...</td>\n",
       "      <td>2018-06-20 20:50:54</td>\n",
       "      <td>https://api.github.com/repos/pandas-dev/pandas...</td>\n",
       "      <td>https://github.com/pandas-dev/pandas/issues/21563</td>\n",
       "      <td>...</td>\n",
       "      <td>None</td>\n",
       "      <td>MDU6SXNzdWUzMzQyNDQ2NTM=</td>\n",
       "      <td>21563</td>\n",
       "      <td>NaN</td>\n",
       "      <td>https://api.github.com/repos/pandas-dev/pandas</td>\n",
       "      <td>open</td>\n",
       "      <td>float16 inconsistenly slow assignment</td>\n",
       "      <td>2018-06-20 20:55:51</td>\n",
       "      <td>https://api.github.com/repos/pandas-dev/pandas...</td>\n",
       "      <td>{'login': 'hnykda', 'id': 2741256, 'node_id': ...</td>\n",
       "    </tr>\n",
       "    <tr>\n",
       "      <th>4</th>\n",
       "      <td>NaN</td>\n",
       "      <td>[]</td>\n",
       "      <td>NONE</td>\n",
       "      <td>#### Code Sample, a copy-pastable example if p...</td>\n",
       "      <td>NaT</td>\n",
       "      <td>5</td>\n",
       "      <td>https://api.github.com/repos/pandas-dev/pandas...</td>\n",
       "      <td>2018-06-20 16:27:22</td>\n",
       "      <td>https://api.github.com/repos/pandas-dev/pandas...</td>\n",
       "      <td>https://github.com/pandas-dev/pandas/issues/21561</td>\n",
       "      <td>...</td>\n",
       "      <td>None</td>\n",
       "      <td>MDU6SXNzdWUzMzQxNTYyNzk=</td>\n",
       "      <td>21561</td>\n",
       "      <td>NaN</td>\n",
       "      <td>https://api.github.com/repos/pandas-dev/pandas</td>\n",
       "      <td>open</td>\n",
       "      <td>Test Case for to_csv to sys.stdout</td>\n",
       "      <td>2018-06-21 09:22:31</td>\n",
       "      <td>https://api.github.com/repos/pandas-dev/pandas...</td>\n",
       "      <td>{'login': 'hawkeyej', 'id': 6677049, 'node_id'...</td>\n",
       "    </tr>\n",
       "  </tbody>\n",
       "</table>\n",
       "<p>5 rows × 24 columns</p>\n",
       "</div>"
      ],
      "text/plain": [
       "   assignee assignees author_association  \\\n",
       "0       NaN        []             MEMBER   \n",
       "1       NaN        []             MEMBER   \n",
       "2       NaN        []        CONTRIBUTOR   \n",
       "3       NaN        []        CONTRIBUTOR   \n",
       "4       NaN        []               NONE   \n",
       "\n",
       "                                                body closed_at  comments  \\\n",
       "0  - [x] tests passed\\r\\n- [x] passes `git diff u...       NaT         1   \n",
       "1  #### Code Sample, a copy-pastable example if p...       NaT         0   \n",
       "2  http://pandas-docs.github.io/pandas-docs-travi...       NaT         0   \n",
       "3  I know float16 is not very supported a lot, bu...       NaT         0   \n",
       "4  #### Code Sample, a copy-pastable example if p...       NaT         5   \n",
       "\n",
       "                                        comments_url          created_at  \\\n",
       "0  https://api.github.com/repos/pandas-dev/pandas... 2018-06-21 09:26:31   \n",
       "1  https://api.github.com/repos/pandas-dev/pandas... 2018-06-21 04:53:13   \n",
       "2  https://api.github.com/repos/pandas-dev/pandas... 2018-06-20 21:00:00   \n",
       "3  https://api.github.com/repos/pandas-dev/pandas... 2018-06-20 20:50:54   \n",
       "4  https://api.github.com/repos/pandas-dev/pandas... 2018-06-20 16:27:22   \n",
       "\n",
       "                                          events_url  \\\n",
       "0  https://api.github.com/repos/pandas-dev/pandas...   \n",
       "1  https://api.github.com/repos/pandas-dev/pandas...   \n",
       "2  https://api.github.com/repos/pandas-dev/pandas...   \n",
       "3  https://api.github.com/repos/pandas-dev/pandas...   \n",
       "4  https://api.github.com/repos/pandas-dev/pandas...   \n",
       "\n",
       "                                            html_url  \\\n",
       "0    https://github.com/pandas-dev/pandas/pull/21569   \n",
       "1  https://github.com/pandas-dev/pandas/issues/21567   \n",
       "2  https://github.com/pandas-dev/pandas/issues/21564   \n",
       "3  https://github.com/pandas-dev/pandas/issues/21563   \n",
       "4  https://github.com/pandas-dev/pandas/issues/21561   \n",
       "\n",
       "                         ...                          \\\n",
       "0                        ...                           \n",
       "1                        ...                           \n",
       "2                        ...                           \n",
       "3                        ...                           \n",
       "4                        ...                           \n",
       "\n",
       "                                           milestone  \\\n",
       "0  {'url': 'https://api.github.com/repos/pandas-d...   \n",
       "1                                               None   \n",
       "2  {'url': 'https://api.github.com/repos/pandas-d...   \n",
       "3                                               None   \n",
       "4                                               None   \n",
       "\n",
       "                            node_id number  \\\n",
       "0  MDExOlB1bGxSZXF1ZXN0MTk2Mzg4ODkw  21569   \n",
       "1          MDU6SXNzdWUzMzQzMzc3MDE=  21567   \n",
       "2          MDU6SXNzdWUzMzQyNDc0NjM=  21564   \n",
       "3          MDU6SXNzdWUzMzQyNDQ2NTM=  21563   \n",
       "4          MDU6SXNzdWUzMzQxNTYyNzk=  21561   \n",
       "\n",
       "                                        pull_request  \\\n",
       "0  {'url': 'https://api.github.com/repos/pandas-d...   \n",
       "1                                                NaN   \n",
       "2                                                NaN   \n",
       "3                                                NaN   \n",
       "4                                                NaN   \n",
       "\n",
       "                                   repository_url state  \\\n",
       "0  https://api.github.com/repos/pandas-dev/pandas  open   \n",
       "1  https://api.github.com/repos/pandas-dev/pandas  open   \n",
       "2  https://api.github.com/repos/pandas-dev/pandas  open   \n",
       "3  https://api.github.com/repos/pandas-dev/pandas  open   \n",
       "4  https://api.github.com/repos/pandas-dev/pandas  open   \n",
       "\n",
       "                                               title          updated_at  \\\n",
       "0  REF: multi_take is now able to tackle all list... 2018-06-21 09:38:09   \n",
       "1  Inconsistent error where looking for label of ... 2018-06-21 04:53:13   \n",
       "2  Tick DateOffset Normalize whatsnew entry has a... 2018-06-20 21:00:00   \n",
       "3              float16 inconsistenly slow assignment 2018-06-20 20:55:51   \n",
       "4                 Test Case for to_csv to sys.stdout 2018-06-21 09:22:31   \n",
       "\n",
       "                                                 url  \\\n",
       "0  https://api.github.com/repos/pandas-dev/pandas...   \n",
       "1  https://api.github.com/repos/pandas-dev/pandas...   \n",
       "2  https://api.github.com/repos/pandas-dev/pandas...   \n",
       "3  https://api.github.com/repos/pandas-dev/pandas...   \n",
       "4  https://api.github.com/repos/pandas-dev/pandas...   \n",
       "\n",
       "                                                user  \n",
       "0  {'login': 'toobaz', 'id': 1224492, 'node_id': ...  \n",
       "1  {'login': 'toobaz', 'id': 1224492, 'node_id': ...  \n",
       "2  {'login': 'TomAugspurger', 'id': 1312546, 'nod...  \n",
       "3  {'login': 'hnykda', 'id': 2741256, 'node_id': ...  \n",
       "4  {'login': 'hawkeyej', 'id': 6677049, 'node_id'...  \n",
       "\n",
       "[5 rows x 24 columns]"
      ]
     },
     "execution_count": 59,
     "metadata": {},
     "output_type": "execute_result"
    }
   ],
   "source": [
    "df_json = pd.read_json('https://api.github.com/repos/pydata/pandas/issues?per_page=5')\n",
    "df_json"
   ]
  },
  {
   "cell_type": "markdown",
   "metadata": {},
   "source": [
    "## Accessing YAML"
   ]
  },
  {
   "cell_type": "code",
   "execution_count": 60,
   "metadata": {},
   "outputs": [],
   "source": [
    "import yaml"
   ]
  },
  {
   "cell_type": "code",
   "execution_count": 61,
   "metadata": {},
   "outputs": [
    {
     "name": "stdout",
     "output_type": "stream",
     "text": [
      "[{'martin': {'name': \"Martin D'vloper\", 'job': 'Developer', 'skills': ['python', 'perl', 'pascal']}}, {'tabitha': {'name': 'Tabitha Bitumen', 'job': 'Developer', 'skills': ['lisp', 'fortran', 'erlang']}}]\n"
     ]
    }
   ],
   "source": [
    "with open(datapath / 'simple.yaml', 'r') as stream:\n",
    "    try:\n",
    "        print(yaml.load(stream))\n",
    "    except yaml.YAMLError as exc:\n",
    "        print(exc)"
   ]
  },
  {
   "cell_type": "markdown",
   "metadata": {},
   "source": [
    "## Accessing XML"
   ]
  },
  {
   "cell_type": "markdown",
   "metadata": {},
   "source": [
    "https://docs.python.org/3/library/urllib.html\n",
    "\n",
    "https://docs.python.org/3/library/xml.etree.elementtree.html\n",
    "\n",
    "http://lxml.de/\n",
    "\n",
    "http://www.w3schools.com/xml/xml_examples.asp"
   ]
  },
  {
   "cell_type": "code",
   "execution_count": 62,
   "metadata": {},
   "outputs": [],
   "source": [
    "from xml.dom import minidom\n",
    "#from xml.etree import ElementTree as ET\n",
    "from lxml import etree as ET #Supports xpath syntax\n",
    "from collections import defaultdict\n",
    "from pprint import pprint"
   ]
  },
  {
   "cell_type": "code",
   "execution_count": 63,
   "metadata": {},
   "outputs": [],
   "source": [
    "url = 'http://www.w3schools.com/xml/cd_catalog.xml'\n",
    "xml_page = urllib.request.urlopen(url).read()\n",
    "e = ET.XML(xml_page)"
   ]
  },
  {
   "cell_type": "code",
   "execution_count": 64,
   "metadata": {},
   "outputs": [],
   "source": [
    "def etree_to_dict(t):\n",
    "    d = {t.tag: {} if t.attrib else None}\n",
    "    children = list(t)\n",
    "    if children:\n",
    "        dd = defaultdict(list)\n",
    "        for dc in map(etree_to_dict, children):\n",
    "            for k, v in dc.items():\n",
    "                dd[k].append(v)\n",
    "        d = {t.tag: {k:v[0] if len(v) == 1 else v for k, v in dd.items()}}\n",
    "    if t.attrib:\n",
    "        d[t.tag].update(('@' + k, v) for k, v in t.attrib.items())\n",
    "    if t.text:\n",
    "        text = t.text.strip()\n",
    "        if children or t.attrib:\n",
    "            if text:\n",
    "              d[t.tag]['#text'] = text\n",
    "        else:\n",
    "            d[t.tag] = text\n",
    "    return d"
   ]
  },
  {
   "cell_type": "code",
   "execution_count": 65,
   "metadata": {},
   "outputs": [
    {
     "name": "stdout",
     "output_type": "stream",
     "text": [
      "{'CATALOG': {'CD': [{'ARTIST': 'Bob Dylan',\n",
      "                     'COMPANY': 'Columbia',\n",
      "                     'COUNTRY': 'USA',\n",
      "                     'PRICE': '10.90',\n",
      "                     'TITLE': 'Empire Burlesque',\n",
      "                     'YEAR': '1985'},\n",
      "                    {'ARTIST': 'Bonnie Tyler',\n",
      "                     'COMPANY': 'CBS Records',\n",
      "                     'COUNTRY': 'UK',\n",
      "                     'PRICE': '9.90',\n",
      "                     'TITLE': 'Hide your heart',\n",
      "                     'YEAR': '1988'},\n",
      "                    {'ARTIST': 'Dolly Parton',\n",
      "                     'COMPANY': 'RCA',\n",
      "                     'COUNTRY': 'USA',\n",
      "                     'PRICE': '9.90',\n",
      "                     'TITLE': 'Greatest Hits',\n",
      "                     'YEAR': '1982'},\n",
      "                    {'ARTIST': 'Gary Moore',\n",
      "                     'COMPANY': 'Virgin records',\n",
      "                     'COUNTRY': 'UK',\n",
      "                     'PRICE': '10.20',\n",
      "                     'TITLE': 'Still got the blues',\n",
      "                     'YEAR': '1990'},\n",
      "                    {'ARTIST': 'Eros Ramazzotti',\n",
      "                     'COMPANY': 'BMG',\n",
      "                     'COUNTRY': 'EU',\n",
      "                     'PRICE': '9.90',\n",
      "                     'TITLE': 'Eros',\n",
      "                     'YEAR': '1997'},\n",
      "                    {'ARTIST': 'Bee Gees',\n",
      "                     'COMPANY': 'Polydor',\n",
      "                     'COUNTRY': 'UK',\n",
      "                     'PRICE': '10.90',\n",
      "                     'TITLE': 'One night only',\n",
      "                     'YEAR': '1998'},\n",
      "                    {'ARTIST': 'Dr.Hook',\n",
      "                     'COMPANY': 'CBS',\n",
      "                     'COUNTRY': 'UK',\n",
      "                     'PRICE': '8.10',\n",
      "                     'TITLE': 'Sylvias Mother',\n",
      "                     'YEAR': '1973'},\n",
      "                    {'ARTIST': 'Rod Stewart',\n",
      "                     'COMPANY': 'Pickwick',\n",
      "                     'COUNTRY': 'UK',\n",
      "                     'PRICE': '8.50',\n",
      "                     'TITLE': 'Maggie May',\n",
      "                     'YEAR': '1990'},\n",
      "                    {'ARTIST': 'Andrea Bocelli',\n",
      "                     'COMPANY': 'Polydor',\n",
      "                     'COUNTRY': 'EU',\n",
      "                     'PRICE': '10.80',\n",
      "                     'TITLE': 'Romanza',\n",
      "                     'YEAR': '1996'},\n",
      "                    {'ARTIST': 'Percy Sledge',\n",
      "                     'COMPANY': 'Atlantic',\n",
      "                     'COUNTRY': 'USA',\n",
      "                     'PRICE': '8.70',\n",
      "                     'TITLE': 'When a man loves a woman',\n",
      "                     'YEAR': '1987'},\n",
      "                    {'ARTIST': 'Savage Rose',\n",
      "                     'COMPANY': 'Mega',\n",
      "                     'COUNTRY': 'EU',\n",
      "                     'PRICE': '10.90',\n",
      "                     'TITLE': 'Black angel',\n",
      "                     'YEAR': '1995'},\n",
      "                    {'ARTIST': 'Many',\n",
      "                     'COMPANY': 'Grammy',\n",
      "                     'COUNTRY': 'USA',\n",
      "                     'PRICE': '10.20',\n",
      "                     'TITLE': '1999 Grammy Nominees',\n",
      "                     'YEAR': '1999'},\n",
      "                    {'ARTIST': 'Kenny Rogers',\n",
      "                     'COMPANY': 'Mucik Master',\n",
      "                     'COUNTRY': 'UK',\n",
      "                     'PRICE': '8.70',\n",
      "                     'TITLE': 'For the good times',\n",
      "                     'YEAR': '1995'},\n",
      "                    {'ARTIST': 'Will Smith',\n",
      "                     'COMPANY': 'Columbia',\n",
      "                     'COUNTRY': 'USA',\n",
      "                     'PRICE': '9.90',\n",
      "                     'TITLE': 'Big Willie style',\n",
      "                     'YEAR': '1997'},\n",
      "                    {'ARTIST': 'Van Morrison',\n",
      "                     'COMPANY': 'Polydor',\n",
      "                     'COUNTRY': 'UK',\n",
      "                     'PRICE': '8.20',\n",
      "                     'TITLE': 'Tupelo Honey',\n",
      "                     'YEAR': '1971'},\n",
      "                    {'ARTIST': 'Jorn Hoel',\n",
      "                     'COMPANY': 'WEA',\n",
      "                     'COUNTRY': 'Norway',\n",
      "                     'PRICE': '7.90',\n",
      "                     'TITLE': 'Soulsville',\n",
      "                     'YEAR': '1996'},\n",
      "                    {'ARTIST': 'Cat Stevens',\n",
      "                     'COMPANY': 'Island',\n",
      "                     'COUNTRY': 'UK',\n",
      "                     'PRICE': '8.90',\n",
      "                     'TITLE': 'The very best of',\n",
      "                     'YEAR': '1990'},\n",
      "                    {'ARTIST': 'Sam Brown',\n",
      "                     'COMPANY': 'A and M',\n",
      "                     'COUNTRY': 'UK',\n",
      "                     'PRICE': '8.90',\n",
      "                     'TITLE': 'Stop',\n",
      "                     'YEAR': '1988'},\n",
      "                    {'ARTIST': \"T'Pau\",\n",
      "                     'COMPANY': 'Siren',\n",
      "                     'COUNTRY': 'UK',\n",
      "                     'PRICE': '7.90',\n",
      "                     'TITLE': 'Bridge of Spies',\n",
      "                     'YEAR': '1987'},\n",
      "                    {'ARTIST': 'Tina Turner',\n",
      "                     'COMPANY': 'Capitol',\n",
      "                     'COUNTRY': 'UK',\n",
      "                     'PRICE': '8.90',\n",
      "                     'TITLE': 'Private Dancer',\n",
      "                     'YEAR': '1983'},\n",
      "                    {'ARTIST': 'Kim Larsen',\n",
      "                     'COMPANY': 'Medley',\n",
      "                     'COUNTRY': 'EU',\n",
      "                     'PRICE': '7.80',\n",
      "                     'TITLE': 'Midt om natten',\n",
      "                     'YEAR': '1983'},\n",
      "                    {'ARTIST': 'Luciano Pavarotti',\n",
      "                     'COMPANY': 'DECCA',\n",
      "                     'COUNTRY': 'UK',\n",
      "                     'PRICE': '9.90',\n",
      "                     'TITLE': 'Pavarotti Gala Concert',\n",
      "                     'YEAR': '1991'},\n",
      "                    {'ARTIST': 'Otis Redding',\n",
      "                     'COMPANY': 'Stax Records',\n",
      "                     'COUNTRY': 'USA',\n",
      "                     'PRICE': '7.90',\n",
      "                     'TITLE': 'The dock of the bay',\n",
      "                     'YEAR': '1968'},\n",
      "                    {'ARTIST': 'Simply Red',\n",
      "                     'COMPANY': 'Elektra',\n",
      "                     'COUNTRY': 'EU',\n",
      "                     'PRICE': '7.20',\n",
      "                     'TITLE': 'Picture book',\n",
      "                     'YEAR': '1985'},\n",
      "                    {'ARTIST': 'The Communards',\n",
      "                     'COMPANY': 'London',\n",
      "                     'COUNTRY': 'UK',\n",
      "                     'PRICE': '7.80',\n",
      "                     'TITLE': 'Red',\n",
      "                     'YEAR': '1987'},\n",
      "                    {'ARTIST': 'Joe Cocker',\n",
      "                     'COMPANY': 'EMI',\n",
      "                     'COUNTRY': 'USA',\n",
      "                     'PRICE': '8.20',\n",
      "                     'TITLE': 'Unchain my heart',\n",
      "                     'YEAR': '1987'}]}}\n"
     ]
    }
   ],
   "source": [
    "pprint(etree_to_dict(e))"
   ]
  },
  {
   "cell_type": "code",
   "execution_count": 66,
   "metadata": {},
   "outputs": [
    {
     "name": "stdout",
     "output_type": "stream",
     "text": [
      "Element node: CATALOG\n",
      "text node:\n",
      "  \n",
      "Element node: CD\n",
      "text node:\n",
      "    \n",
      "Element node: TITLE\n",
      "text node:Empire Burlesque\n",
      "text node:\n",
      "    \n",
      "Element node: ARTIST\n",
      "text node:Bob Dylan\n",
      "text node:\n",
      "    \n",
      "Element node: COUNTRY\n",
      "text node:USA\n",
      "text node:\n",
      "    \n",
      "Element node: COMPANY\n",
      "text node:Columbia\n",
      "text node:\n",
      "    \n",
      "Element node: PRICE\n",
      "text node:10.90\n",
      "text node:\n",
      "    \n",
      "Element node: YEAR\n",
      "text node:1985\n",
      "text node:\n",
      "  \n",
      "text node:\n",
      "  \n",
      "Element node: CD\n",
      "text node:\n",
      "    \n",
      "Element node: TITLE\n",
      "text node:Hide your heart\n",
      "text node:\n",
      "    \n",
      "Element node: ARTIST\n",
      "text node:Bonnie Tyler\n",
      "text node:\n",
      "    \n",
      "Element node: COUNTRY\n",
      "text node:UK\n",
      "text node:\n",
      "    \n",
      "Element node: COMPANY\n",
      "text node:CBS Records\n",
      "text node:\n",
      "    \n",
      "Element node: PRICE\n",
      "text node:9.90\n",
      "text node:\n",
      "    \n",
      "Element node: YEAR\n",
      "text node:1988\n",
      "text node:\n",
      "  \n",
      "text node:\n",
      "  \n",
      "Element node: CD\n",
      "text node:\n",
      "    \n",
      "Element node: TITLE\n",
      "text node:Greatest Hits\n",
      "text node:\n",
      "    \n",
      "Element node: ARTIST\n",
      "text node:Dolly Parton\n",
      "text node:\n",
      "    \n",
      "Element node: COUNTRY\n",
      "text node:USA\n",
      "text node:\n",
      "    \n",
      "Element node: COMPANY\n",
      "text node:RCA\n",
      "text node:\n",
      "    \n",
      "Element node: PRICE\n",
      "text node:9.90\n",
      "text node:\n",
      "    \n",
      "Element node: YEAR\n",
      "text node:1982\n",
      "text node:\n",
      "  \n",
      "text node:\n",
      "  \n",
      "Element node: CD\n",
      "text node:\n",
      "    \n",
      "Element node: TITLE\n",
      "text node:Still got the blues\n",
      "text node:\n",
      "    \n",
      "Element node: ARTIST\n",
      "text node:Gary Moore\n",
      "text node:\n",
      "    \n",
      "Element node: COUNTRY\n",
      "text node:UK\n",
      "text node:\n",
      "    \n",
      "Element node: COMPANY\n",
      "text node:Virgin records\n",
      "text node:\n",
      "    \n",
      "Element node: PRICE\n",
      "text node:10.20\n",
      "text node:\n",
      "    \n",
      "Element node: YEAR\n",
      "text node:1990\n",
      "text node:\n",
      "  \n",
      "text node:\n",
      "  \n",
      "Element node: CD\n",
      "text node:\n",
      "    \n",
      "Element node: TITLE\n",
      "text node:Eros\n",
      "text node:\n",
      "    \n",
      "Element node: ARTIST\n",
      "text node:Eros Ramazzotti\n",
      "text node:\n",
      "    \n",
      "Element node: COUNTRY\n",
      "text node:EU\n",
      "text node:\n",
      "    \n",
      "Element node: COMPANY\n",
      "text node:BMG\n",
      "text node:\n",
      "    \n",
      "Element node: PRICE\n",
      "text node:9.90\n",
      "text node:\n",
      "    \n",
      "Element node: YEAR\n",
      "text node:1997\n",
      "text node:\n",
      "  \n",
      "text node:\n",
      "  \n",
      "Element node: CD\n",
      "text node:\n",
      "    \n",
      "Element node: TITLE\n",
      "text node:One night only\n",
      "text node:\n",
      "    \n",
      "Element node: ARTIST\n",
      "text node:Bee Gees\n",
      "text node:\n",
      "    \n",
      "Element node: COUNTRY\n",
      "text node:UK\n",
      "text node:\n",
      "    \n",
      "Element node: COMPANY\n",
      "text node:Polydor\n",
      "text node:\n",
      "    \n",
      "Element node: PRICE\n",
      "text node:10.90\n",
      "text node:\n",
      "    \n",
      "Element node: YEAR\n",
      "text node:1998\n",
      "text node:\n",
      "  \n",
      "text node:\n",
      "  \n",
      "Element node: CD\n",
      "text node:\n",
      "    \n",
      "Element node: TITLE\n",
      "text node:Sylvias Mother\n",
      "text node:\n",
      "    \n",
      "Element node: ARTIST\n",
      "text node:Dr.Hook\n",
      "text node:\n",
      "    \n",
      "Element node: COUNTRY\n",
      "text node:UK\n",
      "text node:\n",
      "    \n",
      "Element node: COMPANY\n",
      "text node:CBS\n",
      "text node:\n",
      "    \n",
      "Element node: PRICE\n",
      "text node:8.10\n",
      "text node:\n",
      "    \n",
      "Element node: YEAR\n",
      "text node:1973\n",
      "text node:\n",
      "  \n",
      "text node:\n",
      "  \n",
      "Element node: CD\n",
      "text node:\n",
      "    \n",
      "Element node: TITLE\n",
      "text node:Maggie May\n",
      "text node:\n",
      "    \n",
      "Element node: ARTIST\n",
      "text node:Rod Stewart\n",
      "text node:\n",
      "    \n",
      "Element node: COUNTRY\n",
      "text node:UK\n",
      "text node:\n",
      "    \n",
      "Element node: COMPANY\n",
      "text node:Pickwick\n",
      "text node:\n",
      "    \n",
      "Element node: PRICE\n",
      "text node:8.50\n",
      "text node:\n",
      "    \n",
      "Element node: YEAR\n",
      "text node:1990\n",
      "text node:\n",
      "  \n",
      "text node:\n",
      "  \n",
      "Element node: CD\n",
      "text node:\n",
      "    \n",
      "Element node: TITLE\n",
      "text node:Romanza\n",
      "text node:\n",
      "    \n",
      "Element node: ARTIST\n",
      "text node:Andrea Bocelli\n",
      "text node:\n",
      "    \n",
      "Element node: COUNTRY\n",
      "text node:EU\n",
      "text node:\n",
      "    \n",
      "Element node: COMPANY\n",
      "text node:Polydor\n",
      "text node:\n",
      "    \n",
      "Element node: PRICE\n",
      "text node:10.80\n",
      "text node:\n",
      "    \n",
      "Element node: YEAR\n",
      "text node:1996\n",
      "text node:\n",
      "  \n",
      "text node:\n",
      "  \n",
      "Element node: CD\n",
      "text node:\n",
      "    \n",
      "Element node: TITLE\n",
      "text node:When a man loves a woman\n",
      "text node:\n",
      "    \n",
      "Element node: ARTIST\n",
      "text node:Percy Sledge\n",
      "text node:\n",
      "    \n",
      "Element node: COUNTRY\n",
      "text node:USA\n",
      "text node:\n",
      "    \n",
      "Element node: COMPANY\n",
      "text node:Atlantic\n",
      "text node:\n",
      "    \n",
      "Element node: PRICE\n",
      "text node:8.70\n",
      "text node:\n",
      "    \n",
      "Element node: YEAR\n",
      "text node:1987\n",
      "text node:\n",
      "  \n",
      "text node:\n",
      "  \n",
      "Element node: CD\n",
      "text node:\n",
      "    \n",
      "Element node: TITLE\n",
      "text node:Black angel\n",
      "text node:\n",
      "    \n",
      "Element node: ARTIST\n",
      "text node:Savage Rose\n",
      "text node:\n",
      "    \n",
      "Element node: COUNTRY\n",
      "text node:EU\n",
      "text node:\n",
      "    \n",
      "Element node: COMPANY\n",
      "text node:Mega\n",
      "text node:\n",
      "    \n",
      "Element node: PRICE\n",
      "text node:10.90\n",
      "text node:\n",
      "    \n",
      "Element node: YEAR\n",
      "text node:1995\n",
      "text node:\n",
      "  \n",
      "text node:\n",
      "  \n",
      "Element node: CD\n",
      "text node:\n",
      "    \n",
      "Element node: TITLE\n",
      "text node:1999 Grammy Nominees\n",
      "text node:\n",
      "    \n",
      "Element node: ARTIST\n",
      "text node:Many\n",
      "text node:\n",
      "    \n",
      "Element node: COUNTRY\n",
      "text node:USA\n",
      "text node:\n",
      "    \n",
      "Element node: COMPANY\n",
      "text node:Grammy\n",
      "text node:\n",
      "    \n",
      "Element node: PRICE\n",
      "text node:10.20\n",
      "text node:\n",
      "    \n",
      "Element node: YEAR\n",
      "text node:1999\n",
      "text node:\n",
      "  \n",
      "text node:\n",
      "  \n",
      "Element node: CD\n",
      "text node:\n",
      "    \n",
      "Element node: TITLE\n",
      "text node:For the good times\n",
      "text node:\n",
      "    \n",
      "Element node: ARTIST\n",
      "text node:Kenny Rogers\n",
      "text node:\n",
      "    \n",
      "Element node: COUNTRY\n",
      "text node:UK\n",
      "text node:\n",
      "    \n",
      "Element node: COMPANY\n",
      "text node:Mucik Master\n",
      "text node:\n",
      "    \n",
      "Element node: PRICE\n",
      "text node:8.70\n",
      "text node:\n",
      "    \n",
      "Element node: YEAR\n",
      "text node:1995\n",
      "text node:\n",
      "  \n",
      "text node:\n",
      "  \n",
      "Element node: CD\n",
      "text node:\n",
      "    \n",
      "Element node: TITLE\n",
      "text node:Big Willie style\n",
      "text node:\n",
      "    \n",
      "Element node: ARTIST\n",
      "text node:Will Smith\n",
      "text node:\n",
      "    \n",
      "Element node: COUNTRY\n",
      "text node:USA\n",
      "text node:\n",
      "    \n",
      "Element node: COMPANY\n",
      "text node:Columbia\n",
      "text node:\n",
      "    \n",
      "Element node: PRICE\n",
      "text node:9.90\n",
      "text node:\n",
      "    \n",
      "Element node: YEAR\n",
      "text node:1997\n",
      "text node:\n",
      "  \n",
      "text node:\n",
      "  \n",
      "Element node: CD\n",
      "text node:\n",
      "    \n",
      "Element node: TITLE\n",
      "text node:Tupelo Honey\n",
      "text node:\n",
      "    \n",
      "Element node: ARTIST\n",
      "text node:Van Morrison\n",
      "text node:\n",
      "    \n",
      "Element node: COUNTRY\n",
      "text node:UK\n",
      "text node:\n",
      "    \n",
      "Element node: COMPANY\n",
      "text node:Polydor\n",
      "text node:\n",
      "    \n",
      "Element node: PRICE\n",
      "text node:8.20\n",
      "text node:\n",
      "    \n",
      "Element node: YEAR\n",
      "text node:1971\n",
      "text node:\n",
      "  \n",
      "text node:\n",
      "  \n",
      "Element node: CD\n",
      "text node:\n",
      "    \n",
      "Element node: TITLE\n",
      "text node:Soulsville\n",
      "text node:\n",
      "    \n",
      "Element node: ARTIST\n",
      "text node:Jorn Hoel\n",
      "text node:\n",
      "    \n",
      "Element node: COUNTRY\n",
      "text node:Norway\n",
      "text node:\n",
      "    \n",
      "Element node: COMPANY\n",
      "text node:WEA\n",
      "text node:\n",
      "    \n",
      "Element node: PRICE\n",
      "text node:7.90\n",
      "text node:\n",
      "    \n",
      "Element node: YEAR\n",
      "text node:1996\n",
      "text node:\n",
      "  \n",
      "text node:\n",
      "  \n",
      "Element node: CD\n",
      "text node:\n",
      "    \n",
      "Element node: TITLE\n",
      "text node:The very best of\n",
      "text node:\n",
      "    \n",
      "Element node: ARTIST\n",
      "text node:Cat Stevens\n",
      "text node:\n",
      "    \n",
      "Element node: COUNTRY\n",
      "text node:UK\n",
      "text node:\n",
      "    \n",
      "Element node: COMPANY\n",
      "text node:Island\n",
      "text node:\n",
      "    \n",
      "Element node: PRICE\n",
      "text node:8.90\n",
      "text node:\n",
      "    \n",
      "Element node: YEAR\n",
      "text node:1990\n",
      "text node:\n",
      "  \n",
      "text node:\n",
      "  \n",
      "Element node: CD\n",
      "text node:\n",
      "    \n",
      "Element node: TITLE\n",
      "text node:Stop\n",
      "text node:\n",
      "    \n",
      "Element node: ARTIST\n",
      "text node:Sam Brown\n",
      "text node:\n",
      "    \n",
      "Element node: COUNTRY\n",
      "text node:UK\n",
      "text node:\n",
      "    \n",
      "Element node: COMPANY\n",
      "text node:A and M\n",
      "text node:\n",
      "    \n",
      "Element node: PRICE\n",
      "text node:8.90\n",
      "text node:\n",
      "    \n",
      "Element node: YEAR\n",
      "text node:1988\n",
      "text node:\n",
      "  \n",
      "text node:\n",
      "  \n",
      "Element node: CD\n",
      "text node:\n",
      "    \n",
      "Element node: TITLE\n",
      "text node:Bridge of Spies\n",
      "text node:\n",
      "    \n",
      "Element node: ARTIST\n",
      "text node:T'Pau\n",
      "text node:\n",
      "    \n",
      "Element node: COUNTRY\n",
      "text node:UK\n",
      "text node:\n",
      "    \n",
      "Element node: COMPANY\n",
      "text node:Siren\n",
      "text node:\n",
      "    \n",
      "Element node: PRICE\n",
      "text node:7.90\n",
      "text node:\n",
      "    \n",
      "Element node: YEAR\n",
      "text node:1987\n",
      "text node:\n",
      "  \n",
      "text node:\n",
      "  \n",
      "Element node: CD\n",
      "text node:\n",
      "    \n",
      "Element node: TITLE\n",
      "text node:Private Dancer\n",
      "text node:\n",
      "    \n",
      "Element node: ARTIST\n",
      "text node:Tina Turner\n",
      "text node:\n",
      "    \n",
      "Element node: COUNTRY\n",
      "text node:UK\n",
      "text node:\n",
      "    \n",
      "Element node: COMPANY\n",
      "text node:Capitol\n",
      "text node:\n",
      "    \n",
      "Element node: PRICE\n",
      "text node:8.90\n",
      "text node:\n",
      "    \n",
      "Element node: YEAR\n",
      "text node:1983\n",
      "text node:\n",
      "  \n",
      "text node:\n",
      "  \n",
      "Element node: CD\n",
      "text node:\n",
      "    \n",
      "Element node: TITLE\n",
      "text node:Midt om natten\n",
      "text node:\n",
      "    \n",
      "Element node: ARTIST\n",
      "text node:Kim Larsen\n",
      "text node:\n",
      "    \n",
      "Element node: COUNTRY\n",
      "text node:EU\n",
      "text node:\n",
      "    \n",
      "Element node: COMPANY\n",
      "text node:Medley\n",
      "text node:\n",
      "    \n",
      "Element node: PRICE\n",
      "text node:7.80\n",
      "text node:\n",
      "    \n",
      "Element node: YEAR\n",
      "text node:1983\n",
      "text node:\n",
      "  \n",
      "text node:\n",
      "  \n",
      "Element node: CD\n",
      "text node:\n",
      "    \n",
      "Element node: TITLE\n",
      "text node:Pavarotti Gala Concert\n",
      "text node:\n",
      "    \n",
      "Element node: ARTIST\n",
      "text node:Luciano Pavarotti\n",
      "text node:\n",
      "    \n",
      "Element node: COUNTRY\n",
      "text node:UK\n",
      "text node:\n",
      "    \n",
      "Element node: COMPANY\n",
      "text node:DECCA\n",
      "text node:\n",
      "    \n",
      "Element node: PRICE\n",
      "text node:9.90\n",
      "text node:\n",
      "    \n",
      "Element node: YEAR\n",
      "text node:1991\n",
      "text node:\n",
      "  \n",
      "text node:\n",
      "  \n",
      "Element node: CD\n",
      "text node:\n",
      "    \n",
      "Element node: TITLE\n",
      "text node:The dock of the bay\n",
      "text node:\n",
      "    \n",
      "Element node: ARTIST\n",
      "text node:Otis Redding\n",
      "text node:\n",
      "    \n",
      "Element node: COUNTRY\n",
      "text node:USA\n",
      "text node:\n",
      "    \n",
      "Element node: COMPANY\n",
      "text node:Stax Records\n",
      "text node:\n",
      "    \n",
      "Element node: PRICE\n",
      "text node:7.90\n",
      "text node:\n",
      "    \n",
      "Element node: YEAR\n",
      "text node:1968\n",
      "text node:\n",
      "  \n",
      "text node:\n",
      "  \n",
      "Element node: CD\n",
      "text node:\n",
      "    \n",
      "Element node: TITLE\n",
      "text node:Picture book\n",
      "text node:\n",
      "    \n",
      "Element node: ARTIST\n",
      "text node:Simply Red\n",
      "text node:\n",
      "    \n",
      "Element node: COUNTRY\n",
      "text node:EU\n",
      "text node:\n",
      "    \n",
      "Element node: COMPANY\n",
      "text node:Elektra\n",
      "text node:\n",
      "    \n",
      "Element node: PRICE\n",
      "text node:7.20\n",
      "text node:\n",
      "    \n",
      "Element node: YEAR\n",
      "text node:1985\n",
      "text node:\n",
      "  \n",
      "text node:\n",
      "  \n",
      "Element node: CD\n",
      "text node:\n",
      "    \n",
      "Element node: TITLE\n",
      "text node:Red\n",
      "text node:\n",
      "    \n",
      "Element node: ARTIST\n",
      "text node:The Communards\n",
      "text node:\n",
      "    \n",
      "Element node: COUNTRY\n",
      "text node:UK\n",
      "text node:\n",
      "    \n",
      "Element node: COMPANY\n",
      "text node:London\n",
      "text node:\n",
      "    \n",
      "Element node: PRICE\n",
      "text node:7.80\n",
      "text node:\n",
      "    \n",
      "Element node: YEAR\n",
      "text node:1987\n",
      "text node:\n",
      "  \n",
      "text node:\n",
      "  \n",
      "Element node: CD\n",
      "text node:\n",
      "    \n",
      "Element node: TITLE\n",
      "text node:Unchain my heart\n",
      "text node:\n",
      "    \n",
      "Element node: ARTIST\n",
      "text node:Joe Cocker\n",
      "text node:\n",
      "    \n",
      "Element node: COUNTRY\n",
      "text node:USA\n",
      "text node:\n",
      "    \n",
      "Element node: COMPANY\n",
      "text node:EMI\n",
      "text node:\n",
      "    \n",
      "Element node: PRICE\n",
      "text node:8.20\n",
      "text node:\n",
      "    \n",
      "Element node: YEAR\n",
      "text node:1987\n",
      "text node:\n",
      "  \n",
      "text node:\n",
      "\n"
     ]
    }
   ],
   "source": [
    "raw_page = urllib.request.urlopen(url)\n",
    "doc = minidom.parse(raw_page)\n",
    "\n",
    "def findTextnodes(nodeList):\n",
    "    for subnode in nodeList:\n",
    "        if subnode.nodeType == subnode.ELEMENT_NODE:\n",
    "            print(\"Element node: \" + subnode.tagName)\n",
    "            findTextnodes(subnode.childNodes)\n",
    "        elif subnode.nodeType == subnode.TEXT_NODE:\n",
    "            print(\"text node:\" + subnode.data)\n",
    "            \n",
    "findTextnodes(doc.childNodes)"
   ]
  },
  {
   "cell_type": "code",
   "execution_count": 67,
   "metadata": {},
   "outputs": [
    {
     "name": "stdout",
     "output_type": "stream",
     "text": [
      "Empire Burlesque\n",
      "Hide your heart\n",
      "Greatest Hits\n",
      "Still got the blues\n",
      "Eros\n",
      "One night only\n",
      "Sylvias Mother\n",
      "Maggie May\n",
      "Romanza\n",
      "When a man loves a woman\n",
      "Black angel\n",
      "1999 Grammy Nominees\n",
      "For the good times\n",
      "Big Willie style\n",
      "Tupelo Honey\n",
      "Soulsville\n",
      "The very best of\n",
      "Stop\n",
      "Bridge of Spies\n",
      "Private Dancer\n",
      "Midt om natten\n",
      "Pavarotti Gala Concert\n",
      "The dock of the bay\n",
      "Picture book\n",
      "Red\n",
      "Unchain my heart\n"
     ]
    }
   ],
   "source": [
    "root = ET.fromstring(xml_page)\n",
    "cdtags = root.xpath('//CD/TITLE')\n",
    "for cd in cdtags:\n",
    "    print(cd.text)"
   ]
  },
  {
   "cell_type": "code",
   "execution_count": 68,
   "metadata": {},
   "outputs": [
    {
     "name": "stdout",
     "output_type": "stream",
     "text": [
      "Bob Dylan\tUSA\tEmpire Burlesque\n",
      "Bonnie Tyler\tUK\tHide your heart\n",
      "Dolly Parton\tUSA\tGreatest Hits\n",
      "Gary Moore\tUK\tStill got the blues\n",
      "Eros Ramazzotti\tEU\tEros\n",
      "Bee Gees\tUK\tOne night only\n",
      "Dr.Hook\tUK\tSylvias Mother\n",
      "Rod Stewart\tUK\tMaggie May\n",
      "Andrea Bocelli\tEU\tRomanza\n",
      "Percy Sledge\tUSA\tWhen a man loves a woman\n",
      "Savage Rose\tEU\tBlack angel\n",
      "Many\tUSA\t1999 Grammy Nominees\n",
      "Kenny Rogers\tUK\tFor the good times\n",
      "Will Smith\tUSA\tBig Willie style\n",
      "Van Morrison\tUK\tTupelo Honey\n",
      "Jorn Hoel\tNorway\tSoulsville\n",
      "Cat Stevens\tUK\tThe very best of\n",
      "Sam Brown\tUK\tStop\n",
      "T'Pau\tUK\tBridge of Spies\n",
      "Tina Turner\tUK\tPrivate Dancer\n",
      "Kim Larsen\tEU\tMidt om natten\n",
      "Luciano Pavarotti\tUK\tPavarotti Gala Concert\n",
      "Otis Redding\tUSA\tThe dock of the bay\n",
      "Simply Red\tEU\tPicture book\n",
      "The Communards\tUK\tRed\n",
      "Joe Cocker\tUSA\tUnchain my heart\n"
     ]
    }
   ],
   "source": [
    "for cd in root.findall('CD'):\n",
    "    title = cd.find('TITLE').text\n",
    "    artist = cd.find('ARTIST').text\n",
    "    country = cd.find('COUNTRY').text\n",
    "    print('{}\\t{}\\t{}'.format(artist, country, title))"
   ]
  },
  {
   "cell_type": "code",
   "execution_count": 69,
   "metadata": {},
   "outputs": [
    {
     "data": {
      "text/plain": [
       "[{'ARTIST': 'Bob Dylan',\n",
       "  'COUNTRY': 'USA',\n",
       "  'PRICE': '10.90',\n",
       "  'TITLE': 'Empire Burlesque',\n",
       "  'YEAR': '1985'},\n",
       " {'ARTIST': 'Bonnie Tyler',\n",
       "  'COUNTRY': 'UK',\n",
       "  'PRICE': '9.90',\n",
       "  'TITLE': 'Hide your heart',\n",
       "  'YEAR': '1988'},\n",
       " {'ARTIST': 'Dolly Parton',\n",
       "  'COUNTRY': 'USA',\n",
       "  'PRICE': '9.90',\n",
       "  'TITLE': 'Greatest Hits',\n",
       "  'YEAR': '1982'}]"
      ]
     },
     "execution_count": 69,
     "metadata": {},
     "output_type": "execute_result"
    }
   ],
   "source": [
    "cds = []\n",
    "for cd in root.findall('./CD'):\n",
    "        data = {}\n",
    "        data[\"TITLE\"] = cd.find('./TITLE').text\n",
    "        data[\"ARTIST\"] = cd.find('./ARTIST').text\n",
    "        data[\"COUNTRY\"] = cd.find('./COUNTRY').text\n",
    "        data[\"PRICE\"] = cd.find('./PRICE').text\n",
    "        data[\"YEAR\"] = cd.find('./YEAR').text\n",
    "        cds.append(data)\n",
    "cds[0:3]"
   ]
  },
  {
   "cell_type": "markdown",
   "metadata": {},
   "source": [
    "## Acessing Databases"
   ]
  },
  {
   "cell_type": "markdown",
   "metadata": {},
   "source": [
    "### Acessing SQLite"
   ]
  },
  {
   "cell_type": "markdown",
   "metadata": {},
   "source": [
    "https://docs.python.org/3/library/sqlite3.html"
   ]
  },
  {
   "cell_type": "code",
   "execution_count": 70,
   "metadata": {},
   "outputs": [],
   "source": [
    "import sqlite3\n",
    "conn = sqlite3.connect(os.path.join(outputs,'example.db'))"
   ]
  },
  {
   "cell_type": "code",
   "execution_count": 71,
   "metadata": {},
   "outputs": [],
   "source": [
    "c = conn.cursor()\n",
    "\n",
    "# Create table\n",
    "c.execute('''CREATE TABLE IF NOT EXISTS stocks\n",
    "             (date text, trans text, symbol text, qty real, price real)''')\n",
    "\n",
    "# Insert a row of data\n",
    "c.execute(\"INSERT INTO stocks VALUES ('2006-01-05','BUY','RHAT',100,35.14)\")\n",
    "\n",
    "# Save (commit) the changes\n",
    "conn.commit()\n",
    "\n",
    "# We can also close the connection if we are done with it.\n",
    "# Just be sure any changes have been committed or they will be lost.\n",
    "conn.close()"
   ]
  },
  {
   "cell_type": "code",
   "execution_count": 72,
   "metadata": {},
   "outputs": [],
   "source": [
    "conn = sqlite3.connect(os.path.join(outputs,'example.db'))\n",
    "c = conn.cursor()"
   ]
  },
  {
   "cell_type": "code",
   "execution_count": 73,
   "metadata": {},
   "outputs": [
    {
     "name": "stdout",
     "output_type": "stream",
     "text": [
      "('2006-01-05', 'BUY', 'RHAT', 100.0, 35.14)\n"
     ]
    }
   ],
   "source": [
    "t = ('RHAT',) #tuple with just one element\n",
    "c.execute('SELECT * FROM stocks WHERE symbol=?', t)\n",
    "print(c.fetchone())"
   ]
  },
  {
   "cell_type": "code",
   "execution_count": 74,
   "metadata": {},
   "outputs": [
    {
     "data": {
      "text/plain": [
       "<sqlite3.Cursor at 0x7fe24f0bb960>"
      ]
     },
     "execution_count": 74,
     "metadata": {},
     "output_type": "execute_result"
    }
   ],
   "source": [
    "# Larger example that inserts many records at a time\n",
    "purchases = [('2006-03-28', 'BUY', 'IBM', 1000, 45.00),\n",
    "             ('2006-04-05', 'BUY', 'MSFT', 1000, 72.00),\n",
    "             ('2006-04-06', 'SELL', 'IBM', 500, 53.00),\n",
    "            ]\n",
    "c.executemany('INSERT INTO stocks VALUES (?,?,?,?,?)', purchases)"
   ]
  },
  {
   "cell_type": "code",
   "execution_count": 75,
   "metadata": {},
   "outputs": [
    {
     "name": "stdout",
     "output_type": "stream",
     "text": [
      "('2006-01-05', 'BUY', 'RHAT', 100.0, 35.14)\n",
      "('2006-03-28', 'BUY', 'IBM', 1000.0, 45.0)\n",
      "('2006-04-06', 'SELL', 'IBM', 500.0, 53.0)\n",
      "('2006-04-05', 'BUY', 'MSFT', 1000.0, 72.0)\n"
     ]
    }
   ],
   "source": [
    "for row in c.execute('SELECT * FROM stocks ORDER BY price'):\n",
    "        print(row)"
   ]
  },
  {
   "cell_type": "markdown",
   "metadata": {},
   "source": [
    "#### Using Pandas"
   ]
  },
  {
   "cell_type": "code",
   "execution_count": 76,
   "metadata": {},
   "outputs": [
    {
     "name": "stdout",
     "output_type": "stream",
     "text": [
      "         date trans symbol    qty  price\n",
      "0  2006-01-05   BUY   RHAT  100.0  35.14\n"
     ]
    }
   ],
   "source": [
    "conn = sqlite3.connect(os.path.join(outputs,'example.db'))\n",
    "df = pd.read_sql_query(\"SELECT * from stocks ORDER BY price\", conn)\n",
    "\n",
    "# verify that result of SQL query is stored in the dataframe\n",
    "print(df.head())\n",
    "\n",
    "conn.close()"
   ]
  },
  {
   "cell_type": "markdown",
   "metadata": {},
   "source": [
    "Deleting the database file:  "
   ]
  },
  {
   "cell_type": "code",
   "execution_count": 77,
   "metadata": {},
   "outputs": [],
   "source": [
    "os.remove(os.path.join(outputs,'example.db'))"
   ]
  },
  {
   "cell_type": "markdown",
   "metadata": {},
   "source": [
    "### Acessing MySQL  "
   ]
  },
  {
   "cell_type": "markdown",
   "metadata": {},
   "source": [
    "https://pypi.python.org/pypi/PyMySQL  "
   ]
  },
  {
   "cell_type": "code",
   "execution_count": 78,
   "metadata": {},
   "outputs": [],
   "source": [
    "import pymysql"
   ]
  },
  {
   "cell_type": "code",
   "execution_count": 76,
   "metadata": {},
   "outputs": [],
   "source": [
    "p = getpass.getpass()\n",
    "conn = pymysql.connect(host='localhost', port=3306, user='root', passwd=p,)# db='example')\n",
    "cur = conn.cursor()"
   ]
  },
  {
   "cell_type": "code",
   "execution_count": 77,
   "metadata": {},
   "outputs": [
    {
     "name": "stdout",
     "output_type": "stream",
     "text": [
      "('information_schema',)\n",
      "('mysql',)\n",
      "('performance_schema',)\n",
      "('sys',)\n",
      "('test',)\n"
     ]
    }
   ],
   "source": [
    "cur.execute(\"show databases;\")\n",
    "for r in cur.fetchall():\n",
    "   print(r)"
   ]
  },
  {
   "cell_type": "code",
   "execution_count": 78,
   "metadata": {},
   "outputs": [
    {
     "name": "stdout",
     "output_type": "stream",
     "text": [
      "('columns_priv',)\n",
      "('db',)\n",
      "('engine_cost',)\n",
      "('event',)\n",
      "('func',)\n",
      "('general_log',)\n",
      "('gtid_executed',)\n",
      "('help_category',)\n",
      "('help_keyword',)\n",
      "('help_relation',)\n",
      "('help_topic',)\n",
      "('innodb_index_stats',)\n",
      "('innodb_table_stats',)\n",
      "('ndb_binlog_index',)\n",
      "('plugin',)\n",
      "('proc',)\n",
      "('procs_priv',)\n",
      "('proxies_priv',)\n",
      "('server_cost',)\n",
      "('servers',)\n",
      "('slave_master_info',)\n",
      "('slave_relay_log_info',)\n",
      "('slave_worker_info',)\n",
      "('slow_log',)\n",
      "('tables_priv',)\n",
      "('time_zone',)\n",
      "('time_zone_leap_second',)\n",
      "('time_zone_name',)\n",
      "('time_zone_transition',)\n",
      "('time_zone_transition_type',)\n",
      "('user',)\n"
     ]
    }
   ],
   "source": [
    "cur.execute(\"use mysql;\")\n",
    "cur.execute(\"show tables;\")\n",
    "for r in cur.fetchall():\n",
    "   print(r)"
   ]
  },
  {
   "cell_type": "code",
   "execution_count": 79,
   "metadata": {},
   "outputs": [
    {
     "name": "stdout",
     "output_type": "stream",
     "text": [
      "('test_table',)\n"
     ]
    },
    {
     "name": "stderr",
     "output_type": "stream",
     "text": [
      "/usr/local/lib/python3.6/dist-packages/pymysql/cursors.py:166: Warning: (1007, \"Can't create database 'test'; database exists\")\n",
      "  result = self._query(query)\n",
      "/usr/local/lib/python3.6/dist-packages/pymysql/cursors.py:166: Warning: (1050, \"Table 'test_table' already exists\")\n",
      "  result = self._query(query)\n"
     ]
    }
   ],
   "source": [
    "cur.execute(\"CREATE DATABASE IF NOT EXISTS test;\")\n",
    "cur.execute(\"USE test;\")\n",
    "cur.execute('''CREATE TABLE IF NOT EXISTS test_table \n",
    "               (text VARCHAR(200)\n",
    "               DEFAULT NULL)\n",
    "               ENGINE=MyISAM DEFAULT CHARSET='utf8';''')\n",
    "\n",
    "cur.execute(\"show tables;\")\n",
    "for r in cur.fetchall():\n",
    "   print(r)"
   ]
  },
  {
   "cell_type": "code",
   "execution_count": 80,
   "metadata": {},
   "outputs": [
    {
     "data": {
      "text/plain": [
       "4"
      ]
     },
     "execution_count": 80,
     "metadata": {},
     "output_type": "execute_result"
    }
   ],
   "source": [
    "texts = ['It always seems impossible until its done.',\n",
    "         'In order to succeed, we must first believe that we can.',\n",
    "         'Life is 10% what happens to you and 90% how you react to it.',\n",
    "         'Start where you are. Use what you have. Do what you can.',]\n",
    "cur.executemany('INSERT INTO test.test_table (text) VALUES (%s)', texts)\n",
    "\n"
   ]
  },
  {
   "cell_type": "code",
   "execution_count": 81,
   "metadata": {},
   "outputs": [
    {
     "name": "stdout",
     "output_type": "stream",
     "text": [
      "('It always seems impossible until its done.',)\n",
      "('In order to succeed, we must first believe that we can.',)\n",
      "('Life is 10% what happens to you and 90% how you react to it.',)\n",
      "('Start where you are. Use what you have. Do what you can.',)\n",
      "('It always seems impossible until its done.',)\n",
      "('In order to succeed, we must first believe that we can.',)\n",
      "('Life is 10% what happens to you and 90% how you react to it.',)\n",
      "('Start where you are. Use what you have. Do what you can.',)\n"
     ]
    }
   ],
   "source": [
    "cur.execute(\"SELECT * FROM test.test_table;\")# LIMIT 10;\")\n",
    "for r in cur.fetchall():\n",
    "   print(r)"
   ]
  },
  {
   "cell_type": "markdown",
   "metadata": {},
   "source": [
    "#### Using Pandas"
   ]
  },
  {
   "cell_type": "code",
   "execution_count": 82,
   "metadata": {},
   "outputs": [],
   "source": [
    "import pandas.io.sql as psql"
   ]
  },
  {
   "cell_type": "code",
   "execution_count": 83,
   "metadata": {},
   "outputs": [],
   "source": [
    "df_mysql = psql.read_sql('select * from test.test_table;', con=conn)"
   ]
  },
  {
   "cell_type": "code",
   "execution_count": 84,
   "metadata": {},
   "outputs": [
    {
     "data": {
      "text/html": [
       "<div>\n",
       "<style scoped>\n",
       "    .dataframe tbody tr th:only-of-type {\n",
       "        vertical-align: middle;\n",
       "    }\n",
       "\n",
       "    .dataframe tbody tr th {\n",
       "        vertical-align: top;\n",
       "    }\n",
       "\n",
       "    .dataframe thead th {\n",
       "        text-align: right;\n",
       "    }\n",
       "</style>\n",
       "<table border=\"1\" class=\"dataframe\">\n",
       "  <thead>\n",
       "    <tr style=\"text-align: right;\">\n",
       "      <th></th>\n",
       "      <th>text</th>\n",
       "    </tr>\n",
       "  </thead>\n",
       "  <tbody>\n",
       "    <tr>\n",
       "      <th>0</th>\n",
       "      <td>It always seems impossible until its done.</td>\n",
       "    </tr>\n",
       "    <tr>\n",
       "      <th>1</th>\n",
       "      <td>In order to succeed, we must first believe tha...</td>\n",
       "    </tr>\n",
       "    <tr>\n",
       "      <th>2</th>\n",
       "      <td>Life is 10% what happens to you and 90% how yo...</td>\n",
       "    </tr>\n",
       "    <tr>\n",
       "      <th>3</th>\n",
       "      <td>Start where you are. Use what you have. Do wha...</td>\n",
       "    </tr>\n",
       "    <tr>\n",
       "      <th>4</th>\n",
       "      <td>It always seems impossible until its done.</td>\n",
       "    </tr>\n",
       "  </tbody>\n",
       "</table>\n",
       "</div>"
      ],
      "text/plain": [
       "                                                text\n",
       "0         It always seems impossible until its done.\n",
       "1  In order to succeed, we must first believe tha...\n",
       "2  Life is 10% what happens to you and 90% how yo...\n",
       "3  Start where you are. Use what you have. Do wha...\n",
       "4         It always seems impossible until its done."
      ]
     },
     "execution_count": 84,
     "metadata": {},
     "output_type": "execute_result"
    }
   ],
   "source": [
    "df_mysql.head()"
   ]
  },
  {
   "cell_type": "code",
   "execution_count": 85,
   "metadata": {},
   "outputs": [],
   "source": [
    "cur.close()\n",
    "conn.close()"
   ]
  },
  {
   "cell_type": "markdown",
   "metadata": {},
   "source": [
    "### Acessing PostgreSQL "
   ]
  },
  {
   "cell_type": "code",
   "execution_count": 86,
   "metadata": {},
   "outputs": [],
   "source": [
    "import psycopg2"
   ]
  },
  {
   "cell_type": "code",
   "execution_count": 87,
   "metadata": {},
   "outputs": [
    {
     "name": "stdout",
     "output_type": "stream",
     "text": [
      "I am unable to connect to the database\n"
     ]
    }
   ],
   "source": [
    "p = getpass.getpass()\n",
    "try:\n",
    "    conn = psycopg2.connect(\"dbname='testdb' user='rsouza' host='localhost' password='{}'\".format(p))\n",
    "except:\n",
    "    print(\"I am unable to connect to the database\")\n",
    "cur = conn.cursor()"
   ]
  },
  {
   "cell_type": "code",
   "execution_count": 110,
   "metadata": {},
   "outputs": [
    {
     "ename": "InternalError",
     "evalue": "current transaction is aborted, commands ignored until end of transaction block\n",
     "output_type": "error",
     "traceback": [
      "\u001b[0;31m---------------------------------------------------------------------------\u001b[0m",
      "\u001b[0;31mInternalError\u001b[0m                             Traceback (most recent call last)",
      "\u001b[0;32m<ipython-input-110-9166478d0131>\u001b[0m in \u001b[0;36m<module>\u001b[0;34m()\u001b[0m\n\u001b[0;32m----> 1\u001b[0;31m \u001b[0mcur\u001b[0m\u001b[0;34m.\u001b[0m\u001b[0mexecute\u001b[0m\u001b[0;34m(\u001b[0m\u001b[0;34m'SELECT * FROM postgres LIMIT 2;'\u001b[0m\u001b[0;34m)\u001b[0m\u001b[0;34m\u001b[0m\u001b[0m\n\u001b[0m\u001b[1;32m      2\u001b[0m \u001b[0;32mfor\u001b[0m \u001b[0mr\u001b[0m \u001b[0;32min\u001b[0m \u001b[0mcur\u001b[0m\u001b[0;34m.\u001b[0m\u001b[0mfetchall\u001b[0m\u001b[0;34m(\u001b[0m\u001b[0;34m)\u001b[0m\u001b[0;34m:\u001b[0m\u001b[0;34m\u001b[0m\u001b[0m\n\u001b[1;32m      3\u001b[0m    \u001b[0mprint\u001b[0m\u001b[0;34m(\u001b[0m\u001b[0mr\u001b[0m\u001b[0;34m)\u001b[0m\u001b[0;34m\u001b[0m\u001b[0m\n",
      "\u001b[0;31mInternalError\u001b[0m: current transaction is aborted, commands ignored until end of transaction block\n"
     ]
    }
   ],
   "source": [
    "cur.execute('SELECT * FROM postgres LIMIT 2;')\n",
    "for r in cur.fetchall():\n",
    "   print(r)"
   ]
  },
  {
   "cell_type": "markdown",
   "metadata": {},
   "source": [
    "#### Using Pandas"
   ]
  },
  {
   "cell_type": "code",
   "execution_count": 111,
   "metadata": {},
   "outputs": [],
   "source": [
    "p = getpass.getpass()\n",
    "try:\n",
    "    conn = psycopg2.connect(\"dbname='postgres' user='rsouza' host='localhost' password='{}'\".format(p))\n",
    "except:\n",
    "    print(\"I am unable to connect to the database\")"
   ]
  },
  {
   "cell_type": "code",
   "execution_count": null,
   "metadata": {},
   "outputs": [],
   "source": [
    "df_postgres = psql.read_sql('SELECT * FROM postgres LIMIT 5;', con=conn)\n",
    "df_postgres.head()"
   ]
  },
  {
   "cell_type": "markdown",
   "metadata": {},
   "source": [
    "### Acessing Mongo DB"
   ]
  },
  {
   "cell_type": "markdown",
   "metadata": {},
   "source": [
    "http://api.mongodb.org/python/current/tutorial.html"
   ]
  },
  {
   "cell_type": "code",
   "execution_count": 132,
   "metadata": {},
   "outputs": [],
   "source": [
    "from pymongo import MongoClient"
   ]
  },
  {
   "cell_type": "code",
   "execution_count": 133,
   "metadata": {},
   "outputs": [],
   "source": [
    "client = MongoClient()\n",
    "#client = MongoClient('localhost', 27017)\n",
    "db = client.test_database #acessa ou cria o banco\n",
    "\n",
    "## dropping a database via pymongo\n",
    "#client.drop_database('test_database')"
   ]
  },
  {
   "cell_type": "code",
   "execution_count": 134,
   "metadata": {},
   "outputs": [],
   "source": [
    "post = {\"author\": \"Renato\",\n",
    "        \"text\": \"My first blog post!\",\n",
    "        \"tags\": [\"mongodb\", \"python\", \"pymongo\"],\n",
    "        \"date\": datetime.datetime.utcnow()}"
   ]
  },
  {
   "cell_type": "code",
   "execution_count": null,
   "metadata": {},
   "outputs": [],
   "source": [
    "posts = db.posts # cria a coleção\n",
    "post_id = posts.insert_one(post) #insere dados\n",
    "post_id\n",
    "\n",
    "## drop a collection via pymongo\n",
    "#client['test_database'].drop_collection('posts')"
   ]
  },
  {
   "cell_type": "code",
   "execution_count": null,
   "metadata": {},
   "outputs": [],
   "source": [
    "db.collection_names()"
   ]
  },
  {
   "cell_type": "code",
   "execution_count": null,
   "metadata": {},
   "outputs": [],
   "source": [
    "posts.find_one()"
   ]
  },
  {
   "cell_type": "code",
   "execution_count": null,
   "metadata": {},
   "outputs": [],
   "source": [
    "new_posts = [{\"author\": \"Mike\",\n",
    "              \"text\": \"Another post!\",\n",
    "              \"tags\": [\"bulk\", \"insert\"],\n",
    "              \"date\": datetime.datetime(2009, 11, 12, 11, 14)},\n",
    "             {\"author\": \"Eliot\",\n",
    "              \"title\": \"MongoDB is fun\",\n",
    "              \"text\": \"and pretty easy too!\",\n",
    "              \"date\": datetime.datetime(2009, 11, 10, 10, 45)}]"
   ]
  },
  {
   "cell_type": "code",
   "execution_count": null,
   "metadata": {},
   "outputs": [],
   "source": [
    "posts.insert_many(new_posts)"
   ]
  },
  {
   "cell_type": "code",
   "execution_count": null,
   "metadata": {},
   "outputs": [],
   "source": [
    "posts.find_one({\"author\": \"Mike\"})"
   ]
  },
  {
   "cell_type": "code",
   "execution_count": null,
   "metadata": {},
   "outputs": [],
   "source": [
    "#for post in posts.find({\"author\": \"Mike\"}):\n",
    "for post in posts.find():\n",
    "    print(post)"
   ]
  },
  {
   "cell_type": "code",
   "execution_count": null,
   "metadata": {},
   "outputs": [],
   "source": [
    "posts.count()"
   ]
  },
  {
   "cell_type": "markdown",
   "metadata": {},
   "source": [
    "#### Using Pandas"
   ]
  },
  {
   "cell_type": "code",
   "execution_count": null,
   "metadata": {},
   "outputs": [],
   "source": [
    "example_pd = posts.find()\n",
    "df_pandas =  pd.DataFrame(list(example_pd))\n",
    "df_pandas"
   ]
  },
  {
   "cell_type": "markdown",
   "metadata": {},
   "source": [
    "## Accessing Feeds RSS"
   ]
  },
  {
   "cell_type": "markdown",
   "metadata": {},
   "source": [
    "http://www.feedparser.org/  \n",
    "http://docs.python.org/library/re.html  \n",
    "http://www.pythonware.com/library/pil/handbook/index.htm  "
   ]
  },
  {
   "cell_type": "code",
   "execution_count": 79,
   "metadata": {},
   "outputs": [],
   "source": [
    "import feedparser"
   ]
  },
  {
   "cell_type": "code",
   "execution_count": 80,
   "metadata": {},
   "outputs": [],
   "source": [
    "d = feedparser.parse('https://oglobo.globo.com/rss.xml')"
   ]
  },
  {
   "cell_type": "code",
   "execution_count": 81,
   "metadata": {},
   "outputs": [
    {
     "name": "stdout",
     "output_type": "stream",
     "text": [
      "OGlobo\n",
      "https://oglobo.globo.com/\n",
      "10\n"
     ]
    }
   ],
   "source": [
    "print(d['feed']['title'])\n",
    "print(d['feed']['link'])\n",
    "#print(d.feed.subtitle)\n",
    "print(len(d['entries']))"
   ]
  },
  {
   "cell_type": "code",
   "execution_count": 82,
   "metadata": {},
   "outputs": [
    {
     "name": "stdout",
     "output_type": "stream",
     "text": [
      "Ex-peixeiro, Jhona Burjack ousa em capa de revista e atua ao lado de Rossy de Palma\n",
      "https://oglobo.globo.com/ela/gente/ex-peixeiro-jhona-burjack-ousa-em-capa-de-revista-atua-ao-lado-de-rossy-de-palma-22805352\n"
     ]
    }
   ],
   "source": [
    "print(d['entries'][0]['title']) \n",
    "print(d.entries[0]['link'])"
   ]
  },
  {
   "cell_type": "code",
   "execution_count": 83,
   "metadata": {},
   "outputs": [
    {
     "name": "stdout",
     "output_type": "stream",
     "text": [
      "{'Date': 'Thu, 21 Jun 2018 11:41:54 GMT', 'Server': 'Apache', 'X-Frame-Options': 'SAMEORIGIN', 'Expires': '1529581324865', 'Content-Type': 'application/rss+xml;charset=UTF-8', 'Access-Control-Allow-Origin': '*', 'Vary': 'Accept-Encoding', 'Content-Encoding': 'gzip', 'Content-Length': '2756', 'cache-control': 'public, max-age=602', 'Age': '262', 'grace': 'none', 'X-Cache': 'HIT', 'X-Cache-Hits': '4', 'Accept-Ranges': 'bytes', 'Connection': 'close'}\n"
     ]
    }
   ],
   "source": [
    "print(d.headers)"
   ]
  },
  {
   "cell_type": "code",
   "execution_count": 84,
   "metadata": {},
   "outputs": [
    {
     "name": "stdout",
     "output_type": "stream",
     "text": [
      "Ex-peixeiro, Jhona Burjack ousa em capa de revista e atua ao lado de Rossy de Palma: https://oglobo.globo.com/ela/gente/ex-peixeiro-jhona-burjack-ousa-em-capa-de-revista-atua-ao-lado-de-rossy-de-palma-22805352\n",
      "\n",
      "Apesar da ordem de Trump, mais de 2.300 crianças continuam separadas dos pais: https://oglobo.globo.com/mundo/apesar-da-ordem-de-trump-mais-de-2300-criancas-continuam-separadas-dos-pais-22805286\n",
      "\n",
      "Ferrari de modelo raro vai a leilão e deve ser vendida por US$ 45 milhões: https://oglobo.globo.com/economia/ferrari-de-modelo-raro-vai-leilao-deve-ser-vendida-por-us-45-milhoes-22805345\n",
      "\n",
      "Artigo: No Brasil, a vulgaridade se cultiva com humor mais que duvidoso: https://oglobo.globo.com/esportes/artigo-no-brasil-vulgaridade-se-cultiva-com-humor-mais-que-duvidoso-22805265\n",
      "\n",
      "'Animal doméstico deve ser visto como membro de família', diz paulista autorizado a visitar cadela: https://oglobo.globo.com/sociedade/animal-domesticodeve-ser-visto-como-membro-de-familia-diz-paulista-autorizadoa-visitar-cadela-22805307\n",
      "\n",
      "O essencial da manhã: com Messi sob pressão, Argentina aposta em time inexperiente para se salvar na Copa: https://oglobo.globo.com/brasil/o-essencial-da-manha-com-messi-sob-pressao-argentina-aposta-em-time-inexperiente-para-se-salvar-na-copa-22805219\n",
      "\n",
      "'Valores progressistas vencerão', diz ativista russa que criou petição para punir brasileiros: https://oglobo.globo.com/esportes/copa-2018/valores-progressistas-vencerao-diz-ativista-russa-que-criou-peticao-para-punir-brasileiros-22805223\n",
      "\n",
      "Argélia desliga internet do país para evitar cola em exame escolar: https://oglobo.globo.com/sociedade/tecnologia/argelia-desliga-internet-do-pais-para-evitar-cola-em-exame-escolar-22805254\n",
      "\n",
      "Entre medo e barricadas, Masaya resiste ao cerco do governo nicaraguense: https://oglobo.globo.com/mundo/entre-medo-barricadas-masaya-resiste-ao-cerco-do-governo-nicaraguense-22804457\n",
      "\n",
      "Após 28 anos, TRF-2 pode rever responsabilidade do Estado em morte de cadete Lapoente: https://oglobo.globo.com/brasil/apos-28-anos-trf-2-pode-rever-responsabilidade-do-estado-em-morte-de-cadete-lapoente-22804093\n",
      "\n"
     ]
    }
   ],
   "source": [
    "for post in d.entries:\n",
    "    print(post.title + \": \" + post.link + \"\\n\")"
   ]
  },
  {
   "cell_type": "markdown",
   "metadata": {},
   "source": [
    "## Accessing Twitter"
   ]
  },
  {
   "cell_type": "markdown",
   "metadata": {},
   "source": [
    "https://github.com/bear/python-twitter  \n",
    "Go to http://twitter.com/apps/new to create an app and get these items  \n",
    "See https://dev.twitter.com/docs/auth/oauth for more information on Twitter's OAuth implementation  \n",
    "https://dev.twitter.com/rest/reference/get/account/verify_credentials  \n",
    "https://dev.twitter.com/oauth/overview/application-owner-access-tokens  "
   ]
  },
  {
   "cell_type": "code",
   "execution_count": 85,
   "metadata": {},
   "outputs": [],
   "source": [
    "import twitter"
   ]
  },
  {
   "cell_type": "code",
   "execution_count": 86,
   "metadata": {},
   "outputs": [],
   "source": [
    "with open('/Documents/MMD/notebooks/twitter_tokens.txt', 'r') as twitter_tokens:\n",
    "    tokens = twitter_tokens.read().split(',')\n",
    "consumer_key = tokens[0].strip()\n",
    "consumer_secret = tokens[1].strip()\n",
    "access_token = tokens[2].strip()\n",
    "access_token_secret = tokens[3].strip()"
   ]
  },
  {
   "cell_type": "markdown",
   "metadata": {},
   "source": [
    "Construct, sign, and open a twitter request using the hard-coded credentials above."
   ]
  },
  {
   "cell_type": "code",
   "execution_count": 87,
   "metadata": {},
   "outputs": [],
   "source": [
    "api = twitter.Api(consumer_key=consumer_key, consumer_secret=consumer_secret, \n",
    "                  access_token_key=access_token, access_token_secret=access_token_secret)"
   ]
  },
  {
   "cell_type": "code",
   "execution_count": 88,
   "metadata": {},
   "outputs": [
    {
     "name": "stdout",
     "output_type": "stream",
     "text": [
      "{\"created_at\": \"Thu Apr 09 10:44:07 +0000 2009\", \"description\": \"Researcher and Professor\", \"favourites_count\": 29, \"followers_count\": 507, \"friends_count\": 147, \"id\": 29959702, \"lang\": \"pt\", \"listed_count\": 17, \"location\": \"Rio de Janeiro\", \"name\": \"Renato Rocha Souza\", \"profile_background_color\": \"9AE4E8\", \"profile_background_image_url\": \"http://abs.twimg.com/images/themes/theme1/bg.png\", \"profile_image_url\": \"http://pbs.twimg.com/profile_images/503088023/Renato2_normal.JPG\", \"profile_link_color\": \"0084B4\", \"profile_sidebar_fill_color\": \"DDFFCC\", \"profile_text_color\": \"333333\", \"screen_name\": \"rrsouza\", \"status\": {\"created_at\": \"Sun Mar 18 00:32:30 +0000 2018\", \"favorite_count\": 1, \"id\": 975168027816873985, \"id_str\": \"975168027816873985\", \"in_reply_to_screen_name\": \"fccoelho\", \"in_reply_to_status_id\": 974792170917056512, \"in_reply_to_user_id\": 7433062, \"lang\": \"pt\", \"source\": \"<a href=\\\"http://twitter.com/download/android\\\" rel=\\\"nofollow\\\">Twitter for Android</a>\", \"text\": \"@fccoelho Parece que foi revogado... seria absurdo!\"}, \"statuses_count\": 1366, \"url\": \"http://t.co/Bw5u7mg5\"}\n"
     ]
    }
   ],
   "source": [
    "print(api.VerifyCredentials())"
   ]
  },
  {
   "cell_type": "code",
   "execution_count": 89,
   "metadata": {},
   "outputs": [
    {
     "name": "stdout",
     "output_type": "stream",
     "text": [
      "['Star Control', '@Team9Spokes', 'programador andarilho', 'Ricky Gervais', 'Thomas Power', 'Randy Gage', 'Rosiene Dilly', 'The Web Foundation', 'Appus', 'Renata Avila', 'Golala Ruhani', 'Sandi Chimpala', 'Malavika Jayaram', 'Sthlm Internet Forum', 'NetApp Deutschland', 'Lu.CaaS', 'Carla Codeço Coelho', 'Overleaf', 'Cláudio Berrondo', 'Flávio Amieiro', 'Pablo Cerdeira', 'Cut the Rope', 'Machinalis', 'MiningTheSocialWeb', 'CNET News', 'ReadWrite', 'TNW', 'CNET', 'The Verge', 'Engadget', 'Lifehacker', 'Gizmodo', 'WIRED', 'TechCrunch', 'Ian Ozsvald', 'CNPq', 'Claudio Gnoli', 'strongsteam', 'Diana Maynard', 'Joyce Figueiró', 'Álvaro Justen', 'PyPLN', 'Open Source For You', 'TechRepublic', 'ZDNet', 'Twitter API', 'Udacity', 'Clarissa', 'Roberto R.S.Sobrinho', 'Luana Sales', 'Sensacionalista', 'André Branco', 'CMA', 'Asla Sá', 'Renata Teixeira', 'FGV EMAp', 'FGV', 'FGV Marketing', 'FGV CPDOC', 'Globant Brasil', 'Sheffield NLP', 'Débora Pereira', 'André Andrade', \"O'Reilly Radar\", 'Virgilio Almeida', 'Dalai Lama', 'Alexandre Colucci', 'Benildes Maculan', 'Gabriel Rezende', 'Mashable', 'alfredo hirsch', 'Fernando S Parreiras', 'NYTimes Tech', 'MiniCursos', 'Googleverse', 'Hootsuite', 'G1 - Concursos', 'Ivana', 'Dina Marques', 'João Batista', 'W3C Brasil', 'ASIS&T', 'PPCGI UFPB', 'Ursula Blattmann', 'Google', 'Maria Inês Tomaél', 'Nanci Oddone', 'Pierre Levy', 'PPGCI - Unesp', 'Silvana G. Vidotti', 'John C. Dvorak', 'Rob Enderle', 'Word Spy', 'TIME', 'CNN Breaking News', 'Guardian Data', 'Lamar', 'Carlos A Figueiredo', 'New Scientist', 'Wagner Meira Jr', 'Nathan Yau', 'Marcelo Martins', 'Kalina Bontcheva', 'Ana Souza', 'Instituto Novo Ser', \"Tim O'Reilly\", 'Guardian Tech', 'WebHolic!', 'Projeto TrackSource', 'DEF CON', 'Chronic Developments', 'Grupo ReCOL', 'Finep', 'Ricardo Caspirro', 't3', 'michelle Bouhid', 'Wefollow', 'Leonardo Souza', 'Luiz Maia', 'Aldo de A. Barreto', 'Adriana Bogliolo', 'TheFreeDictionary', 'Niraj Aswani', 'hamish cunningham', 'Stasa Vujicic', 'Guilherme A. Dias', 'AGNALDO', 'Camila', 'Joana Ziller', 'Saldanha', 'Hagar Espanha Gomes', 'Mozart Lima', 'Elaine Mosconi', 'Renata Vieira', '(((Howard Rheingold)))', 'Eduardo Chaves', 'Carlos Nepomuceno', 'GATE (gate.ac.uk)', 'Jaime Bastos', 'GO Outdoors', 'Joyce Prado', 'marcellobax', 'Rivadávia C.D.A.Neto', 'Helio', 'Maria Manuel Borges', 'Flávio Codeço Coelho', 'Ricardo R. Barbosa']\n"
     ]
    }
   ],
   "source": [
    "users = api.GetFriends()\n",
    "print([u.name for u in users])"
   ]
  },
  {
   "cell_type": "code",
   "execution_count": 90,
   "metadata": {},
   "outputs": [
    {
     "name": "stdout",
     "output_type": "stream",
     "text": [
      "['DannyKronstrom', 'sergioarifa', 'Lucasmrr', 'juliopl', 'FutureAdvocacy', 'anabiblio', 'liliaeeli', 'construtora_ld', 'LMacShadow', 'nan_nangelica', 'ValeriaMacedo22', 'ragarwa2', 'wmg_binho', 'Apbsvasconcelos', 'sethvanhooland', 'InnerSmart', 'ROMELZINHA', 'leticialves', 'rmwada', 'EnricoCalandro', 'MalJayaram', 'sandichimpala', 'Barbtinah', 'guyberger', 'solanasaurus', 'etaylaw', 'LeiKimmayong', 'hannahmccarrick', 'periodistagodoy', 'avilarenata', 'relayerlabs', 'JLdelda', 'micmars', 'AntonioMoneo', 'lucasparisi', 'cristinabg6', 'flor322003', 'klaussherzog', 'TTCSP', 'RosariaOtoni', 'ColumbiaGPI', 'karusimionato', 'mafradenise', 'aldemonica', 'Neurociencia', 'Renato_dxter', 'MMaurosilvareis', 'celiadiamantino', 'pamelabmachado', 'gabyprevidello', 'Stela_Maris_CS', 'SandraValeriacd', 'Dinieledfisica', 'FlorVsoares', 'KeilaRosado', 'Binoculocultura', 'swordjack', 'Krisluz32', 'klawasaki', 'jujudesouza2', 'MgDayanne', 'ignaciojrctp', 'mrbastos_', 'flavioamieiro', 'dayfamaral', 'llira5', 'SilviaPontes3', 'liara_santos', 'Mmdeoliver', 'Jessika18Leal', 'Airton_Costa', 'angelo_m_calvao', 'macfigueiredo', 'linhares', 'MarcelaRuas', 'thiagon52259992', 'heraldoborges', 'luizclaudioprof', 'cristyan545', '2014Jeh', 'lelebrito1', 'NAMD_EMAp', 'roseanevinte', 'murilogentil', 'gwtostes', 'joquizansouzafr', 'PfcoelhosPaulo', 'cmcf71', 'KatharineRosser', 'FelipeASantos', 'lindajheyne', 'goreth_maciel', 'alex_delgado_74', 'catiarbp1', 'rtgoncalves', 'MariaAlves015', 'pazryk', 'nataliago0610', 'andreleaomacedo', 'zehf', 'leila_seixas', 'brenovinicios7', 'DaniloNC', 'junior_grossi', 'durval_vieira', 'scritur', 'Rosangela772003', 'angelopolydoro', 'sharonhumphreis', 'rocha_racha', 'be_duarte', 'somioli2', 'gioestanislau', 'SSLoide', 'gladeirabh', 'betha_novais', 'tiagohide', 'pablocerdeira', 'beta_depaula', 'BrunoRowing', 'nirajaswani', 'Flaviabalbino1', 'a_miziara', 'Gabilavk', 'AdrianeLegnani', 'biduzen', 'fellipeassuncao', 'Colaboraufmg', 'SilKayke', 'alvarobrezolin', 'andremlcurvello', 'SuzanaHuguenin', 'raflima64', 'bibliotecaippur', 'fgvbmhs', 'eandrade', 'Alvescarlinha', 'bethapecanha', 'masantilone', 'brfsantos', 'israelst', 'The_best_ads', 'acbsc', 'Paul_Leite', 'PyPLN', 'clesjue', 'paulo_rres', 'damiano10', 'fc_renato', 'JuniorNovaes', 'eventoSBCC', 'debasispadhee', 'nairabello', 'BrisaPozzi', 'luaugustta', 'LuisGusNeves', 'Monalisavenuto', 'ramonabanda', 'preinh', 'Cynthia_brownn', 'kauaguilar', 'IRENEGOMES2', 'GraceSave', 'fgv_emap', 'edwardkeys', 'wladbrandao', 'lubpiovezan', 'turicas', 'NTCIR', 'RavBhagdev', 'albertmgtm', 'RicardoCCO', 'pridamata', 'isabellabritobr', 'jackiepaw', 'fatbrandao', 'PatriciaRAlves', 'karolsdutra', 'Manolitazinha', 'AVlachidis', 'Eduardo_Leandro', 'renatofmatheus', 'crismonaco', 'Targettecno', 'ectolentino', 'Eliana_Valois', 'rogerio_ramalho', 'wellbiblio', 'claudioberrondo', 'SemanaCIUFMG', 'rugani1', 'celsocastro1963', 'Calbiblio', 'samiralap', 'paulodelatierra', 'OrestesTrevisol', 'Rodrigomarzano', 'marizasantos14', 'Clovelino', 'rildolucio', 'edesiojuniorok', '_ninamariano', 'rockgerio', 'joyfigueiro', 'eciufmg_cenex', 'SMNBONECAS', 'dbaima', 'CDMconsultores', 'falaidiomas', 'lliflor', 'mhlima', 'Izabel_Franca', 'crisnv_CV', 'negabricia', 'askvisory', 'cursosrj', 'steniomorais', 'Goyata', 'nanadiamantino', 'gracioso', 'pereira_henri', 'norbal1113', 'empj2011', 'antoanne', 'waltercapanema', 'antonioapjr', 'sergiorosa', 'mauro_damo', 'fperini', 'andreischeiner', 'leticiarps', 'rafaelbco', 'luanafsales', 'mariafernandamc', 'itcsoftwarecom', 'hamendonca', 'Alinecarmo', 'eduardopubli', 'overead', 'afsb2013', '_pauloandre', 'deiaerica', 'rodrigoci', 'Marli_SV', 'andreapinheiros', 'Amora', 'andre_info', 'cassiopinheiro1', 'marlonlamancio', 'andre_branco', 'AslaSa', 'japp2009', 'ReCTeixeira', 'LORENA_LTP', 'CinemanoRioSF', 'Alejandrocampos', 'KellyAVale', '517v35tr3', 'Virginiacancado', 'rubialira', 'casadebambabh', 'Irisvieira', 'LeoMartinsCampo', 'neelannair', 'SinayAraujo', 'Topdrinksbrasil', 'Frank_5816', 'tuitqblog', 'rubensmc', 'Asucupira', 'Helmaxx', 'MataDoPlanalto', 'sampaiorenan', 'Candi_B_good', 'danyduarte', 'wlsites', 'alandbh', 'ProfJT', 'alzirakarla', 'tamaracoutob', 'kkgnunes', 'Adriano_Dias', 'gleonhard', 'ronaldfar', 'gilmara_biblio', 'GiCristiane', 'SaraivaAngela', 'Jjosemrocha', 'fernandozaidan', 'anaufmg2010', 'cidasilvaufmg', 'adeliziarm', 'semideias', 'lourdesmartins', 'marlirg', 'rodrigo_delano', 'Cintiafalcao01', 'tatinhaorsini', 'mu5icnet', 'hugopintobr', 'dedias671', 'luhrocha', 'ananascimento', 'fparreiras', 'Bibsinapse', 'atila_precione', 'edbertof', 'Apostilagra_tis', 'citizentalks', 'concursos_bra', 'katiaccoelho', 'Rock_RJ', 'caroltecila', 'xandabiblio', 'AndradeAQ', 'amanda_snavarro', 'deboracarpe', 'chrispess', 'ISAMARZANO', 'jujuglamoour', 'DesireePompeu', 'marcosmribeiro', 'siimoneUFMG', 'Soraialara', 'lucianaemirena', 'furpere', 'pedrocorone', 'gladsonoliveira', 'lnpq', 'joicert', 'BelleSaez', 'emarchettisilva', 'selminhabiblio', 'verorockband', 'omelhordamusica', 'blivana', 'dynamarks', 'davidvernonbr', 'EDUARDOAANDRADE', 'rosilenecoelho', 'joaoernesto', 'Wpmagic', 'HCLISD', 'dalbacosta', 'LadyaneRO', 'julianasnunes', 'leticiacapelao', 'neticmonitor', 'sandeep_vedula', 'kbontcheva', 'silvanavidotti', 'neoddone', 'knowledgedrops', 'AlvaGrout', 'KindleDXDX', 'TheKindleDX', 'KindleDXReader', 'lnadorno', 'hmossri', 'alineferrari', 'acessolivrebr', 'drica3d', 'MafiaWarsBrasil', 'C_A_Figueiredo', 'Gartner_inc', 'luiz_faquir', 'GizzaBa', 'ejeffects', 'HMainenti', 'erickbrazil', 'agitadiv', 'lulacerdas', 'fefemendonca', 'Vicchi01', 'veralorenzo', 'Deiafixa', 'TatianeAntonia', 'Fernandapereir', 'agewithattitude', 'personal_travel', 'duduobom', 'collectiveiq', 'aprilsystems', 'juliaapagon', 'honeyaround', 'liviamarangon', 'anareynosoREO', 'efacilencontra', 'carollina25', 'Kdulloyd', 'raisa_mendes', 'JunioMLourenco', 'annmarab', 'nanda_galmeida', 'sharronsulzbac', 'anonimoignorant', 'Roberto_EaD', 'Daniesil', 'ufmg_recol', 'tacivana', 'DaniVazz', 'powertwitter', 'callieclayton66', 'brubrant', 'LeidiLeidi', 'leoabud', 'LuizMaia', 'ccodeco', 'rafaelsn2004', 'sisojoy', 'tmbittencourt', 'Belkiss', 'heberlee', 'gercinalima', 'Liberopinion', 'AleCrissa', 'Jakis', 'augustobernardi', 'oliveira_bu', 'raquelpassos', 'Aline_Yasmin', 'ricardocaspirro', 'RenetaPopova', 'edivanioduarte', 'gmrezende', 'pablojorge', 'Benildes', 'zatlima', 'twit_tadas', 'romuloci', 'guerrafotos', 'aivlisf', 'AprendaAquiBR', 'Jeffeoliveira', 'andreabh', 'minessep', 'adrianabsd', 'SinergiaEventos', 'wackystuffinfo', 'FlavianeGravina', 'crisdias', 'alineal3', 'joanaziller', 'hcunningham', 'ca_mantovani', 'stasavujicic', 'vieirarenata', 'librunet', 'leomoraes', 'NenaGonzalez', 'alexspeziali', 'nelsonandrep', 'hugoopes', 'Lauralice', 'diellemonique', 'woytchek', 'brenosampaiobh', 'atbmari', 'carolvalis', 'rgsouza', 'GeorgiaGCD', 'guilhermeataide', 'ReAmaral75', 'cvieirao', 'joaninhabc', 'patriciapenido', 'nicolepatricia', 'franktaan', 'alessandra_ela', 'AnaMarciaPaiva', 'thekellen', 'grazimendes', 'Pedro_disse', 'danit_andreuni', 'marcellobax', 'POSICAOGLOBAL', 'joyceprado', 'Clemens1', 'admgilson', 'andreboka', 'rlmassen', 'igorquintal', 'ritalopess', 'paulajordao', 'rivaneto', 'Dictionarycom', 'hesteban', 'rogerotoni', 'Marcelteo', 'carolgetrank', 'fredeci', 'fatimadeluzie', 'Kuramotobr', 'mmborges', 'Paty_Campos', 'alecolucci', 'marcelonani', 'aderman_jr', 'notasdopinheiro', 'fccoelho', 'RicardoRBarbosa']\n"
     ]
    }
   ],
   "source": [
    "followers = api.GetFollowers()\n",
    "print([u.screen_name for u in followers])"
   ]
  },
  {
   "cell_type": "code",
   "execution_count": 91,
   "metadata": {},
   "outputs": [
    {
     "name": "stdout",
     "output_type": "stream",
     "text": [
      "['@rrsouza @fccoelho Vc aqui n twiter, q bom!', '@claumodesto1 @CarlosF487303 @rrsouza https://t.co/ApLZ5MTdAu', 'From #SIF17 panel with @avilarenata @gbengasesan @li_saga @solanasaurus @MalJayaram @rrsouza https://t.co/BHmQnGc65B https://t.co/EjSrBarPF2', '@avilarenata @sachavg @GreatDismal @rrsouza Truly was. Signs of a good panel: panelists themselves had fun &amp; learnt… https://t.co/ETpO8sO2HX', '@nnenna @MalJayaram @gbengasesan @li_saga @solanasaurus @rrsouza Thank you all!', '@MalJayaram @sachavg @GreatDismal @rrsouza Epic panel!', 'That was @sachavg, quoting from #HarryPotter. Pretty heavy on quotes, our panel: that, @GreatDismal (me) &amp; Hannah A… https://t.co/NFeYlt2EQs', 'Key point at @fxinternet this am: \"Need to make technical questions society questions\" @rrsouza #digitalrights #sif17 #leaveno1offine', '.@rrsouza: I refuse the conception of technological impact. We are the ones that choose what technology is. #SIF17 #SIF3B #LeaveNo1Offline', 'Retweeted Sandi Chimpala (@sandichimpala):\\n\\n@rrsouza From audience quoting Harry Potter: \"Don\\'t trust anything... https://t.co/4MG5486dCi', '@rrsouza From audience quoting Harry Potter: \"Don\\'t trust anything that thinks for itself if you can\\'t see where it… https://t.co/fAyNXXzNni', \"@rrsouza: there's some information normal people can contribute to make AI smarter by learning habits w/o compromising data\\n#SIF3B\\n#SIF17\", '@sandichimpala @solanasaurus @rrsouza But if it was a kid chasing a ball - probably would not. Bottom line though -… https://t.co/e8ZhpSdkLi', \"@sandichimpala @solanasaurus @rrsouza For the record, if 3 idiots ran out onto the highway illegally. I'd def hit t… https://t.co/3n4PiVU5sX\", '@craigmfagan @rrsouza @webfoundation Sounds like questions for the humanities!', 'This wraps it up succinctly: \"Technical questions need to become societal questions.\" - @rrsouza #sif17', \"We educate for jobs that don't exist. What s more useful to human than machines? Values, common sense, human relati… https://t.co/1j70pNLcfI\", 'We should have a right to be forgotten, anonymous, etc online says @rrsouza #DigitalRight 2.0 #SIF17 #SIF3B']\n"
     ]
    }
   ],
   "source": [
    "mentions = api.GetMentions()\n",
    "#mentions[0].text\n",
    "print([m.text for m in mentions])"
   ]
  },
  {
   "cell_type": "code",
   "execution_count": 92,
   "metadata": {},
   "outputs": [
    {
     "name": "stdout",
     "output_type": "stream",
     "text": [
      "[\"TIME’s new cover: A reckoning after Trump's border separation policy: What kind of country are we?… https://t.co/iRrT5dtbp8\", 'Ariana Grande and Pete Davidson are engaged https://t.co/p9bR3w7VZd', 'Algeria shuts off internet access to combat cheating on national exams https://t.co/07vV5bhvtc', 'American Civil Liberties Union sues U.S. government for access to \"incommunicado\" imprisoned immigrants https://t.co/gzxUpshqdc', 'Burger King apologizes for an ad offering free burgers to Russian women who get pregnant by World Cup players https://t.co/S7SZLDLyUC', '\"Help my sisters.\" Chilling 911 call from teenage girl who escaped the Turpin family details abuse https://t.co/sU2ftvQJ8s', 'Marijuana will be legal in Canada in October, Prime Minister Justin Trudeau says https://t.co/sEvw7FIxtM', 'President Trump will meet Queen Elizabeth next month https://t.co/SNcpExR91l', \"Organizer of the deadly 'Unite the Right' march in Charlottesville is planning a rally in Washington, D.C. https://t.co/3BUQ3NYeQs\", \"American Airlines doesn't want to fly migrant children separated from their families https://t.co/ncY0HVnKpE\", 'Instagram is adding hour-long videos to take on YouTube https://t.co/cRrfd4YKhw', '\"The most surprising aspect of Colombia\\'s election wasn\\'t who won\" https://t.co/WlyA9qua8u', 'Officials confirm a 10-year-old girl with Down syndrome was separated from her mother at the U.S. border https://t.co/3UC69pp6rf', \"Today is the longest day of the year. Here's what to know about the 2018 summer solstice https://t.co/i2SAXfFezW\", \"The House GOP's immigration overhaul is on the brink of collapse https://t.co/JJDEVg3SPc\", '\"Yes, impostor syndrome is real. Here\\'s how to deal with it\" https://t.co/e6ay99VRp5', 'Seth Meyers inserted himself into a White House press briefing with comical results https://t.co/mmoiWQ4LHG', 'Thousands welcome the summer solstice at Stonehenge to celebrate the longest day of the year https://t.co/xn9ShPzeCr', \"Here's what happens when you donate to a viral fundraiser on Facebook https://t.co/CiChzwGq1x\", '\"I visited my Turkish colleague in prison. Erdogan’s crackdown must stop\" https://t.co/yHwY40LlLu']\n"
     ]
    }
   ],
   "source": [
    "statuses = api.GetUserTimeline(screen_name='TIME')\n",
    "print([s.text for s in statuses])"
   ]
  },
  {
   "cell_type": "markdown",
   "metadata": {},
   "source": [
    "## Dealing with Big Files"
   ]
  },
  {
   "cell_type": "markdown",
   "metadata": {},
   "source": [
    "Retrieving the file:"
   ]
  },
  {
   "cell_type": "code",
   "execution_count": 93,
   "metadata": {},
   "outputs": [],
   "source": [
    "link = 'http://eforexcel.com/wp/wp-content/uploads/2017/07/1500000%20Sales%20Records.zip'"
   ]
  },
  {
   "cell_type": "code",
   "execution_count": 95,
   "metadata": {},
   "outputs": [
    {
     "data": {
      "text/plain": [
       "('../datasets/CSVs/bigcsv.zip', <http.client.HTTPMessage at 0x7fe24a6cc2e8>)"
      ]
     },
     "execution_count": 95,
     "metadata": {},
     "output_type": "execute_result"
    }
   ],
   "source": [
    "urllib.request.urlretrieve(link, \"../datasets/CSVs/bigcsv.zip\")"
   ]
  },
  {
   "cell_type": "markdown",
   "metadata": {},
   "source": [
    "Using Pandas with chunks:"
   ]
  },
  {
   "cell_type": "code",
   "execution_count": 110,
   "metadata": {},
   "outputs": [
    {
     "name": "stdout",
     "output_type": "stream",
     "text": [
      "                         Region           Country  Item Type Sales Channel  \\\n",
      "0            Sub-Saharan Africa      South Africa     Fruits       Offline   \n",
      "1  Middle East and North Africa           Morocco    Clothes        Online   \n",
      "2         Australia and Oceania  Papua New Guinea       Meat       Offline   \n",
      "3            Sub-Saharan Africa          Djibouti    Clothes       Offline   \n",
      "4                        Europe          Slovakia  Beverages       Offline   \n",
      "\n",
      "  Order Priority  Order Date   Order ID   Ship Date  Units Sold  Unit Price  \\\n",
      "0              M   7/27/2012  443368995   7/28/2012        1593        9.33   \n",
      "1              M   9/14/2013  667593514  10/19/2013        4611      109.28   \n",
      "2              M   5/15/2015  940995585    6/4/2015         360      421.89   \n",
      "3              H   5/17/2017  880811536    7/2/2017         562      109.28   \n",
      "4              L  10/26/2016  174590194   12/4/2016        3973       47.45   \n",
      "\n",
      "   Unit Cost  Total Revenue  Total Cost  Total Profit  \n",
      "0       6.92       14862.69    11023.56       3839.13  \n",
      "1      35.84      503890.08   165258.24     338631.84  \n",
      "2     364.69      151880.40   131288.40      20592.00  \n",
      "3      35.84       61415.36    20142.08      41273.28  \n",
      "4      31.79      188518.85   126301.67      62217.18  \n",
      "\n",
      "                       Region      Country        Item Type Sales Channel  \\\n",
      "100000     Sub-Saharan Africa   Madagascar           Cereal       Offline   \n",
      "100001  Australia and Oceania  New Zealand    Personal Care       Offline   \n",
      "100002     Sub-Saharan Africa       Malawi           Cereal       Offline   \n",
      "100003                 Europe    Macedonia  Office Supplies       Offline   \n",
      "100004                 Europe      Belarus             Meat       Offline   \n",
      "\n",
      "       Order Priority Order Date   Order ID  Ship Date  Units Sold  \\\n",
      "100000              L   1/9/2016  238872230  1/24/2016        6456   \n",
      "100001              C  6/14/2014  976817452  7/21/2014         846   \n",
      "100002              C  4/27/2017  371752727  6/10/2017        8748   \n",
      "100003              H  1/27/2013  290914380  3/16/2013        6885   \n",
      "100004              C   3/3/2010  871851241   3/4/2010        9012   \n",
      "\n",
      "        Unit Price  Unit Cost  Total Revenue  Total Cost  Total Profit  \n",
      "100000      205.70     117.11     1327999.20   756062.16     571937.04  \n",
      "100001       81.73      56.67       69143.58    47942.82      21200.76  \n",
      "100002      205.70     117.11     1799463.60  1024478.28     774985.32  \n",
      "100003      651.21     524.96     4483580.85  3614349.60     869231.25  \n",
      "100004      421.89     364.69     3802072.68  3286586.28     515486.40  \n"
     ]
    }
   ],
   "source": [
    "chunksize = 10 ** 5\n",
    "\n",
    "with ZipFile(\"../datasets/CSVs/bigcsv.zip\", 'r') as myzip:\n",
    "    with myzip.open('1500000 Sales Records.csv') as myfile:\n",
    "        chunks = pd.read_csv((myfile), chunksize=chunksize) #, iterator=True)\n",
    "        df = chunks.get_chunk()\n",
    "        print(df.head())\n",
    "        print()\n",
    "        df = chunks.get_chunk()\n",
    "        print(df.head())"
   ]
  },
  {
   "cell_type": "markdown",
   "metadata": {},
   "source": [
    "Unzipping the file and reading line by line:"
   ]
  },
  {
   "cell_type": "code",
   "execution_count": 112,
   "metadata": {},
   "outputs": [],
   "source": [
    "with ZipFile(\"../datasets/CSVs/bigcsv.zip\", 'r') as myzip:\n",
    "    myzip.extractall(\"../datasets/CSVs/\")\n",
    "    myzip.close()"
   ]
  },
  {
   "cell_type": "code",
   "execution_count": 113,
   "metadata": {},
   "outputs": [],
   "source": [
    "def getstuff(filename):\n",
    "    with open(filename, \"r\") as csvfile:\n",
    "        datareader = csv.reader(csvfile)\n",
    "        count = 0\n",
    "        for row in datareader:\n",
    "            yield(row)"
   ]
  },
  {
   "cell_type": "code",
   "execution_count": 114,
   "metadata": {},
   "outputs": [
    {
     "name": "stdout",
     "output_type": "stream",
     "text": [
      "['Region', 'Country', 'Item Type', 'Sales Channel', 'Order Priority', 'Order Date', 'Order ID', 'Ship Date', 'Units Sold', 'Unit Price', 'Unit Cost', 'Total Revenue', 'Total Cost', 'Total Profit']\n",
      "['Sub-Saharan Africa', 'South Africa', 'Fruits', 'Offline', 'M', '7/27/2012', '443368995', '7/28/2012', '1593', '9.33', '6.92', '14862.69', '11023.56', '3839.13']\n",
      "['Middle East and North Africa', 'Morocco', 'Clothes', 'Online', 'M', '9/14/2013', '667593514', '10/19/2013', '4611', '109.28', '35.84', '503890.08', '165258.24', '338631.84']\n",
      "['Australia and Oceania', 'Papua New Guinea', 'Meat', 'Offline', 'M', '5/15/2015', '940995585', '6/4/2015', '360', '421.89', '364.69', '151880.40', '131288.40', '20592.00']\n",
      "['Sub-Saharan Africa', 'Djibouti', 'Clothes', 'Offline', 'H', '5/17/2017', '880811536', '7/2/2017', '562', '109.28', '35.84', '61415.36', '20142.08', '41273.28']\n",
      "['Europe', 'Slovakia', 'Beverages', 'Offline', 'L', '10/26/2016', '174590194', '12/4/2016', '3973', '47.45', '31.79', '188518.85', '126301.67', '62217.18']\n",
      "['Asia', 'Sri Lanka', 'Fruits', 'Online', 'L', '11/7/2011', '830192887', '12/18/2011', '1379', '9.33', '6.92', '12866.07', '9542.68', '3323.39']\n",
      "['Sub-Saharan Africa', 'Seychelles ', 'Beverages', 'Online', 'M', '1/18/2013', '425793445', '2/16/2013', '597', '47.45', '31.79', '28327.65', '18978.63', '9349.02']\n",
      "['Sub-Saharan Africa', 'Tanzania', 'Beverages', 'Online', 'L', '11/30/2016', '659878194', '1/16/2017', '1476', '47.45', '31.79', '70036.20', '46922.04', '23114.16']\n",
      "['Sub-Saharan Africa', 'Ghana', 'Office Supplies', 'Online', 'L', '3/23/2017', '601245963', '4/15/2017', '896', '651.21', '524.96', '583484.16', '470364.16', '113120.00']\n",
      "['Sub-Saharan Africa', 'Tanzania', 'Cosmetics', 'Offline', 'L', '5/23/2016', '739008080', '5/24/2016', '7768', '437.20', '263.33', '3396169.60', '2045547.44', '1350622.16']\n",
      "['Asia', 'Taiwan', 'Fruits', 'Offline', 'M', '2/9/2014', '732588374', '2/23/2014', '8034', '9.33', '6.92', '74957.22', '55595.28', '19361.94']\n",
      "['Middle East and North Africa', 'Algeria', 'Cosmetics', 'Online', 'M', '2/18/2011', '761723172', '2/24/2011', '9669', '437.20', '263.33', '4227286.80', '2546137.77', '1681149.03']\n",
      "['Asia', 'Singapore', 'Snacks', 'Online', 'C', '1/28/2013', '176461303', '2/7/2013', '7676', '152.58', '97.44', '1171204.08', '747949.44', '423254.64']\n",
      "['Australia and Oceania', 'Papua New Guinea', 'Clothes', 'Offline', 'L', '6/20/2011', '647164094', '7/14/2011', '9092', '109.28', '35.84', '993573.76', '325857.28', '667716.48']\n",
      "['Asia', 'Vietnam', 'Personal Care', 'Online', 'M', '4/4/2010', '314505374', '5/6/2010', '7984', '81.73', '56.67', '652532.32', '452453.28', '200079.04']\n",
      "['Sub-Saharan Africa', 'Uganda', 'Personal Care', 'Online', 'M', '6/19/2014', '539471471', '7/21/2014', '451', '81.73', '56.67', '36860.23', '25558.17', '11302.06']\n",
      "['Sub-Saharan Africa', 'Zimbabwe', 'Office Supplies', 'Offline', 'C', '3/28/2011', '953361213', '4/8/2011', '9623', '651.21', '524.96', '6266593.83', '5051690.08', '1214903.75']\n",
      "['Sub-Saharan Africa', 'Ethiopia', 'Cosmetics', 'Online', 'M', '7/7/2011', '807785928', '7/25/2011', '662', '437.20', '263.33', '289426.40', '174324.46', '115101.94']\n",
      "['Europe', 'France', 'Cosmetics', 'Online', 'M', '12/7/2015', '324669444', '1/18/2016', '5758', '437.20', '263.33', '2517397.60', '1516254.14', '1001143.46']\n",
      "['Central America and the Caribbean', 'The Bahamas', 'Personal Care', 'Online', 'C', '1/19/2011', '246248090', '2/21/2011', '9137', '81.73', '56.67', '746767.01', '517793.79', '228973.22']\n",
      "['Central America and the Caribbean', 'Haiti', 'Office Supplies', 'Online', 'C', '12/31/2010', '485070693', '1/31/2011', '2052', '651.21', '524.96', '1336282.92', '1077217.92', '259065.00']\n",
      "['Central America and the Caribbean', 'Nicaragua', 'Household', 'Online', 'C', '10/28/2015', '573998582', '12/7/2015', '7791', '668.27', '502.54', '5206491.57', '3915289.14', '1291202.43']\n",
      "['Asia', 'Turkmenistan', 'Vegetables', 'Online', 'M', '4/13/2015', '116205585', '6/2/2015', '6670', '154.06', '90.93', '1027580.20', '606503.10', '421077.10']\n",
      "['Europe', 'United Kingdom', 'Cosmetics', 'Online', 'L', '5/1/2015', '135178029', '5/16/2015', '1038', '437.20', '263.33', '453813.60', '273336.54', '180477.06']\n",
      "['Central America and the Caribbean', 'Dominican Republic', 'Baby Food', 'Offline', 'H', '8/25/2011', '824714744', '9/24/2011', '274', '255.28', '159.42', '69946.72', '43681.08', '26265.64']\n",
      "['Asia', 'China', 'Office Supplies', 'Online', 'M', '2/10/2016', '198927056', '3/29/2016', '5791', '651.21', '524.96', '3771157.11', '3040043.36', '731113.75']\n",
      "['Sub-Saharan Africa', 'Uganda', 'Cosmetics', 'Online', 'M', '2/28/2015', '842238795', '3/15/2015', '6031', '437.20', '263.33', '2636753.20', '1588143.23', '1048609.97']\n",
      "['Middle East and North Africa', 'Kuwait', 'Household', 'Offline', 'C', '6/13/2011', '459386289', '7/21/2011', '1466', '668.27', '502.54', '979683.82', '736723.64', '242960.18']\n",
      "['Middle East and North Africa', 'United Arab Emirates', 'Office Supplies', 'Online', 'M', '6/23/2012', '425418365', '7/6/2012', '9603', '651.21', '524.96', '6253569.63', '5041190.88', '1212378.75']\n",
      "['Europe', 'Estonia', 'Household', 'Offline', 'H', '9/1/2011', '835696351', '10/21/2011', '9976', '668.27', '502.54', '6666661.52', '5013339.04', '1653322.48']\n"
     ]
    }
   ],
   "source": [
    "count = 0\n",
    "for row in getstuff(\"../datasets/CSVs/1500000 Sales Records.csv\"):\n",
    "    print(row)\n",
    "    count +=1\n",
    "    if count > 30:\n",
    "        break"
   ]
  },
  {
   "cell_type": "markdown",
   "metadata": {},
   "source": [
    "#### Using Dask:"
   ]
  },
  {
   "cell_type": "markdown",
   "metadata": {},
   "source": [
    "Read CSV¶\n",
    "\n",
    "First we read our csv data.\n",
    "\n",
    "CSV and other text-based file formats are the most common storage for data from many sources, because they require minimal pre-processing, can be written line-by-line and are human-readable. Since Pandas' read_csv is well-optimized, CSVs are a reasonable input, but far from optimized, since reading required extensive text parsing."
   ]
  },
  {
   "cell_type": "code",
   "execution_count": 142,
   "metadata": {},
   "outputs": [
    {
     "data": {
      "text/html": [
       "<div>\n",
       "<style scoped>\n",
       "    .dataframe tbody tr th:only-of-type {\n",
       "        vertical-align: middle;\n",
       "    }\n",
       "\n",
       "    .dataframe tbody tr th {\n",
       "        vertical-align: top;\n",
       "    }\n",
       "\n",
       "    .dataframe thead th {\n",
       "        text-align: right;\n",
       "    }\n",
       "</style>\n",
       "<table border=\"1\" class=\"dataframe\">\n",
       "  <thead>\n",
       "    <tr style=\"text-align: right;\">\n",
       "      <th></th>\n",
       "      <th>Region</th>\n",
       "      <th>Country</th>\n",
       "      <th>Item Type</th>\n",
       "      <th>Sales Channel</th>\n",
       "      <th>Order Priority</th>\n",
       "      <th>Order Date</th>\n",
       "      <th>Order ID</th>\n",
       "      <th>Ship Date</th>\n",
       "      <th>Units Sold</th>\n",
       "      <th>Unit Price</th>\n",
       "      <th>Unit Cost</th>\n",
       "      <th>Total Revenue</th>\n",
       "      <th>Total Cost</th>\n",
       "      <th>Total Profit</th>\n",
       "    </tr>\n",
       "  </thead>\n",
       "  <tbody>\n",
       "    <tr>\n",
       "      <th>0</th>\n",
       "      <td>Sub-Saharan Africa</td>\n",
       "      <td>South Africa</td>\n",
       "      <td>Fruits</td>\n",
       "      <td>Offline</td>\n",
       "      <td>M</td>\n",
       "      <td>7/27/2012</td>\n",
       "      <td>443368995</td>\n",
       "      <td>7/28/2012</td>\n",
       "      <td>1593</td>\n",
       "      <td>9.33</td>\n",
       "      <td>6.92</td>\n",
       "      <td>14862.69</td>\n",
       "      <td>11023.56</td>\n",
       "      <td>3839.13</td>\n",
       "    </tr>\n",
       "    <tr>\n",
       "      <th>1</th>\n",
       "      <td>Middle East and North Africa</td>\n",
       "      <td>Morocco</td>\n",
       "      <td>Clothes</td>\n",
       "      <td>Online</td>\n",
       "      <td>M</td>\n",
       "      <td>9/14/2013</td>\n",
       "      <td>667593514</td>\n",
       "      <td>10/19/2013</td>\n",
       "      <td>4611</td>\n",
       "      <td>109.28</td>\n",
       "      <td>35.84</td>\n",
       "      <td>503890.08</td>\n",
       "      <td>165258.24</td>\n",
       "      <td>338631.84</td>\n",
       "    </tr>\n",
       "    <tr>\n",
       "      <th>2</th>\n",
       "      <td>Australia and Oceania</td>\n",
       "      <td>Papua New Guinea</td>\n",
       "      <td>Meat</td>\n",
       "      <td>Offline</td>\n",
       "      <td>M</td>\n",
       "      <td>5/15/2015</td>\n",
       "      <td>940995585</td>\n",
       "      <td>6/4/2015</td>\n",
       "      <td>360</td>\n",
       "      <td>421.89</td>\n",
       "      <td>364.69</td>\n",
       "      <td>151880.40</td>\n",
       "      <td>131288.40</td>\n",
       "      <td>20592.00</td>\n",
       "    </tr>\n",
       "    <tr>\n",
       "      <th>3</th>\n",
       "      <td>Sub-Saharan Africa</td>\n",
       "      <td>Djibouti</td>\n",
       "      <td>Clothes</td>\n",
       "      <td>Offline</td>\n",
       "      <td>H</td>\n",
       "      <td>5/17/2017</td>\n",
       "      <td>880811536</td>\n",
       "      <td>7/2/2017</td>\n",
       "      <td>562</td>\n",
       "      <td>109.28</td>\n",
       "      <td>35.84</td>\n",
       "      <td>61415.36</td>\n",
       "      <td>20142.08</td>\n",
       "      <td>41273.28</td>\n",
       "    </tr>\n",
       "    <tr>\n",
       "      <th>4</th>\n",
       "      <td>Europe</td>\n",
       "      <td>Slovakia</td>\n",
       "      <td>Beverages</td>\n",
       "      <td>Offline</td>\n",
       "      <td>L</td>\n",
       "      <td>10/26/2016</td>\n",
       "      <td>174590194</td>\n",
       "      <td>12/4/2016</td>\n",
       "      <td>3973</td>\n",
       "      <td>47.45</td>\n",
       "      <td>31.79</td>\n",
       "      <td>188518.85</td>\n",
       "      <td>126301.67</td>\n",
       "      <td>62217.18</td>\n",
       "    </tr>\n",
       "  </tbody>\n",
       "</table>\n",
       "</div>"
      ],
      "text/plain": [
       "                         Region           Country  Item Type Sales Channel  \\\n",
       "0            Sub-Saharan Africa      South Africa     Fruits       Offline   \n",
       "1  Middle East and North Africa           Morocco    Clothes        Online   \n",
       "2         Australia and Oceania  Papua New Guinea       Meat       Offline   \n",
       "3            Sub-Saharan Africa          Djibouti    Clothes       Offline   \n",
       "4                        Europe          Slovakia  Beverages       Offline   \n",
       "\n",
       "  Order Priority  Order Date   Order ID   Ship Date  Units Sold  Unit Price  \\\n",
       "0              M   7/27/2012  443368995   7/28/2012        1593        9.33   \n",
       "1              M   9/14/2013  667593514  10/19/2013        4611      109.28   \n",
       "2              M   5/15/2015  940995585    6/4/2015         360      421.89   \n",
       "3              H   5/17/2017  880811536    7/2/2017         562      109.28   \n",
       "4              L  10/26/2016  174590194   12/4/2016        3973       47.45   \n",
       "\n",
       "   Unit Cost  Total Revenue  Total Cost  Total Profit  \n",
       "0       6.92       14862.69    11023.56       3839.13  \n",
       "1      35.84      503890.08   165258.24     338631.84  \n",
       "2     364.69      151880.40   131288.40      20592.00  \n",
       "3      35.84       61415.36    20142.08      41273.28  \n",
       "4      31.79      188518.85   126301.67      62217.18  "
      ]
     },
     "execution_count": 142,
     "metadata": {},
     "output_type": "execute_result"
    }
   ],
   "source": [
    "import dask\n",
    "import dask.dataframe as dd\n",
    "from dask import delayed, compute\n",
    "\n",
    "df_csv = dd.read_csv('../datasets/CSVs/1500000 Sales Records.csv')\n",
    "df_csv.head()"
   ]
  },
  {
   "cell_type": "code",
   "execution_count": 143,
   "metadata": {},
   "outputs": [
    {
     "data": {
      "image/png": "[encoded data removed]",
      "text/plain": [
       "<IPython.core.display.Image object>"
      ]
     },
     "execution_count": 143,
     "metadata": {},
     "output_type": "execute_result"
    }
   ],
   "source": [
    "df_csv.visualize()"
   ]
  },
  {
   "cell_type": "code",
   "execution_count": 144,
   "metadata": {},
   "outputs": [
    {
     "data": {
      "text/plain": [
       "'../datasets/CSVs/1500000 Sales Records.hdf'"
      ]
     },
     "execution_count": 144,
     "metadata": {},
     "output_type": "execute_result"
    }
   ],
   "source": [
    "target = ('../datasets/CSVs/1500000 Sales Records.hdf')\n",
    "target"
   ]
  },
  {
   "cell_type": "code",
   "execution_count": 145,
   "metadata": {},
   "outputs": [
    {
     "name": "stdout",
     "output_type": "stream",
     "text": [
      "CPU times: user 12.6 s, sys: 1.59 s, total: 14.2 s\n",
      "Wall time: 11.8 s\n"
     ]
    },
    {
     "data": {
      "text/plain": [
       "['../datasets/CSVs/1500000 Sales Records.hdf',\n",
       " '../datasets/CSVs/1500000 Sales Records.hdf',\n",
       " '../datasets/CSVs/1500000 Sales Records.hdf']"
      ]
     },
     "execution_count": 145,
     "metadata": {},
     "output_type": "execute_result"
    }
   ],
   "source": [
    "%time df.to_hdf(target, '/data')"
   ]
  },
  {
   "cell_type": "code",
   "execution_count": 146,
   "metadata": {},
   "outputs": [
    {
     "data": {
      "text/html": [
       "<div>\n",
       "<style scoped>\n",
       "    .dataframe tbody tr th:only-of-type {\n",
       "        vertical-align: middle;\n",
       "    }\n",
       "\n",
       "    .dataframe tbody tr th {\n",
       "        vertical-align: top;\n",
       "    }\n",
       "\n",
       "    .dataframe thead th {\n",
       "        text-align: right;\n",
       "    }\n",
       "</style>\n",
       "<table border=\"1\" class=\"dataframe\">\n",
       "  <thead>\n",
       "    <tr style=\"text-align: right;\">\n",
       "      <th></th>\n",
       "      <th>Region</th>\n",
       "      <th>Country</th>\n",
       "      <th>Item Type</th>\n",
       "      <th>Sales Channel</th>\n",
       "      <th>Order Priority</th>\n",
       "      <th>Order Date</th>\n",
       "      <th>Order ID</th>\n",
       "      <th>Ship Date</th>\n",
       "      <th>Units Sold</th>\n",
       "      <th>Unit Price</th>\n",
       "      <th>Unit Cost</th>\n",
       "      <th>Total Revenue</th>\n",
       "      <th>Total Cost</th>\n",
       "      <th>Total Profit</th>\n",
       "    </tr>\n",
       "  </thead>\n",
       "  <tbody>\n",
       "    <tr>\n",
       "      <th>0</th>\n",
       "      <td>Sub-Saharan Africa</td>\n",
       "      <td>South Africa</td>\n",
       "      <td>Fruits</td>\n",
       "      <td>Offline</td>\n",
       "      <td>M</td>\n",
       "      <td>7/27/2012</td>\n",
       "      <td>443368995</td>\n",
       "      <td>7/28/2012</td>\n",
       "      <td>1593</td>\n",
       "      <td>9.33</td>\n",
       "      <td>6.92</td>\n",
       "      <td>14862.69</td>\n",
       "      <td>11023.56</td>\n",
       "      <td>3839.13</td>\n",
       "    </tr>\n",
       "    <tr>\n",
       "      <th>1</th>\n",
       "      <td>Middle East and North Africa</td>\n",
       "      <td>Morocco</td>\n",
       "      <td>Clothes</td>\n",
       "      <td>Online</td>\n",
       "      <td>M</td>\n",
       "      <td>9/14/2013</td>\n",
       "      <td>667593514</td>\n",
       "      <td>10/19/2013</td>\n",
       "      <td>4611</td>\n",
       "      <td>109.28</td>\n",
       "      <td>35.84</td>\n",
       "      <td>503890.08</td>\n",
       "      <td>165258.24</td>\n",
       "      <td>338631.84</td>\n",
       "    </tr>\n",
       "    <tr>\n",
       "      <th>2</th>\n",
       "      <td>Australia and Oceania</td>\n",
       "      <td>Papua New Guinea</td>\n",
       "      <td>Meat</td>\n",
       "      <td>Offline</td>\n",
       "      <td>M</td>\n",
       "      <td>5/15/2015</td>\n",
       "      <td>940995585</td>\n",
       "      <td>6/4/2015</td>\n",
       "      <td>360</td>\n",
       "      <td>421.89</td>\n",
       "      <td>364.69</td>\n",
       "      <td>151880.40</td>\n",
       "      <td>131288.40</td>\n",
       "      <td>20592.00</td>\n",
       "    </tr>\n",
       "    <tr>\n",
       "      <th>3</th>\n",
       "      <td>Sub-Saharan Africa</td>\n",
       "      <td>Djibouti</td>\n",
       "      <td>Clothes</td>\n",
       "      <td>Offline</td>\n",
       "      <td>H</td>\n",
       "      <td>5/17/2017</td>\n",
       "      <td>880811536</td>\n",
       "      <td>7/2/2017</td>\n",
       "      <td>562</td>\n",
       "      <td>109.28</td>\n",
       "      <td>35.84</td>\n",
       "      <td>61415.36</td>\n",
       "      <td>20142.08</td>\n",
       "      <td>41273.28</td>\n",
       "    </tr>\n",
       "    <tr>\n",
       "      <th>4</th>\n",
       "      <td>Europe</td>\n",
       "      <td>Slovakia</td>\n",
       "      <td>Beverages</td>\n",
       "      <td>Offline</td>\n",
       "      <td>L</td>\n",
       "      <td>10/26/2016</td>\n",
       "      <td>174590194</td>\n",
       "      <td>12/4/2016</td>\n",
       "      <td>3973</td>\n",
       "      <td>47.45</td>\n",
       "      <td>31.79</td>\n",
       "      <td>188518.85</td>\n",
       "      <td>126301.67</td>\n",
       "      <td>62217.18</td>\n",
       "    </tr>\n",
       "  </tbody>\n",
       "</table>\n",
       "</div>"
      ],
      "text/plain": [
       "                         Region           Country  Item Type Sales Channel  \\\n",
       "0            Sub-Saharan Africa      South Africa     Fruits       Offline   \n",
       "1  Middle East and North Africa           Morocco    Clothes        Online   \n",
       "2         Australia and Oceania  Papua New Guinea       Meat       Offline   \n",
       "3            Sub-Saharan Africa          Djibouti    Clothes       Offline   \n",
       "4                        Europe          Slovakia  Beverages       Offline   \n",
       "\n",
       "  Order Priority  Order Date   Order ID   Ship Date  Units Sold  Unit Price  \\\n",
       "0              M   7/27/2012  443368995   7/28/2012        1593        9.33   \n",
       "1              M   9/14/2013  667593514  10/19/2013        4611      109.28   \n",
       "2              M   5/15/2015  940995585    6/4/2015         360      421.89   \n",
       "3              H   5/17/2017  880811536    7/2/2017         562      109.28   \n",
       "4              L  10/26/2016  174590194   12/4/2016        3973       47.45   \n",
       "\n",
       "   Unit Cost  Total Revenue  Total Cost  Total Profit  \n",
       "0       6.92       14862.69    11023.56       3839.13  \n",
       "1      35.84      503890.08   165258.24     338631.84  \n",
       "2     364.69      151880.40   131288.40      20592.00  \n",
       "3      35.84       61415.36    20142.08      41273.28  \n",
       "4      31.79      188518.85   126301.67      62217.18  "
      ]
     },
     "execution_count": 146,
     "metadata": {},
     "output_type": "execute_result"
    }
   ],
   "source": [
    "# same data as before\n",
    "df_hdf = dd.read_hdf(target, '/data')\n",
    "df_hdf.head()"
   ]
  },
  {
   "cell_type": "markdown",
   "metadata": {},
   "source": [
    "Compare CSV to HDF5 speeds\n",
    "\n",
    "We do a simple computation that requires reading a column of our dataset and compare performance between CSV files and our newly created HDF5 file. Which do you expect to be faster?"
   ]
  },
  {
   "cell_type": "code",
   "execution_count": 147,
   "metadata": {},
   "outputs": [
    {
     "name": "stdout",
     "output_type": "stream",
     "text": [
      "CPU times: user 4.21 s, sys: 456 ms, total: 4.67 s\n",
      "Wall time: 2.36 s\n"
     ]
    },
    {
     "data": {
      "text/plain": [
       "588599904379.6101"
      ]
     },
     "execution_count": 147,
     "metadata": {},
     "output_type": "execute_result"
    }
   ],
   "source": [
    "%time df_csv['Total Profit'].sum().compute()"
   ]
  },
  {
   "cell_type": "code",
   "execution_count": 148,
   "metadata": {},
   "outputs": [
    {
     "name": "stdout",
     "output_type": "stream",
     "text": [
      "CPU times: user 11.6 s, sys: 1.15 s, total: 12.8 s\n",
      "Wall time: 12.7 s\n"
     ]
    },
    {
     "data": {
      "text/plain": [
       "588599904379.61"
      ]
     },
     "execution_count": 148,
     "metadata": {},
     "output_type": "execute_result"
    }
   ],
   "source": [
    "%time df_hdf['Total Profit'].sum().compute()"
   ]
  },
  {
   "cell_type": "markdown",
   "metadata": {},
   "source": [
    "Sadly they are about the same, or perhaps even slower.\n",
    "\n",
    "The culprit here are the columns which is of object dtype and thus hard to store efficiently. There are two problems here:\n",
    " - How do we store text data like names efficiently on disk?\n",
    " - Why did we have to read the names column when all we wanted was amount?  "
   ]
  }
 ],
 "metadata": {
  "kernelspec": {
   "display_name": "Python 3",
   "language": "python",
   "name": "python3"
  },
  "language_info": {
   "codemirror_mode": {
    "name": "ipython",
    "version": 3
   },
   "file_extension": ".py",
   "mimetype": "text/x-python",
   "name": "python",
   "nbconvert_exporter": "python",
   "pygments_lexer": "ipython3",
   "version": "3.6.5"
  }
 },
 "nbformat": 4,
 "nbformat_minor": 2
}
